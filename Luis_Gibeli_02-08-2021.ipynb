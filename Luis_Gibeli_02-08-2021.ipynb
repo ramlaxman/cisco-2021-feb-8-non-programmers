{
 "cells": [
  {
   "cell_type": "code",
   "execution_count": 2,
   "id": "handmade-olive",
   "metadata": {},
   "outputs": [
    {
     "name": "stdout",
     "output_type": "stream",
     "text": [
      "Hello Folks from Gibeli\n"
     ]
    }
   ],
   "source": [
    "print(\"Hello Folks from Gibeli\")"
   ]
  },
  {
   "cell_type": "code",
   "execution_count": 3,
   "id": "completed-hunter",
   "metadata": {},
   "outputs": [
    {
     "ename": "NameError",
     "evalue": "name 'Gibeli' is not defined",
     "output_type": "error",
     "traceback": [
      "\u001b[0;31m---------------------------------------------------------------------------\u001b[0m",
      "\u001b[0;31mNameError\u001b[0m                                 Traceback (most recent call last)",
      "\u001b[0;32m<ipython-input-3-2a600f3e4dd2>\u001b[0m in \u001b[0;36m<module>\u001b[0;34m\u001b[0m\n\u001b[0;32m----> 1\u001b[0;31m \u001b[0mname\u001b[0m \u001b[0;34m=\u001b[0m \u001b[0mGibeli\u001b[0m\u001b[0;34m\u001b[0m\u001b[0;34m\u001b[0m\u001b[0m\n\u001b[0m\u001b[1;32m      2\u001b[0m \u001b[0;34m\u001b[0m\u001b[0m\n\u001b[1;32m      3\u001b[0m \u001b[0mprint\u001b[0m\u001b[0;34m(\u001b[0m\u001b[0;34m\"name\"\u001b[0m\u001b[0;34m)\u001b[0m\u001b[0;34m\u001b[0m\u001b[0;34m\u001b[0m\u001b[0m\n",
      "\u001b[0;31mNameError\u001b[0m: name 'Gibeli' is not defined"
     ]
    }
   ],
   "source": [
    "name = Gibeli\n",
    "\n",
    "print(\"name\")"
   ]
  },
  {
   "cell_type": "code",
   "execution_count": 4,
   "id": "previous-session",
   "metadata": {},
   "outputs": [
    {
     "name": "stdout",
     "output_type": "stream",
     "text": [
      "name\n"
     ]
    }
   ],
   "source": [
    "name == \"Gibeli\"\n",
    "print(\"name\")"
   ]
  },
  {
   "cell_type": "code",
   "execution_count": 5,
   "id": "sacred-appearance",
   "metadata": {},
   "outputs": [
    {
     "name": "stdout",
     "output_type": "stream",
     "text": [
      "name\n"
     ]
    }
   ],
   "source": [
    "name == Gibeli\n",
    "print(\"name\")"
   ]
  },
  {
   "cell_type": "code",
   "execution_count": 6,
   "id": "pursuant-makeup",
   "metadata": {},
   "outputs": [
    {
     "ename": "NameError",
     "evalue": "name 'Gibeli' is not defined",
     "output_type": "error",
     "traceback": [
      "\u001b[0;31m---------------------------------------------------------------------------\u001b[0m",
      "\u001b[0;31mNameError\u001b[0m                                 Traceback (most recent call last)",
      "\u001b[0;32m<ipython-input-6-2b064de54d9d>\u001b[0m in \u001b[0;36m<module>\u001b[0;34m\u001b[0m\n\u001b[0;32m----> 1\u001b[0;31m \u001b[0mname\u001b[0m \u001b[0;34m==\u001b[0m \u001b[0mGibeli\u001b[0m\u001b[0;34m\u001b[0m\u001b[0;34m\u001b[0m\u001b[0m\n\u001b[0m\u001b[1;32m      2\u001b[0m \u001b[0mprint\u001b[0m\u001b[0;34m(\u001b[0m\u001b[0;34m\"name\"\u001b[0m\u001b[0;34m)\u001b[0m\u001b[0;34m\u001b[0m\u001b[0;34m\u001b[0m\u001b[0m\n",
      "\u001b[0;31mNameError\u001b[0m: name 'Gibeli' is not defined"
     ]
    }
   ],
   "source": [
    "name == Gibeli\n",
    "print(\"name\")"
   ]
  },
  {
   "cell_type": "code",
   "execution_count": 9,
   "id": "interpreted-quick",
   "metadata": {},
   "outputs": [
    {
     "ename": "NameError",
     "evalue": "name 'Gibeli' is not defined",
     "output_type": "error",
     "traceback": [
      "\u001b[0;31m---------------------------------------------------------------------------\u001b[0m",
      "\u001b[0;31mNameError\u001b[0m                                 Traceback (most recent call last)",
      "\u001b[0;32m<ipython-input-9-c1a20fa526b2>\u001b[0m in \u001b[0;36m<module>\u001b[0;34m\u001b[0m\n\u001b[0;32m----> 1\u001b[0;31m \u001b[0mname\u001b[0m \u001b[0;34m=\u001b[0m \u001b[0mGibeli\u001b[0m\u001b[0;34m\u001b[0m\u001b[0;34m\u001b[0m\u001b[0m\n\u001b[0m\u001b[1;32m      2\u001b[0m \u001b[0mprint\u001b[0m\u001b[0;34m(\u001b[0m\u001b[0;34m\"name\"\u001b[0m\u001b[0;34m)\u001b[0m\u001b[0;34m\u001b[0m\u001b[0;34m\u001b[0m\u001b[0m\n",
      "\u001b[0;31mNameError\u001b[0m: name 'Gibeli' is not defined"
     ]
    }
   ],
   "source": [
    "name = Gibeli\n",
    "print(\"name\")"
   ]
  },
  {
   "cell_type": "code",
   "execution_count": null,
   "id": "floral-afghanistan",
   "metadata": {},
   "outputs": [],
   "source": []
  },
  {
   "cell_type": "code",
   "execution_count": null,
   "id": "pregnant-contract",
   "metadata": {},
   "outputs": [],
   "source": []
  },
  {
   "cell_type": "code",
   "execution_count": 8,
   "id": "minus-tract",
   "metadata": {},
   "outputs": [
    {
     "ename": "SyntaxError",
     "evalue": "EOL while scanning string literal (<ipython-input-8-e7da5513e99e>, line 1)",
     "output_type": "error",
     "traceback": [
      "\u001b[0;36m  File \u001b[0;32m\"<ipython-input-8-e7da5513e99e>\"\u001b[0;36m, line \u001b[0;32m1\u001b[0m\n\u001b[0;31m    name = 'Gibeli''\u001b[0m\n\u001b[0m                    ^\u001b[0m\n\u001b[0;31mSyntaxError\u001b[0m\u001b[0;31m:\u001b[0m EOL while scanning string literal\n"
     ]
    }
   ],
   "source": [
    "name = 'Gibeli''\n",
    "print(name)"
   ]
  },
  {
   "cell_type": "code",
   "execution_count": 10,
   "id": "realistic-breast",
   "metadata": {},
   "outputs": [
    {
     "ename": "SyntaxError",
     "evalue": "EOL while scanning string literal (<ipython-input-10-0fd686628be6>, line 1)",
     "output_type": "error",
     "traceback": [
      "\u001b[0;36m  File \u001b[0;32m\"<ipython-input-10-0fd686628be6>\"\u001b[0;36m, line \u001b[0;32m1\u001b[0m\n\u001b[0;31m    name = 'Gibeli''\u001b[0m\n\u001b[0m                    ^\u001b[0m\n\u001b[0;31mSyntaxError\u001b[0m\u001b[0;31m:\u001b[0m EOL while scanning string literal\n"
     ]
    }
   ],
   "source": [
    "name = 'Gibeli'\n",
    "print('Hello, '+ name)"
   ]
  },
  {
   "cell_type": "code",
   "execution_count": 11,
   "id": "informed-track",
   "metadata": {},
   "outputs": [
    {
     "name": "stdout",
     "output_type": "stream",
     "text": [
      "Hello, Gibeli\n"
     ]
    }
   ],
   "source": [
    "name = 'Gibeli'\n",
    "print('Hello, '+ name)"
   ]
  },
  {
   "cell_type": "code",
   "execution_count": null,
   "id": "herbal-wyoming",
   "metadata": {},
   "outputs": [],
   "source": []
  },
  {
   "cell_type": "code",
   "execution_count": 12,
   "id": "analyzed-beach",
   "metadata": {},
   "outputs": [
    {
     "name": "stdout",
     "output_type": "stream",
     "text": [
      "Hello, Gibeli!\n"
     ]
    }
   ],
   "source": [
    "print ('Hello, '+ name + '!')"
   ]
  },
  {
   "cell_type": "code",
   "execution_count": 13,
   "id": "distant-concentration",
   "metadata": {},
   "outputs": [
    {
     "name": "stdout",
     "output_type": "stream",
     "text": [
      "Gibeli\n"
     ]
    }
   ],
   "source": [
    "name = 'Gibeli'\n",
    "print(name)"
   ]
  },
  {
   "cell_type": "code",
   "execution_count": 14,
   "id": "wired-illness",
   "metadata": {},
   "outputs": [
    {
     "name": "stdout",
     "output_type": "stream",
     "text": [
      "35\n"
     ]
    }
   ],
   "source": [
    "birthyear = 1985\n",
    "age_this_year = 2020 - 1985\n",
    "print (age_this_year)"
   ]
  },
  {
   "cell_type": "code",
   "execution_count": 15,
   "id": "hollywood-proposition",
   "metadata": {},
   "outputs": [
    {
     "name": "stdout",
     "output_type": "stream",
     "text": [
      "36\n"
     ]
    }
   ],
   "source": [
    "age_this_year = 2021 - 1985\n",
    "print (age_this_year)"
   ]
  },
  {
   "cell_type": "code",
   "execution_count": 16,
   "id": "final-material",
   "metadata": {},
   "outputs": [
    {
     "name": "stdout",
     "output_type": "stream",
     "text": [
      "Hello, {name} + !! This year you will be {age_this_year}.\n"
     ]
    }
   ],
   "source": [
    "print ('Hello, {name} + !! This year you will be {age_this_year}.')\n"
   ]
  },
  {
   "cell_type": "code",
   "execution_count": 17,
   "id": "alien-import",
   "metadata": {},
   "outputs": [
    {
     "name": "stdout",
     "output_type": "stream",
     "text": [
      "Hello, Gibeli + !! This year you will be 36.\n"
     ]
    }
   ],
   "source": [
    "print (f'Hello, {name} + !! This year you will be {age_this_year}.')"
   ]
  },
  {
   "cell_type": "code",
   "execution_count": 18,
   "id": "affiliated-biotechnology",
   "metadata": {},
   "outputs": [
    {
     "data": {
      "text/plain": [
       "1"
      ]
     },
     "execution_count": 18,
     "metadata": {},
     "output_type": "execute_result"
    }
   ],
   "source": [
    "y = 100\n",
    "x = 101\n",
    "x-y"
   ]
  },
  {
   "cell_type": "code",
   "execution_count": 19,
   "id": "banner-moderator",
   "metadata": {},
   "outputs": [
    {
     "data": {
      "text/plain": [
       "201"
      ]
     },
     "execution_count": 19,
     "metadata": {},
     "output_type": "execute_result"
    }
   ],
   "source": [
    "x+y"
   ]
  },
  {
   "cell_type": "code",
   "execution_count": 20,
   "id": "impaired-authority",
   "metadata": {},
   "outputs": [
    {
     "name": "stdout",
     "output_type": "stream",
     "text": [
      "digite seu nome: giba\n"
     ]
    }
   ],
   "source": [
    "x = input ('digite seu nome: ')"
   ]
  },
  {
   "cell_type": "code",
   "execution_count": 21,
   "id": "impressive-valuable",
   "metadata": {},
   "outputs": [
    {
     "name": "stdout",
     "output_type": "stream",
     "text": [
      "giba\n"
     ]
    }
   ],
   "source": [
    "print (x)"
   ]
  },
  {
   "cell_type": "code",
   "execution_count": 22,
   "id": "native-charles",
   "metadata": {},
   "outputs": [
    {
     "name": "stdout",
     "output_type": "stream",
     "text": [
      "digite por favor seu nome: Gibeli\n",
      "digite como se sente hoje: Feliz\n",
      "Tudo bem Gibeli ? , Hoje vc esta Feliz\n"
     ]
    }
   ],
   "source": [
    "name = input ('digite por favor seu nome: ')\n",
    "feeling = input ('digite como se sente hoje: ')\n",
    "print (f'Tudo bem {name} ? , Hoje vc esta {feeling}')\n"
   ]
  },
  {
   "cell_type": "code",
   "execution_count": 28,
   "id": "seven-suite",
   "metadata": {},
   "outputs": [
    {
     "name": "stdout",
     "output_type": "stream",
     "text": [
      "onde vc trabalha ?Cisco\n",
      "show de bola, tmj\n"
     ]
    }
   ],
   "source": [
    "company = input ('onde vc trabalha ?')\n",
    "if company == 'Cisco':\n",
    "    print ('show de bola, tmj')\n",
    "else:\n",
    "    print ('find a job in cisco careear')\n"
   ]
  },
  {
   "cell_type": "code",
   "execution_count": 35,
   "id": "tight-consortium",
   "metadata": {},
   "outputs": [
    {
     "name": "stdout",
     "output_type": "stream",
     "text": [
      "Onde vc trabalha hoje?em casa\n",
      "hope you are happy in em casa\n"
     ]
    }
   ],
   "source": [
    "company = input ('Onde vc trabalha hoje?')\n",
    "if company == 'cisco':\n",
    "    print ('amazing we are collegue')\n",
    "    \n",
    "elif company == ('att'):\n",
    "    print ('cool. I worked int ATT, too.')\n",
    "else:\n",
    "    print (f'hope you are happy in {company}')"
   ]
  },
  {
   "cell_type": "code",
   "execution_count": 54,
   "id": "enclosed-torture",
   "metadata": {},
   "outputs": [
    {
     "name": "stdout",
     "output_type": "stream",
     "text": [
      "qual seu nome?Giba\n",
      "qual o nome da empresa que trabalha?cisco\n",
      "Ola Giba vc nao é um colega pois trabalha no cisco\n"
     ]
    }
   ],
   "source": [
    "name = input ('qual seu nome?')\n",
    "company = input ('qual o nome da empresa que trabalha?')\n",
    "\n",
    "\n",
    "\n",
    "if name == 'luis' and company == 'cisco':\n",
    "    print ('WOW, é vc mesmo!')\n",
    "\n",
    "elif name == 'luis':\n",
    "          print (f'Ola {name} vc é um rival')\n",
    "           \n",
    "elif company == 'cisco':\n",
    "        print (f'Ola {name} vc nao é um colega ainda, nos vemos na {company}')\n",
    "\n",
    "else: \n",
    "          print (f'take care {name} on you job in {company}')"
   ]
  },
  {
   "cell_type": "code",
   "execution_count": 55,
   "id": "incident-humanitarian",
   "metadata": {},
   "outputs": [
    {
     "data": {
      "text/plain": [
       "True"
      ]
     },
     "execution_count": 55,
     "metadata": {},
     "output_type": "execute_result"
    }
   ],
   "source": [
    "1 < 10 "
   ]
  },
  {
   "cell_type": "code",
   "execution_count": 58,
   "id": "lined-company",
   "metadata": {},
   "outputs": [
    {
     "ename": "SyntaxError",
     "evalue": "EOL while scanning string literal (<ipython-input-58-2c46be3760cf>, line 1)",
     "output_type": "error",
     "traceback": [
      "\u001b[0;36m  File \u001b[0;32m\"<ipython-input-58-2c46be3760cf>\"\u001b[0;36m, line \u001b[0;32m1\u001b[0m\n\u001b[0;31m    'alfa' < 'beta''\u001b[0m\n\u001b[0m                    ^\u001b[0m\n\u001b[0;31mSyntaxError\u001b[0m\u001b[0;31m:\u001b[0m EOL while scanning string literal\n"
     ]
    }
   ],
   "source": [
    "'alfa' < 'beta''\n"
   ]
  },
  {
   "cell_type": "code",
   "execution_count": 57,
   "id": "proved-gibson",
   "metadata": {},
   "outputs": [
    {
     "ename": "NameError",
     "evalue": "name 'a' is not defined",
     "output_type": "error",
     "traceback": [
      "\u001b[0;31m---------------------------------------------------------------------------\u001b[0m",
      "\u001b[0;31mNameError\u001b[0m                                 Traceback (most recent call last)",
      "\u001b[0;32m<ipython-input-57-cf2f77485b5e>\u001b[0m in \u001b[0;36m<module>\u001b[0;34m\u001b[0m\n\u001b[0;32m----> 1\u001b[0;31m \u001b[0ma\u001b[0m \u001b[0;34m<\u001b[0m \u001b[0mb\u001b[0m\u001b[0;34m\u001b[0m\u001b[0;34m\u001b[0m\u001b[0m\n\u001b[0m",
      "\u001b[0;31mNameError\u001b[0m: name 'a' is not defined"
     ]
    }
   ],
   "source": [
    "a < b "
   ]
  },
  {
   "cell_type": "code",
   "execution_count": 59,
   "id": "centered-bobby",
   "metadata": {},
   "outputs": [
    {
     "data": {
      "text/plain": [
       "True"
      ]
     },
     "execution_count": 59,
     "metadata": {},
     "output_type": "execute_result"
    }
   ],
   "source": [
    "'alfa'< 'betas'"
   ]
  },
  {
   "cell_type": "code",
   "execution_count": null,
   "id": "fatal-blocking",
   "metadata": {},
   "outputs": [],
   "source": []
  }
 ],
 "metadata": {
  "kernelspec": {
   "display_name": "Python 3",
   "language": "python",
   "name": "python3"
  },
  "language_info": {
   "codemirror_mode": {
    "name": "ipython",
    "version": 3
   },
   "file_extension": ".py",
   "mimetype": "text/x-python",
   "name": "python",
   "nbconvert_exporter": "python",
   "pygments_lexer": "ipython3",
   "version": "3.8.6"
  }
 },
 "nbformat": 4,
 "nbformat_minor": 5
}
