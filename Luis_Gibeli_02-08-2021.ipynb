{
 "cells": [
  {
   "cell_type": "code",
   "execution_count": 2,
   "id": "colored-gregory",
   "metadata": {},
   "outputs": [
    {
     "name": "stdout",
     "output_type": "stream",
     "text": [
      "Hello Folks from Gibeli\n"
     ]
    }
   ],
   "source": [
    "print(\"Hello Folks from Gibeli\")"
   ]
  },
  {
   "cell_type": "code",
   "execution_count": 3,
   "id": "sublime-midnight",
   "metadata": {},
   "outputs": [
    {
     "ename": "NameError",
     "evalue": "name 'Gibeli' is not defined",
     "output_type": "error",
     "traceback": [
      "\u001b[0;31m---------------------------------------------------------------------------\u001b[0m",
      "\u001b[0;31mNameError\u001b[0m                                 Traceback (most recent call last)",
      "\u001b[0;32m<ipython-input-3-2a600f3e4dd2>\u001b[0m in \u001b[0;36m<module>\u001b[0;34m\u001b[0m\n\u001b[0;32m----> 1\u001b[0;31m \u001b[0mname\u001b[0m \u001b[0;34m=\u001b[0m \u001b[0mGibeli\u001b[0m\u001b[0;34m\u001b[0m\u001b[0;34m\u001b[0m\u001b[0m\n\u001b[0m\u001b[1;32m      2\u001b[0m \u001b[0;34m\u001b[0m\u001b[0m\n\u001b[1;32m      3\u001b[0m \u001b[0mprint\u001b[0m\u001b[0;34m(\u001b[0m\u001b[0;34m\"name\"\u001b[0m\u001b[0;34m)\u001b[0m\u001b[0;34m\u001b[0m\u001b[0;34m\u001b[0m\u001b[0m\n",
      "\u001b[0;31mNameError\u001b[0m: name 'Gibeli' is not defined"
     ]
    }
   ],
   "source": [
    "name = Gibeli\n",
    "\n",
    "print(\"name\")"
   ]
  },
  {
   "cell_type": "code",
   "execution_count": 4,
   "id": "sought-stake",
   "metadata": {},
   "outputs": [
    {
     "name": "stdout",
     "output_type": "stream",
     "text": [
      "name\n"
     ]
    }
   ],
   "source": [
    "name == \"Gibeli\"\n",
    "print(\"name\")"
   ]
  },
  {
   "cell_type": "code",
   "execution_count": 5,
   "id": "productive-reservation",
   "metadata": {},
   "outputs": [
    {
     "name": "stdout",
     "output_type": "stream",
     "text": [
      "name\n"
     ]
    }
   ],
   "source": [
    "name == Gibeli\n",
    "print(\"name\")"
   ]
  },
  {
   "cell_type": "code",
   "execution_count": 6,
   "id": "dirty-workstation",
   "metadata": {},
   "outputs": [
    {
     "ename": "NameError",
     "evalue": "name 'Gibeli' is not defined",
     "output_type": "error",
     "traceback": [
      "\u001b[0;31m---------------------------------------------------------------------------\u001b[0m",
      "\u001b[0;31mNameError\u001b[0m                                 Traceback (most recent call last)",
      "\u001b[0;32m<ipython-input-6-2b064de54d9d>\u001b[0m in \u001b[0;36m<module>\u001b[0;34m\u001b[0m\n\u001b[0;32m----> 1\u001b[0;31m \u001b[0mname\u001b[0m \u001b[0;34m==\u001b[0m \u001b[0mGibeli\u001b[0m\u001b[0;34m\u001b[0m\u001b[0;34m\u001b[0m\u001b[0m\n\u001b[0m\u001b[1;32m      2\u001b[0m \u001b[0mprint\u001b[0m\u001b[0;34m(\u001b[0m\u001b[0;34m\"name\"\u001b[0m\u001b[0;34m)\u001b[0m\u001b[0;34m\u001b[0m\u001b[0;34m\u001b[0m\u001b[0m\n",
      "\u001b[0;31mNameError\u001b[0m: name 'Gibeli' is not defined"
     ]
    }
   ],
   "source": [
    "name == Gibeli\n",
    "print(\"name\")"
   ]
  },
  {
   "cell_type": "code",
   "execution_count": 9,
   "id": "appreciated-pierre",
   "metadata": {},
   "outputs": [
    {
     "ename": "NameError",
     "evalue": "name 'Gibeli' is not defined",
     "output_type": "error",
     "traceback": [
      "\u001b[0;31m---------------------------------------------------------------------------\u001b[0m",
      "\u001b[0;31mNameError\u001b[0m                                 Traceback (most recent call last)",
      "\u001b[0;32m<ipython-input-9-c1a20fa526b2>\u001b[0m in \u001b[0;36m<module>\u001b[0;34m\u001b[0m\n\u001b[0;32m----> 1\u001b[0;31m \u001b[0mname\u001b[0m \u001b[0;34m=\u001b[0m \u001b[0mGibeli\u001b[0m\u001b[0;34m\u001b[0m\u001b[0;34m\u001b[0m\u001b[0m\n\u001b[0m\u001b[1;32m      2\u001b[0m \u001b[0mprint\u001b[0m\u001b[0;34m(\u001b[0m\u001b[0;34m\"name\"\u001b[0m\u001b[0;34m)\u001b[0m\u001b[0;34m\u001b[0m\u001b[0;34m\u001b[0m\u001b[0m\n",
      "\u001b[0;31mNameError\u001b[0m: name 'Gibeli' is not defined"
     ]
    }
   ],
   "source": [
    "name = Gibeli\n",
    "print(\"name\")"
   ]
  },
  {
   "cell_type": "code",
   "execution_count": null,
   "id": "separate-valentine",
   "metadata": {},
   "outputs": [],
   "source": []
  },
  {
   "cell_type": "code",
   "execution_count": null,
   "id": "guilty-forwarding",
   "metadata": {},
   "outputs": [],
   "source": []
  },
  {
   "cell_type": "code",
   "execution_count": 8,
   "id": "dependent-municipality",
   "metadata": {},
   "outputs": [
    {
     "ename": "SyntaxError",
     "evalue": "EOL while scanning string literal (<ipython-input-8-e7da5513e99e>, line 1)",
     "output_type": "error",
     "traceback": [
      "\u001b[0;36m  File \u001b[0;32m\"<ipython-input-8-e7da5513e99e>\"\u001b[0;36m, line \u001b[0;32m1\u001b[0m\n\u001b[0;31m    name = 'Gibeli''\u001b[0m\n\u001b[0m                    ^\u001b[0m\n\u001b[0;31mSyntaxError\u001b[0m\u001b[0;31m:\u001b[0m EOL while scanning string literal\n"
     ]
    }
   ],
   "source": [
    "name = 'Gibeli''\n",
    "print(name)"
   ]
  },
  {
   "cell_type": "code",
   "execution_count": 10,
   "id": "favorite-snowboard",
   "metadata": {},
   "outputs": [
    {
     "ename": "SyntaxError",
     "evalue": "EOL while scanning string literal (<ipython-input-10-0fd686628be6>, line 1)",
     "output_type": "error",
     "traceback": [
      "\u001b[0;36m  File \u001b[0;32m\"<ipython-input-10-0fd686628be6>\"\u001b[0;36m, line \u001b[0;32m1\u001b[0m\n\u001b[0;31m    name = 'Gibeli''\u001b[0m\n\u001b[0m                    ^\u001b[0m\n\u001b[0;31mSyntaxError\u001b[0m\u001b[0;31m:\u001b[0m EOL while scanning string literal\n"
     ]
    }
   ],
   "source": [
    "name = 'Gibeli'\n",
    "print('Hello, '+ name)"
   ]
  },
  {
   "cell_type": "code",
   "execution_count": 11,
   "id": "tropical-snake",
   "metadata": {},
   "outputs": [
    {
     "name": "stdout",
     "output_type": "stream",
     "text": [
      "Hello, Gibeli\n"
     ]
    }
   ],
   "source": [
    "name = 'Gibeli'\n",
    "print('Hello, '+ name)"
   ]
  },
  {
   "cell_type": "code",
   "execution_count": null,
   "id": "through-briefing",
   "metadata": {},
   "outputs": [],
   "source": []
  },
  {
   "cell_type": "code",
   "execution_count": 12,
   "id": "reduced-bishop",
   "metadata": {},
   "outputs": [
    {
     "name": "stdout",
     "output_type": "stream",
     "text": [
      "Hello, Gibeli!\n"
     ]
    }
   ],
   "source": [
    "print ('Hello, '+ name + '!')"
   ]
  },
  {
   "cell_type": "code",
   "execution_count": 13,
   "id": "indoor-zambia",
   "metadata": {},
   "outputs": [
    {
     "name": "stdout",
     "output_type": "stream",
     "text": [
      "Gibeli\n"
     ]
    }
   ],
   "source": [
    "name = 'Gibeli'\n",
    "print(name)"
   ]
  },
  {
   "cell_type": "code",
   "execution_count": 14,
   "id": "computational-rebate",
   "metadata": {},
   "outputs": [
    {
     "name": "stdout",
     "output_type": "stream",
     "text": [
      "35\n"
     ]
    }
   ],
   "source": [
    "birthyear = 1985\n",
    "age_this_year = 2020 - 1985\n",
    "print (age_this_year)"
   ]
  },
  {
   "cell_type": "code",
   "execution_count": 15,
   "id": "lesbian-engineer",
   "metadata": {},
   "outputs": [
    {
     "name": "stdout",
     "output_type": "stream",
     "text": [
      "36\n"
     ]
    }
   ],
   "source": [
    "age_this_year = 2021 - 1985\n",
    "print (age_this_year)"
   ]
  },
  {
   "cell_type": "code",
   "execution_count": 16,
   "id": "requested-concentrate",
   "metadata": {},
   "outputs": [
    {
     "name": "stdout",
     "output_type": "stream",
     "text": [
      "Hello, {name} + !! This year you will be {age_this_year}.\n"
     ]
    }
   ],
   "source": [
    "print ('Hello, {name} + !! This year you will be {age_this_year}.')\n"
   ]
  },
  {
   "cell_type": "code",
   "execution_count": 17,
   "id": "welsh-african",
   "metadata": {},
   "outputs": [
    {
     "name": "stdout",
     "output_type": "stream",
     "text": [
      "Hello, Gibeli + !! This year you will be 36.\n"
     ]
    }
   ],
   "source": [
    "print (f'Hello, {name} + !! This year you will be {age_this_year}.')"
   ]
  },
  {
   "cell_type": "code",
   "execution_count": 18,
   "id": "sixth-appreciation",
   "metadata": {},
   "outputs": [
    {
     "data": {
      "text/plain": [
       "1"
      ]
     },
     "execution_count": 18,
     "metadata": {},
     "output_type": "execute_result"
    }
   ],
   "source": [
    "y = 100\n",
    "x = 101\n",
    "x-y"
   ]
  },
  {
   "cell_type": "code",
   "execution_count": 19,
   "id": "sublime-tourist",
   "metadata": {},
   "outputs": [
    {
     "data": {
      "text/plain": [
       "201"
      ]
     },
     "execution_count": 19,
     "metadata": {},
     "output_type": "execute_result"
    }
   ],
   "source": [
    "x+y"
   ]
  },
  {
   "cell_type": "code",
   "execution_count": 20,
   "id": "senior-entrance",
   "metadata": {},
   "outputs": [
    {
     "name": "stdout",
     "output_type": "stream",
     "text": [
      "digite seu nome: giba\n"
     ]
    }
   ],
   "source": [
    "x = input ('digite seu nome: ')"
   ]
  },
  {
   "cell_type": "code",
   "execution_count": 21,
   "id": "artistic-telescope",
   "metadata": {},
   "outputs": [
    {
     "name": "stdout",
     "output_type": "stream",
     "text": [
      "giba\n"
     ]
    }
   ],
   "source": [
    "print (x)"
   ]
  },
  {
   "cell_type": "code",
   "execution_count": 22,
   "id": "stone-butler",
   "metadata": {},
   "outputs": [
    {
     "name": "stdout",
     "output_type": "stream",
     "text": [
      "digite por favor seu nome: Gibeli\n",
      "digite como se sente hoje: Feliz\n",
      "Tudo bem Gibeli ? , Hoje vc esta Feliz\n"
     ]
    }
   ],
   "source": [
    "name = input ('digite por favor seu nome: ')\n",
    "feeling = input ('digite como se sente hoje: ')\n",
    "print (f'Tudo bem {name} ? , Hoje vc esta {feeling}')\n"
   ]
  },
  {
   "cell_type": "code",
   "execution_count": 28,
   "id": "green-yemen",
   "metadata": {},
   "outputs": [
    {
     "name": "stdout",
     "output_type": "stream",
     "text": [
      "onde vc trabalha ?Cisco\n",
      "show de bola, tmj\n"
     ]
    }
   ],
   "source": [
    "company = input ('onde vc trabalha ?')\n",
    "if company == 'Cisco':\n",
    "    print ('show de bola, tmj')\n",
    "else:\n",
    "    print ('find a job in cisco careear')\n"
   ]
  },
  {
   "cell_type": "code",
   "execution_count": 35,
   "id": "native-prefix",
   "metadata": {},
   "outputs": [
    {
     "name": "stdout",
     "output_type": "stream",
     "text": [
      "Onde vc trabalha hoje?em casa\n",
      "hope you are happy in em casa\n"
     ]
    }
   ],
   "source": [
    "company = input ('Onde vc trabalha hoje?')\n",
    "if company == 'cisco':\n",
    "    print ('amazing we are collegue')\n",
    "    \n",
    "elif company == ('att'):\n",
    "    print ('cool. I worked int ATT, too.')\n",
    "else:\n",
    "    print (f'hope you are happy in {company}')"
   ]
  },
  {
   "cell_type": "code",
   "execution_count": 54,
   "id": "rubber-killing",
   "metadata": {},
   "outputs": [
    {
     "name": "stdout",
     "output_type": "stream",
     "text": [
      "qual seu nome?Giba\n",
      "qual o nome da empresa que trabalha?cisco\n",
      "Ola Giba vc nao é um colega pois trabalha no cisco\n"
     ]
    }
   ],
   "source": [
    "name = input ('qual seu nome?')\n",
    "company = input ('qual o nome da empresa que trabalha?')\n",
    "\n",
    "\n",
    "\n",
    "if name == 'luis' and company == 'cisco':\n",
    "    print ('WOW, é vc mesmo!')\n",
    "\n",
    "elif name == 'luis':\n",
    "          print (f'Ola {name} vc é um rival')\n",
    "           \n",
    "elif company == 'cisco':\n",
    "        print (f'Ola {name} vc nao é um colega ainda, nos vemos na {company}')\n",
    "\n",
    "else: \n",
    "          print (f'take care {name} on you job in {company}')"
   ]
  },
  {
   "cell_type": "code",
   "execution_count": 55,
   "id": "fifty-norman",
   "metadata": {},
   "outputs": [
    {
     "data": {
      "text/plain": [
       "True"
      ]
     },
     "execution_count": 55,
     "metadata": {},
     "output_type": "execute_result"
    }
   ],
   "source": [
    "1 < 10 "
   ]
  },
  {
   "cell_type": "code",
   "execution_count": 58,
   "id": "cleared-raleigh",
   "metadata": {},
   "outputs": [
    {
     "ename": "SyntaxError",
     "evalue": "EOL while scanning string literal (<ipython-input-58-2c46be3760cf>, line 1)",
     "output_type": "error",
     "traceback": [
      "\u001b[0;36m  File \u001b[0;32m\"<ipython-input-58-2c46be3760cf>\"\u001b[0;36m, line \u001b[0;32m1\u001b[0m\n\u001b[0;31m    'alfa' < 'beta''\u001b[0m\n\u001b[0m                    ^\u001b[0m\n\u001b[0;31mSyntaxError\u001b[0m\u001b[0;31m:\u001b[0m EOL while scanning string literal\n"
     ]
    }
   ],
   "source": [
    "'alfa' < 'beta''\n"
   ]
  },
  {
   "cell_type": "code",
   "execution_count": 57,
   "id": "caring-perfume",
   "metadata": {},
   "outputs": [
    {
     "ename": "NameError",
     "evalue": "name 'a' is not defined",
     "output_type": "error",
     "traceback": [
      "\u001b[0;31m---------------------------------------------------------------------------\u001b[0m",
      "\u001b[0;31mNameError\u001b[0m                                 Traceback (most recent call last)",
      "\u001b[0;32m<ipython-input-57-cf2f77485b5e>\u001b[0m in \u001b[0;36m<module>\u001b[0;34m\u001b[0m\n\u001b[0;32m----> 1\u001b[0;31m \u001b[0ma\u001b[0m \u001b[0;34m<\u001b[0m \u001b[0mb\u001b[0m\u001b[0;34m\u001b[0m\u001b[0;34m\u001b[0m\u001b[0m\n\u001b[0m",
      "\u001b[0;31mNameError\u001b[0m: name 'a' is not defined"
     ]
    }
   ],
   "source": [
    "a < b "
   ]
  },
  {
   "cell_type": "code",
   "execution_count": 59,
   "id": "hollow-czech",
   "metadata": {},
   "outputs": [
    {
     "data": {
      "text/plain": [
       "True"
      ]
     },
     "execution_count": 59,
     "metadata": {},
     "output_type": "execute_result"
    }
   ],
   "source": [
    "'alfa'< 'betas'"
   ]
  },
  {
   "cell_type": "code",
   "execution_count": 76,
   "id": "anticipated-hamilton",
   "metadata": {},
   "outputs": [
    {
     "name": "stdout",
     "output_type": "stream",
     "text": [
      "digite a primeira palavra:3aaa\n",
      "digite a segunda palavra:3aaa\n",
      "as duas palavras3aaa e 3aaa sao identicas\n"
     ]
    }
   ],
   "source": [
    "first = input ('digite a primeira palavra:')\n",
    "second = input ('digite a segunda palavra:')\n",
    "\n",
    "if first < second :\n",
    "    print (f'{first} vem antes que {second} no alfabeto')\n",
    "   \n",
    "\n",
    "\n",
    "elif first > second:\n",
    "            print (f'{first} vem depois que {second} no alfabeto')\n",
    "\n",
    "else:\n",
    "     print (f'as duas palavras{first} e {second} sao identicas')"
   ]
  },
  {
   "cell_type": "code",
   "execution_count": 23,
   "id": "solved-exchange",
   "metadata": {},
   "outputs": [
    {
     "name": "stdout",
     "output_type": "stream",
     "text": [
      "Random Number: 28\n",
      "Digite um numero de (0 a 100)1000\n",
      "Guess Number: 1000\n",
      "to High\n"
     ]
    }
   ],
   "source": [
    "import random\n",
    "number = random.randint (0,100)\n",
    "print(f'Random Number: {number}') \n",
    "\n",
    "\n",
    "user_guess = input ('Digite um numero de (0 a 100)')\n",
    "\n",
    "print(f'Guess Number: {user_guess}')\n",
    "user_guess = int(user_guess)\n",
    "\n",
    "if number > user_guess:\n",
    "    print('TO LOW')\n",
    "\n",
    "elif number < user_guess:\n",
    "    print ('to High')\n",
    "else:\n",
    "    print ('Ah Muleke, GOT IT')\n",
    "    \n",
    "\n"
   ]
  },
  {
   "cell_type": "code",
   "execution_count": null,
   "id": "expensive-tablet",
   "metadata": {},
   "outputs": [],
   "source": []
  },
  {
   "cell_type": "code",
   "execution_count": 37,
   "id": "optical-bermuda",
   "metadata": {},
   "outputs": [
    {
     "name": "stdout",
     "output_type": "stream",
     "text": [
      "Informe o primeiro numero: 10\n",
      "Informe o segundo numero: 1\n",
      "Informe um operador + ou -: *\n",
      "error =L\n"
     ]
    }
   ],
   "source": [
    "num1 = input ('Informe o primeiro numero: ')\n",
    "num2 = input ('Informe o segundo numero: ')\n",
    "operator = input ('Informe um operador + ou -: ')\n",
    "\n",
    "\n",
    "num1 = int(num1)\n",
    "num2 = int(num2)\n",
    "\n",
    "\n",
    "if operator == '+':\n",
    "    print (num1+num2)\n",
    "elif operator == '-':\n",
    "    print (num1-num2)\n",
    "else:\n",
    "    print ('error =L')\n",
    "\n"
   ]
  },
  {
   "cell_type": "code",
   "execution_count": 1,
   "id": "breeding-female",
   "metadata": {},
   "outputs": [
    {
     "name": "stdout",
     "output_type": "stream",
     "text": [
      "Enter a string: 10\n",
      "Enter a index: 10\n",
      " 10 to high, insert a value less than or equal 1\n"
     ]
    }
   ],
   "source": [
    "s= input ('Enter a string: ')\n",
    "i= input ('Enter a index: ')\n",
    "i=int(i)\n",
    "\n",
    "size= len(s)-1 \n",
    "#print (size)\n",
    "\n",
    "if i > size:\n",
    "    print (f' {i} to high, insert a value less than or equal {size}')\n",
    "else:\n",
    "    print (f' the caracter defined according index is :')\n",
    "    print (s[i])\n",
    "    \n",
    "    "
   ]
  },
  {
   "cell_type": "code",
   "execution_count": 2,
   "id": "dynamic-daisy",
   "metadata": {},
   "outputs": [
    {
     "name": "stdout",
     "output_type": "stream",
     "text": [
      "Friendly-traceback installed.\n"
     ]
    }
   ],
   "source": [
    "from friendly_traceback.ipython import *\n"
   ]
  },
  {
   "cell_type": "code",
   "execution_count": 10,
   "id": "black-baghdad",
   "metadata": {},
   "outputs": [
    {
     "name": "stdout",
     "output_type": "stream",
     "text": [
      "Enter your birth year: 1985\n",
      "Which birthday shoul we calc for you? 0\n",
      " That will be in 1985\n"
     ]
    }
   ],
   "source": [
    "#birthday calc program\n",
    "from friendly_traceback.ipython import *\n",
    "\n",
    "year = input ('Enter your birth year: ')\n",
    "calc = input ('Which birthday shoul we calc for you? ')\n",
    "              \n",
    "year = int(year)\n",
    "calc = int(calc)\n",
    "\n",
    "math = year + calc\n",
    "              \n",
    "if calc > 100:\n",
    "    print (f'WOW, congrats on reaching {calc}')\n",
    "elif calc < 0:\n",
    "    print (f'Hey, you have to born first')\n",
    "else:\n",
    "    print (f' That will be in {math}')\n",
    "\n"
   ]
  },
  {
   "cell_type": "code",
   "execution_count": 18,
   "id": "trying-functionality",
   "metadata": {},
   "outputs": [
    {
     "name": "stdout",
     "output_type": "stream",
     "text": [
      "Enter a word in English: compute\n",
      "omputecay\n"
     ]
    }
   ],
   "source": [
    "#PIG Translator English\n",
    "from friendly_traceback.ipython import *\n",
    "word = input ('Enter a word in English: ')\n",
    "\n",
    "\n",
    "if word[0] in 'aeiou': \n",
    "    print (f'{word}way')\n",
    "else:\n",
    "    print (f'{word[1:]}{word[0]}ay')\n",
    "\n"
   ]
  },
  {
   "cell_type": "code",
   "execution_count": 9,
   "id": "distributed-bermuda",
   "metadata": {},
   "outputs": [
    {
     "data": {
      "text/plain": [
       "'o'"
      ]
     },
     "execution_count": 9,
     "metadata": {},
     "output_type": "execute_result"
    }
   ],
   "source": [
    "from friendly_traceback.ipython import *\n",
    "word = 'coca'\n",
    "word[1]"
   ]
  },
  {
   "cell_type": "code",
   "execution_count": 53,
   "id": "mysterious-memory",
   "metadata": {},
   "outputs": [
    {
     "name": "stdout",
     "output_type": "stream",
     "text": [
      "Enter a first number: abc\n",
      "Enter a second number: cde\n",
      "abc is not a number\n",
      "cde is not a number\n"
     ]
    }
   ],
   "source": [
    "from friendly_traceback.ipython import *\n",
    "first = input ('Enter a first number: ')\n",
    "second = input ('Enter a second number: ')\n",
    "\n",
    "\n",
    "if first.isdigit() and second.isdigit() == True:\n",
    "    first = int(first)\n",
    "    second = int(second)\n",
    "    print(f'{first}+{second}={first+second}')\n",
    "    \n",
    "else:\n",
    "    if not first.isdigit():\n",
    "        print(f'{first} is not a number')\n",
    "    \n",
    "    if not second.isdigit():\n",
    "        print(f'{second} is not a number')    \n",
    "\n",
    "\n",
    "\n"
   ]
  },
  {
   "cell_type": "code",
   "execution_count": 51,
   "id": "medium-minutes",
   "metadata": {},
   "outputs": [
    {
     "data": {
      "text/plain": [
       "2"
      ]
     },
     "execution_count": 51,
     "metadata": {},
     "output_type": "execute_result"
    }
   ],
   "source": [
    "1+1"
   ]
  },
  {
   "cell_type": "code",
   "execution_count": 57,
   "id": "legendary-measure",
   "metadata": {},
   "outputs": [
    {
     "name": "stdout",
     "output_type": "stream",
     "text": [
      "Enter your name:     gibeli\n",
      "Hellogibeli\n"
     ]
    }
   ],
   "source": [
    "name = input ('Enter your name:')\n",
    "name = name.strip()\n",
    "print (f'Hello {name}')"
   ]
  },
  {
   "cell_type": "code",
   "execution_count": 58,
   "id": "smart-glory",
   "metadata": {},
   "outputs": [
    {
     "name": "stdout",
     "output_type": "stream",
     "text": [
      "Enter your name:     gibeli\n",
      "Hello gibeli\n"
     ]
    }
   ],
   "source": [
    "name = input ('Enter your name:').strip()\n",
    "print (f'Hello {name}')"
   ]
  },
  {
   "cell_type": "code",
   "execution_count": 66,
   "id": "standing-serum",
   "metadata": {},
   "outputs": [
    {
     "name": "stdout",
     "output_type": "stream",
     "text": [
      "G\n",
      "I\n",
      "B\n",
      "E\n",
      "L\n",
      "I\n"
     ]
    }
   ],
   "source": [
    "#gile = input ('Qual sua principal caracteristica?')\n",
    "s = 'gibeli'\n",
    "for test in s: \n",
    "    print(test.upper())"
   ]
  },
  {
   "cell_type": "code",
   "execution_count": 87,
   "id": "behavioral-portal",
   "metadata": {},
   "outputs": [
    {
     "name": "stdout",
     "output_type": "stream",
     "text": [
      "enter a string: hello123!\n",
      "vowels = 2\n",
      "digits = 3\n",
      "others = 4\n"
     ]
    }
   ],
   "source": [
    "vowels = 0\n",
    "digits = 0\n",
    "others = 0\n",
    "\n",
    "user_input = input ('enter a string: ')\n",
    "\n",
    "for each_character in user_input:\n",
    "    if each_character in 'aeiou':\n",
    "        vowels+=1\n",
    "    elif each_character.isdigit():\n",
    "        digits+=1\n",
    "    else:\n",
    "        others+=1\n",
    "\n",
    "print(f'vowels = {vowels}')\n",
    "print(f'digits = {digits}')\n",
    "print(f'others = {others}')"
   ]
  },
  {
   "cell_type": "code",
   "execution_count": 78,
   "id": "retired-acrobat",
   "metadata": {},
   "outputs": [
    {
     "data": {
      "text/plain": [
       "101"
      ]
     },
     "execution_count": 78,
     "metadata": {},
     "output_type": "execute_result"
    }
   ],
   "source": [
    "x=100\n",
    "x+=1\n",
    "x"
   ]
  },
  {
   "cell_type": "code",
   "execution_count": 2,
   "id": "valid-observation",
   "metadata": {},
   "outputs": [
    {
     "name": "stdout",
     "output_type": "stream",
     "text": [
      "Enter a string: abc\n",
      "please abc is not a number\n",
      "Enter a string: 10\n",
      "Enter a string: 5\n",
      "Enter a string: 8\n",
      "Enter a string: \n",
      "total = 23\n"
     ]
    }
   ],
   "source": [
    "total = 0\n",
    "while True:\n",
    "    user_input = input('Enter a string: ').strip() \n",
    "    \n",
    "    if user_input == '':\n",
    "        break \n",
    "        \n",
    "    if user_input.isdigit():\n",
    "        total += int(user_input)\n",
    "    else:\n",
    "        print (f'please {user_input} is not a number')\n",
    "        \n",
    "print (f'total = {total}')\n",
    "        "
   ]
  },
  {
   "cell_type": "code",
   "execution_count": 15,
   "id": "burning-florist",
   "metadata": {},
   "outputs": [
    {
     "name": "stdout",
     "output_type": "stream",
     "text": [
      "Enter the first index: 9\n",
      "Enter the second index: 1\n"
     ]
    },
    {
     "data": {
      "text/plain": [
       "120"
      ]
     },
     "execution_count": 15,
     "metadata": {},
     "output_type": "execute_result"
    }
   ],
   "source": [
    "mylist = [10,20,30,40,50,60,70,80,90,100]\n",
    "\n",
    "first_i = input ('Enter the first index: ')\n",
    "first_i = int(first_i)\n",
    "\n",
    "#while True:\n",
    "    #if first_i <= len(mylist):\n",
    "        #print (f'Index between [0-9]. Pls run again')\n",
    "    #if False:\n",
    "        #break\n",
    "\n",
    "second_i = input ('Enter the second index: ')\n",
    "second_i = int(second_i)\n",
    "\n",
    "result = mylist[first_i] + mylist[second_i]\n",
    "result "
   ]
  },
  {
   "cell_type": "code",
   "execution_count": 23,
   "id": "freelance-appendix",
   "metadata": {},
   "outputs": [
    {
     "name": "stdout",
     "output_type": "stream",
     "text": [
      "Enter a number: 1\n",
      "Enter a number: 2\n",
      "Enter a number: 3\n",
      "Enter a number: 4\n",
      "Enter a number: 5\n",
      "Enter a number: $\n",
      "Sorry, Try to Type a number\n",
      "Enter a number: \n",
      "evens: [2, 4]\n",
      "odds: [1, 3, 5]\n"
     ]
    }
   ],
   "source": [
    "#even and odd\n",
    "\n",
    "evens = []\n",
    "odds = []\n",
    "\n",
    "while True:\n",
    "    s= input ('Enter a number: ')\n",
    "    if s == '':\n",
    "        break \n",
    "    \n",
    "    if s.isdigit():\n",
    "        s=int(s)\n",
    "        if (s % 2) == 0:\n",
    "            evens.append(s)\n",
    "        else:\n",
    "            odds.append(s)\n",
    "    else:\n",
    "        print (f'Sorry, Try to Type a number')\n",
    "\n",
    "print (f'evens: {evens}')\n",
    "print (f'odds: {odds}')           \n",
    "        "
   ]
  },
  {
   "cell_type": "code",
   "execution_count": 51,
   "id": "exempt-detection",
   "metadata": {},
   "outputs": [
    {
     "ename": "KeyboardInterrupt",
     "evalue": "Interrupted by user",
     "output_type": "error",
     "traceback": [
      "\u001b[0;31m---------------------------------------------------------------------------\u001b[0m",
      "\u001b[0;31mKeyboardInterrupt\u001b[0m                         Traceback (most recent call last)",
      "\u001b[0;32m<ipython-input-51-26600f397bfc>\u001b[0m in \u001b[0;36m<module>\u001b[0;34m\u001b[0m\n\u001b[1;32m      4\u001b[0m \u001b[0;34m\u001b[0m\u001b[0m\n\u001b[1;32m      5\u001b[0m \u001b[0;32mwhile\u001b[0m \u001b[0;32mTrue\u001b[0m\u001b[0;34m:\u001b[0m\u001b[0;34m\u001b[0m\u001b[0;34m\u001b[0m\u001b[0m\n\u001b[0;32m----> 6\u001b[0;31m     \u001b[0ms\u001b[0m\u001b[0;34m=\u001b[0m \u001b[0minput\u001b[0m\u001b[0;34m(\u001b[0m\u001b[0;34m'Enter a string: '\u001b[0m\u001b[0;34m)\u001b[0m\u001b[0;34m.\u001b[0m\u001b[0mstrip\u001b[0m\u001b[0;34m(\u001b[0m\u001b[0;34m)\u001b[0m\u001b[0;34m\u001b[0m\u001b[0;34m\u001b[0m\u001b[0m\n\u001b[0m\u001b[1;32m      7\u001b[0m     \u001b[0;32mif\u001b[0m \u001b[0ms\u001b[0m \u001b[0;34m==\u001b[0m \u001b[0;34m''\u001b[0m\u001b[0;34m:\u001b[0m\u001b[0;34m\u001b[0m\u001b[0;34m\u001b[0m\u001b[0m\n\u001b[1;32m      8\u001b[0m         \u001b[0mprint\u001b[0m\u001b[0;34m(\u001b[0m\u001b[0;34m'bye'\u001b[0m\u001b[0;34m)\u001b[0m\u001b[0;34m\u001b[0m\u001b[0;34m\u001b[0m\u001b[0m\n",
      "\u001b[0;32m/usr/local/lib/python3.8/dist-packages/ipykernel/kernelbase.py\u001b[0m in \u001b[0;36mraw_input\u001b[0;34m(self, prompt)\u001b[0m\n\u001b[1;32m    855\u001b[0m                 \u001b[0;34m\"raw_input was called, but this frontend does not support input requests.\"\u001b[0m\u001b[0;34m\u001b[0m\u001b[0;34m\u001b[0m\u001b[0m\n\u001b[1;32m    856\u001b[0m             )\n\u001b[0;32m--> 857\u001b[0;31m         return self._input_request(str(prompt),\n\u001b[0m\u001b[1;32m    858\u001b[0m             \u001b[0mself\u001b[0m\u001b[0;34m.\u001b[0m\u001b[0m_parent_ident\u001b[0m\u001b[0;34m,\u001b[0m\u001b[0;34m\u001b[0m\u001b[0;34m\u001b[0m\u001b[0m\n\u001b[1;32m    859\u001b[0m             \u001b[0mself\u001b[0m\u001b[0;34m.\u001b[0m\u001b[0m_parent_header\u001b[0m\u001b[0;34m,\u001b[0m\u001b[0;34m\u001b[0m\u001b[0;34m\u001b[0m\u001b[0m\n",
      "\u001b[0;32m/usr/local/lib/python3.8/dist-packages/ipykernel/kernelbase.py\u001b[0m in \u001b[0;36m_input_request\u001b[0;34m(self, prompt, ident, parent, password)\u001b[0m\n\u001b[1;32m    899\u001b[0m             \u001b[0;32mexcept\u001b[0m \u001b[0mKeyboardInterrupt\u001b[0m\u001b[0;34m:\u001b[0m\u001b[0;34m\u001b[0m\u001b[0;34m\u001b[0m\u001b[0m\n\u001b[1;32m    900\u001b[0m                 \u001b[0;31m# re-raise KeyboardInterrupt, to truncate traceback\u001b[0m\u001b[0;34m\u001b[0m\u001b[0;34m\u001b[0m\u001b[0;34m\u001b[0m\u001b[0m\n\u001b[0;32m--> 901\u001b[0;31m                 \u001b[0;32mraise\u001b[0m \u001b[0mKeyboardInterrupt\u001b[0m\u001b[0;34m(\u001b[0m\u001b[0;34m\"Interrupted by user\"\u001b[0m\u001b[0;34m)\u001b[0m \u001b[0;32mfrom\u001b[0m \u001b[0;32mNone\u001b[0m\u001b[0;34m\u001b[0m\u001b[0;34m\u001b[0m\u001b[0m\n\u001b[0m\u001b[1;32m    902\u001b[0m             \u001b[0;32mexcept\u001b[0m \u001b[0mException\u001b[0m \u001b[0;32mas\u001b[0m \u001b[0me\u001b[0m\u001b[0;34m:\u001b[0m\u001b[0;34m\u001b[0m\u001b[0;34m\u001b[0m\u001b[0m\n\u001b[1;32m    903\u001b[0m                 \u001b[0mself\u001b[0m\u001b[0;34m.\u001b[0m\u001b[0mlog\u001b[0m\u001b[0;34m.\u001b[0m\u001b[0mwarning\u001b[0m\u001b[0;34m(\u001b[0m\u001b[0;34m\"Invalid Message:\"\u001b[0m\u001b[0;34m,\u001b[0m \u001b[0mexc_info\u001b[0m\u001b[0;34m=\u001b[0m\u001b[0;32mTrue\u001b[0m\u001b[0;34m)\u001b[0m\u001b[0;34m\u001b[0m\u001b[0;34m\u001b[0m\u001b[0m\n",
      "\u001b[0;31mKeyboardInterrupt\u001b[0m: Interrupted by user"
     ]
    }
   ],
   "source": [
    "long_words = []\n",
    "short_words = []\n",
    "\n",
    "\n",
    "while True:\n",
    "    s= input('Enter a string: ').strip()\n",
    "    if s == '':\n",
    "        print('bye')\n",
    "        break\n",
    "        \n",
    "    if len(s)<= 4:\n",
    "        print(f'It is a short word')\n",
    "        short_words.append(s)\n",
    "    else:\n",
    "        print('It is a long word')\n",
    "        long_words.append(s)\n",
    "\n",
    "print (f'Short List: {short_words}')\n",
    "print (f'Long List: {long_words}')\n",
    "\n",
    "\n"
   ]
  },
  {
   "cell_type": "code",
   "execution_count": 52,
   "id": "swedish-colors",
   "metadata": {},
   "outputs": [
    {
     "name": "stdout",
     "output_type": "stream",
     "text": [
      "Digite algo que te representa: birinaites\n",
      "bem vindo de volta Guedes\n"
     ]
    }
   ],
   "source": [
    "\n",
    "s = input('Digite algo que te representa: ')\n",
    "\n",
    "if s == 'bafo':\n",
    "    print(f'bem vindo de volta Gile')\n",
    "    \n",
    "if s == 'rico':\n",
    "    print(f'bem vindo de volta Felipe') \n",
    "\n",
    "if s == 'birinaites':\n",
    "    print(f'bem vindo de volta Guedes')   \n",
    "\n",
    "if s == 'muchaco':\n",
    "    print(f'bem vindo de volta Tyson') \n",
    "    \n",
    "    \n",
    "    "
   ]
  },
  {
   "cell_type": "code",
   "execution_count": null,
   "id": "outdoor-rouge",
   "metadata": {},
   "outputs": [],
   "source": []
  },
  {
   "cell_type": "code",
   "execution_count": null,
   "id": "dutch-matter",
   "metadata": {},
   "outputs": [],
   "source": [
    "s = input('Digite algo que te representa: ')\n",
    "\n",
    "if s == 'bafo':\n",
    "    print(f'bem vindo de volta Gile')\n",
    "    \n",
    "if s == 'rico':\n",
    "    print(f'bem vindo de volta Felipe') \n",
    "\n",
    "if s == 'birinaites':\n",
    "    print(f'bem vindo de volta Guedes')   \n",
    "\n",
    "if s == 'muchaco':\n",
    "    print(f'bem vindo de volta Tyson') "
   ]
  },
  {
   "cell_type": "code",
   "execution_count": 6,
   "id": "scenic-cigarette",
   "metadata": {},
   "outputs": [
    {
     "ename": "TypeError",
     "evalue": "sequence item 0: expected str instance, int found",
     "output_type": "error",
     "traceback": [
      "\u001b[0;31m---------------------------------------------------------------------------\u001b[0m",
      "\u001b[0;31mTypeError\u001b[0m                                 Traceback (most recent call last)",
      "\u001b[0;32m<ipython-input-6-7660a5826a10>\u001b[0m in \u001b[0;36m<module>\u001b[0;34m\u001b[0m\n\u001b[1;32m      1\u001b[0m \u001b[0mmylist\u001b[0m \u001b[0;34m=\u001b[0m \u001b[0;34m[\u001b[0m\u001b[0;36m10\u001b[0m\u001b[0;34m,\u001b[0m\u001b[0;36m20\u001b[0m\u001b[0;34m,\u001b[0m\u001b[0;36m30\u001b[0m\u001b[0;34m,\u001b[0m\u001b[0;36m40\u001b[0m\u001b[0;34m,\u001b[0m\u001b[0;36m50\u001b[0m\u001b[0;34m,\u001b[0m\u001b[0;36m60\u001b[0m\u001b[0;34m,\u001b[0m\u001b[0;36m70\u001b[0m\u001b[0;34m,\u001b[0m\u001b[0;36m80\u001b[0m\u001b[0;34m,\u001b[0m\u001b[0;36m90\u001b[0m\u001b[0;34m,\u001b[0m\u001b[0;36m100\u001b[0m\u001b[0;34m]\u001b[0m\u001b[0;34m\u001b[0m\u001b[0;34m\u001b[0m\u001b[0m\n\u001b[0;32m----> 2\u001b[0;31m \u001b[0;34m','\u001b[0m\u001b[0;34m.\u001b[0m\u001b[0mjoin\u001b[0m\u001b[0;34m(\u001b[0m\u001b[0mmylist\u001b[0m\u001b[0;34m)\u001b[0m\u001b[0;34m\u001b[0m\u001b[0;34m\u001b[0m\u001b[0m\n\u001b[0m\u001b[1;32m      3\u001b[0m \u001b[0mmylist\u001b[0m\u001b[0;34m\u001b[0m\u001b[0;34m\u001b[0m\u001b[0m\n",
      "\u001b[0;31mTypeError\u001b[0m: sequence item 0: expected str instance, int found"
     ]
    }
   ],
   "source": []
  },
  {
   "cell_type": "code",
   "execution_count": 25,
   "id": "pressing-match",
   "metadata": {},
   "outputs": [
    {
     "name": "stdout",
     "output_type": "stream",
     "text": [
      "Enter a sentence: apple orange pie\n",
      "appleway\n",
      "orangeway\n",
      "iepay\n"
     ]
    }
   ],
   "source": [
    "from friendly_traceback.ipython import *\n",
    "sentence = input('Enter a sentence: ')\n",
    "vowels[]\n",
    "consonant[]\n",
    "\n",
    "list = sentence.split()\n",
    "\n",
    "for one_word in list:\n",
    "    if one_word[0] in 'aeiou':\n",
    "        print(one_word + 'way')\n",
    "    else:\n",
    "        print(one_word[1:] + one_word[0] + 'ay')\n",
    "\n",
    "        \n",
    "        "
   ]
  },
  {
   "cell_type": "code",
   "execution_count": 31,
   "id": "differential-hometown",
   "metadata": {},
   "outputs": [
    {
     "name": "stdout",
     "output_type": "stream",
     "text": [
      "Enter a sentence: apple orange pie\n"
     ]
    },
    {
     "data": {
      "text/plain": [
       "['appleway', 'orangeway', 'iepay']"
      ]
     },
     "execution_count": 31,
     "metadata": {},
     "output_type": "execute_result"
    }
   ],
   "source": [
    "\n",
    "from friendly_traceback.ipython import *\n",
    "output = []\n",
    "sentence = input('Enter a sentence: ')\n",
    "words = sentence.split()   # no argument means: any whitespace is a separator\n",
    "for word in words:\n",
    "    if word[0] in 'aeiou':\n",
    "        output.append(word + 'way') \n",
    "    else:\n",
    "        output.append(word[1:] + word[0] + 'ay')  \n",
    "\n",
    "output\n",
    "#output2= ' '.join(output)\n",
    "#output2\n",
    "\n",
    "\n"
   ]
  },
  {
   "cell_type": "code",
   "execution_count": 32,
   "id": "clean-lincoln",
   "metadata": {},
   "outputs": [
    {
     "name": "stdout",
     "output_type": "stream",
     "text": [
      "Enter a sentence: apple orange pie\n"
     ]
    },
    {
     "data": {
      "text/plain": [
       "'appleway orangeway iepay'"
      ]
     },
     "execution_count": 32,
     "metadata": {},
     "output_type": "execute_result"
    }
   ],
   "source": [
    "from friendly_traceback.ipython import *\n",
    "output = []\n",
    "sentence = input('Enter a sentence: ')\n",
    "words = sentence.split()   # no argument means: any whitespace is a separator\n",
    "for word in words:\n",
    "    if word[0] in 'aeiou':\n",
    "        output.append(word + 'way') \n",
    "    else:\n",
    "        output.append(word[1:] + word[0] + 'ay')  \n",
    "\n",
    "#output\n",
    "output2= ' '.join(output)\n",
    "output2\n"
   ]
  },
  {
   "cell_type": "markdown",
   "id": "oriented-storm",
   "metadata": {},
   "source": [
    "menu = {'cake':5, 'water':3, 'meat':20}\n",
    "menu"
   ]
  },
  {
   "cell_type": "code",
   "execution_count": 45,
   "id": "specified-postage",
   "metadata": {},
   "outputs": [
    {
     "name": "stdout",
     "output_type": "stream",
     "text": [
      "please what do you want? ice \n",
      "Sorry, we dont have ice  today\n"
     ]
    }
   ],
   "source": [
    "menu = {'cake':5, 'water':3, 'meat':20} \n",
    "order= input('please what do you want? ')\n",
    "\n",
    "if order in menu:\n",
    "    print (f'{order} costs: {menu[order]},total is: {}')\n",
    "else:\n",
    "    print (f'Sorry, we dont have {order} today')"
   ]
  },
  {
   "cell_type": "code",
   "execution_count": 10,
   "id": "abroad-course",
   "metadata": {},
   "outputs": [
    {
     "name": "stdout",
     "output_type": "stream",
     "text": [
      "please what do you want today? cake\n",
      "cake costs: 5 and total is: 5\n",
      "please what do you want today? cake\n",
      "cake costs: 5 and total is: 5\n",
      "please what do you want today? fafda\n",
      "Sorry, we dont have fafda today\n",
      "please what do you want today? \n",
      "total: 10\n"
     ]
    }
   ],
   "source": [
    "total=0\n",
    "menu = {'cake':5, 'water':3, 'meat':20, 'rice':100, 'hamburguer':25} \n",
    "while True:\n",
    "    order= input('please what do you want today? ')\n",
    "    if order == '':\n",
    "        break\n",
    "    if order in menu:\n",
    "        price = menu[order]\n",
    "        total += price\n",
    "        print (f'{order} costs: {menu[order]} and total is: {price}')\n",
    "    else:\n",
    "        print (f'Sorry, we dont have {order} today')\n",
    "print (f'total: {total}')\n",
    "        \n",
    "\n"
   ]
  },
  {
   "cell_type": "code",
   "execution_count": 11,
   "id": "precise-illustration",
   "metadata": {},
   "outputs": [
    {
     "name": "stdout",
     "output_type": "stream",
     "text": [
      "please what do you want today? cake\n",
      "cake costs: 5 and total is: 5\n",
      "please what do you want today? cake\n",
      "cake costs: 5 and total is: 5\n",
      "please what do you want today? \n",
      "total: 10\n"
     ]
    }
   ],
   "source": [
    "total=0\n",
    "menu = {'cake':5, 'water':3, 'meat':20, 'rice':100, 'hamburguer':25} \n",
    "while True:\n",
    "    order= input('please what do you want today? ')\n",
    "    if order == '':\n",
    "        break\n",
    "    if order in menu:\n",
    "        price = menu[order]\n",
    "        total += price\n",
    "        print (f'{order} costs: {menu[order]} and total is: {price}')\n",
    "    else:\n",
    "        print (f'Sorry, we dont have {order} today')\n",
    "print (f'total: {total}')\n",
    "        "
   ]
  },
  {
   "cell_type": "code",
   "execution_count": 19,
   "id": "boolean-power",
   "metadata": {},
   "outputs": [
    {
     "name": "stdout",
     "output_type": "stream",
     "text": [
      "Enter a string: aaabb123!\n",
      "{'vowels': 3, 'digits': 3, 'others': 6}\n"
     ]
    }
   ],
   "source": [
    "counts = {'vowels':0, 'digits':0, 'others':0}\n",
    "\n",
    "s = input('Enter a string: ')\n",
    "\n",
    "for one_character in s:\n",
    "    if one_character in 'aeiou':\n",
    "        counts['vowels'] += 1\n",
    "        \n",
    "    if one_character.isdigit():\n",
    "        counts['digits'] += 1\n",
    "            \n",
    "    else:\n",
    "        counts['others'] += 1\n",
    "\n",
    "print(counts)"
   ]
  },
  {
   "cell_type": "code",
   "execution_count": 13,
   "id": "buried-reducing",
   "metadata": {},
   "outputs": [
    {
     "ename": "NameError",
     "evalue": "name 'explain' is not defined",
     "output_type": "error",
     "traceback": [
      "\u001b[0;31m---------------------------------------------------------------------------\u001b[0m",
      "\u001b[0;31mNameError\u001b[0m                                 Traceback (most recent call last)",
      "\u001b[0;32m<ipython-input-13-edee1e234237>\u001b[0m in \u001b[0;36m<module>\u001b[0;34m\u001b[0m\n\u001b[0;32m----> 1\u001b[0;31m \u001b[0mexplain\u001b[0m\u001b[0;34m(\u001b[0m\u001b[0;34m)\u001b[0m\u001b[0;34m\u001b[0m\u001b[0;34m\u001b[0m\u001b[0m\n\u001b[0m",
      "\u001b[0;31mNameError\u001b[0m: name 'explain' is not defined"
     ]
    }
   ],
   "source": [
    "explain()\n",
    "if user_input.isdigit():"
   ]
  },
  {
   "cell_type": "code",
   "execution_count": 23,
   "id": "fundamental-northeast",
   "metadata": {},
   "outputs": [
    {
     "name": "stdout",
     "output_type": "stream",
     "text": [
      "root:x:0:0:root:/root:/bin/bash\n",
      "daemon:x:1:1:daemon:/usr/sbin:/usr/sbin/nologin\n",
      "bin:x:2:2:bin:/bin:/usr/sbin/nologin\n",
      "sys:x:3:3:sys:/dev:/usr/sbin/nologin\n",
      "sync:x:4:65534:sync:/bin:/bin/sync\n",
      "games:x:5:60:games:/usr/games:/usr/sbin/nologin\n",
      "man:x:6:12:man:/var/cache/man:/usr/sbin/nologin\n",
      "lp:x:7:7:lp:/var/spool/lpd:/usr/sbin/nologin\n",
      "mail:x:8:8:mail:/var/mail:/usr/sbin/nologin\n",
      "news:x:9:9:news:/var/spool/news:/usr/sbin/nologin\n",
      "uucp:x:10:10:uucp:/var/spool/uucp:/usr/sbin/nologin\n",
      "proxy:x:13:13:proxy:/bin:/usr/sbin/nologin\n",
      "www-data:x:33:33:www-data:/var/www:/usr/sbin/nologin\n",
      "backup:x:34:34:backup:/var/backups:/usr/sbin/nologin\n",
      "list:x:38:38:Mailing List Manager:/var/list:/usr/sbin/nologin\n",
      "irc:x:39:39:ircd:/var/run/ircd:/usr/sbin/nologin\n",
      "gnats:x:41:41:Gnats Bug-Reporting System (admin):/var/lib/gnats:/usr/sbin/nologin\n",
      "nobody:x:65534:65534:nobody:/nonexistent:/usr/sbin/nologin\n",
      "systemd-timesync:x:100:101:systemd Time Synchronization,,,:/run/systemd:/usr/sbin/nologin\n",
      "systemd-network:x:101:103:systemd Network Management,,,:/run/systemd:/usr/sbin/nologin\n",
      "systemd-resolve:x:102:104:systemd Resolver,,,:/run/systemd:/usr/sbin/nologin\n",
      "messagebus:x:103:106::/nonexistent:/usr/sbin/nologin\n",
      "syslog:x:104:110::/home/syslog:/usr/sbin/nologin\n",
      "_apt:x:105:65534::/nonexistent:/usr/sbin/nologin\n",
      "tss:x:106:111:TPM software stack,,,:/var/lib/tpm:/bin/false\n",
      "uuidd:x:107:112::/run/uuidd:/usr/sbin/nologin\n",
      "tcpdump:x:108:113::/nonexistent:/usr/sbin/nologin\n",
      "sshd:x:109:65534::/run/sshd:/usr/sbin/nologin\n",
      "landscape:x:110:115::/var/lib/landscape:/usr/sbin/nologin\n",
      "pollinate:x:111:1::/var/cache/pollinate:/bin/false\n",
      "systemd-coredump:x:999:999:systemd Core Dumper:/:/usr/sbin/nologin\n",
      "lxd:x:998:100::/var/snap/lxd/common/lxd:/bin/false\n",
      "student:x:1000:1000:,,,:/home/student:/bin/bash\n"
     ]
    }
   ],
   "source": [
    "f = open('/etc/passwd')\n",
    "for one_line in f:\n",
    "    print(one_line.strip())\n",
    "f.close()"
   ]
  },
  {
   "cell_type": "code",
   "execution_count": 26,
   "id": "separated-christopher",
   "metadata": {},
   "outputs": [
    {
     "name": "stdout",
     "output_type": "stream",
     "text": [
      "Enter a string: z\n"
     ]
    },
    {
     "ename": "ValueError",
     "evalue": "I/O operation on closed file.",
     "output_type": "error",
     "traceback": [
      "\u001b[0;31m---------------------------------------------------------------------------\u001b[0m",
      "\u001b[0;31mValueError\u001b[0m                                Traceback (most recent call last)",
      "\u001b[0;32m<ipython-input-26-2cda2e756150>\u001b[0m in \u001b[0;36m<module>\u001b[0;34m\u001b[0m\n\u001b[1;32m      2\u001b[0m \u001b[0mf\u001b[0m \u001b[0;34m=\u001b[0m \u001b[0mopen\u001b[0m\u001b[0;34m(\u001b[0m\u001b[0;34m'/etc/passwd'\u001b[0m\u001b[0;34m)\u001b[0m\u001b[0;34m\u001b[0m\u001b[0;34m\u001b[0m\u001b[0m\n\u001b[1;32m      3\u001b[0m \u001b[0;34m\u001b[0m\u001b[0m\n\u001b[0;32m----> 4\u001b[0;31m \u001b[0;32mfor\u001b[0m \u001b[0mone_line\u001b[0m \u001b[0;32min\u001b[0m \u001b[0mf\u001b[0m\u001b[0;34m:\u001b[0m\u001b[0;34m\u001b[0m\u001b[0;34m\u001b[0m\u001b[0m\n\u001b[0m\u001b[1;32m      5\u001b[0m     \u001b[0;32mif\u001b[0m \u001b[0;34m'look_for'\u001b[0m \u001b[0;32min\u001b[0m \u001b[0mf\u001b[0m\u001b[0;34m:\u001b[0m\u001b[0;34m\u001b[0m\u001b[0;34m\u001b[0m\u001b[0m\n\u001b[1;32m      6\u001b[0m         \u001b[0mprint\u001b[0m\u001b[0;34m(\u001b[0m\u001b[0mone_line\u001b[0m\u001b[0;34m)\u001b[0m\u001b[0;34m\u001b[0m\u001b[0;34m\u001b[0m\u001b[0m\n",
      "\u001b[0;31mValueError\u001b[0m: I/O operation on closed file."
     ]
    }
   ],
   "source": [
    "look_for = input ('Enter a string: ')\n",
    "f = open('/etc/passwd')\n",
    "\n",
    "for one_line in f:\n",
    "    if 'look_for' in f:\n",
    "        print(one_line)\n",
    "    f.close()"
   ]
  },
  {
   "cell_type": "code",
   "execution_count": 30,
   "id": "parliamentary-setup",
   "metadata": {},
   "outputs": [
    {
     "name": "stdout",
     "output_type": "stream",
     "text": [
      "Enter a string: student\n",
      "student:x:1000:1000:,,,:/home/student:/bin/bash\n"
     ]
    }
   ],
   "source": [
    "look_for = input ('Enter a string: ')\n",
    "\n",
    "for one_line in open('/etc/passwd'):\n",
    "    if look_for in one_line:   # (2) modify this line to look for the search string, not 'z'\n",
    "        print(one_line.strip())\n",
    "\n",
    "        mini-access-log.txt"
   ]
  },
  {
   "cell_type": "code",
   "execution_count": 32,
   "id": "elder-cartoon",
   "metadata": {},
   "outputs": [
    {
     "ename": "FileNotFoundError",
     "evalue": "[Errno 2] No such file or directory: '/etc/mini-access-log.txt'",
     "output_type": "error",
     "traceback": [
      "\u001b[0;31m---------------------------------------------------------------------------\u001b[0m",
      "\u001b[0;31mFileNotFoundError\u001b[0m                         Traceback (most recent call last)",
      "\u001b[0;32m<ipython-input-32-1bfac1b35c65>\u001b[0m in \u001b[0;36m<module>\u001b[0;34m\u001b[0m\n\u001b[0;32m----> 1\u001b[0;31m \u001b[0mf\u001b[0m \u001b[0;34m=\u001b[0m \u001b[0mopen\u001b[0m\u001b[0;34m(\u001b[0m\u001b[0;34m'/etc/mini-access-log.txt'\u001b[0m\u001b[0;34m)\u001b[0m\u001b[0;34m\u001b[0m\u001b[0;34m\u001b[0m\u001b[0m\n\u001b[0m\u001b[1;32m      2\u001b[0m \u001b[0;34m\u001b[0m\u001b[0m\n\u001b[1;32m      3\u001b[0m \u001b[0;32mfor\u001b[0m \u001b[0mone_line\u001b[0m \u001b[0;32min\u001b[0m \u001b[0mf\u001b[0m\u001b[0;34m:\u001b[0m\u001b[0;34m\u001b[0m\u001b[0;34m\u001b[0m\u001b[0m\n\u001b[1;32m      4\u001b[0m         \u001b[0mprint\u001b[0m\u001b[0;34m(\u001b[0m\u001b[0mone_line\u001b[0m\u001b[0;34m.\u001b[0m\u001b[0mstrip\u001b[0m\u001b[0;34m(\u001b[0m\u001b[0;34m)\u001b[0m\u001b[0;34m)\u001b[0m\u001b[0;34m\u001b[0m\u001b[0;34m\u001b[0m\u001b[0m\n\u001b[1;32m      5\u001b[0m \u001b[0mf\u001b[0m\u001b[0;34m.\u001b[0m\u001b[0mclose\u001b[0m\u001b[0;34m(\u001b[0m\u001b[0;34m)\u001b[0m\u001b[0;34m\u001b[0m\u001b[0;34m\u001b[0m\u001b[0m\n",
      "\u001b[0;31mFileNotFoundError\u001b[0m: [Errno 2] No such file or directory: '/etc/mini-access-log.txt'"
     ]
    }
   ],
   "source": [
    "f = open('/etc/mini-access-log.txt')\n",
    "\n",
    "for one_line in f:\n",
    "        print(one_line.strip())\n",
    "f.close()"
   ]
  },
  {
   "cell_type": "code",
   "execution_count": 33,
   "id": "appreciated-survey",
   "metadata": {},
   "outputs": [
    {
     "data": {
      "text/plain": [
       "'/home/student/notebooks'"
      ]
     },
     "execution_count": 33,
     "metadata": {},
     "output_type": "execute_result"
    }
   ],
   "source": [
    "pwd"
   ]
  },
  {
   "cell_type": "code",
   "execution_count": 34,
   "id": "noted-battle",
   "metadata": {},
   "outputs": [
    {
     "ename": "NameError",
     "evalue": "name 'etc' is not defined",
     "output_type": "error",
     "traceback": [
      "\u001b[0;31m---------------------------------------------------------------------------\u001b[0m",
      "\u001b[0;31mNameError\u001b[0m                                 Traceback (most recent call last)",
      "\u001b[0;32m<ipython-input-34-c9f9cb0b5ea0>\u001b[0m in \u001b[0;36m<module>\u001b[0;34m\u001b[0m\n\u001b[0;32m----> 1\u001b[0;31m \u001b[0mdir\u001b[0m \u001b[0;34m/\u001b[0m\u001b[0metc\u001b[0m\u001b[0;34m\u001b[0m\u001b[0;34m\u001b[0m\u001b[0m\n\u001b[0m",
      "\u001b[0;31mNameError\u001b[0m: name 'etc' is not defined"
     ]
    }
   ],
   "source": [
    "\n"
   ]
  },
  {
   "cell_type": "code",
   "execution_count": 38,
   "id": "cardiac-entertainment",
   "metadata": {},
   "outputs": [
    {
     "name": "stdout",
     "output_type": "stream",
     "text": [
      "67.218.116.165\n",
      "66.249.71.65\n",
      "65.55.106.183\n",
      "65.55.106.183\n",
      "66.249.71.65\n",
      "66.249.71.65\n",
      "66.249.65.12\n",
      "66.249.65.12\n",
      "66.249.65.12\n",
      "66.249.65.12\n",
      "66.249.65.12\n",
      "65.55.106.131\n",
      "65.55.106.131\n",
      "66.249.65.12\n",
      "66.249.65.12\n",
      "66.249.65.12\n",
      "66.249.65.12\n",
      "66.249.65.12\n",
      "66.249.65.12\n",
      "66.249.65.12\n",
      "65.55.106.186\n",
      "65.55.106.186\n",
      "66.249.65.12\n",
      "66.249.65.12\n",
      "66.249.65.12\n",
      "74.52.245.146\n",
      "74.52.245.146\n",
      "66.249.65.43\n",
      "66.249.65.43\n",
      "66.249.65.43\n",
      "66.249.65.12\n",
      "66.249.65.12\n",
      "66.249.65.12\n",
      "66.249.65.12\n",
      "66.249.65.12\n",
      "66.249.65.12\n",
      "65.55.207.25\n",
      "65.55.207.25\n",
      "66.249.65.12\n",
      "66.249.65.12\n",
      "66.249.65.12\n",
      "66.249.65.12\n",
      "66.249.65.12\n",
      "66.249.65.12\n",
      "66.249.65.12\n",
      "65.55.207.94\n",
      "65.55.207.94\n",
      "66.249.65.12\n",
      "65.55.207.71\n",
      "66.249.65.12\n",
      "66.249.65.12\n",
      "66.249.65.12\n",
      "98.242.170.241\n",
      "66.249.65.38\n",
      "66.249.65.38\n",
      "66.249.65.38\n",
      "66.249.65.38\n",
      "66.249.65.38\n",
      "66.249.65.38\n",
      "66.249.65.38\n",
      "66.249.65.38\n",
      "66.249.65.38\n",
      "66.249.65.38\n",
      "66.249.65.38\n",
      "66.249.65.38\n",
      "66.249.65.38\n",
      "66.249.65.38\n",
      "66.249.65.38\n",
      "66.249.65.38\n",
      "66.249.65.38\n",
      "66.249.65.38\n",
      "66.249.65.38\n",
      "66.249.65.38\n",
      "66.249.65.38\n",
      "66.249.65.38\n",
      "66.249.65.38\n",
      "66.249.65.38\n",
      "66.249.65.38\n",
      "66.249.65.38\n",
      "65.55.207.126\n",
      "65.55.207.126\n",
      "66.249.65.38\n",
      "66.249.65.38\n",
      "66.249.65.38\n",
      "66.249.65.38\n",
      "82.34.9.20\n",
      "82.34.9.20\n",
      "66.249.65.38\n",
      "66.249.65.38\n",
      "66.249.65.38\n",
      "66.249.65.38\n",
      "66.249.65.38\n",
      "66.249.65.38\n",
      "66.249.65.38\n",
      "66.249.65.38\n",
      "66.249.65.38\n",
      "65.55.106.155\n",
      "65.55.106.155\n",
      "66.249.65.38\n",
      "66.249.65.38\n",
      "66.249.65.38\n",
      "66.249.65.38\n",
      "66.249.65.38\n",
      "65.55.207.77\n",
      "65.55.207.77\n",
      "66.249.65.38\n",
      "67.218.116.165\n",
      "66.249.65.38\n",
      "208.80.193.28\n",
      "66.249.65.38\n",
      "66.249.65.38\n",
      "66.249.65.38\n",
      "66.249.65.38\n",
      "66.249.65.38\n",
      "66.249.65.38\n",
      "66.249.65.38\n",
      "66.249.65.38\n",
      "66.249.65.38\n",
      "89.248.172.58\n",
      "89.248.172.58\n",
      "89.248.172.58\n",
      "89.248.172.58\n",
      "89.248.172.58\n",
      "89.248.172.58\n",
      "89.248.172.58\n",
      "89.248.172.58\n",
      "89.248.172.58\n",
      "89.248.172.58\n",
      "89.248.172.58\n",
      "89.248.172.58\n",
      "89.248.172.58\n",
      "89.248.172.58\n",
      "89.248.172.58\n",
      "89.248.172.58\n",
      "89.248.172.58\n",
      "89.248.172.58\n",
      "89.248.172.58\n",
      "89.248.172.58\n",
      "89.248.172.58\n",
      "89.248.172.58\n",
      "66.249.65.38\n",
      "66.249.65.38\n",
      "66.249.65.38\n",
      "66.249.65.38\n",
      "66.249.65.38\n",
      "66.249.65.38\n",
      "66.249.65.38\n",
      "66.249.65.38\n",
      "66.249.65.38\n",
      "66.249.65.38\n",
      "66.249.65.38\n",
      "66.249.65.38\n",
      "66.249.65.38\n",
      "66.249.65.38\n",
      "66.249.65.38\n",
      "66.249.65.38\n",
      "66.249.65.38\n",
      "66.249.65.38\n",
      "66.249.65.38\n",
      "66.249.65.38\n",
      "66.249.65.38\n",
      "66.249.65.38\n",
      "66.249.65.38\n",
      "66.249.65.38\n",
      "66.249.65.38\n",
      "66.249.65.38\n",
      "66.249.65.38\n",
      "66.249.65.38\n",
      "66.249.65.38\n",
      "67.195.112.35\n",
      "67.195.112.35\n",
      "67.195.112.35\n",
      "67.195.112.35\n",
      "67.195.112.35\n",
      "67.195.112.35\n",
      "67.195.112.35\n",
      "67.195.112.35\n",
      "67.195.112.35\n",
      "67.195.112.35\n",
      "67.195.112.35\n",
      "67.195.112.35\n",
      "67.195.112.35\n",
      "67.195.112.35\n",
      "67.195.112.35\n",
      "67.195.112.35\n",
      "66.249.65.38\n",
      "65.55.207.50\n",
      "65.55.207.50\n",
      "65.55.207.50\n",
      "66.249.65.38\n",
      "66.249.65.38\n",
      "66.249.65.38\n",
      "66.249.65.38\n",
      "66.249.65.38\n",
      "66.249.65.38\n",
      "65.55.215.75\n",
      "65.55.215.75\n",
      "66.249.65.38\n",
      "66.249.65.38\n",
      "66.249.65.38\n",
      "66.249.65.38\n",
      "66.249.65.38\n",
      "66.249.65.38\n",
      "66.249.65.38\n",
      "66.249.65.38\n",
      "66.249.65.38\n"
     ]
    }
   ],
   "source": [
    "for one_line in open('mini-access-log.txt'):\n",
    "    print(one_line.split()[0])"
   ]
  },
  {
   "cell_type": "code",
   "execution_count": 45,
   "id": "involved-nevada",
   "metadata": {},
   "outputs": [
    {
     "ename": "KeyError",
     "evalue": "'67.218.116.165 - - [30/Jan/2010:00:03:18 +0200] \"GET /robots.txt HTTP/1.0\" 200 99 \"-\" \"Mozilla/5.0 (Twiceler-0.9 http://www.cuil.com/twiceler/robot.html)\"\\n'",
     "output_type": "error",
     "traceback": [
      "\u001b[0;31m---------------------------------------------------------------------------\u001b[0m",
      "\u001b[0;31mKeyError\u001b[0m                                  Traceback (most recent call last)",
      "\u001b[0;32m<ipython-input-45-63cb2fff7cf1>\u001b[0m in \u001b[0;36m<module>\u001b[0;34m\u001b[0m\n\u001b[1;32m      6\u001b[0m     \u001b[0;32mif\u001b[0m \u001b[0mip_address\u001b[0m \u001b[0;32mnot\u001b[0m \u001b[0;32min\u001b[0m \u001b[0mcounts\u001b[0m\u001b[0;34m:\u001b[0m\u001b[0;34m\u001b[0m\u001b[0;34m\u001b[0m\u001b[0m\n\u001b[1;32m      7\u001b[0m         \u001b[0mcounts\u001b[0m\u001b[0;34m[\u001b[0m\u001b[0mip_address\u001b[0m\u001b[0;34m]\u001b[0m \u001b[0;34m=\u001b[0m \u001b[0;36m0\u001b[0m\u001b[0;34m\u001b[0m\u001b[0;34m\u001b[0m\u001b[0m\n\u001b[0;32m----> 8\u001b[0;31m         \u001b[0mcounts\u001b[0m\u001b[0;34m[\u001b[0m\u001b[0mone_line\u001b[0m\u001b[0;34m]\u001b[0m \u001b[0;34m+=\u001b[0m \u001b[0;36m1\u001b[0m\u001b[0;34m\u001b[0m\u001b[0;34m\u001b[0m\u001b[0m\n\u001b[0m\u001b[1;32m      9\u001b[0m \u001b[0;34m\u001b[0m\u001b[0m\n\u001b[1;32m     10\u001b[0m \u001b[0mcounts\u001b[0m\u001b[0;34m\u001b[0m\u001b[0;34m\u001b[0m\u001b[0m\n",
      "\u001b[0;31mKeyError\u001b[0m: '67.218.116.165 - - [30/Jan/2010:00:03:18 +0200] \"GET /robots.txt HTTP/1.0\" 200 99 \"-\" \"Mozilla/5.0 (Twiceler-0.9 http://www.cuil.com/twiceler/robot.html)\"\\n'"
     ]
    }
   ],
   "source": [
    "counts = {}\n",
    "\n",
    "for one_line in open('mini-access-log.txt'):\n",
    "    ip_address = one_line.split()[0]\n",
    "    \n",
    "    if ip_address not in counts:\n",
    "        counts[ip_address] = 0\n",
    "        counts[one_line] += 1\n",
    "\n",
    "counts\n",
    "\n",
    "    \n"
   ]
  },
  {
   "cell_type": "code",
   "execution_count": null,
   "id": "exciting-korea",
   "metadata": {},
   "outputs": [],
   "source": []
  }
 ],
 "metadata": {
  "kernelspec": {
   "display_name": "Python 3",
   "language": "python",
   "name": "python3"
  },
  "language_info": {
   "codemirror_mode": {
    "name": "ipython",
    "version": 3
   },
   "file_extension": ".py",
   "mimetype": "text/x-python",
   "name": "python",
   "nbconvert_exporter": "python",
   "pygments_lexer": "ipython3",
   "version": "3.8.6"
  }
 },
 "nbformat": 4,
 "nbformat_minor": 5
}
