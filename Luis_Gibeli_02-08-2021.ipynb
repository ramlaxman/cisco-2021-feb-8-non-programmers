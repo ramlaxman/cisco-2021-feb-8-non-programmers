{
 "cells": [
  {
   "cell_type": "code",
   "execution_count": 2,
   "id": "eight-hierarchy",
   "metadata": {},
   "outputs": [
    {
     "name": "stdout",
     "output_type": "stream",
     "text": [
      "Hello Folks from Gibeli\n"
     ]
    }
   ],
   "source": [
    "print(\"Hello Folks from Gibeli\")"
   ]
  },
  {
   "cell_type": "code",
   "execution_count": 3,
   "id": "nasty-spending",
   "metadata": {},
   "outputs": [
    {
     "ename": "NameError",
     "evalue": "name 'Gibeli' is not defined",
     "output_type": "error",
     "traceback": [
      "\u001b[0;31m---------------------------------------------------------------------------\u001b[0m",
      "\u001b[0;31mNameError\u001b[0m                                 Traceback (most recent call last)",
      "\u001b[0;32m<ipython-input-3-2a600f3e4dd2>\u001b[0m in \u001b[0;36m<module>\u001b[0;34m\u001b[0m\n\u001b[0;32m----> 1\u001b[0;31m \u001b[0mname\u001b[0m \u001b[0;34m=\u001b[0m \u001b[0mGibeli\u001b[0m\u001b[0;34m\u001b[0m\u001b[0;34m\u001b[0m\u001b[0m\n\u001b[0m\u001b[1;32m      2\u001b[0m \u001b[0;34m\u001b[0m\u001b[0m\n\u001b[1;32m      3\u001b[0m \u001b[0mprint\u001b[0m\u001b[0;34m(\u001b[0m\u001b[0;34m\"name\"\u001b[0m\u001b[0;34m)\u001b[0m\u001b[0;34m\u001b[0m\u001b[0;34m\u001b[0m\u001b[0m\n",
      "\u001b[0;31mNameError\u001b[0m: name 'Gibeli' is not defined"
     ]
    }
   ],
   "source": [
    "name = Gibeli\n",
    "\n",
    "print(\"name\")"
   ]
  },
  {
   "cell_type": "code",
   "execution_count": 4,
   "id": "former-steam",
   "metadata": {},
   "outputs": [
    {
     "name": "stdout",
     "output_type": "stream",
     "text": [
      "name\n"
     ]
    }
   ],
   "source": [
    "name == \"Gibeli\"\n",
    "print(\"name\")"
   ]
  },
  {
   "cell_type": "code",
   "execution_count": 5,
   "id": "christian-healthcare",
   "metadata": {},
   "outputs": [
    {
     "name": "stdout",
     "output_type": "stream",
     "text": [
      "name\n"
     ]
    }
   ],
   "source": [
    "name == Gibeli\n",
    "print(\"name\")"
   ]
  },
  {
   "cell_type": "code",
   "execution_count": 6,
   "id": "convertible-charity",
   "metadata": {},
   "outputs": [
    {
     "ename": "NameError",
     "evalue": "name 'Gibeli' is not defined",
     "output_type": "error",
     "traceback": [
      "\u001b[0;31m---------------------------------------------------------------------------\u001b[0m",
      "\u001b[0;31mNameError\u001b[0m                                 Traceback (most recent call last)",
      "\u001b[0;32m<ipython-input-6-2b064de54d9d>\u001b[0m in \u001b[0;36m<module>\u001b[0;34m\u001b[0m\n\u001b[0;32m----> 1\u001b[0;31m \u001b[0mname\u001b[0m \u001b[0;34m==\u001b[0m \u001b[0mGibeli\u001b[0m\u001b[0;34m\u001b[0m\u001b[0;34m\u001b[0m\u001b[0m\n\u001b[0m\u001b[1;32m      2\u001b[0m \u001b[0mprint\u001b[0m\u001b[0;34m(\u001b[0m\u001b[0;34m\"name\"\u001b[0m\u001b[0;34m)\u001b[0m\u001b[0;34m\u001b[0m\u001b[0;34m\u001b[0m\u001b[0m\n",
      "\u001b[0;31mNameError\u001b[0m: name 'Gibeli' is not defined"
     ]
    }
   ],
   "source": [
    "name == Gibeli\n",
    "print(\"name\")"
   ]
  },
  {
   "cell_type": "code",
   "execution_count": 9,
   "id": "reported-occurrence",
   "metadata": {},
   "outputs": [
    {
     "ename": "NameError",
     "evalue": "name 'Gibeli' is not defined",
     "output_type": "error",
     "traceback": [
      "\u001b[0;31m---------------------------------------------------------------------------\u001b[0m",
      "\u001b[0;31mNameError\u001b[0m                                 Traceback (most recent call last)",
      "\u001b[0;32m<ipython-input-9-c1a20fa526b2>\u001b[0m in \u001b[0;36m<module>\u001b[0;34m\u001b[0m\n\u001b[0;32m----> 1\u001b[0;31m \u001b[0mname\u001b[0m \u001b[0;34m=\u001b[0m \u001b[0mGibeli\u001b[0m\u001b[0;34m\u001b[0m\u001b[0;34m\u001b[0m\u001b[0m\n\u001b[0m\u001b[1;32m      2\u001b[0m \u001b[0mprint\u001b[0m\u001b[0;34m(\u001b[0m\u001b[0;34m\"name\"\u001b[0m\u001b[0;34m)\u001b[0m\u001b[0;34m\u001b[0m\u001b[0;34m\u001b[0m\u001b[0m\n",
      "\u001b[0;31mNameError\u001b[0m: name 'Gibeli' is not defined"
     ]
    }
   ],
   "source": [
    "name = Gibeli\n",
    "print(\"name\")"
   ]
  },
  {
   "cell_type": "code",
   "execution_count": null,
   "id": "deadly-magnitude",
   "metadata": {},
   "outputs": [],
   "source": []
  },
  {
   "cell_type": "code",
   "execution_count": null,
   "id": "dirty-incident",
   "metadata": {},
   "outputs": [],
   "source": []
  },
  {
   "cell_type": "code",
   "execution_count": 8,
   "id": "ideal-chancellor",
   "metadata": {},
   "outputs": [
    {
     "ename": "SyntaxError",
     "evalue": "EOL while scanning string literal (<ipython-input-8-e7da5513e99e>, line 1)",
     "output_type": "error",
     "traceback": [
      "\u001b[0;36m  File \u001b[0;32m\"<ipython-input-8-e7da5513e99e>\"\u001b[0;36m, line \u001b[0;32m1\u001b[0m\n\u001b[0;31m    name = 'Gibeli''\u001b[0m\n\u001b[0m                    ^\u001b[0m\n\u001b[0;31mSyntaxError\u001b[0m\u001b[0;31m:\u001b[0m EOL while scanning string literal\n"
     ]
    }
   ],
   "source": [
    "name = 'Gibeli''\n",
    "print(name)"
   ]
  },
  {
   "cell_type": "code",
   "execution_count": 10,
   "id": "compatible-electric",
   "metadata": {},
   "outputs": [
    {
     "ename": "SyntaxError",
     "evalue": "EOL while scanning string literal (<ipython-input-10-0fd686628be6>, line 1)",
     "output_type": "error",
     "traceback": [
      "\u001b[0;36m  File \u001b[0;32m\"<ipython-input-10-0fd686628be6>\"\u001b[0;36m, line \u001b[0;32m1\u001b[0m\n\u001b[0;31m    name = 'Gibeli''\u001b[0m\n\u001b[0m                    ^\u001b[0m\n\u001b[0;31mSyntaxError\u001b[0m\u001b[0;31m:\u001b[0m EOL while scanning string literal\n"
     ]
    }
   ],
   "source": [
    "name = 'Gibeli'\n",
    "print('Hello, '+ name)"
   ]
  },
  {
   "cell_type": "code",
   "execution_count": 11,
   "id": "durable-tuition",
   "metadata": {},
   "outputs": [
    {
     "name": "stdout",
     "output_type": "stream",
     "text": [
      "Hello, Gibeli\n"
     ]
    }
   ],
   "source": [
    "name = 'Gibeli'\n",
    "print('Hello, '+ name)"
   ]
  },
  {
   "cell_type": "code",
   "execution_count": null,
   "id": "sound-brief",
   "metadata": {},
   "outputs": [],
   "source": []
  },
  {
   "cell_type": "code",
   "execution_count": 12,
   "id": "illegal-attack",
   "metadata": {},
   "outputs": [
    {
     "name": "stdout",
     "output_type": "stream",
     "text": [
      "Hello, Gibeli!\n"
     ]
    }
   ],
   "source": [
    "print ('Hello, '+ name + '!')"
   ]
  },
  {
   "cell_type": "code",
   "execution_count": 13,
   "id": "floral-insertion",
   "metadata": {},
   "outputs": [
    {
     "name": "stdout",
     "output_type": "stream",
     "text": [
      "Gibeli\n"
     ]
    }
   ],
   "source": [
    "name = 'Gibeli'\n",
    "print(name)"
   ]
  },
  {
   "cell_type": "code",
   "execution_count": 14,
   "id": "turned-spirit",
   "metadata": {},
   "outputs": [
    {
     "name": "stdout",
     "output_type": "stream",
     "text": [
      "35\n"
     ]
    }
   ],
   "source": [
    "birthyear = 1985\n",
    "age_this_year = 2020 - 1985\n",
    "print (age_this_year)"
   ]
  },
  {
   "cell_type": "code",
   "execution_count": 15,
   "id": "apart-japanese",
   "metadata": {},
   "outputs": [
    {
     "name": "stdout",
     "output_type": "stream",
     "text": [
      "36\n"
     ]
    }
   ],
   "source": [
    "age_this_year = 2021 - 1985\n",
    "print (age_this_year)"
   ]
  },
  {
   "cell_type": "code",
   "execution_count": 16,
   "id": "imperial-arena",
   "metadata": {},
   "outputs": [
    {
     "name": "stdout",
     "output_type": "stream",
     "text": [
      "Hello, {name} + !! This year you will be {age_this_year}.\n"
     ]
    }
   ],
   "source": [
    "print ('Hello, {name} + !! This year you will be {age_this_year}.')\n"
   ]
  },
  {
   "cell_type": "code",
   "execution_count": 17,
   "id": "tutorial-layout",
   "metadata": {},
   "outputs": [
    {
     "name": "stdout",
     "output_type": "stream",
     "text": [
      "Hello, Gibeli + !! This year you will be 36.\n"
     ]
    }
   ],
   "source": [
    "print (f'Hello, {name} + !! This year you will be {age_this_year}.')"
   ]
  },
  {
   "cell_type": "code",
   "execution_count": 18,
   "id": "unsigned-array",
   "metadata": {},
   "outputs": [
    {
     "data": {
      "text/plain": [
       "1"
      ]
     },
     "execution_count": 18,
     "metadata": {},
     "output_type": "execute_result"
    }
   ],
   "source": [
    "y = 100\n",
    "x = 101\n",
    "x-y"
   ]
  },
  {
   "cell_type": "code",
   "execution_count": 19,
   "id": "terminal-cholesterol",
   "metadata": {},
   "outputs": [
    {
     "data": {
      "text/plain": [
       "201"
      ]
     },
     "execution_count": 19,
     "metadata": {},
     "output_type": "execute_result"
    }
   ],
   "source": [
    "x+y"
   ]
  },
  {
   "cell_type": "code",
   "execution_count": 20,
   "id": "annoying-darkness",
   "metadata": {},
   "outputs": [
    {
     "name": "stdout",
     "output_type": "stream",
     "text": [
      "digite seu nome: giba\n"
     ]
    }
   ],
   "source": [
    "x = input ('digite seu nome: ')"
   ]
  },
  {
   "cell_type": "code",
   "execution_count": 21,
   "id": "miniature-execution",
   "metadata": {},
   "outputs": [
    {
     "name": "stdout",
     "output_type": "stream",
     "text": [
      "giba\n"
     ]
    }
   ],
   "source": [
    "print (x)"
   ]
  },
  {
   "cell_type": "code",
   "execution_count": 22,
   "id": "solid-october",
   "metadata": {},
   "outputs": [
    {
     "name": "stdout",
     "output_type": "stream",
     "text": [
      "digite por favor seu nome: Gibeli\n",
      "digite como se sente hoje: Feliz\n",
      "Tudo bem Gibeli ? , Hoje vc esta Feliz\n"
     ]
    }
   ],
   "source": [
    "name = input ('digite por favor seu nome: ')\n",
    "feeling = input ('digite como se sente hoje: ')\n",
    "print (f'Tudo bem {name} ? , Hoje vc esta {feeling}')\n"
   ]
  },
  {
   "cell_type": "code",
   "execution_count": 28,
   "id": "coordinate-offense",
   "metadata": {},
   "outputs": [
    {
     "name": "stdout",
     "output_type": "stream",
     "text": [
      "onde vc trabalha ?Cisco\n",
      "show de bola, tmj\n"
     ]
    }
   ],
   "source": [
    "company = input ('onde vc trabalha ?')\n",
    "if company == 'Cisco':\n",
    "    print ('show de bola, tmj')\n",
    "else:\n",
    "    print ('find a job in cisco careear')\n"
   ]
  },
  {
   "cell_type": "code",
   "execution_count": 29,
   "id": "covered-reducing",
   "metadata": {},
   "outputs": [
    {
     "name": "stdout",
     "output_type": "stream",
     "text": [
      "Onde vc trabalha hoje?cisco\n"
     ]
    }
   ],
   "source": [
    "company = input ('Onde vc trabalha hoje?')\n",
    "if company == 'cisco':\n",
    "    print ('amazing we are collegue')\n",
    "    \n",
    "el"
   ]
  },
  {
   "cell_type": "code",
   "execution_count": null,
   "id": "available-organ",
   "metadata": {},
   "outputs": [],
   "source": []
  }
 ],
 "metadata": {
  "kernelspec": {
   "display_name": "Python 3",
   "language": "python",
   "name": "python3"
  },
  "language_info": {
   "codemirror_mode": {
    "name": "ipython",
    "version": 3
   },
   "file_extension": ".py",
   "mimetype": "text/x-python",
   "name": "python",
   "nbconvert_exporter": "python",
   "pygments_lexer": "ipython3",
   "version": "3.8.6"
  }
 },
 "nbformat": 4,
 "nbformat_minor": 5
}
