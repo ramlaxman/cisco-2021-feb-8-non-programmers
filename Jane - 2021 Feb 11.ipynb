{
 "cells": [
  {
   "cell_type": "code",
   "execution_count": 10,
   "id": "mighty-climb",
   "metadata": {},
   "outputs": [
    {
     "data": {
      "text/plain": [
       "'Hello, Jane Lim!'"
      ]
     },
     "execution_count": 10,
     "metadata": {},
     "output_type": "execute_result"
    }
   ],
   "source": [
    "def hello(first_name, last_name):\n",
    "    return f'Hello, {first_name} {last_name}!'\n",
    "\n",
    "hello('Jane', 'Lim')"
   ]
  },
  {
   "cell_type": "code",
   "execution_count": 11,
   "id": "complicated-battery",
   "metadata": {},
   "outputs": [
    {
     "data": {
      "text/plain": [
       "'Hello, Jane Lim!'"
      ]
     },
     "execution_count": 11,
     "metadata": {},
     "output_type": "execute_result"
    }
   ],
   "source": [
    "def hello(first_name, last_name):\n",
    "    s = f'Hello, {first_name} {last_name}!'\n",
    "    return s\n",
    "\n",
    "hello('Jane', 'Lim')"
   ]
  },
  {
   "cell_type": "code",
   "execution_count": 14,
   "id": "young-ottawa",
   "metadata": {},
   "outputs": [
    {
     "data": {
      "text/plain": [
       "11"
      ]
     },
     "execution_count": 14,
     "metadata": {},
     "output_type": "execute_result"
    }
   ],
   "source": [
    "def total_lengths(list_of_words):\n",
    "    total = 0\n",
    "    \n",
    "    for one_word in list_of_words:\n",
    "        total += len(one_word)\n",
    "    return total\n",
    "total_lengths(['abcd', 'efghi', 'jk'])"
   ]
  },
  {
   "cell_type": "code",
   "execution_count": 15,
   "id": "organic-preference",
   "metadata": {},
   "outputs": [],
   "source": [
    "def count_vowels(s):\n",
    "    total = 0\n",
    "    \n",
    "    for s in 'aeiou':\n",
    "        total +=1\n",
    "    return total\n"
   ]
  },
  {
   "cell_type": "code",
   "execution_count": 16,
   "id": "personal-option",
   "metadata": {},
   "outputs": [
    {
     "data": {
      "text/plain": [
       "5"
      ]
     },
     "execution_count": 16,
     "metadata": {},
     "output_type": "execute_result"
    }
   ],
   "source": [
    "count_vowels(hello)"
   ]
  },
  {
   "cell_type": "code",
   "execution_count": null,
   "id": "mounted-theta",
   "metadata": {},
   "outputs": [],
   "source": []
  }
 ],
 "metadata": {
  "kernelspec": {
   "display_name": "Python 3",
   "language": "python",
   "name": "python3"
  },
  "language_info": {
   "codemirror_mode": {
    "name": "ipython",
    "version": 3
   },
   "file_extension": ".py",
   "mimetype": "text/x-python",
   "name": "python",
   "nbconvert_exporter": "python",
   "pygments_lexer": "ipython3",
   "version": "3.8.6"
  }
 },
 "nbformat": 4,
 "nbformat_minor": 5
}
