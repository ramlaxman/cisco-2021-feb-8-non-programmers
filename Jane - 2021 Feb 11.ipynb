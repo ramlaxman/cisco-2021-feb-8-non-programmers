{
 "cells": [
  {
   "cell_type": "code",
   "execution_count": 10,
   "id": "specified-advertiser",
   "metadata": {},
   "outputs": [
    {
     "data": {
      "text/plain": [
       "'Hello, Jane Lim!'"
      ]
     },
     "execution_count": 10,
     "metadata": {},
     "output_type": "execute_result"
    }
   ],
   "source": [
    "def hello(first_name, last_name):\n",
    "    return f'Hello, {first_name} {last_name}!'\n",
    "\n",
    "hello('Jane', 'Lim')"
   ]
  },
  {
   "cell_type": "code",
   "execution_count": 11,
   "id": "subjective-somerset",
   "metadata": {},
   "outputs": [
    {
     "data": {
      "text/plain": [
       "'Hello, Jane Lim!'"
      ]
     },
     "execution_count": 11,
     "metadata": {},
     "output_type": "execute_result"
    }
   ],
   "source": [
    "def hello(first_name, last_name):\n",
    "    s = f'Hello, {first_name} {last_name}!'\n",
    "    return s\n",
    "\n",
    "hello('Jane', 'Lim')"
   ]
  },
  {
   "cell_type": "code",
   "execution_count": 14,
   "id": "declared-senator",
   "metadata": {},
   "outputs": [
    {
     "data": {
      "text/plain": [
       "11"
      ]
     },
     "execution_count": 14,
     "metadata": {},
     "output_type": "execute_result"
    }
   ],
   "source": [
    "def total_lengths(list_of_words):\n",
    "    total = 0\n",
    "    \n",
    "    for one_word in list_of_words:\n",
    "        total += len(one_word)\n",
    "    return total\n",
    "total_lengths(['abcd', 'efghi', 'jk'])"
   ]
  },
  {
   "cell_type": "code",
   "execution_count": 27,
   "id": "polyphonic-beads",
   "metadata": {},
   "outputs": [],
   "source": [
    "def count_vowels(s):\n",
    "    total = 0\n",
    "    \n",
    "    for one_character in s:\n",
    "        if one_character in 'aeiou':\n",
    "            total += 1\n",
    "\n",
    "    return total\n"
   ]
  },
  {
   "cell_type": "code",
   "execution_count": 29,
   "id": "greek-quarterly",
   "metadata": {},
   "outputs": [
    {
     "data": {
      "text/plain": [
       "2"
      ]
     },
     "execution_count": 29,
     "metadata": {},
     "output_type": "execute_result"
    }
   ],
   "source": [
    "count_vowels('hello')"
   ]
  },
  {
   "cell_type": "code",
   "execution_count": 26,
   "id": "pleased-prediction",
   "metadata": {},
   "outputs": [
    {
     "name": "stdout",
     "output_type": "stream",
     "text": [
      "Yes, a vowel\n"
     ]
    }
   ],
   "source": [
    "s = 'a'\n",
    "if s in 'aeiou':\n",
    "    print('Yes, a vowel')\n",
    "else:\n",
    "    print('No, not a vowel')"
   ]
  },
  {
   "cell_type": "code",
   "execution_count": 30,
   "id": "measured-conversion",
   "metadata": {},
   "outputs": [
    {
     "data": {
      "text/plain": [
       "4"
      ]
     },
     "execution_count": 30,
     "metadata": {},
     "output_type": "execute_result"
    }
   ],
   "source": [
    "count_vowels('dictionary')"
   ]
  },
  {
   "cell_type": "code",
   "execution_count": 39,
   "id": "novel-reverse",
   "metadata": {},
   "outputs": [],
   "source": [
    "def count_vowels_file(filename):\n",
    "    # setup\n",
    "    total = 0\n",
    "    \n",
    "    # calculation\n",
    "    for one_line in open(filename):\n",
    "        total += count_vowels(one_line)\n",
    "    \n",
    "    # report\n",
    "    return total\n",
    "    "
   ]
  },
  {
   "cell_type": "code",
   "execution_count": 40,
   "id": "aggressive-three",
   "metadata": {},
   "outputs": [
    {
     "data": {
      "text/plain": [
       "40"
      ]
     },
     "execution_count": 40,
     "metadata": {},
     "output_type": "execute_result"
    }
   ],
   "source": [
    "count_vowels_file('wcfile.txt')"
   ]
  },
  {
   "cell_type": "code",
   "execution_count": 62,
   "id": "experimental-utilization",
   "metadata": {},
   "outputs": [],
   "source": [
    "def sum_digits(s):\n",
    "    # setup\n",
    "    total = 0\n",
    "    \n",
    "    # calculation\n",
    "    for one_character in s:\n",
    "        if one_character.isdigit():\n",
    "            total += int(one_character)\n",
    "     \n",
    "    #report\n",
    "    return total"
   ]
  },
  {
   "cell_type": "code",
   "execution_count": 63,
   "id": "dying-monaco",
   "metadata": {},
   "outputs": [
    {
     "data": {
      "text/plain": [
       "10"
      ]
     },
     "execution_count": 63,
     "metadata": {},
     "output_type": "execute_result"
    }
   ],
   "source": [
    "sum_digits('avc123def4')"
   ]
  },
  {
   "cell_type": "code",
   "execution_count": 57,
   "id": "ambient-framing",
   "metadata": {},
   "outputs": [
    {
     "name": "stdout",
     "output_type": "stream",
     "text": [
      "0\n"
     ]
    }
   ],
   "source": [
    "s = 'abc123'\n",
    "print(sum_digits(s))"
   ]
  },
  {
   "cell_type": "code",
   "execution_count": 64,
   "id": "unable-northern",
   "metadata": {},
   "outputs": [
    {
     "data": {
      "text/plain": [
       "6"
      ]
     },
     "execution_count": 64,
     "metadata": {},
     "output_type": "execute_result"
    }
   ],
   "source": [
    "sum_digits('abs123')"
   ]
  },
  {
   "cell_type": "code",
   "execution_count": 65,
   "id": "fitted-zimbabwe",
   "metadata": {},
   "outputs": [
    {
     "name": "stdout",
     "output_type": "stream",
     "text": [
      "'Anuj 9th Feb.ipynb'\r\n",
      "'Anuj Aggarwal 8th Feb 2021.ipynb'\r\n",
      "'Ever --2021 Feb 10.ipynb'\r\n",
      "'Ever --2021 Feb 8.ipynb'\r\n",
      "'Ever --2021 Feb 9.ipynb'\r\n",
      " Ever-output.txt\r\n",
      "'Fernando Feb 2021.ipynb'\r\n",
      "'Ganesh Sankaranarayanan - February 10 2021.ipynb'\r\n",
      "'Ganesh Sankaranarayanan - February 11 2021.ipynb'\r\n",
      "'Ganesh Sankaranarayanan - February 8, 2021.ipynb'\r\n",
      "'Ganesh Sankaranarayanan - February 9 2021.ipynb'\r\n",
      " JSM-output.txt\r\n",
      "'Jane - 2021 Feb 10.ipynb'\r\n",
      "'Jane - 2021 Feb 11.ipynb'\r\n",
      "'Jane - 2021 Feb 8.ipynb'\r\n",
      "'Jane - 2021 Feb 9.ipynb'\r\n",
      "'Jason Davis - 10 FEB, 2021.ipynb'\r\n",
      "'Jason Davis - 11 FEB, 2021.ipynb'\r\n",
      "'Jason Davis - 8 FEB, 2021.ipynb'\r\n",
      "'Jason Davis - 9 FEB, 20201.ipynb'\r\n",
      "'Joe M 2-11-2021.ipynb'\r\n",
      "'Joe Marshall 2-10-2021.ipynb'\r\n",
      "\"Joe's Notebook 2-08-21.ipynb\"\r\n",
      "\"Joe's Notebook 2-9-2021.ipynb\"\r\n",
      " Luis_Gibeli_02-08-2021.ipynb\r\n",
      " README.txt\r\n",
      "'Reuven — 2021 Feb 10.html'\r\n",
      "'Reuven — 2021 Feb 10.ipynb'\r\n",
      "'Reuven — 2021 Feb 10.py'\r\n",
      "'Reuven — 2021 Feb 11.ipynb'\r\n",
      "'Reuven — 2021 Feb 8.html'\r\n",
      "'Reuven — 2021 Feb 8.ipynb'\r\n",
      "'Reuven — 2021 Feb 8.py'\r\n",
      "'Reuven — 2021 Feb 9.html'\r\n",
      "'Reuven — 2021 Feb 9.ipynb'\r\n",
      "'Reuven — 2021 Feb 9.py'\r\n",
      " Solomon_02092021.ipynb\r\n",
      " Untitled.ipynb\r\n",
      " Untitled1.ipynb\r\n",
      " Untitled2.ipynb\r\n",
      " Untitled3.ipynb\r\n",
      " advanced-exercise-files.zip\r\n",
      " ever-output.txt\r\n",
      " exercise-files.zip\r\n",
      " gs-output.txt\r\n",
      " jane.txt\r\n",
      " jd-output.txt\r\n",
      " linux-etc-passwd.txt\r\n",
      " mini-access-log.txt\r\n",
      " movies.dat\r\n",
      " nohup.out\r\n",
      " nums.txt\r\n",
      " rml-output.txt\r\n",
      " shoe-data.txt\r\n",
      " solo_write.txt\r\n",
      " solomon-02122021.ipynb\r\n",
      " solomon.ipynb\r\n",
      " solomon_02102021.ipynb\r\n",
      " taxi.csv\r\n",
      " untitled.txt\r\n",
      " untitled1.txt\r\n",
      " wcfile.txt\r\n"
     ]
    }
   ],
   "source": [
    "!ls *."
   ]
  },
  {
   "cell_type": "code",
   "execution_count": null,
   "id": "extra-bloom",
   "metadata": {},
   "outputs": [],
   "source": []
  }
 ],
 "metadata": {
  "kernelspec": {
   "display_name": "Python 3",
   "language": "python",
   "name": "python3"
  },
  "language_info": {
   "codemirror_mode": {
    "name": "ipython",
    "version": 3
   },
   "file_extension": ".py",
   "mimetype": "text/x-python",
   "name": "python",
   "nbconvert_exporter": "python",
   "pygments_lexer": "ipython3",
   "version": "3.8.6"
  }
 },
 "nbformat": 4,
 "nbformat_minor": 5
}
