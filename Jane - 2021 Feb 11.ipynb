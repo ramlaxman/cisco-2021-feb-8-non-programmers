{
 "cells": [
  {
   "cell_type": "code",
   "execution_count": 10,
   "id": "aggregate-praise",
   "metadata": {},
   "outputs": [
    {
     "data": {
      "text/plain": [
       "'Hello, Jane Lim!'"
      ]
     },
     "execution_count": 10,
     "metadata": {},
     "output_type": "execute_result"
    }
   ],
   "source": [
    "def hello(first_name, last_name):\n",
    "    return f'Hello, {first_name} {last_name}!'\n",
    "\n",
    "hello('Jane', 'Lim')"
   ]
  },
  {
   "cell_type": "code",
   "execution_count": 11,
   "id": "fallen-portugal",
   "metadata": {},
   "outputs": [
    {
     "data": {
      "text/plain": [
       "'Hello, Jane Lim!'"
      ]
     },
     "execution_count": 11,
     "metadata": {},
     "output_type": "execute_result"
    }
   ],
   "source": [
    "def hello(first_name, last_name):\n",
    "    s = f'Hello, {first_name} {last_name}!'\n",
    "    return s\n",
    "\n",
    "hello('Jane', 'Lim')"
   ]
  },
  {
   "cell_type": "code",
   "execution_count": 14,
   "id": "small-coupon",
   "metadata": {},
   "outputs": [
    {
     "data": {
      "text/plain": [
       "11"
      ]
     },
     "execution_count": 14,
     "metadata": {},
     "output_type": "execute_result"
    }
   ],
   "source": [
    "def total_lengths(list_of_words):\n",
    "    total = 0\n",
    "    \n",
    "    for one_word in list_of_words:\n",
    "        total += len(one_word)\n",
    "    return total\n",
    "total_lengths(['abcd', 'efghi', 'jk'])"
   ]
  },
  {
   "cell_type": "code",
   "execution_count": 27,
   "id": "moved-hurricane",
   "metadata": {},
   "outputs": [],
   "source": [
    "def count_vowels(s):\n",
    "    total = 0\n",
    "    \n",
    "    for one_character in s:\n",
    "        if one_character in 'aeiou':\n",
    "            total += 1\n",
    "\n",
    "    return total\n"
   ]
  },
  {
   "cell_type": "code",
   "execution_count": 29,
   "id": "controlling-craft",
   "metadata": {},
   "outputs": [
    {
     "data": {
      "text/plain": [
       "2"
      ]
     },
     "execution_count": 29,
     "metadata": {},
     "output_type": "execute_result"
    }
   ],
   "source": [
    "count_vowels('hello')"
   ]
  },
  {
   "cell_type": "code",
   "execution_count": 26,
   "id": "mighty-cassette",
   "metadata": {},
   "outputs": [
    {
     "name": "stdout",
     "output_type": "stream",
     "text": [
      "Yes, a vowel\n"
     ]
    }
   ],
   "source": [
    "s = 'a'\n",
    "if s in 'aeiou':\n",
    "    print('Yes, a vowel')\n",
    "else:\n",
    "    print('No, not a vowel')"
   ]
  },
  {
   "cell_type": "code",
   "execution_count": 30,
   "id": "exact-ready",
   "metadata": {},
   "outputs": [
    {
     "data": {
      "text/plain": [
       "4"
      ]
     },
     "execution_count": 30,
     "metadata": {},
     "output_type": "execute_result"
    }
   ],
   "source": [
    "count_vowels('dictionary')"
   ]
  },
  {
   "cell_type": "code",
   "execution_count": 39,
   "id": "senior-blocking",
   "metadata": {},
   "outputs": [],
   "source": [
    "def count_vowels_file(filename):\n",
    "    # setup\n",
    "    total = 0\n",
    "    \n",
    "    # calculation\n",
    "    for one_line in open(filename):\n",
    "        total += count_vowels(one_line)\n",
    "    \n",
    "    # report\n",
    "    return total\n",
    "    "
   ]
  },
  {
   "cell_type": "code",
   "execution_count": 40,
   "id": "activated-device",
   "metadata": {},
   "outputs": [
    {
     "data": {
      "text/plain": [
       "40"
      ]
     },
     "execution_count": 40,
     "metadata": {},
     "output_type": "execute_result"
    }
   ],
   "source": [
    "count_vowels_file('wcfile.txt')"
   ]
  },
  {
   "cell_type": "code",
   "execution_count": 62,
   "id": "qualified-dependence",
   "metadata": {},
   "outputs": [],
   "source": [
    "def sum_digits(s):\n",
    "    # setup\n",
    "    total = 0\n",
    "    \n",
    "    # calculation\n",
    "    for one_character in s:\n",
    "        if one_character.isdigit():\n",
    "            total += int(one_character)\n",
    "     \n",
    "    #report\n",
    "    return total"
   ]
  },
  {
   "cell_type": "code",
   "execution_count": 63,
   "id": "clear-poker",
   "metadata": {},
   "outputs": [
    {
     "data": {
      "text/plain": [
       "10"
      ]
     },
     "execution_count": 63,
     "metadata": {},
     "output_type": "execute_result"
    }
   ],
   "source": [
    "sum_digits('avc123def4')"
   ]
  },
  {
   "cell_type": "code",
   "execution_count": 57,
   "id": "celtic-tolerance",
   "metadata": {},
   "outputs": [
    {
     "name": "stdout",
     "output_type": "stream",
     "text": [
      "0\n"
     ]
    }
   ],
   "source": [
    "s = 'abc123'\n",
    "print(sum_digits(s))"
   ]
  },
  {
   "cell_type": "code",
   "execution_count": 64,
   "id": "sound-broadcasting",
   "metadata": {},
   "outputs": [
    {
     "data": {
      "text/plain": [
       "6"
      ]
     },
     "execution_count": 64,
     "metadata": {},
     "output_type": "execute_result"
    }
   ],
   "source": [
    "sum_digits('abs123')"
   ]
  },
  {
   "cell_type": "code",
   "execution_count": 66,
   "id": "institutional-upper",
   "metadata": {},
   "outputs": [
    {
     "name": "stdout",
     "output_type": "stream",
     "text": [
      "Ever-output.txt  gs-output.txt\t       mini-access-log.txt  solo_write.txt\r\n",
      "JSM-output.txt\t jane.txt\t       nums.txt\t\t    untitled.txt\r\n",
      "README.txt\t jd-output.txt\t       rml-output.txt\t    untitled1.txt\r\n",
      "ever-output.txt  linux-etc-passwd.txt  shoe-data.txt\t    wcfile.txt\r\n"
     ]
    }
   ],
   "source": [
    "!ls *.txt"
   ]
  },
  {
   "cell_type": "code",
   "execution_count": 87,
   "id": "sharing-inclusion",
   "metadata": {},
   "outputs": [],
   "source": [
    "def find_brand(filename, brand):\n",
    "    for one_line in open(filename):\n",
    "        if brand in one_line.split('\\t'):\n",
    "            print(one_line)\n",
    "            \n",
    "        "
   ]
  },
  {
   "cell_type": "code",
   "execution_count": 89,
   "id": "maritime-latest",
   "metadata": {},
   "outputs": [
    {
     "name": "stdout",
     "output_type": "stream",
     "text": [
      "Nike\tblack\t41\n",
      "\n",
      "Nike\twhite\t44\n",
      "\n",
      "Nike\tpink\t44\n",
      "\n",
      "Nike\tblack\t41\n",
      "\n",
      "Nike\tpink\t41\n",
      "\n",
      "Nike\tpink\t43\n",
      "\n",
      "Nike\tblack\t43\n",
      "\n",
      "Nike\tblack\t42\n",
      "\n",
      "Nike\tblack\t35\n",
      "\n",
      "Nike\tblack\t43\n",
      "\n",
      "Nike\tpink\t36\n",
      "\n",
      "Nike\tblack\t42\n",
      "\n",
      "Nike\twhite\t37\n",
      "\n",
      "Nike\tblack\t35\n",
      "\n",
      "Nike\twhite\t37\n",
      "\n",
      "Nike\tpink\t44\n",
      "\n",
      "Nike\tpink\t38\n",
      "\n",
      "Nike\tpink\t40\n",
      "\n",
      "Nike\twhite\t44\n",
      "\n",
      "Nike\torange\t38\n",
      "\n",
      "Nike\twhite\t37\n",
      "\n",
      "Nike\torange\t38\n",
      "\n",
      "Nike\tpink\t40\n",
      "\n",
      "Nike\torange\t40\n",
      "\n",
      "Nike\tpink\t40\n",
      "\n",
      "Nike\tblack\t41\n",
      "\n",
      "Nike\tblack\t39\n",
      "\n",
      "Nike\torange\t36\n",
      "\n",
      "Nike\tblack\t38\n",
      "\n",
      "Nike\tpink\t41\n",
      "\n",
      "Nike\tblack\t44\n",
      "\n",
      "Nike\tblack\t38\n",
      "\n",
      "Nike\tpink\t42\n",
      "\n",
      "Nike\twhite\t38\n",
      "\n",
      "Nike\torange\t39\n",
      "\n",
      "Nike\tblack\t35\n",
      "\n"
     ]
    }
   ],
   "source": [
    "find_brand('shoe-data.txt', 'Nike')"
   ]
  },
  {
   "cell_type": "code",
   "execution_count": 107,
   "id": "talented-diary",
   "metadata": {},
   "outputs": [],
   "source": [
    "def find_brand(filename, brand):\n",
    "   \n",
    "    for one_line in open(filename):\n",
    "        fields = one_line.split('\\t')\n",
    "        \n",
    "        if brand == fields[0]:\n",
    "            print(one_line)"
   ]
  },
  {
   "cell_type": "code",
   "execution_count": 108,
   "id": "specified-looking",
   "metadata": {},
   "outputs": [
    {
     "name": "stdout",
     "output_type": "stream",
     "text": [
      "Nike\tblack\t41\n",
      "\n",
      "Nike\twhite\t44\n",
      "\n",
      "Nike\tpink\t44\n",
      "\n",
      "Nike\tblack\t41\n",
      "\n",
      "Nike\tpink\t41\n",
      "\n",
      "Nike\tpink\t43\n",
      "\n",
      "Nike\tblack\t43\n",
      "\n",
      "Nike\tblack\t42\n",
      "\n",
      "Nike\tblack\t35\n",
      "\n",
      "Nike\tblack\t43\n",
      "\n",
      "Nike\tpink\t36\n",
      "\n",
      "Nike\tblack\t42\n",
      "\n",
      "Nike\twhite\t37\n",
      "\n",
      "Nike\tblack\t35\n",
      "\n",
      "Nike\twhite\t37\n",
      "\n",
      "Nike\tpink\t44\n",
      "\n",
      "Nike\tpink\t38\n",
      "\n",
      "Nike\tpink\t40\n",
      "\n",
      "Nike\twhite\t44\n",
      "\n",
      "Nike\torange\t38\n",
      "\n",
      "Nike\twhite\t37\n",
      "\n",
      "Nike\torange\t38\n",
      "\n",
      "Nike\tpink\t40\n",
      "\n",
      "Nike\torange\t40\n",
      "\n",
      "Nike\tpink\t40\n",
      "\n",
      "Nike\tblack\t41\n",
      "\n",
      "Nike\tblack\t39\n",
      "\n",
      "Nike\torange\t36\n",
      "\n",
      "Nike\tblack\t38\n",
      "\n",
      "Nike\tpink\t41\n",
      "\n",
      "Nike\tblack\t44\n",
      "\n",
      "Nike\tblack\t38\n",
      "\n",
      "Nike\tpink\t42\n",
      "\n",
      "Nike\twhite\t38\n",
      "\n",
      "Nike\torange\t39\n",
      "\n",
      "Nike\tblack\t35\n",
      "\n"
     ]
    }
   ],
   "source": [
    "find_brand('shoe-data.txt', 'Nike')"
   ]
  },
  {
   "cell_type": "code",
   "execution_count": 115,
   "id": "violent-elevation",
   "metadata": {},
   "outputs": [],
   "source": [
    "def find_brand(filename, brand):\n",
    "   \n",
    "    # Setup\n",
    "    output = []\n",
    "    for one_line in open(filename):\n",
    "        fields = one_line.split('\\t')\n",
    "        \n",
    "        if brand == fields[0]:\n",
    "            output.append(one_line)\n",
    "    return output"
   ]
  },
  {
   "cell_type": "code",
   "execution_count": 116,
   "id": "configured-semester",
   "metadata": {},
   "outputs": [
    {
     "data": {
      "text/plain": [
       "['Nike\\tblack\\t41\\n',\n",
       " 'Nike\\twhite\\t44\\n',\n",
       " 'Nike\\tpink\\t44\\n',\n",
       " 'Nike\\tblack\\t41\\n',\n",
       " 'Nike\\tpink\\t41\\n',\n",
       " 'Nike\\tpink\\t43\\n',\n",
       " 'Nike\\tblack\\t43\\n',\n",
       " 'Nike\\tblack\\t42\\n',\n",
       " 'Nike\\tblack\\t35\\n',\n",
       " 'Nike\\tblack\\t43\\n',\n",
       " 'Nike\\tpink\\t36\\n',\n",
       " 'Nike\\tblack\\t42\\n',\n",
       " 'Nike\\twhite\\t37\\n',\n",
       " 'Nike\\tblack\\t35\\n',\n",
       " 'Nike\\twhite\\t37\\n',\n",
       " 'Nike\\tpink\\t44\\n',\n",
       " 'Nike\\tpink\\t38\\n',\n",
       " 'Nike\\tpink\\t40\\n',\n",
       " 'Nike\\twhite\\t44\\n',\n",
       " 'Nike\\torange\\t38\\n',\n",
       " 'Nike\\twhite\\t37\\n',\n",
       " 'Nike\\torange\\t38\\n',\n",
       " 'Nike\\tpink\\t40\\n',\n",
       " 'Nike\\torange\\t40\\n',\n",
       " 'Nike\\tpink\\t40\\n',\n",
       " 'Nike\\tblack\\t41\\n',\n",
       " 'Nike\\tblack\\t39\\n',\n",
       " 'Nike\\torange\\t36\\n',\n",
       " 'Nike\\tblack\\t38\\n',\n",
       " 'Nike\\tpink\\t41\\n',\n",
       " 'Nike\\tblack\\t44\\n',\n",
       " 'Nike\\tblack\\t38\\n',\n",
       " 'Nike\\tpink\\t42\\n',\n",
       " 'Nike\\twhite\\t38\\n',\n",
       " 'Nike\\torange\\t39\\n',\n",
       " 'Nike\\tblack\\t35\\n']"
      ]
     },
     "execution_count": 116,
     "metadata": {},
     "output_type": "execute_result"
    }
   ],
   "source": [
    "find_brand('shoe-data.txt', 'Nike')"
   ]
  },
  {
   "cell_type": "code",
   "execution_count": 117,
   "id": "powered-hudson",
   "metadata": {},
   "outputs": [],
   "source": [
    "def find_brand(filename, brand):\n",
    "   \n",
    "    # Setup\n",
    "    output = []\n",
    "    for one_line in open(filename):     \n",
    "        if brand in one_line.split('\\t'):\n",
    "            output.append(one_line)\n",
    "    return output\n",
    "\n"
   ]
  },
  {
   "cell_type": "code",
   "execution_count": 119,
   "id": "likely-federation",
   "metadata": {},
   "outputs": [
    {
     "data": {
      "text/plain": [
       "['Nike\\tblack\\t41\\n',\n",
       " 'Nike\\twhite\\t44\\n',\n",
       " 'Nike\\tpink\\t44\\n',\n",
       " 'Nike\\tblack\\t41\\n',\n",
       " 'Nike\\tpink\\t41\\n',\n",
       " 'Nike\\tpink\\t43\\n',\n",
       " 'Nike\\tblack\\t43\\n',\n",
       " 'Nike\\tblack\\t42\\n',\n",
       " 'Nike\\tblack\\t35\\n',\n",
       " 'Nike\\tblack\\t43\\n',\n",
       " 'Nike\\tpink\\t36\\n',\n",
       " 'Nike\\tblack\\t42\\n',\n",
       " 'Nike\\twhite\\t37\\n',\n",
       " 'Nike\\tblack\\t35\\n',\n",
       " 'Nike\\twhite\\t37\\n',\n",
       " 'Nike\\tpink\\t44\\n',\n",
       " 'Nike\\tpink\\t38\\n',\n",
       " 'Nike\\tpink\\t40\\n',\n",
       " 'Nike\\twhite\\t44\\n',\n",
       " 'Nike\\torange\\t38\\n',\n",
       " 'Nike\\twhite\\t37\\n',\n",
       " 'Nike\\torange\\t38\\n',\n",
       " 'Nike\\tpink\\t40\\n',\n",
       " 'Nike\\torange\\t40\\n',\n",
       " 'Nike\\tpink\\t40\\n',\n",
       " 'Nike\\tblack\\t41\\n',\n",
       " 'Nike\\tblack\\t39\\n',\n",
       " 'Nike\\torange\\t36\\n',\n",
       " 'Nike\\tblack\\t38\\n',\n",
       " 'Nike\\tpink\\t41\\n',\n",
       " 'Nike\\tblack\\t44\\n',\n",
       " 'Nike\\tblack\\t38\\n',\n",
       " 'Nike\\tpink\\t42\\n',\n",
       " 'Nike\\twhite\\t38\\n',\n",
       " 'Nike\\torange\\t39\\n',\n",
       " 'Nike\\tblack\\t35\\n']"
      ]
     },
     "execution_count": 119,
     "metadata": {},
     "output_type": "execute_result"
    }
   ],
   "source": [
    "find_brand('shoe-data.txt', 'Nike')"
   ]
  },
  {
   "cell_type": "code",
   "execution_count": 120,
   "id": "absolute-commissioner",
   "metadata": {},
   "outputs": [
    {
     "data": {
      "text/plain": [
       "82"
      ]
     },
     "execution_count": 120,
     "metadata": {},
     "output_type": "execute_result"
    }
   ],
   "source": [
    "import random\n",
    "random.randint(0,100)"
   ]
  },
  {
   "cell_type": "code",
   "execution_count": 121,
   "id": "therapeutic-platinum",
   "metadata": {},
   "outputs": [
    {
     "data": {
      "text/plain": [
       "'0123456789'"
      ]
     },
     "execution_count": 121,
     "metadata": {},
     "output_type": "execute_result"
    }
   ],
   "source": [
    "import string\n",
    "string.digits"
   ]
  },
  {
   "cell_type": "code",
   "execution_count": 124,
   "id": "developing-guatemala",
   "metadata": {},
   "outputs": [
    {
     "name": "stdout",
     "output_type": "stream",
     "text": [
      "Jane - 2021 Feb 8.ipynb\n",
      "Jane - 2021 Feb 10.ipynb\n",
      "Jane - 2021 Feb 9.ipynb\n",
      "Jane - 2021 Feb 11.ipynb\n"
     ]
    }
   ],
   "source": [
    "import os\n",
    "for one_filename in os.listdir():\n",
    "    if one_filename.startswith('Jane'):\n",
    "        print(one_filename)"
   ]
  },
  {
   "cell_type": "code",
   "execution_count": null,
   "id": "pregnant-contamination",
   "metadata": {},
   "outputs": [],
   "source": [
    "s = jane\n",
    "n = int(6)\n",
    "import random\n",
    "random.choice"
   ]
  }
 ],
 "metadata": {
  "kernelspec": {
   "display_name": "Python 3",
   "language": "python",
   "name": "python3"
  },
  "language_info": {
   "codemirror_mode": {
    "name": "ipython",
    "version": 3
   },
   "file_extension": ".py",
   "mimetype": "text/x-python",
   "name": "python",
   "nbconvert_exporter": "python",
   "pygments_lexer": "ipython3",
   "version": "3.8.6"
  }
 },
 "nbformat": 4,
 "nbformat_minor": 5
}
