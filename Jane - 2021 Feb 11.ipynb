{
 "cells": [
  {
   "cell_type": "code",
   "execution_count": 10,
   "id": "fitting-military",
   "metadata": {},
   "outputs": [
    {
     "data": {
      "text/plain": [
       "'Hello, Jane Lim!'"
      ]
     },
     "execution_count": 10,
     "metadata": {},
     "output_type": "execute_result"
    }
   ],
   "source": [
    "def hello(first_name, last_name):\n",
    "    return f'Hello, {first_name} {last_name}!'\n",
    "\n",
    "hello('Jane', 'Lim')"
   ]
  },
  {
   "cell_type": "code",
   "execution_count": 11,
   "id": "martial-dodge",
   "metadata": {},
   "outputs": [
    {
     "data": {
      "text/plain": [
       "'Hello, Jane Lim!'"
      ]
     },
     "execution_count": 11,
     "metadata": {},
     "output_type": "execute_result"
    }
   ],
   "source": [
    "def hello(first_name, last_name):\n",
    "    s = f'Hello, {first_name} {last_name}!'\n",
    "    return s\n",
    "\n",
    "hello('Jane', 'Lim')"
   ]
  },
  {
   "cell_type": "code",
   "execution_count": 14,
   "id": "frequent-alexander",
   "metadata": {},
   "outputs": [
    {
     "data": {
      "text/plain": [
       "11"
      ]
     },
     "execution_count": 14,
     "metadata": {},
     "output_type": "execute_result"
    }
   ],
   "source": [
    "def total_lengths(list_of_words):\n",
    "    total = 0\n",
    "    \n",
    "    for one_word in list_of_words:\n",
    "        total += len(one_word)\n",
    "    return total\n",
    "total_lengths(['abcd', 'efghi', 'jk'])"
   ]
  },
  {
   "cell_type": "code",
   "execution_count": 27,
   "id": "downtown-isaac",
   "metadata": {},
   "outputs": [],
   "source": [
    "def count_vowels(s):\n",
    "    total = 0\n",
    "    \n",
    "    for one_character in s:\n",
    "        if one_character in 'aeiou':\n",
    "            total += 1\n",
    "\n",
    "    return total\n"
   ]
  },
  {
   "cell_type": "code",
   "execution_count": 29,
   "id": "floppy-light",
   "metadata": {},
   "outputs": [
    {
     "data": {
      "text/plain": [
       "2"
      ]
     },
     "execution_count": 29,
     "metadata": {},
     "output_type": "execute_result"
    }
   ],
   "source": [
    "count_vowels('hello')"
   ]
  },
  {
   "cell_type": "code",
   "execution_count": 26,
   "id": "pending-marshall",
   "metadata": {},
   "outputs": [
    {
     "name": "stdout",
     "output_type": "stream",
     "text": [
      "Yes, a vowel\n"
     ]
    }
   ],
   "source": [
    "s = 'a'\n",
    "if s in 'aeiou':\n",
    "    print('Yes, a vowel')\n",
    "else:\n",
    "    print('No, not a vowel')"
   ]
  },
  {
   "cell_type": "code",
   "execution_count": 30,
   "id": "terminal-characterization",
   "metadata": {},
   "outputs": [
    {
     "data": {
      "text/plain": [
       "4"
      ]
     },
     "execution_count": 30,
     "metadata": {},
     "output_type": "execute_result"
    }
   ],
   "source": [
    "count_vowels('dictionary')"
   ]
  },
  {
   "cell_type": "code",
   "execution_count": 39,
   "id": "surprising-gross",
   "metadata": {},
   "outputs": [],
   "source": [
    "def count_vowels_file(filename):\n",
    "    # setup\n",
    "    total = 0\n",
    "    \n",
    "    # calculation\n",
    "    for one_line in open(filename):\n",
    "        total += count_vowels(one_line)\n",
    "    \n",
    "    # report\n",
    "    return total\n",
    "    "
   ]
  },
  {
   "cell_type": "code",
   "execution_count": 40,
   "id": "coastal-confirmation",
   "metadata": {},
   "outputs": [
    {
     "data": {
      "text/plain": [
       "40"
      ]
     },
     "execution_count": 40,
     "metadata": {},
     "output_type": "execute_result"
    }
   ],
   "source": [
    "count_vowels_file('wcfile.txt')"
   ]
  },
  {
   "cell_type": "code",
   "execution_count": 62,
   "id": "durable-image",
   "metadata": {},
   "outputs": [],
   "source": [
    "def sum_digits(s):\n",
    "    # setup\n",
    "    total = 0\n",
    "    \n",
    "    # calculation\n",
    "    for one_character in s:\n",
    "        if one_character.isdigit():\n",
    "            total += int(one_character)\n",
    "     \n",
    "    #report\n",
    "    return total"
   ]
  },
  {
   "cell_type": "code",
   "execution_count": 63,
   "id": "three-mathematics",
   "metadata": {},
   "outputs": [
    {
     "data": {
      "text/plain": [
       "10"
      ]
     },
     "execution_count": 63,
     "metadata": {},
     "output_type": "execute_result"
    }
   ],
   "source": [
    "sum_digits('avc123def4')"
   ]
  },
  {
   "cell_type": "code",
   "execution_count": 57,
   "id": "dying-imagination",
   "metadata": {},
   "outputs": [
    {
     "name": "stdout",
     "output_type": "stream",
     "text": [
      "0\n"
     ]
    }
   ],
   "source": [
    "s = 'abc123'\n",
    "print(sum_digits(s))"
   ]
  },
  {
   "cell_type": "code",
   "execution_count": 64,
   "id": "under-infrared",
   "metadata": {},
   "outputs": [
    {
     "data": {
      "text/plain": [
       "6"
      ]
     },
     "execution_count": 64,
     "metadata": {},
     "output_type": "execute_result"
    }
   ],
   "source": [
    "sum_digits('abs123')"
   ]
  },
  {
   "cell_type": "code",
   "execution_count": 66,
   "id": "packed-gentleman",
   "metadata": {},
   "outputs": [
    {
     "name": "stdout",
     "output_type": "stream",
     "text": [
      "Ever-output.txt  gs-output.txt\t       mini-access-log.txt  solo_write.txt\r\n",
      "JSM-output.txt\t jane.txt\t       nums.txt\t\t    untitled.txt\r\n",
      "README.txt\t jd-output.txt\t       rml-output.txt\t    untitled1.txt\r\n",
      "ever-output.txt  linux-etc-passwd.txt  shoe-data.txt\t    wcfile.txt\r\n"
     ]
    }
   ],
   "source": [
    "!ls *.txt"
   ]
  },
  {
   "cell_type": "code",
   "execution_count": 87,
   "id": "central-guinea",
   "metadata": {},
   "outputs": [],
   "source": [
    "def find_brand(filename, brand):\n",
    "    for one_line in open(filename):\n",
    "        if brand in one_line.split('\\t'):\n",
    "            print(one_line)\n",
    "            \n",
    "        "
   ]
  },
  {
   "cell_type": "code",
   "execution_count": 89,
   "id": "broadband-textbook",
   "metadata": {},
   "outputs": [
    {
     "name": "stdout",
     "output_type": "stream",
     "text": [
      "Nike\tblack\t41\n",
      "\n",
      "Nike\twhite\t44\n",
      "\n",
      "Nike\tpink\t44\n",
      "\n",
      "Nike\tblack\t41\n",
      "\n",
      "Nike\tpink\t41\n",
      "\n",
      "Nike\tpink\t43\n",
      "\n",
      "Nike\tblack\t43\n",
      "\n",
      "Nike\tblack\t42\n",
      "\n",
      "Nike\tblack\t35\n",
      "\n",
      "Nike\tblack\t43\n",
      "\n",
      "Nike\tpink\t36\n",
      "\n",
      "Nike\tblack\t42\n",
      "\n",
      "Nike\twhite\t37\n",
      "\n",
      "Nike\tblack\t35\n",
      "\n",
      "Nike\twhite\t37\n",
      "\n",
      "Nike\tpink\t44\n",
      "\n",
      "Nike\tpink\t38\n",
      "\n",
      "Nike\tpink\t40\n",
      "\n",
      "Nike\twhite\t44\n",
      "\n",
      "Nike\torange\t38\n",
      "\n",
      "Nike\twhite\t37\n",
      "\n",
      "Nike\torange\t38\n",
      "\n",
      "Nike\tpink\t40\n",
      "\n",
      "Nike\torange\t40\n",
      "\n",
      "Nike\tpink\t40\n",
      "\n",
      "Nike\tblack\t41\n",
      "\n",
      "Nike\tblack\t39\n",
      "\n",
      "Nike\torange\t36\n",
      "\n",
      "Nike\tblack\t38\n",
      "\n",
      "Nike\tpink\t41\n",
      "\n",
      "Nike\tblack\t44\n",
      "\n",
      "Nike\tblack\t38\n",
      "\n",
      "Nike\tpink\t42\n",
      "\n",
      "Nike\twhite\t38\n",
      "\n",
      "Nike\torange\t39\n",
      "\n",
      "Nike\tblack\t35\n",
      "\n"
     ]
    }
   ],
   "source": [
    "find_brand('shoe-data.txt', 'Nike')"
   ]
  },
  {
   "cell_type": "code",
   "execution_count": 107,
   "id": "large-adolescent",
   "metadata": {},
   "outputs": [],
   "source": [
    "def find_brand(filename, brand):\n",
    "   \n",
    "    for one_line in open(filename):\n",
    "        fields = one_line.split('\\t')\n",
    "        \n",
    "        if brand == fields[0]:\n",
    "            print(one_line)"
   ]
  },
  {
   "cell_type": "code",
   "execution_count": 108,
   "id": "preceding-pierre",
   "metadata": {},
   "outputs": [
    {
     "name": "stdout",
     "output_type": "stream",
     "text": [
      "Nike\tblack\t41\n",
      "\n",
      "Nike\twhite\t44\n",
      "\n",
      "Nike\tpink\t44\n",
      "\n",
      "Nike\tblack\t41\n",
      "\n",
      "Nike\tpink\t41\n",
      "\n",
      "Nike\tpink\t43\n",
      "\n",
      "Nike\tblack\t43\n",
      "\n",
      "Nike\tblack\t42\n",
      "\n",
      "Nike\tblack\t35\n",
      "\n",
      "Nike\tblack\t43\n",
      "\n",
      "Nike\tpink\t36\n",
      "\n",
      "Nike\tblack\t42\n",
      "\n",
      "Nike\twhite\t37\n",
      "\n",
      "Nike\tblack\t35\n",
      "\n",
      "Nike\twhite\t37\n",
      "\n",
      "Nike\tpink\t44\n",
      "\n",
      "Nike\tpink\t38\n",
      "\n",
      "Nike\tpink\t40\n",
      "\n",
      "Nike\twhite\t44\n",
      "\n",
      "Nike\torange\t38\n",
      "\n",
      "Nike\twhite\t37\n",
      "\n",
      "Nike\torange\t38\n",
      "\n",
      "Nike\tpink\t40\n",
      "\n",
      "Nike\torange\t40\n",
      "\n",
      "Nike\tpink\t40\n",
      "\n",
      "Nike\tblack\t41\n",
      "\n",
      "Nike\tblack\t39\n",
      "\n",
      "Nike\torange\t36\n",
      "\n",
      "Nike\tblack\t38\n",
      "\n",
      "Nike\tpink\t41\n",
      "\n",
      "Nike\tblack\t44\n",
      "\n",
      "Nike\tblack\t38\n",
      "\n",
      "Nike\tpink\t42\n",
      "\n",
      "Nike\twhite\t38\n",
      "\n",
      "Nike\torange\t39\n",
      "\n",
      "Nike\tblack\t35\n",
      "\n"
     ]
    }
   ],
   "source": [
    "find_brand('shoe-data.txt', 'Nike')"
   ]
  },
  {
   "cell_type": "code",
   "execution_count": 115,
   "id": "promising-impossible",
   "metadata": {},
   "outputs": [],
   "source": [
    "def find_brand(filename, brand):\n",
    "   \n",
    "    # Setup\n",
    "    output = []\n",
    "    for one_line in open(filename):\n",
    "        fields = one_line.split('\\t')\n",
    "        \n",
    "        if brand == fields[0]:\n",
    "            output.append(one_line)\n",
    "    return output"
   ]
  },
  {
   "cell_type": "code",
   "execution_count": 116,
   "id": "three-tumor",
   "metadata": {},
   "outputs": [
    {
     "data": {
      "text/plain": [
       "['Nike\\tblack\\t41\\n',\n",
       " 'Nike\\twhite\\t44\\n',\n",
       " 'Nike\\tpink\\t44\\n',\n",
       " 'Nike\\tblack\\t41\\n',\n",
       " 'Nike\\tpink\\t41\\n',\n",
       " 'Nike\\tpink\\t43\\n',\n",
       " 'Nike\\tblack\\t43\\n',\n",
       " 'Nike\\tblack\\t42\\n',\n",
       " 'Nike\\tblack\\t35\\n',\n",
       " 'Nike\\tblack\\t43\\n',\n",
       " 'Nike\\tpink\\t36\\n',\n",
       " 'Nike\\tblack\\t42\\n',\n",
       " 'Nike\\twhite\\t37\\n',\n",
       " 'Nike\\tblack\\t35\\n',\n",
       " 'Nike\\twhite\\t37\\n',\n",
       " 'Nike\\tpink\\t44\\n',\n",
       " 'Nike\\tpink\\t38\\n',\n",
       " 'Nike\\tpink\\t40\\n',\n",
       " 'Nike\\twhite\\t44\\n',\n",
       " 'Nike\\torange\\t38\\n',\n",
       " 'Nike\\twhite\\t37\\n',\n",
       " 'Nike\\torange\\t38\\n',\n",
       " 'Nike\\tpink\\t40\\n',\n",
       " 'Nike\\torange\\t40\\n',\n",
       " 'Nike\\tpink\\t40\\n',\n",
       " 'Nike\\tblack\\t41\\n',\n",
       " 'Nike\\tblack\\t39\\n',\n",
       " 'Nike\\torange\\t36\\n',\n",
       " 'Nike\\tblack\\t38\\n',\n",
       " 'Nike\\tpink\\t41\\n',\n",
       " 'Nike\\tblack\\t44\\n',\n",
       " 'Nike\\tblack\\t38\\n',\n",
       " 'Nike\\tpink\\t42\\n',\n",
       " 'Nike\\twhite\\t38\\n',\n",
       " 'Nike\\torange\\t39\\n',\n",
       " 'Nike\\tblack\\t35\\n']"
      ]
     },
     "execution_count": 116,
     "metadata": {},
     "output_type": "execute_result"
    }
   ],
   "source": [
    "find_brand('shoe-data.txt', 'Nike')"
   ]
  },
  {
   "cell_type": "code",
   "execution_count": null,
   "id": "fewer-trail",
   "metadata": {},
   "outputs": [],
   "source": [
    "def find_brand(filename, brand):\n",
    "   \n",
    "    # Setup\n",
    "    mylist = []\n",
    "    for one_line in open(filename):\n",
    "        fields = one_line.split('\\t')\n",
    "        \n",
    "        if brand == fields[0]:\n",
    "            mylist.append(one_line)\n",
    "    return mylist"
   ]
  }
 ],
 "metadata": {
  "kernelspec": {
   "display_name": "Python 3",
   "language": "python",
   "name": "python3"
  },
  "language_info": {
   "codemirror_mode": {
    "name": "ipython",
    "version": 3
   },
   "file_extension": ".py",
   "mimetype": "text/x-python",
   "name": "python",
   "nbconvert_exporter": "python",
   "pygments_lexer": "ipython3",
   "version": "3.8.6"
  }
 },
 "nbformat": 4,
 "nbformat_minor": 5
}
