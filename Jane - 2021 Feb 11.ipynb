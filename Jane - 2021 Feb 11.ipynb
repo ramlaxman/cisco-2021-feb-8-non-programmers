{
 "cells": [
  {
   "cell_type": "code",
   "execution_count": 10,
   "id": "oriented-shuttle",
   "metadata": {},
   "outputs": [
    {
     "data": {
      "text/plain": [
       "'Hello, Jane Lim!'"
      ]
     },
     "execution_count": 10,
     "metadata": {},
     "output_type": "execute_result"
    }
   ],
   "source": [
    "def hello(first_name, last_name):\n",
    "    return f'Hello, {first_name} {last_name}!'\n",
    "\n",
    "hello('Jane', 'Lim')"
   ]
  },
  {
   "cell_type": "code",
   "execution_count": 11,
   "id": "rough-orchestra",
   "metadata": {},
   "outputs": [
    {
     "data": {
      "text/plain": [
       "'Hello, Jane Lim!'"
      ]
     },
     "execution_count": 11,
     "metadata": {},
     "output_type": "execute_result"
    }
   ],
   "source": [
    "def hello(first_name, last_name):\n",
    "    s = f'Hello, {first_name} {last_name}!'\n",
    "    return s\n",
    "\n",
    "hello('Jane', 'Lim')"
   ]
  },
  {
   "cell_type": "code",
   "execution_count": 14,
   "id": "following-schedule",
   "metadata": {},
   "outputs": [
    {
     "data": {
      "text/plain": [
       "11"
      ]
     },
     "execution_count": 14,
     "metadata": {},
     "output_type": "execute_result"
    }
   ],
   "source": [
    "def total_lengths(list_of_words):\n",
    "    total = 0\n",
    "    \n",
    "    for one_word in list_of_words:\n",
    "        total += len(one_word)\n",
    "    return total\n",
    "total_lengths(['abcd', 'efghi', 'jk'])"
   ]
  },
  {
   "cell_type": "code",
   "execution_count": 27,
   "id": "finished-magazine",
   "metadata": {},
   "outputs": [],
   "source": [
    "def count_vowels(s):\n",
    "    total = 0\n",
    "    \n",
    "    for one_character in s:\n",
    "        if one_character in 'aeiou':\n",
    "            total += 1\n",
    "\n",
    "    return total\n"
   ]
  },
  {
   "cell_type": "code",
   "execution_count": 29,
   "id": "indonesian-assistant",
   "metadata": {},
   "outputs": [
    {
     "data": {
      "text/plain": [
       "2"
      ]
     },
     "execution_count": 29,
     "metadata": {},
     "output_type": "execute_result"
    }
   ],
   "source": [
    "count_vowels('hello')"
   ]
  },
  {
   "cell_type": "code",
   "execution_count": 26,
   "id": "valid-asthma",
   "metadata": {},
   "outputs": [
    {
     "name": "stdout",
     "output_type": "stream",
     "text": [
      "Yes, a vowel\n"
     ]
    }
   ],
   "source": [
    "s = 'a'\n",
    "if s in 'aeiou':\n",
    "    print('Yes, a vowel')\n",
    "else:\n",
    "    print('No, not a vowel')"
   ]
  },
  {
   "cell_type": "code",
   "execution_count": 30,
   "id": "assured-sport",
   "metadata": {},
   "outputs": [
    {
     "data": {
      "text/plain": [
       "4"
      ]
     },
     "execution_count": 30,
     "metadata": {},
     "output_type": "execute_result"
    }
   ],
   "source": [
    "count_vowels('dictionary')"
   ]
  },
  {
   "cell_type": "code",
   "execution_count": 39,
   "id": "stunning-belle",
   "metadata": {},
   "outputs": [],
   "source": [
    "def count_vowels_file(filename):\n",
    "    # setup\n",
    "    total = 0\n",
    "    \n",
    "    # calculation\n",
    "    for one_line in open(filename):\n",
    "        total += count_vowels(one_line)\n",
    "    \n",
    "    # report\n",
    "    return total\n",
    "    "
   ]
  },
  {
   "cell_type": "code",
   "execution_count": 40,
   "id": "special-integral",
   "metadata": {},
   "outputs": [
    {
     "data": {
      "text/plain": [
       "40"
      ]
     },
     "execution_count": 40,
     "metadata": {},
     "output_type": "execute_result"
    }
   ],
   "source": [
    "count_vowels_file('wcfile.txt')"
   ]
  },
  {
   "cell_type": "code",
   "execution_count": 62,
   "id": "enclosed-footwear",
   "metadata": {},
   "outputs": [],
   "source": [
    "def sum_digits(s):\n",
    "    # setup\n",
    "    total = 0\n",
    "    \n",
    "    # calculation\n",
    "    for one_character in s:\n",
    "        if one_character.isdigit():\n",
    "            total += int(one_character)\n",
    "     \n",
    "    #report\n",
    "    return total"
   ]
  },
  {
   "cell_type": "code",
   "execution_count": 63,
   "id": "restricted-share",
   "metadata": {},
   "outputs": [
    {
     "data": {
      "text/plain": [
       "10"
      ]
     },
     "execution_count": 63,
     "metadata": {},
     "output_type": "execute_result"
    }
   ],
   "source": [
    "sum_digits('avc123def4')"
   ]
  },
  {
   "cell_type": "code",
   "execution_count": 57,
   "id": "spread-pixel",
   "metadata": {},
   "outputs": [
    {
     "name": "stdout",
     "output_type": "stream",
     "text": [
      "0\n"
     ]
    }
   ],
   "source": [
    "s = 'abc123'\n",
    "print(sum_digits(s))"
   ]
  },
  {
   "cell_type": "code",
   "execution_count": 64,
   "id": "ready-father",
   "metadata": {},
   "outputs": [
    {
     "data": {
      "text/plain": [
       "6"
      ]
     },
     "execution_count": 64,
     "metadata": {},
     "output_type": "execute_result"
    }
   ],
   "source": [
    "sum_digits('abs123')"
   ]
  },
  {
   "cell_type": "code",
   "execution_count": 66,
   "id": "informational-mention",
   "metadata": {},
   "outputs": [
    {
     "name": "stdout",
     "output_type": "stream",
     "text": [
      "Ever-output.txt  gs-output.txt\t       mini-access-log.txt  solo_write.txt\r\n",
      "JSM-output.txt\t jane.txt\t       nums.txt\t\t    untitled.txt\r\n",
      "README.txt\t jd-output.txt\t       rml-output.txt\t    untitled1.txt\r\n",
      "ever-output.txt  linux-etc-passwd.txt  shoe-data.txt\t    wcfile.txt\r\n"
     ]
    }
   ],
   "source": [
    "!ls *.txt"
   ]
  },
  {
   "cell_type": "code",
   "execution_count": 87,
   "id": "informed-ideal",
   "metadata": {},
   "outputs": [],
   "source": [
    "def find_brand(filename, brand):\n",
    "    for one_line in open(filename):\n",
    "        if brand in one_line.split('\\t'):\n",
    "            print(one_line)\n",
    "            \n",
    "        "
   ]
  },
  {
   "cell_type": "code",
   "execution_count": 89,
   "id": "fourth-fiction",
   "metadata": {},
   "outputs": [
    {
     "name": "stdout",
     "output_type": "stream",
     "text": [
      "Nike\tblack\t41\n",
      "\n",
      "Nike\twhite\t44\n",
      "\n",
      "Nike\tpink\t44\n",
      "\n",
      "Nike\tblack\t41\n",
      "\n",
      "Nike\tpink\t41\n",
      "\n",
      "Nike\tpink\t43\n",
      "\n",
      "Nike\tblack\t43\n",
      "\n",
      "Nike\tblack\t42\n",
      "\n",
      "Nike\tblack\t35\n",
      "\n",
      "Nike\tblack\t43\n",
      "\n",
      "Nike\tpink\t36\n",
      "\n",
      "Nike\tblack\t42\n",
      "\n",
      "Nike\twhite\t37\n",
      "\n",
      "Nike\tblack\t35\n",
      "\n",
      "Nike\twhite\t37\n",
      "\n",
      "Nike\tpink\t44\n",
      "\n",
      "Nike\tpink\t38\n",
      "\n",
      "Nike\tpink\t40\n",
      "\n",
      "Nike\twhite\t44\n",
      "\n",
      "Nike\torange\t38\n",
      "\n",
      "Nike\twhite\t37\n",
      "\n",
      "Nike\torange\t38\n",
      "\n",
      "Nike\tpink\t40\n",
      "\n",
      "Nike\torange\t40\n",
      "\n",
      "Nike\tpink\t40\n",
      "\n",
      "Nike\tblack\t41\n",
      "\n",
      "Nike\tblack\t39\n",
      "\n",
      "Nike\torange\t36\n",
      "\n",
      "Nike\tblack\t38\n",
      "\n",
      "Nike\tpink\t41\n",
      "\n",
      "Nike\tblack\t44\n",
      "\n",
      "Nike\tblack\t38\n",
      "\n",
      "Nike\tpink\t42\n",
      "\n",
      "Nike\twhite\t38\n",
      "\n",
      "Nike\torange\t39\n",
      "\n",
      "Nike\tblack\t35\n",
      "\n"
     ]
    }
   ],
   "source": [
    "find_brand('shoe-data.txt', 'Nike')"
   ]
  },
  {
   "cell_type": "code",
   "execution_count": 107,
   "id": "romantic-basin",
   "metadata": {},
   "outputs": [],
   "source": [
    "def find_brand(filename, brand):\n",
    "   \n",
    "    for one_line in open(filename):\n",
    "        fields = one_line.split('\\t')\n",
    "        \n",
    "        if brand == fields[0]:\n",
    "            print(one_line)"
   ]
  },
  {
   "cell_type": "code",
   "execution_count": 108,
   "id": "raised-interface",
   "metadata": {},
   "outputs": [
    {
     "name": "stdout",
     "output_type": "stream",
     "text": [
      "Nike\tblack\t41\n",
      "\n",
      "Nike\twhite\t44\n",
      "\n",
      "Nike\tpink\t44\n",
      "\n",
      "Nike\tblack\t41\n",
      "\n",
      "Nike\tpink\t41\n",
      "\n",
      "Nike\tpink\t43\n",
      "\n",
      "Nike\tblack\t43\n",
      "\n",
      "Nike\tblack\t42\n",
      "\n",
      "Nike\tblack\t35\n",
      "\n",
      "Nike\tblack\t43\n",
      "\n",
      "Nike\tpink\t36\n",
      "\n",
      "Nike\tblack\t42\n",
      "\n",
      "Nike\twhite\t37\n",
      "\n",
      "Nike\tblack\t35\n",
      "\n",
      "Nike\twhite\t37\n",
      "\n",
      "Nike\tpink\t44\n",
      "\n",
      "Nike\tpink\t38\n",
      "\n",
      "Nike\tpink\t40\n",
      "\n",
      "Nike\twhite\t44\n",
      "\n",
      "Nike\torange\t38\n",
      "\n",
      "Nike\twhite\t37\n",
      "\n",
      "Nike\torange\t38\n",
      "\n",
      "Nike\tpink\t40\n",
      "\n",
      "Nike\torange\t40\n",
      "\n",
      "Nike\tpink\t40\n",
      "\n",
      "Nike\tblack\t41\n",
      "\n",
      "Nike\tblack\t39\n",
      "\n",
      "Nike\torange\t36\n",
      "\n",
      "Nike\tblack\t38\n",
      "\n",
      "Nike\tpink\t41\n",
      "\n",
      "Nike\tblack\t44\n",
      "\n",
      "Nike\tblack\t38\n",
      "\n",
      "Nike\tpink\t42\n",
      "\n",
      "Nike\twhite\t38\n",
      "\n",
      "Nike\torange\t39\n",
      "\n",
      "Nike\tblack\t35\n",
      "\n"
     ]
    }
   ],
   "source": [
    "find_brand('shoe-data.txt', 'Nike')"
   ]
  },
  {
   "cell_type": "code",
   "execution_count": 115,
   "id": "married-merchant",
   "metadata": {},
   "outputs": [],
   "source": [
    "def find_brand(filename, brand):\n",
    "   \n",
    "    # Setup\n",
    "    output = []\n",
    "    for one_line in open(filename):\n",
    "        fields = one_line.split('\\t')\n",
    "        \n",
    "        if brand == fields[0]:\n",
    "            output.append(one_line)\n",
    "    return output"
   ]
  },
  {
   "cell_type": "code",
   "execution_count": 116,
   "id": "alleged-video",
   "metadata": {},
   "outputs": [
    {
     "data": {
      "text/plain": [
       "['Nike\\tblack\\t41\\n',\n",
       " 'Nike\\twhite\\t44\\n',\n",
       " 'Nike\\tpink\\t44\\n',\n",
       " 'Nike\\tblack\\t41\\n',\n",
       " 'Nike\\tpink\\t41\\n',\n",
       " 'Nike\\tpink\\t43\\n',\n",
       " 'Nike\\tblack\\t43\\n',\n",
       " 'Nike\\tblack\\t42\\n',\n",
       " 'Nike\\tblack\\t35\\n',\n",
       " 'Nike\\tblack\\t43\\n',\n",
       " 'Nike\\tpink\\t36\\n',\n",
       " 'Nike\\tblack\\t42\\n',\n",
       " 'Nike\\twhite\\t37\\n',\n",
       " 'Nike\\tblack\\t35\\n',\n",
       " 'Nike\\twhite\\t37\\n',\n",
       " 'Nike\\tpink\\t44\\n',\n",
       " 'Nike\\tpink\\t38\\n',\n",
       " 'Nike\\tpink\\t40\\n',\n",
       " 'Nike\\twhite\\t44\\n',\n",
       " 'Nike\\torange\\t38\\n',\n",
       " 'Nike\\twhite\\t37\\n',\n",
       " 'Nike\\torange\\t38\\n',\n",
       " 'Nike\\tpink\\t40\\n',\n",
       " 'Nike\\torange\\t40\\n',\n",
       " 'Nike\\tpink\\t40\\n',\n",
       " 'Nike\\tblack\\t41\\n',\n",
       " 'Nike\\tblack\\t39\\n',\n",
       " 'Nike\\torange\\t36\\n',\n",
       " 'Nike\\tblack\\t38\\n',\n",
       " 'Nike\\tpink\\t41\\n',\n",
       " 'Nike\\tblack\\t44\\n',\n",
       " 'Nike\\tblack\\t38\\n',\n",
       " 'Nike\\tpink\\t42\\n',\n",
       " 'Nike\\twhite\\t38\\n',\n",
       " 'Nike\\torange\\t39\\n',\n",
       " 'Nike\\tblack\\t35\\n']"
      ]
     },
     "execution_count": 116,
     "metadata": {},
     "output_type": "execute_result"
    }
   ],
   "source": [
    "find_brand('shoe-data.txt', 'Nike')"
   ]
  },
  {
   "cell_type": "code",
   "execution_count": 117,
   "id": "suburban-photograph",
   "metadata": {},
   "outputs": [],
   "source": [
    "def find_brand(filename, brand):\n",
    "   \n",
    "    # Setup\n",
    "    output = []\n",
    "    for one_line in open(filename):     \n",
    "        if brand in one_line.split('\\t'):\n",
    "            output.append(one_line)\n",
    "    return output\n",
    "\n"
   ]
  },
  {
   "cell_type": "code",
   "execution_count": 119,
   "id": "handy-adolescent",
   "metadata": {},
   "outputs": [
    {
     "data": {
      "text/plain": [
       "['Nike\\tblack\\t41\\n',\n",
       " 'Nike\\twhite\\t44\\n',\n",
       " 'Nike\\tpink\\t44\\n',\n",
       " 'Nike\\tblack\\t41\\n',\n",
       " 'Nike\\tpink\\t41\\n',\n",
       " 'Nike\\tpink\\t43\\n',\n",
       " 'Nike\\tblack\\t43\\n',\n",
       " 'Nike\\tblack\\t42\\n',\n",
       " 'Nike\\tblack\\t35\\n',\n",
       " 'Nike\\tblack\\t43\\n',\n",
       " 'Nike\\tpink\\t36\\n',\n",
       " 'Nike\\tblack\\t42\\n',\n",
       " 'Nike\\twhite\\t37\\n',\n",
       " 'Nike\\tblack\\t35\\n',\n",
       " 'Nike\\twhite\\t37\\n',\n",
       " 'Nike\\tpink\\t44\\n',\n",
       " 'Nike\\tpink\\t38\\n',\n",
       " 'Nike\\tpink\\t40\\n',\n",
       " 'Nike\\twhite\\t44\\n',\n",
       " 'Nike\\torange\\t38\\n',\n",
       " 'Nike\\twhite\\t37\\n',\n",
       " 'Nike\\torange\\t38\\n',\n",
       " 'Nike\\tpink\\t40\\n',\n",
       " 'Nike\\torange\\t40\\n',\n",
       " 'Nike\\tpink\\t40\\n',\n",
       " 'Nike\\tblack\\t41\\n',\n",
       " 'Nike\\tblack\\t39\\n',\n",
       " 'Nike\\torange\\t36\\n',\n",
       " 'Nike\\tblack\\t38\\n',\n",
       " 'Nike\\tpink\\t41\\n',\n",
       " 'Nike\\tblack\\t44\\n',\n",
       " 'Nike\\tblack\\t38\\n',\n",
       " 'Nike\\tpink\\t42\\n',\n",
       " 'Nike\\twhite\\t38\\n',\n",
       " 'Nike\\torange\\t39\\n',\n",
       " 'Nike\\tblack\\t35\\n']"
      ]
     },
     "execution_count": 119,
     "metadata": {},
     "output_type": "execute_result"
    }
   ],
   "source": [
    "find_brand('shoe-data.txt', 'Nike')"
   ]
  },
  {
   "cell_type": "code",
   "execution_count": 120,
   "id": "common-denial",
   "metadata": {},
   "outputs": [
    {
     "data": {
      "text/plain": [
       "82"
      ]
     },
     "execution_count": 120,
     "metadata": {},
     "output_type": "execute_result"
    }
   ],
   "source": [
    "import random\n",
    "random.randint(0,100)"
   ]
  },
  {
   "cell_type": "code",
   "execution_count": 121,
   "id": "younger-agent",
   "metadata": {},
   "outputs": [
    {
     "data": {
      "text/plain": [
       "'0123456789'"
      ]
     },
     "execution_count": 121,
     "metadata": {},
     "output_type": "execute_result"
    }
   ],
   "source": [
    "import string\n",
    "string.digits"
   ]
  },
  {
   "cell_type": "code",
   "execution_count": 123,
   "id": "opened-latvia",
   "metadata": {},
   "outputs": [
    {
     "data": {
      "text/plain": [
       "['Solomon_02092021.ipynb',\n",
       " 'Reuven — 2021 Feb 8.ipynb',\n",
       " 'ever-output.txt',\n",
       " 'Ever-output.txt',\n",
       " 'Anuj 9th Feb.ipynb',\n",
       " 'Jason Davis - 8 FEB, 2021.ipynb',\n",
       " 'nohup.out',\n",
       " 'Jane - 2021 Feb 8.ipynb',\n",
       " \"Joe's Notebook 2-08-21.ipynb\",\n",
       " 'Reuven — 2021 Feb 10.py',\n",
       " \"Joe's Notebook 2-9-2021.ipynb\",\n",
       " 'untitled.txt',\n",
       " 'solomon-02122021.ipynb',\n",
       " 'Ever --2021 Feb 8.ipynb',\n",
       " 'Reuven — 2021 Feb 8.html',\n",
       " 'gs-output.txt',\n",
       " 'solomon.ipynb',\n",
       " 'Fernando Feb 2021.ipynb',\n",
       " 'Ganesh Sankaranarayanan - February 10 2021.ipynb',\n",
       " 'exercise-files.zip',\n",
       " 'rml-output.txt',\n",
       " 'Ganesh Sankaranarayanan - February 11 2021.ipynb',\n",
       " 'Reuven — 2021 Feb 9.html',\n",
       " 'Jane - 2021 Feb 10.ipynb',\n",
       " 'solo_write.txt',\n",
       " 'shoe-data.txt',\n",
       " 'wcfile.txt',\n",
       " 'Untitled.ipynb',\n",
       " 'Reuven — 2021 Feb 10.html',\n",
       " 'advanced-exercise-files.zip',\n",
       " 'mini-access-log.txt',\n",
       " 'Ever --2021 Feb 12_notebook.ipynb',\n",
       " 'Jason Davis - 11 FEB, 2021.ipynb',\n",
       " 'Ganesh Sankaranarayanan - February 9 2021.ipynb',\n",
       " 'Anuj Aggarwal 8th Feb 2021.ipynb',\n",
       " 'JSM-output.txt',\n",
       " 'README.txt',\n",
       " 'Reuven — 2021 Feb 10.ipynb',\n",
       " 'jane.txt',\n",
       " 'Untitled1.ipynb',\n",
       " '.gitignore',\n",
       " 'Reuven — 2021 Feb 9.ipynb',\n",
       " 'Jason Davis - 10 FEB, 2021.ipynb',\n",
       " 'Untitled2.ipynb',\n",
       " 'Ever --2021 Feb 9.ipynb',\n",
       " 'Reuven — 2021 Feb 9.py',\n",
       " '.ipynb_checkpoints',\n",
       " 'Ever --2021 Feb 10.ipynb',\n",
       " 'Luis_Gibeli_02-08-2021.ipynb',\n",
       " 'Joe M 2-11-2021.ipynb',\n",
       " 'untitled1.txt',\n",
       " 'movies.dat',\n",
       " 'taxi.csv',\n",
       " '.git',\n",
       " 'Ganesh Sankaranarayanan - February 8, 2021.ipynb',\n",
       " 'Jane - 2021 Feb 9.ipynb',\n",
       " 'Reuven — 2021 Feb 8.py',\n",
       " 'Jane - 2021 Feb 11.ipynb',\n",
       " 'Reuven — 2021 Feb 11.ipynb',\n",
       " 'Joe Marshall 2-10-2021.ipynb',\n",
       " 'linux-etc-passwd.txt',\n",
       " 'nums.txt',\n",
       " 'Ever --2021 Feb 12.ipynb',\n",
       " 'Untitled3.ipynb',\n",
       " 'Jason Davis - 9 FEB, 20201.ipynb',\n",
       " 'solomon_02102021.ipynb',\n",
       " 'jd-output.txt']"
      ]
     },
     "execution_count": 123,
     "metadata": {},
     "output_type": "execute_result"
    }
   ],
   "source": [
    "import os\n",
    "os.listdir()"
   ]
  },
  {
   "cell_type": "code",
   "execution_count": null,
   "id": "available-relief",
   "metadata": {},
   "outputs": [],
   "source": []
  }
 ],
 "metadata": {
  "kernelspec": {
   "display_name": "Python 3",
   "language": "python",
   "name": "python3"
  },
  "language_info": {
   "codemirror_mode": {
    "name": "ipython",
    "version": 3
   },
   "file_extension": ".py",
   "mimetype": "text/x-python",
   "name": "python",
   "nbconvert_exporter": "python",
   "pygments_lexer": "ipython3",
   "version": "3.8.6"
  }
 },
 "nbformat": 4,
 "nbformat_minor": 5
}
