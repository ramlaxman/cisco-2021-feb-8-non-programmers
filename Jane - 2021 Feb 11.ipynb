{
 "cells": [
  {
   "cell_type": "code",
   "execution_count": 10,
   "id": "challenging-protocol",
   "metadata": {},
   "outputs": [
    {
     "data": {
      "text/plain": [
       "'Hello, Jane Lim!'"
      ]
     },
     "execution_count": 10,
     "metadata": {},
     "output_type": "execute_result"
    }
   ],
   "source": [
    "def hello(first_name, last_name):\n",
    "    return f'Hello, {first_name} {last_name}!'\n",
    "\n",
    "hello('Jane', 'Lim')"
   ]
  },
  {
   "cell_type": "code",
   "execution_count": 11,
   "id": "executed-maintenance",
   "metadata": {},
   "outputs": [
    {
     "data": {
      "text/plain": [
       "'Hello, Jane Lim!'"
      ]
     },
     "execution_count": 11,
     "metadata": {},
     "output_type": "execute_result"
    }
   ],
   "source": [
    "def hello(first_name, last_name):\n",
    "    s = f'Hello, {first_name} {last_name}!'\n",
    "    return s\n",
    "\n",
    "hello('Jane', 'Lim')"
   ]
  },
  {
   "cell_type": "code",
   "execution_count": 14,
   "id": "demographic-apollo",
   "metadata": {},
   "outputs": [
    {
     "data": {
      "text/plain": [
       "11"
      ]
     },
     "execution_count": 14,
     "metadata": {},
     "output_type": "execute_result"
    }
   ],
   "source": [
    "def total_lengths(list_of_words):\n",
    "    total = 0\n",
    "    \n",
    "    for one_word in list_of_words:\n",
    "        total += len(one_word)\n",
    "    return total\n",
    "total_lengths(['abcd', 'efghi', 'jk'])"
   ]
  },
  {
   "cell_type": "code",
   "execution_count": 27,
   "id": "recognized-payroll",
   "metadata": {},
   "outputs": [],
   "source": [
    "def count_vowels(s):\n",
    "    total = 0\n",
    "    \n",
    "    for one_character in s:\n",
    "        if one_character in 'aeiou':\n",
    "            total += 1\n",
    "\n",
    "    return total\n"
   ]
  },
  {
   "cell_type": "code",
   "execution_count": 29,
   "id": "caring-hostel",
   "metadata": {},
   "outputs": [
    {
     "data": {
      "text/plain": [
       "2"
      ]
     },
     "execution_count": 29,
     "metadata": {},
     "output_type": "execute_result"
    }
   ],
   "source": [
    "count_vowels('hello')"
   ]
  },
  {
   "cell_type": "code",
   "execution_count": 26,
   "id": "strange-glossary",
   "metadata": {},
   "outputs": [
    {
     "name": "stdout",
     "output_type": "stream",
     "text": [
      "Yes, a vowel\n"
     ]
    }
   ],
   "source": [
    "s = 'a'\n",
    "if s in 'aeiou':\n",
    "    print('Yes, a vowel')\n",
    "else:\n",
    "    print('No, not a vowel')"
   ]
  },
  {
   "cell_type": "code",
   "execution_count": 30,
   "id": "instant-wholesale",
   "metadata": {},
   "outputs": [
    {
     "data": {
      "text/plain": [
       "4"
      ]
     },
     "execution_count": 30,
     "metadata": {},
     "output_type": "execute_result"
    }
   ],
   "source": [
    "count_vowels('dictionary')"
   ]
  },
  {
   "cell_type": "code",
   "execution_count": 39,
   "id": "improving-security",
   "metadata": {},
   "outputs": [],
   "source": [
    "def count_vowels_file(filename):\n",
    "    # setup\n",
    "    total = 0\n",
    "    \n",
    "    # calculation\n",
    "    for one_line in open(filename):\n",
    "        total += count_vowels(one_line)\n",
    "    \n",
    "    # report\n",
    "    return total\n",
    "    "
   ]
  },
  {
   "cell_type": "code",
   "execution_count": 40,
   "id": "invisible-platinum",
   "metadata": {},
   "outputs": [
    {
     "data": {
      "text/plain": [
       "40"
      ]
     },
     "execution_count": 40,
     "metadata": {},
     "output_type": "execute_result"
    }
   ],
   "source": [
    "count_vowels_file('wcfile.txt')"
   ]
  },
  {
   "cell_type": "code",
   "execution_count": 62,
   "id": "touched-shoulder",
   "metadata": {},
   "outputs": [],
   "source": [
    "def sum_digits(s):\n",
    "    # setup\n",
    "    total = 0\n",
    "    \n",
    "    # calculation\n",
    "    for one_character in s:\n",
    "        if one_character.isdigit():\n",
    "            total += int(one_character)\n",
    "     \n",
    "    #report\n",
    "    return total"
   ]
  },
  {
   "cell_type": "code",
   "execution_count": 63,
   "id": "developed-somerset",
   "metadata": {},
   "outputs": [
    {
     "data": {
      "text/plain": [
       "10"
      ]
     },
     "execution_count": 63,
     "metadata": {},
     "output_type": "execute_result"
    }
   ],
   "source": [
    "sum_digits('avc123def4')"
   ]
  },
  {
   "cell_type": "code",
   "execution_count": 57,
   "id": "infectious-wellington",
   "metadata": {},
   "outputs": [
    {
     "name": "stdout",
     "output_type": "stream",
     "text": [
      "0\n"
     ]
    }
   ],
   "source": [
    "s = 'abc123'\n",
    "print(sum_digits(s))"
   ]
  },
  {
   "cell_type": "code",
   "execution_count": 64,
   "id": "endless-group",
   "metadata": {},
   "outputs": [
    {
     "data": {
      "text/plain": [
       "6"
      ]
     },
     "execution_count": 64,
     "metadata": {},
     "output_type": "execute_result"
    }
   ],
   "source": [
    "sum_digits('abs123')"
   ]
  },
  {
   "cell_type": "code",
   "execution_count": 66,
   "id": "transparent-hours",
   "metadata": {},
   "outputs": [
    {
     "name": "stdout",
     "output_type": "stream",
     "text": [
      "Ever-output.txt  gs-output.txt\t       mini-access-log.txt  solo_write.txt\r\n",
      "JSM-output.txt\t jane.txt\t       nums.txt\t\t    untitled.txt\r\n",
      "README.txt\t jd-output.txt\t       rml-output.txt\t    untitled1.txt\r\n",
      "ever-output.txt  linux-etc-passwd.txt  shoe-data.txt\t    wcfile.txt\r\n"
     ]
    }
   ],
   "source": [
    "!ls *.txt"
   ]
  },
  {
   "cell_type": "code",
   "execution_count": 87,
   "id": "lyric-marine",
   "metadata": {},
   "outputs": [],
   "source": [
    "def find_brand(filename, brand):\n",
    "    for one_line in open(filename):\n",
    "        if brand in one_line.split('\\t'):\n",
    "            print(one_line)\n",
    "            \n",
    "        "
   ]
  },
  {
   "cell_type": "code",
   "execution_count": 89,
   "id": "electrical-assets",
   "metadata": {},
   "outputs": [
    {
     "name": "stdout",
     "output_type": "stream",
     "text": [
      "Nike\tblack\t41\n",
      "\n",
      "Nike\twhite\t44\n",
      "\n",
      "Nike\tpink\t44\n",
      "\n",
      "Nike\tblack\t41\n",
      "\n",
      "Nike\tpink\t41\n",
      "\n",
      "Nike\tpink\t43\n",
      "\n",
      "Nike\tblack\t43\n",
      "\n",
      "Nike\tblack\t42\n",
      "\n",
      "Nike\tblack\t35\n",
      "\n",
      "Nike\tblack\t43\n",
      "\n",
      "Nike\tpink\t36\n",
      "\n",
      "Nike\tblack\t42\n",
      "\n",
      "Nike\twhite\t37\n",
      "\n",
      "Nike\tblack\t35\n",
      "\n",
      "Nike\twhite\t37\n",
      "\n",
      "Nike\tpink\t44\n",
      "\n",
      "Nike\tpink\t38\n",
      "\n",
      "Nike\tpink\t40\n",
      "\n",
      "Nike\twhite\t44\n",
      "\n",
      "Nike\torange\t38\n",
      "\n",
      "Nike\twhite\t37\n",
      "\n",
      "Nike\torange\t38\n",
      "\n",
      "Nike\tpink\t40\n",
      "\n",
      "Nike\torange\t40\n",
      "\n",
      "Nike\tpink\t40\n",
      "\n",
      "Nike\tblack\t41\n",
      "\n",
      "Nike\tblack\t39\n",
      "\n",
      "Nike\torange\t36\n",
      "\n",
      "Nike\tblack\t38\n",
      "\n",
      "Nike\tpink\t41\n",
      "\n",
      "Nike\tblack\t44\n",
      "\n",
      "Nike\tblack\t38\n",
      "\n",
      "Nike\tpink\t42\n",
      "\n",
      "Nike\twhite\t38\n",
      "\n",
      "Nike\torange\t39\n",
      "\n",
      "Nike\tblack\t35\n",
      "\n"
     ]
    }
   ],
   "source": [
    "find_brand('shoe-data.txt', 'Nike')"
   ]
  },
  {
   "cell_type": "code",
   "execution_count": 107,
   "id": "bigger-lawsuit",
   "metadata": {},
   "outputs": [],
   "source": [
    "def find_brand(filename, brand):\n",
    "   \n",
    "    for one_line in open(filename):\n",
    "        fields = one_line.split('\\t')\n",
    "        \n",
    "        if brand == fields[0]:\n",
    "            print(one_line)"
   ]
  },
  {
   "cell_type": "code",
   "execution_count": 108,
   "id": "cloudy-beijing",
   "metadata": {},
   "outputs": [
    {
     "name": "stdout",
     "output_type": "stream",
     "text": [
      "Nike\tblack\t41\n",
      "\n",
      "Nike\twhite\t44\n",
      "\n",
      "Nike\tpink\t44\n",
      "\n",
      "Nike\tblack\t41\n",
      "\n",
      "Nike\tpink\t41\n",
      "\n",
      "Nike\tpink\t43\n",
      "\n",
      "Nike\tblack\t43\n",
      "\n",
      "Nike\tblack\t42\n",
      "\n",
      "Nike\tblack\t35\n",
      "\n",
      "Nike\tblack\t43\n",
      "\n",
      "Nike\tpink\t36\n",
      "\n",
      "Nike\tblack\t42\n",
      "\n",
      "Nike\twhite\t37\n",
      "\n",
      "Nike\tblack\t35\n",
      "\n",
      "Nike\twhite\t37\n",
      "\n",
      "Nike\tpink\t44\n",
      "\n",
      "Nike\tpink\t38\n",
      "\n",
      "Nike\tpink\t40\n",
      "\n",
      "Nike\twhite\t44\n",
      "\n",
      "Nike\torange\t38\n",
      "\n",
      "Nike\twhite\t37\n",
      "\n",
      "Nike\torange\t38\n",
      "\n",
      "Nike\tpink\t40\n",
      "\n",
      "Nike\torange\t40\n",
      "\n",
      "Nike\tpink\t40\n",
      "\n",
      "Nike\tblack\t41\n",
      "\n",
      "Nike\tblack\t39\n",
      "\n",
      "Nike\torange\t36\n",
      "\n",
      "Nike\tblack\t38\n",
      "\n",
      "Nike\tpink\t41\n",
      "\n",
      "Nike\tblack\t44\n",
      "\n",
      "Nike\tblack\t38\n",
      "\n",
      "Nike\tpink\t42\n",
      "\n",
      "Nike\twhite\t38\n",
      "\n",
      "Nike\torange\t39\n",
      "\n",
      "Nike\tblack\t35\n",
      "\n"
     ]
    }
   ],
   "source": [
    "find_brand('shoe-data.txt', 'Nike')"
   ]
  },
  {
   "cell_type": "code",
   "execution_count": 115,
   "id": "alpine-blood",
   "metadata": {},
   "outputs": [],
   "source": [
    "def find_brand(filename, brand):\n",
    "   \n",
    "    # Setup\n",
    "    output = []\n",
    "    for one_line in open(filename):\n",
    "        fields = one_line.split('\\t')\n",
    "        \n",
    "        if brand == fields[0]:\n",
    "            output.append(one_line)\n",
    "    return output"
   ]
  },
  {
   "cell_type": "code",
   "execution_count": 116,
   "id": "coral-edition",
   "metadata": {},
   "outputs": [
    {
     "data": {
      "text/plain": [
       "['Nike\\tblack\\t41\\n',\n",
       " 'Nike\\twhite\\t44\\n',\n",
       " 'Nike\\tpink\\t44\\n',\n",
       " 'Nike\\tblack\\t41\\n',\n",
       " 'Nike\\tpink\\t41\\n',\n",
       " 'Nike\\tpink\\t43\\n',\n",
       " 'Nike\\tblack\\t43\\n',\n",
       " 'Nike\\tblack\\t42\\n',\n",
       " 'Nike\\tblack\\t35\\n',\n",
       " 'Nike\\tblack\\t43\\n',\n",
       " 'Nike\\tpink\\t36\\n',\n",
       " 'Nike\\tblack\\t42\\n',\n",
       " 'Nike\\twhite\\t37\\n',\n",
       " 'Nike\\tblack\\t35\\n',\n",
       " 'Nike\\twhite\\t37\\n',\n",
       " 'Nike\\tpink\\t44\\n',\n",
       " 'Nike\\tpink\\t38\\n',\n",
       " 'Nike\\tpink\\t40\\n',\n",
       " 'Nike\\twhite\\t44\\n',\n",
       " 'Nike\\torange\\t38\\n',\n",
       " 'Nike\\twhite\\t37\\n',\n",
       " 'Nike\\torange\\t38\\n',\n",
       " 'Nike\\tpink\\t40\\n',\n",
       " 'Nike\\torange\\t40\\n',\n",
       " 'Nike\\tpink\\t40\\n',\n",
       " 'Nike\\tblack\\t41\\n',\n",
       " 'Nike\\tblack\\t39\\n',\n",
       " 'Nike\\torange\\t36\\n',\n",
       " 'Nike\\tblack\\t38\\n',\n",
       " 'Nike\\tpink\\t41\\n',\n",
       " 'Nike\\tblack\\t44\\n',\n",
       " 'Nike\\tblack\\t38\\n',\n",
       " 'Nike\\tpink\\t42\\n',\n",
       " 'Nike\\twhite\\t38\\n',\n",
       " 'Nike\\torange\\t39\\n',\n",
       " 'Nike\\tblack\\t35\\n']"
      ]
     },
     "execution_count": 116,
     "metadata": {},
     "output_type": "execute_result"
    }
   ],
   "source": [
    "find_brand('shoe-data.txt', 'Nike')"
   ]
  },
  {
   "cell_type": "code",
   "execution_count": 117,
   "id": "dietary-perspective",
   "metadata": {},
   "outputs": [],
   "source": [
    "def find_brand(filename, brand):\n",
    "   \n",
    "    # Setup\n",
    "    output = []\n",
    "    for one_line in open(filename):     \n",
    "        if brand in one_line.split('\\t'):\n",
    "            output.append(one_line)\n",
    "    return output\n",
    "\n"
   ]
  },
  {
   "cell_type": "code",
   "execution_count": 119,
   "id": "humanitarian-wheel",
   "metadata": {},
   "outputs": [
    {
     "data": {
      "text/plain": [
       "['Nike\\tblack\\t41\\n',\n",
       " 'Nike\\twhite\\t44\\n',\n",
       " 'Nike\\tpink\\t44\\n',\n",
       " 'Nike\\tblack\\t41\\n',\n",
       " 'Nike\\tpink\\t41\\n',\n",
       " 'Nike\\tpink\\t43\\n',\n",
       " 'Nike\\tblack\\t43\\n',\n",
       " 'Nike\\tblack\\t42\\n',\n",
       " 'Nike\\tblack\\t35\\n',\n",
       " 'Nike\\tblack\\t43\\n',\n",
       " 'Nike\\tpink\\t36\\n',\n",
       " 'Nike\\tblack\\t42\\n',\n",
       " 'Nike\\twhite\\t37\\n',\n",
       " 'Nike\\tblack\\t35\\n',\n",
       " 'Nike\\twhite\\t37\\n',\n",
       " 'Nike\\tpink\\t44\\n',\n",
       " 'Nike\\tpink\\t38\\n',\n",
       " 'Nike\\tpink\\t40\\n',\n",
       " 'Nike\\twhite\\t44\\n',\n",
       " 'Nike\\torange\\t38\\n',\n",
       " 'Nike\\twhite\\t37\\n',\n",
       " 'Nike\\torange\\t38\\n',\n",
       " 'Nike\\tpink\\t40\\n',\n",
       " 'Nike\\torange\\t40\\n',\n",
       " 'Nike\\tpink\\t40\\n',\n",
       " 'Nike\\tblack\\t41\\n',\n",
       " 'Nike\\tblack\\t39\\n',\n",
       " 'Nike\\torange\\t36\\n',\n",
       " 'Nike\\tblack\\t38\\n',\n",
       " 'Nike\\tpink\\t41\\n',\n",
       " 'Nike\\tblack\\t44\\n',\n",
       " 'Nike\\tblack\\t38\\n',\n",
       " 'Nike\\tpink\\t42\\n',\n",
       " 'Nike\\twhite\\t38\\n',\n",
       " 'Nike\\torange\\t39\\n',\n",
       " 'Nike\\tblack\\t35\\n']"
      ]
     },
     "execution_count": 119,
     "metadata": {},
     "output_type": "execute_result"
    }
   ],
   "source": [
    "find_brand('shoe-data.txt', 'Nike')"
   ]
  },
  {
   "cell_type": "code",
   "execution_count": 120,
   "id": "piano-faith",
   "metadata": {},
   "outputs": [
    {
     "data": {
      "text/plain": [
       "82"
      ]
     },
     "execution_count": 120,
     "metadata": {},
     "output_type": "execute_result"
    }
   ],
   "source": [
    "import random\n",
    "random.randint(0,100)"
   ]
  },
  {
   "cell_type": "code",
   "execution_count": 121,
   "id": "digital-logic",
   "metadata": {},
   "outputs": [
    {
     "data": {
      "text/plain": [
       "'0123456789'"
      ]
     },
     "execution_count": 121,
     "metadata": {},
     "output_type": "execute_result"
    }
   ],
   "source": [
    "import string\n",
    "string.digits"
   ]
  },
  {
   "cell_type": "code",
   "execution_count": 124,
   "id": "armed-gazette",
   "metadata": {},
   "outputs": [
    {
     "name": "stdout",
     "output_type": "stream",
     "text": [
      "Jane - 2021 Feb 8.ipynb\n",
      "Jane - 2021 Feb 10.ipynb\n",
      "Jane - 2021 Feb 9.ipynb\n",
      "Jane - 2021 Feb 11.ipynb\n"
     ]
    }
   ],
   "source": [
    "import os\n",
    "for one_filename in os.listdir():\n",
    "    if one_filename.startswith('Jane'):\n",
    "        print(one_filename)"
   ]
  },
  {
   "cell_type": "code",
   "execution_count": 132,
   "id": "metric-colony",
   "metadata": {},
   "outputs": [
    {
     "name": "stdout",
     "output_type": "stream",
     "text": [
      "3\n",
      "a\n",
      "a\n",
      "n\n",
      "3\n"
     ]
    }
   ],
   "source": [
    "s = 'jane123'\n",
    "n = 5\n",
    "import random\n",
    "random.choice(s)\n",
    "for i in range(n):\n",
    "    print(random.choice(s))"
   ]
  },
  {
   "cell_type": "code",
   "execution_count": 134,
   "id": "suitable-picnic",
   "metadata": {},
   "outputs": [
    {
     "name": "stdout",
     "output_type": "stream",
     "text": [
      "n1na3\n"
     ]
    }
   ],
   "source": [
    "import random\n",
    "s = 'jane123'\n",
    "n = 5\n",
    "\n",
    "output = []\n",
    "for i in range(n):\n",
    "    output.append(random.choice(s))\n",
    "print(''.join(output))\n",
    "    "
   ]
  },
  {
   "cell_type": "code",
   "execution_count": 135,
   "id": "false-elephant",
   "metadata": {},
   "outputs": [
    {
     "name": "stdout",
     "output_type": "stream",
     "text": [
      "geb@4g2$@5\n"
     ]
    }
   ],
   "source": [
    "import random\n",
    "def make_password(s, n):\n",
    "    output = ''\n",
    "    for i in range(n):\n",
    "        output += random.choice(s)\n",
    "    return output\n",
    "print(make_password('abcdefg123456!@#$%', 10))"
   ]
  },
  {
   "cell_type": "code",
   "execution_count": 136,
   "id": "listed-wrestling",
   "metadata": {},
   "outputs": [
    {
     "ename": "NameError",
     "evalue": "name 'request' is not defined",
     "output_type": "error",
     "traceback": [
      "\u001b[0;31m---------------------------------------------------------------------------\u001b[0m",
      "\u001b[0;31mNameError\u001b[0m                                 Traceback (most recent call last)",
      "\u001b[0;32m<ipython-input-136-5c18be59fd2e>\u001b[0m in \u001b[0;36m<module>\u001b[0;34m\u001b[0m\n\u001b[1;32m      1\u001b[0m \u001b[0;32mimport\u001b[0m \u001b[0mrequests\u001b[0m\u001b[0;34m\u001b[0m\u001b[0;34m\u001b[0m\u001b[0m\n\u001b[1;32m      2\u001b[0m \u001b[0murl\u001b[0m \u001b[0;34m=\u001b[0m \u001b[0;34m'http://httpbin.org/json'\u001b[0m\u001b[0;34m\u001b[0m\u001b[0;34m\u001b[0m\u001b[0m\n\u001b[0;32m----> 3\u001b[0;31m \u001b[0mr\u001b[0m \u001b[0;34m=\u001b[0m \u001b[0mrequest\u001b[0m\u001b[0;34m.\u001b[0m\u001b[0mget\u001b[0m\u001b[0;34m(\u001b[0m\u001b[0murl\u001b[0m\u001b[0;34m)\u001b[0m\u001b[0;34m\u001b[0m\u001b[0;34m\u001b[0m\u001b[0m\n\u001b[0m",
      "\u001b[0;31mNameError\u001b[0m: name 'request' is not defined"
     ]
    }
   ],
   "source": [
    "import requests\n",
    "url = 'http://httpbin.org/json'\n",
    "r = requests.get(url)"
   ]
  },
  {
   "cell_type": "code",
   "execution_count": null,
   "id": "english-chicken",
   "metadata": {},
   "outputs": [],
   "source": []
  }
 ],
 "metadata": {
  "kernelspec": {
   "display_name": "Python 3",
   "language": "python",
   "name": "python3"
  },
  "language_info": {
   "codemirror_mode": {
    "name": "ipython",
    "version": 3
   },
   "file_extension": ".py",
   "mimetype": "text/x-python",
   "name": "python",
   "nbconvert_exporter": "python",
   "pygments_lexer": "ipython3",
   "version": "3.8.6"
  }
 },
 "nbformat": 4,
 "nbformat_minor": 5
}
