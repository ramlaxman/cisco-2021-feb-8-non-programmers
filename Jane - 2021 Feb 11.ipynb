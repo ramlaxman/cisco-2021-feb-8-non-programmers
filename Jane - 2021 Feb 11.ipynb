{
 "cells": [
  {
   "cell_type": "code",
   "execution_count": 10,
   "id": "grand-precipitation",
   "metadata": {},
   "outputs": [
    {
     "data": {
      "text/plain": [
       "'Hello, Jane Lim!'"
      ]
     },
     "execution_count": 10,
     "metadata": {},
     "output_type": "execute_result"
    }
   ],
   "source": [
    "def hello(first_name, last_name):\n",
    "    return f'Hello, {first_name} {last_name}!'\n",
    "\n",
    "hello('Jane', 'Lim')"
   ]
  },
  {
   "cell_type": "code",
   "execution_count": 11,
   "id": "exclusive-valentine",
   "metadata": {},
   "outputs": [
    {
     "data": {
      "text/plain": [
       "'Hello, Jane Lim!'"
      ]
     },
     "execution_count": 11,
     "metadata": {},
     "output_type": "execute_result"
    }
   ],
   "source": [
    "def hello(first_name, last_name):\n",
    "    s = f'Hello, {first_name} {last_name}!'\n",
    "    return s\n",
    "\n",
    "hello('Jane', 'Lim')"
   ]
  },
  {
   "cell_type": "code",
   "execution_count": 14,
   "id": "living-adjustment",
   "metadata": {},
   "outputs": [
    {
     "data": {
      "text/plain": [
       "11"
      ]
     },
     "execution_count": 14,
     "metadata": {},
     "output_type": "execute_result"
    }
   ],
   "source": [
    "def total_lengths(list_of_words):\n",
    "    total = 0\n",
    "    \n",
    "    for one_word in list_of_words:\n",
    "        total += len(one_word)\n",
    "    return total\n",
    "total_lengths(['abcd', 'efghi', 'jk'])"
   ]
  },
  {
   "cell_type": "code",
   "execution_count": 18,
   "id": "floral-receipt",
   "metadata": {},
   "outputs": [
    {
     "ename": "SyntaxError",
     "evalue": "invalid syntax (<ipython-input-18-ab4f4d01bc02>, line 5)",
     "output_type": "error",
     "traceback": [
      "\u001b[0;36m  File \u001b[0;32m\"<ipython-input-18-ab4f4d01bc02>\"\u001b[0;36m, line \u001b[0;32m5\u001b[0m\n\u001b[0;31m    if s[0] in 'aeiou'\u001b[0m\n\u001b[0m                      ^\u001b[0m\n\u001b[0;31mSyntaxError\u001b[0m\u001b[0;31m:\u001b[0m invalid syntax\n"
     ]
    }
   ],
   "source": [
    "def count_vowels(s):\n",
    "    total = 0\n",
    "    \n",
    "    for one_character in s:\n",
    "        if character[0] in 'aeiou'\n",
    "        total +=1\n",
    "    return total\n"
   ]
  },
  {
   "cell_type": "code",
   "execution_count": 16,
   "id": "hundred-acquisition",
   "metadata": {},
   "outputs": [
    {
     "data": {
      "text/plain": [
       "5"
      ]
     },
     "execution_count": 16,
     "metadata": {},
     "output_type": "execute_result"
    }
   ],
   "source": [
    "count_vowels(hello)"
   ]
  },
  {
   "cell_type": "code",
   "execution_count": null,
   "id": "union-marketplace",
   "metadata": {},
   "outputs": [],
   "source": []
  }
 ],
 "metadata": {
  "kernelspec": {
   "display_name": "Python 3",
   "language": "python",
   "name": "python3"
  },
  "language_info": {
   "codemirror_mode": {
    "name": "ipython",
    "version": 3
   },
   "file_extension": ".py",
   "mimetype": "text/x-python",
   "name": "python",
   "nbconvert_exporter": "python",
   "pygments_lexer": "ipython3",
   "version": "3.8.6"
  }
 },
 "nbformat": 4,
 "nbformat_minor": 5
}
