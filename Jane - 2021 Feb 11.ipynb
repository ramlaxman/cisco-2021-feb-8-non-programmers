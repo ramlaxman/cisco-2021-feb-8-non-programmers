{
 "cells": [
  {
   "cell_type": "code",
   "execution_count": 10,
   "id": "collectible-guard",
   "metadata": {},
   "outputs": [
    {
     "data": {
      "text/plain": [
       "'Hello, Jane Lim!'"
      ]
     },
     "execution_count": 10,
     "metadata": {},
     "output_type": "execute_result"
    }
   ],
   "source": [
    "def hello(first_name, last_name):\n",
    "    return f'Hello, {first_name} {last_name}!'\n",
    "\n",
    "hello('Jane', 'Lim')"
   ]
  },
  {
   "cell_type": "code",
   "execution_count": 11,
   "id": "rolled-excellence",
   "metadata": {},
   "outputs": [
    {
     "data": {
      "text/plain": [
       "'Hello, Jane Lim!'"
      ]
     },
     "execution_count": 11,
     "metadata": {},
     "output_type": "execute_result"
    }
   ],
   "source": [
    "def hello(first_name, last_name):\n",
    "    s = f'Hello, {first_name} {last_name}!'\n",
    "    return s\n",
    "\n",
    "hello('Jane', 'Lim')"
   ]
  },
  {
   "cell_type": "code",
   "execution_count": 14,
   "id": "emotional-rochester",
   "metadata": {},
   "outputs": [
    {
     "data": {
      "text/plain": [
       "11"
      ]
     },
     "execution_count": 14,
     "metadata": {},
     "output_type": "execute_result"
    }
   ],
   "source": [
    "def total_lengths(list_of_words):\n",
    "    total = 0\n",
    "    \n",
    "    for one_word in list_of_words:\n",
    "        total += len(one_word)\n",
    "    return total\n",
    "total_lengths(['abcd', 'efghi', 'jk'])"
   ]
  },
  {
   "cell_type": "code",
   "execution_count": 27,
   "id": "theoretical-jewelry",
   "metadata": {},
   "outputs": [],
   "source": [
    "def count_vowels(s):\n",
    "    total = 0\n",
    "    \n",
    "    for one_character in s:\n",
    "        if one_character in 'aeiou':\n",
    "            total += 1\n",
    "\n",
    "    return total\n"
   ]
  },
  {
   "cell_type": "code",
   "execution_count": 29,
   "id": "appreciated-color",
   "metadata": {},
   "outputs": [
    {
     "data": {
      "text/plain": [
       "2"
      ]
     },
     "execution_count": 29,
     "metadata": {},
     "output_type": "execute_result"
    }
   ],
   "source": [
    "count_vowels('hello')"
   ]
  },
  {
   "cell_type": "code",
   "execution_count": 26,
   "id": "continued-bargain",
   "metadata": {},
   "outputs": [
    {
     "name": "stdout",
     "output_type": "stream",
     "text": [
      "Yes, a vowel\n"
     ]
    }
   ],
   "source": [
    "s = 'a'\n",
    "if s in 'aeiou':\n",
    "    print('Yes, a vowel')\n",
    "else:\n",
    "    print('No, not a vowel')"
   ]
  },
  {
   "cell_type": "code",
   "execution_count": 30,
   "id": "valued-illness",
   "metadata": {},
   "outputs": [
    {
     "data": {
      "text/plain": [
       "4"
      ]
     },
     "execution_count": 30,
     "metadata": {},
     "output_type": "execute_result"
    }
   ],
   "source": [
    "count_vowels('dictionary')"
   ]
  },
  {
   "cell_type": "code",
   "execution_count": 39,
   "id": "parliamentary-scottish",
   "metadata": {},
   "outputs": [],
   "source": [
    "def count_vowels_file(filename):\n",
    "    # setup\n",
    "    total = 0\n",
    "    \n",
    "    # calculation\n",
    "    for one_line in open(filename):\n",
    "        total += count_vowels(one_line)\n",
    "    \n",
    "    # report\n",
    "    return total\n",
    "    "
   ]
  },
  {
   "cell_type": "code",
   "execution_count": 40,
   "id": "improving-monitoring",
   "metadata": {},
   "outputs": [
    {
     "data": {
      "text/plain": [
       "40"
      ]
     },
     "execution_count": 40,
     "metadata": {},
     "output_type": "execute_result"
    }
   ],
   "source": [
    "count_vowels_file('wcfile.txt')"
   ]
  },
  {
   "cell_type": "code",
   "execution_count": 62,
   "id": "passing-shelter",
   "metadata": {},
   "outputs": [],
   "source": [
    "def sum_digits(s):\n",
    "    # setup\n",
    "    total = 0\n",
    "    \n",
    "    # calculation\n",
    "    for one_character in s:\n",
    "        if one_character.isdigit():\n",
    "            total += int(one_character)\n",
    "     \n",
    "    #report\n",
    "    return total"
   ]
  },
  {
   "cell_type": "code",
   "execution_count": 63,
   "id": "static-extraction",
   "metadata": {},
   "outputs": [
    {
     "data": {
      "text/plain": [
       "10"
      ]
     },
     "execution_count": 63,
     "metadata": {},
     "output_type": "execute_result"
    }
   ],
   "source": [
    "sum_digits('avc123def4')"
   ]
  },
  {
   "cell_type": "code",
   "execution_count": 57,
   "id": "progressive-strain",
   "metadata": {},
   "outputs": [
    {
     "name": "stdout",
     "output_type": "stream",
     "text": [
      "0\n"
     ]
    }
   ],
   "source": [
    "s = 'abc123'\n",
    "print(sum_digits(s))"
   ]
  },
  {
   "cell_type": "code",
   "execution_count": 64,
   "id": "alpine-timeline",
   "metadata": {},
   "outputs": [
    {
     "data": {
      "text/plain": [
       "6"
      ]
     },
     "execution_count": 64,
     "metadata": {},
     "output_type": "execute_result"
    }
   ],
   "source": [
    "sum_digits('abs123')"
   ]
  },
  {
   "cell_type": "code",
   "execution_count": 66,
   "id": "growing-beads",
   "metadata": {},
   "outputs": [
    {
     "name": "stdout",
     "output_type": "stream",
     "text": [
      "Ever-output.txt  gs-output.txt\t       mini-access-log.txt  solo_write.txt\r\n",
      "JSM-output.txt\t jane.txt\t       nums.txt\t\t    untitled.txt\r\n",
      "README.txt\t jd-output.txt\t       rml-output.txt\t    untitled1.txt\r\n",
      "ever-output.txt  linux-etc-passwd.txt  shoe-data.txt\t    wcfile.txt\r\n"
     ]
    }
   ],
   "source": [
    "!ls *.txt"
   ]
  },
  {
   "cell_type": "code",
   "execution_count": 68,
   "id": "composed-fishing",
   "metadata": {},
   "outputs": [],
   "source": [
    "def find_brand(filename, brand):\n",
    "    for one_line in filename:\n",
    "        if one_line.split('\\t') == Nike:\n",
    "            print({brand})\n",
    "            \n",
    "        "
   ]
  },
  {
   "cell_type": "code",
   "execution_count": null,
   "id": "cubic-opening",
   "metadata": {},
   "outputs": [],
   "source": []
  }
 ],
 "metadata": {
  "kernelspec": {
   "display_name": "Python 3",
   "language": "python",
   "name": "python3"
  },
  "language_info": {
   "codemirror_mode": {
    "name": "ipython",
    "version": 3
   },
   "file_extension": ".py",
   "mimetype": "text/x-python",
   "name": "python",
   "nbconvert_exporter": "python",
   "pygments_lexer": "ipython3",
   "version": "3.8.6"
  }
 },
 "nbformat": 4,
 "nbformat_minor": 5
}
