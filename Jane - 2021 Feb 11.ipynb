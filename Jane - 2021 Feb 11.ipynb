{
 "cells": [
  {
   "cell_type": "code",
   "execution_count": 10,
   "id": "fallen-posting",
   "metadata": {},
   "outputs": [
    {
     "data": {
      "text/plain": [
       "'Hello, Jane Lim!'"
      ]
     },
     "execution_count": 10,
     "metadata": {},
     "output_type": "execute_result"
    }
   ],
   "source": [
    "def hello(first_name, last_name):\n",
    "    return f'Hello, {first_name} {last_name}!'\n",
    "\n",
    "hello('Jane', 'Lim')"
   ]
  },
  {
   "cell_type": "code",
   "execution_count": 11,
   "id": "composed-gasoline",
   "metadata": {},
   "outputs": [
    {
     "data": {
      "text/plain": [
       "'Hello, Jane Lim!'"
      ]
     },
     "execution_count": 11,
     "metadata": {},
     "output_type": "execute_result"
    }
   ],
   "source": [
    "def hello(first_name, last_name):\n",
    "    s = f'Hello, {first_name} {last_name}!'\n",
    "    return s\n",
    "\n",
    "hello('Jane', 'Lim')"
   ]
  },
  {
   "cell_type": "code",
   "execution_count": 14,
   "id": "obvious-beijing",
   "metadata": {},
   "outputs": [
    {
     "data": {
      "text/plain": [
       "11"
      ]
     },
     "execution_count": 14,
     "metadata": {},
     "output_type": "execute_result"
    }
   ],
   "source": [
    "def total_lengths(list_of_words):\n",
    "    total = 0\n",
    "    \n",
    "    for one_word in list_of_words:\n",
    "        total += len(one_word)\n",
    "    return total\n",
    "total_lengths(['abcd', 'efghi', 'jk'])"
   ]
  },
  {
   "cell_type": "code",
   "execution_count": 27,
   "id": "enhanced-restoration",
   "metadata": {},
   "outputs": [],
   "source": [
    "def count_vowels(s):\n",
    "    total = 0\n",
    "    \n",
    "    for one_character in s:\n",
    "        if one_character in 'aeiou':\n",
    "            total += 1\n",
    "\n",
    "    return total\n"
   ]
  },
  {
   "cell_type": "code",
   "execution_count": 29,
   "id": "patent-green",
   "metadata": {},
   "outputs": [
    {
     "data": {
      "text/plain": [
       "2"
      ]
     },
     "execution_count": 29,
     "metadata": {},
     "output_type": "execute_result"
    }
   ],
   "source": [
    "count_vowels('hello')"
   ]
  },
  {
   "cell_type": "code",
   "execution_count": 26,
   "id": "adopted-component",
   "metadata": {},
   "outputs": [
    {
     "name": "stdout",
     "output_type": "stream",
     "text": [
      "Yes, a vowel\n"
     ]
    }
   ],
   "source": [
    "s = 'a'\n",
    "if s in 'aeiou':\n",
    "    print('Yes, a vowel')\n",
    "else:\n",
    "    print('No, not a vowel')"
   ]
  },
  {
   "cell_type": "code",
   "execution_count": 30,
   "id": "lined-attack",
   "metadata": {},
   "outputs": [
    {
     "data": {
      "text/plain": [
       "4"
      ]
     },
     "execution_count": 30,
     "metadata": {},
     "output_type": "execute_result"
    }
   ],
   "source": [
    "count_vowels('dictionary')"
   ]
  },
  {
   "cell_type": "code",
   "execution_count": null,
   "id": "specific-carter",
   "metadata": {},
   "outputs": [],
   "source": [
    "def count_vowels_file(filename):\n",
    "    # setup\n",
    "    total = 0\n",
    "    \n",
    "    # calculation\n",
    "    \n",
    "    # report\n",
    "    return total\n",
    "    "
   ]
  }
 ],
 "metadata": {
  "kernelspec": {
   "display_name": "Python 3",
   "language": "python",
   "name": "python3"
  },
  "language_info": {
   "codemirror_mode": {
    "name": "ipython",
    "version": 3
   },
   "file_extension": ".py",
   "mimetype": "text/x-python",
   "name": "python",
   "nbconvert_exporter": "python",
   "pygments_lexer": "ipython3",
   "version": "3.8.6"
  }
 },
 "nbformat": 4,
 "nbformat_minor": 5
}
