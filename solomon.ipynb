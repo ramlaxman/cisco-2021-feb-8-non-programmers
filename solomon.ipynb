{
 "cells": [
  {
   "cell_type": "markdown",
   "id": "million-spelling",
   "metadata": {},
   "source": []
  },
  {
   "cell_type": "code",
   "execution_count": 1,
   "id": "demographic-conversion",
   "metadata": {},
   "outputs": [
    {
     "name": "stdout",
     "output_type": "stream",
     "text": [
      "Hello Solomon.\n"
     ]
    }
   ],
   "source": [
    "name = \"Solomon\"\n",
    "print(\"Hello \" + name + \".\")\n",
    "\n"
   ]
  },
  {
   "cell_type": "code",
   "execution_count": 2,
   "id": "invisible-pepper",
   "metadata": {},
   "outputs": [
    {
     "name": "stdout",
     "output_type": "stream",
     "text": [
      "I am Solomon my age is 43\n"
     ]
    }
   ],
   "source": [
    "name = \"Solomon\"\n",
    "birthyear = 1978\n",
    "age_this_year = 2021\n",
    "print(f'I am {name} my age is {age_this_year - birthyear}' )"
   ]
  },
  {
   "cell_type": "code",
   "execution_count": 3,
   "id": "found-advertiser",
   "metadata": {},
   "outputs": [
    {
     "name": "stdout",
     "output_type": "stream",
     "text": [
      " Enter your nameSolomon\n",
      " How are  you feeling Good\n",
      "hello Solomon you feeling Good\n"
     ]
    }
   ],
   "source": [
    "name = input(\" Enter your name\")\n",
    "feeling = input(\" How are  you feeling \")\n",
    "print(f'hello {name} you feeling {feeling}')"
   ]
  },
  {
   "cell_type": "code",
   "execution_count": 8,
   "id": "regular-guatemala",
   "metadata": {},
   "outputs": [
    {
     "name": "stdout",
     "output_type": "stream",
     "text": [
      " Enter your compnay name: Nortel\n",
      "oh okay you work at  Nortel\n"
     ]
    }
   ],
   "source": [
    "Company_name = input(\" Enter your compnay name: \")\n",
    "if Company_name == \"Cisco\":\n",
    "    print(f'Great to see your work in {Company_name}')\n",
    "else:\n",
    "    print(f'oh okay you work at  {Company_name}')\n"
   ]
  },
  {
   "cell_type": "code",
   "execution_count": 11,
   "id": "dying-burning",
   "metadata": {},
   "outputs": [
    {
     "name": "stdout",
     "output_type": "stream",
     "text": [
      " Enter your compnay name: Juniper\n",
      "oh okay you work here Juniper\n"
     ]
    }
   ],
   "source": [
    "Company_name = input(\" Enter your compnay name: \")\n",
    "if Company_name == \"Cisco\":\n",
    "    print(f'Great to see your work in {Company_name} you are my colleague')\n",
    "elif Company_name == \"Nortel\":\n",
    "    print(f'Nice you worked in {Company_name} you used be my old colleague in {Company_name}')\n",
    "else:\n",
    "    print(f'oh okay you work here {Company_name}')\n",
    "    \n"
   ]
  },
  {
   "cell_type": "code",
   "execution_count": 18,
   "id": "canadian-guest",
   "metadata": {},
   "outputs": [
    {
     "name": "stdout",
     "output_type": "stream",
     "text": [
      " Enter your name: Solo\n",
      " Enter your compnay name: Cis\n",
      "either name  Solo or Cis name is same ....\n"
     ]
    }
   ],
   "source": [
    "name = input(\" Enter your name: \")\n",
    "Company_name = input(\" Enter your compnay name: \")\n",
    "if name ==\"Solomon\" and Company_name == \"Cisco\":\n",
    "    print( f'this is me since name {name} and {Company_name} is same' )\n",
    "elif name ==\"Solomon\" and not Company_name == \"Cisco\":\n",
    "    print( f' name {name} is  same  but company name {Company_name} is not same you are at rival company' )\n",
    "elif not name ==\"Solomon\" and Company_name == \"Cisco\":\n",
    "    print (f' you are my colleague in my {Company_name}')\n",
    "else:\n",
    "    print(f'either name  {name} or {Company_name} name is same ....')\n",
    "\n"
   ]
  },
  {
   "cell_type": "code",
   "execution_count": 24,
   "id": "australian-financing",
   "metadata": {},
   "outputs": [
    {
     "name": "stdout",
     "output_type": "stream",
     "text": [
      "enter the first words: solomon\n",
      "enter the second words: allen\n",
      "allen word comes first alphabetically than solomon\n"
     ]
    }
   ],
   "source": [
    "first = input(\"enter the first words: \" )\n",
    "second = input(\"enter the second words: \" )\n",
    "if first == second:\n",
    "    print(f'both the words are same {first} , {second}')\n",
    "elif first < second:\n",
    "    print(f'{first} word comes first alphabetically than {second}')\n",
    "else:\n",
    "    print(f'{second} word comes first alphabetically than {first}')\n",
    "\n"
   ]
  },
  {
   "cell_type": "code",
   "execution_count": 31,
   "id": "corresponding-pursuit",
   "metadata": {},
   "outputs": [
    {
     "name": "stdout",
     "output_type": "stream",
     "text": [
      "number = 69\n",
      " enter the number: 11\n",
      " you guess too low correctly \n"
     ]
    }
   ],
   "source": [
    "import random\n",
    "number = random.randint(1,100)\n",
    "print(f'number = {number}')\n",
    "inp_num = input(\" enter the number: \")\n",
    "int_num = int(inp_num)\n",
    "if int_num == number:\n",
    "    print(\" you guess correctly \")\n",
    "if int_num < number:\n",
    "    print(\" you guess too low correctly \")\n",
    "if int_num > number:\n",
    "    print(\" you guess too high correctly \")\n"
   ]
  },
  {
   "cell_type": "code",
   "execution_count": 42,
   "id": "reported-spine",
   "metadata": {},
   "outputs": [
    {
     "name": "stdout",
     "output_type": "stream",
     "text": [
      "Enter the first number: 11\n",
      "Enter the second number: 22\n",
      " Enter the operator + or - /\n",
      "User Enter wrong operator /\n"
     ]
    }
   ],
   "source": [
    "first = int(input(\"Enter the first number: \" ))\n",
    "second = int(input(\"Enter the second number: \" ))\n",
    "ent_opt = input(\" Enter the operator + or - \")\n",
    "if ent_opt == \"+\":\n",
    "    sum = first + second \n",
    "    print(f'{first} + {second} = {sum} ' )\n",
    "elif ent_opt == \"-\":\n",
    "    sum = first-second\n",
    "    print(f' {first} - {second} =  {sum} ')\n",
    "else:\n",
    "    print(f'User Enter wrong operator {ent_opt}')\n"
   ]
  },
  {
   "cell_type": "code",
   "execution_count": 47,
   "id": "adjusted-reason",
   "metadata": {},
   "outputs": [
    {
     "name": "stdout",
     "output_type": "stream",
     "text": [
      "enter the string : hello\n",
      " enter the index number: 5\n",
      " index value is less than 5\n"
     ]
    }
   ],
   "source": [
    "string = input(\"enter the string : \" )\n",
    "index = int(input (\" enter the index number: \"))\n",
    "if index == 0:\n",
    "    print(f' enter the proper intger value in {index}')\n",
    "elif index >= len(string):\n",
    "    print(f' index value is less than {index}')\n",
    "else:\n",
    "    print(f'{index} and {len(string)}')\n"
   ]
  },
  {
   "cell_type": "code",
   "execution_count": null,
   "id": "blank-pendant",
   "metadata": {},
   "outputs": [],
   "source": []
  }
 ],
 "metadata": {
  "kernelspec": {
   "display_name": "Python 3",
   "language": "python",
   "name": "python3"
  },
  "language_info": {
   "codemirror_mode": {
    "name": "ipython",
    "version": 3
   },
   "file_extension": ".py",
   "mimetype": "text/x-python",
   "name": "python",
   "nbconvert_exporter": "python",
   "pygments_lexer": "ipython3",
   "version": "3.8.6"
  }
 },
 "nbformat": 4,
 "nbformat_minor": 5
}
