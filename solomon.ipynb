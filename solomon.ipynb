{
 "cells": [
  {
   "cell_type": "markdown",
   "id": "changing-rebecca",
   "metadata": {},
   "source": []
  },
  {
   "cell_type": "code",
   "execution_count": 1,
   "id": "demographic-conversion",
   "metadata": {},
   "outputs": [
    {
     "name": "stdout",
     "output_type": "stream",
     "text": [
      "Hello Solomon.\n"
     ]
    }
   ],
   "source": [
    "name = \"Solomon\"\n",
    "print(\"Hello \" + name + \".\")\n",
    "\n"
   ]
  },
  {
   "cell_type": "code",
   "execution_count": 2,
   "id": "parallel-growth",
   "metadata": {},
   "outputs": [
    {
     "name": "stdout",
     "output_type": "stream",
     "text": [
      "I am Solomon my age is 43\n"
     ]
    }
   ],
   "source": [
    "name = \"Solomon\"\n",
    "birthyear = 1978\n",
    "age_this_year = 2021\n",
    "print(f'I am {name} my age is {age_this_year - birthyear}' )"
   ]
  },
  {
   "cell_type": "code",
   "execution_count": 3,
   "id": "signed-costume",
   "metadata": {},
   "outputs": [
    {
     "name": "stdout",
     "output_type": "stream",
     "text": [
      " Enter your nameSolomon\n",
      " How are  you feeling Good\n",
      "hello Solomon you feeling Good\n"
     ]
    }
   ],
   "source": [
    "name = input(\" Enter your name\")\n",
    "feeling = input(\" How are  you feeling \")\n",
    "print(f'hello {name} you feeling {feeling}')"
   ]
  },
  {
   "cell_type": "code",
   "execution_count": 8,
   "id": "rising-dividend",
   "metadata": {},
   "outputs": [
    {
     "name": "stdout",
     "output_type": "stream",
     "text": [
      " Enter your compnay name: Nortel\n",
      "oh okay you work at  Nortel\n"
     ]
    }
   ],
   "source": [
    "Company_name = input(\" Enter your compnay name: \")\n",
    "if Company_name == \"Cisco\":\n",
    "    print(f'Great to see your work in {Company_name}')\n",
    "else:\n",
    "    print(f'oh okay you work at  {Company_name}')\n"
   ]
  },
  {
   "cell_type": "code",
   "execution_count": 11,
   "id": "graphic-permit",
   "metadata": {},
   "outputs": [
    {
     "name": "stdout",
     "output_type": "stream",
     "text": [
      " Enter your compnay name: Juniper\n",
      "oh okay you work here Juniper\n"
     ]
    }
   ],
   "source": [
    "Company_name = input(\" Enter your compnay name: \")\n",
    "if Company_name == \"Cisco\":\n",
    "    print(f'Great to see your work in {Company_name} you are my colleague')\n",
    "elif Company_name == \"Nortel\":\n",
    "    print(f'Nice you worked in {Company_name} you used be my old colleague in {Company_name}')\n",
    "else:\n",
    "    print(f'oh okay you work here {Company_name}')\n",
    "    \n"
   ]
  },
  {
   "cell_type": "code",
   "execution_count": null,
   "id": "certain-envelope",
   "metadata": {},
   "outputs": [],
   "source": [
    "name = input(\" Enter your name\")\n",
    "Company_name = input(\" Enter your compnay name: \")\n",
    "if name ==\"Solomon\" and Company_name == \"Cisco\":\n",
    "    print( f'this is me since {name} and {Company_name} is same' )\n",
    "elif name ==\"Solomon\" not Company_name == \"Cisco\":\n",
    "    print( f' {name} is  same  but {Company_name} is not you are at rival company' )\n",
    "elif not name ==\"Solomon\" and Company_name == \"Cisco\":\n",
    "    print (f' you are my colleague in my {Company_name})\n",
    "else:\n",
    "    print(f'either {name} or {company name is same')\n",
    "\n"
   ]
  }
 ],
 "metadata": {
  "kernelspec": {
   "display_name": "Python 3",
   "language": "python",
   "name": "python3"
  },
  "language_info": {
   "codemirror_mode": {
    "name": "ipython",
    "version": 3
   },
   "file_extension": ".py",
   "mimetype": "text/x-python",
   "name": "python",
   "nbconvert_exporter": "python",
   "pygments_lexer": "ipython3",
   "version": "3.8.6"
  }
 },
 "nbformat": 4,
 "nbformat_minor": 5
}
