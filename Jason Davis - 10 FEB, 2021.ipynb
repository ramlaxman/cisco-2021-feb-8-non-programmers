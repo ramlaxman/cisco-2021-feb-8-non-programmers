{
 "cells": [
  {
   "cell_type": "code",
   "execution_count": 1,
   "id": "objective-springfield",
   "metadata": {},
   "outputs": [
    {
     "name": "stdout",
     "output_type": "stream",
     "text": [
      "Friendly-traceback installed.\n"
     ]
    }
   ],
   "source": [
    "from friendly_traceback.ipython import *"
   ]
  },
  {
   "cell_type": "code",
   "execution_count": 7,
   "id": "interested-granny",
   "metadata": {},
   "outputs": [
    {
     "name": "stdout",
     "output_type": "stream",
     "text": [
      "Enter a word: bird\n",
      "irday\n"
     ]
    }
   ],
   "source": [
    "word = input('Enter a word: ')\n",
    "\n",
    "if word[0] in 'aeiou':\n",
    "    print (word + 'way')\n",
    "    \n",
    "else:\n",
    "    print (word[1:] + 'ay')"
   ]
  },
  {
   "cell_type": "code",
   "execution_count": 10,
   "id": "mature-norman",
   "metadata": {},
   "outputs": [
    {
     "name": "stdout",
     "output_type": "stream",
     "text": [
      "Enter a short sentence: The dog is brown\n",
      "he dog is brownTay\n"
     ]
    },
    {
     "data": {
      "text/plain": [
       "['The', 'dog', 'is', 'brown']"
      ]
     },
     "execution_count": 10,
     "metadata": {},
     "output_type": "execute_result"
    }
   ],
   "source": [
    "words = input('Enter a short sentence: ')\n",
    "\n",
    "if words[0] in 'aeiou':\n",
    "    print(words + 'way')\n",
    "else:\n",
    "    print(words[1:] + words[0] + 'ay')\n",
    "\n",
    "words.split()"
   ]
  },
  {
   "cell_type": "code",
   "execution_count": 15,
   "id": "mounted-nomination",
   "metadata": {},
   "outputs": [
    {
     "name": "stdout",
     "output_type": "stream",
     "text": [
      "Enter a short sentence: the dog is brown\n",
      "he dog is browntay\n",
      "the\n",
      "dog\n",
      "is\n",
      "brown\n"
     ]
    }
   ],
   "source": [
    "words = input('Enter a short sentence: ')\n",
    "\n",
    "if 'aeiou' in words[0]:\n",
    "    print(words + 'way')\n",
    "else:\n",
    "    print(words[1:] + words[0] + 'ay')\n",
    "\n",
    "words = words.split()\n",
    "\n",
    "for one_word in words:\n",
    "    print(one_word)"
   ]
  },
  {
   "cell_type": "code",
   "execution_count": null,
   "id": "confirmed-louisiana",
   "metadata": {},
   "outputs": [],
   "source": []
  }
 ],
 "metadata": {
  "kernelspec": {
   "display_name": "Python 3",
   "language": "python",
   "name": "python3"
  },
  "language_info": {
   "codemirror_mode": {
    "name": "ipython",
    "version": 3
   },
   "file_extension": ".py",
   "mimetype": "text/x-python",
   "name": "python",
   "nbconvert_exporter": "python",
   "pygments_lexer": "ipython3",
   "version": "3.8.6"
  }
 },
 "nbformat": 4,
 "nbformat_minor": 5
}
