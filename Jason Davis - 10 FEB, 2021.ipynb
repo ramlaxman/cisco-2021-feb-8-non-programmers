{
 "cells": [
  {
   "cell_type": "code",
   "execution_count": 1,
   "id": "bulgarian-avenue",
   "metadata": {},
   "outputs": [
    {
     "name": "stdout",
     "output_type": "stream",
     "text": [
      "Friendly-traceback installed.\n"
     ]
    }
   ],
   "source": [
    "from friendly_traceback.ipython import *"
   ]
  },
  {
   "cell_type": "code",
   "execution_count": 7,
   "id": "advised-screening",
   "metadata": {},
   "outputs": [
    {
     "name": "stdout",
     "output_type": "stream",
     "text": [
      "Enter a word: bird\n",
      "irday\n"
     ]
    }
   ],
   "source": [
    "word = input('Enter a word: ')\n",
    "\n",
    "if word[0] in 'aeiou':\n",
    "    print (word + 'way')\n",
    "    \n",
    "else:\n",
    "    print (word[1:] + 'ay')"
   ]
  },
  {
   "cell_type": "code",
   "execution_count": 10,
   "id": "enclosed-juvenile",
   "metadata": {},
   "outputs": [
    {
     "name": "stdout",
     "output_type": "stream",
     "text": [
      "Enter a short sentence: The dog is brown\n",
      "he dog is brownTay\n"
     ]
    },
    {
     "data": {
      "text/plain": [
       "['The', 'dog', 'is', 'brown']"
      ]
     },
     "execution_count": 10,
     "metadata": {},
     "output_type": "execute_result"
    }
   ],
   "source": [
    "words = input('Enter a short sentence: ')\n",
    "\n",
    "if words[0] in 'aeiou':\n",
    "    print(words + 'way')\n",
    "else:\n",
    "    print(words[1:] + words[0] + 'ay')\n",
    "\n",
    "words.split()"
   ]
  },
  {
   "cell_type": "code",
   "execution_count": 15,
   "id": "protective-finger",
   "metadata": {},
   "outputs": [
    {
     "name": "stdout",
     "output_type": "stream",
     "text": [
      "Enter a short sentence: the dog is brown\n",
      "he dog is browntay\n",
      "the\n",
      "dog\n",
      "is\n",
      "brown\n"
     ]
    }
   ],
   "source": [
    "words = input('Enter a short sentence: ')\n",
    "\n",
    "if 'aeiou' in words[0]:\n",
    "    print(words + 'way')\n",
    "else:\n",
    "    print(words[1:] + words[0] + 'ay')\n",
    "\n",
    "words = words.split()\n",
    "\n",
    "for one_word in words:\n",
    "    print(one_word)"
   ]
  },
  {
   "cell_type": "code",
   "execution_count": 20,
   "id": "received-hunter",
   "metadata": {},
   "outputs": [
    {
     "name": "stdout",
     "output_type": "stream",
     "text": [
      "Enter a sentence: the dog is brown\n"
     ]
    },
    {
     "data": {
      "text/plain": [
       "['hetay', 'ogday', 'isway', 'rownbay']"
      ]
     },
     "execution_count": 20,
     "metadata": {},
     "output_type": "execute_result"
    }
   ],
   "source": [
    "sentence = input('Enter a sentence: ')\n",
    "words = sentence.split()   # no argument means: any whitespace is a separator\n",
    "\n",
    "output = []\n",
    "for word in words:\n",
    "    if word[0] in 'aeiou':\n",
    "        output.append (word + 'way')\n",
    "    else:\n",
    "        output.append (word[1:] + word[0] + 'ay')\n",
    "        \n",
    "output"
   ]
  },
  {
   "cell_type": "code",
   "execution_count": 34,
   "id": "geographic-cliff",
   "metadata": {},
   "outputs": [
    {
     "name": "stdout",
     "output_type": "stream",
     "text": [
      "Enter a sentence: the dog is brown\n",
      "hetay ogday isway rownbay\n"
     ]
    }
   ],
   "source": [
    "sentence = input('Enter a sentence: ')\n",
    "words = sentence.split()   # no argument means: any whitespace is a separator\n",
    "\n",
    "output = []\n",
    "for word in words:\n",
    "    if word[0] in 'aeiou':\n",
    "        output.append (word + 'way')\n",
    "    else:\n",
    "        output.append (word[1:] + word[0] + 'ay')\n",
    "        \n",
    "j = ' '.join(output)\n",
    "\n",
    "print (j)"
   ]
  },
  {
   "cell_type": "code",
   "execution_count": 62,
   "id": "exotic-finish",
   "metadata": {},
   "outputs": [
    {
     "name": "stdout",
     "output_type": "stream",
     "text": [
      "Please enter your order item: tacos\n",
      "We are fresh out of tacos.\n"
     ]
    }
   ],
   "source": [
    "#Dictionary\n",
    "\n",
    "menu = {'burger':10, 'fries':5, 'pie':3}\n",
    "\n",
    "order = input('Please enter your order item: ')\n",
    "\n",
    "if order in menu:\n",
    "    print (f'{order} costs ${menu[order]} .')\n",
    "    \n",
    "else:\n",
    "    print (f'We are fresh out of {order}.')"
   ]
  },
  {
   "cell_type": "code",
   "execution_count": 21,
   "id": "together-signal",
   "metadata": {},
   "outputs": [
    {
     "name": "stdout",
     "output_type": "stream",
     "text": [
      "Please enter your order item: pie\n",
      "pie costs $3 .\n",
      "Please enter your order item: burger\n",
      "burger costs $10 .\n",
      "Please enter your order item: salt\n",
      "We are fresh out of salt.\n"
     ]
    }
   ],
   "source": [
    "menu = {'burger':10, 'fries':5, 'pie':3}\n",
    "total = 0\n",
    "\n",
    "order = input('Please enter your order item: ')\n",
    "\n",
    "while True:\n",
    "    if order in menu:\n",
    "        print (f'{order} costs ${menu[order]} .')\n",
    "        order = input('Please enter your order item: ')\n",
    "    else:\n",
    "        print (f'We are fresh out of {order}.')\n",
    "       #print (f'Total:${total}')\n",
    "        break\n",
    "\n"
   ]
  },
  {
   "cell_type": "code",
   "execution_count": null,
   "id": "discrete-tribune",
   "metadata": {},
   "outputs": [],
   "source": []
  }
 ],
 "metadata": {
  "kernelspec": {
   "display_name": "Python 3",
   "language": "python",
   "name": "python3"
  },
  "language_info": {
   "codemirror_mode": {
    "name": "ipython",
    "version": 3
   },
   "file_extension": ".py",
   "mimetype": "text/x-python",
   "name": "python",
   "nbconvert_exporter": "python",
   "pygments_lexer": "ipython3",
   "version": "3.8.6"
  }
 },
 "nbformat": 4,
 "nbformat_minor": 5
}
