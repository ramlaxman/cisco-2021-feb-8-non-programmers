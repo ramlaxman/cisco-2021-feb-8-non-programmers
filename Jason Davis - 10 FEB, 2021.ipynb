{
 "cells": [
  {
   "cell_type": "code",
   "execution_count": 1,
   "id": "addressed-marking",
   "metadata": {},
   "outputs": [
    {
     "name": "stdout",
     "output_type": "stream",
     "text": [
      "Friendly-traceback installed.\n"
     ]
    }
   ],
   "source": [
    "from friendly_traceback.ipython import *"
   ]
  },
  {
   "cell_type": "code",
   "execution_count": 7,
   "id": "sacred-functionality",
   "metadata": {},
   "outputs": [
    {
     "name": "stdout",
     "output_type": "stream",
     "text": [
      "Enter a word: bird\n",
      "irday\n"
     ]
    }
   ],
   "source": [
    "word = input('Enter a word: ')\n",
    "\n",
    "if word[0] in 'aeiou':\n",
    "    print (word + 'way')\n",
    "    \n",
    "else:\n",
    "    print (word[1:] + 'ay')"
   ]
  },
  {
   "cell_type": "code",
   "execution_count": 10,
   "id": "rolled-boost",
   "metadata": {},
   "outputs": [
    {
     "name": "stdout",
     "output_type": "stream",
     "text": [
      "Enter a short sentence: The dog is brown\n",
      "he dog is brownTay\n"
     ]
    },
    {
     "data": {
      "text/plain": [
       "['The', 'dog', 'is', 'brown']"
      ]
     },
     "execution_count": 10,
     "metadata": {},
     "output_type": "execute_result"
    }
   ],
   "source": [
    "words = input('Enter a short sentence: ')\n",
    "\n",
    "if words[0] in 'aeiou':\n",
    "    print(words + 'way')\n",
    "else:\n",
    "    print(words[1:] + words[0] + 'ay')\n",
    "\n",
    "words.split()"
   ]
  },
  {
   "cell_type": "code",
   "execution_count": 15,
   "id": "dimensional-chinese",
   "metadata": {},
   "outputs": [
    {
     "name": "stdout",
     "output_type": "stream",
     "text": [
      "Enter a short sentence: the dog is brown\n",
      "he dog is browntay\n",
      "the\n",
      "dog\n",
      "is\n",
      "brown\n"
     ]
    }
   ],
   "source": [
    "words = input('Enter a short sentence: ')\n",
    "\n",
    "if 'aeiou' in words[0]:\n",
    "    print(words + 'way')\n",
    "else:\n",
    "    print(words[1:] + words[0] + 'ay')\n",
    "\n",
    "words = words.split()\n",
    "\n",
    "for one_word in words:\n",
    "    print(one_word)"
   ]
  },
  {
   "cell_type": "code",
   "execution_count": 20,
   "id": "tutorial-brave",
   "metadata": {},
   "outputs": [
    {
     "name": "stdout",
     "output_type": "stream",
     "text": [
      "Enter a sentence: the dog is brown\n"
     ]
    },
    {
     "data": {
      "text/plain": [
       "['hetay', 'ogday', 'isway', 'rownbay']"
      ]
     },
     "execution_count": 20,
     "metadata": {},
     "output_type": "execute_result"
    }
   ],
   "source": [
    "sentence = input('Enter a sentence: ')\n",
    "words = sentence.split()   # no argument means: any whitespace is a separator\n",
    "\n",
    "output = []\n",
    "for word in words:\n",
    "    if word[0] in 'aeiou':\n",
    "        output.append (word + 'way')\n",
    "    else:\n",
    "        output.append (word[1:] + word[0] + 'ay')\n",
    "        \n",
    "output"
   ]
  },
  {
   "cell_type": "code",
   "execution_count": 34,
   "id": "hollow-microphone",
   "metadata": {},
   "outputs": [
    {
     "name": "stdout",
     "output_type": "stream",
     "text": [
      "Enter a sentence: the dog is brown\n",
      "hetay ogday isway rownbay\n"
     ]
    }
   ],
   "source": [
    "sentence = input('Enter a sentence: ')\n",
    "words = sentence.split()   # no argument means: any whitespace is a separator\n",
    "\n",
    "output = []\n",
    "for word in words:\n",
    "    if word[0] in 'aeiou':\n",
    "        output.append (word + 'way')\n",
    "    else:\n",
    "        output.append (word[1:] + word[0] + 'ay')\n",
    "        \n",
    "j = ' '.join(output)\n",
    "\n",
    "print (j)"
   ]
  },
  {
   "cell_type": "code",
   "execution_count": 62,
   "id": "attractive-remedy",
   "metadata": {},
   "outputs": [
    {
     "name": "stdout",
     "output_type": "stream",
     "text": [
      "Please enter your order item: tacos\n",
      "We are fresh out of tacos.\n"
     ]
    }
   ],
   "source": [
    "#Dictionary\n",
    "\n",
    "menu = {'burger':10, 'fries':5, 'pie':3}\n",
    "\n",
    "order = input('Please enter your order item: ')\n",
    "\n",
    "if order in menu:\n",
    "    print (f'{order} costs ${menu[order]} .')\n",
    "    \n",
    "else:\n",
    "    print (f'We are fresh out of {order}.')"
   ]
  },
  {
   "cell_type": "code",
   "execution_count": 19,
   "id": "altered-store",
   "metadata": {},
   "outputs": [
    {
     "name": "stdout",
     "output_type": "stream",
     "text": [
      "Please enter your order item: pie\n",
      "pie costs $3 .\n",
      "Please enter your order item: burger\n"
     ]
    },
    {
     "ename": "TypeError",
     "evalue": "can only concatenate str (not \"int\") to str",
     "output_type": "error",
     "traceback": [
      "\u001b[0;31m---------------------------------------------------------------------------\u001b[0m",
      "\u001b[0;31mTypeError\u001b[0m                                 Traceback (most recent call last)",
      "\u001b[0;32m<ipython-input-19-9e9cb3649a3f>\u001b[0m in \u001b[0;36m<module>\u001b[0;34m\u001b[0m\n\u001b[1;32m      8\u001b[0m         \u001b[0mprint\u001b[0m \u001b[0;34m(\u001b[0m\u001b[0;34mf'{order} costs ${menu[order]} .'\u001b[0m\u001b[0;34m)\u001b[0m\u001b[0;34m\u001b[0m\u001b[0;34m\u001b[0m\u001b[0m\n\u001b[1;32m      9\u001b[0m         \u001b[0morder\u001b[0m \u001b[0;34m=\u001b[0m \u001b[0minput\u001b[0m\u001b[0;34m(\u001b[0m\u001b[0;34m'Please enter your order item: '\u001b[0m\u001b[0;34m)\u001b[0m\u001b[0;34m\u001b[0m\u001b[0;34m\u001b[0m\u001b[0m\n\u001b[0;32m---> 10\u001b[0;31m         \u001b[0morder\u001b[0m \u001b[0;34m+\u001b[0m \u001b[0mtotal\u001b[0m\u001b[0;34m\u001b[0m\u001b[0;34m\u001b[0m\u001b[0m\n\u001b[0m\u001b[1;32m     11\u001b[0m     \u001b[0;32melse\u001b[0m\u001b[0;34m:\u001b[0m\u001b[0;34m\u001b[0m\u001b[0;34m\u001b[0m\u001b[0m\n\u001b[1;32m     12\u001b[0m         \u001b[0mprint\u001b[0m \u001b[0;34m(\u001b[0m\u001b[0;34mf'We are fresh out of {order}.'\u001b[0m\u001b[0;34m)\u001b[0m\u001b[0;34m\u001b[0m\u001b[0;34m\u001b[0m\u001b[0m\n",
      "\u001b[0;31mTypeError\u001b[0m: can only concatenate str (not \"int\") to str"
     ]
    }
   ],
   "source": [
    "menu = {'burger':10, 'fries':5, 'pie':3}\n",
    "total = 0\n",
    "\n",
    "order = input('Please enter your order item: ')\n",
    "\n",
    "while True:\n",
    "    if order in menu:\n",
    "        print (f'{order} costs ${menu[order]} .')\n",
    "        order = input('Please enter your order item: ')\n",
    "        order + total\n",
    "    else:\n",
    "        print (f'We are fresh out of {order}.')\n",
    "       #print (f'Total:${total}')\n",
    "        break\n",
    "\n"
   ]
  },
  {
   "cell_type": "code",
   "execution_count": null,
   "id": "funded-making",
   "metadata": {},
   "outputs": [],
   "source": []
  }
 ],
 "metadata": {
  "kernelspec": {
   "display_name": "Python 3",
   "language": "python",
   "name": "python3"
  },
  "language_info": {
   "codemirror_mode": {
    "name": "ipython",
    "version": 3
   },
   "file_extension": ".py",
   "mimetype": "text/x-python",
   "name": "python",
   "nbconvert_exporter": "python",
   "pygments_lexer": "ipython3",
   "version": "3.8.6"
  }
 },
 "nbformat": 4,
 "nbformat_minor": 5
}
