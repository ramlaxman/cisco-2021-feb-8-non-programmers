{
 "cells": [
  {
   "cell_type": "code",
   "execution_count": 1,
   "id": "seeing-ukraine",
   "metadata": {},
   "outputs": [
    {
     "name": "stdout",
     "output_type": "stream",
     "text": [
      "Friendly-traceback installed.\n"
     ]
    }
   ],
   "source": [
    "from friendly_traceback.ipython import *"
   ]
  },
  {
   "cell_type": "code",
   "execution_count": 7,
   "id": "insured-photography",
   "metadata": {},
   "outputs": [
    {
     "name": "stdout",
     "output_type": "stream",
     "text": [
      "Enter a word: bird\n",
      "irday\n"
     ]
    }
   ],
   "source": [
    "word = input('Enter a word: ')\n",
    "\n",
    "if word[0] in 'aeiou':\n",
    "    print (word + 'way')\n",
    "    \n",
    "else:\n",
    "    print (word[1:] + 'ay')"
   ]
  },
  {
   "cell_type": "code",
   "execution_count": 10,
   "id": "bronze-brush",
   "metadata": {},
   "outputs": [
    {
     "name": "stdout",
     "output_type": "stream",
     "text": [
      "Enter a short sentence: The dog is brown\n",
      "he dog is brownTay\n"
     ]
    },
    {
     "data": {
      "text/plain": [
       "['The', 'dog', 'is', 'brown']"
      ]
     },
     "execution_count": 10,
     "metadata": {},
     "output_type": "execute_result"
    }
   ],
   "source": [
    "words = input('Enter a short sentence: ')\n",
    "\n",
    "if words[0] in 'aeiou':\n",
    "    print(words + 'way')\n",
    "else:\n",
    "    print(words[1:] + words[0] + 'ay')\n",
    "\n",
    "words.split()"
   ]
  },
  {
   "cell_type": "code",
   "execution_count": 15,
   "id": "ordinary-release",
   "metadata": {},
   "outputs": [
    {
     "name": "stdout",
     "output_type": "stream",
     "text": [
      "Enter a short sentence: the dog is brown\n",
      "he dog is browntay\n",
      "the\n",
      "dog\n",
      "is\n",
      "brown\n"
     ]
    }
   ],
   "source": [
    "words = input('Enter a short sentence: ')\n",
    "\n",
    "if 'aeiou' in words[0]:\n",
    "    print(words + 'way')\n",
    "else:\n",
    "    print(words[1:] + words[0] + 'ay')\n",
    "\n",
    "words = words.split()\n",
    "\n",
    "for one_word in words:\n",
    "    print(one_word)"
   ]
  },
  {
   "cell_type": "code",
   "execution_count": 20,
   "id": "complete-inquiry",
   "metadata": {},
   "outputs": [
    {
     "name": "stdout",
     "output_type": "stream",
     "text": [
      "Enter a sentence: the dog is brown\n"
     ]
    },
    {
     "data": {
      "text/plain": [
       "['hetay', 'ogday', 'isway', 'rownbay']"
      ]
     },
     "execution_count": 20,
     "metadata": {},
     "output_type": "execute_result"
    }
   ],
   "source": [
    "sentence = input('Enter a sentence: ')\n",
    "words = sentence.split()   # no argument means: any whitespace is a separator\n",
    "\n",
    "output = []\n",
    "for word in words:\n",
    "    if word[0] in 'aeiou':\n",
    "        output.append (word + 'way')\n",
    "    else:\n",
    "        output.append (word[1:] + word[0] + 'ay')\n",
    "        \n",
    "output"
   ]
  },
  {
   "cell_type": "code",
   "execution_count": 34,
   "id": "contrary-fourth",
   "metadata": {},
   "outputs": [
    {
     "name": "stdout",
     "output_type": "stream",
     "text": [
      "Enter a sentence: the dog is brown\n",
      "hetay ogday isway rownbay\n"
     ]
    }
   ],
   "source": [
    "sentence = input('Enter a sentence: ')\n",
    "words = sentence.split()   # no argument means: any whitespace is a separator\n",
    "\n",
    "output = []\n",
    "for word in words:\n",
    "    if word[0] in 'aeiou':\n",
    "        output.append (word + 'way')\n",
    "    else:\n",
    "        output.append (word[1:] + word[0] + 'ay')\n",
    "        \n",
    "j = ' '.join(output)\n",
    "\n",
    "print (j)"
   ]
  },
  {
   "cell_type": "code",
   "execution_count": 62,
   "id": "noble-renaissance",
   "metadata": {},
   "outputs": [
    {
     "name": "stdout",
     "output_type": "stream",
     "text": [
      "Please enter your order item: tacos\n",
      "We are fresh out of tacos.\n"
     ]
    }
   ],
   "source": [
    "#Dictionary\n",
    "\n",
    "menu = {'burger':10, 'fries':5, 'pie':3}\n",
    "\n",
    "order = input('Please enter your order item: ')\n",
    "\n",
    "if order in menu:\n",
    "    print (f'{order} costs ${menu[order]} .')\n",
    "    \n",
    "else:\n",
    "    print (f'We are fresh out of {order}.')"
   ]
  },
  {
   "cell_type": "code",
   "execution_count": 21,
   "id": "foreign-differential",
   "metadata": {},
   "outputs": [
    {
     "name": "stdout",
     "output_type": "stream",
     "text": [
      "Please enter your order item: pie\n",
      "pie costs $3 .\n",
      "Please enter your order item: burger\n",
      "burger costs $10 .\n",
      "Please enter your order item: salt\n",
      "We are fresh out of salt.\n"
     ]
    }
   ],
   "source": [
    "menu = {'burger':10, 'fries':5, 'pie':3}\n",
    "total = 0\n",
    "\n",
    "order = input('Please enter your order item: ')\n",
    "\n",
    "while True:\n",
    "    if order in menu:\n",
    "        print (f'{order} costs ${menu[order]} .')\n",
    "        order = input('Please enter your order item: ')\n",
    "    else:\n",
    "        print (f'We are fresh out of {order}.')\n",
    "       #print (f'Total:${total}')\n",
    "        break\n",
    "\n"
   ]
  },
  {
   "cell_type": "code",
   "execution_count": 28,
   "id": "parental-leone",
   "metadata": {},
   "outputs": [
    {
     "name": "stdout",
     "output_type": "stream",
     "text": [
      "root:x:0:0:root:/root:/bin/bash\n",
      "daemon:x:1:1:daemon:/usr/sbin:/usr/sbin/nologin\n",
      "bin:x:2:2:bin:/bin:/usr/sbin/nologin\n",
      "sys:x:3:3:sys:/dev:/usr/sbin/nologin\n",
      "sync:x:4:65534:sync:/bin:/bin/sync\n",
      "games:x:5:60:games:/usr/games:/usr/sbin/nologin\n",
      "man:x:6:12:man:/var/cache/man:/usr/sbin/nologin\n",
      "lp:x:7:7:lp:/var/spool/lpd:/usr/sbin/nologin\n",
      "mail:x:8:8:mail:/var/mail:/usr/sbin/nologin\n",
      "news:x:9:9:news:/var/spool/news:/usr/sbin/nologin\n",
      "uucp:x:10:10:uucp:/var/spool/uucp:/usr/sbin/nologin\n",
      "proxy:x:13:13:proxy:/bin:/usr/sbin/nologin\n",
      "www-data:x:33:33:www-data:/var/www:/usr/sbin/nologin\n",
      "backup:x:34:34:backup:/var/backups:/usr/sbin/nologin\n",
      "list:x:38:38:Mailing List Manager:/var/list:/usr/sbin/nologin\n",
      "irc:x:39:39:ircd:/var/run/ircd:/usr/sbin/nologin\n",
      "gnats:x:41:41:Gnats Bug-Reporting System (admin):/var/lib/gnats:/usr/sbin/nologin\n",
      "nobody:x:65534:65534:nobody:/nonexistent:/usr/sbin/nologin\n",
      "systemd-timesync:x:100:101:systemd Time Synchronization,,,:/run/systemd:/usr/sbin/nologin\n",
      "systemd-network:x:101:103:systemd Network Management,,,:/run/systemd:/usr/sbin/nologin\n",
      "systemd-resolve:x:102:104:systemd Resolver,,,:/run/systemd:/usr/sbin/nologin\n",
      "messagebus:x:103:106::/nonexistent:/usr/sbin/nologin\n",
      "syslog:x:104:110::/home/syslog:/usr/sbin/nologin\n",
      "_apt:x:105:65534::/nonexistent:/usr/sbin/nologin\n",
      "tss:x:106:111:TPM software stack,,,:/var/lib/tpm:/bin/false\n",
      "uuidd:x:107:112::/run/uuidd:/usr/sbin/nologin\n",
      "tcpdump:x:108:113::/nonexistent:/usr/sbin/nologin\n",
      "sshd:x:109:65534::/run/sshd:/usr/sbin/nologin\n",
      "landscape:x:110:115::/var/lib/landscape:/usr/sbin/nologin\n",
      "pollinate:x:111:1::/var/cache/pollinate:/bin/false\n",
      "systemd-coredump:x:999:999:systemd Core Dumper:/:/usr/sbin/nologin\n",
      "lxd:x:998:100::/var/snap/lxd/common/lxd:/bin/false\n",
      "student:x:1000:1000:,,,:/home/student:/bin/bash\n",
      "\n"
     ]
    }
   ],
   "source": [
    "f = open('/etc/passwd')\n",
    "\n",
    "#for one_line in f:\n",
    "#    print (one_line.strip())\n",
    "print (f.read())    \n",
    "f.close()"
   ]
  },
  {
   "cell_type": "code",
   "execution_count": 47,
   "id": "extreme-substance",
   "metadata": {},
   "outputs": [
    {
     "name": "stdout",
     "output_type": "stream",
     "text": [
      "Enter a word: sshd\n",
      "sshd:x:109:65534::/run/sshd:/usr/sbin/nologin\n"
     ]
    }
   ],
   "source": [
    "#Searching files\n",
    "\n",
    "look_for = input ('Enter a word: ')\n",
    "f = open('/etc/passwd')\n",
    "\n",
    "for one_line in f:\n",
    "    if look_for in one_line:\n",
    "        print (one_line.strip())\n",
    "        \n",
    "f.close()"
   ]
  },
  {
   "cell_type": "code",
   "execution_count": null,
   "id": "tough-typing",
   "metadata": {},
   "outputs": [],
   "source": [
    "ip_add = open('mini-access-log.txt')\n",
    "\n",
    "for one_line in ip_add:\n",
    "    if "
   ]
  }
 ],
 "metadata": {
  "kernelspec": {
   "display_name": "Python 3",
   "language": "python",
   "name": "python3"
  },
  "language_info": {
   "codemirror_mode": {
    "name": "ipython",
    "version": 3
   },
   "file_extension": ".py",
   "mimetype": "text/x-python",
   "name": "python",
   "nbconvert_exporter": "python",
   "pygments_lexer": "ipython3",
   "version": "3.8.6"
  }
 },
 "nbformat": 4,
 "nbformat_minor": 5
}
