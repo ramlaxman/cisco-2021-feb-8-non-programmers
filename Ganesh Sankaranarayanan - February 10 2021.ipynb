{
 "cells": [
  {
   "cell_type": "code",
   "execution_count": 1,
   "id": "associate-conservation",
   "metadata": {},
   "outputs": [
    {
     "name": "stdout",
     "output_type": "stream",
     "text": [
      "Friendly-traceback installed.\n"
     ]
    }
   ],
   "source": [
    "from friendly_traceback.ipython import *"
   ]
  },
  {
   "cell_type": "code",
   "execution_count": 9,
   "id": "streaming-algebra",
   "metadata": {},
   "outputs": [
    {
     "name": "stdout",
     "output_type": "stream",
     "text": [
      "Enter a sentence :hey buddy how are you doing.       \n",
      "hey\n",
      "buddy\n",
      "how\n",
      "are\n",
      "you\n",
      "doing.\n"
     ]
    }
   ],
   "source": [
    "sentence = input('Enter a sentence :')\n",
    "\n",
    "sentence = sentence.lower()\n",
    "\n",
    "sentence = sentence.split()\n",
    "\n",
    "for word in sentence:\n",
    "    print(word)"
   ]
  },
  {
   "cell_type": "code",
   "execution_count": 14,
   "id": "medical-marshall",
   "metadata": {},
   "outputs": [
    {
     "name": "stdout",
     "output_type": "stream",
     "text": [
      "Enter a sentence :how are you\n"
     ]
    },
    {
     "name": "stderr",
     "output_type": "stream",
     "text": [
      "\n",
      "Traceback (most recent call last):\n",
      "  File \"<ipython-input-14>\", line 17, in <module>\n",
      "    print(mylist.join())\n",
      "AttributeError: 'list' object has no attribute 'join'\n",
      "\n",
      "        Did you mean `'...'.join(mylist)`?\n",
      "        \n"
     ]
    }
   ],
   "source": [
    "mylist = []\n",
    "\n",
    "sentence = input('Enter a sentence :')\n",
    "\n",
    "sentence = sentence.lower()\n",
    "\n",
    "sentence = sentence.split()\n",
    "\n",
    "for word in sentence:\n",
    "    if word[0] in 'aeiou':\n",
    "        word = word + 'way'\n",
    "        mylist.append(word)\n",
    "    else:\n",
    "        word = word[1:] + word[0] + 'ay'\n",
    "        mylist.append(word)\n",
    "\n",
    "print(.join())\n"
   ]
  },
  {
   "cell_type": "code",
   "execution_count": null,
   "id": "ranging-spare",
   "metadata": {},
   "outputs": [],
   "source": []
  }
 ],
 "metadata": {
  "kernelspec": {
   "display_name": "Python 3",
   "language": "python",
   "name": "python3"
  },
  "language_info": {
   "codemirror_mode": {
    "name": "ipython",
    "version": 3
   },
   "file_extension": ".py",
   "mimetype": "text/x-python",
   "name": "python",
   "nbconvert_exporter": "python",
   "pygments_lexer": "ipython3",
   "version": "3.8.6"
  }
 },
 "nbformat": 4,
 "nbformat_minor": 5
}
