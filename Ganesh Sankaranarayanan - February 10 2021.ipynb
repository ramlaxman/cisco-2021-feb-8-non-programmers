{
 "cells": [
  {
   "cell_type": "code",
   "execution_count": 1,
   "id": "popular-headquarters",
   "metadata": {},
   "outputs": [
    {
     "name": "stdout",
     "output_type": "stream",
     "text": [
      "Friendly-traceback installed.\n"
     ]
    }
   ],
   "source": [
    "from friendly_traceback.ipython import *"
   ]
  },
  {
   "cell_type": "code",
   "execution_count": 19,
   "id": "burning-support",
   "metadata": {},
   "outputs": [
    {
     "name": "stdout",
     "output_type": "stream",
     "text": [
      "Enter a sentence :how are you\n",
      "how\n",
      "are\n",
      "you\n"
     ]
    }
   ],
   "source": [
    "sentence = input('Enter a sentence :')\n",
    "\n",
    "words = sentence.split()\n",
    "\n",
    "for one_word in words:\n",
    "    print(one_word)"
   ]
  },
  {
   "cell_type": "code",
   "execution_count": 26,
   "id": "organized-arena",
   "metadata": {},
   "outputs": [
    {
     "name": "stdout",
     "output_type": "stream",
     "text": [
      "Enter a sentence :how are you\n",
      "owhay\n",
      "areway\n",
      "ouyay\n",
      "how are you\n"
     ]
    }
   ],
   "source": [
    "mylist = []\n",
    "\n",
    "sentence = input('Enter a sentence :')\n",
    "\n",
    "###sentence = sentence.lower()\n",
    "\n",
    "###sentence = sentence.split()\n",
    "\n",
    "###for word in sentence:\n",
    "\n",
    "words = sentence.split()\n",
    "\n",
    "for one_word in words:\n",
    "    if one_word[0] in 'aeiou':\n",
    "        one_word = one_word + 'way'\n",
    "        print(one_word)\n",
    "    else:\n",
    "        one_word = one_word[1:] + one_word[0] + 'ay'\n",
    "        print(one_word)\n"
   ]
  },
  {
   "cell_type": "code",
   "execution_count": 41,
   "id": "handmade-quilt",
   "metadata": {},
   "outputs": [
    {
     "name": "stdout",
     "output_type": "stream",
     "text": [
      "Enter a sentence :hey how are you\n",
      "eyhay owhay areway ouyay\n"
     ]
    }
   ],
   "source": [
    "mylist = []\n",
    "\n",
    "sentence = input('Enter a sentence :')\n",
    "\n",
    "words = sentence.split()\n",
    "\n",
    "for word in words:\n",
    "    if word[0] in 'aeiou':\n",
    "        word = word + 'way'\n",
    "        mylist.append(word)\n",
    "    else:\n",
    "        word = word[1:] + word[0] + 'ay'\n",
    "        mylist.append(word)\n",
    "        \n",
    "print(' '.join(mylist))"
   ]
  },
  {
   "cell_type": "code",
   "execution_count": 43,
   "id": "tribal-record",
   "metadata": {},
   "outputs": [
    {
     "name": "stdout",
     "output_type": "stream",
     "text": [
      "Enter a sentence :hey how are you\n",
      "eyhay owhay areway ouyay\n"
     ]
    }
   ],
   "source": [
    "### Better way to do it\n",
    "\n",
    "mylist = []\n",
    "\n",
    "sentence = input('Enter a sentence :')\n",
    "\n",
    "words = sentence.split()\n",
    "\n",
    "for word in words:\n",
    "    if word[0] in 'aeiou':\n",
    "        mylist.append(word + 'way')\n",
    "    else:\n",
    "        mylist.append(word[1:] + word[0] + 'ay')\n",
    "        \n",
    "print(' '.join(mylist))"
   ]
  },
  {
   "cell_type": "code",
   "execution_count": 48,
   "id": "breathing-implement",
   "metadata": {},
   "outputs": [
    {
     "name": "stdout",
     "output_type": "stream",
     "text": [
      "Enter your order :coffee\n",
      "coffee costs 2 dollars.\n"
     ]
    }
   ],
   "source": [
    "menu_list = {'bagel':3, 'doughnut':2, 'coffee':2}\n",
    "\n",
    "order = input('Enter your order :').strip()\n",
    "\n",
    "if order in menu_list:\n",
    "    print(f'{order} costs {menu_list[order]} dollars.')\n",
    "else:\n",
    "    print('The item you entered is not available')"
   ]
  },
  {
   "cell_type": "code",
   "execution_count": 54,
   "id": "blocked-third",
   "metadata": {},
   "outputs": [
    {
     "name": "stdout",
     "output_type": "stream",
     "text": [
      "Enter your order :bagel\n",
      "bagel costs 3 dollars.\n",
      "Enter your order :coffee\n",
      "coffee costs 2 dollars.\n",
      "Enter your order :\n",
      "The total cost of your order is 5\n"
     ]
    }
   ],
   "source": [
    "menu_list = {'bagel':3, 'doughnut':2, 'coffee':2}\n",
    "total = 0\n",
    "\n",
    "while True:\n",
    "    \n",
    "    order = input('Enter your order :').strip()\n",
    "    \n",
    "    if order == '':\n",
    "        break\n",
    "        \n",
    "\n",
    "    if order in menu_list:\n",
    "        price = menu_list[order]\n",
    "        print(f'{order} costs {menu_list[order]} dollars.')\n",
    "        total = total + price\n",
    "        \n",
    "    else:\n",
    "        print('The item you entered is not available')\n",
    "\n",
    "print(f'The total cost of your order is {total}')\n",
    "      "
   ]
  },
  {
   "cell_type": "code",
   "execution_count": null,
   "id": "flush-samba",
   "metadata": {},
   "outputs": [],
   "source": []
  }
 ],
 "metadata": {
  "kernelspec": {
   "display_name": "Python 3",
   "language": "python",
   "name": "python3"
  },
  "language_info": {
   "codemirror_mode": {
    "name": "ipython",
    "version": 3
   },
   "file_extension": ".py",
   "mimetype": "text/x-python",
   "name": "python",
   "nbconvert_exporter": "python",
   "pygments_lexer": "ipython3",
   "version": "3.8.6"
  }
 },
 "nbformat": 4,
 "nbformat_minor": 5
}
