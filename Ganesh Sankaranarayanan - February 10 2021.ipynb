{
 "cells": [
  {
   "cell_type": "code",
   "execution_count": 1,
   "id": "close-ivory",
   "metadata": {},
   "outputs": [
    {
     "name": "stdout",
     "output_type": "stream",
     "text": [
      "Friendly-traceback installed.\n"
     ]
    }
   ],
   "source": [
    "from friendly_traceback.ipython import *"
   ]
  },
  {
   "cell_type": "code",
   "execution_count": 9,
   "id": "forbidden-revision",
   "metadata": {},
   "outputs": [
    {
     "name": "stdout",
     "output_type": "stream",
     "text": [
      "Enter a sentence :hey buddy how are you doing.       \n",
      "hey\n",
      "buddy\n",
      "how\n",
      "are\n",
      "you\n",
      "doing.\n"
     ]
    }
   ],
   "source": [
    "sentence = input('Enter a sentence :')\n",
    "\n",
    "sentence = sentence.lower()\n",
    "\n",
    "sentence = sentence.split()\n",
    "\n",
    "for word in sentence:\n",
    "    print(word)"
   ]
  },
  {
   "cell_type": "code",
   "execution_count": null,
   "id": "packed-banking",
   "metadata": {},
   "outputs": [],
   "source": [
    "sentence = input('Enter a sentence :')\n",
    "\n",
    "sentence = sentence.lower()\n",
    "\n",
    "sentence = sentence.split()\n",
    "\n",
    "for word in sentence:\n",
    "    print(word)"
   ]
  }
 ],
 "metadata": {
  "kernelspec": {
   "display_name": "Python 3",
   "language": "python",
   "name": "python3"
  },
  "language_info": {
   "codemirror_mode": {
    "name": "ipython",
    "version": 3
   },
   "file_extension": ".py",
   "mimetype": "text/x-python",
   "name": "python",
   "nbconvert_exporter": "python",
   "pygments_lexer": "ipython3",
   "version": "3.8.6"
  }
 },
 "nbformat": 4,
 "nbformat_minor": 5
}
