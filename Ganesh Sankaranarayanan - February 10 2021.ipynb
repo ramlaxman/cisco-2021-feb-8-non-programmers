{
 "cells": [
  {
   "cell_type": "code",
   "execution_count": 1,
   "id": "several-fantasy",
   "metadata": {},
   "outputs": [
    {
     "name": "stdout",
     "output_type": "stream",
     "text": [
      "Friendly-traceback installed.\n"
     ]
    }
   ],
   "source": [
    "from friendly_traceback.ipython import *"
   ]
  },
  {
   "cell_type": "code",
   "execution_count": 19,
   "id": "smooth-floating",
   "metadata": {},
   "outputs": [
    {
     "name": "stdout",
     "output_type": "stream",
     "text": [
      "Enter a sentence :how are you\n",
      "how\n",
      "are\n",
      "you\n"
     ]
    }
   ],
   "source": [
    "sentence = input('Enter a sentence :')\n",
    "\n",
    "words = sentence.split()\n",
    "\n",
    "for one_word in words:\n",
    "    print(one_word)"
   ]
  },
  {
   "cell_type": "code",
   "execution_count": 26,
   "id": "israeli-insulation",
   "metadata": {},
   "outputs": [
    {
     "name": "stdout",
     "output_type": "stream",
     "text": [
      "Enter a sentence :how are you\n",
      "owhay\n",
      "areway\n",
      "ouyay\n",
      "how are you\n"
     ]
    }
   ],
   "source": [
    "mylist = []\n",
    "\n",
    "sentence = input('Enter a sentence :')\n",
    "\n",
    "###sentence = sentence.lower()\n",
    "\n",
    "###sentence = sentence.split()\n",
    "\n",
    "###for word in sentence:\n",
    "\n",
    "words = sentence.split()\n",
    "\n",
    "for one_word in words:\n",
    "    if one_word[0] in 'aeiou':\n",
    "        one_word = one_word + 'way'\n",
    "        print(one_word)\n",
    "    else:\n",
    "        one_word = one_word[1:] + one_word[0] + 'ay'\n",
    "        print(one_word)\n"
   ]
  },
  {
   "cell_type": "code",
   "execution_count": 41,
   "id": "attended-collins",
   "metadata": {},
   "outputs": [
    {
     "name": "stdout",
     "output_type": "stream",
     "text": [
      "Enter a sentence :hey how are you\n",
      "eyhay owhay areway ouyay\n"
     ]
    }
   ],
   "source": [
    "mylist = []\n",
    "\n",
    "sentence = input('Enter a sentence :')\n",
    "\n",
    "words = sentence.split()\n",
    "\n",
    "for word in words:\n",
    "    if word[0] in 'aeiou':\n",
    "        word = word + 'way'\n",
    "        mylist.append(word)\n",
    "    else:\n",
    "        word = word[1:] + word[0] + 'ay'\n",
    "        mylist.append(word)\n",
    "        \n",
    "print(' '.join(mylist))"
   ]
  },
  {
   "cell_type": "code",
   "execution_count": 43,
   "id": "attached-thickness",
   "metadata": {},
   "outputs": [
    {
     "name": "stdout",
     "output_type": "stream",
     "text": [
      "Enter a sentence :hey how are you\n",
      "eyhay owhay areway ouyay\n"
     ]
    }
   ],
   "source": [
    "### Better way to do it\n",
    "\n",
    "mylist = []\n",
    "\n",
    "sentence = input('Enter a sentence :')\n",
    "\n",
    "words = sentence.split()\n",
    "\n",
    "for word in words:\n",
    "    if word[0] in 'aeiou':\n",
    "        mylist.append(word + 'way')\n",
    "    else:\n",
    "        mylist.append(word[1:] + word[0] + 'ay')\n",
    "        \n",
    "print(' '.join(mylist))"
   ]
  },
  {
   "cell_type": "code",
   "execution_count": 48,
   "id": "aware-assistant",
   "metadata": {},
   "outputs": [
    {
     "name": "stdout",
     "output_type": "stream",
     "text": [
      "Enter your order :coffee\n",
      "coffee costs 2 dollars.\n"
     ]
    }
   ],
   "source": [
    "menu_list = {'bagel':3, 'doughnut':2, 'coffee':2}\n",
    "\n",
    "order = input('Enter your order :').strip()\n",
    "\n",
    "if order in menu_list:\n",
    "    print(f'{order} costs {menu_list[order]} dollars.')\n",
    "else:\n",
    "    print('The item you entered is not available')"
   ]
  },
  {
   "cell_type": "code",
   "execution_count": 54,
   "id": "quarterly-preview",
   "metadata": {},
   "outputs": [
    {
     "name": "stdout",
     "output_type": "stream",
     "text": [
      "Enter your order :bagel\n",
      "bagel costs 3 dollars.\n",
      "Enter your order :coffee\n",
      "coffee costs 2 dollars.\n",
      "Enter your order :\n",
      "The total cost of your order is 5\n"
     ]
    }
   ],
   "source": [
    "menu_list = {'bagel':3, 'doughnut':2, 'coffee':2}\n",
    "total = 0\n",
    "\n",
    "while True:\n",
    "    \n",
    "    order = input('Enter your order :').strip()\n",
    "    \n",
    "    if order == '':\n",
    "        break\n",
    "        \n",
    "\n",
    "    if order in menu_list:\n",
    "        price = menu_list[order]\n",
    "        print(f'{order} costs {menu_list[order]} dollars.')\n",
    "        total = total + price\n",
    "        \n",
    "    else:\n",
    "        print('The item you entered is not available')\n",
    "\n",
    "print(f'The total cost of your order is {total}')\n",
    "      "
   ]
  },
  {
   "cell_type": "code",
   "execution_count": 63,
   "id": "generic-average",
   "metadata": {},
   "outputs": [
    {
     "name": "stdout",
     "output_type": "stream",
     "text": [
      "Enter a string :hello123\n",
      "{'vowels': 2, 'digits': 3, 'others': 3}\n"
     ]
    }
   ],
   "source": [
    "alphanumeric_count = {'vowels':0, 'digits':0, 'others':0}\n",
    "\n",
    "input_string = input('Enter a string :').strip()\n",
    "\n",
    "for each_character in input_string:\n",
    "    if each_character.isdigit():\n",
    "        alphanumeric_count['digits'] += 1\n",
    "    \n",
    "    elif each_character in 'aeiou':\n",
    "        alphanumeric_count['vowels'] += 1\n",
    "    \n",
    "    else:\n",
    "        alphanumeric_count['others'] += 1\n",
    "\n",
    "print(alphanumeric_count)"
   ]
  },
  {
   "cell_type": "code",
   "execution_count": 65,
   "id": "consistent-steering",
   "metadata": {},
   "outputs": [
    {
     "data": {
      "text/plain": [
       "'root:x:0:0:root:/root:/bin/bash\\ndaemon:x:1:1:daemon:/usr/sbin:/usr/sbin/nologin\\nbin:x:2:2:bin:/bin:/usr/sbin/nologin\\nsys:x:3:3:sys:/dev:/usr/sbin/nologin\\nsync:x:4:65534:sync:/bin:/bin/sync\\ngames:x:5:60:games:/usr/games:/usr/sbin/nologin\\nman:x:6:12:man:/var/cache/man:/usr/sbin/nologin\\nlp:x:7:7:lp:/var/spool/lpd:/usr/sbin/nologin\\nmail:x:8:8:mail:/var/mail:/usr/sbin/nologin\\nnews:x:9:9:news:/var/spool/news:/usr/sbin/nologin\\nuucp:x:10:10:uucp:/var/spool/uucp:/usr/sbin/nologin\\nproxy:x:13:13:proxy:/bin:/usr/sbin/nologin\\nwww-data:x:33:33:www-data:/var/www:/usr/sbin/nologin\\nbackup:x:34:34:backup:/var/backups:/usr/sbin/nologin\\nlist:x:38:38:Mailing List Manager:/var/list:/usr/sbin/nologin\\nirc:x:39:39:ircd:/var/run/ircd:/usr/sbin/nologin\\ngnats:x:41:41:Gnats Bug-Reporting System (admin):/var/lib/gnats:/usr/sbin/nologin\\nnobody:x:65534:65534:nobody:/nonexistent:/usr/sbin/nologin\\nsystemd-timesync:x:100:101:systemd Time Synchronization,,,:/run/systemd:/usr/sbin/nologin\\nsystemd-network:x:101:103:systemd Network Management,,,:/run/systemd:/usr/sbin/nologin\\nsystemd-resolve:x:102:104:systemd Resolver,,,:/run/systemd:/usr/sbin/nologin\\nmessagebus:x:103:106::/nonexistent:/usr/sbin/nologin\\nsyslog:x:104:110::/home/syslog:/usr/sbin/nologin\\n_apt:x:105:65534::/nonexistent:/usr/sbin/nologin\\ntss:x:106:111:TPM software stack,,,:/var/lib/tpm:/bin/false\\nuuidd:x:107:112::/run/uuidd:/usr/sbin/nologin\\ntcpdump:x:108:113::/nonexistent:/usr/sbin/nologin\\nsshd:x:109:65534::/run/sshd:/usr/sbin/nologin\\nlandscape:x:110:115::/var/lib/landscape:/usr/sbin/nologin\\npollinate:x:111:1::/var/cache/pollinate:/bin/false\\nsystemd-coredump:x:999:999:systemd Core Dumper:/:/usr/sbin/nologin\\nlxd:x:998:100::/var/snap/lxd/common/lxd:/bin/false\\nstudent:x:1000:1000:,,,:/home/student:/bin/bash\\n'"
      ]
     },
     "execution_count": 65,
     "metadata": {},
     "output_type": "execute_result"
    }
   ],
   "source": [
    "f = open('/etc/passwd')\n",
    "print(f.read()"
   ]
  },
  {
   "cell_type": "code",
   "execution_count": null,
   "id": "simple-suite",
   "metadata": {},
   "outputs": [],
   "source": []
  }
 ],
 "metadata": {
  "kernelspec": {
   "display_name": "Python 3",
   "language": "python",
   "name": "python3"
  },
  "language_info": {
   "codemirror_mode": {
    "name": "ipython",
    "version": 3
   },
   "file_extension": ".py",
   "mimetype": "text/x-python",
   "name": "python",
   "nbconvert_exporter": "python",
   "pygments_lexer": "ipython3",
   "version": "3.8.6"
  }
 },
 "nbformat": 4,
 "nbformat_minor": 5
}
