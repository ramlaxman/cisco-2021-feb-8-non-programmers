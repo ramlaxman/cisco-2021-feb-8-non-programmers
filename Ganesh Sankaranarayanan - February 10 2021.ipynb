{
 "cells": [
  {
   "cell_type": "code",
   "execution_count": 1,
   "id": "classical-biodiversity",
   "metadata": {},
   "outputs": [
    {
     "name": "stdout",
     "output_type": "stream",
     "text": [
      "Friendly-traceback installed.\n"
     ]
    }
   ],
   "source": [
    "from friendly_traceback.ipython import *"
   ]
  },
  {
   "cell_type": "code",
   "execution_count": 19,
   "id": "speaking-trauma",
   "metadata": {},
   "outputs": [
    {
     "name": "stdout",
     "output_type": "stream",
     "text": [
      "Enter a sentence :how are you\n",
      "how\n",
      "are\n",
      "you\n"
     ]
    }
   ],
   "source": [
    "sentence = input('Enter a sentence :')\n",
    "\n",
    "words = sentence.split()\n",
    "\n",
    "for one_word in words:\n",
    "    print(one_word)"
   ]
  },
  {
   "cell_type": "code",
   "execution_count": 26,
   "id": "adverse-original",
   "metadata": {},
   "outputs": [
    {
     "name": "stdout",
     "output_type": "stream",
     "text": [
      "Enter a sentence :how are you\n",
      "owhay\n",
      "areway\n",
      "ouyay\n",
      "how are you\n"
     ]
    }
   ],
   "source": [
    "mylist = []\n",
    "\n",
    "sentence = input('Enter a sentence :')\n",
    "\n",
    "###sentence = sentence.lower()\n",
    "\n",
    "###sentence = sentence.split()\n",
    "\n",
    "###for word in sentence:\n",
    "\n",
    "words = sentence.split()\n",
    "\n",
    "for one_word in words:\n",
    "    if one_word[0] in 'aeiou':\n",
    "        one_word = one_word + 'way'\n",
    "        print(one_word)\n",
    "    else:\n",
    "        one_word = one_word[1:] + one_word[0] + 'ay'\n",
    "        print(one_word)\n"
   ]
  },
  {
   "cell_type": "code",
   "execution_count": 38,
   "id": "driven-mortgage",
   "metadata": {},
   "outputs": [
    {
     "name": "stdout",
     "output_type": "stream",
     "text": [
      "Enter a sentence :how are you\n",
      "owhay areway ouyay\n"
     ]
    }
   ],
   "source": [
    "mylist = []\n",
    "\n",
    "sentence = input('Enter a sentence :')\n",
    "\n",
    "###sentence = sentence.lower()\n",
    "\n",
    "###sentence = sentence.split()\n",
    "\n",
    "###for word in sentence:\n",
    "\n",
    "words = sentence.split()\n",
    "\n",
    "for word in words:\n",
    "    if word[0] in 'aeiou':\n",
    "        word = word + 'way'\n",
    "        mylist.append(word)\n",
    "    else:\n",
    "        word = word[1:] + word[0] + 'ay'\n",
    "        mylist.append(word)\n",
    "        \n",
    "mylist = ' '.join(mylist)\n",
    "print(mylist)\n"
   ]
  },
  {
   "cell_type": "code",
   "execution_count": null,
   "id": "amended-spread",
   "metadata": {},
   "outputs": [],
   "source": []
  }
 ],
 "metadata": {
  "kernelspec": {
   "display_name": "Python 3",
   "language": "python",
   "name": "python3"
  },
  "language_info": {
   "codemirror_mode": {
    "name": "ipython",
    "version": 3
   },
   "file_extension": ".py",
   "mimetype": "text/x-python",
   "name": "python",
   "nbconvert_exporter": "python",
   "pygments_lexer": "ipython3",
   "version": "3.8.6"
  }
 },
 "nbformat": 4,
 "nbformat_minor": 5
}
