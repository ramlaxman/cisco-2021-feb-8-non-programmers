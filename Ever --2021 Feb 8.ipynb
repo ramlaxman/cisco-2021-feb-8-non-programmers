{
 "cells": [
  {
   "cell_type": "code",
   "execution_count": 1,
   "id": "advisory-triumph",
   "metadata": {},
   "outputs": [
    {
     "name": "stdout",
     "output_type": "stream",
     "text": [
      "Hello World\n"
     ]
    }
   ],
   "source": [
    "print(\"Hello World\") # comments: SHIFT+ENTER == to run the code"
   ]
  },
  {
   "cell_type": "code",
   "execution_count": 2,
   "id": "allied-native",
   "metadata": {},
   "outputs": [
    {
     "ename": "NameError",
     "evalue": "name 'Ever' is not defined",
     "output_type": "error",
     "traceback": [
      "\u001b[0;31m---------------------------------------------------------------------------\u001b[0m",
      "\u001b[0;31mNameError\u001b[0m                                 Traceback (most recent call last)",
      "\u001b[0;32m<ipython-input-2-ac5a853cd9fb>\u001b[0m in \u001b[0;36m<module>\u001b[0;34m\u001b[0m\n\u001b[0;32m----> 1\u001b[0;31m \u001b[0mname\u001b[0m \u001b[0;34m=\u001b[0m \u001b[0mEver\u001b[0m\u001b[0;34m\u001b[0m\u001b[0;34m\u001b[0m\u001b[0m\n\u001b[0m\u001b[1;32m      2\u001b[0m \u001b[0mprint\u001b[0m \u001b[0;34m(\u001b[0m\u001b[0mname\u001b[0m\u001b[0;34m)\u001b[0m\u001b[0;34m\u001b[0m\u001b[0;34m\u001b[0m\u001b[0m\n",
      "\u001b[0;31mNameError\u001b[0m: name 'Ever' is not defined"
     ]
    }
   ],
   "source": [
    "name = Ever\n",
    "print (name)"
   ]
  },
  {
   "cell_type": "code",
   "execution_count": 3,
   "id": "otherwise-eating",
   "metadata": {},
   "outputs": [
    {
     "ename": "NameError",
     "evalue": "name 'name' is not defined",
     "output_type": "error",
     "traceback": [
      "\u001b[0;31m---------------------------------------------------------------------------\u001b[0m",
      "\u001b[0;31mNameError\u001b[0m                                 Traceback (most recent call last)",
      "\u001b[0;32m<ipython-input-3-9ba126b17b03>\u001b[0m in \u001b[0;36m<module>\u001b[0;34m\u001b[0m\n\u001b[0;32m----> 1\u001b[0;31m \u001b[0mprint\u001b[0m\u001b[0;34m(\u001b[0m\u001b[0mname\u001b[0m\u001b[0;34m)\u001b[0m\u001b[0;34m\u001b[0m\u001b[0;34m\u001b[0m\u001b[0m\n\u001b[0m",
      "\u001b[0;31mNameError\u001b[0m: name 'name' is not defined"
     ]
    }
   ],
   "source": [
    "print(name)"
   ]
  },
  {
   "cell_type": "code",
   "execution_count": 4,
   "id": "better-satin",
   "metadata": {},
   "outputs": [
    {
     "name": "stdout",
     "output_type": "stream",
     "text": [
      "Ever\n"
     ]
    }
   ],
   "source": [
    "name = 'Ever'\n",
    "print(name)"
   ]
  },
  {
   "cell_type": "code",
   "execution_count": 5,
   "id": "regulated-shape",
   "metadata": {},
   "outputs": [
    {
     "name": "stdout",
     "output_type": "stream",
     "text": [
      "hello name\n"
     ]
    }
   ],
   "source": [
    "print(\"hello name\")"
   ]
  },
  {
   "cell_type": "code",
   "execution_count": 6,
   "id": "random-carolina",
   "metadata": {},
   "outputs": [
    {
     "name": "stdout",
     "output_type": "stream",
     "text": [
      "hello + name\n"
     ]
    }
   ],
   "source": [
    "print(\"hello + name\")"
   ]
  },
  {
   "cell_type": "code",
   "execution_count": 7,
   "id": "gothic-fitting",
   "metadata": {},
   "outputs": [
    {
     "ename": "NameError",
     "evalue": "name 'hello' is not defined",
     "output_type": "error",
     "traceback": [
      "\u001b[0;31m---------------------------------------------------------------------------\u001b[0m",
      "\u001b[0;31mNameError\u001b[0m                                 Traceback (most recent call last)",
      "\u001b[0;32m<ipython-input-7-11bf5fa4b6d1>\u001b[0m in \u001b[0;36m<module>\u001b[0;34m\u001b[0m\n\u001b[0;32m----> 1\u001b[0;31m \u001b[0mprint\u001b[0m\u001b[0;34m(\u001b[0m\u001b[0mhello\u001b[0m \u001b[0;34m+\u001b[0m \u001b[0mname\u001b[0m\u001b[0;34m)\u001b[0m\u001b[0;34m\u001b[0m\u001b[0;34m\u001b[0m\u001b[0m\n\u001b[0m",
      "\u001b[0;31mNameError\u001b[0m: name 'hello' is not defined"
     ]
    }
   ],
   "source": [
    "print(hello + name)"
   ]
  },
  {
   "cell_type": "code",
   "execution_count": 8,
   "id": "sonic-campaign",
   "metadata": {},
   "outputs": [
    {
     "name": "stdout",
     "output_type": "stream",
     "text": [
      "Ever\n"
     ]
    }
   ],
   "source": [
    "print(name)"
   ]
  },
  {
   "cell_type": "code",
   "execution_count": 9,
   "id": "institutional-chemical",
   "metadata": {},
   "outputs": [
    {
     "name": "stdout",
     "output_type": "stream",
     "text": [
      "helloEver\n"
     ]
    }
   ],
   "source": [
    "print(\"hello\"+name)"
   ]
  },
  {
   "cell_type": "code",
   "execution_count": 10,
   "id": "competitive-jacket",
   "metadata": {},
   "outputs": [
    {
     "name": "stdout",
     "output_type": "stream",
     "text": [
      "HelloEver\n"
     ]
    }
   ],
   "source": [
    "print(\"Hello\" + name)"
   ]
  },
  {
   "cell_type": "code",
   "execution_count": 11,
   "id": "infrared-separation",
   "metadata": {},
   "outputs": [
    {
     "name": "stdout",
     "output_type": "stream",
     "text": [
      "Hello Ever\n"
     ]
    }
   ],
   "source": [
    "print(\"Hello \" + name)"
   ]
  },
  {
   "cell_type": "code",
   "execution_count": 12,
   "id": "coral-count",
   "metadata": {},
   "outputs": [
    {
     "ename": "SyntaxError",
     "evalue": "invalid syntax (<ipython-input-12-7466e20a9573>, line 1)",
     "output_type": "error",
     "traceback": [
      "\u001b[0;36m  File \u001b[0;32m\"<ipython-input-12-7466e20a9573>\"\u001b[0;36m, line \u001b[0;32m1\u001b[0m\n\u001b[0;31m    print(\"Hello \" +name.)\u001b[0m\n\u001b[0m                         ^\u001b[0m\n\u001b[0;31mSyntaxError\u001b[0m\u001b[0;31m:\u001b[0m invalid syntax\n"
     ]
    }
   ],
   "source": [
    "print(\"Hello \" +name.)"
   ]
  },
  {
   "cell_type": "code",
   "execution_count": 13,
   "id": "little-afghanistan",
   "metadata": {},
   "outputs": [
    {
     "ename": "SyntaxError",
     "evalue": "unexpected character after line continuation character (<ipython-input-13-48fa580a61d2>, line 1)",
     "output_type": "error",
     "traceback": [
      "\u001b[0;36m  File \u001b[0;32m\"<ipython-input-13-48fa580a61d2>\"\u001b[0;36m, line \u001b[0;32m1\u001b[0m\n\u001b[0;31m    print(\"Hello \" + name \\.)\u001b[0m\n\u001b[0m                             ^\u001b[0m\n\u001b[0;31mSyntaxError\u001b[0m\u001b[0;31m:\u001b[0m unexpected character after line continuation character\n"
     ]
    }
   ],
   "source": [
    "print(\"Hello \" + name \\.)"
   ]
  },
  {
   "cell_type": "code",
   "execution_count": 14,
   "id": "brilliant-palestinian",
   "metadata": {},
   "outputs": [
    {
     "name": "stdout",
     "output_type": "stream",
     "text": [
      "Hello Ever\n"
     ]
    }
   ],
   "source": [
    "name = 'Ever'\n",
    "print(\"Hello \" +name)"
   ]
  },
  {
   "cell_type": "code",
   "execution_count": 15,
   "id": "collaborative-cheese",
   "metadata": {},
   "outputs": [
    {
     "name": "stdout",
     "output_type": "stream",
     "text": [
      "Hello, Ever\n"
     ]
    }
   ],
   "source": [
    "name = 'Ever'\n",
    "print('Hello, '+name)"
   ]
  },
  {
   "cell_type": "code",
   "execution_count": 16,
   "id": "decent-despite",
   "metadata": {},
   "outputs": [
    {
     "name": "stdout",
     "output_type": "stream",
     "text": [
      "Hello, Ever.\n"
     ]
    }
   ],
   "source": [
    "print('Hello, '+ name + '.')"
   ]
  },
  {
   "cell_type": "code",
   "execution_count": 17,
   "id": "understanding-appraisal",
   "metadata": {},
   "outputs": [
    {
     "name": "stdout",
     "output_type": "stream",
     "text": [
      "Hello, Ever, you are turning 44!\n"
     ]
    }
   ],
   "source": [
    "name = 'Ever'\n",
    "birdthyear = '1977'\n",
    "age_this_year = '44'\n",
    "print(f'Hello, {name}, you are turning {age_this_year}!')"
   ]
  },
  {
   "cell_type": "code",
   "execution_count": 18,
   "id": "capable-beatles",
   "metadata": {},
   "outputs": [
    {
     "name": "stdout",
     "output_type": "stream",
     "text": [
      "Hello, Ever, you are getting old, you are turning 44!\n"
     ]
    }
   ],
   "source": [
    "print(f'Hello, {name}, you are getting old, you are turning {age_this_year}!')"
   ]
  },
  {
   "cell_type": "code",
   "execution_count": 19,
   "id": "unauthorized-advantage",
   "metadata": {},
   "outputs": [
    {
     "ename": "SyntaxError",
     "evalue": "EOL while scanning string literal (<ipython-input-19-5f24e2392a84>, line 1)",
     "output_type": "error",
     "traceback": [
      "\u001b[0;36m  File \u001b[0;32m\"<ipython-input-19-5f24e2392a84>\"\u001b[0;36m, line \u001b[0;32m1\u001b[0m\n\u001b[0;31m    print(f'Hello, {name}, you are turning (2021-{birdthyear}))\u001b[0m\n\u001b[0m                                                               ^\u001b[0m\n\u001b[0;31mSyntaxError\u001b[0m\u001b[0;31m:\u001b[0m EOL while scanning string literal\n"
     ]
    }
   ],
   "source": [
    "print(f'Hello, {name}, you are turning (2021-{birdthyear}))"
   ]
  },
  {
   "cell_type": "code",
   "execution_count": 20,
   "id": "negative-petite",
   "metadata": {},
   "outputs": [
    {
     "ename": "SyntaxError",
     "evalue": "EOL while scanning string literal (<ipython-input-20-f0bff066198e>, line 3)",
     "output_type": "error",
     "traceback": [
      "\u001b[0;36m  File \u001b[0;32m\"<ipython-input-20-f0bff066198e>\"\u001b[0;36m, line \u001b[0;32m3\u001b[0m\n\u001b[0;31m    pring(f'Hello, {name}. You will turn {age_this_year} this year!'')\u001b[0m\n\u001b[0m                                                                      ^\u001b[0m\n\u001b[0;31mSyntaxError\u001b[0m\u001b[0;31m:\u001b[0m EOL while scanning string literal\n"
     ]
    }
   ],
   "source": [
    "birthyear = '1977'\n",
    "age_this_year = 2021 - birthyear\n",
    "pring(f'Hello, {name}. You will turn {age_this_year} this year!'')"
   ]
  },
  {
   "cell_type": "code",
   "execution_count": 21,
   "id": "cross-biography",
   "metadata": {},
   "outputs": [
    {
     "ename": "SyntaxError",
     "evalue": "unmatched ')' (<ipython-input-21-eaedb7897e15>, line 1)",
     "output_type": "error",
     "traceback": [
      "\u001b[0;36m  File \u001b[0;32m\"<ipython-input-21-eaedb7897e15>\"\u001b[0;36m, line \u001b[0;32m1\u001b[0m\n\u001b[0;31m    s = input)'Enter your name: ')\u001b[0m\n\u001b[0m             ^\u001b[0m\n\u001b[0;31mSyntaxError\u001b[0m\u001b[0;31m:\u001b[0m unmatched ')'\n"
     ]
    }
   ],
   "source": [
    "s = input)'Enter your name: ')"
   ]
  },
  {
   "cell_type": "code",
   "execution_count": 22,
   "id": "executed-liquid",
   "metadata": {},
   "outputs": [
    {
     "name": "stdout",
     "output_type": "stream",
     "text": [
      "Enter your name:Ever\n"
     ]
    }
   ],
   "source": [
    "s = input('Enter your name:')\n"
   ]
  },
  {
   "cell_type": "code",
   "execution_count": 23,
   "id": "coupled-fifty",
   "metadata": {},
   "outputs": [
    {
     "name": "stdout",
     "output_type": "stream",
     "text": [
      "Ever\n"
     ]
    }
   ],
   "source": [
    "print(s)\n"
   ]
  },
  {
   "cell_type": "code",
   "execution_count": 24,
   "id": "adult-drink",
   "metadata": {},
   "outputs": [
    {
     "name": "stdout",
     "output_type": "stream",
     "text": [
      "Enter your name:Ever\n",
      "How do you feel today?happy\n"
     ]
    },
    {
     "ename": "NameError",
     "evalue": "name 'pring' is not defined",
     "output_type": "error",
     "traceback": [
      "\u001b[0;31m---------------------------------------------------------------------------\u001b[0m",
      "\u001b[0;31mNameError\u001b[0m                                 Traceback (most recent call last)",
      "\u001b[0;32m<ipython-input-24-8a4e4cda3b07>\u001b[0m in \u001b[0;36m<module>\u001b[0;34m\u001b[0m\n\u001b[1;32m      3\u001b[0m \u001b[0mss\u001b[0m \u001b[0;34m=\u001b[0m \u001b[0minput\u001b[0m\u001b[0;34m(\u001b[0m\u001b[0;34m'How do you feel today?'\u001b[0m\u001b[0;34m)\u001b[0m\u001b[0;34m\u001b[0m\u001b[0;34m\u001b[0m\u001b[0m\n\u001b[1;32m      4\u001b[0m \u001b[0mfeeling\u001b[0m \u001b[0;34m=\u001b[0m \u001b[0;34m{\u001b[0m\u001b[0mss\u001b[0m\u001b[0;34m}\u001b[0m\u001b[0;34m\u001b[0m\u001b[0;34m\u001b[0m\u001b[0m\n\u001b[0;32m----> 5\u001b[0;31m \u001b[0mpring\u001b[0m\u001b[0;34m(\u001b[0m\u001b[0;34mf'Hi {name}, you feel {feeling} today...'\u001b[0m\u001b[0;34m)\u001b[0m\u001b[0;34m\u001b[0m\u001b[0;34m\u001b[0m\u001b[0m\n\u001b[0m",
      "\u001b[0;31mNameError\u001b[0m: name 'pring' is not defined"
     ]
    }
   ],
   "source": [
    "s = input('Enter your name:')\n",
    "name = {s}\n",
    "ss = input('How do you feel today?')\n",
    "feeling = {ss}\n",
    "pring(f'Hi {name}, you feel {feeling} today...')"
   ]
  },
  {
   "cell_type": "code",
   "execution_count": 25,
   "id": "threaded-queen",
   "metadata": {},
   "outputs": [
    {
     "name": "stdout",
     "output_type": "stream",
     "text": [
      "Hi {'Ever'}, you feel {'happy'} today...\n"
     ]
    }
   ],
   "source": [
    "print(f'Hi {name}, you feel {feeling} today...')"
   ]
  },
  {
   "cell_type": "code",
   "execution_count": 26,
   "id": "introductory-priority",
   "metadata": {},
   "outputs": [
    {
     "name": "stdout",
     "output_type": "stream",
     "text": [
      "Enter your name:Ever\n",
      "How do you feel today?happy\n",
      "Hi Ever, you feel happy today...\n"
     ]
    }
   ],
   "source": [
    "name = input('Enter your name:')\n",
    "feeling = input('How do you feel today?')\n",
    "print(f'Hi {name}, you feel {feeling} today...')"
   ]
  },
  {
   "cell_type": "code",
   "execution_count": 27,
   "id": "productive-squad",
   "metadata": {},
   "outputs": [
    {
     "name": "stdout",
     "output_type": "stream",
     "text": [
      "Enter your name: EVER\n",
      "How do you feel today? HAPPY\n",
      "Hi EVER, I see you feel HAPPY today...\n"
     ]
    }
   ],
   "source": [
    "name = input('Enter your name: ')\n",
    "feeling = input('How do you feel today? ')\n",
    "print(f'Hi {name}, I see you feel {feeling} today...')"
   ]
  },
  {
   "cell_type": "code",
   "execution_count": 28,
   "id": "electronic-application",
   "metadata": {},
   "outputs": [
    {
     "name": "stdout",
     "output_type": "stream",
     "text": [
      "Enter your work company: Cisco\n",
      "Hello, Cisco. Nice to meet you!\n"
     ]
    }
   ],
   "source": [
    "company = input('Enter your work company: ')\n",
    "if name == 'Cisco':\n",
    "    print('Hello friend, I also work at Cisco!')\n",
    "    print('Nice to see you again')\n",
    "else:\n",
    "    print(f'Hello, {company}. Nice to meet you!')"
   ]
  },
  {
   "cell_type": "code",
   "execution_count": null,
   "id": "athletic-courage",
   "metadata": {},
   "outputs": [],
   "source": []
  },
  {
   "cell_type": "code",
   "execution_count": 29,
   "id": "differential-scope",
   "metadata": {},
   "outputs": [
    {
     "name": "stdout",
     "output_type": "stream",
     "text": [
      "Enter your work company: avaya\n",
      "Hello, avaya. Nice to meet you!\n"
     ]
    }
   ],
   "source": [
    "company = input('Enter your work company: ')\n",
    "if name == 'Cisco':\n",
    "    print('Hello friend, I also work at Cisco!')\n",
    "    print('Nice to see you again')\n",
    "else:\n",
    "    print(f'Hello, {company}. Nice to meet you!')"
   ]
  },
  {
   "cell_type": "code",
   "execution_count": null,
   "id": "proper-state",
   "metadata": {},
   "outputs": [],
   "source": []
  },
  {
   "cell_type": "code",
   "execution_count": null,
   "id": "identified-trail",
   "metadata": {},
   "outputs": [],
   "source": []
  },
  {
   "cell_type": "code",
   "execution_count": 30,
   "id": "charitable-uzbekistan",
   "metadata": {},
   "outputs": [
    {
     "name": "stdout",
     "output_type": "stream",
     "text": [
      "Enter your work company: avaya\n",
      "Hello, I see you work at avaya. Nice to meet you!\n"
     ]
    }
   ],
   "source": [
    "company = input('Enter your work company: ')\n",
    "if name == 'Cisco':\n",
    "    print('Hello friend, I also work at Cisco!')\n",
    "    print('Nice to see you again')\n",
    "else:\n",
    "    print(f'Hello, I see you work at {company}. Nice to meet you!')"
   ]
  },
  {
   "cell_type": "code",
   "execution_count": 35,
   "id": "assisted-buffalo",
   "metadata": {},
   "outputs": [
    {
     "name": "stdout",
     "output_type": "stream",
     "text": [
      "Enter your work company: Cisco\n",
      "Hello, I see you work at Cisco. Nice to meet you!\n"
     ]
    }
   ],
   "source": [
    "company = input('Enter your work company: ')\n",
    "if name == 'Cisco':\n",
    "    print('Hello friend, I also work at Cisco!')\n",
    "    print('Nice to see you again')\n",
    "else:\n",
    "    print(f'Hello, I see you work at {company}. Nice to meet you!')"
   ]
  },
  {
   "cell_type": "code",
   "execution_count": 37,
   "id": "fifth-exposure",
   "metadata": {},
   "outputs": [
    {
     "name": "stdout",
     "output_type": "stream",
     "text": [
      "Enter your work company: Avaya\n",
      "Hello, I see you work at Avaya. Nice to meet you!\n"
     ]
    }
   ],
   "source": [
    "company = input('Enter your work company: ')\n",
    "if company == 'Cisco':\n",
    "    print('Hello friend, I also work at Cisco!')\n",
    "    print('Nice to see you again')\n",
    "else:\n",
    "    print(f'Hello, I see you work at {company}. Nice to meet you!')"
   ]
  },
  {
   "cell_type": "code",
   "execution_count": null,
   "id": "choice-client",
   "metadata": {},
   "outputs": [],
   "source": []
  },
  {
   "cell_type": "code",
   "execution_count": null,
   "id": "ready-vintage",
   "metadata": {},
   "outputs": [],
   "source": [
    "company = input('Enter your current work company: ')\n",
    "if name == 'Cisco':\n",
    "    print('Hello friend, I also work at Cisco!')"
   ]
  }
 ],
 "metadata": {
  "kernelspec": {
   "display_name": "Python 3",
   "language": "python",
   "name": "python3"
  },
  "language_info": {
   "codemirror_mode": {
    "name": "ipython",
    "version": 3
   },
   "file_extension": ".py",
   "mimetype": "text/x-python",
   "name": "python",
   "nbconvert_exporter": "python",
   "pygments_lexer": "ipython3",
   "version": "3.8.6"
  }
 },
 "nbformat": 4,
 "nbformat_minor": 5
}
