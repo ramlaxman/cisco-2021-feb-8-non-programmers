{
 "cells": [
  {
   "cell_type": "code",
   "execution_count": 1,
   "id": "statistical-collective",
   "metadata": {},
   "outputs": [
    {
     "name": "stdout",
     "output_type": "stream",
     "text": [
      "Hello World\n"
     ]
    }
   ],
   "source": [
    "print(\"Hello World\") # comments: SHIFT+ENTER == to run the code"
   ]
  },
  {
   "cell_type": "code",
   "execution_count": 2,
   "id": "passing-projector",
   "metadata": {},
   "outputs": [
    {
     "ename": "NameError",
     "evalue": "name 'Ever' is not defined",
     "output_type": "error",
     "traceback": [
      "\u001b[0;31m---------------------------------------------------------------------------\u001b[0m",
      "\u001b[0;31mNameError\u001b[0m                                 Traceback (most recent call last)",
      "\u001b[0;32m<ipython-input-2-ac5a853cd9fb>\u001b[0m in \u001b[0;36m<module>\u001b[0;34m\u001b[0m\n\u001b[0;32m----> 1\u001b[0;31m \u001b[0mname\u001b[0m \u001b[0;34m=\u001b[0m \u001b[0mEver\u001b[0m\u001b[0;34m\u001b[0m\u001b[0;34m\u001b[0m\u001b[0m\n\u001b[0m\u001b[1;32m      2\u001b[0m \u001b[0mprint\u001b[0m \u001b[0;34m(\u001b[0m\u001b[0mname\u001b[0m\u001b[0;34m)\u001b[0m\u001b[0;34m\u001b[0m\u001b[0;34m\u001b[0m\u001b[0m\n",
      "\u001b[0;31mNameError\u001b[0m: name 'Ever' is not defined"
     ]
    }
   ],
   "source": [
    "name = Ever\n",
    "print (name)"
   ]
  },
  {
   "cell_type": "code",
   "execution_count": 3,
   "id": "impaired-invention",
   "metadata": {},
   "outputs": [
    {
     "ename": "NameError",
     "evalue": "name 'name' is not defined",
     "output_type": "error",
     "traceback": [
      "\u001b[0;31m---------------------------------------------------------------------------\u001b[0m",
      "\u001b[0;31mNameError\u001b[0m                                 Traceback (most recent call last)",
      "\u001b[0;32m<ipython-input-3-9ba126b17b03>\u001b[0m in \u001b[0;36m<module>\u001b[0;34m\u001b[0m\n\u001b[0;32m----> 1\u001b[0;31m \u001b[0mprint\u001b[0m\u001b[0;34m(\u001b[0m\u001b[0mname\u001b[0m\u001b[0;34m)\u001b[0m\u001b[0;34m\u001b[0m\u001b[0;34m\u001b[0m\u001b[0m\n\u001b[0m",
      "\u001b[0;31mNameError\u001b[0m: name 'name' is not defined"
     ]
    }
   ],
   "source": [
    "print(name)"
   ]
  },
  {
   "cell_type": "code",
   "execution_count": 4,
   "id": "under-projection",
   "metadata": {},
   "outputs": [
    {
     "name": "stdout",
     "output_type": "stream",
     "text": [
      "Ever\n"
     ]
    }
   ],
   "source": [
    "name = 'Ever'\n",
    "print(name)"
   ]
  },
  {
   "cell_type": "code",
   "execution_count": 5,
   "id": "alleged-practice",
   "metadata": {},
   "outputs": [
    {
     "name": "stdout",
     "output_type": "stream",
     "text": [
      "hello name\n"
     ]
    }
   ],
   "source": [
    "print(\"hello name\")"
   ]
  },
  {
   "cell_type": "code",
   "execution_count": 6,
   "id": "swiss-forty",
   "metadata": {},
   "outputs": [
    {
     "name": "stdout",
     "output_type": "stream",
     "text": [
      "hello + name\n"
     ]
    }
   ],
   "source": [
    "print(\"hello + name\")"
   ]
  },
  {
   "cell_type": "code",
   "execution_count": 7,
   "id": "viral-annex",
   "metadata": {},
   "outputs": [
    {
     "ename": "NameError",
     "evalue": "name 'hello' is not defined",
     "output_type": "error",
     "traceback": [
      "\u001b[0;31m---------------------------------------------------------------------------\u001b[0m",
      "\u001b[0;31mNameError\u001b[0m                                 Traceback (most recent call last)",
      "\u001b[0;32m<ipython-input-7-11bf5fa4b6d1>\u001b[0m in \u001b[0;36m<module>\u001b[0;34m\u001b[0m\n\u001b[0;32m----> 1\u001b[0;31m \u001b[0mprint\u001b[0m\u001b[0;34m(\u001b[0m\u001b[0mhello\u001b[0m \u001b[0;34m+\u001b[0m \u001b[0mname\u001b[0m\u001b[0;34m)\u001b[0m\u001b[0;34m\u001b[0m\u001b[0;34m\u001b[0m\u001b[0m\n\u001b[0m",
      "\u001b[0;31mNameError\u001b[0m: name 'hello' is not defined"
     ]
    }
   ],
   "source": [
    "print(hello + name)"
   ]
  },
  {
   "cell_type": "code",
   "execution_count": 8,
   "id": "acute-fusion",
   "metadata": {},
   "outputs": [
    {
     "name": "stdout",
     "output_type": "stream",
     "text": [
      "Ever\n"
     ]
    }
   ],
   "source": [
    "print(name)"
   ]
  },
  {
   "cell_type": "code",
   "execution_count": 9,
   "id": "egyptian-serbia",
   "metadata": {},
   "outputs": [
    {
     "name": "stdout",
     "output_type": "stream",
     "text": [
      "helloEver\n"
     ]
    }
   ],
   "source": [
    "print(\"hello\"+name)"
   ]
  },
  {
   "cell_type": "code",
   "execution_count": 10,
   "id": "basic-bradford",
   "metadata": {},
   "outputs": [
    {
     "name": "stdout",
     "output_type": "stream",
     "text": [
      "HelloEver\n"
     ]
    }
   ],
   "source": [
    "print(\"Hello\" + name)"
   ]
  },
  {
   "cell_type": "code",
   "execution_count": 11,
   "id": "promising-optics",
   "metadata": {},
   "outputs": [
    {
     "name": "stdout",
     "output_type": "stream",
     "text": [
      "Hello Ever\n"
     ]
    }
   ],
   "source": [
    "print(\"Hello \" + name)"
   ]
  },
  {
   "cell_type": "code",
   "execution_count": 12,
   "id": "permanent-canyon",
   "metadata": {},
   "outputs": [
    {
     "ename": "SyntaxError",
     "evalue": "invalid syntax (<ipython-input-12-7466e20a9573>, line 1)",
     "output_type": "error",
     "traceback": [
      "\u001b[0;36m  File \u001b[0;32m\"<ipython-input-12-7466e20a9573>\"\u001b[0;36m, line \u001b[0;32m1\u001b[0m\n\u001b[0;31m    print(\"Hello \" +name.)\u001b[0m\n\u001b[0m                         ^\u001b[0m\n\u001b[0;31mSyntaxError\u001b[0m\u001b[0;31m:\u001b[0m invalid syntax\n"
     ]
    }
   ],
   "source": [
    "print(\"Hello \" +name.)"
   ]
  },
  {
   "cell_type": "code",
   "execution_count": 13,
   "id": "champion-belfast",
   "metadata": {},
   "outputs": [
    {
     "ename": "SyntaxError",
     "evalue": "unexpected character after line continuation character (<ipython-input-13-48fa580a61d2>, line 1)",
     "output_type": "error",
     "traceback": [
      "\u001b[0;36m  File \u001b[0;32m\"<ipython-input-13-48fa580a61d2>\"\u001b[0;36m, line \u001b[0;32m1\u001b[0m\n\u001b[0;31m    print(\"Hello \" + name \\.)\u001b[0m\n\u001b[0m                             ^\u001b[0m\n\u001b[0;31mSyntaxError\u001b[0m\u001b[0;31m:\u001b[0m unexpected character after line continuation character\n"
     ]
    }
   ],
   "source": [
    "print(\"Hello \" + name \\.)"
   ]
  },
  {
   "cell_type": "code",
   "execution_count": 14,
   "id": "dated-oklahoma",
   "metadata": {},
   "outputs": [
    {
     "name": "stdout",
     "output_type": "stream",
     "text": [
      "Hello Ever\n"
     ]
    }
   ],
   "source": [
    "name = 'Ever'\n",
    "print(\"Hello \" +name)"
   ]
  },
  {
   "cell_type": "code",
   "execution_count": 15,
   "id": "wrong-light",
   "metadata": {},
   "outputs": [
    {
     "name": "stdout",
     "output_type": "stream",
     "text": [
      "Hello, Ever\n"
     ]
    }
   ],
   "source": [
    "name = 'Ever'\n",
    "print('Hello, '+name)"
   ]
  },
  {
   "cell_type": "code",
   "execution_count": 16,
   "id": "legitimate-apollo",
   "metadata": {},
   "outputs": [
    {
     "name": "stdout",
     "output_type": "stream",
     "text": [
      "Hello, Ever.\n"
     ]
    }
   ],
   "source": [
    "print('Hello, '+ name + '.')"
   ]
  },
  {
   "cell_type": "code",
   "execution_count": 17,
   "id": "preliminary-acquisition",
   "metadata": {},
   "outputs": [
    {
     "name": "stdout",
     "output_type": "stream",
     "text": [
      "Hello, Ever, you are turning 44!\n"
     ]
    }
   ],
   "source": [
    "name = 'Ever'\n",
    "birdthyear = '1977'\n",
    "age_this_year = '44'\n",
    "print(f'Hello, {name}, you are turning {age_this_year}!')"
   ]
  },
  {
   "cell_type": "code",
   "execution_count": 18,
   "id": "transsexual-quality",
   "metadata": {},
   "outputs": [
    {
     "name": "stdout",
     "output_type": "stream",
     "text": [
      "Hello, Ever, you are getting old, you are turning 44!\n"
     ]
    }
   ],
   "source": [
    "print(f'Hello, {name}, you are getting old, you are turning {age_this_year}!')"
   ]
  },
  {
   "cell_type": "code",
   "execution_count": 19,
   "id": "pleased-coating",
   "metadata": {},
   "outputs": [
    {
     "ename": "SyntaxError",
     "evalue": "EOL while scanning string literal (<ipython-input-19-5f24e2392a84>, line 1)",
     "output_type": "error",
     "traceback": [
      "\u001b[0;36m  File \u001b[0;32m\"<ipython-input-19-5f24e2392a84>\"\u001b[0;36m, line \u001b[0;32m1\u001b[0m\n\u001b[0;31m    print(f'Hello, {name}, you are turning (2021-{birdthyear}))\u001b[0m\n\u001b[0m                                                               ^\u001b[0m\n\u001b[0;31mSyntaxError\u001b[0m\u001b[0;31m:\u001b[0m EOL while scanning string literal\n"
     ]
    }
   ],
   "source": [
    "print(f'Hello, {name}, you are turning (2021-{birdthyear}))"
   ]
  },
  {
   "cell_type": "code",
   "execution_count": 20,
   "id": "smart-falls",
   "metadata": {},
   "outputs": [
    {
     "ename": "SyntaxError",
     "evalue": "EOL while scanning string literal (<ipython-input-20-f0bff066198e>, line 3)",
     "output_type": "error",
     "traceback": [
      "\u001b[0;36m  File \u001b[0;32m\"<ipython-input-20-f0bff066198e>\"\u001b[0;36m, line \u001b[0;32m3\u001b[0m\n\u001b[0;31m    pring(f'Hello, {name}. You will turn {age_this_year} this year!'')\u001b[0m\n\u001b[0m                                                                      ^\u001b[0m\n\u001b[0;31mSyntaxError\u001b[0m\u001b[0;31m:\u001b[0m EOL while scanning string literal\n"
     ]
    }
   ],
   "source": [
    "birthyear = '1977'\n",
    "age_this_year = 2021 - birthyear\n",
    "pring(f'Hello, {name}. You will turn {age_this_year} this year!'')"
   ]
  },
  {
   "cell_type": "code",
   "execution_count": 21,
   "id": "provincial-constitutional",
   "metadata": {},
   "outputs": [
    {
     "ename": "SyntaxError",
     "evalue": "unmatched ')' (<ipython-input-21-eaedb7897e15>, line 1)",
     "output_type": "error",
     "traceback": [
      "\u001b[0;36m  File \u001b[0;32m\"<ipython-input-21-eaedb7897e15>\"\u001b[0;36m, line \u001b[0;32m1\u001b[0m\n\u001b[0;31m    s = input)'Enter your name: ')\u001b[0m\n\u001b[0m             ^\u001b[0m\n\u001b[0;31mSyntaxError\u001b[0m\u001b[0;31m:\u001b[0m unmatched ')'\n"
     ]
    }
   ],
   "source": [
    "s = input)'Enter your name: ')"
   ]
  },
  {
   "cell_type": "code",
   "execution_count": 22,
   "id": "extraordinary-philadelphia",
   "metadata": {},
   "outputs": [
    {
     "name": "stdout",
     "output_type": "stream",
     "text": [
      "Enter your name:Ever\n"
     ]
    }
   ],
   "source": [
    "s = input('Enter your name:')\n"
   ]
  },
  {
   "cell_type": "code",
   "execution_count": 23,
   "id": "reserved-affairs",
   "metadata": {},
   "outputs": [
    {
     "name": "stdout",
     "output_type": "stream",
     "text": [
      "Ever\n"
     ]
    }
   ],
   "source": [
    "print(s)\n"
   ]
  },
  {
   "cell_type": "code",
   "execution_count": 24,
   "id": "collected-andrew",
   "metadata": {},
   "outputs": [
    {
     "name": "stdout",
     "output_type": "stream",
     "text": [
      "Enter your name:Ever\n",
      "How do you feel today?happy\n"
     ]
    },
    {
     "ename": "NameError",
     "evalue": "name 'pring' is not defined",
     "output_type": "error",
     "traceback": [
      "\u001b[0;31m---------------------------------------------------------------------------\u001b[0m",
      "\u001b[0;31mNameError\u001b[0m                                 Traceback (most recent call last)",
      "\u001b[0;32m<ipython-input-24-8a4e4cda3b07>\u001b[0m in \u001b[0;36m<module>\u001b[0;34m\u001b[0m\n\u001b[1;32m      3\u001b[0m \u001b[0mss\u001b[0m \u001b[0;34m=\u001b[0m \u001b[0minput\u001b[0m\u001b[0;34m(\u001b[0m\u001b[0;34m'How do you feel today?'\u001b[0m\u001b[0;34m)\u001b[0m\u001b[0;34m\u001b[0m\u001b[0;34m\u001b[0m\u001b[0m\n\u001b[1;32m      4\u001b[0m \u001b[0mfeeling\u001b[0m \u001b[0;34m=\u001b[0m \u001b[0;34m{\u001b[0m\u001b[0mss\u001b[0m\u001b[0;34m}\u001b[0m\u001b[0;34m\u001b[0m\u001b[0;34m\u001b[0m\u001b[0m\n\u001b[0;32m----> 5\u001b[0;31m \u001b[0mpring\u001b[0m\u001b[0;34m(\u001b[0m\u001b[0;34mf'Hi {name}, you feel {feeling} today...'\u001b[0m\u001b[0;34m)\u001b[0m\u001b[0;34m\u001b[0m\u001b[0;34m\u001b[0m\u001b[0m\n\u001b[0m",
      "\u001b[0;31mNameError\u001b[0m: name 'pring' is not defined"
     ]
    }
   ],
   "source": [
    "s = input('Enter your name:')\n",
    "name = {s}\n",
    "ss = input('How do you feel today?')\n",
    "feeling = {ss}\n",
    "pring(f'Hi {name}, you feel {feeling} today...')"
   ]
  },
  {
   "cell_type": "code",
   "execution_count": 25,
   "id": "obvious-waters",
   "metadata": {},
   "outputs": [
    {
     "name": "stdout",
     "output_type": "stream",
     "text": [
      "Hi {'Ever'}, you feel {'happy'} today...\n"
     ]
    }
   ],
   "source": [
    "print(f'Hi {name}, you feel {feeling} today...')"
   ]
  },
  {
   "cell_type": "code",
   "execution_count": 26,
   "id": "choice-ivory",
   "metadata": {},
   "outputs": [
    {
     "name": "stdout",
     "output_type": "stream",
     "text": [
      "Enter your name:Ever\n",
      "How do you feel today?happy\n",
      "Hi Ever, you feel happy today...\n"
     ]
    }
   ],
   "source": [
    "name = input('Enter your name:')\n",
    "feeling = input('How do you feel today?')\n",
    "print(f'Hi {name}, you feel {feeling} today...')"
   ]
  },
  {
   "cell_type": "code",
   "execution_count": 27,
   "id": "agreed-course",
   "metadata": {},
   "outputs": [
    {
     "name": "stdout",
     "output_type": "stream",
     "text": [
      "Enter your name: EVER\n",
      "How do you feel today? HAPPY\n",
      "Hi EVER, I see you feel HAPPY today...\n"
     ]
    }
   ],
   "source": [
    "name = input('Enter your name: ')\n",
    "feeling = input('How do you feel today? ')\n",
    "print(f'Hi {name}, I see you feel {feeling} today...')"
   ]
  },
  {
   "cell_type": "code",
   "execution_count": 28,
   "id": "modified-equilibrium",
   "metadata": {},
   "outputs": [
    {
     "name": "stdout",
     "output_type": "stream",
     "text": [
      "Enter your work company: Cisco\n",
      "Hello, Cisco. Nice to meet you!\n"
     ]
    }
   ],
   "source": [
    "company = input('Enter your work company: ')\n",
    "if name == 'Cisco':\n",
    "    print('Hello friend, I also work at Cisco!')\n",
    "    print('Nice to see you again')\n",
    "else:\n",
    "    print(f'Hello, {company}. Nice to meet you!')"
   ]
  },
  {
   "cell_type": "code",
   "execution_count": null,
   "id": "missing-companion",
   "metadata": {},
   "outputs": [],
   "source": []
  },
  {
   "cell_type": "code",
   "execution_count": 29,
   "id": "changed-azerbaijan",
   "metadata": {},
   "outputs": [
    {
     "name": "stdout",
     "output_type": "stream",
     "text": [
      "Enter your work company: avaya\n",
      "Hello, avaya. Nice to meet you!\n"
     ]
    }
   ],
   "source": [
    "company = input('Enter your work company: ')\n",
    "if name == 'Cisco':\n",
    "    print('Hello friend, I also work at Cisco!')\n",
    "    print('Nice to see you again')\n",
    "else:\n",
    "    print(f'Hello, {company}. Nice to meet you!')"
   ]
  },
  {
   "cell_type": "code",
   "execution_count": null,
   "id": "documentary-macintosh",
   "metadata": {},
   "outputs": [],
   "source": []
  },
  {
   "cell_type": "code",
   "execution_count": null,
   "id": "unexpected-scoop",
   "metadata": {},
   "outputs": [],
   "source": []
  },
  {
   "cell_type": "code",
   "execution_count": 30,
   "id": "protective-infection",
   "metadata": {},
   "outputs": [
    {
     "name": "stdout",
     "output_type": "stream",
     "text": [
      "Enter your work company: avaya\n",
      "Hello, I see you work at avaya. Nice to meet you!\n"
     ]
    }
   ],
   "source": [
    "company = input('Enter your work company: ')\n",
    "if name == 'Cisco':\n",
    "    print('Hello friend, I also work at Cisco!')\n",
    "    print('Nice to see you again')\n",
    "else:\n",
    "    print(f'Hello, I see you work at {company}. Nice to meet you!')"
   ]
  },
  {
   "cell_type": "code",
   "execution_count": 35,
   "id": "activated-learning",
   "metadata": {},
   "outputs": [
    {
     "name": "stdout",
     "output_type": "stream",
     "text": [
      "Enter your work company: Cisco\n",
      "Hello, I see you work at Cisco. Nice to meet you!\n"
     ]
    }
   ],
   "source": [
    "company = input('Enter your work company: ')\n",
    "if name == 'Cisco':\n",
    "    print('Hello friend, I also work at Cisco!')\n",
    "    print('Nice to see you again')\n",
    "else:\n",
    "    print(f'Hello, I see you work at {company}. Nice to meet you!')"
   ]
  },
  {
   "cell_type": "code",
   "execution_count": 37,
   "id": "caroline-sheep",
   "metadata": {},
   "outputs": [
    {
     "name": "stdout",
     "output_type": "stream",
     "text": [
      "Enter your work company: Avaya\n",
      "Hello, I see you work at Avaya. Nice to meet you!\n"
     ]
    }
   ],
   "source": [
    "company = input('Enter your work company: ')\n",
    "if company == 'Cisco':\n",
    "    print('Hello friend, I also work at Cisco!')\n",
    "    print('Nice to see you again')\n",
    "else:\n",
    "    print(f'Hello, I see you work at {company}. Nice to meet you!')"
   ]
  },
  {
   "cell_type": "code",
   "execution_count": null,
   "id": "adjustable-services",
   "metadata": {},
   "outputs": [],
   "source": []
  },
  {
   "cell_type": "code",
   "execution_count": 39,
   "id": "korean-personal",
   "metadata": {},
   "outputs": [
    {
     "name": "stdout",
     "output_type": "stream",
     "text": [
      "Enter the company you previously worked: Cisco\n"
     ]
    },
    {
     "ename": "NameError",
     "evalue": "name 'prev_work' is not defined",
     "output_type": "error",
     "traceback": [
      "\u001b[0;31m---------------------------------------------------------------------------\u001b[0m",
      "\u001b[0;31mNameError\u001b[0m                                 Traceback (most recent call last)",
      "\u001b[0;32m<ipython-input-39-81a154e14542>\u001b[0m in \u001b[0;36m<module>\u001b[0;34m\u001b[0m\n\u001b[1;32m      1\u001b[0m \u001b[0mpre_work\u001b[0m \u001b[0;34m=\u001b[0m \u001b[0minput\u001b[0m\u001b[0;34m(\u001b[0m\u001b[0;34m'Enter the company you previously worked: '\u001b[0m\u001b[0;34m)\u001b[0m\u001b[0;34m\u001b[0m\u001b[0;34m\u001b[0m\u001b[0m\n\u001b[0;32m----> 2\u001b[0;31m \u001b[0;32mif\u001b[0m \u001b[0mprev_work\u001b[0m \u001b[0;34m==\u001b[0m \u001b[0;34m'Cisco'\u001b[0m\u001b[0;34m:\u001b[0m\u001b[0;34m\u001b[0m\u001b[0;34m\u001b[0m\u001b[0m\n\u001b[0m\u001b[1;32m      3\u001b[0m     \u001b[0mprint\u001b[0m\u001b[0;34m(\u001b[0m\u001b[0;34m'Looks like we are colleagues, I also work at Cisco!'\u001b[0m\u001b[0;34m)\u001b[0m\u001b[0;34m\u001b[0m\u001b[0;34m\u001b[0m\u001b[0m\n\u001b[1;32m      4\u001b[0m \u001b[0;32melif\u001b[0m \u001b[0mprev_work\u001b[0m \u001b[0;34m==\u001b[0m \u001b[0;34m'apple'\u001b[0m\u001b[0;34m:\u001b[0m\u001b[0;34m\u001b[0m\u001b[0;34m\u001b[0m\u001b[0m\n\u001b[1;32m      5\u001b[0m     \u001b[0mprint\u001b[0m\u001b[0;34m(\u001b[0m\u001b[0;34m'You used to be my colleague'\u001b[0m\u001b[0;34m)\u001b[0m\u001b[0;34m\u001b[0m\u001b[0;34m\u001b[0m\u001b[0m\n",
      "\u001b[0;31mNameError\u001b[0m: name 'prev_work' is not defined"
     ]
    }
   ],
   "source": [
    "pre_work = input('Enter the company you previously worked: ')\n",
    "if prev_work == 'Cisco':\n",
    "    print('Looks like we are colleagues, I also work at Cisco!')\n",
    "elif prev_work == 'apple':\n",
    "    print('You used to be my colleague')\n",
    "else:\n",
    "    print('we have not worked before')"
   ]
  },
  {
   "cell_type": "code",
   "execution_count": 50,
   "id": "destroyed-pizza",
   "metadata": {},
   "outputs": [
    {
     "name": "stdout",
     "output_type": "stream",
     "text": [
      "In UPPER case enter the company you previously worked: CISCO\n",
      "Looks like we are colleagues, I also work at CISCO!\n"
     ]
    }
   ],
   "source": [
    "prev_work = input('In UPPER case enter the company you previously worked: ')\n",
    "if prev_work == 'CISCO':\n",
    "    print('Looks like we are colleagues, I also work at CISCO!')\n",
    "elif prev_work == 'APPLE':\n",
    "    print('You used to be my colleague at APPLE!')\n",
    "else:\n",
    "    print(f'I see you work at {prev_work}, we have not worked together before')"
   ]
  },
  {
   "cell_type": "code",
   "execution_count": 51,
   "id": "equal-surgeon",
   "metadata": {},
   "outputs": [
    {
     "name": "stdout",
     "output_type": "stream",
     "text": [
      "In UPPER case enter the company you previously worked: APPLE\n",
      "You used to be my colleague at APPLE!\n"
     ]
    }
   ],
   "source": [
    "prev_work = input('In UPPER case enter the company you previously worked: ')\n",
    "if prev_work == 'CISCO':\n",
    "    print('Looks like we are colleagues, I also work at CISCO!')\n",
    "elif prev_work == 'APPLE':\n",
    "    print('You used to be my colleague at APPLE!')\n",
    "else:\n",
    "    print(f'I see you work at {prev_work}, we have not worked together before')"
   ]
  },
  {
   "cell_type": "code",
   "execution_count": 52,
   "id": "acknowledged-nickel",
   "metadata": {},
   "outputs": [
    {
     "name": "stdout",
     "output_type": "stream",
     "text": [
      "In UPPER case enter the company you previously worked: OTHER\n",
      "I see you work at OTHER, we have not worked together before\n"
     ]
    }
   ],
   "source": [
    "prev_work = input('In UPPER case enter the company you previously worked: ')\n",
    "if prev_work == 'CISCO':\n",
    "    print('Looks like we are colleagues, I also work at CISCO!')\n",
    "elif prev_work == 'APPLE':\n",
    "    print('You used to be my colleague at APPLE!')\n",
    "else:\n",
    "    print(f'I see you work at {prev_work}, we have not worked together before')"
   ]
  },
  {
   "cell_type": "code",
   "execution_count": 53,
   "id": "genetic-philippines",
   "metadata": {},
   "outputs": [
    {
     "data": {
      "text/plain": [
       "'Ever'"
      ]
     },
     "execution_count": 53,
     "metadata": {},
     "output_type": "execute_result"
    }
   ],
   "source": [
    "s"
   ]
  },
  {
   "cell_type": "code",
   "execution_count": 74,
   "id": "accessory-miracle",
   "metadata": {},
   "outputs": [
    {
     "name": "stdout",
     "output_type": "stream",
     "text": [
      "Enter your name: dddd\n",
      "Enter your company: dddd\n",
      "Oh, you work at dddd? Oh, well.\n"
     ]
    }
   ],
   "source": [
    "name = input('Enter your name: ')\n",
    "company = input('Enter your company: ')\n",
    "\n",
    "if name == 'Ever' and company == 'Cisco':\n",
    "    print('Hey, you must be me!')\n",
    "    \n",
    "elif name == 'Ever':\n",
    "    print('You have my name, but work for a competitor!')\n",
    "    \n",
    "elif company == 'Cisco':\n",
    "    print('You are my colleague but have another name')\n",
    "    \n",
    "else:\n",
    "    print(f'Oh, you work at {company}? Oh, well.')\n"
   ]
  },
  {
   "cell_type": "code",
   "execution_count": 93,
   "id": "furnished-shopper",
   "metadata": {},
   "outputs": [
    {
     "name": "stdout",
     "output_type": "stream",
     "text": [
      "Enter first word: apple\n",
      "Enter second word: pear\n",
      "apple comes before pear in the dictionary\n"
     ]
    }
   ],
   "source": [
    "first = input('Enter first word: ')\n",
    "second = input('Enter second word: ')\n",
    "\n",
    "if first < second:\n",
    "    print(f'{first} comes before {second} in the dictionary')\n",
    "    \n",
    "elif second < first:\n",
    "    print(f' {second} comes before {first} in the dictionary')\n",
    "    \n",
    "else:\n",
    "    print(f'{first} and {second} words are the same!')\n",
    "    "
   ]
  },
  {
   "cell_type": "code",
   "execution_count": 94,
   "id": "vertical-ebony",
   "metadata": {},
   "outputs": [
    {
     "name": "stdout",
     "output_type": "stream",
     "text": [
      "Enter first word: pear\n",
      "Enter second word: apple\n",
      " apple comes before pear in the dictionary\n"
     ]
    }
   ],
   "source": [
    "first = input('Enter first word: ')\n",
    "second = input('Enter second word: ')\n",
    "\n",
    "if first < second:\n",
    "    print(f'{first} comes before {second} in the dictionary')\n",
    "    \n",
    "elif second < first:\n",
    "    print(f'{second} comes before {first} in the dictionary')\n",
    "    \n",
    "else:\n",
    "    print(f'{first} and {second} words are the same!')\n",
    "    "
   ]
  },
  {
   "cell_type": "code",
   "execution_count": 95,
   "id": "micro-easter",
   "metadata": {},
   "outputs": [
    {
     "name": "stdout",
     "output_type": "stream",
     "text": [
      "Enter first word: apple\n",
      "Enter second word: apple\n",
      "apple and apple words are the same!\n"
     ]
    }
   ],
   "source": [
    "first = input('Enter first word: ')\n",
    "second = input('Enter second word: ')\n",
    "\n",
    "if first < second:\n",
    "    print(f'{first} comes before {second} in the dictionary')\n",
    "    \n",
    "elif second < first:\n",
    "    print(f' {second} comes before {first} in the dictionary')\n",
    "    \n",
    "else:\n",
    "    print(f'{first} and {second} words are the same!')\n",
    "    "
   ]
  },
  {
   "cell_type": "code",
   "execution_count": 96,
   "id": "objective-point",
   "metadata": {},
   "outputs": [
    {
     "data": {
      "text/plain": [
       "str"
      ]
     },
     "execution_count": 96,
     "metadata": {},
     "output_type": "execute_result"
    }
   ],
   "source": [
    "type(s)"
   ]
  },
  {
   "cell_type": "code",
   "execution_count": 97,
   "id": "union-northern",
   "metadata": {},
   "outputs": [
    {
     "data": {
      "text/plain": [
       "int"
      ]
     },
     "execution_count": 97,
     "metadata": {},
     "output_type": "execute_result"
    }
   ],
   "source": [
    "type(3)"
   ]
  },
  {
   "cell_type": "code",
   "execution_count": 98,
   "id": "invisible-format",
   "metadata": {},
   "outputs": [
    {
     "data": {
      "text/plain": [
       "float"
      ]
     },
     "execution_count": 98,
     "metadata": {},
     "output_type": "execute_result"
    }
   ],
   "source": [
    "type(3.5)"
   ]
  },
  {
   "cell_type": "code",
   "execution_count": 140,
   "id": "nutritional-belarus",
   "metadata": {},
   "outputs": [
    {
     "name": "stdout",
     "output_type": "stream",
     "text": [
      "number = 97\n",
      "Enter a guess: 3\n",
      "Too low!\n"
     ]
    }
   ],
   "source": [
    "import random\n",
    "number = random.randint(0, 100)\n",
    "print(f'number = {number}')\n",
    "\n",
    "guess = input('Enter a guess: ')\n",
    "guess = int(guess)\n",
    "\n",
    "if guess == number:\n",
    "    print('You got it!')\n",
    "elif guess < number:\n",
    "    print('Too low!')\n",
    "else:\n",
    "    print('Too high!')    "
   ]
  },
  {
   "cell_type": "code",
   "execution_count": 151,
   "id": "persistent-member",
   "metadata": {},
   "outputs": [
    {
     "name": "stdout",
     "output_type": "stream",
     "text": [
      "Enter first number: 3\n",
      "Enter second number: 3\n",
      "Enter an opearator (+ or -) : /\n",
      "INVALID ENTRY...Try again!\n"
     ]
    }
   ],
   "source": [
    "first = input('Enter first number: ')\n",
    "first = int(first)\n",
    "\n",
    "second = input('Enter second number: ')\n",
    "second = int(second)\n",
    "\n",
    "operator = input('Enter an opearator (+ or -) : ')\n",
    "\n",
    "if operator == '+':\n",
    "    print(f'{first} + {second} = {first+second}')\n",
    "    \n",
    "elif operator == '-':\n",
    "    print(f'{first} - {second} = {first-second}')\n",
    "\n",
    "else:\n",
    "    print(f'The operator {operator} is not supported!')"
   ]
  },
  {
   "cell_type": "code",
   "execution_count": null,
   "id": "invalid-vocabulary",
   "metadata": {},
   "outputs": [],
   "source": []
  }
 ],
 "metadata": {
  "kernelspec": {
   "display_name": "Python 3",
   "language": "python",
   "name": "python3"
  },
  "language_info": {
   "codemirror_mode": {
    "name": "ipython",
    "version": 3
   },
   "file_extension": ".py",
   "mimetype": "text/x-python",
   "name": "python",
   "nbconvert_exporter": "python",
   "pygments_lexer": "ipython3",
   "version": "3.8.6"
  }
 },
 "nbformat": 4,
 "nbformat_minor": 5
}
