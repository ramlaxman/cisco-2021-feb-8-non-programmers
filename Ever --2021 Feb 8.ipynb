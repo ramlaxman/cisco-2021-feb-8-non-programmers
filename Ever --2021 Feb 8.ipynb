{
 "cells": [
  {
   "cell_type": "code",
   "execution_count": 1,
   "id": "hawaiian-cisco",
   "metadata": {},
   "outputs": [
    {
     "name": "stdout",
     "output_type": "stream",
     "text": [
      "Hello World\n"
     ]
    }
   ],
   "source": [
    "print(\"Hello World\") # comments: SHIFT+ENTER == to run the code"
   ]
  },
  {
   "cell_type": "code",
   "execution_count": 2,
   "id": "understanding-enough",
   "metadata": {},
   "outputs": [
    {
     "ename": "NameError",
     "evalue": "name 'Ever' is not defined",
     "output_type": "error",
     "traceback": [
      "\u001b[0;31m---------------------------------------------------------------------------\u001b[0m",
      "\u001b[0;31mNameError\u001b[0m                                 Traceback (most recent call last)",
      "\u001b[0;32m<ipython-input-2-ac5a853cd9fb>\u001b[0m in \u001b[0;36m<module>\u001b[0;34m\u001b[0m\n\u001b[0;32m----> 1\u001b[0;31m \u001b[0mname\u001b[0m \u001b[0;34m=\u001b[0m \u001b[0mEver\u001b[0m\u001b[0;34m\u001b[0m\u001b[0;34m\u001b[0m\u001b[0m\n\u001b[0m\u001b[1;32m      2\u001b[0m \u001b[0mprint\u001b[0m \u001b[0;34m(\u001b[0m\u001b[0mname\u001b[0m\u001b[0;34m)\u001b[0m\u001b[0;34m\u001b[0m\u001b[0;34m\u001b[0m\u001b[0m\n",
      "\u001b[0;31mNameError\u001b[0m: name 'Ever' is not defined"
     ]
    }
   ],
   "source": [
    "name = Ever\n",
    "print (name)"
   ]
  },
  {
   "cell_type": "code",
   "execution_count": 3,
   "id": "optional-french",
   "metadata": {},
   "outputs": [
    {
     "ename": "NameError",
     "evalue": "name 'name' is not defined",
     "output_type": "error",
     "traceback": [
      "\u001b[0;31m---------------------------------------------------------------------------\u001b[0m",
      "\u001b[0;31mNameError\u001b[0m                                 Traceback (most recent call last)",
      "\u001b[0;32m<ipython-input-3-9ba126b17b03>\u001b[0m in \u001b[0;36m<module>\u001b[0;34m\u001b[0m\n\u001b[0;32m----> 1\u001b[0;31m \u001b[0mprint\u001b[0m\u001b[0;34m(\u001b[0m\u001b[0mname\u001b[0m\u001b[0;34m)\u001b[0m\u001b[0;34m\u001b[0m\u001b[0;34m\u001b[0m\u001b[0m\n\u001b[0m",
      "\u001b[0;31mNameError\u001b[0m: name 'name' is not defined"
     ]
    }
   ],
   "source": [
    "print(name)"
   ]
  },
  {
   "cell_type": "code",
   "execution_count": 4,
   "id": "mighty-quarter",
   "metadata": {},
   "outputs": [
    {
     "name": "stdout",
     "output_type": "stream",
     "text": [
      "Ever\n"
     ]
    }
   ],
   "source": [
    "name = 'Ever'\n",
    "print(name)"
   ]
  },
  {
   "cell_type": "code",
   "execution_count": 5,
   "id": "invisible-favor",
   "metadata": {},
   "outputs": [
    {
     "name": "stdout",
     "output_type": "stream",
     "text": [
      "hello name\n"
     ]
    }
   ],
   "source": [
    "print(\"hello name\")"
   ]
  },
  {
   "cell_type": "code",
   "execution_count": 6,
   "id": "comparative-sally",
   "metadata": {},
   "outputs": [
    {
     "name": "stdout",
     "output_type": "stream",
     "text": [
      "hello + name\n"
     ]
    }
   ],
   "source": [
    "print(\"hello + name\")"
   ]
  },
  {
   "cell_type": "code",
   "execution_count": 7,
   "id": "cardiac-texture",
   "metadata": {},
   "outputs": [
    {
     "ename": "NameError",
     "evalue": "name 'hello' is not defined",
     "output_type": "error",
     "traceback": [
      "\u001b[0;31m---------------------------------------------------------------------------\u001b[0m",
      "\u001b[0;31mNameError\u001b[0m                                 Traceback (most recent call last)",
      "\u001b[0;32m<ipython-input-7-11bf5fa4b6d1>\u001b[0m in \u001b[0;36m<module>\u001b[0;34m\u001b[0m\n\u001b[0;32m----> 1\u001b[0;31m \u001b[0mprint\u001b[0m\u001b[0;34m(\u001b[0m\u001b[0mhello\u001b[0m \u001b[0;34m+\u001b[0m \u001b[0mname\u001b[0m\u001b[0;34m)\u001b[0m\u001b[0;34m\u001b[0m\u001b[0;34m\u001b[0m\u001b[0m\n\u001b[0m",
      "\u001b[0;31mNameError\u001b[0m: name 'hello' is not defined"
     ]
    }
   ],
   "source": [
    "print(hello + name)"
   ]
  },
  {
   "cell_type": "code",
   "execution_count": 8,
   "id": "criminal-knitting",
   "metadata": {},
   "outputs": [
    {
     "name": "stdout",
     "output_type": "stream",
     "text": [
      "Ever\n"
     ]
    }
   ],
   "source": [
    "print(name)"
   ]
  },
  {
   "cell_type": "code",
   "execution_count": 9,
   "id": "eastern-techno",
   "metadata": {},
   "outputs": [
    {
     "name": "stdout",
     "output_type": "stream",
     "text": [
      "helloEver\n"
     ]
    }
   ],
   "source": [
    "print(\"hello\"+name)"
   ]
  },
  {
   "cell_type": "code",
   "execution_count": 10,
   "id": "guilty-force",
   "metadata": {},
   "outputs": [
    {
     "name": "stdout",
     "output_type": "stream",
     "text": [
      "HelloEver\n"
     ]
    }
   ],
   "source": [
    "print(\"Hello\" + name)"
   ]
  },
  {
   "cell_type": "code",
   "execution_count": 11,
   "id": "powerful-simple",
   "metadata": {},
   "outputs": [
    {
     "name": "stdout",
     "output_type": "stream",
     "text": [
      "Hello Ever\n"
     ]
    }
   ],
   "source": [
    "print(\"Hello \" + name)"
   ]
  },
  {
   "cell_type": "code",
   "execution_count": 12,
   "id": "under-prophet",
   "metadata": {},
   "outputs": [
    {
     "ename": "SyntaxError",
     "evalue": "invalid syntax (<ipython-input-12-7466e20a9573>, line 1)",
     "output_type": "error",
     "traceback": [
      "\u001b[0;36m  File \u001b[0;32m\"<ipython-input-12-7466e20a9573>\"\u001b[0;36m, line \u001b[0;32m1\u001b[0m\n\u001b[0;31m    print(\"Hello \" +name.)\u001b[0m\n\u001b[0m                         ^\u001b[0m\n\u001b[0;31mSyntaxError\u001b[0m\u001b[0;31m:\u001b[0m invalid syntax\n"
     ]
    }
   ],
   "source": [
    "print(\"Hello \" +name.)"
   ]
  },
  {
   "cell_type": "code",
   "execution_count": 13,
   "id": "rising-consortium",
   "metadata": {},
   "outputs": [
    {
     "ename": "SyntaxError",
     "evalue": "unexpected character after line continuation character (<ipython-input-13-48fa580a61d2>, line 1)",
     "output_type": "error",
     "traceback": [
      "\u001b[0;36m  File \u001b[0;32m\"<ipython-input-13-48fa580a61d2>\"\u001b[0;36m, line \u001b[0;32m1\u001b[0m\n\u001b[0;31m    print(\"Hello \" + name \\.)\u001b[0m\n\u001b[0m                             ^\u001b[0m\n\u001b[0;31mSyntaxError\u001b[0m\u001b[0;31m:\u001b[0m unexpected character after line continuation character\n"
     ]
    }
   ],
   "source": [
    "print(\"Hello \" + name \\.)"
   ]
  },
  {
   "cell_type": "code",
   "execution_count": 14,
   "id": "dirty-overall",
   "metadata": {},
   "outputs": [
    {
     "name": "stdout",
     "output_type": "stream",
     "text": [
      "Hello Ever\n"
     ]
    }
   ],
   "source": [
    "name = 'Ever'\n",
    "print(\"Hello \" +name)"
   ]
  },
  {
   "cell_type": "code",
   "execution_count": 15,
   "id": "tested-target",
   "metadata": {},
   "outputs": [
    {
     "name": "stdout",
     "output_type": "stream",
     "text": [
      "Hello, Ever\n"
     ]
    }
   ],
   "source": [
    "name = 'Ever'\n",
    "print('Hello, '+name)"
   ]
  },
  {
   "cell_type": "code",
   "execution_count": 16,
   "id": "treated-annotation",
   "metadata": {},
   "outputs": [
    {
     "name": "stdout",
     "output_type": "stream",
     "text": [
      "Hello, Ever.\n"
     ]
    }
   ],
   "source": [
    "print('Hello, '+ name + '.')"
   ]
  },
  {
   "cell_type": "code",
   "execution_count": 17,
   "id": "better-information",
   "metadata": {},
   "outputs": [
    {
     "name": "stdout",
     "output_type": "stream",
     "text": [
      "Hello, Ever, you are turning 44!\n"
     ]
    }
   ],
   "source": [
    "name = 'Ever'\n",
    "birdthyear = '1977'\n",
    "age_this_year = '44'\n",
    "print(f'Hello, {name}, you are turning {age_this_year}!')"
   ]
  },
  {
   "cell_type": "code",
   "execution_count": 18,
   "id": "accompanied-texture",
   "metadata": {},
   "outputs": [
    {
     "name": "stdout",
     "output_type": "stream",
     "text": [
      "Hello, Ever, you are getting old, you are turning 44!\n"
     ]
    }
   ],
   "source": [
    "print(f'Hello, {name}, you are getting old, you are turning {age_this_year}!')"
   ]
  },
  {
   "cell_type": "code",
   "execution_count": 19,
   "id": "correct-reality",
   "metadata": {},
   "outputs": [
    {
     "ename": "SyntaxError",
     "evalue": "EOL while scanning string literal (<ipython-input-19-5f24e2392a84>, line 1)",
     "output_type": "error",
     "traceback": [
      "\u001b[0;36m  File \u001b[0;32m\"<ipython-input-19-5f24e2392a84>\"\u001b[0;36m, line \u001b[0;32m1\u001b[0m\n\u001b[0;31m    print(f'Hello, {name}, you are turning (2021-{birdthyear}))\u001b[0m\n\u001b[0m                                                               ^\u001b[0m\n\u001b[0;31mSyntaxError\u001b[0m\u001b[0;31m:\u001b[0m EOL while scanning string literal\n"
     ]
    }
   ],
   "source": [
    "print(f'Hello, {name}, you are turning (2021-{birdthyear}))"
   ]
  },
  {
   "cell_type": "code",
   "execution_count": 20,
   "id": "abandoned-democracy",
   "metadata": {},
   "outputs": [
    {
     "ename": "SyntaxError",
     "evalue": "EOL while scanning string literal (<ipython-input-20-f0bff066198e>, line 3)",
     "output_type": "error",
     "traceback": [
      "\u001b[0;36m  File \u001b[0;32m\"<ipython-input-20-f0bff066198e>\"\u001b[0;36m, line \u001b[0;32m3\u001b[0m\n\u001b[0;31m    pring(f'Hello, {name}. You will turn {age_this_year} this year!'')\u001b[0m\n\u001b[0m                                                                      ^\u001b[0m\n\u001b[0;31mSyntaxError\u001b[0m\u001b[0;31m:\u001b[0m EOL while scanning string literal\n"
     ]
    }
   ],
   "source": [
    "birthyear = '1977'\n",
    "age_this_year = 2021 - birthyear\n",
    "pring(f'Hello, {name}. You will turn {age_this_year} this year!'')"
   ]
  },
  {
   "cell_type": "code",
   "execution_count": 21,
   "id": "cloudy-financing",
   "metadata": {},
   "outputs": [
    {
     "ename": "SyntaxError",
     "evalue": "unmatched ')' (<ipython-input-21-eaedb7897e15>, line 1)",
     "output_type": "error",
     "traceback": [
      "\u001b[0;36m  File \u001b[0;32m\"<ipython-input-21-eaedb7897e15>\"\u001b[0;36m, line \u001b[0;32m1\u001b[0m\n\u001b[0;31m    s = input)'Enter your name: ')\u001b[0m\n\u001b[0m             ^\u001b[0m\n\u001b[0;31mSyntaxError\u001b[0m\u001b[0;31m:\u001b[0m unmatched ')'\n"
     ]
    }
   ],
   "source": [
    "s = input)'Enter your name: ')"
   ]
  },
  {
   "cell_type": "code",
   "execution_count": 22,
   "id": "residential-mirror",
   "metadata": {},
   "outputs": [
    {
     "name": "stdout",
     "output_type": "stream",
     "text": [
      "Enter your name:Ever\n"
     ]
    }
   ],
   "source": [
    "s = input('Enter your name:')\n"
   ]
  },
  {
   "cell_type": "code",
   "execution_count": 23,
   "id": "subsequent-fireplace",
   "metadata": {},
   "outputs": [
    {
     "name": "stdout",
     "output_type": "stream",
     "text": [
      "Ever\n"
     ]
    }
   ],
   "source": [
    "print(s)\n"
   ]
  },
  {
   "cell_type": "code",
   "execution_count": 24,
   "id": "solid-resistance",
   "metadata": {},
   "outputs": [
    {
     "name": "stdout",
     "output_type": "stream",
     "text": [
      "Enter your name:Ever\n",
      "How do you feel today?happy\n"
     ]
    },
    {
     "ename": "NameError",
     "evalue": "name 'pring' is not defined",
     "output_type": "error",
     "traceback": [
      "\u001b[0;31m---------------------------------------------------------------------------\u001b[0m",
      "\u001b[0;31mNameError\u001b[0m                                 Traceback (most recent call last)",
      "\u001b[0;32m<ipython-input-24-8a4e4cda3b07>\u001b[0m in \u001b[0;36m<module>\u001b[0;34m\u001b[0m\n\u001b[1;32m      3\u001b[0m \u001b[0mss\u001b[0m \u001b[0;34m=\u001b[0m \u001b[0minput\u001b[0m\u001b[0;34m(\u001b[0m\u001b[0;34m'How do you feel today?'\u001b[0m\u001b[0;34m)\u001b[0m\u001b[0;34m\u001b[0m\u001b[0;34m\u001b[0m\u001b[0m\n\u001b[1;32m      4\u001b[0m \u001b[0mfeeling\u001b[0m \u001b[0;34m=\u001b[0m \u001b[0;34m{\u001b[0m\u001b[0mss\u001b[0m\u001b[0;34m}\u001b[0m\u001b[0;34m\u001b[0m\u001b[0;34m\u001b[0m\u001b[0m\n\u001b[0;32m----> 5\u001b[0;31m \u001b[0mpring\u001b[0m\u001b[0;34m(\u001b[0m\u001b[0;34mf'Hi {name}, you feel {feeling} today...'\u001b[0m\u001b[0;34m)\u001b[0m\u001b[0;34m\u001b[0m\u001b[0;34m\u001b[0m\u001b[0m\n\u001b[0m",
      "\u001b[0;31mNameError\u001b[0m: name 'pring' is not defined"
     ]
    }
   ],
   "source": [
    "s = input('Enter your name:')\n",
    "name = {s}\n",
    "ss = input('How do you feel today?')\n",
    "feeling = {ss}\n",
    "pring(f'Hi {name}, you feel {feeling} today...')"
   ]
  },
  {
   "cell_type": "code",
   "execution_count": 25,
   "id": "proud-farmer",
   "metadata": {},
   "outputs": [
    {
     "name": "stdout",
     "output_type": "stream",
     "text": [
      "Hi {'Ever'}, you feel {'happy'} today...\n"
     ]
    }
   ],
   "source": [
    "print(f'Hi {name}, you feel {feeling} today...')"
   ]
  },
  {
   "cell_type": "code",
   "execution_count": 26,
   "id": "broken-conspiracy",
   "metadata": {},
   "outputs": [
    {
     "name": "stdout",
     "output_type": "stream",
     "text": [
      "Enter your name:Ever\n",
      "How do you feel today?happy\n",
      "Hi Ever, you feel happy today...\n"
     ]
    }
   ],
   "source": [
    "name = input('Enter your name:')\n",
    "feeling = input('How do you feel today?')\n",
    "print(f'Hi {name}, you feel {feeling} today...')"
   ]
  },
  {
   "cell_type": "code",
   "execution_count": 27,
   "id": "stylish-marine",
   "metadata": {},
   "outputs": [
    {
     "name": "stdout",
     "output_type": "stream",
     "text": [
      "Enter your name: EVER\n",
      "How do you feel today? HAPPY\n",
      "Hi EVER, I see you feel HAPPY today...\n"
     ]
    }
   ],
   "source": [
    "name = input('Enter your name: ')\n",
    "feeling = input('How do you feel today? ')\n",
    "print(f'Hi {name}, I see you feel {feeling} today...')"
   ]
  },
  {
   "cell_type": "code",
   "execution_count": 28,
   "id": "funded-elevation",
   "metadata": {},
   "outputs": [
    {
     "name": "stdout",
     "output_type": "stream",
     "text": [
      "Enter your work company: Cisco\n",
      "Hello, Cisco. Nice to meet you!\n"
     ]
    }
   ],
   "source": [
    "company = input('Enter your work company: ')\n",
    "if name == 'Cisco':\n",
    "    print('Hello friend, I also work at Cisco!')\n",
    "    print('Nice to see you again')\n",
    "else:\n",
    "    print(f'Hello, {company}. Nice to meet you!')"
   ]
  },
  {
   "cell_type": "code",
   "execution_count": null,
   "id": "burning-delta",
   "metadata": {},
   "outputs": [],
   "source": []
  },
  {
   "cell_type": "code",
   "execution_count": 29,
   "id": "smart-savage",
   "metadata": {},
   "outputs": [
    {
     "name": "stdout",
     "output_type": "stream",
     "text": [
      "Enter your work company: avaya\n",
      "Hello, avaya. Nice to meet you!\n"
     ]
    }
   ],
   "source": [
    "company = input('Enter your work company: ')\n",
    "if name == 'Cisco':\n",
    "    print('Hello friend, I also work at Cisco!')\n",
    "    print('Nice to see you again')\n",
    "else:\n",
    "    print(f'Hello, {company}. Nice to meet you!')"
   ]
  },
  {
   "cell_type": "code",
   "execution_count": null,
   "id": "periodic-portfolio",
   "metadata": {},
   "outputs": [],
   "source": []
  },
  {
   "cell_type": "code",
   "execution_count": null,
   "id": "middle-jungle",
   "metadata": {},
   "outputs": [],
   "source": []
  },
  {
   "cell_type": "code",
   "execution_count": 30,
   "id": "animated-chuck",
   "metadata": {},
   "outputs": [
    {
     "name": "stdout",
     "output_type": "stream",
     "text": [
      "Enter your work company: avaya\n",
      "Hello, I see you work at avaya. Nice to meet you!\n"
     ]
    }
   ],
   "source": [
    "company = input('Enter your work company: ')\n",
    "if name == 'Cisco':\n",
    "    print('Hello friend, I also work at Cisco!')\n",
    "    print('Nice to see you again')\n",
    "else:\n",
    "    print(f'Hello, I see you work at {company}. Nice to meet you!')"
   ]
  },
  {
   "cell_type": "code",
   "execution_count": 35,
   "id": "dimensional-dayton",
   "metadata": {},
   "outputs": [
    {
     "name": "stdout",
     "output_type": "stream",
     "text": [
      "Enter your work company: Cisco\n",
      "Hello, I see you work at Cisco. Nice to meet you!\n"
     ]
    }
   ],
   "source": [
    "company = input('Enter your work company: ')\n",
    "if name == 'Cisco':\n",
    "    print('Hello friend, I also work at Cisco!')\n",
    "    print('Nice to see you again')\n",
    "else:\n",
    "    print(f'Hello, I see you work at {company}. Nice to meet you!')"
   ]
  },
  {
   "cell_type": "code",
   "execution_count": 37,
   "id": "fresh-review",
   "metadata": {},
   "outputs": [
    {
     "name": "stdout",
     "output_type": "stream",
     "text": [
      "Enter your work company: Avaya\n",
      "Hello, I see you work at Avaya. Nice to meet you!\n"
     ]
    }
   ],
   "source": [
    "company = input('Enter your work company: ')\n",
    "if company == 'Cisco':\n",
    "    print('Hello friend, I also work at Cisco!')\n",
    "    print('Nice to see you again')\n",
    "else:\n",
    "    print(f'Hello, I see you work at {company}. Nice to meet you!')"
   ]
  },
  {
   "cell_type": "code",
   "execution_count": null,
   "id": "removable-allah",
   "metadata": {},
   "outputs": [],
   "source": []
  },
  {
   "cell_type": "code",
   "execution_count": 39,
   "id": "spectacular-friendship",
   "metadata": {},
   "outputs": [
    {
     "name": "stdout",
     "output_type": "stream",
     "text": [
      "Enter the company you previously worked: Cisco\n"
     ]
    },
    {
     "ename": "NameError",
     "evalue": "name 'prev_work' is not defined",
     "output_type": "error",
     "traceback": [
      "\u001b[0;31m---------------------------------------------------------------------------\u001b[0m",
      "\u001b[0;31mNameError\u001b[0m                                 Traceback (most recent call last)",
      "\u001b[0;32m<ipython-input-39-81a154e14542>\u001b[0m in \u001b[0;36m<module>\u001b[0;34m\u001b[0m\n\u001b[1;32m      1\u001b[0m \u001b[0mpre_work\u001b[0m \u001b[0;34m=\u001b[0m \u001b[0minput\u001b[0m\u001b[0;34m(\u001b[0m\u001b[0;34m'Enter the company you previously worked: '\u001b[0m\u001b[0;34m)\u001b[0m\u001b[0;34m\u001b[0m\u001b[0;34m\u001b[0m\u001b[0m\n\u001b[0;32m----> 2\u001b[0;31m \u001b[0;32mif\u001b[0m \u001b[0mprev_work\u001b[0m \u001b[0;34m==\u001b[0m \u001b[0;34m'Cisco'\u001b[0m\u001b[0;34m:\u001b[0m\u001b[0;34m\u001b[0m\u001b[0;34m\u001b[0m\u001b[0m\n\u001b[0m\u001b[1;32m      3\u001b[0m     \u001b[0mprint\u001b[0m\u001b[0;34m(\u001b[0m\u001b[0;34m'Looks like we are colleagues, I also work at Cisco!'\u001b[0m\u001b[0;34m)\u001b[0m\u001b[0;34m\u001b[0m\u001b[0;34m\u001b[0m\u001b[0m\n\u001b[1;32m      4\u001b[0m \u001b[0;32melif\u001b[0m \u001b[0mprev_work\u001b[0m \u001b[0;34m==\u001b[0m \u001b[0;34m'apple'\u001b[0m\u001b[0;34m:\u001b[0m\u001b[0;34m\u001b[0m\u001b[0;34m\u001b[0m\u001b[0m\n\u001b[1;32m      5\u001b[0m     \u001b[0mprint\u001b[0m\u001b[0;34m(\u001b[0m\u001b[0;34m'You used to be my colleague'\u001b[0m\u001b[0;34m)\u001b[0m\u001b[0;34m\u001b[0m\u001b[0;34m\u001b[0m\u001b[0m\n",
      "\u001b[0;31mNameError\u001b[0m: name 'prev_work' is not defined"
     ]
    }
   ],
   "source": [
    "pre_work = input('Enter the company you previously worked: ')\n",
    "if prev_work == 'Cisco':\n",
    "    print('Looks like we are colleagues, I also work at Cisco!')\n",
    "elif prev_work == 'apple':\n",
    "    print('You used to be my colleague')\n",
    "else:\n",
    "    print('we have not worked before')"
   ]
  },
  {
   "cell_type": "code",
   "execution_count": 50,
   "id": "mounted-bridges",
   "metadata": {},
   "outputs": [
    {
     "name": "stdout",
     "output_type": "stream",
     "text": [
      "In UPPER case enter the company you previously worked: CISCO\n",
      "Looks like we are colleagues, I also work at CISCO!\n"
     ]
    }
   ],
   "source": [
    "prev_work = input('In UPPER case enter the company you previously worked: ')\n",
    "if prev_work == 'CISCO':\n",
    "    print('Looks like we are colleagues, I also work at CISCO!')\n",
    "elif prev_work == 'APPLE':\n",
    "    print('You used to be my colleague at APPLE!')\n",
    "else:\n",
    "    print(f'I see you work at {prev_work}, we have not worked together before')"
   ]
  },
  {
   "cell_type": "code",
   "execution_count": 51,
   "id": "accepting-zambia",
   "metadata": {},
   "outputs": [
    {
     "name": "stdout",
     "output_type": "stream",
     "text": [
      "In UPPER case enter the company you previously worked: APPLE\n",
      "You used to be my colleague at APPLE!\n"
     ]
    }
   ],
   "source": [
    "prev_work = input('In UPPER case enter the company you previously worked: ')\n",
    "if prev_work == 'CISCO':\n",
    "    print('Looks like we are colleagues, I also work at CISCO!')\n",
    "elif prev_work == 'APPLE':\n",
    "    print('You used to be my colleague at APPLE!')\n",
    "else:\n",
    "    print(f'I see you work at {prev_work}, we have not worked together before')"
   ]
  },
  {
   "cell_type": "code",
   "execution_count": 52,
   "id": "optical-lotus",
   "metadata": {},
   "outputs": [
    {
     "name": "stdout",
     "output_type": "stream",
     "text": [
      "In UPPER case enter the company you previously worked: OTHER\n",
      "I see you work at OTHER, we have not worked together before\n"
     ]
    }
   ],
   "source": [
    "prev_work = input('In UPPER case enter the company you previously worked: ')\n",
    "if prev_work == 'CISCO':\n",
    "    print('Looks like we are colleagues, I also work at CISCO!')\n",
    "elif prev_work == 'APPLE':\n",
    "    print('You used to be my colleague at APPLE!')\n",
    "else:\n",
    "    print(f'I see you work at {prev_work}, we have not worked together before')"
   ]
  },
  {
   "cell_type": "code",
   "execution_count": 53,
   "id": "concrete-assets",
   "metadata": {},
   "outputs": [
    {
     "data": {
      "text/plain": [
       "'Ever'"
      ]
     },
     "execution_count": 53,
     "metadata": {},
     "output_type": "execute_result"
    }
   ],
   "source": [
    "s"
   ]
  },
  {
   "cell_type": "code",
   "execution_count": 74,
   "id": "numerous-consortium",
   "metadata": {},
   "outputs": [
    {
     "name": "stdout",
     "output_type": "stream",
     "text": [
      "Enter your name: dddd\n",
      "Enter your company: dddd\n",
      "Oh, you work at dddd? Oh, well.\n"
     ]
    }
   ],
   "source": [
    "name = input('Enter your name: ')\n",
    "company = input('Enter your company: ')\n",
    "\n",
    "if name == 'Ever' and company == 'Cisco':\n",
    "    print('Hey, you must be me!')\n",
    "    \n",
    "elif name == 'Ever':\n",
    "    print('You have my name, but work for a competitor!')\n",
    "    \n",
    "elif company == 'Cisco':\n",
    "    print('You are my colleague but have another name')\n",
    "    \n",
    "else:\n",
    "    print(f'Oh, you work at {company}? Oh, well.')\n"
   ]
  },
  {
   "cell_type": "code",
   "execution_count": 93,
   "id": "binary-bronze",
   "metadata": {},
   "outputs": [
    {
     "name": "stdout",
     "output_type": "stream",
     "text": [
      "Enter first word: apple\n",
      "Enter second word: pear\n",
      "apple comes before pear in the dictionary\n"
     ]
    }
   ],
   "source": [
    "first = input('Enter first word: ')\n",
    "second = input('Enter second word: ')\n",
    "\n",
    "if first < second:\n",
    "    print(f'{first} comes before {second} in the dictionary')\n",
    "    \n",
    "elif second < first:\n",
    "    print(f' {second} comes before {first} in the dictionary')\n",
    "    \n",
    "else:\n",
    "    print(f'{first} and {second} words are the same!')\n",
    "    "
   ]
  },
  {
   "cell_type": "code",
   "execution_count": 94,
   "id": "urban-automation",
   "metadata": {},
   "outputs": [
    {
     "name": "stdout",
     "output_type": "stream",
     "text": [
      "Enter first word: pear\n",
      "Enter second word: apple\n",
      " apple comes before pear in the dictionary\n"
     ]
    }
   ],
   "source": [
    "first = input('Enter first word: ')\n",
    "second = input('Enter second word: ')\n",
    "\n",
    "if first < second:\n",
    "    print(f'{first} comes before {second} in the dictionary')\n",
    "    \n",
    "elif second < first:\n",
    "    print(f'{second} comes before {first} in the dictionary')\n",
    "    \n",
    "else:\n",
    "    print(f'{first} and {second} words are the same!')\n",
    "    "
   ]
  },
  {
   "cell_type": "code",
   "execution_count": 95,
   "id": "instructional-green",
   "metadata": {},
   "outputs": [
    {
     "name": "stdout",
     "output_type": "stream",
     "text": [
      "Enter first word: apple\n",
      "Enter second word: apple\n",
      "apple and apple words are the same!\n"
     ]
    }
   ],
   "source": [
    "first = input('Enter first word: ')\n",
    "second = input('Enter second word: ')\n",
    "\n",
    "if first < second:\n",
    "    print(f'{first} comes before {second} in the dictionary')\n",
    "    \n",
    "elif second < first:\n",
    "    print(f' {second} comes before {first} in the dictionary')\n",
    "    \n",
    "else:\n",
    "    print(f'{first} and {second} words are the same!')\n",
    "    "
   ]
  },
  {
   "cell_type": "code",
   "execution_count": 96,
   "id": "critical-partner",
   "metadata": {},
   "outputs": [
    {
     "data": {
      "text/plain": [
       "str"
      ]
     },
     "execution_count": 96,
     "metadata": {},
     "output_type": "execute_result"
    }
   ],
   "source": [
    "type(s)"
   ]
  },
  {
   "cell_type": "code",
   "execution_count": 97,
   "id": "floating-living",
   "metadata": {},
   "outputs": [
    {
     "data": {
      "text/plain": [
       "int"
      ]
     },
     "execution_count": 97,
     "metadata": {},
     "output_type": "execute_result"
    }
   ],
   "source": [
    "type(3)"
   ]
  },
  {
   "cell_type": "code",
   "execution_count": 98,
   "id": "leading-automation",
   "metadata": {},
   "outputs": [
    {
     "data": {
      "text/plain": [
       "float"
      ]
     },
     "execution_count": 98,
     "metadata": {},
     "output_type": "execute_result"
    }
   ],
   "source": [
    "type(3.5)"
   ]
  },
  {
   "cell_type": "code",
   "execution_count": 113,
   "id": "separate-monaco",
   "metadata": {},
   "outputs": [
    {
     "name": "stdout",
     "output_type": "stream",
     "text": [
      "100\n",
      "Enter a number: 7\n",
      "Enter another number: 7\n"
     ]
    },
    {
     "ename": "TypeError",
     "evalue": "unsupported operand type(s) for +: 'set' and 'int'",
     "output_type": "error",
     "traceback": [
      "\u001b[0;31m---------------------------------------------------------------------------\u001b[0m",
      "\u001b[0;31mTypeError\u001b[0m                                 Traceback (most recent call last)",
      "\u001b[0;32m<ipython-input-113-065b5f884e85>\u001b[0m in \u001b[0;36m<module>\u001b[0;34m\u001b[0m\n\u001b[1;32m      9\u001b[0m \u001b[0my\u001b[0m \u001b[0;34m=\u001b[0m \u001b[0mint\u001b[0m\u001b[0;34m(\u001b[0m\u001b[0my\u001b[0m\u001b[0;34m)\u001b[0m\u001b[0;34m\u001b[0m\u001b[0;34m\u001b[0m\u001b[0m\n\u001b[1;32m     10\u001b[0m \u001b[0;34m\u001b[0m\u001b[0m\n\u001b[0;32m---> 11\u001b[0;31m \u001b[0;32mif\u001b[0m \u001b[0mx\u001b[0m \u001b[0;34m==\u001b[0m \u001b[0;34m{\u001b[0m\u001b[0mnumber\u001b[0m\u001b[0;34m}\u001b[0m\u001b[0;34m+\u001b[0m\u001b[0;36m1\u001b[0m\u001b[0;34m:\u001b[0m\u001b[0;34m\u001b[0m\u001b[0;34m\u001b[0m\u001b[0m\n\u001b[0m\u001b[1;32m     12\u001b[0m     \u001b[0mprint\u001b[0m\u001b[0;34m(\u001b[0m\u001b[0;34m'Guess too high'\u001b[0m\u001b[0;34m)\u001b[0m\u001b[0;34m\u001b[0m\u001b[0;34m\u001b[0m\u001b[0m\n\u001b[1;32m     13\u001b[0m \u001b[0;34m\u001b[0m\u001b[0m\n",
      "\u001b[0;31mTypeError\u001b[0m: unsupported operand type(s) for +: 'set' and 'int'"
     ]
    }
   ],
   "source": [
    "import random\n",
    "number = random.randint(0, 100)\n",
    "print(f'{number}')\n",
    "\n",
    "guess = input('Enter a number: ')\n",
    "\n",
    "guess = int(guess)\n",
    "\n",
    "\n",
    "if guess > int{number}:\n",
    "    print(f'guessed number {guess} is too high!')\n",
    "\n",
    "if guess < int{number}:\n",
    "    print(f'guessed number {guess} is too low!')\n",
    "    \n",
    "else:\n",
    "    print(f'guessed number {guess} is too high!')"
   ]
  },
  {
   "cell_type": "code",
   "execution_count": null,
   "id": "polar-department",
   "metadata": {},
   "outputs": [],
   "source": []
  }
 ],
 "metadata": {
  "kernelspec": {
   "display_name": "Python 3",
   "language": "python",
   "name": "python3"
  },
  "language_info": {
   "codemirror_mode": {
    "name": "ipython",
    "version": 3
   },
   "file_extension": ".py",
   "mimetype": "text/x-python",
   "name": "python",
   "nbconvert_exporter": "python",
   "pygments_lexer": "ipython3",
   "version": "3.8.6"
  }
 },
 "nbformat": 4,
 "nbformat_minor": 5
}
