{
 "cells": [
  {
   "cell_type": "code",
   "execution_count": 1,
   "id": "forbidden-importance",
   "metadata": {},
   "outputs": [
    {
     "name": "stdout",
     "output_type": "stream",
     "text": [
      "Friendly-traceback installed.\n"
     ]
    }
   ],
   "source": [
    "from friendly_traceback.ipython import *"
   ]
  },
  {
   "cell_type": "code",
   "execution_count": 16,
   "id": "subtle-curtis",
   "metadata": {},
   "outputs": [
    {
     "name": "stdout",
     "output_type": "stream",
     "text": [
      "Enter your birth year: 2003\n",
      "Enter your birth day: 101\n",
      "Wow, congratulations on reaching 101 birthday\n",
      "You were born in  2003, so your 101 birthday will be in 2104\n"
     ]
    }
   ],
   "source": [
    "birthyear = input('Enter your birth year: ')\n",
    "birthyear = int(birthyear)\n",
    "\n",
    "birthday = input('Enter your future birth day: ')\n",
    "birthday = int(birthday)\n",
    "\n",
    "if birthyear < 0:\n",
    "    print(f'{birthday} is not a legitbirthday')\n",
    "\n",
    "elif birthyear > 100:\n",
    "    print(f'Wow, congratulations on reaching {birthday} birthday')\n",
    "    \n",
    "\n",
    "print(f'You were born in  {birthyear}, so your {birthday} birthday will be in {birthyear+birthday}')\n"
   ]
  },
  {
   "cell_type": "code",
   "execution_count": 18,
   "id": "contrary-thong",
   "metadata": {},
   "outputs": [
    {
     "name": "stderr",
     "output_type": "stream",
     "text": [
      "\n",
      "Traceback (most recent call last):\n",
      "  File \"<ipython-input-18>\", line 1\n",
      "    Exercise: Pig Latin translator¶\n",
      "                  ^\n",
      "SyntaxError: invalid syntax\n"
     ]
    }
   ],
   "source": [
    "\n",
    "#Exercise: Pig Latin translator¶\n",
    "\n",
    "To translate from English into Pig Latin:\n",
    "\n",
    "    Check the first letter of the English word.\n",
    "    If the first letter is a vowel (a, e, i, o, or u) then add way to the end of the word.\n",
    "    In other cases, move the first letter to the end, and then add ay.\n",
    "\n",
    "Some examples:\n",
    "\n",
    "    computer -> omputercay\n",
    "    apple -> appleway\n",
    "    elephant -> elephantway\n",
    "    octopus -> octopusway\n",
    "    table -> abletay\n",
    "    papaya -> apayapay\n",
    "\n",
    "    Ask the user to enter an English word (all lowercase, no punctuation, no spaces)\n",
    "    Check the first letter. Is it a vowel?\n",
    "        One way: use or in an if statement\n",
    "        Another way... consider in\n",
    "    Use if to decide what rule applies\n",
    "    Adding to a string is as easy as + or an f-string\n",
    "    Moving the first letter to the end means using slices and creating a new string\n",
    "\n",
    "\n"
   ]
  },
  {
   "cell_type": "code",
   "execution_count": 29,
   "id": "collect-catalog",
   "metadata": {},
   "outputs": [
    {
     "name": "stdout",
     "output_type": "stream",
     "text": [
      "enter an English word: orange\n",
      "It starts with a vowel!\n",
      "orangeway\n"
     ]
    }
   ],
   "source": [
    "word = input('enter an English word: ')\n",
    "\n",
    "if word[0] in 'aeiou':\n",
    "    print('It starts with a vowel!')\n",
    "    print(word + 'way')\n",
    "else:\n",
    "    print(f'{word[1:]}{word[0]}ay')\n"
   ]
  },
  {
   "cell_type": "code",
   "execution_count": 30,
   "id": "impressed-marshall",
   "metadata": {},
   "outputs": [],
   "source": [
    "# Exercise: Add two numbers: if you can"
   ]
  },
  {
   "cell_type": "code",
   "execution_count": null,
   "id": "attempted-respondent",
   "metadata": {},
   "outputs": [],
   "source": [
    "first = input{'enter first number'}\n",
    "second = input('enter second number')"
   ]
  }
 ],
 "metadata": {
  "kernelspec": {
   "display_name": "Python 3",
   "language": "python",
   "name": "python3"
  },
  "language_info": {
   "codemirror_mode": {
    "name": "ipython",
    "version": 3
   },
   "file_extension": ".py",
   "mimetype": "text/x-python",
   "name": "python",
   "nbconvert_exporter": "python",
   "pygments_lexer": "ipython3",
   "version": "3.8.6"
  }
 },
 "nbformat": 4,
 "nbformat_minor": 5
}
