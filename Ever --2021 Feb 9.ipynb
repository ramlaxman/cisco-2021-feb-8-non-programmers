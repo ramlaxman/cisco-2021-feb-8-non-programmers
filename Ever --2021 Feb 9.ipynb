{
 "cells": [
  {
   "cell_type": "code",
   "execution_count": 1,
   "id": "chubby-housing",
   "metadata": {},
   "outputs": [
    {
     "name": "stdout",
     "output_type": "stream",
     "text": [
      "Friendly-traceback installed.\n"
     ]
    }
   ],
   "source": [
    "from friendly_traceback.ipython import *"
   ]
  },
  {
   "cell_type": "code",
   "execution_count": 16,
   "id": "velvet-baker",
   "metadata": {},
   "outputs": [
    {
     "name": "stdout",
     "output_type": "stream",
     "text": [
      "Enter your birth year: 2003\n",
      "Enter your birth day: 101\n",
      "Wow, congratulations on reaching 101 birthday\n",
      "You were born in  2003, so your 101 birthday will be in 2104\n"
     ]
    }
   ],
   "source": [
    "birthyear = input('Enter your birth year: ')\n",
    "birthyear = int(birthyear)\n",
    "\n",
    "birthday = input('Enter your future birth day: ')\n",
    "birthday = int(birthday)\n",
    "\n",
    "if birthyear < 0:\n",
    "    print(f'{birthday} is not a legitbirthday')\n",
    "\n",
    "elif birthyear > 100:\n",
    "    print(f'Wow, congratulations on reaching {birthday} birthday')\n",
    "    \n",
    "\n",
    "print(f'You were born in  {birthyear}, so your {birthday} birthday will be in {birthyear+birthday}')\n"
   ]
  },
  {
   "cell_type": "code",
   "execution_count": 18,
   "id": "daily-wiring",
   "metadata": {},
   "outputs": [
    {
     "name": "stderr",
     "output_type": "stream",
     "text": [
      "\n",
      "Traceback (most recent call last):\n",
      "  File \"<ipython-input-18>\", line 1\n",
      "    Exercise: Pig Latin translator¶\n",
      "                  ^\n",
      "SyntaxError: invalid syntax\n"
     ]
    }
   ],
   "source": [
    "\n",
    "#Exercise: Pig Latin translator¶\n",
    "\n",
    "To translate from English into Pig Latin:\n",
    "\n",
    "    Check the first letter of the English word.\n",
    "    If the first letter is a vowel (a, e, i, o, or u) then add way to the end of the word.\n",
    "    In other cases, move the first letter to the end, and then add ay.\n",
    "\n",
    "Some examples:\n",
    "\n",
    "    computer -> omputercay\n",
    "    apple -> appleway\n",
    "    elephant -> elephantway\n",
    "    octopus -> octopusway\n",
    "    table -> abletay\n",
    "    papaya -> apayapay\n",
    "\n",
    "    Ask the user to enter an English word (all lowercase, no punctuation, no spaces)\n",
    "    Check the first letter. Is it a vowel?\n",
    "        One way: use or in an if statement\n",
    "        Another way... consider in\n",
    "    Use if to decide what rule applies\n",
    "    Adding to a string is as easy as + or an f-string\n",
    "    Moving the first letter to the end means using slices and creating a new string\n",
    "\n",
    "\n"
   ]
  },
  {
   "cell_type": "code",
   "execution_count": 29,
   "id": "positive-stamp",
   "metadata": {},
   "outputs": [
    {
     "name": "stdout",
     "output_type": "stream",
     "text": [
      "enter an English word: orange\n",
      "It starts with a vowel!\n",
      "orangeway\n"
     ]
    }
   ],
   "source": [
    "word = input('enter an English word: ')\n",
    "\n",
    "if word[0] in 'aeiou':\n",
    "    print('It starts with a vowel!')\n",
    "    print(word + 'way')\n",
    "    \n",
    "elif:\n",
    "    print(f'{word[1:]}{word[0]}ay')\n"
   ]
  },
  {
   "cell_type": "code",
   "execution_count": 30,
   "id": "trying-pendant",
   "metadata": {},
   "outputs": [],
   "source": [
    "# Exercise: Add two numbers: if you can"
   ]
  },
  {
   "cell_type": "code",
   "execution_count": 50,
   "id": "historic-initial",
   "metadata": {},
   "outputs": [
    {
     "name": "stdout",
     "output_type": "stream",
     "text": [
      "enter first number: 1\n",
      "enter second number: 1\n",
      "1 and 1\n"
     ]
    },
    {
     "name": "stderr",
     "output_type": "stream",
     "text": [
      "\n",
      "Traceback (most recent call last):\n",
      "  File \"<ipython-input-50>\", line 11, in <module>\n",
      "    print(f'{first} + {second} = {first+second}')\n",
      "TypeError: unsupported operand type(s) for +: 'int' and 'str'\n"
     ]
    }
   ],
   "source": [
    "first = input('enter first number: ')\n",
    "second = input('enter second number: ')\n",
    "\n",
    "print(f'{first} and {second}')\n",
    "\n",
    "if first.isdigit():\n",
    "    first = int(first)\n",
    "    \n",
    "elif second.isdigit():\n",
    "    second = int(second)\n",
    "print(f'{first} + {second} = {first+second}')\n"
   ]
  },
  {
   "cell_type": "code",
   "execution_count": null,
   "id": "attended-cache",
   "metadata": {},
   "outputs": [],
   "source": [
    "# Exercise: Basic list retrieval"
   ]
  },
  {
   "cell_type": "code",
   "execution_count": 60,
   "id": "occupational-background",
   "metadata": {},
   "outputs": [
    {
     "name": "stdout",
     "output_type": "stream",
     "text": [
      "Enter integer ONE: 1\n",
      "Enter integer TWO: 1\n"
     ]
    },
    {
     "name": "stderr",
     "output_type": "stream",
     "text": [
      "\n",
      "Traceback (most recent call last):\n",
      "  File \"<ipython-input-60>\", line 9, in <module>\n",
      "    first_value[first_i]\n",
      "NameError: name 'first_value' is not defined\n"
     ]
    }
   ],
   "source": [
    "mylist = [10, 20, 30, 40, 50, 60, 70, 80, 90, 100]\n",
    "\n",
    "first_i = input('Enter integer ONE: ')\n",
    "first_i = int(first_i)\n",
    "second_i = input('Enter integer TWO: ')\n",
    "second_i = int(second_i)\n",
    "\n",
    "# retrieve list\n",
    "first_value[first_i]\n",
    "second_value[second_i]\n",
    "\n",
    "\n",
    "\n",
    "# add and display\n",
    "print(f'{first_value} + {second_value} = {total}')\n"
   ]
  },
  {
   "cell_type": "code",
   "execution_count": 61,
   "id": "apart-porcelain",
   "metadata": {},
   "outputs": [],
   "source": [
    "# Exercise: Evens and odds"
   ]
  },
  {
   "cell_type": "code",
   "execution_count": null,
   "id": "younger-duncan",
   "metadata": {},
   "outputs": [
    {
     "name": "stdout",
     "output_type": "stream",
     "text": [
      "Enter a number: 1\n",
      "this is even number\n",
      "Enter a number: 2\n",
      "Enter a number: 3\n",
      "this is even number\n",
      "Enter a number: 4\n",
      "Enter a number: 5\n",
      "this is even number\n",
      "Enter a number: 6\n",
      "Enter a number: 7\n",
      "this is even number\n"
     ]
    }
   ],
   "source": [
    "evens = []\n",
    "odds = []\n",
    "\n",
    "while True: \n",
    "    s = input('Enter a number: ').strip()\n",
    "    \n",
    "    if s == '':\n",
    "        break\n",
    "        \n",
    "         \n",
    "    if s.isdigit():\n",
    "        s = int(s)\n",
    "        \n",
    "    \n",
    "    if s % 2 == 1:\n",
    "        odds.append\n",
    "        print('this is even number')\n",
    "    elif s % 1:\n",
    "        print('this is odd number')\n",
    "        "
   ]
  },
  {
   "cell_type": "code",
   "execution_count": null,
   "id": "several-grass",
   "metadata": {},
   "outputs": [],
   "source": []
  },
  {
   "cell_type": "code",
   "execution_count": null,
   "id": "decent-hotel",
   "metadata": {},
   "outputs": [],
   "source": [
    "evens = []\n",
    "odds = []\n",
    "\n"
   ]
  }
 ],
 "metadata": {
  "kernelspec": {
   "display_name": "Python 3",
   "language": "python",
   "name": "python3"
  },
  "language_info": {
   "codemirror_mode": {
    "name": "ipython",
    "version": 3
   },
   "file_extension": ".py",
   "mimetype": "text/x-python",
   "name": "python",
   "nbconvert_exporter": "python",
   "pygments_lexer": "ipython3",
   "version": "3.8.6"
  }
 },
 "nbformat": 4,
 "nbformat_minor": 5
}
