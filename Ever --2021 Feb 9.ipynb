{
 "cells": [
  {
   "cell_type": "code",
   "execution_count": 1,
   "id": "positive-recipient",
   "metadata": {},
   "outputs": [
    {
     "name": "stdout",
     "output_type": "stream",
     "text": [
      "Friendly-traceback installed.\n"
     ]
    }
   ],
   "source": [
    "from friendly_traceback.ipython import *"
   ]
  },
  {
   "cell_type": "code",
   "execution_count": null,
   "id": "changing-oxford",
   "metadata": {},
   "outputs": [],
   "source": [
    "birthyear = input('Enter your birth year: ')\n",
    "birthyear = int(birthyear)\n",
    "\n",
    "birthday = input('Enter your birth day: ')\n",
    "birthday = int(birthday)\n",
    "\n"
   ]
  }
 ],
 "metadata": {
  "kernelspec": {
   "display_name": "Python 3",
   "language": "python",
   "name": "python3"
  },
  "language_info": {
   "codemirror_mode": {
    "name": "ipython",
    "version": 3
   },
   "file_extension": ".py",
   "mimetype": "text/x-python",
   "name": "python",
   "nbconvert_exporter": "python",
   "pygments_lexer": "ipython3",
   "version": "3.8.6"
  }
 },
 "nbformat": 4,
 "nbformat_minor": 5
}
