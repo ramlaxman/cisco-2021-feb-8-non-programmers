{
 "cells": [
  {
   "cell_type": "code",
   "execution_count": 1,
   "id": "formed-reach",
   "metadata": {},
   "outputs": [
    {
     "name": "stdout",
     "output_type": "stream",
     "text": [
      "Friendly-traceback installed.\n"
     ]
    }
   ],
   "source": [
    "from friendly_traceback.ipython import *"
   ]
  },
  {
   "cell_type": "code",
   "execution_count": 15,
   "id": "floppy-underwear",
   "metadata": {},
   "outputs": [
    {
     "name": "stdout",
     "output_type": "stream",
     "text": [
      "Enter your birth year: 2003\n",
      "Enter your birth day: 100\n",
      "You wer born in  2003, so your 100 birthday will be in 2103\n",
      "Wow, congratulations on reaching 18 years!\n"
     ]
    }
   ],
   "source": [
    "birthyear = input('Enter your birth year: ')\n",
    "birthyear = int(birthyear)\n",
    "\n",
    "birthday = input('Enter your birth day: ')\n",
    "birthday = int(birthday)\n",
    "\n",
    "if birthyear < 0:\n",
    "    print(f'{birthday} is not a legitbirthday')\n",
    "\n",
    "elif birthyear > 100:\n",
    "    print(f'Wow, congratulations on reaching {birthday} ')\n",
    "    \n",
    "\n",
    "print(f'You were born in  {birthyear}, so your {birthday} birthday will be in {birthyear+birthday}')\n"
   ]
  },
  {
   "cell_type": "code",
   "execution_count": null,
   "id": "hired-cambodia",
   "metadata": {},
   "outputs": [],
   "source": []
  }
 ],
 "metadata": {
  "kernelspec": {
   "display_name": "Python 3",
   "language": "python",
   "name": "python3"
  },
  "language_info": {
   "codemirror_mode": {
    "name": "ipython",
    "version": 3
   },
   "file_extension": ".py",
   "mimetype": "text/x-python",
   "name": "python",
   "nbconvert_exporter": "python",
   "pygments_lexer": "ipython3",
   "version": "3.8.6"
  }
 },
 "nbformat": 4,
 "nbformat_minor": 5
}
