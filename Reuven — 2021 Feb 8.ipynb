{
 "cells": [
  {
   "cell_type": "code",
   "execution_count": 4,
   "id": "reasonable-escape",
   "metadata": {},
   "outputs": [
    {
     "name": "stdout",
     "output_type": "stream",
     "text": [
      "Hello, world!!!!\n"
     ]
    }
   ],
   "source": [
    "print('Hello, world!!!!')   # shift+enter == run the code in the current cell"
   ]
  },
  {
   "cell_type": "markdown",
   "id": "adopted-christian",
   "metadata": {},
   "source": [
    "# Exercise: Getting started with Jupyter\n",
    "\n",
    "1. Go to my Jupyter server at http://python.lerner.co.il:8000/\n",
    "2. On that Jupyter home page, use the \"New\" menu on the right side to start a new notebook.\n",
    "3. When the new notebook opens, click on the title and change it to be your name and the date.\n",
    "4. In a cell, use the `print` function to print some text.  Text can be between single quotes ('') or double quotes(\"\") — Python doesn't care, so long as they match."
   ]
  },
  {
   "cell_type": "markdown",
   "id": "worthy-planner",
   "metadata": {},
   "source": [
    "When you're done with the exercise, click the green check mark (bottom left of the \"participants\" panel) to let me know."
   ]
  },
  {
   "cell_type": "markdown",
   "id": "promotional-yacht",
   "metadata": {},
   "source": [
    "# Agenda\n",
    "\n",
    "1. Basics\n",
    "    - Variables\n",
    "    - Different types are different\n",
    "    - Conditions with `if` / `else`\n",
    "2. Data structures\n",
    "    - Numbers (integers and floats)\n",
    "    - Strings (text)\n",
    "    - Loops -- repeating yourself in code\n",
    "    - Lists and tuples\n",
    "    - Dictionaries\n",
    "    - Files (reading from and writing to text files)\n",
    "3. Functions\n",
    "    - Here, we'll start writing in an IDE (PyCharm)\n",
    "4. Modules\n",
    "    \n"
   ]
  },
  {
   "cell_type": "code",
   "execution_count": 1,
   "id": "ideal-people",
   "metadata": {},
   "outputs": [
    {
     "name": "stdout",
     "output_type": "stream",
     "text": [
      "abcd\n",
      "efgh\n",
      "ijkl\n"
     ]
    }
   ],
   "source": [
    "print('abcd')   # pressing ENTER goes down one line\n",
    "print('efgh')   # pressing ENTER goes down one (another!) line\n",
    "print('ijkl')   # pressing shift + ENTER executes the entire cell"
   ]
  },
  {
   "cell_type": "code",
   "execution_count": 2,
   "id": "wired-diameter",
   "metadata": {},
   "outputs": [
    {
     "name": "stdout",
     "output_type": "stream",
     "text": [
      "2\n"
     ]
    }
   ],
   "source": [
    "print(2)"
   ]
  },
  {
   "cell_type": "code",
   "execution_count": 3,
   "id": "formal-gambling",
   "metadata": {},
   "outputs": [
    {
     "name": "stdout",
     "output_type": "stream",
     "text": [
      "7\n"
     ]
    }
   ],
   "source": [
    "print(2 + 5)"
   ]
  },
  {
   "cell_type": "code",
   "execution_count": 4,
   "id": "spread-progress",
   "metadata": {},
   "outputs": [
    {
     "name": "stdout",
     "output_type": "stream",
     "text": [
      "12\n"
     ]
    }
   ],
   "source": [
    "print(3 * 4)  # in programming, we use * for multiplication"
   ]
  },
  {
   "cell_type": "code",
   "execution_count": 5,
   "id": "frequent-immigration",
   "metadata": {},
   "outputs": [
    {
     "name": "stdout",
     "output_type": "stream",
     "text": [
      "14\n"
     ]
    }
   ],
   "source": [
    "print(2 + 3 * 4)  # Python knows the order of operations"
   ]
  },
  {
   "cell_type": "code",
   "execution_count": 6,
   "id": "expensive-system",
   "metadata": {},
   "outputs": [
    {
     "name": "stdout",
     "output_type": "stream",
     "text": [
      "8\n"
     ]
    }
   ],
   "source": [
    "# In programming, we have pronouns!\n",
    "# they are known as \"variables\"\n",
    "\n",
    "# Variables have names, and those names DO NOT have quotes around them\n",
    "# I can assign to a variable (i.e., give it a value with the = sign)\n",
    "\n",
    "x = 5    # assigns 5 to the variable x... and since x didn't exist before, now it does!\n",
    "y = 3    # assigning 3 to the variable y... it's created, too!\n",
    "\n",
    "print(x + y)"
   ]
  },
  {
   "cell_type": "code",
   "execution_count": 7,
   "id": "exclusive-fluid",
   "metadata": {},
   "outputs": [
    {
     "name": "stdout",
     "output_type": "stream",
     "text": [
      "Hello, Reuven\n"
     ]
    }
   ],
   "source": [
    "name = 'Reuven'\n",
    "\n",
    "print('Hello, ' + name)"
   ]
  },
  {
   "cell_type": "code",
   "execution_count": 8,
   "id": "economic-genetics",
   "metadata": {},
   "outputs": [
    {
     "data": {
      "text/plain": [
       "'ReuvenReuven'"
      ]
     },
     "execution_count": 8,
     "metadata": {},
     "output_type": "execute_result"
    }
   ],
   "source": [
    "name + name"
   ]
  },
  {
   "cell_type": "code",
   "execution_count": 9,
   "id": "engaged-strip",
   "metadata": {},
   "outputs": [
    {
     "ename": "TypeError",
     "evalue": "unsupported operand type(s) for +: 'int' and 'str'",
     "output_type": "error",
     "traceback": [
      "\u001b[0;31m---------------------------------------------------------------------------\u001b[0m",
      "\u001b[0;31mTypeError\u001b[0m                                 Traceback (most recent call last)",
      "\u001b[0;32m<ipython-input-9-95c0e73ce86a>\u001b[0m in \u001b[0;36m<module>\u001b[0;34m\u001b[0m\n\u001b[0;32m----> 1\u001b[0;31m \u001b[0mx\u001b[0m \u001b[0;34m+\u001b[0m \u001b[0mname\u001b[0m\u001b[0;34m\u001b[0m\u001b[0;34m\u001b[0m\u001b[0m\n\u001b[0m",
      "\u001b[0;31mTypeError\u001b[0m: unsupported operand type(s) for +: 'int' and 'str'"
     ]
    }
   ],
   "source": [
    "x + name   "
   ]
  },
  {
   "cell_type": "markdown",
   "id": "magnetic-darkness",
   "metadata": {},
   "source": [
    "# Exercise: Greeting yourself\n",
    "\n",
    "1. Assign your name (a text string) to the variable `name`.\n",
    "2. Print a greeting to yourself.\n",
    "3. How can you print a greeting that ends with a `.`?"
   ]
  },
  {
   "cell_type": "code",
   "execution_count": null,
   "id": "renewable-electron",
   "metadata": {},
   "outputs": [],
   "source": [
    "# the = sign in Python means: Assign the value on the right to the name on the left\n",
    "the_variable_name = 'the variable value'"
   ]
  },
  {
   "cell_type": "code",
   "execution_count": 10,
   "id": "separated-robinson",
   "metadata": {},
   "outputs": [
    {
     "name": "stdout",
     "output_type": "stream",
     "text": [
      "2445\n"
     ]
    }
   ],
   "source": [
    "a = 100\n",
    "b = 2345\n",
    "\n",
    "print(a + b)"
   ]
  },
  {
   "cell_type": "code",
   "execution_count": 11,
   "id": "certain-ancient",
   "metadata": {},
   "outputs": [
    {
     "data": {
      "text/plain": [
       "1887"
      ]
     },
     "execution_count": 11,
     "metadata": {},
     "output_type": "execute_result"
    }
   ],
   "source": [
    "a = 999\n",
    "b = 888\n",
    "\n",
    "a + b"
   ]
  },
  {
   "cell_type": "code",
   "execution_count": 12,
   "id": "religious-retrieval",
   "metadata": {},
   "outputs": [
    {
     "name": "stdout",
     "output_type": "stream",
     "text": [
      "Hello, Reuven\n"
     ]
    }
   ],
   "source": [
    "name = 'Reuven'\n",
    "print('Hello, ' + name)"
   ]
  },
  {
   "cell_type": "code",
   "execution_count": 13,
   "id": "digital-collins",
   "metadata": {},
   "outputs": [
    {
     "name": "stdout",
     "output_type": "stream",
     "text": [
      "Hello,Reuven\n"
     ]
    }
   ],
   "source": [
    "print('Hello,' + name)"
   ]
  },
  {
   "cell_type": "code",
   "execution_count": 14,
   "id": "asian-methodology",
   "metadata": {},
   "outputs": [
    {
     "name": "stdout",
     "output_type": "stream",
     "text": [
      "Hello, Reuven.\n"
     ]
    }
   ],
   "source": [
    "print('Hello, ' + name + '.')"
   ]
  },
  {
   "cell_type": "markdown",
   "id": "fitted-bargain",
   "metadata": {},
   "source": [
    "# Variable names\n",
    "\n",
    "They can contain any combination of:\n",
    "\n",
    "- Letters (uppercase and lowercase are *different*)\n",
    "- Numbers\n",
    "- Underscores (`_`)\n",
    "\n",
    "But:\n",
    "\n",
    "- The name must start with a letter or underscore\n",
    "- It's traditional only to use lowercase letters\n",
    "- If the name starts with an underscore, Python sees it as \"private,\" not for others to use"
   ]
  },
  {
   "cell_type": "code",
   "execution_count": null,
   "id": "civic-cambridge",
   "metadata": {},
   "outputs": [],
   "source": []
  },
  {
   "cell_type": "code",
   "execution_count": 17,
   "id": "whole-peninsula",
   "metadata": {},
   "outputs": [
    {
     "name": "stdout",
     "output_type": "stream",
     "text": [
      "Hello, Reuven, with a favorite number 72!\n"
     ]
    }
   ],
   "source": [
    "name = 'Reuven'\n",
    "favorite_number = 72\n",
    "\n",
    "# f-strings (format strings) to the rescue!\n",
    "# they allow us to mix and match any data type when creating a string\n",
    "\n",
    "# Put an f before the opening quote, and {} suddenly are replaced with their values\n",
    "print(f'Hello, {name}, with a favorite number {favorite_number}!')"
   ]
  },
  {
   "cell_type": "markdown",
   "id": "removed-opinion",
   "metadata": {},
   "source": [
    "# Exercise: Another greeting (with f-strings)\n",
    "\n",
    "1. Define a variable, `name`, with the text string of your name.\n",
    "2. Define another variable, `birthyear`, to be the year in which you were born.\n",
    "3. Define a third variable, `age_this_year`, to be how old you'll turn this year, calculated based on `birthyear`.\n",
    "4. Print a message to the user, saying how old they'll turn this year.  Use an f-string to do this."
   ]
  },
  {
   "cell_type": "code",
   "execution_count": 18,
   "id": "substantial-english",
   "metadata": {},
   "outputs": [
    {
     "name": "stdout",
     "output_type": "stream",
     "text": [
      "150\n"
     ]
    }
   ],
   "source": [
    "x = 100\n",
    "y = 50\n",
    "\n",
    "print(x + y)"
   ]
  },
  {
   "cell_type": "code",
   "execution_count": 19,
   "id": "formal-leadership",
   "metadata": {},
   "outputs": [
    {
     "name": "stdout",
     "output_type": "stream",
     "text": [
      "50\n"
     ]
    }
   ],
   "source": [
    "print(x - y)"
   ]
  },
  {
   "cell_type": "code",
   "execution_count": 20,
   "id": "recreational-recall",
   "metadata": {},
   "outputs": [],
   "source": [
    "z = x - y  # defines z to be a variable, whose value is the result of x-y"
   ]
  },
  {
   "cell_type": "code",
   "execution_count": 21,
   "id": "sharp-deficit",
   "metadata": {},
   "outputs": [
    {
     "name": "stdout",
     "output_type": "stream",
     "text": [
      "50\n"
     ]
    }
   ],
   "source": [
    "print(z)"
   ]
  },
  {
   "cell_type": "code",
   "execution_count": 22,
   "id": "based-isaac",
   "metadata": {},
   "outputs": [
    {
     "name": "stdout",
     "output_type": "stream",
     "text": [
      "Hello, Reuven.  You will turn 51 this year!\n"
     ]
    }
   ],
   "source": [
    "name = 'Reuven'\n",
    "birthyear = 1970\n",
    "age_this_year = 2021 - birthyear\n",
    "print(f'Hello, {name}.  You will turn {age_this_year} this year!')"
   ]
  },
  {
   "cell_type": "code",
   "execution_count": 23,
   "id": "major-labor",
   "metadata": {},
   "outputs": [
    {
     "data": {
      "text/plain": [
       "'1020'"
      ]
     },
     "execution_count": 23,
     "metadata": {},
     "output_type": "execute_result"
    }
   ],
   "source": [
    "x = '10'  # string!\n",
    "y = '20'  # string!\n",
    "\n",
    "x + y"
   ]
  },
  {
   "cell_type": "code",
   "execution_count": 24,
   "id": "green-virtue",
   "metadata": {},
   "outputs": [
    {
     "ename": "TypeError",
     "evalue": "unsupported operand type(s) for -: 'str' and 'str'",
     "output_type": "error",
     "traceback": [
      "\u001b[0;31m---------------------------------------------------------------------------\u001b[0m",
      "\u001b[0;31mTypeError\u001b[0m                                 Traceback (most recent call last)",
      "\u001b[0;32m<ipython-input-24-86286c876b5e>\u001b[0m in \u001b[0;36m<module>\u001b[0;34m\u001b[0m\n\u001b[0;32m----> 1\u001b[0;31m \u001b[0mx\u001b[0m \u001b[0;34m-\u001b[0m \u001b[0my\u001b[0m\u001b[0;34m\u001b[0m\u001b[0;34m\u001b[0m\u001b[0m\n\u001b[0m",
      "\u001b[0;31mTypeError\u001b[0m: unsupported operand type(s) for -: 'str' and 'str'"
     ]
    }
   ],
   "source": [
    "x - y"
   ]
  },
  {
   "cell_type": "code",
   "execution_count": 26,
   "id": "pacific-giant",
   "metadata": {},
   "outputs": [
    {
     "data": {
      "text/plain": [
       "30"
      ]
     },
     "execution_count": 26,
     "metadata": {},
     "output_type": "execute_result"
    }
   ],
   "source": [
    "x = 10   # no quotes -- numbers\n",
    "y = 20  #  no quotes -- numbers\n",
    "\n",
    "x + y  # in Jupyter, the final line of a cell, if it returns a value, shows it on the screen"
   ]
  },
  {
   "cell_type": "code",
   "execution_count": 27,
   "id": "driving-article",
   "metadata": {},
   "outputs": [
    {
     "data": {
      "text/plain": [
       "10"
      ]
     },
     "execution_count": 27,
     "metadata": {},
     "output_type": "execute_result"
    }
   ],
   "source": [
    "x"
   ]
  },
  {
   "cell_type": "code",
   "execution_count": 28,
   "id": "medium-latino",
   "metadata": {},
   "outputs": [
    {
     "data": {
      "text/plain": [
       "20"
      ]
     },
     "execution_count": 28,
     "metadata": {},
     "output_type": "execute_result"
    }
   ],
   "source": [
    "y"
   ]
  },
  {
   "cell_type": "code",
   "execution_count": 29,
   "id": "artificial-judge",
   "metadata": {},
   "outputs": [
    {
     "data": {
      "text/plain": [
       "200"
      ]
     },
     "execution_count": 29,
     "metadata": {},
     "output_type": "execute_result"
    }
   ],
   "source": [
    "x*y"
   ]
  },
  {
   "cell_type": "code",
   "execution_count": null,
   "id": "contemporary-rendering",
   "metadata": {},
   "outputs": [],
   "source": []
  },
  {
   "cell_type": "markdown",
   "id": "sustained-shannon",
   "metadata": {},
   "source": [
    "# The `input` function\n",
    "\n",
    "Just as the `print` function displays something on the screen, the `input` function asks the user to give it input.  Whatever the user typed is returned by the function as a string.\n",
    "\n"
   ]
  },
  {
   "cell_type": "code",
   "execution_count": 32,
   "id": "alternate-henry",
   "metadata": {},
   "outputs": [
    {
     "name": "stdout",
     "output_type": "stream",
     "text": [
      "Enter your name: 12345\n"
     ]
    }
   ],
   "source": [
    "# in assignment (=), the right side runs before the left side\n",
    "\n",
    "s = input('Enter your name: ')   "
   ]
  },
  {
   "cell_type": "code",
   "execution_count": 33,
   "id": "accurate-shield",
   "metadata": {},
   "outputs": [
    {
     "name": "stdout",
     "output_type": "stream",
     "text": [
      "12345\n"
     ]
    }
   ],
   "source": [
    "print(s)"
   ]
  },
  {
   "cell_type": "code",
   "execution_count": 34,
   "id": "looking-metallic",
   "metadata": {},
   "outputs": [
    {
     "data": {
      "text/plain": [
       "'1234512345'"
      ]
     },
     "execution_count": 34,
     "metadata": {},
     "output_type": "execute_result"
    }
   ],
   "source": [
    "s+s  # adding a string to itself -- we get s+s, not the numeric s+s"
   ]
  },
  {
   "cell_type": "markdown",
   "id": "numeric-announcement",
   "metadata": {},
   "source": [
    "# Exercise: Greetings, with feeling!\n",
    "\n",
    "1. Ask the user to enter their name, and assign this to `name`.\n",
    "2. Ask the user to enter their current emotional state, to the variable `feeling`.\n",
    "3. Print a greeting to the user acknowledging their feelings."
   ]
  },
  {
   "cell_type": "code",
   "execution_count": 35,
   "id": "continued-instruction",
   "metadata": {},
   "outputs": [
    {
     "name": "stdout",
     "output_type": "stream",
     "text": [
      "Enter your name: Reuven\n",
      "How are you feeling? delighted to be teaching Python\n",
      "Hey, Reuven, good to know you are feeling delighted to be teaching Python.\n"
     ]
    }
   ],
   "source": [
    "name = input('Enter your name: ')\n",
    "feeling = input('How are you feeling? ')\n",
    "\n",
    "print(f'Hey, {name}, good to know you are feeling {feeling}.')"
   ]
  },
  {
   "cell_type": "markdown",
   "id": "sensitive-spencer",
   "metadata": {},
   "source": [
    "# Conditionals — Making decisions\n",
    "\n",
    "- If I want to assign a value to a variable, I use `=`, the assignment operator.\n",
    "- If I want to compare two things, I use `==`, the comparison operator."
   ]
  },
  {
   "cell_type": "code",
   "execution_count": 37,
   "id": "sharp-tampa",
   "metadata": {},
   "outputs": [
    {
     "name": "stdout",
     "output_type": "stream",
     "text": [
      "Enter your name: someone else\n",
      "Hello, someone else.  Nice to meet you!\n"
     ]
    }
   ],
   "source": [
    "name = input('Enter your name: ')\n",
    "\n",
    "if name == 'Reuven':    # if this comparison returns True, then we execute if's body/block\n",
    "    print('Hello, boss!')\n",
    "    print('Nice to see you again!')\n",
    "else:\n",
    "    print(f'Hello, {name}.  Nice to meet you!')"
   ]
  },
  {
   "cell_type": "markdown",
   "id": "administrative-modern",
   "metadata": {},
   "source": [
    "# Exercise: Where do you work?\n",
    "\n",
    "1. Ask the user where they work, and assign to a variable named `company`.\n",
    "2. If the user also works at Cisco, give them a warm greeting.\n",
    "3. If not, then give them an appropriately snarky response."
   ]
  },
  {
   "cell_type": "code",
   "execution_count": 41,
   "id": "textile-tracy",
   "metadata": {},
   "outputs": [
    {
     "name": "stdout",
     "output_type": "stream",
     "text": [
      "Enter your company: Cisco \n",
      "Well, I am sure you are sorta kinda happy where you work.\n"
     ]
    }
   ],
   "source": [
    "company = input('Enter your company: ')\n",
    "\n",
    "if company == 'Cisco':\n",
    "    print('Wow! I must be your colleague!')\n",
    "else:\n",
    "    print('Well, I am sure you are sorta kinda happy where you work.')"
   ]
  },
  {
   "cell_type": "code",
   "execution_count": null,
   "id": "bound-investigation",
   "metadata": {},
   "outputs": [],
   "source": [
    "color = input('Enter your favorite color: ')\n",
    "\n",
    "if color == 'red':\n",
    "    print('Good to know you like red.')\n",
    "    \n",
    "else:\n",
    "    if color == 'blue':\n",
    "        print('I like blue, too')\n",
    "    else:\n",
    "        print('I guess you like something that is neither red nor blue')"
   ]
  }
 ],
 "metadata": {
  "kernelspec": {
   "display_name": "Python 3",
   "language": "python",
   "name": "python3"
  },
  "language_info": {
   "codemirror_mode": {
    "name": "ipython",
    "version": 3
   },
   "file_extension": ".py",
   "mimetype": "text/x-python",
   "name": "python",
   "nbconvert_exporter": "python",
   "pygments_lexer": "ipython3",
   "version": "3.8.6"
  }
 },
 "nbformat": 4,
 "nbformat_minor": 5
}
