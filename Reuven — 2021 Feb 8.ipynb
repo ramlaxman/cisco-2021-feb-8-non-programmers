{
 "cells": [
  {
   "cell_type": "code",
   "execution_count": 4,
   "id": "reasonable-escape",
   "metadata": {},
   "outputs": [
    {
     "name": "stdout",
     "output_type": "stream",
     "text": [
      "Hello, world!!!!\n"
     ]
    }
   ],
   "source": [
    "print('Hello, world!!!!')   # shift+enter == run the code in the current cell"
   ]
  },
  {
   "cell_type": "markdown",
   "id": "adopted-christian",
   "metadata": {},
   "source": [
    "# Exercise: Getting started with Jupyter\n",
    "\n",
    "1. Go to my Jupyter server at http://python.lerner.co.il:8000/\n",
    "2. On that Jupyter home page, use the \"New\" menu on the right side to start a new notebook.\n",
    "3. When the new notebook opens, click on the title and change it to be your name and the date.\n",
    "4. In a cell, use the `print` function to print some text.  Text can be between single quotes ('') or double quotes(\"\") — Python doesn't care, so long as they match."
   ]
  },
  {
   "cell_type": "markdown",
   "id": "worthy-planner",
   "metadata": {},
   "source": [
    "When you're done with the exercise, click the green check mark (bottom left of the \"participants\" panel) to let me know."
   ]
  },
  {
   "cell_type": "markdown",
   "id": "russian-acting",
   "metadata": {},
   "source": [
    "# Agenda\n",
    "\n",
    "1. Basics\n",
    "    - Variables\n",
    "    - Different types are different\n",
    "    - Conditions with `if` / `else`\n",
    "2. Data structures\n",
    "    - Numbers (integers and floats)\n",
    "    - Strings (text)\n",
    "    - Loops -- repeating yourself in code\n",
    "    - Lists and tuples\n",
    "    - Dictionaries\n",
    "    - Files (reading from and writing to text files)\n",
    "3. Functions\n",
    "    - Here, we'll start writing in an IDE (PyCharm)\n",
    "4. Modules\n",
    "    \n"
   ]
  },
  {
   "cell_type": "code",
   "execution_count": 1,
   "id": "cloudy-leeds",
   "metadata": {},
   "outputs": [
    {
     "name": "stdout",
     "output_type": "stream",
     "text": [
      "abcd\n",
      "efgh\n",
      "ijkl\n"
     ]
    }
   ],
   "source": [
    "print('abcd')   # pressing ENTER goes down one line\n",
    "print('efgh')   # pressing ENTER goes down one (another!) line\n",
    "print('ijkl')   # pressing shift + ENTER executes the entire cell"
   ]
  },
  {
   "cell_type": "code",
   "execution_count": 2,
   "id": "streaming-surname",
   "metadata": {},
   "outputs": [
    {
     "name": "stdout",
     "output_type": "stream",
     "text": [
      "2\n"
     ]
    }
   ],
   "source": [
    "print(2)"
   ]
  },
  {
   "cell_type": "code",
   "execution_count": 3,
   "id": "delayed-reach",
   "metadata": {},
   "outputs": [
    {
     "name": "stdout",
     "output_type": "stream",
     "text": [
      "7\n"
     ]
    }
   ],
   "source": [
    "print(2 + 5)"
   ]
  },
  {
   "cell_type": "code",
   "execution_count": 4,
   "id": "heard-vinyl",
   "metadata": {},
   "outputs": [
    {
     "name": "stdout",
     "output_type": "stream",
     "text": [
      "12\n"
     ]
    }
   ],
   "source": [
    "print(3 * 4)  # in programming, we use * for multiplication"
   ]
  },
  {
   "cell_type": "code",
   "execution_count": 5,
   "id": "thousand-princeton",
   "metadata": {},
   "outputs": [
    {
     "name": "stdout",
     "output_type": "stream",
     "text": [
      "14\n"
     ]
    }
   ],
   "source": [
    "print(2 + 3 * 4)  # Python knows the order of operations"
   ]
  },
  {
   "cell_type": "code",
   "execution_count": 6,
   "id": "legal-hawaiian",
   "metadata": {},
   "outputs": [
    {
     "name": "stdout",
     "output_type": "stream",
     "text": [
      "8\n"
     ]
    }
   ],
   "source": [
    "# In programming, we have pronouns!\n",
    "# they are known as \"variables\"\n",
    "\n",
    "# Variables have names, and those names DO NOT have quotes around them\n",
    "# I can assign to a variable (i.e., give it a value with the = sign)\n",
    "\n",
    "x = 5    # assigns 5 to the variable x... and since x didn't exist before, now it does!\n",
    "y = 3    # assigning 3 to the variable y... it's created, too!\n",
    "\n",
    "print(x + y)"
   ]
  },
  {
   "cell_type": "code",
   "execution_count": 7,
   "id": "sunset-damage",
   "metadata": {},
   "outputs": [
    {
     "name": "stdout",
     "output_type": "stream",
     "text": [
      "Hello, Reuven\n"
     ]
    }
   ],
   "source": [
    "name = 'Reuven'\n",
    "\n",
    "print('Hello, ' + name)"
   ]
  },
  {
   "cell_type": "code",
   "execution_count": 8,
   "id": "innocent-interim",
   "metadata": {},
   "outputs": [
    {
     "data": {
      "text/plain": [
       "'ReuvenReuven'"
      ]
     },
     "execution_count": 8,
     "metadata": {},
     "output_type": "execute_result"
    }
   ],
   "source": [
    "name + name"
   ]
  },
  {
   "cell_type": "code",
   "execution_count": 9,
   "id": "opening-thong",
   "metadata": {},
   "outputs": [
    {
     "ename": "TypeError",
     "evalue": "unsupported operand type(s) for +: 'int' and 'str'",
     "output_type": "error",
     "traceback": [
      "\u001b[0;31m---------------------------------------------------------------------------\u001b[0m",
      "\u001b[0;31mTypeError\u001b[0m                                 Traceback (most recent call last)",
      "\u001b[0;32m<ipython-input-9-95c0e73ce86a>\u001b[0m in \u001b[0;36m<module>\u001b[0;34m\u001b[0m\n\u001b[0;32m----> 1\u001b[0;31m \u001b[0mx\u001b[0m \u001b[0;34m+\u001b[0m \u001b[0mname\u001b[0m\u001b[0;34m\u001b[0m\u001b[0;34m\u001b[0m\u001b[0m\n\u001b[0m",
      "\u001b[0;31mTypeError\u001b[0m: unsupported operand type(s) for +: 'int' and 'str'"
     ]
    }
   ],
   "source": [
    "x + name   "
   ]
  },
  {
   "cell_type": "markdown",
   "id": "referenced-native",
   "metadata": {},
   "source": [
    "# Exercise: Greeting yourself\n",
    "\n",
    "1. Assign your name (a text string) to the variable `name`.\n",
    "2. Print a greeting to yourself.\n",
    "3. How can you print a greeting that ends with a `.`?"
   ]
  },
  {
   "cell_type": "code",
   "execution_count": null,
   "id": "finnish-section",
   "metadata": {},
   "outputs": [],
   "source": [
    "# the = sign in Python means: Assign the value on the right to the name on the left\n",
    "the_variable_name = 'the variable value'"
   ]
  },
  {
   "cell_type": "code",
   "execution_count": 10,
   "id": "organic-sleeve",
   "metadata": {},
   "outputs": [
    {
     "name": "stdout",
     "output_type": "stream",
     "text": [
      "2445\n"
     ]
    }
   ],
   "source": [
    "a = 100\n",
    "b = 2345\n",
    "\n",
    "print(a + b)"
   ]
  },
  {
   "cell_type": "code",
   "execution_count": 11,
   "id": "cognitive-focus",
   "metadata": {},
   "outputs": [
    {
     "data": {
      "text/plain": [
       "1887"
      ]
     },
     "execution_count": 11,
     "metadata": {},
     "output_type": "execute_result"
    }
   ],
   "source": [
    "a = 999\n",
    "b = 888\n",
    "\n",
    "a + b"
   ]
  },
  {
   "cell_type": "code",
   "execution_count": 12,
   "id": "collective-active",
   "metadata": {},
   "outputs": [
    {
     "name": "stdout",
     "output_type": "stream",
     "text": [
      "Hello, Reuven\n"
     ]
    }
   ],
   "source": [
    "name = 'Reuven'\n",
    "print('Hello, ' + name)"
   ]
  },
  {
   "cell_type": "code",
   "execution_count": 13,
   "id": "ambient-programmer",
   "metadata": {},
   "outputs": [
    {
     "name": "stdout",
     "output_type": "stream",
     "text": [
      "Hello,Reuven\n"
     ]
    }
   ],
   "source": [
    "print('Hello,' + name)"
   ]
  },
  {
   "cell_type": "code",
   "execution_count": 14,
   "id": "magnetic-venture",
   "metadata": {},
   "outputs": [
    {
     "name": "stdout",
     "output_type": "stream",
     "text": [
      "Hello, Reuven.\n"
     ]
    }
   ],
   "source": [
    "print('Hello, ' + name + '.')"
   ]
  },
  {
   "cell_type": "markdown",
   "id": "sonic-spread",
   "metadata": {},
   "source": [
    "# Variable names\n",
    "\n",
    "They can contain any combination of:\n",
    "\n",
    "- Letters (uppercase and lowercase are *different*)\n",
    "- Numbers\n",
    "- Underscores (`_`)\n",
    "\n",
    "But:\n",
    "\n",
    "- The name must start with a letter or underscore\n",
    "- It's traditional only to use lowercase letters\n",
    "- If the name starts with an underscore, Python sees it as \"private,\" not for others to use"
   ]
  },
  {
   "cell_type": "code",
   "execution_count": null,
   "id": "conditional-isaac",
   "metadata": {},
   "outputs": [],
   "source": []
  },
  {
   "cell_type": "code",
   "execution_count": 17,
   "id": "thorough-range",
   "metadata": {},
   "outputs": [
    {
     "name": "stdout",
     "output_type": "stream",
     "text": [
      "Hello, Reuven, with a favorite number 72!\n"
     ]
    }
   ],
   "source": [
    "name = 'Reuven'\n",
    "favorite_number = 72\n",
    "\n",
    "# f-strings (format strings) to the rescue!\n",
    "# they allow us to mix and match any data type when creating a string\n",
    "\n",
    "# Put an f before the opening quote, and {} suddenly are replaced with their values\n",
    "print(f'Hello, {name}, with a favorite number {favorite_number}!')"
   ]
  },
  {
   "cell_type": "markdown",
   "id": "hybrid-impression",
   "metadata": {},
   "source": [
    "# Exercise: Another greeting (with f-strings)\n",
    "\n",
    "1. Define a variable, `name`, with the text string of your name.\n",
    "2. Define another variable, `birthyear`, to be the year in which you were born.\n",
    "3. Define a third variable, `age_this_year`, to be how old you'll turn this year, calculated based on `birthyear`.\n",
    "4. Print a message to the user, saying how old they'll turn this year.  Use an f-string to do this."
   ]
  },
  {
   "cell_type": "code",
   "execution_count": 18,
   "id": "promotional-neighbor",
   "metadata": {},
   "outputs": [
    {
     "name": "stdout",
     "output_type": "stream",
     "text": [
      "150\n"
     ]
    }
   ],
   "source": [
    "x = 100\n",
    "y = 50\n",
    "\n",
    "print(x + y)"
   ]
  },
  {
   "cell_type": "code",
   "execution_count": 19,
   "id": "mediterranean-practitioner",
   "metadata": {},
   "outputs": [
    {
     "name": "stdout",
     "output_type": "stream",
     "text": [
      "50\n"
     ]
    }
   ],
   "source": [
    "print(x - y)"
   ]
  },
  {
   "cell_type": "code",
   "execution_count": 20,
   "id": "literary-seafood",
   "metadata": {},
   "outputs": [],
   "source": [
    "z = x - y  # defines z to be a variable, whose value is the result of x-y"
   ]
  },
  {
   "cell_type": "code",
   "execution_count": 21,
   "id": "instructional-seventh",
   "metadata": {},
   "outputs": [
    {
     "name": "stdout",
     "output_type": "stream",
     "text": [
      "50\n"
     ]
    }
   ],
   "source": [
    "print(z)"
   ]
  },
  {
   "cell_type": "code",
   "execution_count": 22,
   "id": "selective-combination",
   "metadata": {},
   "outputs": [
    {
     "name": "stdout",
     "output_type": "stream",
     "text": [
      "Hello, Reuven.  You will turn 51 this year!\n"
     ]
    }
   ],
   "source": [
    "name = 'Reuven'\n",
    "birthyear = 1970\n",
    "age_this_year = 2021 - birthyear\n",
    "print(f'Hello, {name}.  You will turn {age_this_year} this year!')"
   ]
  },
  {
   "cell_type": "code",
   "execution_count": 23,
   "id": "seven-disposal",
   "metadata": {},
   "outputs": [
    {
     "data": {
      "text/plain": [
       "'1020'"
      ]
     },
     "execution_count": 23,
     "metadata": {},
     "output_type": "execute_result"
    }
   ],
   "source": [
    "x = '10'  # string!\n",
    "y = '20'  # string!\n",
    "\n",
    "x + y"
   ]
  },
  {
   "cell_type": "code",
   "execution_count": 24,
   "id": "medium-purchase",
   "metadata": {},
   "outputs": [
    {
     "ename": "TypeError",
     "evalue": "unsupported operand type(s) for -: 'str' and 'str'",
     "output_type": "error",
     "traceback": [
      "\u001b[0;31m---------------------------------------------------------------------------\u001b[0m",
      "\u001b[0;31mTypeError\u001b[0m                                 Traceback (most recent call last)",
      "\u001b[0;32m<ipython-input-24-86286c876b5e>\u001b[0m in \u001b[0;36m<module>\u001b[0;34m\u001b[0m\n\u001b[0;32m----> 1\u001b[0;31m \u001b[0mx\u001b[0m \u001b[0;34m-\u001b[0m \u001b[0my\u001b[0m\u001b[0;34m\u001b[0m\u001b[0;34m\u001b[0m\u001b[0m\n\u001b[0m",
      "\u001b[0;31mTypeError\u001b[0m: unsupported operand type(s) for -: 'str' and 'str'"
     ]
    }
   ],
   "source": [
    "x - y"
   ]
  },
  {
   "cell_type": "code",
   "execution_count": 26,
   "id": "subjective-cemetery",
   "metadata": {},
   "outputs": [
    {
     "data": {
      "text/plain": [
       "30"
      ]
     },
     "execution_count": 26,
     "metadata": {},
     "output_type": "execute_result"
    }
   ],
   "source": [
    "x = 10   # no quotes -- numbers\n",
    "y = 20  #  no quotes -- numbers\n",
    "\n",
    "x + y  # in Jupyter, the final line of a cell, if it returns a value, shows it on the screen"
   ]
  },
  {
   "cell_type": "code",
   "execution_count": 27,
   "id": "computational-resident",
   "metadata": {},
   "outputs": [
    {
     "data": {
      "text/plain": [
       "10"
      ]
     },
     "execution_count": 27,
     "metadata": {},
     "output_type": "execute_result"
    }
   ],
   "source": [
    "x"
   ]
  },
  {
   "cell_type": "code",
   "execution_count": 28,
   "id": "objective-behalf",
   "metadata": {},
   "outputs": [
    {
     "data": {
      "text/plain": [
       "20"
      ]
     },
     "execution_count": 28,
     "metadata": {},
     "output_type": "execute_result"
    }
   ],
   "source": [
    "y"
   ]
  },
  {
   "cell_type": "code",
   "execution_count": 29,
   "id": "presidential-costs",
   "metadata": {},
   "outputs": [
    {
     "data": {
      "text/plain": [
       "200"
      ]
     },
     "execution_count": 29,
     "metadata": {},
     "output_type": "execute_result"
    }
   ],
   "source": [
    "x*y"
   ]
  },
  {
   "cell_type": "code",
   "execution_count": null,
   "id": "underlying-dairy",
   "metadata": {},
   "outputs": [],
   "source": []
  },
  {
   "cell_type": "markdown",
   "id": "passing-cambridge",
   "metadata": {},
   "source": [
    "# The `input` function\n",
    "\n",
    "Just as the `print` function displays something on the screen, the `input` function asks the user to give it input.  Whatever the user typed is returned by the function as a string.\n",
    "\n"
   ]
  },
  {
   "cell_type": "code",
   "execution_count": 32,
   "id": "above-limit",
   "metadata": {},
   "outputs": [
    {
     "name": "stdout",
     "output_type": "stream",
     "text": [
      "Enter your name: 12345\n"
     ]
    }
   ],
   "source": [
    "# in assignment (=), the right side runs before the left side\n",
    "\n",
    "s = input('Enter your name: ')   "
   ]
  },
  {
   "cell_type": "code",
   "execution_count": 33,
   "id": "hispanic-surrey",
   "metadata": {},
   "outputs": [
    {
     "name": "stdout",
     "output_type": "stream",
     "text": [
      "12345\n"
     ]
    }
   ],
   "source": [
    "print(s)"
   ]
  },
  {
   "cell_type": "code",
   "execution_count": 34,
   "id": "adjustable-bristol",
   "metadata": {},
   "outputs": [
    {
     "data": {
      "text/plain": [
       "'1234512345'"
      ]
     },
     "execution_count": 34,
     "metadata": {},
     "output_type": "execute_result"
    }
   ],
   "source": [
    "s+s  # adding a string to itself -- we get s+s, not the numeric s+s"
   ]
  },
  {
   "cell_type": "markdown",
   "id": "configured-improvement",
   "metadata": {},
   "source": [
    "# Exercise: Greetings, with feeling!\n",
    "\n",
    "1. Ask the user to enter their name, and assign this to `name`.\n",
    "2. Ask the user to enter their current emotional state, to the variable `feeling`.\n",
    "3. Print a greeting to the user acknowledging their feelings."
   ]
  },
  {
   "cell_type": "code",
   "execution_count": 35,
   "id": "illegal-printing",
   "metadata": {},
   "outputs": [
    {
     "name": "stdout",
     "output_type": "stream",
     "text": [
      "Enter your name: Reuven\n",
      "How are you feeling? delighted to be teaching Python\n",
      "Hey, Reuven, good to know you are feeling delighted to be teaching Python.\n"
     ]
    }
   ],
   "source": [
    "name = input('Enter your name: ')\n",
    "feeling = input('How are you feeling? ')\n",
    "\n",
    "print(f'Hey, {name}, good to know you are feeling {feeling}.')"
   ]
  },
  {
   "cell_type": "markdown",
   "id": "civil-syndrome",
   "metadata": {},
   "source": [
    "# Conditionals — Making decisions\n",
    "\n",
    "- If I want to assign a value to a variable, I use `=`, the assignment operator.\n",
    "- If I want to compare two things, I use `==`, the comparison operator."
   ]
  },
  {
   "cell_type": "code",
   "execution_count": 37,
   "id": "respective-billy",
   "metadata": {},
   "outputs": [
    {
     "name": "stdout",
     "output_type": "stream",
     "text": [
      "Enter your name: someone else\n",
      "Hello, someone else.  Nice to meet you!\n"
     ]
    }
   ],
   "source": [
    "name = input('Enter your name: ')\n",
    "\n",
    "if name == 'Reuven':    # if this comparison returns True, then we execute if's body/block\n",
    "    print('Hello, boss!')\n",
    "    print('Nice to see you again!')\n",
    "else:\n",
    "    print(f'Hello, {name}.  Nice to meet you!')"
   ]
  },
  {
   "cell_type": "markdown",
   "id": "eastern-conditions",
   "metadata": {},
   "source": [
    "# Exercise: Where do you work?\n",
    "\n",
    "1. Ask the user where they work, and assign to a variable named `company`.\n",
    "2. If the user also works at Cisco, give them a warm greeting.\n",
    "3. If not, then give them an appropriately snarky response."
   ]
  },
  {
   "cell_type": "code",
   "execution_count": 41,
   "id": "stock-juvenile",
   "metadata": {},
   "outputs": [
    {
     "name": "stdout",
     "output_type": "stream",
     "text": [
      "Enter your company: Cisco \n",
      "Well, I am sure you are sorta kinda happy where you work.\n"
     ]
    }
   ],
   "source": [
    "company = input('Enter your company: ')\n",
    "\n",
    "if company == 'Cisco':\n",
    "    print('Wow! I must be your colleague!')\n",
    "else:\n",
    "    print('Well, I am sure you are sorta kinda happy where you work.')"
   ]
  },
  {
   "cell_type": "code",
   "execution_count": 43,
   "id": "respective-major",
   "metadata": {},
   "outputs": [
    {
     "name": "stdout",
     "output_type": "stream",
     "text": [
      "Enter your favorite color: green\n",
      "I guess you like something that is neither red nor blue\n"
     ]
    }
   ],
   "source": [
    "# the logical way, with what we know\n",
    "\n",
    "color = input('Enter your favorite color: ')\n",
    "\n",
    "if color == 'red':\n",
    "    print('Good to know you like red.')\n",
    "    \n",
    "else:\n",
    "    if color == 'blue':\n",
    "        print('I like blue, too')\n",
    "    else:\n",
    "        print('I guess you like something that is neither red nor blue')"
   ]
  },
  {
   "cell_type": "code",
   "execution_count": 44,
   "id": "satellite-camping",
   "metadata": {},
   "outputs": [
    {
     "name": "stdout",
     "output_type": "stream",
     "text": [
      "Enter your favorite color: green\n",
      "I guess you like something that is neither red nor blue\n"
     ]
    }
   ],
   "source": [
    "# the better way\n",
    "\n",
    "color = input('Enter your favorite color: ')\n",
    "\n",
    "if color == 'red':\n",
    "    print('Good to know you like red.')\n",
    "    \n",
    "elif color == 'blue':\n",
    "    print('I like blue, too')\n",
    "\n",
    "else:\n",
    "    print('I guess you like something that is neither red nor blue')"
   ]
  },
  {
   "cell_type": "code",
   "execution_count": 45,
   "id": "absent-headset",
   "metadata": {},
   "outputs": [
    {
     "name": "stdout",
     "output_type": "stream",
     "text": [
      "Enter your favorite color: green\n",
      "It is a great color!\n"
     ]
    }
   ],
   "source": [
    "# the better way\n",
    "\n",
    "color = input('Enter your favorite color: ')\n",
    "\n",
    "if color == 'red':\n",
    "    print('Good to know you like red.')\n",
    "    \n",
    "elif color == 'blue':\n",
    "    print('I like blue, too')\n",
    "    \n",
    "elif color == 'green':\n",
    "    print('It is a great color!')\n",
    "\n",
    "else:\n",
    "    print('I guess you like something that is neither red nor blue')"
   ]
  },
  {
   "cell_type": "code",
   "execution_count": 46,
   "id": "minus-movement",
   "metadata": {},
   "outputs": [
    {
     "name": "stdout",
     "output_type": "stream",
     "text": [
      "Enter your favorite color: blue\n",
      "I like blue, too\n"
     ]
    }
   ],
   "source": [
    "# the better way\n",
    "\n",
    "color = input('Enter your favorite color: ')\n",
    "\n",
    "if color == 'red':\n",
    "    print('Good to know you like red.')\n",
    "    \n",
    "elif color == 'blue':\n",
    "    print('I like blue, too')\n",
    "    \n",
    "elif color == 'green':\n",
    "    print('It is a great color!')\n",
    "    \n",
    "elif color == 'blue':\n",
    "    print('EVIL SECOND BLUE MATCH!')\n",
    "\n",
    "else:\n",
    "    print('I guess you like something that is neither red nor blue')"
   ]
  },
  {
   "cell_type": "markdown",
   "id": "external-reggae",
   "metadata": {},
   "source": [
    "# Exercise: Current and former company\n",
    "\n",
    "1. Ask the user where they worked.\n",
    "2. If they work at Cisco, then congratulate them on being a colleague.\n",
    "3. If they worked at your previous job, then say you *used* to be their colleague.\n",
    "4. Otherwise, say something snarky."
   ]
  },
  {
   "cell_type": "code",
   "execution_count": 49,
   "id": "labeled-rotation",
   "metadata": {},
   "outputs": [
    {
     "name": "stdout",
     "output_type": "stream",
     "text": [
      "Where do you work? Google\n",
      "I have never heard of that sad company, Google.\n"
     ]
    }
   ],
   "source": [
    "company = input('Where do you work? ')\n",
    "\n",
    "if company == 'Cisco':\n",
    "    print('You work at Cisco, too? Wow! We are colleagues!')\n",
    "elif company == 'Time Warner':\n",
    "    print('I used to work there... once upon a time...')\n",
    "else:\n",
    "    print(f'I have never heard of that sad company, {company}.')"
   ]
  },
  {
   "cell_type": "code",
   "execution_count": 52,
   "id": "immune-honduras",
   "metadata": {},
   "outputs": [
    {
     "name": "stdout",
     "output_type": "stream",
     "text": [
      "Hi, I'm Reuven\n"
     ]
    }
   ],
   "source": [
    "s = 'Hi, I\\'m Reuven'   # \\' means that the ' is not ending/starting the string, but literal\n",
    "print(s)"
   ]
  },
  {
   "cell_type": "code",
   "execution_count": 53,
   "id": "celtic-absence",
   "metadata": {},
   "outputs": [
    {
     "data": {
      "text/plain": [
       "\"Hi, I'm Reuven\""
      ]
     },
     "execution_count": 53,
     "metadata": {},
     "output_type": "execute_result"
    }
   ],
   "source": [
    "s"
   ]
  },
  {
   "cell_type": "markdown",
   "id": "random-australia",
   "metadata": {},
   "source": [
    "# Boolean logic\n",
    "\n",
    "- X and Y are true: We represent in Python with `and`\n",
    "- X or Y is true: We represent in Python with `or`\n",
    "- not X: We represent in Python with `not`"
   ]
  },
  {
   "cell_type": "code",
   "execution_count": 54,
   "id": "challenging-graduation",
   "metadata": {},
   "outputs": [
    {
     "data": {
      "text/plain": [
       "True"
      ]
     },
     "execution_count": 54,
     "metadata": {},
     "output_type": "execute_result"
    }
   ],
   "source": [
    "x = True\n",
    "y = True\n",
    "\n",
    "x and y  # if both the left and right sides are True, this returns True"
   ]
  },
  {
   "cell_type": "code",
   "execution_count": 55,
   "id": "perfect-guess",
   "metadata": {},
   "outputs": [
    {
     "name": "stdout",
     "output_type": "stream",
     "text": [
      "Both x and y are True!\n"
     ]
    }
   ],
   "source": [
    "if x and y:\n",
    "    print('Both x and y are True!')"
   ]
  },
  {
   "cell_type": "code",
   "execution_count": 56,
   "id": "cooperative-square",
   "metadata": {},
   "outputs": [
    {
     "data": {
      "text/plain": [
       "True"
      ]
     },
     "execution_count": 56,
     "metadata": {},
     "output_type": "execute_result"
    }
   ],
   "source": [
    "x = 10\n",
    "y = 20\n",
    "\n",
    "x == 10 and y == 20"
   ]
  },
  {
   "cell_type": "code",
   "execution_count": 57,
   "id": "sound-relative",
   "metadata": {},
   "outputs": [
    {
     "data": {
      "text/plain": [
       "False"
      ]
     },
     "execution_count": 57,
     "metadata": {},
     "output_type": "execute_result"
    }
   ],
   "source": [
    "x == 55 and y == 20"
   ]
  },
  {
   "cell_type": "code",
   "execution_count": 59,
   "id": "saving-puzzle",
   "metadata": {},
   "outputs": [
    {
     "data": {
      "text/plain": [
       "True"
      ]
     },
     "execution_count": 59,
     "metadata": {},
     "output_type": "execute_result"
    }
   ],
   "source": [
    "x = 10\n",
    "y = 20\n",
    "\n",
    "x == 10 or y == 55  # one value is True, so the entire \"or\" expression is True"
   ]
  },
  {
   "cell_type": "code",
   "execution_count": 60,
   "id": "unlimited-break",
   "metadata": {},
   "outputs": [
    {
     "data": {
      "text/plain": [
       "True"
      ]
     },
     "execution_count": 60,
     "metadata": {},
     "output_type": "execute_result"
    }
   ],
   "source": [
    "x == 999 or y == 20  # one value is True, so the entire \"or\" expression is True"
   ]
  },
  {
   "cell_type": "code",
   "execution_count": 61,
   "id": "surgical-emerald",
   "metadata": {},
   "outputs": [
    {
     "name": "stdout",
     "output_type": "stream",
     "text": [
      "One of them is what you want\n"
     ]
    }
   ],
   "source": [
    "if x == 999 or y == 20:\n",
    "    print('One of them is what you want')"
   ]
  },
  {
   "cell_type": "code",
   "execution_count": 62,
   "id": "harmful-ukraine",
   "metadata": {},
   "outputs": [
    {
     "data": {
      "text/plain": [
       "False"
      ]
     },
     "execution_count": 62,
     "metadata": {},
     "output_type": "execute_result"
    }
   ],
   "source": [
    "not True"
   ]
  },
  {
   "cell_type": "code",
   "execution_count": 63,
   "id": "equivalent-indian",
   "metadata": {},
   "outputs": [
    {
     "data": {
      "text/plain": [
       "True"
      ]
     },
     "execution_count": 63,
     "metadata": {},
     "output_type": "execute_result"
    }
   ],
   "source": [
    "not False"
   ]
  },
  {
   "cell_type": "code",
   "execution_count": 65,
   "id": "pointed-writer",
   "metadata": {},
   "outputs": [
    {
     "name": "stdout",
     "output_type": "stream",
     "text": [
      "x is not 20\n"
     ]
    }
   ],
   "source": [
    "x = 10\n",
    "\n",
    "if not x == 20:\n",
    "    print('x is not 20')"
   ]
  },
  {
   "cell_type": "code",
   "execution_count": 66,
   "id": "elementary-wrong",
   "metadata": {},
   "outputs": [
    {
     "name": "stdout",
     "output_type": "stream",
     "text": [
      "One of them is what you want\n"
     ]
    }
   ],
   "source": [
    "if (x == 999) or (y == 20):\n",
    "    print('One of them is what you want')"
   ]
  },
  {
   "cell_type": "code",
   "execution_count": 68,
   "id": "coral-mailing",
   "metadata": {},
   "outputs": [
    {
     "name": "stdout",
     "output_type": "stream",
     "text": [
      "One of them is what you want\n"
     ]
    }
   ],
   "source": [
    "# If we put parentheses around an expression, we have much more flexibility regarding\n",
    "# new lines and indentation\n",
    "\n",
    "if (x == 999 or    # Now we can use more than one line!\n",
    "    y == 20):\n",
    "    print('One of them is what you want')"
   ]
  },
  {
   "cell_type": "code",
   "execution_count": 69,
   "id": "streaming-colorado",
   "metadata": {},
   "outputs": [
    {
     "name": "stdout",
     "output_type": "stream",
     "text": [
      "One of them is what you want\n"
     ]
    }
   ],
   "source": [
    "# If we put parentheses around an expression, we have much more flexibility regarding\n",
    "# new lines and indentation\n",
    "\n",
    "if (x == 999 or    # Now we can use more than one line!\n",
    "    y == 20 or\n",
    "    y == 25 or\n",
    "    y == 'abcd'):\n",
    "    print('One of them is what you want')"
   ]
  },
  {
   "cell_type": "markdown",
   "id": "diagnostic-platinum",
   "metadata": {},
   "source": [
    "# Exercise: Name and company\n",
    "\n",
    "1. Ask the user to enter their name, and assign it to a variable, `name`.\n",
    "2. Ask the user to enter their company, and assign it to a variable, `company`.\n",
    "3. If the name and company are the same, then say it must be you!\n",
    "4. If the name is the same (but not the company), say they have your name at a rival.\n",
    "5. If the company is the same (but not the name), then say you're colleagues.\n",
    "6. If neither is the same, say something snarky."
   ]
  },
  {
   "cell_type": "markdown",
   "id": "racial-edwards",
   "metadata": {},
   "source": [
    "# Strategy\n",
    "\n",
    "1. Ask two questions, and assign to two variables (`name` and `company`)\n",
    "2. Four different possibilities:\n",
    "    - Both `name` and `company` match what we want (`and`) \n",
    "    - `name` matches, but `company` doesn't (just have to check if `name` matches)\n",
    "    - `company` matches, but `name` doesn't (just have to check if `company` matches)\n",
    "    - `else` can be if neither matches\n",
    "    "
   ]
  },
  {
   "cell_type": "code",
   "execution_count": 71,
   "id": "portuguese-death",
   "metadata": {},
   "outputs": [
    {
     "name": "stdout",
     "output_type": "stream",
     "text": [
      "Enter your name: asdfsafaf\n",
      "Enter your company: asdfasfafa Inc\n",
      "Oh, you work at asdfasfafa Inc? Oh, well.\n"
     ]
    }
   ],
   "source": [
    "name = input('Enter your name: ')\n",
    "company = input('Enter your company: ')\n",
    "\n",
    "if name == 'Reuven' and company == 'Cisco':\n",
    "    print('Hey, you must be me!')\n",
    "    \n",
    "elif name == 'Reuven':   # implicitly, company is not 'Cisco'\n",
    "    print('You have my name, but work for a competitor!')\n",
    "\n",
    "elif company == 'Cisco':   # implicitly, name is not 'Reuven'\n",
    "    print('You are my colleague, but have another name')\n",
    "    \n",
    "else:\n",
    "    print(f'Oh, you work at {company}? Oh, well.')"
   ]
  },
  {
   "cell_type": "markdown",
   "id": "static-discussion",
   "metadata": {},
   "source": [
    "# Comparison operators\n",
    "\n",
    "All of these take two arguments (one on the left, one on the right) and return `True` or `False`. So we can use them in an `if` statement, but we can also string them together inside of a larger, more complex logical condition with `and`, `or`, and `not`:\n",
    "\n",
    "- `==` # are these things equal?  a == b\n",
    "- `!=` # are these things unequal?   a != b \n",
    "- `<`  # less than\n",
    "- `<=` # less than or equal\n",
    "- `>`  # greater than\n",
    "- `>=` # greater than or equal"
   ]
  },
  {
   "cell_type": "code",
   "execution_count": 72,
   "id": "thorough-seven",
   "metadata": {},
   "outputs": [
    {
     "data": {
      "text/plain": [
       "False"
      ]
     },
     "execution_count": 72,
     "metadata": {},
     "output_type": "execute_result"
    }
   ],
   "source": [
    "10 < 5"
   ]
  },
  {
   "cell_type": "code",
   "execution_count": 73,
   "id": "informed-tennessee",
   "metadata": {},
   "outputs": [
    {
     "data": {
      "text/plain": [
       "True"
      ]
     },
     "execution_count": 73,
     "metadata": {},
     "output_type": "execute_result"
    }
   ],
   "source": [
    "5 < 10"
   ]
  },
  {
   "cell_type": "code",
   "execution_count": 75,
   "id": "accepted-siemens",
   "metadata": {},
   "outputs": [
    {
     "data": {
      "text/plain": [
       "False"
      ]
     },
     "execution_count": 75,
     "metadata": {},
     "output_type": "execute_result"
    }
   ],
   "source": [
    "'hello' < 'goodbye'  # with text strings, < and > work alphabetically"
   ]
  },
  {
   "cell_type": "code",
   "execution_count": 76,
   "id": "related-international",
   "metadata": {},
   "outputs": [
    {
     "data": {
      "text/plain": [
       "True"
      ]
     },
     "execution_count": 76,
     "metadata": {},
     "output_type": "execute_result"
    }
   ],
   "source": [
    "'ab' < 'abc'"
   ]
  },
  {
   "cell_type": "code",
   "execution_count": 77,
   "id": "moved-property",
   "metadata": {},
   "outputs": [
    {
     "data": {
      "text/plain": [
       "True"
      ]
     },
     "execution_count": 77,
     "metadata": {},
     "output_type": "execute_result"
    }
   ],
   "source": [
    "'goodbye' < 'hello'"
   ]
  },
  {
   "cell_type": "markdown",
   "id": "attractive-arlington",
   "metadata": {},
   "source": [
    "# Exercise: Which word comes first?\n",
    "\n",
    "1. Ask the user to enter two words, and assign them into two variables, `first` and `second`.\n",
    "2. Use `if`/`elif`/`else` to tell us:\n",
    "    - `first` and `second` are the same\n",
    "    - `first` comes before `second` alphabetically\n",
    "    - `second` comes before `first` alphabetically\n",
    "    \n",
    "Only use lowercase letters! (Or if you finish, and want to amuse yourself, use them!)"
   ]
  },
  {
   "cell_type": "markdown",
   "id": "disturbed-pension",
   "metadata": {},
   "source": [
    "# Strategy\n",
    "\n",
    "1. Ask the user to enter a value for `first`\n",
    "2. Ask the user to enter a value for `second`\n",
    "3. Consider:\n",
    "    - Does `first` come before `second`?  (Compare them with `<`)\n",
    "    - Does `second` come before `first`? (Compare with `<`)\n",
    "    - If neither of the above is true, then we can assume they're equal."
   ]
  },
  {
   "cell_type": "code",
   "execution_count": 80,
   "id": "fabulous-implementation",
   "metadata": {},
   "outputs": [
    {
     "name": "stdout",
     "output_type": "stream",
     "text": [
      "Enter first word: persimmon\n",
      "Enter second word: persimmon\n",
      "persimmon and persimmon are the same!\n"
     ]
    }
   ],
   "source": [
    "first = input('Enter first word: ')\n",
    "second = input('Enter second word: ')\n",
    "\n",
    "if first < second:\n",
    "    print(f'{first} comes before {second} in the dictionary')\n",
    "elif first > second:\n",
    "    print(f'{second} comes before {first} in the dictionary')\n",
    "else:\n",
    "    print(f'{first} and {second} are the same!')"
   ]
  },
  {
   "cell_type": "code",
   "execution_count": 81,
   "id": "color-coverage",
   "metadata": {},
   "outputs": [
    {
     "name": "stdout",
     "output_type": "stream",
     "text": [
      "10 is less than 50\n",
      "10 is less than 100\n",
      "10 is less than 1000\n"
     ]
    }
   ],
   "source": [
    "x = 10\n",
    "\n",
    "if x < 50:\n",
    "    print(f'{x} is less than 50')\n",
    "    \n",
    "if x < 100:\n",
    "    print(f'{x} is less than 100')\n",
    "    \n",
    "if x < 1000:\n",
    "    print(f'{x} is less than 1000')\n",
    "    "
   ]
  },
  {
   "cell_type": "code",
   "execution_count": 82,
   "id": "ahead-shade",
   "metadata": {},
   "outputs": [
    {
     "ename": "TypeError",
     "evalue": "unsupported operand type(s) for +: 'int' and 'str'",
     "output_type": "error",
     "traceback": [
      "\u001b[0;31m---------------------------------------------------------------------------\u001b[0m",
      "\u001b[0;31mTypeError\u001b[0m                                 Traceback (most recent call last)",
      "\u001b[0;32m<ipython-input-82-491c7670e4c2>\u001b[0m in \u001b[0;36m<module>\u001b[0;34m\u001b[0m\n\u001b[1;32m      2\u001b[0m \u001b[0my\u001b[0m \u001b[0;34m=\u001b[0m \u001b[0;34m'20'\u001b[0m\u001b[0;34m\u001b[0m\u001b[0;34m\u001b[0m\u001b[0m\n\u001b[1;32m      3\u001b[0m \u001b[0;34m\u001b[0m\u001b[0m\n\u001b[0;32m----> 4\u001b[0;31m \u001b[0mx\u001b[0m \u001b[0;34m+\u001b[0m \u001b[0my\u001b[0m\u001b[0;34m\u001b[0m\u001b[0;34m\u001b[0m\u001b[0m\n\u001b[0m",
      "\u001b[0;31mTypeError\u001b[0m: unsupported operand type(s) for +: 'int' and 'str'"
     ]
    }
   ],
   "source": [
    "x = 10\n",
    "y = '20'\n",
    "\n",
    "x + y"
   ]
  },
  {
   "cell_type": "markdown",
   "id": "suspected-alarm",
   "metadata": {},
   "source": [
    "# Data structures\n",
    "- `True` and `False`\n",
    "- `int` and `float`\n",
    "- `str` (strings)\n",
    "- `list` (and `tuple`)\n",
    "- `dict` (dictionaries)\n",
    "- files -- reading froma and writing to\n"
   ]
  },
  {
   "cell_type": "markdown",
   "id": "mexican-vegetable",
   "metadata": {},
   "source": [
    "# Why do we need data structures?"
   ]
  },
  {
   "cell_type": "code",
   "execution_count": 83,
   "id": "manufactured-seventh",
   "metadata": {},
   "outputs": [
    {
     "data": {
      "text/plain": [
       "5"
      ]
     },
     "execution_count": 83,
     "metadata": {},
     "output_type": "execute_result"
    }
   ],
   "source": [
    "2 + 3"
   ]
  },
  {
   "cell_type": "markdown",
   "id": "affiliated-editing",
   "metadata": {},
   "source": [
    "# Everything in Python has a type!\n",
    "\n",
    "Every single piece of data has a \"type,\" meaning a data structure \"class\" that describes its capabilities.  Once you know what type of data you have, you know what that data can do."
   ]
  },
  {
   "cell_type": "code",
   "execution_count": 84,
   "id": "unknown-astronomy",
   "metadata": {},
   "outputs": [
    {
     "data": {
      "text/plain": [
       "'abcdefgh'"
      ]
     },
     "execution_count": 84,
     "metadata": {},
     "output_type": "execute_result"
    }
   ],
   "source": [
    "s = 'abcd'\n",
    "t = 'efgh'\n",
    "\n",
    "s + t"
   ]
  },
  {
   "cell_type": "code",
   "execution_count": 85,
   "id": "understanding-catalyst",
   "metadata": {},
   "outputs": [
    {
     "data": {
      "text/plain": [
       "str"
      ]
     },
     "execution_count": 85,
     "metadata": {},
     "output_type": "execute_result"
    }
   ],
   "source": [
    "# You can always find out the type of some data by running the \"type\" function on it\n",
    "type(s)"
   ]
  },
  {
   "cell_type": "code",
   "execution_count": 86,
   "id": "genuine-breakfast",
   "metadata": {},
   "outputs": [
    {
     "data": {
      "text/plain": [
       "str"
      ]
     },
     "execution_count": 86,
     "metadata": {},
     "output_type": "execute_result"
    }
   ],
   "source": [
    "type(t)"
   ]
  },
  {
   "cell_type": "code",
   "execution_count": 87,
   "id": "historical-harassment",
   "metadata": {},
   "outputs": [
    {
     "data": {
      "text/plain": [
       "int"
      ]
     },
     "execution_count": 87,
     "metadata": {},
     "output_type": "execute_result"
    }
   ],
   "source": [
    "type(3)"
   ]
  },
  {
   "cell_type": "code",
   "execution_count": 88,
   "id": "intended-blink",
   "metadata": {},
   "outputs": [
    {
     "data": {
      "text/plain": [
       "float"
      ]
     },
     "execution_count": 88,
     "metadata": {},
     "output_type": "execute_result"
    }
   ],
   "source": [
    "type(3.5)"
   ]
  },
  {
   "cell_type": "markdown",
   "id": "offshore-ethiopia",
   "metadata": {},
   "source": [
    "# Data structure: Booleans (`bool`)\n",
    "\n",
    "### Values are `True` and `False` (yes, capitalized)"
   ]
  },
  {
   "cell_type": "code",
   "execution_count": 90,
   "id": "honest-exchange",
   "metadata": {},
   "outputs": [
    {
     "name": "stdout",
     "output_type": "stream",
     "text": [
      "Yes, s is True!\n"
     ]
    }
   ],
   "source": [
    "s = True\n",
    "\n",
    "if s == True:   # don't do this!\n",
    "    print('Yes, s is True!')"
   ]
  },
  {
   "cell_type": "code",
   "execution_count": 91,
   "id": "informal-glenn",
   "metadata": {},
   "outputs": [
    {
     "name": "stdout",
     "output_type": "stream",
     "text": [
      "Yes, s is True!\n"
     ]
    }
   ],
   "source": [
    "if s:   # if looks to its right, sees s, which is True, and its block runs\n",
    "    print('Yes, s is True!')"
   ]
  },
  {
   "cell_type": "code",
   "execution_count": 92,
   "id": "moderate-serbia",
   "metadata": {},
   "outputs": [
    {
     "name": "stdout",
     "output_type": "stream",
     "text": [
      "Yes, x is 10!\n"
     ]
    }
   ],
   "source": [
    "x = 10\n",
    "\n",
    "if x == 10:\n",
    "    print(f'Yes, x is 10!')"
   ]
  },
  {
   "cell_type": "markdown",
   "id": "infectious-oasis",
   "metadata": {},
   "source": [
    "# Data structure: Integers (`int`)\n",
    "\n",
    "Integers are whole numbers, so any number you can imagine that doesn't have a fractional part (i.e., doesn't have a decimal point) is an integer.\n",
    "\n"
   ]
  },
  {
   "cell_type": "code",
   "execution_count": 93,
   "id": "pacific-tucson",
   "metadata": {},
   "outputs": [
    {
     "data": {
      "text/plain": [
       "int"
      ]
     },
     "execution_count": 93,
     "metadata": {},
     "output_type": "execute_result"
    }
   ],
   "source": [
    "x = 100\n",
    "y = 345\n",
    "\n",
    "type(x)"
   ]
  },
  {
   "cell_type": "code",
   "execution_count": 94,
   "id": "global-freedom",
   "metadata": {},
   "outputs": [
    {
     "data": {
      "text/plain": [
       "int"
      ]
     },
     "execution_count": 94,
     "metadata": {},
     "output_type": "execute_result"
    }
   ],
   "source": [
    "type(y)"
   ]
  },
  {
   "cell_type": "code",
   "execution_count": 95,
   "id": "technological-partnership",
   "metadata": {},
   "outputs": [
    {
     "data": {
      "text/plain": [
       "445"
      ]
     },
     "execution_count": 95,
     "metadata": {},
     "output_type": "execute_result"
    }
   ],
   "source": [
    "x + y"
   ]
  },
  {
   "cell_type": "code",
   "execution_count": 96,
   "id": "incident-script",
   "metadata": {},
   "outputs": [],
   "source": [
    "x = 10\n",
    "y = 3"
   ]
  },
  {
   "cell_type": "code",
   "execution_count": 97,
   "id": "absolute-footwear",
   "metadata": {},
   "outputs": [
    {
     "data": {
      "text/plain": [
       "13"
      ]
     },
     "execution_count": 97,
     "metadata": {},
     "output_type": "execute_result"
    }
   ],
   "source": [
    "x + y"
   ]
  },
  {
   "cell_type": "code",
   "execution_count": 98,
   "id": "concerned-maintenance",
   "metadata": {},
   "outputs": [
    {
     "data": {
      "text/plain": [
       "7"
      ]
     },
     "execution_count": 98,
     "metadata": {},
     "output_type": "execute_result"
    }
   ],
   "source": [
    "x - y"
   ]
  },
  {
   "cell_type": "code",
   "execution_count": 99,
   "id": "nominated-rebound",
   "metadata": {},
   "outputs": [
    {
     "data": {
      "text/plain": [
       "30"
      ]
     },
     "execution_count": 99,
     "metadata": {},
     "output_type": "execute_result"
    }
   ],
   "source": [
    "x * y   # multiplication \n"
   ]
  },
  {
   "cell_type": "code",
   "execution_count": 100,
   "id": "threaded-project",
   "metadata": {},
   "outputs": [
    {
     "data": {
      "text/plain": [
       "3.3333333333333335"
      ]
     },
     "execution_count": 100,
     "metadata": {},
     "output_type": "execute_result"
    }
   ],
   "source": [
    "x / y   # division - it always returns a float!"
   ]
  },
  {
   "cell_type": "code",
   "execution_count": 101,
   "id": "fossil-biology",
   "metadata": {},
   "outputs": [
    {
     "data": {
      "text/plain": [
       "1000"
      ]
     },
     "execution_count": 101,
     "metadata": {},
     "output_type": "execute_result"
    }
   ],
   "source": [
    "x ** y   # exponentiation"
   ]
  },
  {
   "cell_type": "code",
   "execution_count": 102,
   "id": "arranged-personal",
   "metadata": {},
   "outputs": [
    {
     "data": {
      "text/plain": [
       "1"
      ]
     },
     "execution_count": 102,
     "metadata": {},
     "output_type": "execute_result"
    }
   ],
   "source": [
    "x % y    # x modulo y, meaning: what's the remainder after running x / y ?"
   ]
  },
  {
   "cell_type": "code",
   "execution_count": 104,
   "id": "relevant-facing",
   "metadata": {},
   "outputs": [],
   "source": [
    "x = 10\n",
    " \n",
    "# to add 1 to x, we can say:\n",
    "x = x + 1   # this is assignment!  First calculate the right side, then assign to x"
   ]
  },
  {
   "cell_type": "code",
   "execution_count": 105,
   "id": "ready-pharmacology",
   "metadata": {},
   "outputs": [
    {
     "data": {
      "text/plain": [
       "11"
      ]
     },
     "execution_count": 105,
     "metadata": {},
     "output_type": "execute_result"
    }
   ],
   "source": [
    "x"
   ]
  },
  {
   "cell_type": "code",
   "execution_count": 106,
   "id": "fallen-mobility",
   "metadata": {},
   "outputs": [],
   "source": [
    "# We can shrink that to say:\n",
    "\n",
    "x += 1    # this means: x = x + 1"
   ]
  },
  {
   "cell_type": "code",
   "execution_count": 107,
   "id": "nutritional-calcium",
   "metadata": {},
   "outputs": [
    {
     "data": {
      "text/plain": [
       "12"
      ]
     },
     "execution_count": 107,
     "metadata": {},
     "output_type": "execute_result"
    }
   ],
   "source": [
    "x"
   ]
  },
  {
   "cell_type": "code",
   "execution_count": 108,
   "id": "chronic-trouble",
   "metadata": {},
   "outputs": [
    {
     "ename": "SyntaxError",
     "evalue": "invalid syntax (<ipython-input-108-0af4bb0eac37>, line 1)",
     "output_type": "error",
     "traceback": [
      "\u001b[0;36m  File \u001b[0;32m\"<ipython-input-108-0af4bb0eac37>\"\u001b[0;36m, line \u001b[0;32m1\u001b[0m\n\u001b[0;31m    x++\u001b[0m\n\u001b[0m       ^\u001b[0m\n\u001b[0;31mSyntaxError\u001b[0m\u001b[0;31m:\u001b[0m invalid syntax\n"
     ]
    }
   ],
   "source": [
    "x++"
   ]
  },
  {
   "cell_type": "code",
   "execution_count": 109,
   "id": "canadian-executive",
   "metadata": {},
   "outputs": [
    {
     "name": "stdout",
     "output_type": "stream",
     "text": [
      "Enter a number: 10\n",
      "Enter another number: 20\n",
      "10 + 20 = 1020\n"
     ]
    }
   ],
   "source": [
    "x = input('Enter a number: ')\n",
    "y = input('Enter another number: ')\n",
    "\n",
    "print(f'{x} + {y} = {x+y}')"
   ]
  },
  {
   "cell_type": "code",
   "execution_count": 110,
   "id": "stainless-basic",
   "metadata": {},
   "outputs": [
    {
     "data": {
      "text/plain": [
       "30"
      ]
     },
     "execution_count": 110,
     "metadata": {},
     "output_type": "execute_result"
    }
   ],
   "source": [
    "# How can we turn a string into an integer?\n",
    "# Use the \"int\" function on a string; it'll return an int based on that string\n",
    "\n",
    "int(x) + int(y)"
   ]
  },
  {
   "cell_type": "code",
   "execution_count": 111,
   "id": "likely-warehouse",
   "metadata": {},
   "outputs": [
    {
     "data": {
      "text/plain": [
       "30"
      ]
     },
     "execution_count": 111,
     "metadata": {},
     "output_type": "execute_result"
    }
   ],
   "source": [
    "# int doesn't change x or y -- it returns a new value, which we can use.\n",
    "\n",
    "# Of course, I could say:\n",
    "\n",
    "x = int(x)\n",
    "y = int(y)\n",
    "\n",
    "x + y"
   ]
  },
  {
   "cell_type": "code",
   "execution_count": 112,
   "id": "significant-chaos",
   "metadata": {},
   "outputs": [
    {
     "data": {
      "text/plain": [
       "10"
      ]
     },
     "execution_count": 112,
     "metadata": {},
     "output_type": "execute_result"
    }
   ],
   "source": [
    "int('10')"
   ]
  },
  {
   "cell_type": "code",
   "execution_count": 113,
   "id": "precise-wesley",
   "metadata": {},
   "outputs": [
    {
     "ename": "ValueError",
     "evalue": "invalid literal for int() with base 10: 'abcde'",
     "output_type": "error",
     "traceback": [
      "\u001b[0;31m---------------------------------------------------------------------------\u001b[0m",
      "\u001b[0;31mValueError\u001b[0m                                Traceback (most recent call last)",
      "\u001b[0;32m<ipython-input-113-e886c921feca>\u001b[0m in \u001b[0;36m<module>\u001b[0;34m\u001b[0m\n\u001b[0;32m----> 1\u001b[0;31m \u001b[0mint\u001b[0m\u001b[0;34m(\u001b[0m\u001b[0;34m'abcde'\u001b[0m\u001b[0;34m)\u001b[0m\u001b[0;34m\u001b[0m\u001b[0;34m\u001b[0m\u001b[0m\n\u001b[0m",
      "\u001b[0;31mValueError\u001b[0m: invalid literal for int() with base 10: 'abcde'"
     ]
    }
   ],
   "source": [
    "int('abcde')"
   ]
  },
  {
   "cell_type": "code",
   "execution_count": null,
   "id": "supposed-bride",
   "metadata": {},
   "outputs": [],
   "source": []
  }
 ],
 "metadata": {
  "kernelspec": {
   "display_name": "Python 3",
   "language": "python",
   "name": "python3"
  },
  "language_info": {
   "codemirror_mode": {
    "name": "ipython",
    "version": 3
   },
   "file_extension": ".py",
   "mimetype": "text/x-python",
   "name": "python",
   "nbconvert_exporter": "python",
   "pygments_lexer": "ipython3",
   "version": "3.8.6"
  }
 },
 "nbformat": 4,
 "nbformat_minor": 5
}
