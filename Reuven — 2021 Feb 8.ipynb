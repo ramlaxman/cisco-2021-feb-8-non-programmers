{
 "cells": [
  {
   "cell_type": "code",
   "execution_count": 4,
   "id": "running-poultry",
   "metadata": {},
   "outputs": [
    {
     "name": "stdout",
     "output_type": "stream",
     "text": [
      "Hello, world!!!!\n"
     ]
    }
   ],
   "source": [
    "print('Hello, world!!!!')   # shift+enter == run the code in the current cell"
   ]
  },
  {
   "cell_type": "markdown",
   "id": "sound-kernel",
   "metadata": {},
   "source": [
    "# Exercise: Getting started with Jupyter\n",
    "\n",
    "1. Go to my Jupyter server at https://python.lerner.co.il:8888/\n",
    "2. On that Jupyter home page, use the \"New\" menu on the right side to start a new notebook.\n",
    "3. When the new notebook opens, click on the title and change it to be your name and the date.\n",
    "4. In a cell, use the `print` function to print some text.  Text can be between single quotes ('') or double quotes(\"\") — Python doesn't care, so long as they match."
   ]
  },
  {
   "cell_type": "markdown",
   "id": "under-fever",
   "metadata": {},
   "source": [
    "When you're done with the exercise, click the green check mark ("
   ]
  }
 ],
 "metadata": {
  "kernelspec": {
   "display_name": "Python 3",
   "language": "python",
   "name": "python3"
  },
  "language_info": {
   "codemirror_mode": {
    "name": "ipython",
    "version": 3
   },
   "file_extension": ".py",
   "mimetype": "text/x-python",
   "name": "python",
   "nbconvert_exporter": "python",
   "pygments_lexer": "ipython3",
   "version": "3.8.6"
  }
 },
 "nbformat": 4,
 "nbformat_minor": 5
}
