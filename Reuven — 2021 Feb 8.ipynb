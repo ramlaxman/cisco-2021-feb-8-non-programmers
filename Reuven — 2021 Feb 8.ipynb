{
 "cells": [
  {
   "cell_type": "code",
   "execution_count": 4,
   "id": "reasonable-escape",
   "metadata": {},
   "outputs": [
    {
     "name": "stdout",
     "output_type": "stream",
     "text": [
      "Hello, world!!!!\n"
     ]
    }
   ],
   "source": [
    "print('Hello, world!!!!')   # shift+enter == run the code in the current cell"
   ]
  },
  {
   "cell_type": "markdown",
   "id": "adopted-christian",
   "metadata": {},
   "source": [
    "# Exercise: Getting started with Jupyter\n",
    "\n",
    "1. Go to my Jupyter server at http://python.lerner.co.il:8000/\n",
    "2. On that Jupyter home page, use the \"New\" menu on the right side to start a new notebook.\n",
    "3. When the new notebook opens, click on the title and change it to be your name and the date.\n",
    "4. In a cell, use the `print` function to print some text.  Text can be between single quotes ('') or double quotes(\"\") — Python doesn't care, so long as they match."
   ]
  },
  {
   "cell_type": "markdown",
   "id": "worthy-planner",
   "metadata": {},
   "source": [
    "When you're done with the exercise, click the green check mark (bottom left of the \"participants\" panel) to let me know."
   ]
  },
  {
   "cell_type": "markdown",
   "id": "external-portland",
   "metadata": {},
   "source": [
    "# Agenda\n",
    "\n",
    "1. Basics\n",
    "    - Variables\n",
    "    - Different types are different\n",
    "    - Conditions with `if` / `else`\n",
    "2. Data structures\n",
    "    - Numbers (integers and floats)\n",
    "    - Strings (text)\n",
    "    - Loops -- repeating yourself in code\n",
    "    - Lists and tuples\n",
    "    - Dictionaries\n",
    "    - Files (reading from and writing to text files)\n",
    "3. Functions\n",
    "    - Here, we'll start writing in an IDE (PyCharm)\n",
    "4. Modules\n",
    "    \n"
   ]
  },
  {
   "cell_type": "code",
   "execution_count": 1,
   "id": "electronic-mercury",
   "metadata": {},
   "outputs": [
    {
     "name": "stdout",
     "output_type": "stream",
     "text": [
      "abcd\n",
      "efgh\n",
      "ijkl\n"
     ]
    }
   ],
   "source": [
    "print('abcd')   # pressing ENTER goes down one line\n",
    "print('efgh')   # pressing ENTER goes down one (another!) line\n",
    "print('ijkl')   # pressing shift + ENTER executes the entire cell"
   ]
  },
  {
   "cell_type": "code",
   "execution_count": 2,
   "id": "indonesian-psychiatry",
   "metadata": {},
   "outputs": [
    {
     "name": "stdout",
     "output_type": "stream",
     "text": [
      "2\n"
     ]
    }
   ],
   "source": [
    "print(2)"
   ]
  },
  {
   "cell_type": "code",
   "execution_count": 3,
   "id": "classical-collaboration",
   "metadata": {},
   "outputs": [
    {
     "name": "stdout",
     "output_type": "stream",
     "text": [
      "7\n"
     ]
    }
   ],
   "source": [
    "print(2 + 5)"
   ]
  },
  {
   "cell_type": "code",
   "execution_count": 4,
   "id": "supposed-jaguar",
   "metadata": {},
   "outputs": [
    {
     "name": "stdout",
     "output_type": "stream",
     "text": [
      "12\n"
     ]
    }
   ],
   "source": [
    "print(3 * 4)  # in programming, we use * for multiplication"
   ]
  },
  {
   "cell_type": "code",
   "execution_count": 5,
   "id": "upset-accessory",
   "metadata": {},
   "outputs": [
    {
     "name": "stdout",
     "output_type": "stream",
     "text": [
      "14\n"
     ]
    }
   ],
   "source": [
    "print(2 + 3 * 4)  # Python knows the order of operations"
   ]
  },
  {
   "cell_type": "code",
   "execution_count": 6,
   "id": "mysterious-script",
   "metadata": {},
   "outputs": [
    {
     "name": "stdout",
     "output_type": "stream",
     "text": [
      "8\n"
     ]
    }
   ],
   "source": [
    "# In programming, we have pronouns!\n",
    "# they are known as \"variables\"\n",
    "\n",
    "# Variables have names, and those names DO NOT have quotes around them\n",
    "# I can assign to a variable (i.e., give it a value with the = sign)\n",
    "\n",
    "x = 5    # assigns 5 to the variable x... and since x didn't exist before, now it does!\n",
    "y = 3    # assigning 3 to the variable y... it's created, too!\n",
    "\n",
    "print(x + y)"
   ]
  },
  {
   "cell_type": "code",
   "execution_count": 7,
   "id": "lovely-timing",
   "metadata": {},
   "outputs": [
    {
     "name": "stdout",
     "output_type": "stream",
     "text": [
      "Hello, Reuven\n"
     ]
    }
   ],
   "source": [
    "name = 'Reuven'\n",
    "\n",
    "print('Hello, ' + name)"
   ]
  },
  {
   "cell_type": "code",
   "execution_count": 8,
   "id": "broadband-above",
   "metadata": {},
   "outputs": [
    {
     "data": {
      "text/plain": [
       "'ReuvenReuven'"
      ]
     },
     "execution_count": 8,
     "metadata": {},
     "output_type": "execute_result"
    }
   ],
   "source": [
    "name + name"
   ]
  },
  {
   "cell_type": "code",
   "execution_count": 9,
   "id": "congressional-prophet",
   "metadata": {},
   "outputs": [
    {
     "ename": "TypeError",
     "evalue": "unsupported operand type(s) for +: 'int' and 'str'",
     "output_type": "error",
     "traceback": [
      "\u001b[0;31m---------------------------------------------------------------------------\u001b[0m",
      "\u001b[0;31mTypeError\u001b[0m                                 Traceback (most recent call last)",
      "\u001b[0;32m<ipython-input-9-95c0e73ce86a>\u001b[0m in \u001b[0;36m<module>\u001b[0;34m\u001b[0m\n\u001b[0;32m----> 1\u001b[0;31m \u001b[0mx\u001b[0m \u001b[0;34m+\u001b[0m \u001b[0mname\u001b[0m\u001b[0;34m\u001b[0m\u001b[0;34m\u001b[0m\u001b[0m\n\u001b[0m",
      "\u001b[0;31mTypeError\u001b[0m: unsupported operand type(s) for +: 'int' and 'str'"
     ]
    }
   ],
   "source": [
    "x + name   "
   ]
  },
  {
   "cell_type": "markdown",
   "id": "former-annual",
   "metadata": {},
   "source": [
    "# Exercise: Greeting yourself\n",
    "\n",
    "1. Assign your name (a text string) to the variable `name`.\n",
    "2. Print a greeting to yourself.\n",
    "3. How can you print a greeting that ends with a `.`?"
   ]
  },
  {
   "cell_type": "code",
   "execution_count": null,
   "id": "wicked-pickup",
   "metadata": {},
   "outputs": [],
   "source": [
    "# the = sign in Python means: Assign the value on the right to the name on the left\n",
    "the_variable_name = 'the variable value'"
   ]
  },
  {
   "cell_type": "code",
   "execution_count": 10,
   "id": "daily-wichita",
   "metadata": {},
   "outputs": [
    {
     "name": "stdout",
     "output_type": "stream",
     "text": [
      "2445\n"
     ]
    }
   ],
   "source": [
    "a = 100\n",
    "b = 2345\n",
    "\n",
    "print(a + b)"
   ]
  },
  {
   "cell_type": "code",
   "execution_count": 11,
   "id": "dying-commercial",
   "metadata": {},
   "outputs": [
    {
     "data": {
      "text/plain": [
       "1887"
      ]
     },
     "execution_count": 11,
     "metadata": {},
     "output_type": "execute_result"
    }
   ],
   "source": [
    "a = 999\n",
    "b = 888\n",
    "\n",
    "a + b"
   ]
  },
  {
   "cell_type": "code",
   "execution_count": 12,
   "id": "entire-income",
   "metadata": {},
   "outputs": [
    {
     "name": "stdout",
     "output_type": "stream",
     "text": [
      "Hello, Reuven\n"
     ]
    }
   ],
   "source": [
    "name = 'Reuven'\n",
    "print('Hello, ' + name)"
   ]
  },
  {
   "cell_type": "code",
   "execution_count": 13,
   "id": "balanced-reform",
   "metadata": {},
   "outputs": [
    {
     "name": "stdout",
     "output_type": "stream",
     "text": [
      "Hello,Reuven\n"
     ]
    }
   ],
   "source": [
    "print('Hello,' + name)"
   ]
  },
  {
   "cell_type": "code",
   "execution_count": 14,
   "id": "facial-brook",
   "metadata": {},
   "outputs": [
    {
     "name": "stdout",
     "output_type": "stream",
     "text": [
      "Hello, Reuven.\n"
     ]
    }
   ],
   "source": [
    "print('Hello, ' + name + '.')"
   ]
  },
  {
   "cell_type": "markdown",
   "id": "greatest-prime",
   "metadata": {},
   "source": [
    "# Variable names\n",
    "\n",
    "They can contain any combination of:\n",
    "\n",
    "- Letters (uppercase and lowercase are *different*)\n",
    "- Numbers\n",
    "- Underscores (`_`)\n",
    "\n",
    "But:\n",
    "\n",
    "- The name must start with a letter or underscore\n",
    "- It's traditional only to use lowercase letters\n",
    "- If the name starts with an underscore, Python sees it as \"private,\" not for others to use"
   ]
  },
  {
   "cell_type": "code",
   "execution_count": null,
   "id": "coated-editor",
   "metadata": {},
   "outputs": [],
   "source": []
  },
  {
   "cell_type": "code",
   "execution_count": 17,
   "id": "covered-philosophy",
   "metadata": {},
   "outputs": [
    {
     "name": "stdout",
     "output_type": "stream",
     "text": [
      "Hello, Reuven, with a favorite number 72!\n"
     ]
    }
   ],
   "source": [
    "name = 'Reuven'\n",
    "favorite_number = 72\n",
    "\n",
    "# f-strings (format strings) to the rescue!\n",
    "# they allow us to mix and match any data type when creating a string\n",
    "\n",
    "# Put an f before the opening quote, and {} suddenly are replaced with their values\n",
    "print(f'Hello, {name}, with a favorite number {favorite_number}!')"
   ]
  },
  {
   "cell_type": "markdown",
   "id": "sublime-solution",
   "metadata": {},
   "source": [
    "# Exercise: Another greeting (with f-strings)\n",
    "\n",
    "1. Define a variable, `name`, with the text string of your name.\n",
    "2. Define another variable, `birthyear`, to be the year in which you were born.\n",
    "3. Define a third variable, `age_this_year`, to be how old you'll turn this year, calculated based on `birthyear`.\n",
    "4. Print a message to the user, saying how old they'll turn this year.  Use an f-string to do this."
   ]
  },
  {
   "cell_type": "code",
   "execution_count": 18,
   "id": "infinite-panama",
   "metadata": {},
   "outputs": [
    {
     "name": "stdout",
     "output_type": "stream",
     "text": [
      "150\n"
     ]
    }
   ],
   "source": [
    "x = 100\n",
    "y = 50\n",
    "\n",
    "print(x + y)"
   ]
  },
  {
   "cell_type": "code",
   "execution_count": 19,
   "id": "listed-attempt",
   "metadata": {},
   "outputs": [
    {
     "name": "stdout",
     "output_type": "stream",
     "text": [
      "50\n"
     ]
    }
   ],
   "source": [
    "print(x - y)"
   ]
  },
  {
   "cell_type": "code",
   "execution_count": 20,
   "id": "severe-denial",
   "metadata": {},
   "outputs": [],
   "source": [
    "z = x - y  # defines z to be a variable, whose value is the result of x-y"
   ]
  },
  {
   "cell_type": "code",
   "execution_count": 21,
   "id": "banned-powder",
   "metadata": {},
   "outputs": [
    {
     "name": "stdout",
     "output_type": "stream",
     "text": [
      "50\n"
     ]
    }
   ],
   "source": [
    "print(z)"
   ]
  },
  {
   "cell_type": "code",
   "execution_count": 22,
   "id": "structured-jesus",
   "metadata": {},
   "outputs": [
    {
     "name": "stdout",
     "output_type": "stream",
     "text": [
      "Hello, Reuven.  You will turn 51 this year!\n"
     ]
    }
   ],
   "source": [
    "name = 'Reuven'\n",
    "birthyear = 1970\n",
    "age_this_year = 2021 - birthyear\n",
    "print(f'Hello, {name}.  You will turn {age_this_year} this year!')"
   ]
  },
  {
   "cell_type": "code",
   "execution_count": 23,
   "id": "quality-ghost",
   "metadata": {},
   "outputs": [
    {
     "data": {
      "text/plain": [
       "'1020'"
      ]
     },
     "execution_count": 23,
     "metadata": {},
     "output_type": "execute_result"
    }
   ],
   "source": [
    "x = '10'  # string!\n",
    "y = '20'  # string!\n",
    "\n",
    "x + y"
   ]
  },
  {
   "cell_type": "code",
   "execution_count": 24,
   "id": "stuck-selection",
   "metadata": {},
   "outputs": [
    {
     "ename": "TypeError",
     "evalue": "unsupported operand type(s) for -: 'str' and 'str'",
     "output_type": "error",
     "traceback": [
      "\u001b[0;31m---------------------------------------------------------------------------\u001b[0m",
      "\u001b[0;31mTypeError\u001b[0m                                 Traceback (most recent call last)",
      "\u001b[0;32m<ipython-input-24-86286c876b5e>\u001b[0m in \u001b[0;36m<module>\u001b[0;34m\u001b[0m\n\u001b[0;32m----> 1\u001b[0;31m \u001b[0mx\u001b[0m \u001b[0;34m-\u001b[0m \u001b[0my\u001b[0m\u001b[0;34m\u001b[0m\u001b[0;34m\u001b[0m\u001b[0m\n\u001b[0m",
      "\u001b[0;31mTypeError\u001b[0m: unsupported operand type(s) for -: 'str' and 'str'"
     ]
    }
   ],
   "source": [
    "x - y"
   ]
  },
  {
   "cell_type": "code",
   "execution_count": 26,
   "id": "saved-chassis",
   "metadata": {},
   "outputs": [
    {
     "data": {
      "text/plain": [
       "30"
      ]
     },
     "execution_count": 26,
     "metadata": {},
     "output_type": "execute_result"
    }
   ],
   "source": [
    "x = 10   # no quotes -- numbers\n",
    "y = 20  #  no quotes -- numbers\n",
    "\n",
    "x + y  # in Jupyter, the final line of a cell, if it returns a value, shows it on the screen"
   ]
  },
  {
   "cell_type": "code",
   "execution_count": 27,
   "id": "backed-beauty",
   "metadata": {},
   "outputs": [
    {
     "data": {
      "text/plain": [
       "10"
      ]
     },
     "execution_count": 27,
     "metadata": {},
     "output_type": "execute_result"
    }
   ],
   "source": [
    "x"
   ]
  },
  {
   "cell_type": "code",
   "execution_count": 28,
   "id": "posted-collective",
   "metadata": {},
   "outputs": [
    {
     "data": {
      "text/plain": [
       "20"
      ]
     },
     "execution_count": 28,
     "metadata": {},
     "output_type": "execute_result"
    }
   ],
   "source": [
    "y"
   ]
  },
  {
   "cell_type": "code",
   "execution_count": 29,
   "id": "worth-conspiracy",
   "metadata": {},
   "outputs": [
    {
     "data": {
      "text/plain": [
       "200"
      ]
     },
     "execution_count": 29,
     "metadata": {},
     "output_type": "execute_result"
    }
   ],
   "source": [
    "x*y"
   ]
  },
  {
   "cell_type": "code",
   "execution_count": null,
   "id": "equal-carol",
   "metadata": {},
   "outputs": [],
   "source": []
  },
  {
   "cell_type": "markdown",
   "id": "overall-tumor",
   "metadata": {},
   "source": [
    "# The `input` function\n",
    "\n",
    "Just as the `print` function displays something on the screen, the `input` function asks the user to give it input.  Whatever the user typed is returned by the function as a string.\n",
    "\n"
   ]
  },
  {
   "cell_type": "code",
   "execution_count": 32,
   "id": "portuguese-homework",
   "metadata": {},
   "outputs": [
    {
     "name": "stdout",
     "output_type": "stream",
     "text": [
      "Enter your name: 12345\n"
     ]
    }
   ],
   "source": [
    "# in assignment (=), the right side runs before the left side\n",
    "\n",
    "s = input('Enter your name: ')   "
   ]
  },
  {
   "cell_type": "code",
   "execution_count": 33,
   "id": "willing-responsibility",
   "metadata": {},
   "outputs": [
    {
     "name": "stdout",
     "output_type": "stream",
     "text": [
      "12345\n"
     ]
    }
   ],
   "source": [
    "print(s)"
   ]
  },
  {
   "cell_type": "code",
   "execution_count": 34,
   "id": "historical-example",
   "metadata": {},
   "outputs": [
    {
     "data": {
      "text/plain": [
       "'1234512345'"
      ]
     },
     "execution_count": 34,
     "metadata": {},
     "output_type": "execute_result"
    }
   ],
   "source": [
    "s+s  # adding a string to itself -- we get s+s, not the numeric s+s"
   ]
  },
  {
   "cell_type": "markdown",
   "id": "handy-collaboration",
   "metadata": {},
   "source": [
    "# Exercise: Greetings, with feeling!\n",
    "\n",
    "1. Ask the user to enter their name, and assign this to `name`.\n",
    "2. Ask the user to enter their current emotional state, to the variable `feeling`.\n",
    "3. Print a greeting to the user acknowledging their feelings."
   ]
  },
  {
   "cell_type": "code",
   "execution_count": 35,
   "id": "necessary-guinea",
   "metadata": {},
   "outputs": [
    {
     "name": "stdout",
     "output_type": "stream",
     "text": [
      "Enter your name: Reuven\n",
      "How are you feeling? delighted to be teaching Python\n",
      "Hey, Reuven, good to know you are feeling delighted to be teaching Python.\n"
     ]
    }
   ],
   "source": [
    "name = input('Enter your name: ')\n",
    "feeling = input('How are you feeling? ')\n",
    "\n",
    "print(f'Hey, {name}, good to know you are feeling {feeling}.')"
   ]
  },
  {
   "cell_type": "markdown",
   "id": "acceptable-badge",
   "metadata": {},
   "source": [
    "# Conditionals — Making decisions\n",
    "\n",
    "- If I want to assign a value to a variable, I use `=`, the assignment operator.\n",
    "- If I want to compare two things, I use `==`, the comparison operator."
   ]
  },
  {
   "cell_type": "code",
   "execution_count": 37,
   "id": "scenic-solomon",
   "metadata": {},
   "outputs": [
    {
     "name": "stdout",
     "output_type": "stream",
     "text": [
      "Enter your name: someone else\n",
      "Hello, someone else.  Nice to meet you!\n"
     ]
    }
   ],
   "source": [
    "name = input('Enter your name: ')\n",
    "\n",
    "if name == 'Reuven':    # if this comparison returns True, then we execute if's body/block\n",
    "    print('Hello, boss!')\n",
    "    print('Nice to see you again!')\n",
    "else:\n",
    "    print(f'Hello, {name}.  Nice to meet you!')"
   ]
  },
  {
   "cell_type": "markdown",
   "id": "addressed-parker",
   "metadata": {},
   "source": [
    "# Exercise: Where do you work?\n",
    "\n",
    "1. Ask the user where they work, and assign to a variable named `company`.\n",
    "2. If the user also works at Cisco, give them a warm greeting.\n",
    "3. If not, then give them an appropriately snarky response."
   ]
  },
  {
   "cell_type": "code",
   "execution_count": 41,
   "id": "fluid-charger",
   "metadata": {},
   "outputs": [
    {
     "name": "stdout",
     "output_type": "stream",
     "text": [
      "Enter your company: Cisco \n",
      "Well, I am sure you are sorta kinda happy where you work.\n"
     ]
    }
   ],
   "source": [
    "company = input('Enter your company: ')\n",
    "\n",
    "if company == 'Cisco':\n",
    "    print('Wow! I must be your colleague!')\n",
    "else:\n",
    "    print('Well, I am sure you are sorta kinda happy where you work.')"
   ]
  },
  {
   "cell_type": "code",
   "execution_count": 43,
   "id": "beneficial-occasions",
   "metadata": {},
   "outputs": [
    {
     "name": "stdout",
     "output_type": "stream",
     "text": [
      "Enter your favorite color: green\n",
      "I guess you like something that is neither red nor blue\n"
     ]
    }
   ],
   "source": [
    "# the logical way, with what we know\n",
    "\n",
    "color = input('Enter your favorite color: ')\n",
    "\n",
    "if color == 'red':\n",
    "    print('Good to know you like red.')\n",
    "    \n",
    "else:\n",
    "    if color == 'blue':\n",
    "        print('I like blue, too')\n",
    "    else:\n",
    "        print('I guess you like something that is neither red nor blue')"
   ]
  },
  {
   "cell_type": "code",
   "execution_count": 44,
   "id": "sound-internet",
   "metadata": {},
   "outputs": [
    {
     "name": "stdout",
     "output_type": "stream",
     "text": [
      "Enter your favorite color: green\n",
      "I guess you like something that is neither red nor blue\n"
     ]
    }
   ],
   "source": [
    "# the better way\n",
    "\n",
    "color = input('Enter your favorite color: ')\n",
    "\n",
    "if color == 'red':\n",
    "    print('Good to know you like red.')\n",
    "    \n",
    "elif color == 'blue':\n",
    "    print('I like blue, too')\n",
    "\n",
    "else:\n",
    "    print('I guess you like something that is neither red nor blue')"
   ]
  },
  {
   "cell_type": "code",
   "execution_count": 45,
   "id": "major-effect",
   "metadata": {},
   "outputs": [
    {
     "name": "stdout",
     "output_type": "stream",
     "text": [
      "Enter your favorite color: green\n",
      "It is a great color!\n"
     ]
    }
   ],
   "source": [
    "# the better way\n",
    "\n",
    "color = input('Enter your favorite color: ')\n",
    "\n",
    "if color == 'red':\n",
    "    print('Good to know you like red.')\n",
    "    \n",
    "elif color == 'blue':\n",
    "    print('I like blue, too')\n",
    "    \n",
    "elif color == 'green':\n",
    "    print('It is a great color!')\n",
    "\n",
    "else:\n",
    "    print('I guess you like something that is neither red nor blue')"
   ]
  },
  {
   "cell_type": "code",
   "execution_count": 46,
   "id": "blond-locator",
   "metadata": {},
   "outputs": [
    {
     "name": "stdout",
     "output_type": "stream",
     "text": [
      "Enter your favorite color: blue\n",
      "I like blue, too\n"
     ]
    }
   ],
   "source": [
    "# the better way\n",
    "\n",
    "color = input('Enter your favorite color: ')\n",
    "\n",
    "if color == 'red':\n",
    "    print('Good to know you like red.')\n",
    "    \n",
    "elif color == 'blue':\n",
    "    print('I like blue, too')\n",
    "    \n",
    "elif color == 'green':\n",
    "    print('It is a great color!')\n",
    "    \n",
    "elif color == 'blue':\n",
    "    print('EVIL SECOND BLUE MATCH!')\n",
    "\n",
    "else:\n",
    "    print('I guess you like something that is neither red nor blue')"
   ]
  },
  {
   "cell_type": "markdown",
   "id": "armed-vertex",
   "metadata": {},
   "source": [
    "# Exercise: Current and former company\n",
    "\n",
    "1. Ask the user where they worked.\n",
    "2. If they work at Cisco, then congratulate them on being a colleague.\n",
    "3. If they worked at your previous job, then say you *used* to be their colleague.\n",
    "4. Otherwise, say something snarky."
   ]
  },
  {
   "cell_type": "code",
   "execution_count": 49,
   "id": "raised-leonard",
   "metadata": {},
   "outputs": [
    {
     "name": "stdout",
     "output_type": "stream",
     "text": [
      "Where do you work? Google\n",
      "I have never heard of that sad company, Google.\n"
     ]
    }
   ],
   "source": [
    "company = input('Where do you work? ')\n",
    "\n",
    "if company == 'Cisco':\n",
    "    print('You work at Cisco, too? Wow! We are colleagues!')\n",
    "elif company == 'Time Warner':\n",
    "    print('I used to work there... once upon a time...')\n",
    "else:\n",
    "    print(f'I have never heard of that sad company, {company}.')"
   ]
  },
  {
   "cell_type": "code",
   "execution_count": 52,
   "id": "nuclear-chart",
   "metadata": {},
   "outputs": [
    {
     "name": "stdout",
     "output_type": "stream",
     "text": [
      "Hi, I'm Reuven\n"
     ]
    }
   ],
   "source": [
    "s = 'Hi, I\\'m Reuven'   # \\' means that the ' is not ending/starting the string, but literal\n",
    "print(s)"
   ]
  },
  {
   "cell_type": "code",
   "execution_count": 53,
   "id": "parallel-publication",
   "metadata": {},
   "outputs": [
    {
     "data": {
      "text/plain": [
       "\"Hi, I'm Reuven\""
      ]
     },
     "execution_count": 53,
     "metadata": {},
     "output_type": "execute_result"
    }
   ],
   "source": [
    "s"
   ]
  },
  {
   "cell_type": "markdown",
   "id": "humanitarian-rehabilitation",
   "metadata": {},
   "source": [
    "# Boolean logic\n",
    "\n",
    "- X and Y are true: We represent in Python with `and`\n",
    "- X or Y is true: We represent in Python with `or`\n",
    "- not X: We represent in Python with `not`"
   ]
  },
  {
   "cell_type": "code",
   "execution_count": 54,
   "id": "express-access",
   "metadata": {},
   "outputs": [
    {
     "data": {
      "text/plain": [
       "True"
      ]
     },
     "execution_count": 54,
     "metadata": {},
     "output_type": "execute_result"
    }
   ],
   "source": [
    "x = True\n",
    "y = True\n",
    "\n",
    "x and y  # if both the left and right sides are True, this returns True"
   ]
  },
  {
   "cell_type": "code",
   "execution_count": 55,
   "id": "bridal-google",
   "metadata": {},
   "outputs": [
    {
     "name": "stdout",
     "output_type": "stream",
     "text": [
      "Both x and y are True!\n"
     ]
    }
   ],
   "source": [
    "if x and y:\n",
    "    print('Both x and y are True!')"
   ]
  },
  {
   "cell_type": "code",
   "execution_count": 56,
   "id": "packed-rogers",
   "metadata": {},
   "outputs": [
    {
     "data": {
      "text/plain": [
       "True"
      ]
     },
     "execution_count": 56,
     "metadata": {},
     "output_type": "execute_result"
    }
   ],
   "source": [
    "x = 10\n",
    "y = 20\n",
    "\n",
    "x == 10 and y == 20"
   ]
  },
  {
   "cell_type": "code",
   "execution_count": 57,
   "id": "synthetic-pontiac",
   "metadata": {},
   "outputs": [
    {
     "data": {
      "text/plain": [
       "False"
      ]
     },
     "execution_count": 57,
     "metadata": {},
     "output_type": "execute_result"
    }
   ],
   "source": [
    "x == 55 and y == 20"
   ]
  },
  {
   "cell_type": "code",
   "execution_count": 59,
   "id": "obvious-grant",
   "metadata": {},
   "outputs": [
    {
     "data": {
      "text/plain": [
       "True"
      ]
     },
     "execution_count": 59,
     "metadata": {},
     "output_type": "execute_result"
    }
   ],
   "source": [
    "x = 10\n",
    "y = 20\n",
    "\n",
    "x == 10 or y == 55  # one value is True, so the entire \"or\" expression is True"
   ]
  },
  {
   "cell_type": "code",
   "execution_count": 60,
   "id": "prepared-grove",
   "metadata": {},
   "outputs": [
    {
     "data": {
      "text/plain": [
       "True"
      ]
     },
     "execution_count": 60,
     "metadata": {},
     "output_type": "execute_result"
    }
   ],
   "source": [
    "x == 999 or y == 20  # one value is True, so the entire \"or\" expression is True"
   ]
  },
  {
   "cell_type": "code",
   "execution_count": 61,
   "id": "chicken-disease",
   "metadata": {},
   "outputs": [
    {
     "name": "stdout",
     "output_type": "stream",
     "text": [
      "One of them is what you want\n"
     ]
    }
   ],
   "source": [
    "if x == 999 or y == 20:\n",
    "    print('One of them is what you want')"
   ]
  },
  {
   "cell_type": "code",
   "execution_count": 62,
   "id": "beginning-helping",
   "metadata": {},
   "outputs": [
    {
     "data": {
      "text/plain": [
       "False"
      ]
     },
     "execution_count": 62,
     "metadata": {},
     "output_type": "execute_result"
    }
   ],
   "source": [
    "not True"
   ]
  },
  {
   "cell_type": "code",
   "execution_count": 63,
   "id": "atmospheric-spain",
   "metadata": {},
   "outputs": [
    {
     "data": {
      "text/plain": [
       "True"
      ]
     },
     "execution_count": 63,
     "metadata": {},
     "output_type": "execute_result"
    }
   ],
   "source": [
    "not False"
   ]
  },
  {
   "cell_type": "code",
   "execution_count": 65,
   "id": "monetary-specialist",
   "metadata": {},
   "outputs": [
    {
     "name": "stdout",
     "output_type": "stream",
     "text": [
      "x is not 20\n"
     ]
    }
   ],
   "source": [
    "x = 10\n",
    "\n",
    "if not x == 20:\n",
    "    print('x is not 20')"
   ]
  },
  {
   "cell_type": "code",
   "execution_count": 66,
   "id": "unlike-ensemble",
   "metadata": {},
   "outputs": [
    {
     "name": "stdout",
     "output_type": "stream",
     "text": [
      "One of them is what you want\n"
     ]
    }
   ],
   "source": [
    "if (x == 999) or (y == 20):\n",
    "    print('One of them is what you want')"
   ]
  },
  {
   "cell_type": "code",
   "execution_count": 68,
   "id": "loose-cosmetic",
   "metadata": {},
   "outputs": [
    {
     "name": "stdout",
     "output_type": "stream",
     "text": [
      "One of them is what you want\n"
     ]
    }
   ],
   "source": [
    "# If we put parentheses around an expression, we have much more flexibility regarding\n",
    "# new lines and indentation\n",
    "\n",
    "if (x == 999 or    # Now we can use more than one line!\n",
    "    y == 20):\n",
    "    print('One of them is what you want')"
   ]
  },
  {
   "cell_type": "code",
   "execution_count": 69,
   "id": "delayed-pursuit",
   "metadata": {},
   "outputs": [
    {
     "name": "stdout",
     "output_type": "stream",
     "text": [
      "One of them is what you want\n"
     ]
    }
   ],
   "source": [
    "# If we put parentheses around an expression, we have much more flexibility regarding\n",
    "# new lines and indentation\n",
    "\n",
    "if (x == 999 or    # Now we can use more than one line!\n",
    "    y == 20 or\n",
    "    y == 25 or\n",
    "    y == 'abcd'):\n",
    "    print('One of them is what you want')"
   ]
  },
  {
   "cell_type": "markdown",
   "id": "acquired-sentence",
   "metadata": {},
   "source": [
    "# Exercise: Name and company\n",
    "\n",
    "1. Ask the user to enter their name, and assign it to a variable, `name`.\n",
    "2. Ask the user to enter their company, and assign it to a variable, `company`.\n",
    "3. If the name and company are the same, then say it must be you!\n",
    "4. If the name is the same (but not the company), say they have your name at a rival.\n",
    "5. If the company is the same (but not the name), then say you're colleagues.\n",
    "6. If neither is the same, say something snarky."
   ]
  },
  {
   "cell_type": "markdown",
   "id": "appreciated-cheat",
   "metadata": {},
   "source": [
    "# Strategy\n",
    "\n",
    "1. Ask two questions, and assign to two variables (`name` and `company`)\n",
    "2. Four different possibilities:\n",
    "    - Both `name` and `company` match what we want (`and`) \n",
    "    - `name` matches, but `company` doesn't (just have to check if `name` matches)\n",
    "    - `company` matches, but `name` doesn't (just have to check if `company` matches)\n",
    "    - `else` can be if neither matches\n",
    "    "
   ]
  },
  {
   "cell_type": "code",
   "execution_count": 71,
   "id": "marked-rehabilitation",
   "metadata": {},
   "outputs": [
    {
     "name": "stdout",
     "output_type": "stream",
     "text": [
      "Enter your name: asdfsafaf\n",
      "Enter your company: asdfasfafa Inc\n",
      "Oh, you work at asdfasfafa Inc? Oh, well.\n"
     ]
    }
   ],
   "source": [
    "name = input('Enter your name: ')\n",
    "company = input('Enter your company: ')\n",
    "\n",
    "if name == 'Reuven' and company == 'Cisco':\n",
    "    print('Hey, you must be me!')\n",
    "    \n",
    "elif name == 'Reuven':   # implicitly, company is not 'Cisco'\n",
    "    print('You have my name, but work for a competitor!')\n",
    "\n",
    "elif company == 'Cisco':   # implicitly, name is not 'Reuven'\n",
    "    print('You are my colleague, but have another name')\n",
    "    \n",
    "else:\n",
    "    print(f'Oh, you work at {company}? Oh, well.')"
   ]
  },
  {
   "cell_type": "markdown",
   "id": "aquatic-reset",
   "metadata": {},
   "source": [
    "# Comparison operators\n",
    "\n",
    "All of these take two arguments (one on the left, one on the right) and return `True` or `False`. So we can use them in an `if` statement, but we can also string them together inside of a larger, more complex logical condition with `and`, `or`, and `not`:\n",
    "\n",
    "- `==` # are these things equal?  a == b\n",
    "- `!=` # are these things unequal?   a != b \n",
    "- `<`  # less than\n",
    "- `<=` # less than or equal\n",
    "- `>`  # greater than\n",
    "- `>=` # greater than or equal"
   ]
  },
  {
   "cell_type": "code",
   "execution_count": 72,
   "id": "collectible-channels",
   "metadata": {},
   "outputs": [
    {
     "data": {
      "text/plain": [
       "False"
      ]
     },
     "execution_count": 72,
     "metadata": {},
     "output_type": "execute_result"
    }
   ],
   "source": [
    "10 < 5"
   ]
  },
  {
   "cell_type": "code",
   "execution_count": 73,
   "id": "comprehensive-disclosure",
   "metadata": {},
   "outputs": [
    {
     "data": {
      "text/plain": [
       "True"
      ]
     },
     "execution_count": 73,
     "metadata": {},
     "output_type": "execute_result"
    }
   ],
   "source": [
    "5 < 10"
   ]
  },
  {
   "cell_type": "code",
   "execution_count": 75,
   "id": "following-upper",
   "metadata": {},
   "outputs": [
    {
     "data": {
      "text/plain": [
       "False"
      ]
     },
     "execution_count": 75,
     "metadata": {},
     "output_type": "execute_result"
    }
   ],
   "source": [
    "'hello' < 'goodbye'  # with text strings, < and > work alphabetically"
   ]
  },
  {
   "cell_type": "code",
   "execution_count": 76,
   "id": "acquired-digit",
   "metadata": {},
   "outputs": [
    {
     "data": {
      "text/plain": [
       "True"
      ]
     },
     "execution_count": 76,
     "metadata": {},
     "output_type": "execute_result"
    }
   ],
   "source": [
    "'ab' < 'abc'"
   ]
  },
  {
   "cell_type": "code",
   "execution_count": 77,
   "id": "chinese-bidding",
   "metadata": {},
   "outputs": [
    {
     "data": {
      "text/plain": [
       "True"
      ]
     },
     "execution_count": 77,
     "metadata": {},
     "output_type": "execute_result"
    }
   ],
   "source": [
    "'goodbye' < 'hello'"
   ]
  },
  {
   "cell_type": "markdown",
   "id": "adolescent-serve",
   "metadata": {},
   "source": [
    "# Exercise: Which word comes first?\n",
    "\n",
    "1. Ask the user to enter two words, and assign them into two variables, `first` and `second`.\n",
    "2. Use `if`/`elif`/`else` to tell us:\n",
    "    - `first` and `second` are the same\n",
    "    - `first` comes before `second` alphabetically\n",
    "    - `second` comes before `first` alphabetically\n",
    "    \n",
    "Only use lowercase letters! (Or if you finish, and want to amuse yourself, use them!)"
   ]
  },
  {
   "cell_type": "markdown",
   "id": "broad-brand",
   "metadata": {},
   "source": [
    "# Strategy\n",
    "\n",
    "1. Ask the user to enter a value for `first`\n",
    "2. Ask the user to enter a value for `second`\n",
    "3. Consider:\n",
    "    - Does `first` come before `second`?  (Compare them with `<`)\n",
    "    - Does `second` come before `first`? (Compare with `<`)\n",
    "    - If neither of the above is true, then we can assume they're equal."
   ]
  },
  {
   "cell_type": "code",
   "execution_count": 80,
   "id": "antique-black",
   "metadata": {},
   "outputs": [
    {
     "name": "stdout",
     "output_type": "stream",
     "text": [
      "Enter first word: persimmon\n",
      "Enter second word: persimmon\n",
      "persimmon and persimmon are the same!\n"
     ]
    }
   ],
   "source": [
    "first = input('Enter first word: ')\n",
    "second = input('Enter second word: ')\n",
    "\n",
    "if first < second:\n",
    "    print(f'{first} comes before {second} in the dictionary')\n",
    "elif first > second:\n",
    "    print(f'{second} comes before {first} in the dictionary')\n",
    "else:\n",
    "    print(f'{first} and {second} are the same!')"
   ]
  },
  {
   "cell_type": "code",
   "execution_count": 81,
   "id": "periodic-aurora",
   "metadata": {},
   "outputs": [
    {
     "name": "stdout",
     "output_type": "stream",
     "text": [
      "10 is less than 50\n",
      "10 is less than 100\n",
      "10 is less than 1000\n"
     ]
    }
   ],
   "source": [
    "x = 10\n",
    "\n",
    "if x < 50:\n",
    "    print(f'{x} is less than 50')\n",
    "    \n",
    "if x < 100:\n",
    "    print(f'{x} is less than 100')\n",
    "    \n",
    "if x < 1000:\n",
    "    print(f'{x} is less than 1000')\n",
    "    "
   ]
  },
  {
   "cell_type": "code",
   "execution_count": 82,
   "id": "amino-revision",
   "metadata": {},
   "outputs": [
    {
     "ename": "TypeError",
     "evalue": "unsupported operand type(s) for +: 'int' and 'str'",
     "output_type": "error",
     "traceback": [
      "\u001b[0;31m---------------------------------------------------------------------------\u001b[0m",
      "\u001b[0;31mTypeError\u001b[0m                                 Traceback (most recent call last)",
      "\u001b[0;32m<ipython-input-82-491c7670e4c2>\u001b[0m in \u001b[0;36m<module>\u001b[0;34m\u001b[0m\n\u001b[1;32m      2\u001b[0m \u001b[0my\u001b[0m \u001b[0;34m=\u001b[0m \u001b[0;34m'20'\u001b[0m\u001b[0;34m\u001b[0m\u001b[0;34m\u001b[0m\u001b[0m\n\u001b[1;32m      3\u001b[0m \u001b[0;34m\u001b[0m\u001b[0m\n\u001b[0;32m----> 4\u001b[0;31m \u001b[0mx\u001b[0m \u001b[0;34m+\u001b[0m \u001b[0my\u001b[0m\u001b[0;34m\u001b[0m\u001b[0;34m\u001b[0m\u001b[0m\n\u001b[0m",
      "\u001b[0;31mTypeError\u001b[0m: unsupported operand type(s) for +: 'int' and 'str'"
     ]
    }
   ],
   "source": [
    "x = 10\n",
    "y = '20'\n",
    "\n",
    "x + y"
   ]
  },
  {
   "cell_type": "markdown",
   "id": "twelve-indiana",
   "metadata": {},
   "source": [
    "# Data structures\n",
    "- `True` and `False`\n",
    "- `int` and `float`\n",
    "- `str` (strings)\n",
    "- `list` (and `tuple`)\n",
    "- `dict` (dictionaries)\n",
    "- files -- reading froma and writing to\n"
   ]
  },
  {
   "cell_type": "markdown",
   "id": "found-macedonia",
   "metadata": {},
   "source": [
    "# Why do we need data structures?"
   ]
  },
  {
   "cell_type": "code",
   "execution_count": 83,
   "id": "thermal-threat",
   "metadata": {},
   "outputs": [
    {
     "data": {
      "text/plain": [
       "5"
      ]
     },
     "execution_count": 83,
     "metadata": {},
     "output_type": "execute_result"
    }
   ],
   "source": [
    "2 + 3"
   ]
  },
  {
   "cell_type": "markdown",
   "id": "casual-influence",
   "metadata": {},
   "source": [
    "# Everything in Python has a type!\n",
    "\n",
    "Every single piece of data has a \"type,\" meaning a data structure \"class\" that describes its capabilities.  Once you know what type of data you have, you know what that data can do."
   ]
  },
  {
   "cell_type": "code",
   "execution_count": 84,
   "id": "constant-survivor",
   "metadata": {},
   "outputs": [
    {
     "data": {
      "text/plain": [
       "'abcdefgh'"
      ]
     },
     "execution_count": 84,
     "metadata": {},
     "output_type": "execute_result"
    }
   ],
   "source": [
    "s = 'abcd'\n",
    "t = 'efgh'\n",
    "\n",
    "s + t"
   ]
  },
  {
   "cell_type": "code",
   "execution_count": 85,
   "id": "comprehensive-vanilla",
   "metadata": {},
   "outputs": [
    {
     "data": {
      "text/plain": [
       "str"
      ]
     },
     "execution_count": 85,
     "metadata": {},
     "output_type": "execute_result"
    }
   ],
   "source": [
    "# You can always find out the type of some data by running the \"type\" function on it\n",
    "type(s)"
   ]
  },
  {
   "cell_type": "code",
   "execution_count": 86,
   "id": "dressed-oasis",
   "metadata": {},
   "outputs": [
    {
     "data": {
      "text/plain": [
       "str"
      ]
     },
     "execution_count": 86,
     "metadata": {},
     "output_type": "execute_result"
    }
   ],
   "source": [
    "type(t)"
   ]
  },
  {
   "cell_type": "code",
   "execution_count": 87,
   "id": "changing-contrast",
   "metadata": {},
   "outputs": [
    {
     "data": {
      "text/plain": [
       "int"
      ]
     },
     "execution_count": 87,
     "metadata": {},
     "output_type": "execute_result"
    }
   ],
   "source": [
    "type(3)"
   ]
  },
  {
   "cell_type": "code",
   "execution_count": 88,
   "id": "joint-burning",
   "metadata": {},
   "outputs": [
    {
     "data": {
      "text/plain": [
       "float"
      ]
     },
     "execution_count": 88,
     "metadata": {},
     "output_type": "execute_result"
    }
   ],
   "source": [
    "type(3.5)"
   ]
  },
  {
   "cell_type": "markdown",
   "id": "endless-aerospace",
   "metadata": {},
   "source": [
    "# Data structure: Booleans (`bool`)\n",
    "\n",
    "### Values are `True` and `False` (yes, capitalized)"
   ]
  },
  {
   "cell_type": "code",
   "execution_count": 90,
   "id": "chinese-surge",
   "metadata": {},
   "outputs": [
    {
     "name": "stdout",
     "output_type": "stream",
     "text": [
      "Yes, s is True!\n"
     ]
    }
   ],
   "source": [
    "s = True\n",
    "\n",
    "if s == True:   # don't do this!\n",
    "    print('Yes, s is True!')"
   ]
  },
  {
   "cell_type": "code",
   "execution_count": 91,
   "id": "about-humanity",
   "metadata": {},
   "outputs": [
    {
     "name": "stdout",
     "output_type": "stream",
     "text": [
      "Yes, s is True!\n"
     ]
    }
   ],
   "source": [
    "if s:   # if looks to its right, sees s, which is True, and its block runs\n",
    "    print('Yes, s is True!')"
   ]
  },
  {
   "cell_type": "code",
   "execution_count": 92,
   "id": "involved-foundation",
   "metadata": {},
   "outputs": [
    {
     "name": "stdout",
     "output_type": "stream",
     "text": [
      "Yes, x is 10!\n"
     ]
    }
   ],
   "source": [
    "x = 10\n",
    "\n",
    "if x == 10:\n",
    "    print(f'Yes, x is 10!')"
   ]
  },
  {
   "cell_type": "markdown",
   "id": "western-bosnia",
   "metadata": {},
   "source": [
    "# Data structure: Integers (`int`)\n",
    "\n",
    "Integers are whole numbers, so any number you can imagine that doesn't have a fractional part (i.e., doesn't have a decimal point) is an integer.\n",
    "\n"
   ]
  },
  {
   "cell_type": "code",
   "execution_count": 93,
   "id": "annual-encyclopedia",
   "metadata": {},
   "outputs": [
    {
     "data": {
      "text/plain": [
       "int"
      ]
     },
     "execution_count": 93,
     "metadata": {},
     "output_type": "execute_result"
    }
   ],
   "source": [
    "x = 100\n",
    "y = 345\n",
    "\n",
    "type(x)"
   ]
  },
  {
   "cell_type": "code",
   "execution_count": 94,
   "id": "greater-schedule",
   "metadata": {},
   "outputs": [
    {
     "data": {
      "text/plain": [
       "int"
      ]
     },
     "execution_count": 94,
     "metadata": {},
     "output_type": "execute_result"
    }
   ],
   "source": [
    "type(y)"
   ]
  },
  {
   "cell_type": "code",
   "execution_count": 95,
   "id": "united-viewer",
   "metadata": {},
   "outputs": [
    {
     "data": {
      "text/plain": [
       "445"
      ]
     },
     "execution_count": 95,
     "metadata": {},
     "output_type": "execute_result"
    }
   ],
   "source": [
    "x + y"
   ]
  },
  {
   "cell_type": "code",
   "execution_count": 96,
   "id": "regional-orange",
   "metadata": {},
   "outputs": [],
   "source": [
    "x = 10\n",
    "y = 3"
   ]
  },
  {
   "cell_type": "code",
   "execution_count": 97,
   "id": "fifteen-blast",
   "metadata": {},
   "outputs": [
    {
     "data": {
      "text/plain": [
       "13"
      ]
     },
     "execution_count": 97,
     "metadata": {},
     "output_type": "execute_result"
    }
   ],
   "source": [
    "x + y"
   ]
  },
  {
   "cell_type": "code",
   "execution_count": 98,
   "id": "removable-massachusetts",
   "metadata": {},
   "outputs": [
    {
     "data": {
      "text/plain": [
       "7"
      ]
     },
     "execution_count": 98,
     "metadata": {},
     "output_type": "execute_result"
    }
   ],
   "source": [
    "x - y"
   ]
  },
  {
   "cell_type": "code",
   "execution_count": 99,
   "id": "overhead-allowance",
   "metadata": {},
   "outputs": [
    {
     "data": {
      "text/plain": [
       "30"
      ]
     },
     "execution_count": 99,
     "metadata": {},
     "output_type": "execute_result"
    }
   ],
   "source": [
    "x * y   # multiplication \n"
   ]
  },
  {
   "cell_type": "code",
   "execution_count": 100,
   "id": "vocal-polymer",
   "metadata": {},
   "outputs": [
    {
     "data": {
      "text/plain": [
       "3.3333333333333335"
      ]
     },
     "execution_count": 100,
     "metadata": {},
     "output_type": "execute_result"
    }
   ],
   "source": [
    "x / y   # division - it always returns a float!"
   ]
  },
  {
   "cell_type": "code",
   "execution_count": 101,
   "id": "environmental-chair",
   "metadata": {},
   "outputs": [
    {
     "data": {
      "text/plain": [
       "1000"
      ]
     },
     "execution_count": 101,
     "metadata": {},
     "output_type": "execute_result"
    }
   ],
   "source": [
    "x ** y   # exponentiation"
   ]
  },
  {
   "cell_type": "code",
   "execution_count": 102,
   "id": "thick-mambo",
   "metadata": {},
   "outputs": [
    {
     "data": {
      "text/plain": [
       "1"
      ]
     },
     "execution_count": 102,
     "metadata": {},
     "output_type": "execute_result"
    }
   ],
   "source": [
    "x % y    # x modulo y, meaning: what's the remainder after running x / y ?"
   ]
  },
  {
   "cell_type": "code",
   "execution_count": 104,
   "id": "tutorial-potter",
   "metadata": {},
   "outputs": [],
   "source": [
    "x = 10\n",
    " \n",
    "# to add 1 to x, we can say:\n",
    "x = x + 1   # this is assignment!  First calculate the right side, then assign to x"
   ]
  },
  {
   "cell_type": "code",
   "execution_count": 105,
   "id": "robust-manner",
   "metadata": {},
   "outputs": [
    {
     "data": {
      "text/plain": [
       "11"
      ]
     },
     "execution_count": 105,
     "metadata": {},
     "output_type": "execute_result"
    }
   ],
   "source": [
    "x"
   ]
  },
  {
   "cell_type": "code",
   "execution_count": 106,
   "id": "governing-banner",
   "metadata": {},
   "outputs": [],
   "source": [
    "# We can shrink that to say:\n",
    "\n",
    "x += 1    # this means: x = x + 1"
   ]
  },
  {
   "cell_type": "code",
   "execution_count": 107,
   "id": "fossil-dimension",
   "metadata": {},
   "outputs": [
    {
     "data": {
      "text/plain": [
       "12"
      ]
     },
     "execution_count": 107,
     "metadata": {},
     "output_type": "execute_result"
    }
   ],
   "source": [
    "x"
   ]
  },
  {
   "cell_type": "code",
   "execution_count": 108,
   "id": "medical-declaration",
   "metadata": {},
   "outputs": [
    {
     "ename": "SyntaxError",
     "evalue": "invalid syntax (<ipython-input-108-0af4bb0eac37>, line 1)",
     "output_type": "error",
     "traceback": [
      "\u001b[0;36m  File \u001b[0;32m\"<ipython-input-108-0af4bb0eac37>\"\u001b[0;36m, line \u001b[0;32m1\u001b[0m\n\u001b[0;31m    x++\u001b[0m\n\u001b[0m       ^\u001b[0m\n\u001b[0;31mSyntaxError\u001b[0m\u001b[0;31m:\u001b[0m invalid syntax\n"
     ]
    }
   ],
   "source": [
    "x++"
   ]
  },
  {
   "cell_type": "code",
   "execution_count": 109,
   "id": "iraqi-legislation",
   "metadata": {},
   "outputs": [
    {
     "name": "stdout",
     "output_type": "stream",
     "text": [
      "Enter a number: 10\n",
      "Enter another number: 20\n",
      "10 + 20 = 1020\n"
     ]
    }
   ],
   "source": [
    "x = input('Enter a number: ')\n",
    "y = input('Enter another number: ')\n",
    "\n",
    "print(f'{x} + {y} = {x+y}')"
   ]
  },
  {
   "cell_type": "code",
   "execution_count": 110,
   "id": "automotive-arrow",
   "metadata": {},
   "outputs": [
    {
     "data": {
      "text/plain": [
       "30"
      ]
     },
     "execution_count": 110,
     "metadata": {},
     "output_type": "execute_result"
    }
   ],
   "source": [
    "# How can we turn a string into an integer?\n",
    "# Use the \"int\" function on a string; it'll return an int based on that string\n",
    "\n",
    "int(x) + int(y)"
   ]
  },
  {
   "cell_type": "code",
   "execution_count": 111,
   "id": "british-platinum",
   "metadata": {},
   "outputs": [
    {
     "data": {
      "text/plain": [
       "30"
      ]
     },
     "execution_count": 111,
     "metadata": {},
     "output_type": "execute_result"
    }
   ],
   "source": [
    "# int doesn't change x or y -- it returns a new value, which we can use.\n",
    "\n",
    "# Of course, I could say:\n",
    "\n",
    "x = int(x)\n",
    "y = int(y)\n",
    "\n",
    "x + y"
   ]
  },
  {
   "cell_type": "code",
   "execution_count": 112,
   "id": "postal-therapy",
   "metadata": {},
   "outputs": [
    {
     "data": {
      "text/plain": [
       "10"
      ]
     },
     "execution_count": 112,
     "metadata": {},
     "output_type": "execute_result"
    }
   ],
   "source": [
    "int('10')"
   ]
  },
  {
   "cell_type": "code",
   "execution_count": 113,
   "id": "former-grace",
   "metadata": {
    "scrolled": true
   },
   "outputs": [
    {
     "ename": "ValueError",
     "evalue": "invalid literal for int() with base 10: 'abcde'",
     "output_type": "error",
     "traceback": [
      "\u001b[0;31m---------------------------------------------------------------------------\u001b[0m",
      "\u001b[0;31mValueError\u001b[0m                                Traceback (most recent call last)",
      "\u001b[0;32m<ipython-input-113-e886c921feca>\u001b[0m in \u001b[0;36m<module>\u001b[0;34m\u001b[0m\n\u001b[0;32m----> 1\u001b[0;31m \u001b[0mint\u001b[0m\u001b[0;34m(\u001b[0m\u001b[0;34m'abcde'\u001b[0m\u001b[0;34m)\u001b[0m\u001b[0;34m\u001b[0m\u001b[0;34m\u001b[0m\u001b[0m\n\u001b[0m",
      "\u001b[0;31mValueError\u001b[0m: invalid literal for int() with base 10: 'abcde'"
     ]
    }
   ],
   "source": [
    "int('abcde')"
   ]
  },
  {
   "cell_type": "code",
   "execution_count": 114,
   "id": "indie-private",
   "metadata": {},
   "outputs": [
    {
     "name": "stdout",
     "output_type": "stream",
     "text": [
      "Yes, it's 10!\n"
     ]
    }
   ],
   "source": [
    "x = 10\n",
    "\n",
    "if x == 10:  # --> if True:\n",
    "    print('Yes, it\\'s 10!')  # this runs if the conditional expression evaluated to True\n",
    "\n",
    "else:\n",
    "    print('No, it is not')   # this runs if the conditional expression evaluated to False\n"
   ]
  },
  {
   "cell_type": "markdown",
   "id": "verbal-license",
   "metadata": {},
   "source": [
    "# Exercise: Number guessing game\n",
    "\n",
    "1. Generate a random integer between 0 and 100 (I'll show you how), and store it in the variable `number`.\n",
    "\n",
    "```python\n",
    "import random\n",
    "number = random.randint(0, 100)\n",
    "```\n",
    "\n",
    "2. Print the number, so that guessing is much easier.\n",
    "3. Ask the user to guess the number.\n",
    "    - Don't forget that `input` returns a string!  You'll need to convert it!\n",
    "4. Print one of:\n",
    "    - Too low!\n",
    "    - Too high!\n",
    "    - You got it!\n",
    "    \n",
    "Example:\n",
    "\n",
    "    Random number is 56\n",
    "    Guess: 100\n",
    "    Too high!\n",
    "\n",
    "    Random number is 28\n",
    "    Guess: 3\n",
    "    Too low!\n",
    "    \n",
    "    Random number is 28\n",
    "    Guess: 28\n",
    "    You got it!\n",
    "    \n",
    "    \n",
    "\n"
   ]
  },
  {
   "cell_type": "markdown",
   "id": "recognized-thong",
   "metadata": {},
   "source": [
    "# Strategy\n",
    "\n",
    "1. Generate a random number\n",
    "\n",
    "```python\n",
    "import random\n",
    "number = random.randint(0, 100)\n",
    "```\n",
    "\n",
    "2. Print the number\n",
    "    - Use an f-string to do that!\n",
    "    \n",
    "3. Ask the user to enter a guess.  \n",
    "    - Use `input` to get the user's guess\n",
    "    - Assign the user's guess to a variable `guess`\n",
    "    - That's a string... so use `int` to turn it into an integer\n",
    "    - Remember that `int` *RETURNS* an integer.  It doesn't convert it.\n",
    "\n",
    "4. Use `if`/`elif`/`else` to determine whether `guess` is larger than `number`, smaller than `number`, or the same.\n"
   ]
  },
  {
   "cell_type": "code",
   "execution_count": 121,
   "id": "integral-journalism",
   "metadata": {},
   "outputs": [
    {
     "name": "stdout",
     "output_type": "stream",
     "text": [
      "number = 82\n",
      "Enter a guess: 82\n"
     ]
    }
   ],
   "source": [
    "import random\n",
    "number = random.randint(0, 100)\n",
    "\n",
    "print(f'number = {number}')\n",
    "\n",
    "guess = input('Enter a guess: ')"
   ]
  },
  {
   "cell_type": "code",
   "execution_count": 124,
   "id": "heard-fraction",
   "metadata": {},
   "outputs": [
    {
     "data": {
      "text/plain": [
       "False"
      ]
     },
     "execution_count": 124,
     "metadata": {},
     "output_type": "execute_result"
    }
   ],
   "source": [
    "# is the integer 82 equal to the string '82'?  NO IT IS NOT!\n",
    "guess == 82"
   ]
  },
  {
   "cell_type": "code",
   "execution_count": 125,
   "id": "lasting-field",
   "metadata": {},
   "outputs": [
    {
     "data": {
      "text/plain": [
       "int"
      ]
     },
     "execution_count": 125,
     "metadata": {},
     "output_type": "execute_result"
    }
   ],
   "source": [
    "# create an integer based on the string \"guess\",\n",
    "# and then assign it to the variable \"guess\"\n",
    "guess = int(guess)   \n",
    "\n",
    "type(guess)"
   ]
  },
  {
   "cell_type": "code",
   "execution_count": 129,
   "id": "hidden-attribute",
   "metadata": {},
   "outputs": [
    {
     "name": "stdout",
     "output_type": "stream",
     "text": [
      "number = 77\n",
      "Enter a guess: abcd\n"
     ]
    },
    {
     "ename": "ValueError",
     "evalue": "invalid literal for int() with base 10: 'abcd'",
     "output_type": "error",
     "traceback": [
      "\u001b[0;31m---------------------------------------------------------------------------\u001b[0m",
      "\u001b[0;31mValueError\u001b[0m                                Traceback (most recent call last)",
      "\u001b[0;32m<ipython-input-129-afc1055cbc5e>\u001b[0m in \u001b[0;36m<module>\u001b[0;34m\u001b[0m\n\u001b[1;32m      5\u001b[0m \u001b[0;34m\u001b[0m\u001b[0m\n\u001b[1;32m      6\u001b[0m \u001b[0mguess\u001b[0m \u001b[0;34m=\u001b[0m \u001b[0minput\u001b[0m\u001b[0;34m(\u001b[0m\u001b[0;34m'Enter a guess: '\u001b[0m\u001b[0;34m)\u001b[0m\u001b[0;34m\u001b[0m\u001b[0;34m\u001b[0m\u001b[0m\n\u001b[0;32m----> 7\u001b[0;31m \u001b[0mguess\u001b[0m \u001b[0;34m=\u001b[0m \u001b[0mint\u001b[0m\u001b[0;34m(\u001b[0m\u001b[0mguess\u001b[0m\u001b[0;34m)\u001b[0m\u001b[0;34m\u001b[0m\u001b[0;34m\u001b[0m\u001b[0m\n\u001b[0m\u001b[1;32m      8\u001b[0m \u001b[0;34m\u001b[0m\u001b[0m\n\u001b[1;32m      9\u001b[0m \u001b[0;32mif\u001b[0m \u001b[0mguess\u001b[0m \u001b[0;34m==\u001b[0m \u001b[0mnumber\u001b[0m\u001b[0;34m:\u001b[0m\u001b[0;34m\u001b[0m\u001b[0;34m\u001b[0m\u001b[0m\n",
      "\u001b[0;31mValueError\u001b[0m: invalid literal for int() with base 10: 'abcd'"
     ]
    }
   ],
   "source": [
    "import random\n",
    "number = random.randint(0, 100)\n",
    "\n",
    "print(f'number = {number}')\n",
    "\n",
    "guess = input('Enter a guess: ')\n",
    "guess = int(guess)   \n",
    "\n",
    "if guess == number:\n",
    "    print('You got it!')\n",
    "elif guess < number:\n",
    "    print('Too low!')\n",
    "else:\n",
    "    print('Too high!')    "
   ]
  },
  {
   "cell_type": "markdown",
   "id": "dangerous-swiss",
   "metadata": {},
   "source": [
    "# Exercise: Calculator\n",
    "\n",
    "1. Ask the user to enter two different numbers, and assign them to the variables `first` and `second` again.\n",
    "2. Ask the user a third question, to enter an operator (`+` or `-`).\n",
    "3. If the user enters `+`, then show the two numbers and their sum.\n",
    "4. If the user enters `-`, then show the two numbers and their difference.\n",
    "5. If the user enters a different operator, give them an error message.\n",
    "\n",
    "Example:\n",
    "\n",
    "    Enter first: 10\n",
    "    Enter second: 5\n",
    "    Enter operator: +\n",
    "    10 + 5 = 15"
   ]
  },
  {
   "cell_type": "code",
   "execution_count": 131,
   "id": "received-biodiversity",
   "metadata": {},
   "outputs": [
    {
     "name": "stdout",
     "output_type": "stream",
     "text": [
      "Enter first number: 18\n",
      "Enter second number: 2\n",
      "Enter an operator: -\n",
      "18 - 2 = 16\n"
     ]
    }
   ],
   "source": [
    "first = input('Enter first number: ')\n",
    "second = input('Enter second number: ')\n",
    "\n",
    "operator = input('Enter an operator: ')\n",
    "\n",
    "first = int(first)\n",
    "second = int(second)\n",
    "\n",
    "if operator == '+':\n",
    "    total = first+second\n",
    "    print(f'{first} + {second} = {total}')\n",
    "\n",
    "elif operator == '-':\n",
    "    difference = first-second\n",
    "    print(f'{first} - {second} = {difference}')\n",
    "    \n",
    "else:\n",
    "    print(f'The operator {operator} is not supported.')"
   ]
  },
  {
   "cell_type": "code",
   "execution_count": 132,
   "id": "hearing-landscape",
   "metadata": {},
   "outputs": [
    {
     "data": {
      "text/plain": [
       "int"
      ]
     },
     "execution_count": 132,
     "metadata": {},
     "output_type": "execute_result"
    }
   ],
   "source": [
    "x = 10\n",
    "type(x)"
   ]
  },
  {
   "cell_type": "code",
   "execution_count": 133,
   "id": "special-memphis",
   "metadata": {},
   "outputs": [
    {
     "data": {
      "text/plain": [
       "float"
      ]
     },
     "execution_count": 133,
     "metadata": {},
     "output_type": "execute_result"
    }
   ],
   "source": [
    "x = 10.0\n",
    "type(x)"
   ]
  },
  {
   "cell_type": "code",
   "execution_count": 134,
   "id": "experimental-healthcare",
   "metadata": {},
   "outputs": [
    {
     "data": {
      "text/plain": [
       "16.0"
      ]
     },
     "execution_count": 134,
     "metadata": {},
     "output_type": "execute_result"
    }
   ],
   "source": [
    "x = 10.3\n",
    "y = 5.7\n",
    "\n",
    "x + y"
   ]
  },
  {
   "cell_type": "code",
   "execution_count": 135,
   "id": "conceptual-zambia",
   "metadata": {},
   "outputs": [
    {
     "data": {
      "text/plain": [
       "4.6000000000000005"
      ]
     },
     "execution_count": 135,
     "metadata": {},
     "output_type": "execute_result"
    }
   ],
   "source": [
    "x - y"
   ]
  },
  {
   "cell_type": "code",
   "execution_count": 136,
   "id": "aware-ultimate",
   "metadata": {},
   "outputs": [
    {
     "data": {
      "text/plain": [
       "0.30000000000000004"
      ]
     },
     "execution_count": 136,
     "metadata": {},
     "output_type": "execute_result"
    }
   ],
   "source": [
    "0.1 + 0.2"
   ]
  },
  {
   "cell_type": "code",
   "execution_count": 137,
   "id": "trained-muscle",
   "metadata": {},
   "outputs": [
    {
     "data": {
      "text/plain": [
       "0.3333333333333333"
      ]
     },
     "execution_count": 137,
     "metadata": {},
     "output_type": "execute_result"
    }
   ],
   "source": [
    "1/3"
   ]
  },
  {
   "cell_type": "code",
   "execution_count": 138,
   "id": "packed-arrest",
   "metadata": {},
   "outputs": [
    {
     "data": {
      "text/plain": [
       "123"
      ]
     },
     "execution_count": 138,
     "metadata": {},
     "output_type": "execute_result"
    }
   ],
   "source": [
    "# from str to int, we call \"int\" as a function\n",
    "int('123')"
   ]
  },
  {
   "cell_type": "code",
   "execution_count": 139,
   "id": "contrary-bacteria",
   "metadata": {},
   "outputs": [
    {
     "data": {
      "text/plain": [
       "123.0"
      ]
     },
     "execution_count": 139,
     "metadata": {},
     "output_type": "execute_result"
    }
   ],
   "source": [
    "# from str to float, we call \"float\" as a function\n",
    "float('123')"
   ]
  },
  {
   "cell_type": "code",
   "execution_count": 140,
   "id": "weird-counter",
   "metadata": {},
   "outputs": [
    {
     "data": {
      "text/plain": [
       "123.0"
      ]
     },
     "execution_count": 140,
     "metadata": {},
     "output_type": "execute_result"
    }
   ],
   "source": [
    "# from int to float, use \"float\" as a function\n",
    "float(123)"
   ]
  },
  {
   "cell_type": "code",
   "execution_count": 141,
   "id": "logical-scenario",
   "metadata": {},
   "outputs": [
    {
     "data": {
      "text/plain": [
       "123"
      ]
     },
     "execution_count": 141,
     "metadata": {},
     "output_type": "execute_result"
    }
   ],
   "source": [
    "# from float to int, use \"int\" as a function\n",
    "int(123.456)   # it chops the number at the decimal point!"
   ]
  },
  {
   "cell_type": "code",
   "execution_count": 142,
   "id": "ongoing-thread",
   "metadata": {},
   "outputs": [
    {
     "data": {
      "text/plain": [
       "'123'"
      ]
     },
     "execution_count": 142,
     "metadata": {},
     "output_type": "execute_result"
    }
   ],
   "source": [
    "# from int to str... use \"str\" as a function\n",
    "str(123)"
   ]
  },
  {
   "cell_type": "code",
   "execution_count": 143,
   "id": "wrong-subsection",
   "metadata": {},
   "outputs": [
    {
     "data": {
      "text/plain": [
       "'123.456'"
      ]
     },
     "execution_count": 143,
     "metadata": {},
     "output_type": "execute_result"
    }
   ],
   "source": [
    "# from float to str... use \"str\" as a function\n",
    "str(123.456)"
   ]
  },
  {
   "cell_type": "code",
   "execution_count": 144,
   "id": "norwegian-surveillance",
   "metadata": {},
   "outputs": [
    {
     "data": {
      "text/plain": [
       "3.3"
      ]
     },
     "execution_count": 144,
     "metadata": {},
     "output_type": "execute_result"
    }
   ],
   "source": [
    "1 + 2.3"
   ]
  },
  {
   "cell_type": "code",
   "execution_count": 145,
   "id": "expensive-dictionary",
   "metadata": {},
   "outputs": [
    {
     "data": {
      "text/plain": [
       "3.0"
      ]
     },
     "execution_count": 145,
     "metadata": {},
     "output_type": "execute_result"
    }
   ],
   "source": [
    "1 + 2.0"
   ]
  },
  {
   "cell_type": "markdown",
   "id": "behavioral-executive",
   "metadata": {},
   "source": [
    "# Data structure: Strings"
   ]
  },
  {
   "cell_type": "code",
   "execution_count": 146,
   "id": "liable-matthew",
   "metadata": {},
   "outputs": [
    {
     "data": {
      "text/plain": [
       "7"
      ]
     },
     "execution_count": 146,
     "metadata": {},
     "output_type": "execute_result"
    }
   ],
   "source": [
    "# We can create strings with '', \"\", or even f'' or f\"\"\n",
    "\n",
    "s = 'abcdefg'\n",
    "\n",
    "# how long is s?  We can ask with the \"len\" function\n",
    "len(s)"
   ]
  },
  {
   "cell_type": "code",
   "execution_count": 147,
   "id": "visible-machine",
   "metadata": {},
   "outputs": [
    {
     "ename": "SyntaxError",
     "evalue": "EOL while scanning string literal (<ipython-input-147-dddea29ccf79>, line 2)",
     "output_type": "error",
     "traceback": [
      "\u001b[0;36m  File \u001b[0;32m\"<ipython-input-147-dddea29ccf79>\"\u001b[0;36m, line \u001b[0;32m2\u001b[0m\n\u001b[0;31m    s = 'abc\u001b[0m\n\u001b[0m            ^\u001b[0m\n\u001b[0;31mSyntaxError\u001b[0m\u001b[0;31m:\u001b[0m EOL while scanning string literal\n"
     ]
    }
   ],
   "source": [
    "# what if I want to print abc, then go down a line, and then print def?\n",
    "s = 'abc\n",
    "def'\n",
    "\n",
    "print(s)"
   ]
  },
  {
   "cell_type": "code",
   "execution_count": 148,
   "id": "commercial-dynamics",
   "metadata": {},
   "outputs": [
    {
     "name": "stdout",
     "output_type": "stream",
     "text": [
      "abc\n",
      "def\n"
     ]
    }
   ],
   "source": [
    "# If we want to include a newline in the string, we type \\n\n",
    "# \\n is translated into the character for a new line\n",
    "\n",
    "s = 'abc\\ndef'\n",
    "\n",
    "print(s)"
   ]
  },
  {
   "cell_type": "code",
   "execution_count": 149,
   "id": "outstanding-sister",
   "metadata": {},
   "outputs": [
    {
     "data": {
      "text/plain": [
       "7"
      ]
     },
     "execution_count": 149,
     "metadata": {},
     "output_type": "execute_result"
    }
   ],
   "source": [
    "# \\n -- we type two characters, but in the string, it's seen as one\n",
    "len(s)"
   ]
  },
  {
   "cell_type": "code",
   "execution_count": 151,
   "id": "north-range",
   "metadata": {},
   "outputs": [],
   "source": [
    "# To retrieve characters from a string, use [] and a numeric index starting with 0\n",
    "\n",
    "s = 'abcdefghijklmnopqrstuvwxyz'\n",
    "\n"
   ]
  },
  {
   "cell_type": "code",
   "execution_count": 152,
   "id": "experienced-approval",
   "metadata": {},
   "outputs": [
    {
     "data": {
      "text/plain": [
       "'a'"
      ]
     },
     "execution_count": 152,
     "metadata": {},
     "output_type": "execute_result"
    }
   ],
   "source": [
    "s[0]  # return the first character in the string s"
   ]
  },
  {
   "cell_type": "code",
   "execution_count": 153,
   "id": "executed-threat",
   "metadata": {},
   "outputs": [
    {
     "data": {
      "text/plain": [
       "'b'"
      ]
     },
     "execution_count": 153,
     "metadata": {},
     "output_type": "execute_result"
    }
   ],
   "source": [
    "s[1]"
   ]
  },
  {
   "cell_type": "code",
   "execution_count": 154,
   "id": "continued-liability",
   "metadata": {},
   "outputs": [
    {
     "data": {
      "text/plain": [
       "'c'"
      ]
     },
     "execution_count": 154,
     "metadata": {},
     "output_type": "execute_result"
    }
   ],
   "source": [
    "s[2]"
   ]
  },
  {
   "cell_type": "code",
   "execution_count": 155,
   "id": "presidential-terrorist",
   "metadata": {},
   "outputs": [
    {
     "data": {
      "text/plain": [
       "'z'"
      ]
     },
     "execution_count": 155,
     "metadata": {},
     "output_type": "execute_result"
    }
   ],
   "source": [
    "# the final letter\n",
    "s[25]"
   ]
  },
  {
   "cell_type": "code",
   "execution_count": 156,
   "id": "labeled-imperial",
   "metadata": {},
   "outputs": [
    {
     "data": {
      "text/plain": [
       "'z'"
      ]
     },
     "execution_count": 156,
     "metadata": {},
     "output_type": "execute_result"
    }
   ],
   "source": [
    "i = 25\n",
    "s[i]  # you can use a variable as an index"
   ]
  },
  {
   "cell_type": "code",
   "execution_count": 157,
   "id": "vertical-aircraft",
   "metadata": {},
   "outputs": [
    {
     "data": {
      "text/plain": [
       "'z'"
      ]
     },
     "execution_count": 157,
     "metadata": {},
     "output_type": "execute_result"
    }
   ],
   "source": [
    "# What if I don't know how long s is, and I want its final character\n",
    "s[len(s)-1]"
   ]
  },
  {
   "cell_type": "code",
   "execution_count": 158,
   "id": "individual-holocaust",
   "metadata": {},
   "outputs": [
    {
     "ename": "IndexError",
     "evalue": "string index out of range",
     "output_type": "error",
     "traceback": [
      "\u001b[0;31m---------------------------------------------------------------------------\u001b[0m",
      "\u001b[0;31mIndexError\u001b[0m                                Traceback (most recent call last)",
      "\u001b[0;32m<ipython-input-158-14396bbcc6f6>\u001b[0m in \u001b[0;36m<module>\u001b[0;34m\u001b[0m\n\u001b[0;32m----> 1\u001b[0;31m \u001b[0ms\u001b[0m\u001b[0;34m[\u001b[0m\u001b[0;36m99999\u001b[0m\u001b[0;34m]\u001b[0m\u001b[0;34m\u001b[0m\u001b[0;34m\u001b[0m\u001b[0m\n\u001b[0m",
      "\u001b[0;31mIndexError\u001b[0m: string index out of range"
     ]
    }
   ],
   "source": [
    "s[99999]"
   ]
  },
  {
   "cell_type": "markdown",
   "id": "affecting-remove",
   "metadata": {},
   "source": [
    "# Exercise: Retrieve from the string\n",
    "\n",
    "1. Ask the user to enter a string, and assign it to `s`.\n",
    "2. Ask the user to enter a numeric index, and assign it to `i`.\n",
    "3. If `i` is < 0 or too high, then print an error message.\n",
    "4. Otherwise, print the index and character.\n",
    "\n",
    "Example:\n",
    "\n",
    "    Enter a string: hello\n",
    "    Enter an index: 100\n",
    "        100 is too high\n",
    "        \n",
    "    Enter a string: hello\n",
    "    Enter an index: 1\n",
    "        index 1 is e"
   ]
  },
  {
   "cell_type": "markdown",
   "id": "sustainable-nevada",
   "metadata": {},
   "source": [
    "# Strategy:\n",
    "\n",
    "1. Ask the user to enter a string (`input`) and assign to `s`.\n",
    "2. Ask the user to enter an integer `i`.  But of course, we get it as a string, so we'll need to convert it to an integer.\n",
    "3. Check:\n",
    "    - is `i` < 0?  If so, then scold the user\n",
    "    - is `i >= len(s)`?  If so, then scold the user\n",
    "    - Print `i` and `s[i]`"
   ]
  },
  {
   "cell_type": "code",
   "execution_count": 164,
   "id": "attached-event",
   "metadata": {},
   "outputs": [
    {
     "name": "stdout",
     "output_type": "stream",
     "text": [
      "Enter string: hello\n",
      "Enter numeric value: -1\n",
      "-1 is < 0!\n"
     ]
    }
   ],
   "source": [
    "s = input('Enter string: ')\n",
    "i = input('Enter numeric value: ')\n",
    "i = int(i)\n",
    "\n",
    "if i < 0:\n",
    "    print(f'{i} is < 0!')\n",
    "     \n",
    "elif i >= len(s):\n",
    "    print(f'{i} is >= than s')\n",
    "    \n",
    "else:\n",
    "    print(f'character in the string {i} is {s[i]}')"
   ]
  },
  {
   "cell_type": "code",
   "execution_count": 160,
   "id": "considered-algebra",
   "metadata": {},
   "outputs": [
    {
     "data": {
      "text/plain": [
       "'hello'"
      ]
     },
     "execution_count": 160,
     "metadata": {},
     "output_type": "execute_result"
    }
   ],
   "source": [
    "s"
   ]
  },
  {
   "cell_type": "code",
   "execution_count": 161,
   "id": "boolean-collar",
   "metadata": {},
   "outputs": [
    {
     "data": {
      "text/plain": [
       "'o'"
      ]
     },
     "execution_count": 161,
     "metadata": {},
     "output_type": "execute_result"
    }
   ],
   "source": [
    "s[len(s)-1]  # final character"
   ]
  },
  {
   "cell_type": "code",
   "execution_count": 162,
   "id": "fallen-spread",
   "metadata": {},
   "outputs": [
    {
     "data": {
      "text/plain": [
       "'o'"
      ]
     },
     "execution_count": 162,
     "metadata": {},
     "output_type": "execute_result"
    }
   ],
   "source": [
    "s[-1]   # final character"
   ]
  },
  {
   "cell_type": "code",
   "execution_count": 163,
   "id": "racial-expansion",
   "metadata": {},
   "outputs": [
    {
     "data": {
      "text/plain": [
       "'l'"
      ]
     },
     "execution_count": 163,
     "metadata": {},
     "output_type": "execute_result"
    }
   ],
   "source": [
    "s[-2]  # second to final character"
   ]
  },
  {
   "cell_type": "code",
   "execution_count": 170,
   "id": "continuing-script",
   "metadata": {},
   "outputs": [
    {
     "name": "stdout",
     "output_type": "stream",
     "text": [
      "Enter a string: hello\n",
      "Enter a index: -3\n",
      "4\n",
      "-3 too low!\n"
     ]
    }
   ],
   "source": [
    "# Setup\n",
    "s= input ('Enter a string: ')\n",
    "i= input ('Enter a index: ')\n",
    "i=int(i)\n",
    "\n",
    "size = len(s)-1 \n",
    "print(size)\n",
    "\n",
    "# Calculations + report\n",
    "if i > size:\n",
    "    print (f' {i} to high, insert a value less than or equal {size}')\n",
    "elif i < 0:  \n",
    "    print(f'{i} too low!')\n",
    "else:\n",
    "    print (f' the caracter defined according index is :')\n",
    "    print (s[i])\n",
    "    \n"
   ]
  },
  {
   "cell_type": "code",
   "execution_count": null,
   "id": "living-method",
   "metadata": {},
   "outputs": [],
   "source": []
  }
 ],
 "metadata": {
  "kernelspec": {
   "display_name": "Python 3",
   "language": "python",
   "name": "python3"
  },
  "language_info": {
   "codemirror_mode": {
    "name": "ipython",
    "version": 3
   },
   "file_extension": ".py",
   "mimetype": "text/x-python",
   "name": "python",
   "nbconvert_exporter": "python",
   "pygments_lexer": "ipython3",
   "version": "3.8.6"
  }
 },
 "nbformat": 4,
 "nbformat_minor": 5
}
