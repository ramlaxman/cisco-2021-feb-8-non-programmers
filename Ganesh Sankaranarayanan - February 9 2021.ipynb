{
 "cells": [
  {
   "cell_type": "code",
   "execution_count": 6,
   "id": "editorial-latvia",
   "metadata": {},
   "outputs": [
    {
     "name": "stdout",
     "output_type": "stream",
     "text": [
      "Enter the birth year: 2019\n",
      "Enter birthday to calculate year for: -1\n",
      "Huh ! You might want to try a more realistic birth day\n"
     ]
    }
   ],
   "source": [
    "birth_year = input('Enter the birth year: ')\n",
    "birth_day = input('Enter birthday to calculate year for: ')\n",
    "\n",
    "birth_year = int(birth_year)\n",
    "birth_day = int(birth_day)\n",
    "\n",
    "expected_birth_year = birth_year + birth_day\n",
    "    \n",
    "if birth_day > 100:\n",
    "    print('Wow, Congratulations. You made it !!!!')\n",
    "    print(f'You will be {birth_day} in {expected_birth_year}')\n",
    "          \n",
    "elif birth_day < 0:\n",
    "    print('Huh ! You might want to try a more realistic birth day')\n",
    "\n",
    "else:\n",
    "    print(f'You will be {birth_day} in {expected_birth_year}')"
   ]
  },
  {
   "cell_type": "code",
   "execution_count": 7,
   "id": "unnecessary-prevention",
   "metadata": {},
   "outputs": [
    {
     "name": "stdout",
     "output_type": "stream",
     "text": [
      "Friendly-traceback installed.\n"
     ]
    }
   ],
   "source": [
    "from friendly_traceback.ipython import *"
   ]
  },
  {
   "cell_type": "code",
   "execution_count": 9,
   "id": "friendly-direction",
   "metadata": {},
   "outputs": [
    {
     "name": "stdout",
     "output_type": "stream",
     "text": [
      "Enter the birth year: 2019\n",
      "Enter birthday to calculate year for: -1\n",
      "Huh ! Lets get realistic !!\n"
     ]
    }
   ],
   "source": [
    "birth_year = input('Enter the birth year: ')\n",
    "birth_day = input('Enter birthday to calculate year for: ')\n",
    "\n",
    "birth_year = int(birth_year)\n",
    "birth_day = int(birth_day)\n",
    "\n",
    "expected_year = birth_year + birth_day\n",
    "    \n",
    "if birth_day > 100:\n",
    "    print('Wow, Congratulations. You made it !!!!')\n",
    "    print(f'You will be {birth_day} in {expected_year}')\n",
    "          \n",
    "elif birth_day < 0:\n",
    "    print('Huh ! Lets get realistic !!')\n",
    "\n",
    "else:\n",
    "    print(f'You will be {birth_day} in {expected_year}')"
   ]
  },
  {
   "cell_type": "code",
   "execution_count": 31,
   "id": "blind-vancouver",
   "metadata": {},
   "outputs": [
    {
     "name": "stdout",
     "output_type": "stream",
     "text": [
      "Enter an english word :elephant\n",
      "8\n",
      "elephantway\n"
     ]
    }
   ],
   "source": [
    "user_word = input('Enter an english word :')\n",
    "\n",
    "first_letter = user_word[0]\n",
    "index_length = len(user_word)\n",
    "\n",
    "print(f'{index_length}')\n",
    "\n",
    "if first_letter in 'aeiou':\n",
    "    user_word = user_word + 'way'\n",
    "    print(f'{user_word}')\n",
    "\n",
    "else:\n",
    "    user_word = user_word[1:index_length] + first_letter + 'way'\n",
    "    print(f'{user_word}')\n",
    "          \n"
   ]
  },
  {
   "cell_type": "code",
   "execution_count": 37,
   "id": "velvet-sixth",
   "metadata": {},
   "outputs": [
    {
     "name": "stdout",
     "output_type": "stream",
     "text": [
      "Enter an english word :ganesh\n",
      "aneshgay\n"
     ]
    }
   ],
   "source": [
    "### Same as the previous...but With less variables\n",
    "user_word = input('Enter an english word :')\n",
    "\n",
    "\n",
    "if user_word[0] in 'aeiou':\n",
    "    user_word = user_word + 'way'\n",
    "    print(f'{user_word}')\n",
    "\n",
    "else:\n",
    "    user_word = user_word[1:len(user_word)] + user_word[0] + 'ay'\n",
    "    print(f'{user_word}')\n",
    "          \n"
   ]
  },
  {
   "cell_type": "code",
   "execution_count": 46,
   "id": "narrative-louis",
   "metadata": {},
   "outputs": [
    {
     "name": "stdout",
     "output_type": "stream",
     "text": [
      "Enter first number :abc\n",
      "Enter second number :def\n",
      "The abc and def are not numeric\n"
     ]
    },
    {
     "name": "stderr",
     "output_type": "stream",
     "text": [
      "\n",
      "Traceback (most recent call last):\n",
      "  File \"<ipython-input-46>\", line 9, in <module>\n",
      "    first_number = int(first_number)\n",
      "ValueError: invalid literal for int() with base 10: 'abc'\n"
     ]
    }
   ],
   "source": [
    "first_number = input('Enter first number :')\n",
    "second_number = input('Enter second number :')\n",
    "\n",
    "if not str.isdigit(first_number) and not str.isdigit(second_number):\n",
    "    print(f'The {first_number} and {second_number} are not numeric')\n",
    "\n",
    "elif not str.isdigit(first_number) and str.isdigit\n",
    "\n",
    "\n",
    "if first_number.isdigit and second_number.isdigit:\n",
    "    first_number = int(first_number)\n",
    "    second_number = int(second_number)\n",
    "    Total = first_number + second_number\n",
    "    print(f'The sum of {first_number} and {second_number} is {Total}.')\n",
    "\n",
    "elif not first_number.isdigit and second_number.isdigit:\n",
    "    print(f'The {first_number} is not numeric.')\n",
    "\n",
    "elif first_number.isdigit and not second_number.isdigit:\n",
    "    print(f'The {second_number} is not numeric.')\n",
    "\n",
    "else:\n",
    "    print(f'The {first_number} and {second_number} are not numeric')\n"
   ]
  },
  {
   "cell_type": "code",
   "execution_count": 43,
   "id": "complete-turtle",
   "metadata": {},
   "outputs": [],
   "source": [
    "s = 'abc'"
   ]
  },
  {
   "cell_type": "code",
   "execution_count": 44,
   "id": "tested-method",
   "metadata": {},
   "outputs": [
    {
     "data": {
      "text/plain": [
       "<function str.isdigit()>"
      ]
     },
     "execution_count": 44,
     "metadata": {},
     "output_type": "execute_result"
    }
   ],
   "source": [
    "s.isdigit"
   ]
  },
  {
   "cell_type": "code",
   "execution_count": 45,
   "id": "private-audit",
   "metadata": {},
   "outputs": [
    {
     "data": {
      "text/plain": [
       "False"
      ]
     },
     "execution_count": 45,
     "metadata": {},
     "output_type": "execute_result"
    }
   ],
   "source": [
    "str.isdigit(s)"
   ]
  },
  {
   "cell_type": "code",
   "execution_count": null,
   "id": "general-village",
   "metadata": {},
   "outputs": [],
   "source": []
  }
 ],
 "metadata": {
  "kernelspec": {
   "display_name": "Python 3",
   "language": "python",
   "name": "python3"
  },
  "language_info": {
   "codemirror_mode": {
    "name": "ipython",
    "version": 3
   },
   "file_extension": ".py",
   "mimetype": "text/x-python",
   "name": "python",
   "nbconvert_exporter": "python",
   "pygments_lexer": "ipython3",
   "version": "3.8.6"
  }
 },
 "nbformat": 4,
 "nbformat_minor": 5
}
