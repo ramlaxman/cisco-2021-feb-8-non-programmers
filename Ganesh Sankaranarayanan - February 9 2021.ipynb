{
 "cells": [
  {
   "cell_type": "markdown",
   "id": "growing-arizona",
   "metadata": {},
   "source": [
    "birth_year = input('Enter the birth year: ')\n",
    "birth_day = input('Enter birthday to calculate year for: ')\n",
    "\n",
    "birth_year = int(birth_year)\n",
    "birth_day = int(birth_day)\n",
    "\n",
    "expected_birth_year = birth_year + birth_day\n",
    "    \n",
    "if birth_day > 100:\n",
    "    print('Wow, Congratulations. You made it !!!!')\n",
    "    print(f'You will be {birth_day} in {expected_birth_year}')\n",
    "          \n",
    "elif birth_day < 0:\n",
    "    print('Huh ! You might want to try a more realistic birth day')\n",
    "\n",
    "else:\n",
    "    print(f'You will be {birth_day} in {expected_birth_year}')"
   ]
  },
  {
   "cell_type": "code",
   "execution_count": 7,
   "id": "representative-absorption",
   "metadata": {},
   "outputs": [
    {
     "name": "stdout",
     "output_type": "stream",
     "text": [
      "Friendly-traceback installed.\n"
     ]
    }
   ],
   "source": [
    "from friendly_traceback.ipython import *"
   ]
  },
  {
   "cell_type": "code",
   "execution_count": 9,
   "id": "copyrighted-denmark",
   "metadata": {},
   "outputs": [
    {
     "name": "stdout",
     "output_type": "stream",
     "text": [
      "Enter the birth year: 2019\n",
      "Enter birthday to calculate year for: -1\n",
      "Huh ! Lets get realistic !!\n"
     ]
    }
   ],
   "source": [
    "birth_year = input('Enter the birth year: ')\n",
    "birth_day = input('Enter birthday to calculate year for: ')\n",
    "\n",
    "birth_year = int(birth_year)\n",
    "birth_day = int(birth_day)\n",
    "\n",
    "expected_year = birth_year + birth_day\n",
    "    \n",
    "if birth_day > 100:\n",
    "    print('Wow, Congratulations. You made it !!!!')\n",
    "    print(f'You will be {birth_day} in {expected_year}')\n",
    "          \n",
    "elif birth_day < 0:\n",
    "    print('Huh ! Lets get realistic !!')\n",
    "\n",
    "else:\n",
    "    print(f'You will be {birth_day} in {expected_year}')"
   ]
  },
  {
   "cell_type": "code",
   "execution_count": 31,
   "id": "green-symposium",
   "metadata": {},
   "outputs": [
    {
     "name": "stdout",
     "output_type": "stream",
     "text": [
      "Enter an english word :elephant\n",
      "8\n",
      "elephantway\n"
     ]
    }
   ],
   "source": [
    "user_word = input('Enter an english word :')\n",
    "\n",
    "first_letter = user_word[0]\n",
    "index_length = len(user_word)\n",
    "\n",
    "print(f'{index_length}')\n",
    "\n",
    "if first_letter in 'aeiou':\n",
    "    user_word = user_word + 'way'\n",
    "    print(f'{user_word}')\n",
    "\n",
    "else:\n",
    "    user_word = user_word[1:index_length] + first_letter + 'way'\n",
    "    print(f'{user_word}')\n",
    "          \n"
   ]
  },
  {
   "cell_type": "code",
   "execution_count": 37,
   "id": "caring-gathering",
   "metadata": {},
   "outputs": [
    {
     "name": "stdout",
     "output_type": "stream",
     "text": [
      "Enter an english word :ganesh\n",
      "aneshgay\n"
     ]
    }
   ],
   "source": [
    "### Same as the previous...but With less variables\n",
    "user_word = input('Enter an english word :')\n",
    "\n",
    "\n",
    "if user_word[0] in 'aeiou':\n",
    "    user_word = user_word + 'way'\n",
    "    print(f'{user_word}')\n",
    "\n",
    "else:\n",
    "    user_word = user_word[1:len(user_word)] + user_word[0] + 'ay'\n",
    "    print(f'{user_word}')\n",
    "          \n"
   ]
  },
  {
   "cell_type": "code",
   "execution_count": 60,
   "id": "otherwise-disabled",
   "metadata": {},
   "outputs": [
    {
     "name": "stdout",
     "output_type": "stream",
     "text": [
      "Enter first number :10\n",
      "Enter second number :10\n",
      "The sum of 10 and 10 is 20.\n"
     ]
    }
   ],
   "source": [
    "first_number = input('Enter first number :')\n",
    "second_number = input('Enter second number :')\n",
    "\n",
    "if not first_number.isdigit() and not second_number.isdigit():\n",
    "    print(f'The first number {first_number} and second number {second_number} are not numeric')\n",
    "\n",
    "elif not first_number.isdigit() and second_number.isdigit():\n",
    "    print(f'The first number {first_number} is not numeric.')\n",
    "\n",
    "elif first_number.isdigit() and not second_number.isdigit():\n",
    "    print(f'The second number {second_number} is not numeric.')\n",
    "\n",
    "else:\n",
    "    first_number = int(first_number)\n",
    "    second_number = int(second_number)\n",
    "    Total = first_number + second_number\n",
    "    print(f'The sum of {first_number} and {second_number} is {Total}.')\n",
    "\n"
   ]
  },
  {
   "cell_type": "code",
   "execution_count": null,
   "id": "straight-astronomy",
   "metadata": {},
   "outputs": [],
   "source": []
  },
  {
   "cell_type": "code",
   "execution_count": 44,
   "id": "cubic-receipt",
   "metadata": {},
   "outputs": [
    {
     "data": {
      "text/plain": [
       "<function str.isdigit()>"
      ]
     },
     "execution_count": 44,
     "metadata": {},
     "output_type": "execute_result"
    }
   ],
   "source": []
  },
  {
   "cell_type": "code",
   "execution_count": 45,
   "id": "narrow-future",
   "metadata": {},
   "outputs": [
    {
     "data": {
      "text/plain": [
       "False"
      ]
     },
     "execution_count": 45,
     "metadata": {},
     "output_type": "execute_result"
    }
   ],
   "source": [
    "str.isdigit(s)"
   ]
  },
  {
   "cell_type": "code",
   "execution_count": 61,
   "id": "structural-webster",
   "metadata": {},
   "outputs": [
    {
     "name": "stderr",
     "output_type": "stream",
     "text": [
      "\n",
      "Traceback (most recent call last):\n",
      "  File \"<ipython-input-61>\", line 14\n",
      "    if not first_number.isdigit() and not second_number.isdigit():\n",
      "    ^\n",
      "IndentationError: expected an indented block\n"
     ]
    }
   ],
   "source": [
    "### Same exercise as above but trying without a not\n",
    "\n",
    "first_number = input('Enter first number :')\n",
    "second_number = input('Enter second number :')\n",
    "\n",
    "if first_number.isdigit() and second_number.isdigit():\n",
    "    first_number = int(first_number)\n",
    "    second_number = int(second_number)\n",
    "    Total = first_number + second_number\n",
    "    print(f'The sum of {first_number} and {second_number} is {Total}.')\n",
    "    \n",
    "else:\n",
    "\n",
    "if not first_number.isdigit() and not second_number.isdigit():\n",
    "    print(f'The first number {first_number} and second number {second_number} are not numeric')\n",
    "\n",
    "elif not first_number.isdigit() and second_number.isdigit():\n",
    "    print(f'The first number {first_number} is not numeric.')\n",
    "\n",
    "elif first_number.isdigit() and not second_number.isdigit():\n",
    "    print(f'The second number {second_number} is not numeric.')\n",
    "\n",
    "else:\n",
    "    \n"
   ]
  },
  {
   "cell_type": "code",
   "execution_count": 70,
   "id": "blank-reservation",
   "metadata": {},
   "outputs": [
    {
     "name": "stdout",
     "output_type": "stream",
     "text": [
      "Enter alphabetic or alphanumeric string: apple123\n",
      " Vowels = 2\n",
      " Digits = 3\n",
      " Others = 3\n"
     ]
    }
   ],
   "source": [
    "vowels = 0\n",
    "digits = 0\n",
    "others = 0\n",
    "\n",
    "alphanumeric_string = input('Enter alphabetic or alphanumeric string: ').strip()\n",
    "\n",
    "for one_character in alphanumeric_string:\n",
    "    if one_character in 'aeiou':\n",
    "        vowels += 1\n",
    "    \n",
    "    elif one_character.isdigit():\n",
    "        digits += 1\n",
    "    \n",
    "    else:\n",
    "        others += 1\n",
    "\n",
    "print(f' Vowels = {vowels}')\n",
    "print(f' Digits = {digits}')\n",
    "print(f' Others = {others}')\n",
    "        "
   ]
  },
  {
   "cell_type": "code",
   "execution_count": 73,
   "id": "blind-kitty",
   "metadata": {},
   "outputs": [
    {
     "name": "stdout",
     "output_type": "stream",
     "text": [
      "Enter alphabetic or alphanumeric string: apple\n",
      " Vowels = 2\n",
      " Digits = 0\n",
      " Others = 3\n"
     ]
    }
   ],
   "source": [
    "vowels = 0\n",
    "digits = 0\n",
    "others = 0\n",
    "\n",
    "alphanumeric_string = input('Enter alphabetic or alphanumeric string: ').strip()\n",
    "\n",
    "for one_character in alphanumeric_string:\n",
    "    if one_character in 'aeiou':\n",
    "        vowels = vowels + 1\n",
    "    \n",
    "    elif one_character.isdigit():\n",
    "        digits = digits + 1\n",
    "    \n",
    "    else:\n",
    "        others = others + 1\n",
    "\n",
    "print(f' Vowels = {vowels}')\n",
    "print(f' Digits = {digits}')\n",
    "print(f' Others = {others}')\n",
    "        "
   ]
  },
  {
   "cell_type": "code",
   "execution_count": 80,
   "id": "devoted-concentration",
   "metadata": {},
   "outputs": [
    {
     "name": "stdout",
     "output_type": "stream",
     "text": [
      "Enter value :\n",
      "Total is 0\n"
     ]
    }
   ],
   "source": [
    "total = 0\n",
    "\n",
    "while True:\n",
    "    enter_value = input('Enter value :').strip()\n",
    "    \n",
    "    if enter_value == '':\n",
    "        break\n",
    "    \n",
    "    if enter_value.isdigit():\n",
    "        enter_value = int(enter_value)\n",
    "        total = total + enter_value\n",
    "    \n",
    "    else:\n",
    "        print(f'{enter_value} is not numeric. Please try again')\n",
    "    \n",
    "print(f'Total is {total}')"
   ]
  },
  {
   "cell_type": "code",
   "execution_count": 88,
   "id": "north-bibliography",
   "metadata": {},
   "outputs": [
    {
     "name": "stdout",
     "output_type": "stream",
     "text": [
      "Enter first index value :1\n",
      "Enter second index value :2\n",
      "At index 0 we have 10.\n",
      "At index 1 we have 20.\n",
      "The total is 30\n"
     ]
    }
   ],
   "source": [
    "mylist =[10, 20, 30, 40, 50, 60, 70, 80, 90, 100]\n",
    "\n",
    "first_i = input('Enter first index value :').strip()\n",
    "second_i = input('Enter second index value :').strip()\n",
    "\n",
    "\n",
    "if first_i.isdigit() and second_i.isdigit():\n",
    "    first_i = int(first_i) - 1\n",
    "    second_i = int(second_i) - 1\n",
    "    print(f'At index {first_i} we have {mylist[first_i]}.')\n",
    "    print(f'At index {second_i} we have {mylist[second_i]}.')\n",
    "    print(f'The total is {mylist[first_i] + mylist[second_i]}')\n",
    "\n",
    "else:\n",
    "    print('Incorrect index values')"
   ]
  },
  {
   "cell_type": "code",
   "execution_count": 89,
   "id": "adjacent-rugby",
   "metadata": {},
   "outputs": [
    {
     "name": "stderr",
     "output_type": "stream",
     "text": [
      "\n",
      "Traceback (most recent call last):\n",
      "  File \"<ipython-input-89>\", line 7\n",
      "    if enter_value == '':\n",
      "   ^\n",
      "IndentationError: unexpected indent\n"
     ]
    }
   ],
   "source": [
    "evens = []\n",
    "odds = []\n",
    "\n",
    "while True:\n",
    "    entered_value = input('Enter a numeric value :').strip()\n",
    "    \n",
    "    if entered_value == '':\n",
    "        break\n",
    "        \n",
    "    if entered_value.isdigit():\n",
    "        entered_value = int(enter_value)\n",
    "        \n",
    "        if (entered_value % 2) == 0:\n",
    "            evens.append(entered_value)\n",
    "        else:\n",
    "            odds.append(entered_value)\n",
    "    else:\n",
    "        print(f'The value entered {entered})\n",
    "            \n",
    "            \n",
    "\n",
    "\n",
    "\n"
   ]
  },
  {
   "cell_type": "code",
   "execution_count": 91,
   "id": "dense-kelly",
   "metadata": {},
   "outputs": [
    {
     "data": {
      "text/plain": [
       "1"
      ]
     },
     "execution_count": 91,
     "metadata": {},
     "output_type": "execute_result"
    }
   ],
   "source": [
    "9%2"
   ]
  },
  {
   "cell_type": "code",
   "execution_count": null,
   "id": "starting-application",
   "metadata": {},
   "outputs": [],
   "source": []
  }
 ],
 "metadata": {
  "kernelspec": {
   "display_name": "Python 3",
   "language": "python",
   "name": "python3"
  },
  "language_info": {
   "codemirror_mode": {
    "name": "ipython",
    "version": 3
   },
   "file_extension": ".py",
   "mimetype": "text/x-python",
   "name": "python",
   "nbconvert_exporter": "python",
   "pygments_lexer": "ipython3",
   "version": "3.8.6"
  }
 },
 "nbformat": 4,
 "nbformat_minor": 5
}
