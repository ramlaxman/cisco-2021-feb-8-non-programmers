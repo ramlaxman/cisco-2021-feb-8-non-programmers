{
 "cells": [
  {
   "cell_type": "code",
   "execution_count": null,
   "id": "common-anchor",
   "metadata": {},
   "outputs": [],
   "source": [
    "birth_year = input('Enter the birth year: ')\n",
    "birth_day = input('Enter birthday to calculate year for: ')\n",
    "\n",
    "birth_year = int(birth_year)\n",
    "birth_day = int(birth_day)\n",
    "\n",
    "if birth_day > 100:\n",
    "    print('Wow, Congratulations. You made it !!!!')\n",
    "    print(f'You will be {birth_day} in {})"
   ]
  }
 ],
 "metadata": {
  "kernelspec": {
   "display_name": "Python 3",
   "language": "python",
   "name": "python3"
  },
  "language_info": {
   "codemirror_mode": {
    "name": "ipython",
    "version": 3
   },
   "file_extension": ".py",
   "mimetype": "text/x-python",
   "name": "python",
   "nbconvert_exporter": "python",
   "pygments_lexer": "ipython3",
   "version": "3.8.6"
  }
 },
 "nbformat": 4,
 "nbformat_minor": 5
}
