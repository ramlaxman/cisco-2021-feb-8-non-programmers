{
 "cells": [
  {
   "cell_type": "code",
   "execution_count": 6,
   "id": "cellular-employment",
   "metadata": {},
   "outputs": [
    {
     "name": "stdout",
     "output_type": "stream",
     "text": [
      "Enter the birth year: 2019\n",
      "Enter birthday to calculate year for: -1\n",
      "Huh ! You might want to try a more realistic birth day\n"
     ]
    }
   ],
   "source": [
    "birth_year = input('Enter the birth year: ')\n",
    "birth_day = input('Enter birthday to calculate year for: ')\n",
    "\n",
    "birth_year = int(birth_year)\n",
    "birth_day = int(birth_day)\n",
    "\n",
    "expected_birth_year = birth_year + birth_day\n",
    "    \n",
    "if birth_day > 100:\n",
    "    print('Wow, Congratulations. You made it !!!!')\n",
    "    print(f'You will be {birth_day} in {expected_birth_year}')\n",
    "          \n",
    "elif birth_day < 0:\n",
    "    print('Huh ! You might want to try a more realistic birth day')\n",
    "\n",
    "else:\n",
    "    print(f'You will be {birth_day} in {expected_birth_year}')"
   ]
  },
  {
   "cell_type": "code",
   "execution_count": 7,
   "id": "proprietary-production",
   "metadata": {},
   "outputs": [
    {
     "name": "stdout",
     "output_type": "stream",
     "text": [
      "Friendly-traceback installed.\n"
     ]
    }
   ],
   "source": [
    "from friendly_traceback.ipython import *"
   ]
  },
  {
   "cell_type": "code",
   "execution_count": 9,
   "id": "hispanic-scoop",
   "metadata": {},
   "outputs": [
    {
     "name": "stdout",
     "output_type": "stream",
     "text": [
      "Enter the birth year: 2019\n",
      "Enter birthday to calculate year for: -1\n",
      "Huh ! Lets get realistic !!\n"
     ]
    }
   ],
   "source": [
    "birth_year = input('Enter the birth year: ')\n",
    "birth_day = input('Enter birthday to calculate year for: ')\n",
    "\n",
    "birth_year = int(birth_year)\n",
    "birth_day = int(birth_day)\n",
    "\n",
    "expected_year = birth_year + birth_day\n",
    "    \n",
    "if birth_day > 100:\n",
    "    print('Wow, Congratulations. You made it !!!!')\n",
    "    print(f'You will be {birth_day} in {expected_year}')\n",
    "          \n",
    "elif birth_day < 0:\n",
    "    print('Huh ! Lets get realistic !!')\n",
    "\n",
    "else:\n",
    "    print(f'You will be {birth_day} in {expected_year}')"
   ]
  },
  {
   "cell_type": "code",
   "execution_count": 20,
   "id": "postal-sister",
   "metadata": {},
   "outputs": [
    {
     "name": "stdout",
     "output_type": "stream",
     "text": [
      "Enter an english word :apple\n",
      "appleway\n"
     ]
    }
   ],
   "source": [
    "user_word = input('Enter an english word :')\n",
    "\n",
    "first_letter = user_word[0]\n",
    "index_length = \n",
    "\n",
    "if first_letter in 'aeiou':\n",
    "    user_word = user_word + 'way'\n",
    "    print(f'{user_word}')\n",
    "\n",
    "else:\n",
    "    user_word = user_word[1:]\n",
    "    print(f'{user_word}')\n",
    "          \n"
   ]
  },
  {
   "cell_type": "code",
   "execution_count": null,
   "id": "pleasant-arbor",
   "metadata": {},
   "outputs": [],
   "source": []
  }
 ],
 "metadata": {
  "kernelspec": {
   "display_name": "Python 3",
   "language": "python",
   "name": "python3"
  },
  "language_info": {
   "codemirror_mode": {
    "name": "ipython",
    "version": 3
   },
   "file_extension": ".py",
   "mimetype": "text/x-python",
   "name": "python",
   "nbconvert_exporter": "python",
   "pygments_lexer": "ipython3",
   "version": "3.8.6"
  }
 },
 "nbformat": 4,
 "nbformat_minor": 5
}
