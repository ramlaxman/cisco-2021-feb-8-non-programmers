{
 "cells": [
  {
   "cell_type": "code",
   "execution_count": 6,
   "id": "dangerous-filename",
   "metadata": {},
   "outputs": [
    {
     "name": "stdout",
     "output_type": "stream",
     "text": [
      "Enter a sentence : here are some words\n"
     ]
    },
    {
     "data": {
      "text/plain": [
       "['here', 'are', 'some', 'words']"
      ]
     },
     "execution_count": 6,
     "metadata": {},
     "output_type": "execute_result"
    }
   ],
   "source": [
    "s = input ('Enter a sentence : ')\n",
    "words = s.split() \n",
    "words"
   ]
  },
  {
   "cell_type": "code",
   "execution_count": null,
   "id": "grand-royal",
   "metadata": {},
   "outputs": [],
   "source": [
    "\n"
   ]
  }
 ],
 "metadata": {
  "kernelspec": {
   "display_name": "Python 3",
   "language": "python",
   "name": "python3"
  },
  "language_info": {
   "codemirror_mode": {
    "name": "ipython",
    "version": 3
   },
   "file_extension": ".py",
   "mimetype": "text/x-python",
   "name": "python",
   "nbconvert_exporter": "python",
   "pygments_lexer": "ipython3",
   "version": "3.8.6"
  }
 },
 "nbformat": 4,
 "nbformat_minor": 5
}
