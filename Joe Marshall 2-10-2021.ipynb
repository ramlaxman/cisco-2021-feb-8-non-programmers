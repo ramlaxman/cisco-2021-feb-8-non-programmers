{
 "cells": [
  {
   "cell_type": "code",
   "execution_count": 9,
   "id": "acquired-furniture",
   "metadata": {},
   "outputs": [
    {
     "name": "stdout",
     "output_type": "stream",
     "text": [
      "Enter a sentence : here is blah blah blah\n",
      "here\n",
      "is\n",
      "blah\n",
      "blah\n",
      "blah\n"
     ]
    }
   ],
   "source": [
    "s = input ('Enter a sentence : ')\n",
    "words = s.split() \n",
    "words\n",
    "for words in words:\n",
    "    print(words)\n",
    "if words[0] = 'a'if words[0] = 'b'"
   ]
  },
  {
   "cell_type": "code",
   "execution_count": 10,
   "id": "shared-chair",
   "metadata": {},
   "outputs": [
    {
     "name": "stdout",
     "output_type": "stream",
     "text": [
      "Friendly-traceback installed.\n"
     ]
    }
   ],
   "source": [
    "from friendly_traceback.ipython import *\n",
    "\n"
   ]
  },
  {
   "cell_type": "code",
   "execution_count": 30,
   "id": "unable-consent",
   "metadata": {},
   "outputs": [
    {
     "name": "stdout",
     "output_type": "stream",
     "text": [
      "Enter a sentence : here are apples exactly as you expect\n"
     ]
    },
    {
     "data": {
      "text/plain": [
       "['are', 'apples', 'exactly', 'as', 'expect']"
      ]
     },
     "execution_count": 30,
     "metadata": {},
     "output_type": "execute_result"
    }
   ],
   "source": [
    "output = []\n",
    "s = input ('Enter a sentence : ')\n",
    "words = s.split() \n",
    "words\n",
    "for words in words:\n",
    "        if words[0] in 'aeiou':\n",
    "              print (words + 'way')\n",
    "        else:\n",
    "             print (words [1:] + words[0] + 'ay' )"
   ]
  },
  {
   "cell_type": "code",
   "execution_count": null,
   "id": "conceptual-forty",
   "metadata": {},
   "outputs": [],
   "source": []
  }
 ],
 "metadata": {
  "kernelspec": {
   "display_name": "Python 3",
   "language": "python",
   "name": "python3"
  },
  "language_info": {
   "codemirror_mode": {
    "name": "ipython",
    "version": 3
   },
   "file_extension": ".py",
   "mimetype": "text/x-python",
   "name": "python",
   "nbconvert_exporter": "python",
   "pygments_lexer": "ipython3",
   "version": "3.8.6"
  }
 },
 "nbformat": 4,
 "nbformat_minor": 5
}
