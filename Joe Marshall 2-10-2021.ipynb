{
 "cells": [
  {
   "cell_type": "code",
   "execution_count": 9,
   "id": "embedded-startup",
   "metadata": {},
   "outputs": [
    {
     "name": "stdout",
     "output_type": "stream",
     "text": [
      "Enter a sentence : here is blah blah blah\n",
      "here\n",
      "is\n",
      "blah\n",
      "blah\n",
      "blah\n"
     ]
    }
   ],
   "source": [
    "s = input ('Enter a sentence : ')\n",
    "words = s.split() \n",
    "words\n",
    "for words in words:\n",
    "    print(words)\n",
    "if words[0] = 'a'if words[0] = 'b'"
   ]
  },
  {
   "cell_type": "code",
   "execution_count": 10,
   "id": "sorted-exclusive",
   "metadata": {},
   "outputs": [
    {
     "name": "stdout",
     "output_type": "stream",
     "text": [
      "Friendly-traceback installed.\n"
     ]
    }
   ],
   "source": [
    "from friendly_traceback.ipython import *\n",
    "\n"
   ]
  },
  {
   "cell_type": "code",
   "execution_count": 22,
   "id": "cardiac-battle",
   "metadata": {},
   "outputs": [
    {
     "name": "stdout",
     "output_type": "stream",
     "text": [
      "Enter a sentence : apple out nope here we go\n",
      "apple\n",
      "out\n",
      "nope\n",
      "here\n",
      "we\n",
      "go\n",
      "ogay\n"
     ]
    }
   ],
   "source": [
    "s = input ('Enter a sentence : ')\n",
    "words = s.split() \n",
    "words\n",
    "for words in words:\n",
    "    print(words)\n",
    "if words[0] in 'aeiou':\n",
    "    print (words + 'way')\n",
    "else:\n",
    "    print (words [1:] + words[0] + 'ay' )"
   ]
  },
  {
   "cell_type": "code",
   "execution_count": null,
   "id": "gorgeous-fighter",
   "metadata": {},
   "outputs": [],
   "source": []
  }
 ],
 "metadata": {
  "kernelspec": {
   "display_name": "Python 3",
   "language": "python",
   "name": "python3"
  },
  "language_info": {
   "codemirror_mode": {
    "name": "ipython",
    "version": 3
   },
   "file_extension": ".py",
   "mimetype": "text/x-python",
   "name": "python",
   "nbconvert_exporter": "python",
   "pygments_lexer": "ipython3",
   "version": "3.8.6"
  }
 },
 "nbformat": 4,
 "nbformat_minor": 5
}
