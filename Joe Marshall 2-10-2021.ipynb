{
 "cells": [
  {
   "cell_type": "code",
   "execution_count": 9,
   "id": "published-sweet",
   "metadata": {},
   "outputs": [
    {
     "name": "stdout",
     "output_type": "stream",
     "text": [
      "Enter a sentence : here is blah blah blah\n",
      "here\n",
      "is\n",
      "blah\n",
      "blah\n",
      "blah\n"
     ]
    }
   ],
   "source": [
    "s = input ('Enter a sentence : ')\n",
    "words = s.split() \n",
    "words\n",
    "for words in words:\n",
    "    print(words)\n",
    "if words[0] = 'a'if words[0] = 'b'"
   ]
  },
  {
   "cell_type": "code",
   "execution_count": 10,
   "id": "completed-indonesian",
   "metadata": {},
   "outputs": [
    {
     "name": "stdout",
     "output_type": "stream",
     "text": [
      "Friendly-traceback installed.\n"
     ]
    }
   ],
   "source": [
    "from friendly_traceback.ipython import *\n",
    "\n"
   ]
  },
  {
   "cell_type": "code",
   "execution_count": 47,
   "id": "confused-liver",
   "metadata": {},
   "outputs": [
    {
     "name": "stdout",
     "output_type": "stream",
     "text": [
      "Enter a sentence : apples are awesome hooray\n",
      "['applesway', 'areway', 'awesomeway', 'oorayhay']\n"
     ]
    }
   ],
   "source": [
    "output = []\n",
    "s = input ('Enter a sentence : ')\n",
    "words = s.split() \n",
    "words\n",
    "for words in words:\n",
    "        if words[0] in 'aeiou':\n",
    "              output.append(words + 'way')\n",
    "        else:\n",
    "             output.append (words [1:] + words[0] + 'ay' )\n",
    "'*'.join(output)\n",
    "print (output)\n"
   ]
  },
  {
   "cell_type": "code",
   "execution_count": 56,
   "id": "excessive-personal",
   "metadata": {},
   "outputs": [
    {
     "name": "stderr",
     "output_type": "stream",
     "text": [
      "\n",
      "Traceback (most recent call last):\n",
      "  File \"<ipython-input-56>\", line 5\n",
      "    else print('This is not on the menu')A\n",
      "         ^\n",
      "SyntaxError: invalid syntax\n"
     ]
    }
   ],
   "source": [
    "menu = {'Stew':1, 'Sandwich':2, 'Apple':3}\n",
    "s = input ('Enter your order : ')\n",
    "if s == menu['Stew']:\n",
    "    print('This costs' + menu[])\n",
    "    else print('This is not on the menu')"
   ]
  },
  {
   "cell_type": "code",
   "execution_count": 57,
   "id": "latter-giving",
   "metadata": {},
   "outputs": [
    {
     "name": "stdout",
     "output_type": "stream",
     "text": [
      "Order: tea\n",
      "The price of tea is 5.\n"
     ]
    }
   ],
   "source": [
    "menu = {'sandwich':10, 'tea':5, 'cake':7, 'apple':2}\n",
    "order = input('Order: ')\n",
    "if order in menu:  # is the user's input *really* a key in our dict?\n",
    "    price = menu[order]\n",
    "    print(f'The price of {order} is {price}.')\n",
    "else:\n",
    "    print(f'We are out of {order} today.')\n",
    "    "
   ]
  },
  {
   "cell_type": "code",
   "execution_count": 58,
   "id": "banned-indonesia",
   "metadata": {},
   "outputs": [
    {
     "name": "stderr",
     "output_type": "stream",
     "text": [
      "\n",
      "Traceback (most recent call last):\n",
      "  File \"<ipython-input-58>\", line 10\n",
      "SyntaxError: unexpected EOF while parsing\n"
     ]
    }
   ],
   "source": [
    "menu = {'sandwich':10, 'tea':5, 'cake':7, 'apple':2}\n",
    "total = int(0)\n",
    "order = input('Order: ')\n",
    "while True:\n",
    "    if order in menu:  # is the user's input *really* a key in our dict?\n",
    "        price = menu[order]\n",
    "        print(f'The price of {order} is {price}.')\n",
    "    else:\n",
    "        print(f'We are out of {order} today.'\n",
    "              "
   ]
  },
  {
   "cell_type": "code",
   "execution_count": 67,
   "id": "higher-mandate",
   "metadata": {},
   "outputs": [
    {
     "name": "stderr",
     "output_type": "stream",
     "text": [
      "\n",
      "Traceback (most recent call last):\n",
      "  File \"<ipython-input-67>\", line 5\n",
      "    vdo[] += 1\n",
      "        ^\n",
      "SyntaxError: invalid syntax\n"
     ]
    }
   ],
   "source": [
    "vdo = {'vowels':0, 'digits':0, 'other':0}\n",
    "s = input ('Enter a single string : ')\n",
    "for one_character in s:\n",
    "    if one_character in 'aeiou':\n",
    "        vdo[] += 1\n",
    "print(vdo)\n",
    "    "
   ]
  },
  {
   "cell_type": "code",
   "execution_count": 71,
   "id": "verbal-investment",
   "metadata": {},
   "outputs": [
    {
     "name": "stdout",
     "output_type": "stream",
     "text": [
      "root:x:0:0:root:/root:/bin/bash\n",
      "daemon:x:1:1:daemon:/usr/sbin:/usr/sbin/nologin\n",
      "bin:x:2:2:bin:/bin:/usr/sbin/nologin\n",
      "sys:x:3:3:sys:/dev:/usr/sbin/nologin\n",
      "sync:x:4:65534:sync:/bin:/bin/sync\n",
      "games:x:5:60:games:/usr/games:/usr/sbin/nologin\n",
      "man:x:6:12:man:/var/cache/man:/usr/sbin/nologin\n",
      "lp:x:7:7:lp:/var/spool/lpd:/usr/sbin/nologin\n",
      "mail:x:8:8:mail:/var/mail:/usr/sbin/nologin\n",
      "news:x:9:9:news:/var/spool/news:/usr/sbin/nologin\n",
      "uucp:x:10:10:uucp:/var/spool/uucp:/usr/sbin/nologin\n",
      "proxy:x:13:13:proxy:/bin:/usr/sbin/nologin\n",
      "www-data:x:33:33:www-data:/var/www:/usr/sbin/nologin\n",
      "backup:x:34:34:backup:/var/backups:/usr/sbin/nologin\n",
      "list:x:38:38:Mailing List Manager:/var/list:/usr/sbin/nologin\n",
      "irc:x:39:39:ircd:/var/run/ircd:/usr/sbin/nologin\n",
      "gnats:x:41:41:Gnats Bug-Reporting System (admin):/var/lib/gnats:/usr/sbin/nologin\n",
      "nobody:x:65534:65534:nobody:/nonexistent:/usr/sbin/nologin\n",
      "systemd-timesync:x:100:101:systemd Time Synchronization,,,:/run/systemd:/usr/sbin/nologin\n",
      "systemd-network:x:101:103:systemd Network Management,,,:/run/systemd:/usr/sbin/nologin\n",
      "systemd-resolve:x:102:104:systemd Resolver,,,:/run/systemd:/usr/sbin/nologin\n",
      "messagebus:x:103:106::/nonexistent:/usr/sbin/nologin\n",
      "syslog:x:104:110::/home/syslog:/usr/sbin/nologin\n",
      "_apt:x:105:65534::/nonexistent:/usr/sbin/nologin\n",
      "tss:x:106:111:TPM software stack,,,:/var/lib/tpm:/bin/false\n",
      "uuidd:x:107:112::/run/uuidd:/usr/sbin/nologin\n",
      "tcpdump:x:108:113::/nonexistent:/usr/sbin/nologin\n",
      "sshd:x:109:65534::/run/sshd:/usr/sbin/nologin\n",
      "landscape:x:110:115::/var/lib/landscape:/usr/sbin/nologin\n",
      "pollinate:x:111:1::/var/cache/pollinate:/bin/false\n",
      "systemd-coredump:x:999:999:systemd Core Dumper:/:/usr/sbin/nologin\n",
      "lxd:x:998:100::/var/snap/lxd/common/lxd:/bin/false\n",
      "student:x:1000:1000:,,,:/home/student:/bin/bash\n"
     ]
    }
   ],
   "source": [
    "f = open('/etc/passwd')\n",
    "for one_line in f: \n",
    "    print (one_line.strip())"
   ]
  },
  {
   "cell_type": "code",
   "execution_count": 83,
   "id": "prime-detector",
   "metadata": {},
   "outputs": [
    {
     "name": "stdout",
     "output_type": "stream",
     "text": [
      "Enter a string :bash\n"
     ]
    },
    {
     "name": "stderr",
     "output_type": "stream",
     "text": [
      "\n",
      "Traceback (most recent call last):\n",
      "  File \"<ipython-input-83>\", line 5, in <module>\n",
      "    if z in one_line:\n",
      "NameError: name 'z' is not defined\n"
     ]
    }
   ],
   "source": [
    "f = open('/etc/passwd')\n",
    "look_for = input ('Enter a string :')\n",
    "for one_line in f: \n",
    "    #print (one_line.strip())\n",
    "    if z in one_line:\n",
    "        print(look_for)"
   ]
  },
  {
   "cell_type": "code",
   "execution_count": 85,
   "id": "intellectual-joshua",
   "metadata": {},
   "outputs": [],
   "source": [
    "for one_line in open('/etc/passwd'):\n",
    "    if 'look_for' in one_line:   # (2) modify this line to look for the search string, not 'z'\n",
    "        print(one_line)"
   ]
  },
  {
   "cell_type": "code",
   "execution_count": 90,
   "id": "broadband-treasurer",
   "metadata": {},
   "outputs": [
    {
     "name": "stdout",
     "output_type": "stream",
     "text": [
      "67.218.116.165 \n",
      "66.249.71.65 \n",
      "65.55.106.183 \n",
      "65.55.106.183 \n",
      "66.249.71.65 \n",
      "66.249.71.65 \n",
      "66.249.65.12 \n",
      "66.249.65.12 \n",
      "66.249.65.12 \n",
      "66.249.65.12 \n",
      "66.249.65.12 \n",
      "65.55.106.131 \n",
      "65.55.106.131 \n",
      "66.249.65.12 \n",
      "66.249.65.12 \n",
      "66.249.65.12 \n",
      "66.249.65.12 \n",
      "66.249.65.12 \n",
      "66.249.65.12 \n",
      "66.249.65.12 \n",
      "65.55.106.186 \n",
      "65.55.106.186 \n",
      "66.249.65.12 \n",
      "66.249.65.12 \n",
      "66.249.65.12 \n",
      "74.52.245.146 \n",
      "74.52.245.146 \n",
      "66.249.65.43 \n",
      "66.249.65.43 \n",
      "66.249.65.43 \n",
      "66.249.65.12 \n",
      "66.249.65.12 \n",
      "66.249.65.12 \n",
      "66.249.65.12 \n",
      "66.249.65.12 \n",
      "66.249.65.12 \n",
      "65.55.207.25 \n",
      "65.55.207.25 \n",
      "66.249.65.12 \n",
      "66.249.65.12 \n",
      "66.249.65.12 \n",
      "66.249.65.12 \n",
      "66.249.65.12 \n",
      "66.249.65.12 \n",
      "66.249.65.12 \n",
      "65.55.207.94 \n",
      "65.55.207.94 \n",
      "66.249.65.12 \n",
      "65.55.207.71 \n",
      "66.249.65.12 \n",
      "66.249.65.12 \n",
      "66.249.65.12 \n",
      "98.242.170.241 \n",
      "66.249.65.38 \n",
      "66.249.65.38 \n",
      "66.249.65.38 \n",
      "66.249.65.38 \n",
      "66.249.65.38 \n",
      "66.249.65.38 \n",
      "66.249.65.38 \n",
      "66.249.65.38 \n",
      "66.249.65.38 \n",
      "66.249.65.38 \n",
      "66.249.65.38 \n",
      "66.249.65.38 \n",
      "66.249.65.38 \n",
      "66.249.65.38 \n",
      "66.249.65.38 \n",
      "66.249.65.38 \n",
      "66.249.65.38 \n",
      "66.249.65.38 \n",
      "66.249.65.38 \n",
      "66.249.65.38 \n",
      "66.249.65.38 \n",
      "66.249.65.38 \n",
      "66.249.65.38 \n",
      "66.249.65.38 \n",
      "66.249.65.38 \n",
      "66.249.65.38 \n",
      "65.55.207.126 \n",
      "65.55.207.126 \n",
      "66.249.65.38 \n",
      "66.249.65.38 \n",
      "66.249.65.38 \n",
      "66.249.65.38 \n",
      "82.34.9.20 \n",
      "82.34.9.20 \n",
      "66.249.65.38 \n",
      "66.249.65.38 \n",
      "66.249.65.38 \n",
      "66.249.65.38 \n",
      "66.249.65.38 \n",
      "66.249.65.38 \n",
      "66.249.65.38 \n",
      "66.249.65.38 \n",
      "66.249.65.38 \n",
      "65.55.106.155 \n",
      "65.55.106.155 \n",
      "66.249.65.38 \n",
      "66.249.65.38 \n",
      "66.249.65.38 \n",
      "66.249.65.38 \n",
      "66.249.65.38 \n",
      "65.55.207.77 \n",
      "65.55.207.77 \n",
      "66.249.65.38 \n",
      "67.218.116.165 \n",
      "66.249.65.38 \n",
      "208.80.193.28 \n",
      "66.249.65.38 \n",
      "66.249.65.38 \n",
      "66.249.65.38 \n",
      "66.249.65.38 \n",
      "66.249.65.38 \n",
      "66.249.65.38 \n",
      "66.249.65.38 \n",
      "66.249.65.38 \n",
      "66.249.65.38 \n",
      "89.248.172.58 \n",
      "89.248.172.58 \n",
      "89.248.172.58 \n",
      "89.248.172.58 \n",
      "89.248.172.58 \n",
      "89.248.172.58 \n",
      "89.248.172.58 \n",
      "89.248.172.58 \n",
      "89.248.172.58 \n",
      "89.248.172.58 \n",
      "89.248.172.58 \n",
      "89.248.172.58 \n",
      "89.248.172.58 \n",
      "89.248.172.58 \n",
      "89.248.172.58 \n",
      "89.248.172.58 \n",
      "89.248.172.58 \n",
      "89.248.172.58 \n",
      "89.248.172.58 \n",
      "89.248.172.58 \n",
      "89.248.172.58 \n",
      "89.248.172.58 \n",
      "66.249.65.38 \n",
      "66.249.65.38 \n",
      "66.249.65.38 \n",
      "66.249.65.38 \n",
      "66.249.65.38 \n",
      "66.249.65.38 \n",
      "66.249.65.38 \n",
      "66.249.65.38 \n",
      "66.249.65.38 \n",
      "66.249.65.38 \n",
      "66.249.65.38 \n",
      "66.249.65.38 \n",
      "66.249.65.38 \n",
      "66.249.65.38 \n",
      "66.249.65.38 \n",
      "66.249.65.38 \n",
      "66.249.65.38 \n",
      "66.249.65.38 \n",
      "66.249.65.38 \n",
      "66.249.65.38 \n",
      "66.249.65.38 \n",
      "66.249.65.38 \n",
      "66.249.65.38 \n",
      "66.249.65.38 \n",
      "66.249.65.38 \n",
      "66.249.65.38 \n",
      "66.249.65.38 \n",
      "66.249.65.38 \n",
      "66.249.65.38 \n",
      "67.195.112.35 \n",
      "67.195.112.35 \n",
      "67.195.112.35 \n",
      "67.195.112.35 \n",
      "67.195.112.35 \n",
      "67.195.112.35 \n",
      "67.195.112.35 \n",
      "67.195.112.35 \n",
      "67.195.112.35 \n",
      "67.195.112.35 \n",
      "67.195.112.35 \n",
      "67.195.112.35 \n",
      "67.195.112.35 \n",
      "67.195.112.35 \n",
      "67.195.112.35 \n",
      "67.195.112.35 \n",
      "66.249.65.38 \n",
      "65.55.207.50 \n",
      "65.55.207.50 \n",
      "65.55.207.50 \n",
      "66.249.65.38 \n",
      "66.249.65.38 \n",
      "66.249.65.38 \n",
      "66.249.65.38 \n",
      "66.249.65.38 \n",
      "66.249.65.38 \n",
      "65.55.215.75 \n",
      "65.55.215.75 \n",
      "66.249.65.38 \n",
      "66.249.65.38 \n",
      "66.249.65.38 \n",
      "66.249.65.38 \n",
      "66.249.65.38 \n",
      "66.249.65.38 \n",
      "66.249.65.38 \n",
      "66.249.65.38 \n",
      "66.249.65.38 \n"
     ]
    }
   ],
   "source": [
    "for ip in open('mini-access-log.txt'):\n",
    "    print(ip.split ('-')[0])"
   ]
  },
  {
   "cell_type": "code",
   "execution_count": null,
   "id": "separate-spread",
   "metadata": {},
   "outputs": [],
   "source": [
    "\n",
    "for ip in open('mini-access-log.txt'):\n",
    "    print(ip.split ('-')[0])"
   ]
  }
 ],
 "metadata": {
  "kernelspec": {
   "display_name": "Python 3",
   "language": "python",
   "name": "python3"
  },
  "language_info": {
   "codemirror_mode": {
    "name": "ipython",
    "version": 3
   },
   "file_extension": ".py",
   "mimetype": "text/x-python",
   "name": "python",
   "nbconvert_exporter": "python",
   "pygments_lexer": "ipython3",
   "version": "3.8.6"
  }
 },
 "nbformat": 4,
 "nbformat_minor": 5
}
