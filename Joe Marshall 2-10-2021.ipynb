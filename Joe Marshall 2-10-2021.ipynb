{
 "cells": [
  {
   "cell_type": "code",
   "execution_count": 9,
   "id": "great-camcorder",
   "metadata": {},
   "outputs": [
    {
     "name": "stdout",
     "output_type": "stream",
     "text": [
      "Enter a sentence : here is blah blah blah\n",
      "here\n",
      "is\n",
      "blah\n",
      "blah\n",
      "blah\n"
     ]
    }
   ],
   "source": [
    "s = input ('Enter a sentence : ')\n",
    "words = s.split() \n",
    "words\n",
    "for words in words:\n",
    "    print(words)\n",
    "if words[0] = 'a'if words[0] = 'b'"
   ]
  },
  {
   "cell_type": "code",
   "execution_count": 10,
   "id": "under-controversy",
   "metadata": {},
   "outputs": [
    {
     "name": "stdout",
     "output_type": "stream",
     "text": [
      "Friendly-traceback installed.\n"
     ]
    }
   ],
   "source": [
    "from friendly_traceback.ipython import *\n",
    "\n"
   ]
  },
  {
   "cell_type": "code",
   "execution_count": 47,
   "id": "confused-crime",
   "metadata": {},
   "outputs": [
    {
     "name": "stdout",
     "output_type": "stream",
     "text": [
      "Enter a sentence : apples are awesome hooray\n",
      "['applesway', 'areway', 'awesomeway', 'oorayhay']\n"
     ]
    }
   ],
   "source": [
    "output = []\n",
    "s = input ('Enter a sentence : ')\n",
    "words = s.split() \n",
    "words\n",
    "for words in words:\n",
    "        if words[0] in 'aeiou':\n",
    "              output.append(words + 'way')\n",
    "        else:\n",
    "             output.append (words [1:] + words[0] + 'ay' )\n",
    "'*'.join(output)\n",
    "print (output)\n"
   ]
  },
  {
   "cell_type": "code",
   "execution_count": 56,
   "id": "conditional-northwest",
   "metadata": {},
   "outputs": [
    {
     "name": "stderr",
     "output_type": "stream",
     "text": [
      "\n",
      "Traceback (most recent call last):\n",
      "  File \"<ipython-input-56>\", line 5\n",
      "    else print('This is not on the menu')A\n",
      "         ^\n",
      "SyntaxError: invalid syntax\n"
     ]
    }
   ],
   "source": [
    "menu = {'Stew':1, 'Sandwich':2, 'Apple':3}\n",
    "s = input ('Enter your order : ')\n",
    "if s == menu['Stew']:\n",
    "    print('This costs' + menu[])\n",
    "    else print('This is not on the menu')"
   ]
  },
  {
   "cell_type": "code",
   "execution_count": 57,
   "id": "direct-somerset",
   "metadata": {},
   "outputs": [
    {
     "name": "stdout",
     "output_type": "stream",
     "text": [
      "Order: tea\n",
      "The price of tea is 5.\n"
     ]
    }
   ],
   "source": [
    "menu = {'sandwich':10, 'tea':5, 'cake':7, 'apple':2}\n",
    "order = input('Order: ')\n",
    "if order in menu:  # is the user's input *really* a key in our dict?\n",
    "    price = menu[order]\n",
    "    print(f'The price of {order} is {price}.')\n",
    "else:\n",
    "    print(f'We are out of {order} today.')\n",
    "    "
   ]
  },
  {
   "cell_type": "code",
   "execution_count": null,
   "id": "turkish-anatomy",
   "metadata": {},
   "outputs": [],
   "source": [
    "menu = {'sandwich':10, 'tea':5, 'cake':7, 'apple':2}\n",
    "total = int(0)\n",
    "order = input('Order: ')\n",
    "while True:\n",
    "    if order in menu:  # is the user's input *really* a key in our dict?\n",
    "        price = menu[order]\n",
    "        print(f'The price of {order} is {price}.')\n",
    "    else:\n",
    "        print(f'We are out of {order} today.'\n",
    "              "
   ]
  }
 ],
 "metadata": {
  "kernelspec": {
   "display_name": "Python 3",
   "language": "python",
   "name": "python3"
  },
  "language_info": {
   "codemirror_mode": {
    "name": "ipython",
    "version": 3
   },
   "file_extension": ".py",
   "mimetype": "text/x-python",
   "name": "python",
   "nbconvert_exporter": "python",
   "pygments_lexer": "ipython3",
   "version": "3.8.6"
  }
 },
 "nbformat": 4,
 "nbformat_minor": 5
}
