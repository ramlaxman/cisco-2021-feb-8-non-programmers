{
 "cells": [
  {
   "cell_type": "code",
   "execution_count": 9,
   "id": "wrong-nomination",
   "metadata": {},
   "outputs": [
    {
     "name": "stdout",
     "output_type": "stream",
     "text": [
      "Enter a sentence : here is blah blah blah\n",
      "here\n",
      "is\n",
      "blah\n",
      "blah\n",
      "blah\n"
     ]
    }
   ],
   "source": [
    "s = input ('Enter a sentence : ')\n",
    "words = s.split() \n",
    "words\n",
    "for words in words:\n",
    "    print(words)\n",
    "if words[0] = 'a'if words[0] = 'b'"
   ]
  },
  {
   "cell_type": "code",
   "execution_count": 10,
   "id": "shared-graham",
   "metadata": {},
   "outputs": [
    {
     "name": "stdout",
     "output_type": "stream",
     "text": [
      "Friendly-traceback installed.\n"
     ]
    }
   ],
   "source": [
    "from friendly_traceback.ipython import *\n",
    "\n"
   ]
  },
  {
   "cell_type": "code",
   "execution_count": 47,
   "id": "familiar-emphasis",
   "metadata": {},
   "outputs": [
    {
     "name": "stdout",
     "output_type": "stream",
     "text": [
      "Enter a sentence : apples are awesome hooray\n",
      "['applesway', 'areway', 'awesomeway', 'oorayhay']\n"
     ]
    }
   ],
   "source": [
    "output = []\n",
    "s = input ('Enter a sentence : ')\n",
    "words = s.split() \n",
    "words\n",
    "for words in words:\n",
    "        if words[0] in 'aeiou':\n",
    "              output.append(words + 'way')\n",
    "        else:\n",
    "             output.append (words [1:] + words[0] + 'ay' )\n",
    "'*'.join(output)\n",
    "print (output)\n"
   ]
  },
  {
   "cell_type": "code",
   "execution_count": 56,
   "id": "monetary-transcription",
   "metadata": {},
   "outputs": [
    {
     "name": "stderr",
     "output_type": "stream",
     "text": [
      "\n",
      "Traceback (most recent call last):\n",
      "  File \"<ipython-input-56>\", line 5\n",
      "    else print('This is not on the menu')A\n",
      "         ^\n",
      "SyntaxError: invalid syntax\n"
     ]
    }
   ],
   "source": [
    "menu = {'Stew':1, 'Sandwich':2, 'Apple':3}\n",
    "s = input ('Enter your order : ')\n",
    "if s == menu['Stew']:\n",
    "    print('This costs' + menu[])\n",
    "    else print('This is not on the menu')"
   ]
  },
  {
   "cell_type": "code",
   "execution_count": 57,
   "id": "applied-layout",
   "metadata": {},
   "outputs": [
    {
     "name": "stdout",
     "output_type": "stream",
     "text": [
      "Order: tea\n",
      "The price of tea is 5.\n"
     ]
    }
   ],
   "source": [
    "menu = {'sandwich':10, 'tea':5, 'cake':7, 'apple':2}\n",
    "order = input('Order: ')\n",
    "if order in menu:  # is the user's input *really* a key in our dict?\n",
    "    price = menu[order]\n",
    "    print(f'The price of {order} is {price}.')\n",
    "else:\n",
    "    print(f'We are out of {order} today.')\n",
    "    "
   ]
  },
  {
   "cell_type": "code",
   "execution_count": 58,
   "id": "desperate-bacon",
   "metadata": {},
   "outputs": [
    {
     "name": "stderr",
     "output_type": "stream",
     "text": [
      "\n",
      "Traceback (most recent call last):\n",
      "  File \"<ipython-input-58>\", line 10\n",
      "SyntaxError: unexpected EOF while parsing\n"
     ]
    }
   ],
   "source": [
    "menu = {'sandwich':10, 'tea':5, 'cake':7, 'apple':2}\n",
    "total = int(0)\n",
    "order = input('Order: ')\n",
    "while True:\n",
    "    if order in menu:  # is the user's input *really* a key in our dict?\n",
    "        price = menu[order]\n",
    "        print(f'The price of {order} is {price}.')\n",
    "    else:\n",
    "        print(f'We are out of {order} today.'\n",
    "              "
   ]
  },
  {
   "cell_type": "code",
   "execution_count": 66,
   "id": "american-shield",
   "metadata": {},
   "outputs": [
    {
     "name": "stdout",
     "output_type": "stream",
     "text": [
      "Enter a single string : apple\n",
      "{'vowels': 0, 'digits': 0, 'other': 0}\n"
     ]
    }
   ],
   "source": [
    "vdo = {'vowels':0, 'digits':0, 'other':0}\n",
    "s = input ('Enter a single string : ')\n",
    "for one_character in s:\n",
    "    if one_character in 'vdo[]':\n",
    "        vdo[] += 1\n",
    "print(vdo)\n",
    "    "
   ]
  },
  {
   "cell_type": "code",
   "execution_count": null,
   "id": "impaired-stranger",
   "metadata": {},
   "outputs": [],
   "source": []
  }
 ],
 "metadata": {
  "kernelspec": {
   "display_name": "Python 3",
   "language": "python",
   "name": "python3"
  },
  "language_info": {
   "codemirror_mode": {
    "name": "ipython",
    "version": 3
   },
   "file_extension": ".py",
   "mimetype": "text/x-python",
   "name": "python",
   "nbconvert_exporter": "python",
   "pygments_lexer": "ipython3",
   "version": "3.8.6"
  }
 },
 "nbformat": 4,
 "nbformat_minor": 5
}
