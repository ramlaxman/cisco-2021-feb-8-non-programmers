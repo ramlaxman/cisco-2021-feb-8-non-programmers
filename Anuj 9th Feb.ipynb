{
 "cells": [
  {
   "cell_type": "code",
   "execution_count": null,
   "id": "sweet-auction",
   "metadata": {},
   "outputs": [],
   "source": [
    "birthyear = input('Please enter your birthyear')\n",
    "whichbirthyear = input ('which birthday we should calculate the year for')\n",
    "\n",
    "if birthyear > 100:\n",
    "    print (f'{birthyear}, heartly congratulations')\n",
    "    elif birthyear < 000000:\n",
    "        print (f'{birthyear}, dont be sarcastic')\n",
    "        "
   ]
  }
 ],
 "metadata": {
  "kernelspec": {
   "display_name": "Python 3",
   "language": "python",
   "name": "python3"
  },
  "language_info": {
   "codemirror_mode": {
    "name": "ipython",
    "version": 3
   },
   "file_extension": ".py",
   "mimetype": "text/x-python",
   "name": "python",
   "nbconvert_exporter": "python",
   "pygments_lexer": "ipython3",
   "version": "3.8.6"
  }
 },
 "nbformat": 4,
 "nbformat_minor": 5
}
