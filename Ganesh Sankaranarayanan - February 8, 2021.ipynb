{
 "cells": [
  {
   "cell_type": "code",
   "execution_count": 7,
   "id": "plain-startup",
   "metadata": {},
   "outputs": [
    {
     "name": "stdout",
     "output_type": "stream",
     "text": [
      "Hello World !!!!!\n"
     ]
    }
   ],
   "source": [
    "print ('Hello World !!!!!') # Hit Shift+Enter or Click Run to execute"
   ]
  },
  {
   "cell_type": "code",
   "execution_count": 15,
   "id": "absent-quality",
   "metadata": {},
   "outputs": [
    {
     "name": "stdout",
     "output_type": "stream",
     "text": [
      "Hello, Ganesh.\n"
     ]
    }
   ],
   "source": [
    "name = 'Ganesh'\n",
    "print ('Hello, ' + name + \".\")"
   ]
  },
  {
   "cell_type": "code",
   "execution_count": 20,
   "id": "sharp-sport",
   "metadata": {},
   "outputs": [
    {
     "name": "stdout",
     "output_type": "stream",
     "text": [
      "Hello, Sai will turn 2 this year\n"
     ]
    }
   ],
   "source": [
    "name = 'Sai'\n",
    "birth_year = 2019\n",
    "this_year = 2021\n",
    "age_this_year = this_year - birth_year\n",
    "print (f'Hello, {name} will turn {age_this_year} this year')"
   ]
  },
  {
   "cell_type": "code",
   "execution_count": 21,
   "id": "brave-energy",
   "metadata": {},
   "outputs": [
    {
     "ename": "SyntaxError",
     "evalue": "invalid syntax (<ipython-input-21-2f97fcb06645>, line 3)",
     "output_type": "error",
     "traceback": [
      "\u001b[0;36m  File \u001b[0;32m\"<ipython-input-21-2f97fcb06645>\"\u001b[0;36m, line \u001b[0;32m3\u001b[0m\n\u001b[0;31m    print (f'Hello {name}, you are a {emotional_state} baby + '.' ')\u001b[0m\n\u001b[0m                                                                ^\u001b[0m\n\u001b[0;31mSyntaxError\u001b[0m\u001b[0;31m:\u001b[0m invalid syntax\n"
     ]
    }
   ],
   "source": [
    "name = 'Enter your name: '\n",
    "emotional_state = 'Enter your emotional state: '\n",
    "print (f'Hello {name}, you are a {emotional_state} baby + '.' ')"
   ]
  },
  {
   "cell_type": "code",
   "execution_count": 22,
   "id": "numerical-plenty",
   "metadata": {},
   "outputs": [],
   "source": [
    "name = 'Enter your name: '"
   ]
  },
  {
   "cell_type": "code",
   "execution_count": null,
   "id": "respective-closure",
   "metadata": {},
   "outputs": [],
   "source": [
    "name = input('Enter your name: ')\n",
    "emotional_state = input()'Enter your emotional state: '\n",
    "print (f'Hello {name}, you are a {emotional_state} baby + '.' ')"
   ]
  }
 ],
 "metadata": {
  "kernelspec": {
   "display_name": "Python 3",
   "language": "python",
   "name": "python3"
  },
  "language_info": {
   "codemirror_mode": {
    "name": "ipython",
    "version": 3
   },
   "file_extension": ".py",
   "mimetype": "text/x-python",
   "name": "python",
   "nbconvert_exporter": "python",
   "pygments_lexer": "ipython3",
   "version": "3.8.6"
  }
 },
 "nbformat": 4,
 "nbformat_minor": 5
}
