{
 "cells": [
  {
   "cell_type": "code",
   "execution_count": 7,
   "id": "marked-check",
   "metadata": {},
   "outputs": [
    {
     "name": "stdout",
     "output_type": "stream",
     "text": [
      "Hello World !!!!!\n"
     ]
    }
   ],
   "source": [
    "print ('Hello World !!!!!') # Hit Shift+Enter or Click Run to execute"
   ]
  },
  {
   "cell_type": "code",
   "execution_count": 15,
   "id": "pursuant-depth",
   "metadata": {},
   "outputs": [
    {
     "name": "stdout",
     "output_type": "stream",
     "text": [
      "Hello, Ganesh.\n"
     ]
    }
   ],
   "source": [
    "name = 'Ganesh'\n",
    "print ('Hello, ' + name + \".\")"
   ]
  },
  {
   "cell_type": "code",
   "execution_count": 20,
   "id": "convenient-fundamentals",
   "metadata": {},
   "outputs": [
    {
     "name": "stdout",
     "output_type": "stream",
     "text": [
      "Hello, Sai will turn 2 this year\n"
     ]
    }
   ],
   "source": [
    "name = 'Sai'\n",
    "birth_year = 2019\n",
    "this_year = 2021\n",
    "age_this_year = this_year - birth_year\n",
    "print (f'Hello, {name} will turn {age_this_year} this year')"
   ]
  },
  {
   "cell_type": "code",
   "execution_count": 21,
   "id": "weird-dividend",
   "metadata": {},
   "outputs": [
    {
     "ename": "SyntaxError",
     "evalue": "invalid syntax (<ipython-input-21-2f97fcb06645>, line 3)",
     "output_type": "error",
     "traceback": [
      "\u001b[0;36m  File \u001b[0;32m\"<ipython-input-21-2f97fcb06645>\"\u001b[0;36m, line \u001b[0;32m3\u001b[0m\n\u001b[0;31m    print (f'Hello {name}, you are a {emotional_state} baby + '.' ')\u001b[0m\n\u001b[0m                                                                ^\u001b[0m\n\u001b[0;31mSyntaxError\u001b[0m\u001b[0;31m:\u001b[0m invalid syntax\n"
     ]
    }
   ],
   "source": [
    "name = 'Enter your name: '\n",
    "emotional_state = 'Enter your emotional state: '\n",
    "print (f'Hello {name}, you are a {emotional_state} baby + '.' ')"
   ]
  },
  {
   "cell_type": "code",
   "execution_count": 22,
   "id": "informational-panel",
   "metadata": {},
   "outputs": [],
   "source": [
    "name = 'Enter your name: '"
   ]
  },
  {
   "cell_type": "code",
   "execution_count": 23,
   "id": "radio-disability",
   "metadata": {},
   "outputs": [
    {
     "ename": "SyntaxError",
     "evalue": "invalid syntax (<ipython-input-23-c75c9140edfe>, line 3)",
     "output_type": "error",
     "traceback": [
      "\u001b[0;36m  File \u001b[0;32m\"<ipython-input-23-c75c9140edfe>\"\u001b[0;36m, line \u001b[0;32m3\u001b[0m\n\u001b[0;31m    print (f'Hello {name}, you are a {emotional_state} baby + '.' ')\u001b[0m\n\u001b[0m                                                                ^\u001b[0m\n\u001b[0;31mSyntaxError\u001b[0m\u001b[0;31m:\u001b[0m invalid syntax\n"
     ]
    }
   ],
   "source": [
    "name = input('Enter your name: ')\n",
    "emotional_state = input('Enter your emotional state: ')\n",
    "print (f'Hello {name}, you are a {emotional_state} baby + '.' ')"
   ]
  },
  {
   "cell_type": "code",
   "execution_count": 24,
   "id": "gorgeous-animal",
   "metadata": {},
   "outputs": [
    {
     "name": "stdout",
     "output_type": "stream",
     "text": [
      "Enter your name: Sai\n"
     ]
    }
   ],
   "source": [
    "name = input('Enter your name: ')\n"
   ]
  },
  {
   "cell_type": "code",
   "execution_count": 25,
   "id": "ongoing-somerset",
   "metadata": {},
   "outputs": [
    {
     "name": "stdout",
     "output_type": "stream",
     "text": [
      "Enter your emotional state: happy\n"
     ]
    }
   ],
   "source": [
    "emotional_state = input('Enter your emotional state: ')"
   ]
  },
  {
   "cell_type": "code",
   "execution_count": 28,
   "id": "binary-domain",
   "metadata": {},
   "outputs": [
    {
     "name": "stdout",
     "output_type": "stream",
     "text": [
      "Hello Sai, you are a happy baby.\n"
     ]
    }
   ],
   "source": [
    "print (f'Hello {name}, you are a {emotional_state} baby' + '.')"
   ]
  },
  {
   "cell_type": "code",
   "execution_count": 29,
   "id": "adequate-melissa",
   "metadata": {},
   "outputs": [
    {
     "name": "stdout",
     "output_type": "stream",
     "text": [
      "Enter your name: Sai\n",
      "Enter your emotional state: happy\n",
      "Hello Sai, you are a happy baby.\n"
     ]
    }
   ],
   "source": [
    "name = input('Enter your name: ')\n",
    "emotional_state = input('Enter your emotional state: ')\n",
    "print (f'Hello {name}, you are a {emotional_state} baby' + '.')"
   ]
  },
  {
   "cell_type": "code",
   "execution_count": 33,
   "id": "together-steam",
   "metadata": {},
   "outputs": [
    {
     "name": "stdout",
     "output_type": "stream",
     "text": [
      "Enter your name: XYZ\n",
      "Enter your company name: DEF\n",
      "Hello XYZ, huh, so you work at DEF eh\n"
     ]
    }
   ],
   "source": [
    "name = input('Enter your name: ')\n",
    "company = input('Enter your company name: ')\n",
    "\n",
    "if company == 'Cisco':\n",
    "    print(f'Hello {name}, its a pleasure to meet you')\n",
    "else:\n",
    "    print(f'Hello {name}, huh, so you work at {company} eh')"
   ]
  },
  {
   "cell_type": "code",
   "execution_count": 37,
   "id": "destroyed-console",
   "metadata": {},
   "outputs": [
    {
     "name": "stdout",
     "output_type": "stream",
     "text": [
      "Enter you company name: J\n",
      "Well..Guess you are happy, sorta, where you are\n"
     ]
    }
   ],
   "source": [
    "company = input('Enter you company name: ')\n",
    "\n",
    "if company == 'Cisco':\n",
    "    print('Wow!! Congratulations, we are colleagues')\n",
    "\n",
    "elif company == 'Corliant':\n",
    "    print('Hey, we used to work for the same company. Nice to meet you again')\n",
    "\n",
    "else:\n",
    "    print('Well..Guess you are happy, sorta, where you are')"
   ]
  },
  {
   "cell_type": "code",
   "execution_count": 42,
   "id": "bigger-blank",
   "metadata": {},
   "outputs": [
    {
     "name": "stdout",
     "output_type": "stream",
     "text": [
      "Enter your name: james\n",
      "Where do you work: xyz\n",
      "Whatever\n"
     ]
    }
   ],
   "source": [
    "name = input('Enter your name: ')\n",
    "company_name = input('Where do you work: ')\n",
    "\n",
    "if name == 'Ganesh' and company_name == 'Cisco':\n",
    "    print('Hey, it must be you')\n",
    "\n",
    "elif name == 'Ganesh' and not company_name == 'Cisco':\n",
    "    print(f'I guess they have someone with my name at {company_name}')\n",
    "\n",
    "elif not name == 'Ganesh' and company_name == 'Cisco':\n",
    "    print('Hey, we are collegues')\n",
    "\n",
    "else:\n",
    "    print('Whatever')\n"
   ]
  },
  {
   "cell_type": "code",
   "execution_count": 46,
   "id": "pregnant-gateway",
   "metadata": {},
   "outputs": [
    {
     "name": "stdout",
     "output_type": "stream",
     "text": [
      "Enter your name: james\n",
      "Where do you work: xyz\n",
      "Whatever\n"
     ]
    }
   ],
   "source": [
    "name = input('Enter your name: ')\n",
    "company_name = input('Where do you work: ')\n",
    "\n",
    "if name == 'Ganesh' and company_name == 'Cisco':\n",
    "    print('Hey, it must be you')\n",
    "\n",
    "elif name == 'Ganesh':\n",
    "    print(f'I guess they have someone with my name at {company_name}')\n",
    "\n",
    "elif company_name == 'Cisco':\n",
    "    print('Hey, we are collegues')\n",
    "\n",
    "else:\n",
    "    print('Whatever')"
   ]
  },
  {
   "cell_type": "code",
   "execution_count": 51,
   "id": "legitimate-lecture",
   "metadata": {},
   "outputs": [
    {
     "name": "stdout",
     "output_type": "stream",
     "text": [
      "Enter your first word: Ganesh\n",
      "Enter your second word: sheetal\n",
      "The first word comes before the second word alphabetically\n"
     ]
    }
   ],
   "source": [
    "first_word = input('Enter your first word: ')\n",
    "second_word = input('Enter your second word: ')\n",
    "\n",
    "if first_word == second_word:\n",
    "    print('The first and second word are the same')\n",
    "\n",
    "elif first_word < second_word:\n",
    "    print('The first word comes before the second word alphabetically')\n",
    "\n",
    "else:\n",
    "    print('The second word comes before the first word alphabetically')\n"
   ]
  },
  {
   "cell_type": "code",
   "execution_count": 55,
   "id": "foster-shower",
   "metadata": {},
   "outputs": [
    {
     "name": "stdout",
     "output_type": "stream",
     "text": [
      "Enter your first word: ganesh\n",
      "Enter your second word: gait\n",
      "The second word comes before the first word alphabetically\n"
     ]
    }
   ],
   "source": [
    "first_word = input('Enter your first word: ')\n",
    "second_word = input('Enter your second word: ')\n",
    "\n",
    "if first_word < second_word:\n",
    "    print('The first word comes before the second word alphabetically')\n",
    "\n",
    "elif second_word < first_word:\n",
    "    print('The second word comes before the first word alphabetically')\n",
    "\n",
    "else:\n",
    "    print('The first and second word are the same')\n"
   ]
  },
  {
   "cell_type": "code",
   "execution_count": 68,
   "id": "egyptian-receipt",
   "metadata": {},
   "outputs": [
    {
     "name": "stdout",
     "output_type": "stream",
     "text": [
      "Please guess a number between 0 and 100: 40\n",
      "The number you guessed is too high. The number is 35\n"
     ]
    }
   ],
   "source": [
    "import random\n",
    "random_number = random.randint(0, 100)\n",
    "\n",
    "guess_number = input('Please guess a number between 0 and 100: ')\n",
    "\n",
    "if int(guess_number) < random_number:\n",
    "    print(f'The number you guessed is too low. The random number is {random_number}')\n",
    "\n",
    "elif int(guess_number) > random_number:\n",
    "    print(f'The number you guessed is too high. The random number is {random_number}')\n",
    "\n",
    "else:\n",
    "    print('You guessed it right!!!!')\n"
   ]
  },
  {
   "cell_type": "code",
   "execution_count": 77,
   "id": "instrumental-amateur",
   "metadata": {},
   "outputs": [
    {
     "name": "stdout",
     "output_type": "stream",
     "text": [
      "Enter the first number :10\n",
      "Enter the second number :10\n",
      "Enter an operator (permitted operators are + and -): /\n",
      "The operator you entered is not permitted\n"
     ]
    }
   ],
   "source": [
    "first_number = input('Enter the first number :')\n",
    "second_number = input('Enter the second number :')\n",
    "operator = input('Enter an operator (permitted operators are + and -): ')\n",
    "\n",
    "first_number = int(first_number)\n",
    "second_number = int(second_number)\n",
    "\n",
    "if operator == '+':\n",
    "    print(f'The sum of {first_number} and {second_number} is {first_number + second_number}.')\n",
    "    \n",
    "elif operator == '-':\n",
    "    \n",
    "    if first_number < second_number:\n",
    "        print(f'The difference between the {first_number} and {second_number} is {second_number - first_number}.')\n",
    "    \n",
    "    else:\n",
    "        print(f'The difference between {first_number} and {second_number} is {first_number - second_number}.')\n",
    "    \n",
    "else:\n",
    "    print('The operator you entered is not permitted')\n",
    "\n"
   ]
  },
  {
   "cell_type": "code",
   "execution_count": 89,
   "id": "broad-island",
   "metadata": {},
   "outputs": [
    {
     "name": "stdout",
     "output_type": "stream",
     "text": [
      "Please enter an alphabetic string: hello\n",
      "Please enter a numeric index value :5\n",
      "5 value is too high\n"
     ]
    }
   ],
   "source": [
    "s = input('Please enter an alphabetic string: ')\n",
    "i = input('Please enter a numeric index value :')\n",
    "\n",
    "i = int(i)\n",
    "\n",
    "if i < 0:\n",
    "    print(f'{i} is incorrect index value')\n",
    "\n",
    "elif i >= len(s):\n",
    "    print(f'The index {i} value is too high')\n",
    "\n",
    "else:\n",
    "    print(f'The index {i} is {s[i]}')\n"
   ]
  },
  {
   "cell_type": "code",
   "execution_count": 88,
   "id": "available-memphis",
   "metadata": {},
   "outputs": [
    {
     "ename": "IndexError",
     "evalue": "string index out of range",
     "output_type": "error",
     "traceback": [
      "\u001b[0;31m---------------------------------------------------------------------------\u001b[0m",
      "\u001b[0;31mIndexError\u001b[0m                                Traceback (most recent call last)",
      "\u001b[0;32m<ipython-input-88-624908d2fb82>\u001b[0m in \u001b[0;36m<module>\u001b[0;34m\u001b[0m\n\u001b[1;32m      1\u001b[0m \u001b[0ms\u001b[0m \u001b[0;34m=\u001b[0m \u001b[0;34m'hello'\u001b[0m\u001b[0;34m\u001b[0m\u001b[0;34m\u001b[0m\u001b[0m\n\u001b[1;32m      2\u001b[0m \u001b[0mi\u001b[0m \u001b[0;34m=\u001b[0m \u001b[0;36m5\u001b[0m\u001b[0;34m\u001b[0m\u001b[0;34m\u001b[0m\u001b[0m\n\u001b[0;32m----> 3\u001b[0;31m \u001b[0mprint\u001b[0m\u001b[0;34m(\u001b[0m\u001b[0ms\u001b[0m\u001b[0;34m[\u001b[0m\u001b[0mi\u001b[0m\u001b[0;34m]\u001b[0m\u001b[0;34m)\u001b[0m\u001b[0;34m\u001b[0m\u001b[0;34m\u001b[0m\u001b[0m\n\u001b[0m",
      "\u001b[0;31mIndexError\u001b[0m: string index out of range"
     ]
    }
   ],
   "source": [
    "s = 'hello'\n",
    "i = 5\n",
    "print(s[i])\n"
   ]
  },
  {
   "cell_type": "code",
   "execution_count": null,
   "id": "signed-grass",
   "metadata": {},
   "outputs": [],
   "source": []
  }
 ],
 "metadata": {
  "kernelspec": {
   "display_name": "Python 3",
   "language": "python",
   "name": "python3"
  },
  "language_info": {
   "codemirror_mode": {
    "name": "ipython",
    "version": 3
   },
   "file_extension": ".py",
   "mimetype": "text/x-python",
   "name": "python",
   "nbconvert_exporter": "python",
   "pygments_lexer": "ipython3",
   "version": "3.8.6"
  }
 },
 "nbformat": 4,
 "nbformat_minor": 5
}
