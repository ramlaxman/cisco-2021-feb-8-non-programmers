{
 "cells": [
  {
   "cell_type": "code",
   "execution_count": 7,
   "id": "encouraging-champion",
   "metadata": {},
   "outputs": [
    {
     "name": "stdout",
     "output_type": "stream",
     "text": [
      "Hello World !!!!!\n"
     ]
    }
   ],
   "source": [
    "print ('Hello World !!!!!') # Hit Shift+Enter or Click Run to execute"
   ]
  },
  {
   "cell_type": "code",
   "execution_count": 15,
   "id": "express-eating",
   "metadata": {},
   "outputs": [
    {
     "name": "stdout",
     "output_type": "stream",
     "text": [
      "Hello, Ganesh.\n"
     ]
    }
   ],
   "source": [
    "name = 'Ganesh'\n",
    "print ('Hello, ' + name + \".\")"
   ]
  },
  {
   "cell_type": "code",
   "execution_count": 20,
   "id": "starting-sperm",
   "metadata": {},
   "outputs": [
    {
     "name": "stdout",
     "output_type": "stream",
     "text": [
      "Hello, Sai will turn 2 this year\n"
     ]
    }
   ],
   "source": [
    "name = 'Sai'\n",
    "birth_year = 2019\n",
    "this_year = 2021\n",
    "age_this_year = this_year - birth_year\n",
    "print (f'Hello, {name} will turn {age_this_year} this year')"
   ]
  },
  {
   "cell_type": "code",
   "execution_count": 21,
   "id": "exclusive-pixel",
   "metadata": {},
   "outputs": [
    {
     "ename": "SyntaxError",
     "evalue": "invalid syntax (<ipython-input-21-2f97fcb06645>, line 3)",
     "output_type": "error",
     "traceback": [
      "\u001b[0;36m  File \u001b[0;32m\"<ipython-input-21-2f97fcb06645>\"\u001b[0;36m, line \u001b[0;32m3\u001b[0m\n\u001b[0;31m    print (f'Hello {name}, you are a {emotional_state} baby + '.' ')\u001b[0m\n\u001b[0m                                                                ^\u001b[0m\n\u001b[0;31mSyntaxError\u001b[0m\u001b[0;31m:\u001b[0m invalid syntax\n"
     ]
    }
   ],
   "source": [
    "name = 'Enter your name: '\n",
    "emotional_state = 'Enter your emotional state: '\n",
    "print (f'Hello {name}, you are a {emotional_state} baby + '.' ')"
   ]
  },
  {
   "cell_type": "code",
   "execution_count": 22,
   "id": "short-paragraph",
   "metadata": {},
   "outputs": [],
   "source": [
    "name = 'Enter your name: '"
   ]
  },
  {
   "cell_type": "code",
   "execution_count": 23,
   "id": "smart-wheat",
   "metadata": {},
   "outputs": [
    {
     "ename": "SyntaxError",
     "evalue": "invalid syntax (<ipython-input-23-c75c9140edfe>, line 3)",
     "output_type": "error",
     "traceback": [
      "\u001b[0;36m  File \u001b[0;32m\"<ipython-input-23-c75c9140edfe>\"\u001b[0;36m, line \u001b[0;32m3\u001b[0m\n\u001b[0;31m    print (f'Hello {name}, you are a {emotional_state} baby + '.' ')\u001b[0m\n\u001b[0m                                                                ^\u001b[0m\n\u001b[0;31mSyntaxError\u001b[0m\u001b[0;31m:\u001b[0m invalid syntax\n"
     ]
    }
   ],
   "source": [
    "name = input('Enter your name: ')\n",
    "emotional_state = input('Enter your emotional state: ')\n",
    "print (f'Hello {name}, you are a {emotional_state} baby + '.' ')"
   ]
  },
  {
   "cell_type": "code",
   "execution_count": 24,
   "id": "former-syntax",
   "metadata": {},
   "outputs": [
    {
     "name": "stdout",
     "output_type": "stream",
     "text": [
      "Enter your name: Sai\n"
     ]
    }
   ],
   "source": [
    "name = input('Enter your name: ')\n"
   ]
  },
  {
   "cell_type": "code",
   "execution_count": 25,
   "id": "informational-washington",
   "metadata": {},
   "outputs": [
    {
     "name": "stdout",
     "output_type": "stream",
     "text": [
      "Enter your emotional state: happy\n"
     ]
    }
   ],
   "source": [
    "emotional_state = input('Enter your emotional state: ')"
   ]
  },
  {
   "cell_type": "code",
   "execution_count": 28,
   "id": "serial-directive",
   "metadata": {},
   "outputs": [
    {
     "name": "stdout",
     "output_type": "stream",
     "text": [
      "Hello Sai, you are a happy baby.\n"
     ]
    }
   ],
   "source": [
    "print (f'Hello {name}, you are a {emotional_state} baby' + '.')"
   ]
  },
  {
   "cell_type": "code",
   "execution_count": 29,
   "id": "raised-weight",
   "metadata": {},
   "outputs": [
    {
     "name": "stdout",
     "output_type": "stream",
     "text": [
      "Enter your name: Sai\n",
      "Enter your emotional state: happy\n",
      "Hello Sai, you are a happy baby.\n"
     ]
    }
   ],
   "source": [
    "name = input('Enter your name: ')\n",
    "emotional_state = input('Enter your emotional state: ')\n",
    "print (f'Hello {name}, you are a {emotional_state} baby' + '.')"
   ]
  },
  {
   "cell_type": "code",
   "execution_count": 33,
   "id": "special-clothing",
   "metadata": {},
   "outputs": [
    {
     "name": "stdout",
     "output_type": "stream",
     "text": [
      "Enter your name: XYZ\n",
      "Enter your company name: DEF\n",
      "Hello XYZ, huh, so you work at DEF eh\n"
     ]
    }
   ],
   "source": [
    "name = input('Enter your name: ')\n",
    "company = input('Enter your company name: ')\n",
    "\n",
    "if company == 'Cisco':\n",
    "    print(f'Hello {name}, its a pleasure to meet you')\n",
    "else:\n",
    "    print(f'Hello {name}, huh, so you work at {company} eh')"
   ]
  },
  {
   "cell_type": "code",
   "execution_count": 37,
   "id": "blond-parcel",
   "metadata": {},
   "outputs": [
    {
     "name": "stdout",
     "output_type": "stream",
     "text": [
      "Enter you company name: J\n",
      "Well..Guess you are happy, sorta, where you are\n"
     ]
    }
   ],
   "source": [
    "company = input('Enter you company name: ')\n",
    "\n",
    "if company == 'Cisco':\n",
    "    print('Wow!! Congratulations, we are colleagues')\n",
    "\n",
    "elif company == 'Corliant':\n",
    "    print('Hey, we used to work for the same company. Nice to meet you again')\n",
    "\n",
    "else:\n",
    "    print('Well..Guess you are happy, sorta, where you are')"
   ]
  },
  {
   "cell_type": "code",
   "execution_count": 42,
   "id": "wound-affiliate",
   "metadata": {},
   "outputs": [
    {
     "name": "stdout",
     "output_type": "stream",
     "text": [
      "Enter your name: james\n",
      "Where do you work: xyz\n",
      "Whatever\n"
     ]
    }
   ],
   "source": [
    "name = input('Enter your name: ')\n",
    "company_name = input('Where do you work: ')\n",
    "\n",
    "if name == 'Ganesh' and company_name == 'Cisco':\n",
    "    print('Hey, it must be you')\n",
    "\n",
    "elif name == 'Ganesh' and not company_name == 'Cisco':\n",
    "    print(f'I guess they have someone with my name at {company_name}')\n",
    "\n",
    "elif not name == 'Ganesh' and company_name == 'Cisco':\n",
    "    print('Hey, we are collegues')\n",
    "\n",
    "else:\n",
    "    print('Whatever')\n"
   ]
  },
  {
   "cell_type": "code",
   "execution_count": 46,
   "id": "white-blade",
   "metadata": {},
   "outputs": [
    {
     "name": "stdout",
     "output_type": "stream",
     "text": [
      "Enter your name: james\n",
      "Where do you work: xyz\n",
      "Whatever\n"
     ]
    }
   ],
   "source": [
    "name = input('Enter your name: ')\n",
    "company_name = input('Where do you work: ')\n",
    "\n",
    "if name == 'Ganesh' and company_name == 'Cisco':\n",
    "    print('Hey, it must be you')\n",
    "\n",
    "elif name == 'Ganesh':\n",
    "    print(f'I guess they have someone with my name at {company_name}')\n",
    "\n",
    "elif company_name == 'Cisco':\n",
    "    print('Hey, we are collegues')\n",
    "\n",
    "else:\n",
    "    print('Whatever')"
   ]
  },
  {
   "cell_type": "code",
   "execution_count": 51,
   "id": "aggregate-magnitude",
   "metadata": {},
   "outputs": [
    {
     "name": "stdout",
     "output_type": "stream",
     "text": [
      "Enter your first word: Ganesh\n",
      "Enter your second word: sheetal\n",
      "The first word comes before the second word alphabetically\n"
     ]
    }
   ],
   "source": [
    "first_word = input('Enter your first word: ')\n",
    "second_word = input('Enter your second word: ')\n",
    "\n",
    "if first_word == second_word:\n",
    "    print('The first and second word are the same')\n",
    "\n",
    "elif first_word < second_word:\n",
    "    print('The first word comes before the second word alphabetically')\n",
    "\n",
    "else:\n",
    "    print('The second word comes before the first word alphabetically')\n"
   ]
  },
  {
   "cell_type": "code",
   "execution_count": 55,
   "id": "awful-monthly",
   "metadata": {},
   "outputs": [
    {
     "name": "stdout",
     "output_type": "stream",
     "text": [
      "Enter your first word: ganesh\n",
      "Enter your second word: gait\n",
      "The second word comes before the first word alphabetically\n"
     ]
    }
   ],
   "source": [
    "first_word = input('Enter your first word: ')\n",
    "second_word = input('Enter your second word: ')\n",
    "\n",
    "if first_word < second_word:\n",
    "    print('The first word comes before the second word alphabetically')\n",
    "\n",
    "elif second_word < first_word:\n",
    "    print('The second word comes before the first word alphabetically')\n",
    "\n",
    "else:\n",
    "    print('The first and second word are the same')\n"
   ]
  },
  {
   "cell_type": "code",
   "execution_count": null,
   "id": "compliant-interval",
   "metadata": {},
   "outputs": [],
   "source": [
    "import random\n",
    "random_numer = random.randint(0, 100)\n",
    "\n",
    "m"
   ]
  },
  {
   "cell_type": "code",
   "execution_count": null,
   "id": "ethical-sociology",
   "metadata": {},
   "outputs": [],
   "source": []
  }
 ],
 "metadata": {
  "kernelspec": {
   "display_name": "Python 3",
   "language": "python",
   "name": "python3"
  },
  "language_info": {
   "codemirror_mode": {
    "name": "ipython",
    "version": 3
   },
   "file_extension": ".py",
   "mimetype": "text/x-python",
   "name": "python",
   "nbconvert_exporter": "python",
   "pygments_lexer": "ipython3",
   "version": "3.8.6"
  }
 },
 "nbformat": 4,
 "nbformat_minor": 5
}
