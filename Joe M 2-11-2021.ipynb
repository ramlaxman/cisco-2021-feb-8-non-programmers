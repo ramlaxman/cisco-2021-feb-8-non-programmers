{
 "cells": [
  {
   "cell_type": "code",
   "execution_count": 3,
   "id": "burning-globe",
   "metadata": {},
   "outputs": [],
   "source": [
    "def sum_digits(s):\n",
    "    total = 0\n",
    "    for one_character in s:\n",
    "        if s.isdigit():\n",
    "            total += 0 \n",
    "        print (sum_digits('abcdefg123456789'))\n",
    "    return total "
   ]
  },
  {
   "cell_type": "code",
   "execution_count": 6,
   "id": "hairy-gravity",
   "metadata": {},
   "outputs": [
    {
     "ename": "SyntaxError",
     "evalue": "unexpected EOF while parsing (<ipython-input-6-4b5d37e4bc47>, line 2)",
     "output_type": "error",
     "traceback": [
      "\u001b[0;36m  File \u001b[0;32m\"<ipython-input-6-4b5d37e4bc47>\"\u001b[0;36m, line \u001b[0;32m2\u001b[0m\n\u001b[0;31m    \u001b[0m\n\u001b[0m    ^\u001b[0m\n\u001b[0;31mSyntaxError\u001b[0m\u001b[0;31m:\u001b[0m unexpected EOF while parsing\n"
     ]
    }
   ],
   "source": [
    "def find_brand(filename, brand):\n",
    "    for one_line sho\n"
   ]
  },
  {
   "cell_type": "code",
   "execution_count": null,
   "id": "crude-exclusive",
   "metadata": {},
   "outputs": [],
   "source": []
  }
 ],
 "metadata": {
  "kernelspec": {
   "display_name": "Python 3",
   "language": "python",
   "name": "python3"
  },
  "language_info": {
   "codemirror_mode": {
    "name": "ipython",
    "version": 3
   },
   "file_extension": ".py",
   "mimetype": "text/x-python",
   "name": "python",
   "nbconvert_exporter": "python",
   "pygments_lexer": "ipython3",
   "version": "3.8.6"
  }
 },
 "nbformat": 4,
 "nbformat_minor": 5
}
