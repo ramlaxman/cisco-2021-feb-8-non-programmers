{
 "cells": [
  {
   "cell_type": "code",
   "execution_count": 3,
   "id": "innovative-intellectual",
   "metadata": {},
   "outputs": [],
   "source": [
    "def sum_digits(s):\n",
    "    total = 0\n",
    "    for one_character in s:\n",
    "        if s.isdigit():\n",
    "            total += 0 \n",
    "        print (sum_digits('abcdefg123456789'))\n",
    "    return total "
   ]
  },
  {
   "cell_type": "code",
   "execution_count": 8,
   "id": "incorporate-outline",
   "metadata": {},
   "outputs": [],
   "source": [
    "def find_brand(filename, brand):\n",
    "    for one_line in open(filename):\n",
    "        shoe-data.txt.split('\\t')\n",
    "        \n"
   ]
  },
  {
   "cell_type": "code",
   "execution_count": null,
   "id": "architectural-rugby",
   "metadata": {},
   "outputs": [],
   "source": []
  }
 ],
 "metadata": {
  "kernelspec": {
   "display_name": "Python 3",
   "language": "python",
   "name": "python3"
  },
  "language_info": {
   "codemirror_mode": {
    "name": "ipython",
    "version": 3
   },
   "file_extension": ".py",
   "mimetype": "text/x-python",
   "name": "python",
   "nbconvert_exporter": "python",
   "pygments_lexer": "ipython3",
   "version": "3.8.6"
  }
 },
 "nbformat": 4,
 "nbformat_minor": 5
}
