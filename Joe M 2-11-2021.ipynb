{
 "cells": [
  {
   "cell_type": "code",
   "execution_count": 3,
   "id": "sunset-serial",
   "metadata": {},
   "outputs": [],
   "source": [
    "def sum_digits(s):\n",
    "    total = 0\n",
    "    for one_character in s:\n",
    "        if s.isdigit():\n",
    "            total += 0 \n",
    "        print (sum_digits('abcdefg123456789'))\n",
    "    return total "
   ]
  },
  {
   "cell_type": "code",
   "execution_count": 6,
   "id": "promising-maker",
   "metadata": {},
   "outputs": [
    {
     "ename": "SyntaxError",
     "evalue": "unexpected EOF while parsing (<ipython-input-6-4b5d37e4bc47>, line 2)",
     "output_type": "error",
     "traceback": [
      "\u001b[0;36m  File \u001b[0;32m\"<ipython-input-6-4b5d37e4bc47>\"\u001b[0;36m, line \u001b[0;32m2\u001b[0m\n\u001b[0;31m    \u001b[0m\n\u001b[0m    ^\u001b[0m\n\u001b[0;31mSyntaxError\u001b[0m\u001b[0;31m:\u001b[0m unexpected EOF while parsing\n"
     ]
    }
   ],
   "source": [
    "def find_brand(filename, brand):\n",
    "\n"
   ]
  },
  {
   "cell_type": "code",
   "execution_count": null,
   "id": "noble-trademark",
   "metadata": {},
   "outputs": [],
   "source": []
  }
 ],
 "metadata": {
  "kernelspec": {
   "display_name": "Python 3",
   "language": "python",
   "name": "python3"
  },
  "language_info": {
   "codemirror_mode": {
    "name": "ipython",
    "version": 3
   },
   "file_extension": ".py",
   "mimetype": "text/x-python",
   "name": "python",
   "nbconvert_exporter": "python",
   "pygments_lexer": "ipython3",
   "version": "3.8.6"
  }
 },
 "nbformat": 4,
 "nbformat_minor": 5
}
