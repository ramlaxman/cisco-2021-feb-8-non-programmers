{
 "cells": [
  {
   "cell_type": "code",
   "execution_count": 1,
   "id": "starting-hampshire",
   "metadata": {},
   "outputs": [
    {
     "name": "stdout",
     "output_type": "stream",
     "text": [
      "I hate C\n"
     ]
    }
   ],
   "source": [
    "print ('I hate C') #shift enter to run"
   ]
  },
  {
   "cell_type": "code",
   "execution_count": 2,
   "id": "detailed-shield",
   "metadata": {},
   "outputs": [
    {
     "ename": "NameError",
     "evalue": "name 'Jason' is not defined",
     "output_type": "error",
     "traceback": [
      "\u001b[0;31m---------------------------------------------------------------------------\u001b[0m",
      "\u001b[0;31mNameError\u001b[0m                                 Traceback (most recent call last)",
      "\u001b[0;32m<ipython-input-2-6c3ad2bfe349>\u001b[0m in \u001b[0;36m<module>\u001b[0;34m\u001b[0m\n\u001b[0;32m----> 1\u001b[0;31m \u001b[0mname\u001b[0m \u001b[0;34m=\u001b[0m \u001b[0mJason\u001b[0m\u001b[0;34m\u001b[0m\u001b[0;34m\u001b[0m\u001b[0m\n\u001b[0m\u001b[1;32m      2\u001b[0m \u001b[0;34m\u001b[0m\u001b[0m\n\u001b[1;32m      3\u001b[0m \u001b[0mprint\u001b[0m \u001b[0;34m(\u001b[0m\u001b[0;34m'Hi + name'\u001b[0m\u001b[0;34m)\u001b[0m\u001b[0;34m\u001b[0m\u001b[0;34m\u001b[0m\u001b[0m\n",
      "\u001b[0;31mNameError\u001b[0m: name 'Jason' is not defined"
     ]
    }
   ],
   "source": [
    "name = Jason\n",
    "\n",
    "print ('Hi + name')"
   ]
  },
  {
   "cell_type": "code",
   "execution_count": 3,
   "id": "clinical-cradle",
   "metadata": {},
   "outputs": [
    {
     "ename": "SyntaxError",
     "evalue": "invalid syntax (<ipython-input-3-04553a188cb1>, line 1)",
     "output_type": "error",
     "traceback": [
      "\u001b[0;36m  File \u001b[0;32m\"<ipython-input-3-04553a188cb1>\"\u001b[0;36m, line \u001b[0;32m1\u001b[0m\n\u001b[0;31m    `name` = Jason\u001b[0m\n\u001b[0m    ^\u001b[0m\n\u001b[0;31mSyntaxError\u001b[0m\u001b[0;31m:\u001b[0m invalid syntax\n"
     ]
    }
   ],
   "source": [
    "`name` = Jason\n",
    "print ('Hi name')"
   ]
  },
  {
   "cell_type": "code",
   "execution_count": 4,
   "id": "formed-collaboration",
   "metadata": {},
   "outputs": [
    {
     "ename": "SyntaxError",
     "evalue": "invalid syntax (<ipython-input-4-2853622274b5>, line 1)",
     "output_type": "error",
     "traceback": [
      "\u001b[0;36m  File \u001b[0;32m\"<ipython-input-4-2853622274b5>\"\u001b[0;36m, line \u001b[0;32m1\u001b[0m\n\u001b[0;31m    `name` = Jason\u001b[0m\n\u001b[0m    ^\u001b[0m\n\u001b[0;31mSyntaxError\u001b[0m\u001b[0;31m:\u001b[0m invalid syntax\n"
     ]
    }
   ],
   "source": [
    "`name` = Jason\n",
    "print ('Hi + name')"
   ]
  },
  {
   "cell_type": "code",
   "execution_count": 5,
   "id": "loaded-roller",
   "metadata": {},
   "outputs": [
    {
     "ename": "NameError",
     "evalue": "name 'Jason' is not defined",
     "output_type": "error",
     "traceback": [
      "\u001b[0;31m---------------------------------------------------------------------------\u001b[0m",
      "\u001b[0;31mNameError\u001b[0m                                 Traceback (most recent call last)",
      "\u001b[0;32m<ipython-input-5-f19db6690694>\u001b[0m in \u001b[0;36m<module>\u001b[0;34m\u001b[0m\n\u001b[0;32m----> 1\u001b[0;31m \u001b[0mname\u001b[0m \u001b[0;34m=\u001b[0m \u001b[0mJason\u001b[0m\u001b[0;34m\u001b[0m\u001b[0;34m\u001b[0m\u001b[0m\n\u001b[0m\u001b[1;32m      2\u001b[0m \u001b[0mname\u001b[0m\u001b[0;34m\u001b[0m\u001b[0;34m\u001b[0m\u001b[0m\n",
      "\u001b[0;31mNameError\u001b[0m: name 'Jason' is not defined"
     ]
    }
   ],
   "source": [
    "name = Jason\n",
    "name"
   ]
  },
  {
   "cell_type": "code",
   "execution_count": 6,
   "id": "curious-demonstration",
   "metadata": {},
   "outputs": [
    {
     "ename": "SyntaxError",
     "evalue": "cannot assign to literal (<ipython-input-6-5d1fc16a2108>, line 1)",
     "output_type": "error",
     "traceback": [
      "\u001b[0;36m  File \u001b[0;32m\"<ipython-input-6-5d1fc16a2108>\"\u001b[0;36m, line \u001b[0;32m1\u001b[0m\n\u001b[0;31m    'name'= Jason\u001b[0m\n\u001b[0m    ^\u001b[0m\n\u001b[0;31mSyntaxError\u001b[0m\u001b[0;31m:\u001b[0m cannot assign to literal\n"
     ]
    }
   ],
   "source": [
    "'name'= Jason\n",
    "name"
   ]
  },
  {
   "cell_type": "code",
   "execution_count": 8,
   "id": "romance-healthcare",
   "metadata": {},
   "outputs": [
    {
     "ename": "NameError",
     "evalue": "name 'Jason' is not defined",
     "output_type": "error",
     "traceback": [
      "\u001b[0;31m---------------------------------------------------------------------------\u001b[0m",
      "\u001b[0;31mNameError\u001b[0m                                 Traceback (most recent call last)",
      "\u001b[0;32m<ipython-input-8-76bbfafad6a9>\u001b[0m in \u001b[0;36m<module>\u001b[0;34m\u001b[0m\n\u001b[0;32m----> 1\u001b[0;31m \u001b[0mname\u001b[0m \u001b[0;34m=\u001b[0m \u001b[0mJason\u001b[0m\u001b[0;34m\u001b[0m\u001b[0;34m\u001b[0m\u001b[0m\n\u001b[0m\u001b[1;32m      2\u001b[0m \u001b[0mprint\u001b[0m \u001b[0;34m(\u001b[0m\u001b[0mname\u001b[0m\u001b[0;34m)\u001b[0m\u001b[0;34m\u001b[0m\u001b[0;34m\u001b[0m\u001b[0m\n",
      "\u001b[0;31mNameError\u001b[0m: name 'Jason' is not defined"
     ]
    }
   ],
   "source": [
    "name = Jason\n",
    "print (name)"
   ]
  },
  {
   "cell_type": "code",
   "execution_count": 9,
   "id": "monetary-kidney",
   "metadata": {},
   "outputs": [
    {
     "ename": "SyntaxError",
     "evalue": "invalid syntax (<ipython-input-9-79afcbf7e47d>, line 1)",
     "output_type": "error",
     "traceback": [
      "\u001b[0;36m  File \u001b[0;32m\"<ipython-input-9-79afcbf7e47d>\"\u001b[0;36m, line \u001b[0;32m1\u001b[0m\n\u001b[0;31m    name = `Jason`\u001b[0m\n\u001b[0m           ^\u001b[0m\n\u001b[0;31mSyntaxError\u001b[0m\u001b[0;31m:\u001b[0m invalid syntax\n"
     ]
    }
   ],
   "source": [
    "name = `Jason`\n",
    "print (name)"
   ]
  },
  {
   "cell_type": "code",
   "execution_count": 11,
   "id": "fuzzy-lyric",
   "metadata": {},
   "outputs": [
    {
     "ename": "NameError",
     "evalue": "name 'Jason' is not defined",
     "output_type": "error",
     "traceback": [
      "\u001b[0;31m---------------------------------------------------------------------------\u001b[0m",
      "\u001b[0;31mNameError\u001b[0m                                 Traceback (most recent call last)",
      "\u001b[0;32m<ipython-input-11-582686ba4fed>\u001b[0m in \u001b[0;36m<module>\u001b[0;34m\u001b[0m\n\u001b[0;32m----> 1\u001b[0;31m \u001b[0mname\u001b[0m \u001b[0;34m=\u001b[0m \u001b[0;34m(\u001b[0m\u001b[0mJason\u001b[0m\u001b[0;34m)\u001b[0m\u001b[0;34m\u001b[0m\u001b[0;34m\u001b[0m\u001b[0m\n\u001b[0m\u001b[1;32m      2\u001b[0m \u001b[0mprint\u001b[0m \u001b[0;34m(\u001b[0m\u001b[0mname\u001b[0m\u001b[0;34m)\u001b[0m\u001b[0;34m\u001b[0m\u001b[0;34m\u001b[0m\u001b[0m\n",
      "\u001b[0;31mNameError\u001b[0m: name 'Jason' is not defined"
     ]
    }
   ],
   "source": [
    "name = (Jason)\n",
    "print (name)"
   ]
  },
  {
   "cell_type": "code",
   "execution_count": 25,
   "id": "other-wells",
   "metadata": {},
   "outputs": [
    {
     "ename": "SyntaxError",
     "evalue": "invalid syntax (<ipython-input-25-050ae5f220b5>, line 2)",
     "output_type": "error",
     "traceback": [
      "\u001b[0;36m  File \u001b[0;32m\"<ipython-input-25-050ae5f220b5>\"\u001b[0;36m, line \u001b[0;32m2\u001b[0m\n\u001b[0;31m    print ('Hello') + print name\u001b[0m\n\u001b[0m                            ^\u001b[0m\n\u001b[0;31mSyntaxError\u001b[0m\u001b[0;31m:\u001b[0m invalid syntax\n"
     ]
    }
   ],
   "source": [
    "name = 'Jason'\n",
    "print ('Hello') + print name"
   ]
  },
  {
   "cell_type": "code",
   "execution_count": 21,
   "id": "classical-arrow",
   "metadata": {},
   "outputs": [
    {
     "ename": "NameError",
     "evalue": "name 'hello' is not defined",
     "output_type": "error",
     "traceback": [
      "\u001b[0;31m---------------------------------------------------------------------------\u001b[0m",
      "\u001b[0;31mNameError\u001b[0m                                 Traceback (most recent call last)",
      "\u001b[0;32m<ipython-input-21-fcd6f0176134>\u001b[0m in \u001b[0;36m<module>\u001b[0;34m\u001b[0m\n\u001b[0;32m----> 1\u001b[0;31m \u001b[0mprint\u001b[0m \u001b[0;34m(\u001b[0m\u001b[0mhello\u001b[0m\u001b[0;34m)\u001b[0m\u001b[0;34m\u001b[0m\u001b[0;34m\u001b[0m\u001b[0m\n\u001b[0m",
      "\u001b[0;31mNameError\u001b[0m: name 'hello' is not defined"
     ]
    }
   ],
   "source": [
    "print (hello)"
   ]
  },
  {
   "cell_type": "code",
   "execution_count": 27,
   "id": "informative-nickname",
   "metadata": {},
   "outputs": [
    {
     "name": "stdout",
     "output_type": "stream",
     "text": [
      "Hello, + name\n"
     ]
    }
   ],
   "source": [
    "name = 'Jason'\n",
    "print ('Hello, + name')"
   ]
  },
  {
   "cell_type": "code",
   "execution_count": 28,
   "id": "perceived-template",
   "metadata": {},
   "outputs": [
    {
     "ename": "SyntaxError",
     "evalue": "EOL while scanning string literal (<ipython-input-28-93f9f361a407>, line 2)",
     "output_type": "error",
     "traceback": [
      "\u001b[0;36m  File \u001b[0;32m\"<ipython-input-28-93f9f361a407>\"\u001b[0;36m, line \u001b[0;32m2\u001b[0m\n\u001b[0;31m    print ('Hello, + name + '.')\u001b[0m\n\u001b[0m                                ^\u001b[0m\n\u001b[0;31mSyntaxError\u001b[0m\u001b[0;31m:\u001b[0m EOL while scanning string literal\n"
     ]
    }
   ],
   "source": [
    "name = 'Jason'\n",
    "print ('Hello, + name + '.')"
   ]
  },
  {
   "cell_type": "code",
   "execution_count": 34,
   "id": "varied-official",
   "metadata": {},
   "outputs": [
    {
     "name": "stdout",
     "output_type": "stream",
     "text": [
      "Jason\n"
     ]
    }
   ],
   "source": [
    "name = 'Jason'\n",
    "print (name)"
   ]
  },
  {
   "cell_type": "code",
   "execution_count": 32,
   "id": "fatty-oakland",
   "metadata": {},
   "outputs": [
    {
     "name": "stdout",
     "output_type": "stream",
     "text": [
      "Hello, Jason.\n"
     ]
    }
   ],
   "source": [
    "name = 'Jason'\n",
    "print('Hello, ' + name + '.')"
   ]
  },
  {
   "cell_type": "code",
   "execution_count": 42,
   "id": "gentle-dover",
   "metadata": {},
   "outputs": [
    {
     "name": "stdout",
     "output_type": "stream",
     "text": [
      "Hello Jason, you will be 41 this June.\n"
     ]
    }
   ],
   "source": [
    "name = 'Jason'\n",
    "birthyear = 1980\n",
    "age_this_year = 2021 - birthyear\n",
    "print (f'Hello {name}, you will be {age_this_year} this June.')"
   ]
  },
  {
   "cell_type": "code",
   "execution_count": 51,
   "id": "frank-roller",
   "metadata": {},
   "outputs": [
    {
     "name": "stdout",
     "output_type": "stream",
     "text": [
      "Enter your name: Jason\n",
      "Enter your emote: happy\n",
      "Hello s, I can see that you are e today.\n"
     ]
    }
   ],
   "source": [
    "n = input('Enter your name: ')\n",
    "e = input('Enter your emote: ')\n",
    "print ('Hello s, I can see that you are e today.') #need curly braces and f"
   ]
  },
  {
   "cell_type": "code",
   "execution_count": 60,
   "id": "specified-guatemala",
   "metadata": {},
   "outputs": [
    {
     "name": "stdout",
     "output_type": "stream",
     "text": [
      "Enter your name: Jason\n",
      "Enter your emote: happy\n",
      "Hello Jason, I can see that you are happy today.\n"
     ]
    }
   ],
   "source": [
    "n = input('Enter your name: ')\n",
    "e = input('Enter your emote: ')\n",
    "print (f'Hello {n}, I can see that you are {e} today.')"
   ]
  },
  {
   "cell_type": "code",
   "execution_count": 61,
   "id": "medical-block",
   "metadata": {},
   "outputs": [
    {
     "name": "stdout",
     "output_type": "stream",
     "text": [
      "Enter your name: Jason\n",
      "Enter your emote: happy\n",
      "Hello {n}, I can see that you are {e} today.\n"
     ]
    }
   ],
   "source": [
    "n = input('Enter your name: ')\n",
    "e = input('Enter your emote: ')\n",
    "print ('Hello {n}, I can see that you are {e} today.') #need the 'f' or it wont work"
   ]
  },
  {
   "cell_type": "code",
   "execution_count": 63,
   "id": "australian-globe",
   "metadata": {},
   "outputs": [
    {
     "name": "stdout",
     "output_type": "stream",
     "text": [
      "Enter your name: Jose\n",
      "Jose likes boats and hoes!\n"
     ]
    }
   ],
   "source": [
    "b = 'boats'\n",
    "h = 'hoes'\n",
    "n = input('Enter your name: ')\n",
    "print (f'{n} likes {b} and {h}!')"
   ]
  },
  {
   "cell_type": "code",
   "execution_count": 75,
   "id": "tracked-bracket",
   "metadata": {},
   "outputs": [
    {
     "name": "stdout",
     "output_type": "stream",
     "text": [
      "Enter your place of work: Cisco\n",
      "Hello Cisco employee, welcome\n"
     ]
    }
   ],
   "source": [
    "work = input('Enter your place of work: ')\n",
    "\n",
    "if work == 'Cisco':\n",
    "        print (f'Hello {work} employee, welcome') #dont forget f and {}\n",
    "        \n",
    "else:\n",
    "        print ('Hello external employee')"
   ]
  },
  {
   "cell_type": "code",
   "execution_count": 74,
   "id": "alternative-reducing",
   "metadata": {},
   "outputs": [
    {
     "name": "stdout",
     "output_type": "stream",
     "text": [
      "Enter your place of work:cisco\n",
      "Hello external employee\n"
     ]
    }
   ],
   "source": [
    "work = input('Enter your place of work: ') #case matters! will cover upper and lower later\n",
    "\n",
    "if work == 'Cisco':\n",
    "        print (f'Hello {work} employee, welcome')\n",
    "        \n",
    "else:\n",
    "        print ('Hello external employee')"
   ]
  },
  {
   "cell_type": "code",
   "execution_count": null,
   "id": "regional-overall",
   "metadata": {},
   "outputs": [],
   "source": [
    "current_work = input('Enter your place of work: ') #case matters! will cover upper and lower later\n",
    "prev_work = input('Enter your previous place of work: ')\n",
    "\n",
    "if current_work == 'Cisco':\n",
    "        print (f'Hello {current_work} employee, we are colleagues here.')\n",
    "        \n",
    "elif prev_work == 'IG':\n",
    "        print (f'We us)"
   ]
  }
 ],
 "metadata": {
  "kernelspec": {
   "display_name": "Python 3",
   "language": "python",
   "name": "python3"
  },
  "language_info": {
   "codemirror_mode": {
    "name": "ipython",
    "version": 3
   },
   "file_extension": ".py",
   "mimetype": "text/x-python",
   "name": "python",
   "nbconvert_exporter": "python",
   "pygments_lexer": "ipython3",
   "version": "3.8.6"
  }
 },
 "nbformat": 4,
 "nbformat_minor": 5
}
