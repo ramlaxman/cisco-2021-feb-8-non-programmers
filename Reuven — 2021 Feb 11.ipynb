{
 "cells": [
  {
   "cell_type": "markdown",
   "id": "wound-thumbnail",
   "metadata": {},
   "source": [
    "# Agenda\n",
    "\n",
    "1. PyCharm — writing code\n",
    "2. PyCharm (and not) -- running code from the command line\n",
    "3. Functions\n",
    "    - What are functions, anyway?\n",
    "    - How do we define functions?\n",
    "    - Arguments to functions\n",
    "4. Modules\n",
    "    - `import` and modules\n",
    "    - PyPI and downloading/installing modules with `pip`"
   ]
  },
  {
   "cell_type": "markdown",
   "id": "south-showcase",
   "metadata": {},
   "source": [
    "# Exercise: Run `hello.py` from the command line\n",
    "\n",
    "1. Open a command-line terminal.\n",
    "2. Run the program `hello.py` with the syntax of `python3 FULL_PATH_TO/hello.py`"
   ]
  },
  {
   "cell_type": "code",
   "execution_count": 1,
   "id": "happy-lindsay",
   "metadata": {},
   "outputs": [],
   "source": [
    "# start -> run program \"CMD\""
   ]
  },
  {
   "cell_type": "markdown",
   "id": "happy-abraham",
   "metadata": {},
   "source": [
    "# Exercise: wc (part 1)\n",
    "\n",
    "1. Start a new Python file in PyCharm, called `wc.py`.\n",
    "2. When run, this program will ask the user to enter a filename.\n",
    "3. Define a variable called `lines`, set to be the integer 0.\n",
    "4. The program will then open the named file, use a `for` loop to iterate over each line in the file, and print the number of lines that it found.\n",
    "    - Open a file for reading with `open(FILENAME)`, where `FILENAME` is a string\n",
    "    - Iterate over a file object with `for`\n",
    "    - In one line, we can say `for one_line in open(FILENAME)`\n",
    "    - As you iterate over each line of the file, count what line you're own\n",
    "5. Note: It doesn't need to print the file!  Just the number of lines.\n",
    "6. This should be runnable from the command line.  If you want a file to test things on, use `wcfile.txt`, in the zip file you can download."
   ]
  },
  {
   "cell_type": "code",
   "execution_count": 2,
   "id": "sensitive-drove",
   "metadata": {},
   "outputs": [
    {
     "name": "stdout",
     "output_type": "stream",
     "text": [
      "cat: wcfile.txt: No such file or directory\r\n"
     ]
    }
   ],
   "source": [
    "!cat wcfile.txt"
   ]
  },
  {
   "cell_type": "markdown",
   "id": "indonesian-turning",
   "metadata": {},
   "source": [
    "# Functions!\n",
    "\n",
    "When I define a function, I'm adding a new vocabulary word (a new verb) to Python. Once I define it, I can use it (\"call it\") whenever I want.\n",
    "\n",
    "A function is a set of instructions. What instructions? Whatever we want."
   ]
  },
  {
   "cell_type": "code",
   "execution_count": 4,
   "id": "average-telephone",
   "metadata": {},
   "outputs": [],
   "source": [
    "def hello():         # the word \"def\" in Python defines a new function\n",
    "                     # after the function name are () with any parameters\n",
    "    return 'Hello!'  # function body is indented, and is as long as we want\n",
    "                     # \"return\" means: this is the value the function gives us back"
   ]
  },
  {
   "cell_type": "code",
   "execution_count": 6,
   "id": "optical-tuition",
   "metadata": {},
   "outputs": [],
   "source": [
    "# run the function hello, and put its return value into s\n",
    "s = hello()"
   ]
  },
  {
   "cell_type": "code",
   "execution_count": 7,
   "id": "unusual-verse",
   "metadata": {},
   "outputs": [
    {
     "data": {
      "text/plain": [
       "'Hello!'"
      ]
     },
     "execution_count": 7,
     "metadata": {},
     "output_type": "execute_result"
    }
   ],
   "source": [
    "s"
   ]
  },
  {
   "cell_type": "code",
   "execution_count": 8,
   "id": "extreme-brief",
   "metadata": {},
   "outputs": [
    {
     "ename": "TypeError",
     "evalue": "hello() takes 0 positional arguments but 1 was given",
     "output_type": "error",
     "traceback": [
      "\u001b[0;31m---------------------------------------------------------------------------\u001b[0m",
      "\u001b[0;31mTypeError\u001b[0m                                 Traceback (most recent call last)",
      "\u001b[0;32m<ipython-input-8-bfe2db9aba0f>\u001b[0m in \u001b[0;36m<module>\u001b[0;34m\u001b[0m\n\u001b[0;32m----> 1\u001b[0;31m \u001b[0mhello\u001b[0m\u001b[0;34m(\u001b[0m\u001b[0;34m'world'\u001b[0m\u001b[0;34m)\u001b[0m \u001b[0;31m# try to call the function with an argument\u001b[0m\u001b[0;34m\u001b[0m\u001b[0;34m\u001b[0m\u001b[0m\n\u001b[0m",
      "\u001b[0;31mTypeError\u001b[0m: hello() takes 0 positional arguments but 1 was given"
     ]
    }
   ],
   "source": [
    "hello('world') # try to call the function with an argument"
   ]
  },
  {
   "cell_type": "code",
   "execution_count": 9,
   "id": "excess-contract",
   "metadata": {},
   "outputs": [],
   "source": [
    "def hello(name):   # defining hello again, this time with a parameter\n",
    "                   # meaning: when we call the function, we need to provide a value\n",
    "    return f'Hello, {name}!'"
   ]
  },
  {
   "cell_type": "code",
   "execution_count": 10,
   "id": "changed-corruption",
   "metadata": {},
   "outputs": [
    {
     "data": {
      "text/plain": [
       "'Hello, world!'"
      ]
     },
     "execution_count": 10,
     "metadata": {},
     "output_type": "execute_result"
    }
   ],
   "source": [
    "hello('world')"
   ]
  },
  {
   "cell_type": "code",
   "execution_count": 11,
   "id": "amended-terrorist",
   "metadata": {},
   "outputs": [
    {
     "ename": "NameError",
     "evalue": "name 'name' is not defined",
     "output_type": "error",
     "traceback": [
      "\u001b[0;31m---------------------------------------------------------------------------\u001b[0m",
      "\u001b[0;31mNameError\u001b[0m                                 Traceback (most recent call last)",
      "\u001b[0;32m<ipython-input-11-9bc0cb2ed6de>\u001b[0m in \u001b[0;36m<module>\u001b[0;34m\u001b[0m\n\u001b[0;32m----> 1\u001b[0;31m \u001b[0mname\u001b[0m\u001b[0;34m\u001b[0m\u001b[0;34m\u001b[0m\u001b[0m\n\u001b[0m",
      "\u001b[0;31mNameError\u001b[0m: name 'name' is not defined"
     ]
    }
   ],
   "source": [
    "name"
   ]
  },
  {
   "cell_type": "code",
   "execution_count": 12,
   "id": "ultimate-bidder",
   "metadata": {},
   "outputs": [
    {
     "ename": "TypeError",
     "evalue": "hello() missing 1 required positional argument: 'name'",
     "output_type": "error",
     "traceback": [
      "\u001b[0;31m---------------------------------------------------------------------------\u001b[0m",
      "\u001b[0;31mTypeError\u001b[0m                                 Traceback (most recent call last)",
      "\u001b[0;32m<ipython-input-12-a75d7781aaeb>\u001b[0m in \u001b[0;36m<module>\u001b[0;34m\u001b[0m\n\u001b[0;32m----> 1\u001b[0;31m \u001b[0mhello\u001b[0m\u001b[0;34m(\u001b[0m\u001b[0;34m)\u001b[0m\u001b[0;34m\u001b[0m\u001b[0;34m\u001b[0m\u001b[0m\n\u001b[0m",
      "\u001b[0;31mTypeError\u001b[0m: hello() missing 1 required positional argument: 'name'"
     ]
    }
   ],
   "source": [
    "hello()"
   ]
  },
  {
   "cell_type": "code",
   "execution_count": 13,
   "id": "external-calculation",
   "metadata": {},
   "outputs": [
    {
     "data": {
      "text/plain": [
       "13"
      ]
     },
     "execution_count": 13,
     "metadata": {},
     "output_type": "execute_result"
    }
   ],
   "source": [
    "def add(a, b):\n",
    "    return a + b\n",
    "\n",
    "add(10, 3)"
   ]
  },
  {
   "cell_type": "code",
   "execution_count": 14,
   "id": "capital-locking",
   "metadata": {},
   "outputs": [
    {
     "data": {
      "text/plain": [
       "21.5"
      ]
     },
     "execution_count": 14,
     "metadata": {},
     "output_type": "execute_result"
    }
   ],
   "source": [
    "add(20, 1.5)"
   ]
  },
  {
   "cell_type": "markdown",
   "id": "fitting-residence",
   "metadata": {},
   "source": [
    "# Exercise: Greeting with a full name\n",
    "\n",
    "1. Define a function, `hello`, that takes *two* arguments, which we'll call `first_name` and `last_name`.\n",
    "2. The function should return a string with a friendly greeting that uses both first and last names.\n",
    "3. Call the function with your names, and print the result."
   ]
  },
  {
   "cell_type": "code",
   "execution_count": 20,
   "id": "prime-delhi",
   "metadata": {},
   "outputs": [
    {
     "name": "stdout",
     "output_type": "stream",
     "text": [
      "Hello, a b\n"
     ]
    }
   ],
   "source": [
    "# def hello(first_name, last_name):\n",
    "#     s = f'Hello, {first_name} {last_name}!'\n",
    "#     return s\n",
    "\n",
    "def hello(first_name, last_name):\n",
    "    return f'Hello, {first_name} {last_name}'\n",
    "\n",
    "# def hello(first_name, last_name):\n",
    "#     return 'Hello, ' + first_name + ' ' + last_name\n",
    "\n",
    "\n",
    "print(hello('a', 'b'))"
   ]
  },
  {
   "cell_type": "code",
   "execution_count": 21,
   "id": "connected-funds",
   "metadata": {},
   "outputs": [
    {
     "name": "stdout",
     "output_type": "stream",
     "text": [
      "Hello, 2 3\n"
     ]
    }
   ],
   "source": [
    "print(hello(2, 3))"
   ]
  },
  {
   "cell_type": "code",
   "execution_count": 22,
   "id": "silver-sender",
   "metadata": {},
   "outputs": [],
   "source": [
    "def add(a, b):\n",
    "    return a + b"
   ]
  },
  {
   "cell_type": "code",
   "execution_count": 23,
   "id": "sized-correction",
   "metadata": {},
   "outputs": [
    {
     "data": {
      "text/plain": [
       "15"
      ]
     },
     "execution_count": 23,
     "metadata": {},
     "output_type": "execute_result"
    }
   ],
   "source": [
    "add(10, 5)"
   ]
  },
  {
   "cell_type": "code",
   "execution_count": 26,
   "id": "clear-carrier",
   "metadata": {},
   "outputs": [],
   "source": [
    "# I can write a function that takes a list as an argument\n",
    "\n",
    "def total_lengths(list_of_words):\n",
    "    total = 0\n",
    "    \n",
    "    for one_word in list_of_words:\n",
    "        total += len(one_word)\n",
    "        \n",
    "    return total"
   ]
  },
  {
   "cell_type": "code",
   "execution_count": 27,
   "id": "chinese-dancing",
   "metadata": {},
   "outputs": [
    {
     "data": {
      "text/plain": [
       "11"
      ]
     },
     "execution_count": 27,
     "metadata": {},
     "output_type": "execute_result"
    }
   ],
   "source": [
    "total_lengths(['abcd', 'efghi', 'jk'])"
   ]
  },
  {
   "cell_type": "markdown",
   "id": "unlike-ecuador",
   "metadata": {},
   "source": [
    "# Exercise: count_vowels\n",
    "\n",
    "1. Write a function, `count_vowels`, that takes a single argument, a string, which we will call `s`.\n",
    "2. The function will return the number of vowels (a, e, i, o, and u) in the string.\n",
    "3. It should use a `for` loop to iterate over the string, check if character is a vowel (or not).\n",
    "4. If it is, then add to the total.\n",
    "5. At the end, return the total."
   ]
  },
  {
   "cell_type": "code",
   "execution_count": 29,
   "id": "combined-source",
   "metadata": {},
   "outputs": [
    {
     "name": "stdout",
     "output_type": "stream",
     "text": [
      "No, not a vowel!\n"
     ]
    }
   ],
   "source": [
    "# If I have a character, and want to know if it's a vowel, how do I do that?\n",
    "\n",
    "# If I have a string, which is a bunch of character, then I can use\n",
    "# a for loop, going one character at a time, and then use the above formula\n",
    "# for checking if it's a vowel\n",
    "\n",
    "one_character = 'b'\n",
    "\n",
    "if one_character in 'aeiou':    # LITTLE in BIG -- returns True or False\n",
    "    print('Yes, a vowel!')\n",
    "else:\n",
    "    print('No, not a vowel!')\n"
   ]
  },
  {
   "cell_type": "code",
   "execution_count": 31,
   "id": "tired-turkey",
   "metadata": {},
   "outputs": [
    {
     "name": "stdout",
     "output_type": "stream",
     "text": [
      "Yes, a vowel!\n",
      "No, not a vowel!\n",
      "No, not a vowel!\n",
      "No, not a vowel!\n",
      "Yes, a vowel!\n",
      "No, not a vowel!\n"
     ]
    }
   ],
   "source": [
    "total = 0\n",
    "s = 'abcdef'\n",
    "\n",
    "for one_character in s:\n",
    "    if one_character in 'aeiou':    # LITTLE in BIG -- returns True or False\n",
    "        print('Yes, a vowel!')\n",
    "        total += 1\n",
    "    else:\n",
    "        print('No, not a vowel!')"
   ]
  },
  {
   "cell_type": "code",
   "execution_count": 32,
   "id": "arbitrary-hygiene",
   "metadata": {},
   "outputs": [
    {
     "data": {
      "text/plain": [
       "2"
      ]
     },
     "execution_count": 32,
     "metadata": {},
     "output_type": "execute_result"
    }
   ],
   "source": [
    "total"
   ]
  },
  {
   "cell_type": "code",
   "execution_count": 33,
   "id": "removed-blast",
   "metadata": {},
   "outputs": [],
   "source": [
    "def count_vowels(s):\n",
    "    total = 0\n",
    "\n",
    "    for one_character in s:\n",
    "        if one_character in 'aeiou':    # LITTLE in BIG -- returns True or False\n",
    "            total += 1\n",
    "            \n",
    "    return total"
   ]
  },
  {
   "cell_type": "code",
   "execution_count": 34,
   "id": "induced-graham",
   "metadata": {},
   "outputs": [
    {
     "data": {
      "text/plain": [
       "2"
      ]
     },
     "execution_count": 34,
     "metadata": {},
     "output_type": "execute_result"
    }
   ],
   "source": [
    "count_vowels('abcdefg')"
   ]
  },
  {
   "cell_type": "markdown",
   "id": "crazy-pioneer",
   "metadata": {},
   "source": [
    "# Exercise: `count_vowels_file`\n",
    "\n",
    "1. Write a new function, `count_vowels_file`, that takes a filename as an argument.  So you'll call it as\n",
    "\n",
    "```python\n",
    "count_vowels_file('wcfile.txt')\n",
    "```\n",
    "    \n",
    "2. Set a variable, `total`, to 0.\n",
    "\n",
    "3. This function will have to open the file for reading, and will iterate over each line of the file, one at a time.\n",
    "\n",
    "```python\n",
    "for one_line in open(filename):\n",
    "    # stuff goes here\n",
    "```\n",
    "   \n",
    "4. `count_vowels` takes a string, and returns an integer -- the number of vowels in the string.  For each line in the file, call `count_vowels` on `one_line`, and add the total to a running `total` variable.\n",
    "\n",
    "5. The function should return the total number of vowels in the the file."
   ]
  },
  {
   "cell_type": "markdown",
   "id": "arctic-hunger",
   "metadata": {},
   "source": [
    "Ask yourself:\n",
    "- How would I could the vowels in a single line of the file, if that line were called `one_line` and a string?\n",
    "- How can get each line of the file into a variable named `one_line`, a string?"
   ]
  },
  {
   "cell_type": "code",
   "execution_count": 36,
   "id": "abstract-chicken",
   "metadata": {},
   "outputs": [
    {
     "name": "stdout",
     "output_type": "stream",
     "text": [
      "Ever-output.txt  gs-output.txt\t       mini-access-log.txt  solo_write.txt\r\n",
      "JSM-output.txt\t jane.txt\t       nums.txt\t\t    untitled.txt\r\n",
      "README.txt\t jd-output.txt\t       rml-output.txt\t    untitled1.txt\r\n",
      "ever-output.txt  linux-etc-passwd.txt  shoe-data.txt\t    wcfile.txt\r\n"
     ]
    }
   ],
   "source": [
    "!ls *.txt"
   ]
  },
  {
   "cell_type": "code",
   "execution_count": 37,
   "id": "funny-christian",
   "metadata": {},
   "outputs": [],
   "source": [
    "# if I want to use the \"in\" operator, I'm asking :\n",
    "\n",
    "# LITTLE in BIG (returns True or False)"
   ]
  },
  {
   "cell_type": "code",
   "execution_count": 38,
   "id": "improved-eagle",
   "metadata": {},
   "outputs": [
    {
     "data": {
      "text/plain": [
       "True"
      ]
     },
     "execution_count": 38,
     "metadata": {},
     "output_type": "execute_result"
    }
   ],
   "source": [
    "'a' in 'abcde'"
   ]
  },
  {
   "cell_type": "code",
   "execution_count": 39,
   "id": "western-bible",
   "metadata": {},
   "outputs": [
    {
     "data": {
      "text/plain": [
       "True"
      ]
     },
     "execution_count": 39,
     "metadata": {},
     "output_type": "execute_result"
    }
   ],
   "source": [
    "'e' in 'abcde'"
   ]
  },
  {
   "cell_type": "code",
   "execution_count": 40,
   "id": "shaped-script",
   "metadata": {},
   "outputs": [
    {
     "data": {
      "text/plain": [
       "False"
      ]
     },
     "execution_count": 40,
     "metadata": {},
     "output_type": "execute_result"
    }
   ],
   "source": [
    "'j' in 'abcde'"
   ]
  },
  {
   "cell_type": "code",
   "execution_count": 41,
   "id": "traditional-europe",
   "metadata": {},
   "outputs": [
    {
     "data": {
      "text/plain": [
       "False"
      ]
     },
     "execution_count": 41,
     "metadata": {},
     "output_type": "execute_result"
    }
   ],
   "source": [
    "s = 'testing testing'\n",
    "\n",
    "s in 'abcde'  # not the case"
   ]
  },
  {
   "cell_type": "code",
   "execution_count": 42,
   "id": "based-benjamin",
   "metadata": {},
   "outputs": [
    {
     "name": "stdout",
     "output_type": "stream",
     "text": [
      "Yes, e is in \"aeiou\"\n",
      "Yes, i is in \"aeiou\"\n",
      "Yes, e is in \"aeiou\"\n",
      "Yes, i is in \"aeiou\"\n"
     ]
    }
   ],
   "source": [
    "# What we really want to check is: Which letters in s *are* in 'aeiou'\n",
    "\n",
    "for one_letter in s:\n",
    "    if one_letter in 'aeiou':\n",
    "        print(f'Yes, {one_letter} is in \"aeiou\"')"
   ]
  },
  {
   "cell_type": "code",
   "execution_count": null,
   "id": "limiting-numbers",
   "metadata": {},
   "outputs": [],
   "source": []
  },
  {
   "cell_type": "markdown",
   "id": "assured-humor",
   "metadata": {},
   "source": [
    "# Exercise: `count_vowels_file`\n",
    "\n",
    "1. Write a new function, `count_vowels_file`, that takes a filename as an argument.  So you'll call it as\n",
    "\n",
    "```python\n",
    "count_vowels_file('wcfile.txt')\n",
    "```\n",
    "    \n",
    "2. Set a variable, `total`, to 0.\n",
    "\n",
    "3. This function will have to open the file for reading, and will iterate over each line of the file, one at a time.\n",
    "\n",
    "```python\n",
    "for one_line in open(filename):\n",
    "    # stuff goes here\n",
    "```\n",
    "   \n",
    "4. `count_vowels` takes a string, and returns an integer -- the number of vowels in the string.  For each line in the file, call `count_vowels` on `one_line`, and add the total to a running `total` variable.\n",
    "\n",
    "5. The function should return the total number of vowels in the the file."
   ]
  },
  {
   "cell_type": "code",
   "execution_count": 47,
   "id": "friendly-design",
   "metadata": {},
   "outputs": [],
   "source": [
    "def count_vowels_file(filename):\n",
    "    # setup\n",
    "    total = 0\n",
    "    \n",
    "    # calculate\n",
    "    for one_line in open(filename):\n",
    "        total += count_vowels(one_line)\n",
    "\n",
    "    # report\n",
    "    return total"
   ]
  },
  {
   "cell_type": "code",
   "execution_count": 48,
   "id": "sealed-martin",
   "metadata": {},
   "outputs": [
    {
     "data": {
      "text/plain": [
       "40"
      ]
     },
     "execution_count": 48,
     "metadata": {},
     "output_type": "execute_result"
    }
   ],
   "source": [
    "count_vowels_file('wcfile.txt')"
   ]
  },
  {
   "cell_type": "markdown",
   "id": "quick-demographic",
   "metadata": {},
   "source": [
    "# Exercise: `sum_digits`\n",
    "\n",
    "1. Write a function, `sum_digits`, that gets a string, `s`, as an argument.\n",
    "2. The string can contain any character we want. But we're only interested in the digits (0-9).\n",
    "3. At the top of the function, define `total` to be equal to 0.\n",
    "4. Go through each character in `s`. If it's a digit, then turn it into an integer, and add it to `total`.\n",
    "5. When the function is done, return `total`.\n",
    "\n",
    "```python\n",
    "s = 'abc123def4'\n",
    "\n",
    "print(sum_digits(s))   # prints 10\n",
    "```\n",
    "\n"
   ]
  },
  {
   "cell_type": "code",
   "execution_count": null,
   "id": "exceptional-lodging",
   "metadata": {},
   "outputs": [],
   "source": [
    "# one-character string\n",
    "\n",
    "s = '1'  # does it contain a digit?\n",
    "\n",
    "s in '0123456789'  # True or False\n",
    "s.isdigit()        # True or False"
   ]
  },
  {
   "cell_type": "code",
   "execution_count": 49,
   "id": "turkish-discrimination",
   "metadata": {},
   "outputs": [
    {
     "name": "stdout",
     "output_type": "stream",
     "text": [
      "1\n"
     ]
    }
   ],
   "source": [
    "total = 0\n",
    "\n",
    "one_character = '1'\n",
    "if one_character.isdigit():\n",
    "    total += int(one_character)\n",
    "\n",
    "print(total)\n",
    "    "
   ]
  },
  {
   "cell_type": "code",
   "execution_count": 51,
   "id": "awful-treasure",
   "metadata": {},
   "outputs": [
    {
     "name": "stdout",
     "output_type": "stream",
     "text": [
      "6\n"
     ]
    }
   ],
   "source": [
    "total = 0\n",
    "\n",
    "s = 'a1b2c3!'\n",
    "\n",
    "for one_character in s:\n",
    "    if one_character.isdigit():\n",
    "        total += int(one_character)\n",
    "\n",
    "print(total)\n",
    "    "
   ]
  },
  {
   "cell_type": "code",
   "execution_count": 52,
   "id": "advance-magazine",
   "metadata": {},
   "outputs": [],
   "source": [
    "def sum_digits(s):\n",
    "    total = 0\n",
    "\n",
    "    for one_character in s:\n",
    "        if one_character.isdigit():\n",
    "            total += int(one_character)\n",
    "\n",
    "    print(total)\n",
    "    "
   ]
  },
  {
   "cell_type": "code",
   "execution_count": 53,
   "id": "realistic-charger",
   "metadata": {},
   "outputs": [
    {
     "name": "stdout",
     "output_type": "stream",
     "text": [
      "10\n"
     ]
    }
   ],
   "source": [
    "sum_digits('1a2b3c4')"
   ]
  },
  {
   "cell_type": "code",
   "execution_count": null,
   "id": "married-argument",
   "metadata": {},
   "outputs": [],
   "source": []
  }
 ],
 "metadata": {
  "kernelspec": {
   "display_name": "Python 3",
   "language": "python",
   "name": "python3"
  },
  "language_info": {
   "codemirror_mode": {
    "name": "ipython",
    "version": 3
   },
   "file_extension": ".py",
   "mimetype": "text/x-python",
   "name": "python",
   "nbconvert_exporter": "python",
   "pygments_lexer": "ipython3",
   "version": "3.8.6"
  }
 },
 "nbformat": 4,
 "nbformat_minor": 5
}
