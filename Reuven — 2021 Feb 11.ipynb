{
 "cells": [
  {
   "cell_type": "markdown",
   "id": "included-motorcycle",
   "metadata": {},
   "source": [
    "# Agenda\n",
    "\n",
    "1. PyCharm — writing code\n",
    "2. PyCharm (and not) -- running code from the command line\n",
    "3. Functions\n",
    "    - What are functions, anyway?\n",
    "    - How do we define functions?\n",
    "    - Arguments to functions\n",
    "4. Modules\n",
    "    - `import` and modules\n",
    "    - PyPI and downloading/installing modules with `pip`"
   ]
  },
  {
   "cell_type": "markdown",
   "id": "assisted-husband",
   "metadata": {},
   "source": [
    "# Exercise: Run `hello.py` from the command line\n",
    "\n",
    "1. Open a command-line terminal.\n",
    "2. Run the program `hello.py` with the syntax of `python3 FULL_PATH_TO/hello.py`"
   ]
  },
  {
   "cell_type": "code",
   "execution_count": 1,
   "id": "bright-convertible",
   "metadata": {},
   "outputs": [],
   "source": [
    "# start -> run program \"CMD\""
   ]
  },
  {
   "cell_type": "markdown",
   "id": "opposed-sequence",
   "metadata": {},
   "source": [
    "# Exercise: wc (part 1)\n",
    "\n",
    "1. Start a new Python file in PyCharm, called `wc.py`.\n",
    "2. When run, this program will ask the user to enter a filename.\n",
    "3. Define a variable called `lines`, set to be the integer 0.\n",
    "4. The program will then open the named file, use a `for` loop to iterate over each line in the file, and print the number of lines that it found.\n",
    "    - Open a file for reading with `open(FILENAME)`, where `FILENAME` is a string\n",
    "    - Iterate over a file object with `for`\n",
    "    - In one line, we can say `for one_line in open(FILENAME)`\n",
    "    - As you iterate over each line of the file, count what line you're own\n",
    "5. Note: It doesn't need to print the file!  Just the number of lines.\n",
    "6. This should be runnable from the command line.  If you want a file to test things on, use `wcfile.txt`, in the zip file you can download."
   ]
  },
  {
   "cell_type": "code",
   "execution_count": 2,
   "id": "legitimate-house",
   "metadata": {},
   "outputs": [
    {
     "name": "stdout",
     "output_type": "stream",
     "text": [
      "cat: wcfile.txt: No such file or directory\r\n"
     ]
    }
   ],
   "source": [
    "!cat wcfile.txt"
   ]
  },
  {
   "cell_type": "markdown",
   "id": "stretch-bracelet",
   "metadata": {},
   "source": [
    "# Functions!\n",
    "\n",
    "When I define a function, I'm adding a new vocabulary word (a new verb) to Python. Once I define it, I can use it (\"call it\") whenever I want.\n",
    "\n",
    "A function is a set of instructions. What instructions? Whatever we want."
   ]
  },
  {
   "cell_type": "code",
   "execution_count": 4,
   "id": "extraordinary-words",
   "metadata": {},
   "outputs": [],
   "source": [
    "def hello():         # the word \"def\" in Python defines a new function\n",
    "                     # after the function name are () with any parameters\n",
    "    return 'Hello!'  # function body is indented, and is as long as we want\n",
    "                     # \"return\" means: this is the value the function gives us back"
   ]
  },
  {
   "cell_type": "code",
   "execution_count": 6,
   "id": "accredited-protest",
   "metadata": {},
   "outputs": [],
   "source": [
    "# run the function hello, and put its return value into s\n",
    "s = hello()"
   ]
  },
  {
   "cell_type": "code",
   "execution_count": 7,
   "id": "civil-fluid",
   "metadata": {},
   "outputs": [
    {
     "data": {
      "text/plain": [
       "'Hello!'"
      ]
     },
     "execution_count": 7,
     "metadata": {},
     "output_type": "execute_result"
    }
   ],
   "source": [
    "s"
   ]
  },
  {
   "cell_type": "code",
   "execution_count": 8,
   "id": "binding-heather",
   "metadata": {},
   "outputs": [
    {
     "ename": "TypeError",
     "evalue": "hello() takes 0 positional arguments but 1 was given",
     "output_type": "error",
     "traceback": [
      "\u001b[0;31m---------------------------------------------------------------------------\u001b[0m",
      "\u001b[0;31mTypeError\u001b[0m                                 Traceback (most recent call last)",
      "\u001b[0;32m<ipython-input-8-bfe2db9aba0f>\u001b[0m in \u001b[0;36m<module>\u001b[0;34m\u001b[0m\n\u001b[0;32m----> 1\u001b[0;31m \u001b[0mhello\u001b[0m\u001b[0;34m(\u001b[0m\u001b[0;34m'world'\u001b[0m\u001b[0;34m)\u001b[0m \u001b[0;31m# try to call the function with an argument\u001b[0m\u001b[0;34m\u001b[0m\u001b[0;34m\u001b[0m\u001b[0m\n\u001b[0m",
      "\u001b[0;31mTypeError\u001b[0m: hello() takes 0 positional arguments but 1 was given"
     ]
    }
   ],
   "source": [
    "hello('world') # try to call the function with an argument"
   ]
  },
  {
   "cell_type": "code",
   "execution_count": 9,
   "id": "established-founder",
   "metadata": {},
   "outputs": [],
   "source": [
    "def hello(name):   # defining hello again, this time with a parameter\n",
    "                   # meaning: when we call the function, we need to provide a value\n",
    "    return f'Hello, {name}!'"
   ]
  },
  {
   "cell_type": "code",
   "execution_count": 10,
   "id": "medical-stationery",
   "metadata": {},
   "outputs": [
    {
     "data": {
      "text/plain": [
       "'Hello, world!'"
      ]
     },
     "execution_count": 10,
     "metadata": {},
     "output_type": "execute_result"
    }
   ],
   "source": [
    "hello('world')"
   ]
  },
  {
   "cell_type": "code",
   "execution_count": 11,
   "id": "rising-nashville",
   "metadata": {},
   "outputs": [
    {
     "ename": "NameError",
     "evalue": "name 'name' is not defined",
     "output_type": "error",
     "traceback": [
      "\u001b[0;31m---------------------------------------------------------------------------\u001b[0m",
      "\u001b[0;31mNameError\u001b[0m                                 Traceback (most recent call last)",
      "\u001b[0;32m<ipython-input-11-9bc0cb2ed6de>\u001b[0m in \u001b[0;36m<module>\u001b[0;34m\u001b[0m\n\u001b[0;32m----> 1\u001b[0;31m \u001b[0mname\u001b[0m\u001b[0;34m\u001b[0m\u001b[0;34m\u001b[0m\u001b[0m\n\u001b[0m",
      "\u001b[0;31mNameError\u001b[0m: name 'name' is not defined"
     ]
    }
   ],
   "source": [
    "name"
   ]
  },
  {
   "cell_type": "code",
   "execution_count": 12,
   "id": "quarterly-cambridge",
   "metadata": {},
   "outputs": [
    {
     "ename": "TypeError",
     "evalue": "hello() missing 1 required positional argument: 'name'",
     "output_type": "error",
     "traceback": [
      "\u001b[0;31m---------------------------------------------------------------------------\u001b[0m",
      "\u001b[0;31mTypeError\u001b[0m                                 Traceback (most recent call last)",
      "\u001b[0;32m<ipython-input-12-a75d7781aaeb>\u001b[0m in \u001b[0;36m<module>\u001b[0;34m\u001b[0m\n\u001b[0;32m----> 1\u001b[0;31m \u001b[0mhello\u001b[0m\u001b[0;34m(\u001b[0m\u001b[0;34m)\u001b[0m\u001b[0;34m\u001b[0m\u001b[0;34m\u001b[0m\u001b[0m\n\u001b[0m",
      "\u001b[0;31mTypeError\u001b[0m: hello() missing 1 required positional argument: 'name'"
     ]
    }
   ],
   "source": [
    "hello()"
   ]
  },
  {
   "cell_type": "code",
   "execution_count": 13,
   "id": "innovative-backing",
   "metadata": {},
   "outputs": [
    {
     "data": {
      "text/plain": [
       "13"
      ]
     },
     "execution_count": 13,
     "metadata": {},
     "output_type": "execute_result"
    }
   ],
   "source": [
    "def add(a, b):\n",
    "    return a + b\n",
    "\n",
    "add(10, 3)"
   ]
  },
  {
   "cell_type": "code",
   "execution_count": 14,
   "id": "coordinate-cleaners",
   "metadata": {},
   "outputs": [
    {
     "data": {
      "text/plain": [
       "21.5"
      ]
     },
     "execution_count": 14,
     "metadata": {},
     "output_type": "execute_result"
    }
   ],
   "source": [
    "add(20, 1.5)"
   ]
  },
  {
   "cell_type": "markdown",
   "id": "small-contact",
   "metadata": {},
   "source": [
    "# Exercise: Greeting with a full name\n",
    "\n",
    "1. Define a function, `hello`, that takes *two* arguments, which we'll call `first_name` and `last_name`.\n",
    "2. The function should return a string with a friendly greeting that uses both first and last names.\n",
    "3. Call the function with your names, and print the result."
   ]
  },
  {
   "cell_type": "code",
   "execution_count": null,
   "id": "first-interface",
   "metadata": {},
   "outputs": [],
   "source": []
  }
 ],
 "metadata": {
  "kernelspec": {
   "display_name": "Python 3",
   "language": "python",
   "name": "python3"
  },
  "language_info": {
   "codemirror_mode": {
    "name": "ipython",
    "version": 3
   },
   "file_extension": ".py",
   "mimetype": "text/x-python",
   "name": "python",
   "nbconvert_exporter": "python",
   "pygments_lexer": "ipython3",
   "version": "3.8.6"
  }
 },
 "nbformat": 4,
 "nbformat_minor": 5
}
