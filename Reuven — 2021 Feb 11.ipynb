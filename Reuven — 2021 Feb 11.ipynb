{
 "cells": [
  {
   "cell_type": "markdown",
   "id": "healthy-actress",
   "metadata": {},
   "source": [
    "# Agenda\n",
    "\n",
    "1. PyCharm — writing code\n",
    "2. PyCharm (and not) -- running code from the command line\n",
    "3. Functions\n",
    "    - What are functions, anyway?\n",
    "    - How do we define functions?\n",
    "    - Arguments to functions\n",
    "4. Modules\n",
    "    - `import` and modules\n",
    "    - PyPI and downloading/installing modules with `pip`"
   ]
  },
  {
   "cell_type": "markdown",
   "id": "understood-shipping",
   "metadata": {},
   "source": [
    "# Exercise: Run `hello.py` from the command line\n",
    "\n",
    "1. Open a command-line terminal.\n",
    "2. Run the program `hello.py` with the syntax of `python3 FULL_PATH_TO/hello.py`"
   ]
  },
  {
   "cell_type": "code",
   "execution_count": 1,
   "id": "greater-reader",
   "metadata": {},
   "outputs": [],
   "source": [
    "# start -> run program \"CMD\""
   ]
  },
  {
   "cell_type": "markdown",
   "id": "minimal-processor",
   "metadata": {},
   "source": [
    "# Exercise: wc (part 1)\n",
    "\n",
    "1. Start a new Python file in PyCharm, called `wc.py`.\n",
    "2. When run, this program will ask the user to enter a filename.\n",
    "3. Define a variable called `lines`, set to be the integer 0.\n",
    "4. The program will then open the named file, use a `for` loop to iterate over each line in the file, and print the number of lines that it found.\n",
    "    - Open a file for reading with `open(FILENAME)`, where `FILENAME` is a string\n",
    "    - Iterate over a file object with `for`\n",
    "    - In one line, we can say `for one_line in open(FILENAME)`\n",
    "    - As you iterate over each line of the file, count what line you're own\n",
    "5. Note: It doesn't need to print the file!  Just the number of lines.\n",
    "6. This should be runnable from the command line.  If you want a file to test things on, use `wcfile.txt`, in the zip file you can download."
   ]
  },
  {
   "cell_type": "code",
   "execution_count": 2,
   "id": "careful-iraqi",
   "metadata": {},
   "outputs": [
    {
     "name": "stdout",
     "output_type": "stream",
     "text": [
      "cat: wcfile.txt: No such file or directory\r\n"
     ]
    }
   ],
   "source": [
    "!cat wcfile.txt"
   ]
  },
  {
   "cell_type": "markdown",
   "id": "plain-delhi",
   "metadata": {},
   "source": [
    "# Functions!\n",
    "\n",
    "When I define a function, I'm adding a new vocabulary word (a new verb) to Python. Once I define it, I can use it (\"call it\") whenever I want.\n",
    "\n",
    "A function is a set of instructions. What instructions? Whatever we want."
   ]
  },
  {
   "cell_type": "code",
   "execution_count": 4,
   "id": "improving-johnson",
   "metadata": {},
   "outputs": [],
   "source": [
    "def hello():         # the word \"def\" in Python defines a new function\n",
    "                     # after the function name are () with any parameters\n",
    "    return 'Hello!'  # function body is indented, and is as long as we want\n",
    "                     # \"return\" means: this is the value the function gives us back"
   ]
  },
  {
   "cell_type": "code",
   "execution_count": 6,
   "id": "neural-garlic",
   "metadata": {},
   "outputs": [],
   "source": [
    "# run the function hello, and put its return value into s\n",
    "s = hello()"
   ]
  },
  {
   "cell_type": "code",
   "execution_count": 7,
   "id": "brown-hometown",
   "metadata": {},
   "outputs": [
    {
     "data": {
      "text/plain": [
       "'Hello!'"
      ]
     },
     "execution_count": 7,
     "metadata": {},
     "output_type": "execute_result"
    }
   ],
   "source": [
    "s"
   ]
  },
  {
   "cell_type": "code",
   "execution_count": 8,
   "id": "prompt-madness",
   "metadata": {},
   "outputs": [
    {
     "ename": "TypeError",
     "evalue": "hello() takes 0 positional arguments but 1 was given",
     "output_type": "error",
     "traceback": [
      "\u001b[0;31m---------------------------------------------------------------------------\u001b[0m",
      "\u001b[0;31mTypeError\u001b[0m                                 Traceback (most recent call last)",
      "\u001b[0;32m<ipython-input-8-bfe2db9aba0f>\u001b[0m in \u001b[0;36m<module>\u001b[0;34m\u001b[0m\n\u001b[0;32m----> 1\u001b[0;31m \u001b[0mhello\u001b[0m\u001b[0;34m(\u001b[0m\u001b[0;34m'world'\u001b[0m\u001b[0;34m)\u001b[0m \u001b[0;31m# try to call the function with an argument\u001b[0m\u001b[0;34m\u001b[0m\u001b[0;34m\u001b[0m\u001b[0m\n\u001b[0m",
      "\u001b[0;31mTypeError\u001b[0m: hello() takes 0 positional arguments but 1 was given"
     ]
    }
   ],
   "source": [
    "hello('world') # try to call the function with an argument"
   ]
  },
  {
   "cell_type": "code",
   "execution_count": 9,
   "id": "fitted-cleaning",
   "metadata": {},
   "outputs": [],
   "source": [
    "def hello(name):   # defining hello again, this time with a parameter\n",
    "                   # meaning: when we call the function, we need to provide a value\n",
    "    return f'Hello, {name}!'"
   ]
  },
  {
   "cell_type": "code",
   "execution_count": 10,
   "id": "square-protein",
   "metadata": {},
   "outputs": [
    {
     "data": {
      "text/plain": [
       "'Hello, world!'"
      ]
     },
     "execution_count": 10,
     "metadata": {},
     "output_type": "execute_result"
    }
   ],
   "source": [
    "hello('world')"
   ]
  },
  {
   "cell_type": "code",
   "execution_count": 11,
   "id": "checked-onion",
   "metadata": {},
   "outputs": [
    {
     "ename": "NameError",
     "evalue": "name 'name' is not defined",
     "output_type": "error",
     "traceback": [
      "\u001b[0;31m---------------------------------------------------------------------------\u001b[0m",
      "\u001b[0;31mNameError\u001b[0m                                 Traceback (most recent call last)",
      "\u001b[0;32m<ipython-input-11-9bc0cb2ed6de>\u001b[0m in \u001b[0;36m<module>\u001b[0;34m\u001b[0m\n\u001b[0;32m----> 1\u001b[0;31m \u001b[0mname\u001b[0m\u001b[0;34m\u001b[0m\u001b[0;34m\u001b[0m\u001b[0m\n\u001b[0m",
      "\u001b[0;31mNameError\u001b[0m: name 'name' is not defined"
     ]
    }
   ],
   "source": [
    "name"
   ]
  },
  {
   "cell_type": "code",
   "execution_count": 12,
   "id": "disciplinary-costs",
   "metadata": {},
   "outputs": [
    {
     "ename": "TypeError",
     "evalue": "hello() missing 1 required positional argument: 'name'",
     "output_type": "error",
     "traceback": [
      "\u001b[0;31m---------------------------------------------------------------------------\u001b[0m",
      "\u001b[0;31mTypeError\u001b[0m                                 Traceback (most recent call last)",
      "\u001b[0;32m<ipython-input-12-a75d7781aaeb>\u001b[0m in \u001b[0;36m<module>\u001b[0;34m\u001b[0m\n\u001b[0;32m----> 1\u001b[0;31m \u001b[0mhello\u001b[0m\u001b[0;34m(\u001b[0m\u001b[0;34m)\u001b[0m\u001b[0;34m\u001b[0m\u001b[0;34m\u001b[0m\u001b[0m\n\u001b[0m",
      "\u001b[0;31mTypeError\u001b[0m: hello() missing 1 required positional argument: 'name'"
     ]
    }
   ],
   "source": [
    "hello()"
   ]
  },
  {
   "cell_type": "code",
   "execution_count": 13,
   "id": "medium-howard",
   "metadata": {},
   "outputs": [
    {
     "data": {
      "text/plain": [
       "13"
      ]
     },
     "execution_count": 13,
     "metadata": {},
     "output_type": "execute_result"
    }
   ],
   "source": [
    "def add(a, b):\n",
    "    return a + b\n",
    "\n",
    "add(10, 3)"
   ]
  },
  {
   "cell_type": "code",
   "execution_count": 14,
   "id": "indian-amateur",
   "metadata": {},
   "outputs": [
    {
     "data": {
      "text/plain": [
       "21.5"
      ]
     },
     "execution_count": 14,
     "metadata": {},
     "output_type": "execute_result"
    }
   ],
   "source": [
    "add(20, 1.5)"
   ]
  },
  {
   "cell_type": "markdown",
   "id": "suited-translation",
   "metadata": {},
   "source": [
    "# Exercise: Greeting with a full name\n",
    "\n",
    "1. Define a function, `hello`, that takes *two* arguments, which we'll call `first_name` and `last_name`.\n",
    "2. The function should return a string with a friendly greeting that uses both first and last names.\n",
    "3. Call the function with your names, and print the result."
   ]
  },
  {
   "cell_type": "code",
   "execution_count": 20,
   "id": "cleared-vermont",
   "metadata": {},
   "outputs": [
    {
     "name": "stdout",
     "output_type": "stream",
     "text": [
      "Hello, a b\n"
     ]
    }
   ],
   "source": [
    "# def hello(first_name, last_name):\n",
    "#     s = f'Hello, {first_name} {last_name}!'\n",
    "#     return s\n",
    "\n",
    "def hello(first_name, last_name):\n",
    "    return f'Hello, {first_name} {last_name}'\n",
    "\n",
    "# def hello(first_name, last_name):\n",
    "#     return 'Hello, ' + first_name + ' ' + last_name\n",
    "\n",
    "\n",
    "print(hello('a', 'b'))"
   ]
  },
  {
   "cell_type": "code",
   "execution_count": 21,
   "id": "minimal-cancer",
   "metadata": {},
   "outputs": [
    {
     "name": "stdout",
     "output_type": "stream",
     "text": [
      "Hello, 2 3\n"
     ]
    }
   ],
   "source": [
    "print(hello(2, 3))"
   ]
  },
  {
   "cell_type": "code",
   "execution_count": 22,
   "id": "exceptional-drink",
   "metadata": {},
   "outputs": [],
   "source": [
    "def add(a, b):\n",
    "    return a + b"
   ]
  },
  {
   "cell_type": "code",
   "execution_count": 23,
   "id": "eastern-saskatchewan",
   "metadata": {},
   "outputs": [
    {
     "data": {
      "text/plain": [
       "15"
      ]
     },
     "execution_count": 23,
     "metadata": {},
     "output_type": "execute_result"
    }
   ],
   "source": [
    "add(10, 5)"
   ]
  },
  {
   "cell_type": "code",
   "execution_count": 26,
   "id": "funded-discrimination",
   "metadata": {},
   "outputs": [],
   "source": [
    "# I can write a function that takes a list as an argument\n",
    "\n",
    "def total_lengths(list_of_words):\n",
    "    total = 0\n",
    "    \n",
    "    for one_word in list_of_words:\n",
    "        total += len(one_word)\n",
    "        \n",
    "    return total"
   ]
  },
  {
   "cell_type": "code",
   "execution_count": 27,
   "id": "sixth-wayne",
   "metadata": {},
   "outputs": [
    {
     "data": {
      "text/plain": [
       "11"
      ]
     },
     "execution_count": 27,
     "metadata": {},
     "output_type": "execute_result"
    }
   ],
   "source": [
    "total_lengths(['abcd', 'efghi', 'jk'])"
   ]
  },
  {
   "cell_type": "markdown",
   "id": "successful-analyst",
   "metadata": {},
   "source": [
    "# Exercise: count_vowels\n",
    "\n",
    "1. Write a function, `count_vowels`, that takes a single argument, a string, which we will call `s`.\n",
    "2. The function will return the number of vowels (a, e, i, o, and u) in the string.\n",
    "3. It should use a `for` loop to iterate over the string, check if character is a vowel (or not).\n",
    "4. If it is, then add to the total.\n",
    "5. At the end, return the total."
   ]
  },
  {
   "cell_type": "code",
   "execution_count": 29,
   "id": "silver-spoke",
   "metadata": {},
   "outputs": [
    {
     "name": "stdout",
     "output_type": "stream",
     "text": [
      "No, not a vowel!\n"
     ]
    }
   ],
   "source": [
    "# If I have a character, and want to know if it's a vowel, how do I do that?\n",
    "\n",
    "# If I have a string, which is a bunch of character, then I can use\n",
    "# a for loop, going one character at a time, and then use the above formula\n",
    "# for checking if it's a vowel\n",
    "\n",
    "one_character = 'b'\n",
    "\n",
    "if one_character in 'aeiou':    # LITTLE in BIG -- returns True or False\n",
    "    print('Yes, a vowel!')\n",
    "else:\n",
    "    print('No, not a vowel!')\n"
   ]
  },
  {
   "cell_type": "code",
   "execution_count": 31,
   "id": "random-broadway",
   "metadata": {},
   "outputs": [
    {
     "name": "stdout",
     "output_type": "stream",
     "text": [
      "Yes, a vowel!\n",
      "No, not a vowel!\n",
      "No, not a vowel!\n",
      "No, not a vowel!\n",
      "Yes, a vowel!\n",
      "No, not a vowel!\n"
     ]
    }
   ],
   "source": [
    "total = 0\n",
    "s = 'abcdef'\n",
    "\n",
    "for one_character in s:\n",
    "    if one_character in 'aeiou':    # LITTLE in BIG -- returns True or False\n",
    "        print('Yes, a vowel!')\n",
    "        total += 1\n",
    "    else:\n",
    "        print('No, not a vowel!')"
   ]
  },
  {
   "cell_type": "code",
   "execution_count": 32,
   "id": "pointed-endorsement",
   "metadata": {},
   "outputs": [
    {
     "data": {
      "text/plain": [
       "2"
      ]
     },
     "execution_count": 32,
     "metadata": {},
     "output_type": "execute_result"
    }
   ],
   "source": [
    "total"
   ]
  },
  {
   "cell_type": "code",
   "execution_count": 33,
   "id": "brief-chile",
   "metadata": {},
   "outputs": [],
   "source": [
    "def count_vowels(s):\n",
    "    total = 0\n",
    "\n",
    "    for one_character in s:\n",
    "        if one_character in 'aeiou':    # LITTLE in BIG -- returns True or False\n",
    "            total += 1\n",
    "            \n",
    "    return total"
   ]
  },
  {
   "cell_type": "code",
   "execution_count": 34,
   "id": "gorgeous-terminology",
   "metadata": {},
   "outputs": [
    {
     "data": {
      "text/plain": [
       "2"
      ]
     },
     "execution_count": 34,
     "metadata": {},
     "output_type": "execute_result"
    }
   ],
   "source": [
    "count_vowels('abcdefg')"
   ]
  },
  {
   "cell_type": "markdown",
   "id": "solid-circumstances",
   "metadata": {},
   "source": [
    "# Exercise: `count_vowels_file`\n",
    "\n",
    "1. Write a new function, `count_vowels_file`, that takes a filename as an argument.  So you'll call it as\n",
    "\n",
    "```python\n",
    "count_vowels_file('wcfile.txt')\n",
    "```\n",
    "    \n",
    "2. Set a variable, `total`, to 0.\n",
    "\n",
    "3. This function will have to open the file for reading, and will iterate over each line of the file, one at a time.\n",
    "\n",
    "```python\n",
    "for one_line in open(filename):\n",
    "    # stuff goes here\n",
    "```\n",
    "   \n",
    "4. `count_vowels` takes a string, and returns an integer -- the number of vowels in the string.  For each line in the file, call `count_vowels` on `one_line`, and add the total to a running `total` variable.\n",
    "\n",
    "5. The function should return the total number of vowels in the the file."
   ]
  },
  {
   "cell_type": "markdown",
   "id": "flexible-assurance",
   "metadata": {},
   "source": [
    "Ask yourself:\n",
    "- How would I could the vowels in a single line of the file, if that line were called `one_line` and a string?\n",
    "- How can get each line of the file into a variable named `one_line`, a string?"
   ]
  },
  {
   "cell_type": "code",
   "execution_count": 36,
   "id": "economic-ready",
   "metadata": {},
   "outputs": [
    {
     "name": "stdout",
     "output_type": "stream",
     "text": [
      "Ever-output.txt  gs-output.txt\t       mini-access-log.txt  solo_write.txt\r\n",
      "JSM-output.txt\t jane.txt\t       nums.txt\t\t    untitled.txt\r\n",
      "README.txt\t jd-output.txt\t       rml-output.txt\t    untitled1.txt\r\n",
      "ever-output.txt  linux-etc-passwd.txt  shoe-data.txt\t    wcfile.txt\r\n"
     ]
    }
   ],
   "source": [
    "!ls *.txt"
   ]
  },
  {
   "cell_type": "code",
   "execution_count": 37,
   "id": "innovative-hobby",
   "metadata": {},
   "outputs": [],
   "source": [
    "# if I want to use the \"in\" operator, I'm asking :\n",
    "\n",
    "# LITTLE in BIG (returns True or False)"
   ]
  },
  {
   "cell_type": "code",
   "execution_count": 38,
   "id": "other-anderson",
   "metadata": {},
   "outputs": [
    {
     "data": {
      "text/plain": [
       "True"
      ]
     },
     "execution_count": 38,
     "metadata": {},
     "output_type": "execute_result"
    }
   ],
   "source": [
    "'a' in 'abcde'"
   ]
  },
  {
   "cell_type": "code",
   "execution_count": 39,
   "id": "accredited-hopkins",
   "metadata": {},
   "outputs": [
    {
     "data": {
      "text/plain": [
       "True"
      ]
     },
     "execution_count": 39,
     "metadata": {},
     "output_type": "execute_result"
    }
   ],
   "source": [
    "'e' in 'abcde'"
   ]
  },
  {
   "cell_type": "code",
   "execution_count": 40,
   "id": "southern-disabled",
   "metadata": {},
   "outputs": [
    {
     "data": {
      "text/plain": [
       "False"
      ]
     },
     "execution_count": 40,
     "metadata": {},
     "output_type": "execute_result"
    }
   ],
   "source": [
    "'j' in 'abcde'"
   ]
  },
  {
   "cell_type": "code",
   "execution_count": 41,
   "id": "vertical-aruba",
   "metadata": {},
   "outputs": [
    {
     "data": {
      "text/plain": [
       "False"
      ]
     },
     "execution_count": 41,
     "metadata": {},
     "output_type": "execute_result"
    }
   ],
   "source": [
    "s = 'testing testing'\n",
    "\n",
    "s in 'abcde'  # not the case"
   ]
  },
  {
   "cell_type": "code",
   "execution_count": 42,
   "id": "ecological-grocery",
   "metadata": {},
   "outputs": [
    {
     "name": "stdout",
     "output_type": "stream",
     "text": [
      "Yes, e is in \"aeiou\"\n",
      "Yes, i is in \"aeiou\"\n",
      "Yes, e is in \"aeiou\"\n",
      "Yes, i is in \"aeiou\"\n"
     ]
    }
   ],
   "source": [
    "# What we really want to check is: Which letters in s *are* in 'aeiou'\n",
    "\n",
    "for one_letter in s:\n",
    "    if one_letter in 'aeiou':\n",
    "        print(f'Yes, {one_letter} is in \"aeiou\"')"
   ]
  },
  {
   "cell_type": "code",
   "execution_count": null,
   "id": "accompanied-philosophy",
   "metadata": {},
   "outputs": [],
   "source": []
  },
  {
   "cell_type": "markdown",
   "id": "nervous-hollywood",
   "metadata": {},
   "source": [
    "# Exercise: `count_vowels_file`\n",
    "\n",
    "1. Write a new function, `count_vowels_file`, that takes a filename as an argument.  So you'll call it as\n",
    "\n",
    "```python\n",
    "count_vowels_file('wcfile.txt')\n",
    "```\n",
    "    \n",
    "2. Set a variable, `total`, to 0.\n",
    "\n",
    "3. This function will have to open the file for reading, and will iterate over each line of the file, one at a time.\n",
    "\n",
    "```python\n",
    "for one_line in open(filename):\n",
    "    # stuff goes here\n",
    "```\n",
    "   \n",
    "4. `count_vowels` takes a string, and returns an integer -- the number of vowels in the string.  For each line in the file, call `count_vowels` on `one_line`, and add the total to a running `total` variable.\n",
    "\n",
    "5. The function should return the total number of vowels in the the file."
   ]
  },
  {
   "cell_type": "code",
   "execution_count": 47,
   "id": "ambient-helen",
   "metadata": {},
   "outputs": [],
   "source": [
    "def count_vowels_file(filename):\n",
    "    # setup\n",
    "    total = 0\n",
    "    \n",
    "    # calculate\n",
    "    for one_line in open(filename):\n",
    "        total += count_vowels(one_line)\n",
    "\n",
    "    # report\n",
    "    return total"
   ]
  },
  {
   "cell_type": "code",
   "execution_count": 48,
   "id": "dutch-member",
   "metadata": {},
   "outputs": [
    {
     "data": {
      "text/plain": [
       "40"
      ]
     },
     "execution_count": 48,
     "metadata": {},
     "output_type": "execute_result"
    }
   ],
   "source": [
    "count_vowels_file('wcfile.txt')"
   ]
  },
  {
   "cell_type": "markdown",
   "id": "entertaining-central",
   "metadata": {},
   "source": [
    "# Exercise: `sum_digits`\n",
    "\n",
    "1. Write a function, `sum_digits`, that gets a string, `s`, as an argument.\n",
    "2. The string can contain any character we want. But we're only interested in the digits (0-9).\n",
    "3. At the top of the function, define `total` to be equal to 0.\n",
    "4. Go through each character in `s`. If it's a digit, then turn it into an integer, and add it to `total`.\n",
    "5. When the function is done, return `total`.\n",
    "\n",
    "```python\n",
    "s = 'abc123def4'\n",
    "\n",
    "print(sum_digits(s))   # prints 10\n",
    "```\n",
    "\n"
   ]
  },
  {
   "cell_type": "code",
   "execution_count": null,
   "id": "warming-metadata",
   "metadata": {},
   "outputs": [],
   "source": [
    "# one-character string\n",
    "\n",
    "s = '1'  # does it contain a digit?\n",
    "\n",
    "s in '0123456789'  # True or False\n",
    "s.isdigit()        # True or False"
   ]
  },
  {
   "cell_type": "code",
   "execution_count": 49,
   "id": "revolutionary-syntax",
   "metadata": {},
   "outputs": [
    {
     "name": "stdout",
     "output_type": "stream",
     "text": [
      "1\n"
     ]
    }
   ],
   "source": [
    "total = 0\n",
    "\n",
    "one_character = '1'\n",
    "if one_character.isdigit():\n",
    "    total += int(one_character)\n",
    "\n",
    "print(total)\n",
    "    "
   ]
  },
  {
   "cell_type": "code",
   "execution_count": 51,
   "id": "powerful-reader",
   "metadata": {},
   "outputs": [
    {
     "name": "stdout",
     "output_type": "stream",
     "text": [
      "6\n"
     ]
    }
   ],
   "source": [
    "total = 0\n",
    "\n",
    "s = 'a1b2c3!'\n",
    "\n",
    "for one_character in s:\n",
    "    if one_character.isdigit():\n",
    "        total += int(one_character)\n",
    "\n",
    "print(total)\n",
    "    "
   ]
  },
  {
   "cell_type": "code",
   "execution_count": 52,
   "id": "skilled-overall",
   "metadata": {},
   "outputs": [],
   "source": [
    "def sum_digits(s):\n",
    "    total = 0\n",
    "\n",
    "    for one_character in s:\n",
    "        if one_character.isdigit():\n",
    "            total += int(one_character)\n",
    "\n",
    "    print(total)\n",
    "    "
   ]
  },
  {
   "cell_type": "code",
   "execution_count": 53,
   "id": "exact-horror",
   "metadata": {},
   "outputs": [
    {
     "name": "stdout",
     "output_type": "stream",
     "text": [
      "10\n"
     ]
    }
   ],
   "source": [
    "sum_digits('1a2b3c4')"
   ]
  },
  {
   "cell_type": "markdown",
   "id": "removable-thompson",
   "metadata": {},
   "source": [
    "# After the break\n",
    "\n",
    "1. A little more with functions + PyCharm\n",
    "2. Modules and packages (and installing/using them)"
   ]
  },
  {
   "cell_type": "code",
   "execution_count": 54,
   "id": "optical-disability",
   "metadata": {},
   "outputs": [
    {
     "name": "stdout",
     "output_type": "stream",
     "text": [
      "Ever-output.txt  gs-output.txt\t       mini-access-log.txt  solo_write.txt\r\n",
      "JSM-output.txt\t jane.txt\t       nums.txt\t\t    untitled.txt\r\n",
      "README.txt\t jd-output.txt\t       rml-output.txt\t    untitled1.txt\r\n",
      "ever-output.txt  linux-etc-passwd.txt  shoe-data.txt\t    wcfile.txt\r\n"
     ]
    }
   ],
   "source": [
    "!ls *.txt"
   ]
  },
  {
   "cell_type": "code",
   "execution_count": 55,
   "id": "peaceful-playback",
   "metadata": {},
   "outputs": [
    {
     "name": "stdout",
     "output_type": "stream",
     "text": [
      "Adidas\torange\t43\r\n",
      "Nike\tblack\t41\r\n",
      "Adidas\tblack\t39\r\n",
      "New Balance\tpink\t41\r\n",
      "Nike\twhite\t44\r\n",
      "New Balance\torange\t38\r\n",
      "Nike\tpink\t44\r\n",
      "Adidas\tpink\t44\r\n",
      "New Balance\torange\t39\r\n",
      "New Balance\tblack\t43\r\n"
     ]
    }
   ],
   "source": [
    "!head shoe-data.txt"
   ]
  },
  {
   "cell_type": "markdown",
   "id": "dated-services",
   "metadata": {},
   "source": [
    "# Exercise: Search by brand\n",
    "\n",
    "1. You are to write a function, `find_brand`, which will take two arguments, both strings:\n",
    "    - first is `filename`\n",
    "    - second is `brand`\n",
    "2. That function will open the file, and iterate over it, one line at a time, in a `for` loop.  Each line of the file, `one_line`, is a string.\n",
    "3. Each line in the file (`shoe-data.txt`) has three fields, separated by tabs (`'\\t'')\n",
    "4. Use `str.split` to break each line into its separate fields across tabs.\n",
    "    - `one_line.split('\\t')`  # this returns a list of strings\n",
    "5. Print each of the lines in which the brand matches the value we got for `brand`\n",
    "6. The function won't return anything for now.\n",
    "\n",
    "Example:\n",
    "\n",
    "```python\n",
    "find_brand('shoe-data.txt', 'Nike')\n",
    "```\n",
    "\n",
    "We'll see, printed on the screen:\n",
    "\n",
    "```\n",
    "Nike\tblack\t41\n",
    "Nike\twhite\t44\n",
    "Nike\tpink\t44\n",
    "```"
   ]
  },
  {
   "cell_type": "code",
   "execution_count": 56,
   "id": "advisory-hierarchy",
   "metadata": {},
   "outputs": [],
   "source": [
    "def find_brand(filename, brand):\n",
    "\n",
    "    for one_line in open(filename):\n",
    "        \n",
    "        # break each line in the file into a 3-element list (brand, color, size)\n",
    "        fields = one_line.split('\\t')\n",
    "\n",
    "        # is the requested brand on this line?\n",
    "        if brand == fields[0]:\n",
    "            print(one_line)\n",
    "    \n",
    "    # report\n",
    "    # print the line if we found a match"
   ]
  },
  {
   "cell_type": "code",
   "execution_count": 59,
   "id": "seventh-sullivan",
   "metadata": {
    "collapsed": true
   },
   "outputs": [
    {
     "name": "stdout",
     "output_type": "stream",
     "text": [
      "New Balance\tpink\t41\n",
      "\n",
      "New Balance\torange\t38\n",
      "\n",
      "New Balance\torange\t39\n",
      "\n",
      "New Balance\tblack\t43\n",
      "\n",
      "New Balance\torange\t44\n",
      "\n",
      "New Balance\torange\t37\n",
      "\n",
      "New Balance\tpink\t40\n",
      "\n",
      "New Balance\tpink\t41\n",
      "\n",
      "New Balance\torange\t41\n",
      "\n",
      "New Balance\torange\t40\n",
      "\n",
      "New Balance\twhite\t44\n",
      "\n",
      "New Balance\tpink\t40\n",
      "\n",
      "New Balance\twhite\t39\n",
      "\n",
      "New Balance\torange\t40\n",
      "\n",
      "New Balance\tblack\t40\n",
      "\n",
      "New Balance\torange\t39\n",
      "\n",
      "New Balance\torange\t41\n",
      "\n",
      "New Balance\twhite\t35\n",
      "\n",
      "New Balance\torange\t43\n",
      "\n",
      "New Balance\tpink\t40\n",
      "\n",
      "New Balance\tblack\t40\n",
      "\n",
      "New Balance\tpink\t40\n",
      "\n",
      "New Balance\twhite\t38\n",
      "\n",
      "New Balance\tblack\t40\n",
      "\n",
      "New Balance\tpink\t40\n",
      "\n",
      "New Balance\torange\t38\n",
      "\n",
      "New Balance\tblack\t43\n",
      "\n",
      "New Balance\tpink\t39\n",
      "\n",
      "New Balance\torange\t40\n",
      "\n",
      "New Balance\twhite\t44\n",
      "\n"
     ]
    }
   ],
   "source": [
    "find_brand('shoe-data.txt', 'New Balance')"
   ]
  },
  {
   "cell_type": "markdown",
   "id": "smaller-copper",
   "metadata": {},
   "source": [
    "# Exercise: find_brand, part 2\n",
    "\n",
    "1. Modify `find_brand` so that it does *not* print anything out.\n",
    "2. Rather, we should define a list, `output`, at the top of the function.  And every time we have a matching line, we should append that line to `output`.\n",
    "3. At the end of the function, return the list of strings -- the lines from our file that matches the brand we wanted."
   ]
  },
  {
   "cell_type": "code",
   "execution_count": 60,
   "id": "reserved-development",
   "metadata": {},
   "outputs": [
    {
     "data": {
      "text/plain": [
       "['abcd', 'efgh']"
      ]
     },
     "execution_count": 60,
     "metadata": {},
     "output_type": "execute_result"
    }
   ],
   "source": [
    "mylist = []  # empty list\n",
    "\n",
    "mylist.append('abcd')  # added 'abcd' to the end of mylist\n",
    "mylist.append('efgh')  # added 'efgh' to the end of mylist\n",
    "\n",
    "mylist\n"
   ]
  },
  {
   "cell_type": "code",
   "execution_count": 61,
   "id": "musical-tumor",
   "metadata": {},
   "outputs": [],
   "source": [
    "def find_brand(filename, brand):\n",
    "    output = []\n",
    "\n",
    "    for one_line in open(filename):\n",
    "        \n",
    "        # break each line in the file into a 3-element list (brand, color, size)\n",
    "        fields = one_line.split('\\t')\n",
    "\n",
    "        # is the requested brand on this line?\n",
    "        if brand == fields[0]:\n",
    "            output.append(one_line)\n",
    "    \n",
    "    # report\n",
    "    return output"
   ]
  },
  {
   "cell_type": "code",
   "execution_count": 63,
   "id": "specified-brand",
   "metadata": {},
   "outputs": [
    {
     "data": {
      "text/plain": [
       "['Adidas\\torange\\t43\\n',\n",
       " 'Adidas\\tblack\\t39\\n',\n",
       " 'Adidas\\tpink\\t44\\n',\n",
       " 'Adidas\\torange\\t37\\n',\n",
       " 'Adidas\\tblack\\t38\\n',\n",
       " 'Adidas\\tpink\\t41\\n',\n",
       " 'Adidas\\twhite\\t36\\n',\n",
       " 'Adidas\\torange\\t36\\n',\n",
       " 'Adidas\\tpink\\t35\\n',\n",
       " 'Adidas\\tblack\\t41\\n',\n",
       " 'Adidas\\twhite\\t35\\n',\n",
       " 'Adidas\\torange\\t40\\n',\n",
       " 'Adidas\\tblack\\t41\\n',\n",
       " 'Adidas\\tblack\\t39\\n',\n",
       " 'Adidas\\tblack\\t40\\n',\n",
       " 'Adidas\\torange\\t38\\n',\n",
       " 'Adidas\\twhite\\t39\\n',\n",
       " 'Adidas\\torange\\t37\\n',\n",
       " 'Adidas\\tpink\\t35\\n',\n",
       " 'Adidas\\tblack\\t39\\n',\n",
       " 'Adidas\\torange\\t42\\n',\n",
       " 'Adidas\\tpink\\t39\\n',\n",
       " 'Adidas\\tpink\\t41\\n',\n",
       " 'Adidas\\tpink\\t39\\n',\n",
       " 'Adidas\\torange\\t39\\n',\n",
       " 'Adidas\\twhite\\t36\\n',\n",
       " 'Adidas\\tpink\\t41\\n',\n",
       " 'Adidas\\tblack\\t41\\n',\n",
       " 'Adidas\\tblack\\t42\\n',\n",
       " 'Adidas\\twhite\\t40\\n',\n",
       " 'Adidas\\torange\\t37\\n',\n",
       " 'Adidas\\tpink\\t36\\n',\n",
       " 'Adidas\\twhite\\t35\\n',\n",
       " 'Adidas\\tblack\\t42\\n']"
      ]
     },
     "execution_count": 63,
     "metadata": {},
     "output_type": "execute_result"
    }
   ],
   "source": [
    "find_brand('shoe-data.txt', 'Adidas')"
   ]
  },
  {
   "cell_type": "markdown",
   "id": "directed-removal",
   "metadata": {},
   "source": [
    "# DRY (Don't repeat yourself) rule\n",
    "\n",
    "1. If we have several similar/identical lines of code in a row, we can use a loop\n",
    "2. If we have similar/identical code in multiple places in a program, we can use a function\n",
    "3. What if I have the same functionality in many different programs?  What do I do then? We use *modules*.  (In other languages, they're called \"libraries.\")"
   ]
  },
  {
   "cell_type": "code",
   "execution_count": 64,
   "id": "dying-venue",
   "metadata": {},
   "outputs": [],
   "source": [
    "# In Python, our libraries are called \"modules\" (or sometimes \"packages\")\n",
    "# We load a module into our program with the \"import\" statement\n",
    "\n",
    "# to get random numbers, we'll use the \"random\" module\n",
    "import random"
   ]
  },
  {
   "cell_type": "code",
   "execution_count": 65,
   "id": "touched-guide",
   "metadata": {},
   "outputs": [
    {
     "data": {
      "text/plain": [
       "43"
      ]
     },
     "execution_count": 65,
     "metadata": {},
     "output_type": "execute_result"
    }
   ],
   "source": [
    "random.randint(0, 100)   # call the \"randint\" function in the \"random\" module!"
   ]
  },
  {
   "cell_type": "code",
   "execution_count": 66,
   "id": "likely-lighting",
   "metadata": {},
   "outputs": [
    {
     "data": {
      "text/plain": [
       "True"
      ]
     },
     "execution_count": 66,
     "metadata": {},
     "output_type": "execute_result"
    }
   ],
   "source": [
    "s = '5'\n",
    "\n",
    "s.isdigit()"
   ]
  },
  {
   "cell_type": "code",
   "execution_count": 67,
   "id": "serious-validity",
   "metadata": {},
   "outputs": [
    {
     "data": {
      "text/plain": [
       "True"
      ]
     },
     "execution_count": 67,
     "metadata": {},
     "output_type": "execute_result"
    }
   ],
   "source": [
    "s in '0123456789'"
   ]
  },
  {
   "cell_type": "code",
   "execution_count": 68,
   "id": "labeled-roberts",
   "metadata": {},
   "outputs": [
    {
     "data": {
      "text/plain": [
       "'0123456789'"
      ]
     },
     "execution_count": 68,
     "metadata": {},
     "output_type": "execute_result"
    }
   ],
   "source": [
    "import string  # load the \"string\" module, with some defined data\n",
    "string.digits"
   ]
  },
  {
   "cell_type": "code",
   "execution_count": 70,
   "id": "younger-encoding",
   "metadata": {},
   "outputs": [
    {
     "name": "stdout",
     "output_type": "stream",
     "text": [
      "Reuven — 2021 Feb 8.ipynb\n",
      "Reuven — 2021 Feb 10.py\n",
      "Reuven — 2021 Feb 8.html\n",
      "Reuven — 2021 Feb 9.html\n",
      "Reuven — 2021 Feb 10.html\n",
      "Reuven — 2021 Feb 10.ipynb\n",
      "Reuven — 2021 Feb 9.ipynb\n",
      "Reuven — 2021 Feb 9.py\n",
      "Reuven — 2021 Feb 8.py\n",
      "Reuven — 2021 Feb 11.ipynb\n"
     ]
    }
   ],
   "source": [
    "# I want to know what files in the directory start with my name (\"Reuven\")\n",
    "\n",
    "import os\n",
    "for one_filename in os.listdir():\n",
    "    if one_filename.startswith('Reuven'):\n",
    "        print(one_filename)"
   ]
  },
  {
   "cell_type": "markdown",
   "id": "growing-drove",
   "metadata": {},
   "source": [
    "# Exercise: Password creator\n",
    "\n",
    "1. Define a string, `s`, containing the characters we want to use for a password.\n",
    "2. Define an integer, `n`, indicating how long the new password should be.\n",
    "3. Use `random.choice`, a function in the `random` module, which takes a string as an argument and returns a random element from that string.\n",
    "4. Use a `for` loop with `range(n)` to print `n` randomly choosen characters from `s` onto the screen.  It's OK if they are printed on separate lines.\n",
    "\n",
    "The idea is that we'll get a password of length `n` with randomly picked characters from `s`."
   ]
  },
  {
   "cell_type": "code",
   "execution_count": 82,
   "id": "considerable-proposal",
   "metadata": {},
   "outputs": [
    {
     "name": "stdout",
     "output_type": "stream",
     "text": [
      "@13#6\n"
     ]
    }
   ],
   "source": [
    "import random\n",
    "\n",
    "s = 'abcdefg123456!@#$%'\n",
    "n = 5\n",
    "\n",
    "output = []\n",
    "for i in range(n):\n",
    "    output.append(random.choice(s))\n",
    "    \n",
    "print(''.join(output))"
   ]
  },
  {
   "cell_type": "code",
   "execution_count": 87,
   "id": "consistent-fault",
   "metadata": {},
   "outputs": [
    {
     "name": "stdout",
     "output_type": "stream",
     "text": [
      "ef56g#!e36\n"
     ]
    }
   ],
   "source": [
    "import random\n",
    "\n",
    "def make_password(s, n):\n",
    "\n",
    "    output = []\n",
    "    for i in range(n):\n",
    "        output.append(random.choice(s))\n",
    "\n",
    "    return ''.join(output)\n",
    "    \n",
    "\n",
    "print(make_password('abcdefg123456!@#$%', 10))\n",
    "    "
   ]
  },
  {
   "cell_type": "code",
   "execution_count": 88,
   "id": "disturbed-accused",
   "metadata": {},
   "outputs": [
    {
     "name": "stdout",
     "output_type": "stream",
     "text": [
      "e1f2$335$a\n"
     ]
    }
   ],
   "source": [
    "import random\n",
    "\n",
    "def make_password(s, n):\n",
    "\n",
    "    output = ''\n",
    "    for i in range(n):\n",
    "        output += random.choice(s)\n",
    "\n",
    "    return output\n",
    "    \n",
    "\n",
    "print(make_password('abcdefg123456!@#$%', 10))\n",
    "    "
   ]
  },
  {
   "cell_type": "markdown",
   "id": "passing-monthly",
   "metadata": {},
   "source": [
    "# To download and install a package from PyPI:\n",
    "\n",
    "- Go to PyPI.org (in your browser).\n",
    "- Go to the page for the package you want to download and install.\n",
    "- Notice the project name.  You can even look at the top left, where it has a colored box saying, \"pip install MODULE`.\n",
    "- Go to your command-line prompt (shell/terminal) and type \"pip install MODULE\"\n",
    "- It'll install things, and then you can use \"import\" on that module."
   ]
  },
  {
   "cell_type": "markdown",
   "id": "corporate-organizer",
   "metadata": {},
   "source": [
    "# Example: Simple Web services client\n",
    "\n",
    "1. I'll get the URL of some service that returns JSON.\n",
    "2. I'll make a request to that URL.\n",
    "3. I'll get the JSON.\n",
    "4. I'll turn the JSON into a Python dict, and print it out."
   ]
  },
  {
   "cell_type": "code",
   "execution_count": 90,
   "id": "computational-victor",
   "metadata": {},
   "outputs": [],
   "source": [
    "import requests\n",
    "\n",
    "url = 'http://httpbin.org/json'\n",
    "r = requests.get(url)  "
   ]
  },
  {
   "cell_type": "code",
   "execution_count": 92,
   "id": "insured-registration",
   "metadata": {},
   "outputs": [
    {
     "data": {
      "text/plain": [
       "<Response [200]>"
      ]
     },
     "execution_count": 92,
     "metadata": {},
     "output_type": "execute_result"
    }
   ],
   "source": [
    "r"
   ]
  },
  {
   "cell_type": "code",
   "execution_count": 94,
   "id": "identified-greensboro",
   "metadata": {},
   "outputs": [
    {
     "name": "stdout",
     "output_type": "stream",
     "text": [
      "b'{\\n  \"slideshow\": {\\n    \"author\": \"Yours Truly\", \\n    \"date\": \"date of publication\", \\n    \"slides\": [\\n      {\\n        \"title\": \"Wake up to WonderWidgets!\", \\n        \"type\": \"all\"\\n      }, \\n      {\\n        \"items\": [\\n          \"Why <em>WonderWidgets</em> are great\", \\n          \"Who <em>buys</em> WonderWidgets\"\\n        ], \\n        \"title\": \"Overview\", \\n        \"type\": \"all\"\\n      }\\n    ], \\n    \"title\": \"Sample Slide Show\"\\n  }\\n}\\n'\n"
     ]
    }
   ],
   "source": [
    "print(r.content)"
   ]
  },
  {
   "cell_type": "code",
   "execution_count": 95,
   "id": "latin-thesaurus",
   "metadata": {},
   "outputs": [
    {
     "data": {
      "text/plain": [
       "{'slideshow': {'author': 'Yours Truly',\n",
       "  'date': 'date of publication',\n",
       "  'slides': [{'title': 'Wake up to WonderWidgets!', 'type': 'all'},\n",
       "   {'items': ['Why <em>WonderWidgets</em> are great',\n",
       "     'Who <em>buys</em> WonderWidgets'],\n",
       "    'title': 'Overview',\n",
       "    'type': 'all'}],\n",
       "  'title': 'Sample Slide Show'}}"
      ]
     },
     "execution_count": 95,
     "metadata": {},
     "output_type": "execute_result"
    }
   ],
   "source": [
    "r.json()"
   ]
  },
  {
   "cell_type": "code",
   "execution_count": 96,
   "id": "vocational-celtic",
   "metadata": {},
   "outputs": [],
   "source": [
    "import os"
   ]
  },
  {
   "cell_type": "code",
   "execution_count": 99,
   "id": "musical-cinema",
   "metadata": {},
   "outputs": [
    {
     "name": "stdout",
     "output_type": "stream",
     "text": [
      "<built-in function listdir>\n"
     ]
    }
   ],
   "source": [
    "s = os.listdir()\n",
    "print(s)"
   ]
  },
  {
   "cell_type": "markdown",
   "id": "measured-making",
   "metadata": {},
   "source": [
    "# To install Jupyter, you can say: \n",
    "\n",
    "```\n",
    "pip install jupyter   # command line, not in Python!\n",
    "```\n",
    "\n",
    "Then, to run Jupyter, you say:\n",
    "\n",
    "```\n",
    "jupyter notebook\n",
    "```\n",
    "\n",
    "Run the "
   ]
  }
 ],
 "metadata": {
  "kernelspec": {
   "display_name": "Python 3",
   "language": "python",
   "name": "python3"
  },
  "language_info": {
   "codemirror_mode": {
    "name": "ipython",
    "version": 3
   },
   "file_extension": ".py",
   "mimetype": "text/x-python",
   "name": "python",
   "nbconvert_exporter": "python",
   "pygments_lexer": "ipython3",
   "version": "3.8.6"
  }
 },
 "nbformat": 4,
 "nbformat_minor": 5
}
