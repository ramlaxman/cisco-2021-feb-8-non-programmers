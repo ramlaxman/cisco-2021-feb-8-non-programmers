{
 "cells": [
  {
   "cell_type": "markdown",
   "id": "iraqi-eclipse",
   "metadata": {},
   "source": [
    "# Agenda\n",
    "\n",
    "1. PyCharm — writing code\n",
    "2. PyCharm (and not) -- running code from the command line\n",
    "3. Functions\n",
    "    - What are functions, anyway?\n",
    "    - How do we define functions?\n",
    "    - Arguments to functions\n",
    "4. Modules\n",
    "    - `import` and modules\n",
    "    - PyPI and downloading/installing modules with `pip`"
   ]
  },
  {
   "cell_type": "markdown",
   "id": "nonprofit-responsibility",
   "metadata": {},
   "source": [
    "# Exercise: Run `hello.py` from the command line\n",
    "\n",
    "1. Open a command-line terminal.\n",
    "2. Run the program `hello.py` with the syntax of `python3 FULL_PATH_TO/hello.py`"
   ]
  },
  {
   "cell_type": "code",
   "execution_count": 1,
   "id": "attractive-eclipse",
   "metadata": {},
   "outputs": [],
   "source": [
    "# start -> run program \"CMD\""
   ]
  },
  {
   "cell_type": "code",
   "execution_count": null,
   "id": "agreed-multiple",
   "metadata": {},
   "outputs": [],
   "source": []
  }
 ],
 "metadata": {
  "kernelspec": {
   "display_name": "Python 3",
   "language": "python",
   "name": "python3"
  },
  "language_info": {
   "codemirror_mode": {
    "name": "ipython",
    "version": 3
   },
   "file_extension": ".py",
   "mimetype": "text/x-python",
   "name": "python",
   "nbconvert_exporter": "python",
   "pygments_lexer": "ipython3",
   "version": "3.8.6"
  }
 },
 "nbformat": 4,
 "nbformat_minor": 5
}
