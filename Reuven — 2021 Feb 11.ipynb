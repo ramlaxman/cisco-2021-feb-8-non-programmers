{
 "cells": [
  {
   "cell_type": "markdown",
   "id": "raising-incident",
   "metadata": {},
   "source": [
    "# Agenda\n",
    "\n",
    "1. PyCharm — writing code\n",
    "2. PyCharm (and not) -- running code from the command line\n",
    "3. Functions\n",
    "    - What are functions, anyway?\n",
    "    - How do we define functions?\n",
    "    - Arguments to functions\n",
    "4. Modules\n",
    "    - `import` and modules\n",
    "    - PyPI and downloading/installing modules with `pip`"
   ]
  },
  {
   "cell_type": "markdown",
   "id": "foreign-raise",
   "metadata": {},
   "source": [
    "# Exercise: Run `hello.py` from the command line\n",
    "\n",
    "1. Open a command-line terminal.\n",
    "2. Run the program `hello.py` with the syntax of `python3 FULL_PATH_TO/hello.py`"
   ]
  },
  {
   "cell_type": "code",
   "execution_count": 1,
   "id": "rapid-works",
   "metadata": {},
   "outputs": [],
   "source": [
    "# start -> run program \"CMD\""
   ]
  },
  {
   "cell_type": "markdown",
   "id": "modular-growing",
   "metadata": {},
   "source": [
    "# Exercise: wc (part 1)\n",
    "\n",
    "1. Start a new Python file in PyCharm, called `wc.py`.\n",
    "2. When run, this program will ask the user to enter a filename.\n",
    "3. Define a variable called `lines`, set to be the integer 0.\n",
    "4. The program will then open the named file, use a `for` loop to iterate over each line in the file, and print the number of lines that it found.\n",
    "    - Open a file for reading with `open(FILENAME)`, where `FILENAME` is a string\n",
    "    - Iterate over a file object with `for`\n",
    "    - In one line, we can say `for one_line in open(FILENAME)`\n",
    "    - As you iterate over each line of the file, count what line you're own\n",
    "5. Note: It doesn't need to print the file!  Just the number of lines.\n",
    "6. This should be runnable from the command line.  If you want a file to test things on, use `wcfile.txt`, in the zip file you can download."
   ]
  },
  {
   "cell_type": "code",
   "execution_count": 2,
   "id": "historical-musician",
   "metadata": {},
   "outputs": [
    {
     "name": "stdout",
     "output_type": "stream",
     "text": [
      "cat: wcfile.txt: No such file or directory\r\n"
     ]
    }
   ],
   "source": [
    "!cat wcfile.txt"
   ]
  },
  {
   "cell_type": "code",
   "execution_count": null,
   "id": "pediatric-accommodation",
   "metadata": {},
   "outputs": [],
   "source": []
  }
 ],
 "metadata": {
  "kernelspec": {
   "display_name": "Python 3",
   "language": "python",
   "name": "python3"
  },
  "language_info": {
   "codemirror_mode": {
    "name": "ipython",
    "version": 3
   },
   "file_extension": ".py",
   "mimetype": "text/x-python",
   "name": "python",
   "nbconvert_exporter": "python",
   "pygments_lexer": "ipython3",
   "version": "3.8.6"
  }
 },
 "nbformat": 4,
 "nbformat_minor": 5
}
