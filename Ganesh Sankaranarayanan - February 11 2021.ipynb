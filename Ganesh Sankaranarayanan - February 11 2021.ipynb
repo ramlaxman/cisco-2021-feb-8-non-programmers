{
 "cells": [
  {
   "cell_type": "code",
   "execution_count": 5,
   "id": "declared-address",
   "metadata": {},
   "outputs": [
    {
     "data": {
      "text/plain": [
       "'Hello ganesh sankaranarayanan, How are you doing'"
      ]
     },
     "execution_count": 5,
     "metadata": {},
     "output_type": "execute_result"
    }
   ],
   "source": [
    "def hello(first_name, last_name):\n",
    "    return f'Hello {first_name} {last_name}, How are you doing'\n",
    "\n",
    "hello('ganesh', 'sankaranarayanan')"
   ]
  },
  {
   "cell_type": "code",
   "execution_count": 7,
   "id": "killing-objective",
   "metadata": {},
   "outputs": [
    {
     "name": "stdout",
     "output_type": "stream",
     "text": [
      "Please enter first name :Ganesh\n",
      "Please enter last name :Sankaranarayanan\n"
     ]
    },
    {
     "data": {
      "text/plain": [
       "'Hello Ganesh Sankaranarayanan, How are you doing'"
      ]
     },
     "execution_count": 7,
     "metadata": {},
     "output_type": "execute_result"
    }
   ],
   "source": [
    "def hello(first_name, last_name):\n",
    "    return f'Hello {first_name} {last_name}, How are you doing'\n",
    "\n",
    "first_name = input('Please enter first name :')\n",
    "last_name = input('Please enter last name :')\n",
    "\n",
    "hello(first_name, last_name)"
   ]
  },
  {
   "cell_type": "code",
   "execution_count": 15,
   "id": "million-samoa",
   "metadata": {},
   "outputs": [
    {
     "name": "stdout",
     "output_type": "stream",
     "text": [
      "Please enter a sentence :hello world\n"
     ]
    },
    {
     "data": {
      "text/plain": [
       "'The total number of vowels in the sentence is 3'"
      ]
     },
     "execution_count": 15,
     "metadata": {},
     "output_type": "execute_result"
    }
   ],
   "source": [
    "def count_vowels(s):\n",
    "    \n",
    "    total = 0\n",
    "    \n",
    "    for one_character in s:\n",
    "        \n",
    "        if one_character in 'aeiou':\n",
    "            total += 1\n",
    "\n",
    "    return f'The total number of vowels in the sentence is {total}'\n",
    "\n",
    "s = input('Please enter a sentence :')\n",
    "\n",
    "count_vowels(s)\n"
   ]
  },
  {
   "cell_type": "code",
   "execution_count": 19,
   "id": "adolescent-catch",
   "metadata": {},
   "outputs": [
    {
     "name": "stdout",
     "output_type": "stream",
     "text": [
      "Please enter a sentence :hello world\n",
      "The number of vowels in the sentence is 3\n"
     ]
    }
   ],
   "source": [
    "def count_vowels(s):\n",
    "    \n",
    "    total = 0\n",
    "    \n",
    "    for one_character in s:\n",
    "        \n",
    "        if one_character in 'aeiou':\n",
    "            total += 1\n",
    "\n",
    "    return total\n",
    "\n",
    "s = input('Please enter a sentence :')\n",
    "\n",
    "print(f'The number of vowels in the sentence is {count_vowels(s)}')\n"
   ]
  },
  {
   "cell_type": "code",
   "execution_count": 22,
   "id": "cleared-jason",
   "metadata": {},
   "outputs": [
    {
     "name": "stdout",
     "output_type": "stream",
     "text": [
      "Enter file name :wcfile.txt\n",
      "Total number of vowels in wcfile.txt is 40\n"
     ]
    }
   ],
   "source": [
    "def count_vowels(s):\n",
    "    \n",
    "    total = 0\n",
    "    \n",
    "    for one_character in s:\n",
    "        if one_character in 'aeiou':\n",
    "            total += 1\n",
    "    return total\n",
    "\n",
    "def count_vowels_file(file_name):\n",
    "    \n",
    "    total = 0\n",
    "    \n",
    "    for each_line in open(file_name):\n",
    "        total += count_vowels(each_line)\n",
    "    return total\n",
    "\n",
    "file_name = input('Enter file name :')\n",
    "\n",
    "print(f'Total number of vowels in {file_name} is {count_vowels_file(file_name)}')\n"
   ]
  },
  {
   "cell_type": "code",
   "execution_count": 23,
   "id": "artistic-confidentiality",
   "metadata": {},
   "outputs": [
    {
     "name": "stdout",
     "output_type": "stream",
     "text": [
      "Enter file name :wcfile.txt\n",
      "Total number of vowels in wcfile.txt is 44\n"
     ]
    }
   ],
   "source": [
    "def count_vowels(s):\n",
    "    \n",
    "    total = 0\n",
    "    \n",
    "    for one_character in s:\n",
    "        if one_character in 'aeiou' or one_character in 'AEIOU':\n",
    "            total += 1\n",
    "    return total\n",
    "\n",
    "def count_vowels_file(file_name):\n",
    "    \n",
    "    total = 0\n",
    "    \n",
    "    for each_line in open(file_name):\n",
    "        total += count_vowels(each_line)\n",
    "    return total\n",
    "\n",
    "file_name = input('Enter file name :')\n",
    "\n",
    "print(f'Total number of vowels in {file_name} is {count_vowels_file(file_name)}')\n"
   ]
  },
  {
   "cell_type": "code",
   "execution_count": 30,
   "id": "refined-border",
   "metadata": {},
   "outputs": [
    {
     "name": "stdout",
     "output_type": "stream",
     "text": [
      "Enter a string :abc123def4\n",
      "Total is 10\n"
     ]
    }
   ],
   "source": [
    "def sum_digits(s):\n",
    "    \n",
    "    total = 0\n",
    "    \n",
    "    for each_character in s:\n",
    "        \n",
    "        if each_character.isdigit():\n",
    "            total += int(each_character)\n",
    "    \n",
    "    return total\n",
    "\n",
    "s = input('Enter a string :')\n",
    "\n",
    "print(f'Total is {sum_digits(s)}')\n",
    "\n",
    "\n",
    "        "
   ]
  },
  {
   "cell_type": "code",
   "execution_count": 63,
   "id": "equal-table",
   "metadata": {},
   "outputs": [
    {
     "name": "stdout",
     "output_type": "stream",
     "text": [
      "Enter filename :shoe-data.txt\n",
      "Enter brand name :Nike\n"
     ]
    }
   ],
   "source": [
    "def find_brand(file_name, brand):\n",
    "\n",
    "    for each_line in open(file_name):\n",
    "        field = each_line.split('\\t')\n",
    "    \n",
    "        if field[0] == brand:\n",
    "            print(each_line)\n",
    "            \n",
    "    \n",
    "    \n",
    "\n",
    "file_name = input('Enter filename :')\n",
    "brand = input('Enter brand name :')\n",
    "\n",
    "\n"
   ]
  },
  {
   "cell_type": "code",
   "execution_count": 64,
   "id": "hearing-chance",
   "metadata": {},
   "outputs": [
    {
     "name": "stdout",
     "output_type": "stream",
     "text": [
      "Nike\tblack\t41\n",
      "\n",
      "Nike\twhite\t44\n",
      "\n",
      "Nike\tpink\t44\n",
      "\n",
      "Nike\tblack\t41\n",
      "\n",
      "Nike\tpink\t41\n",
      "\n",
      "Nike\tpink\t43\n",
      "\n",
      "Nike\tblack\t43\n",
      "\n",
      "Nike\tblack\t42\n",
      "\n",
      "Nike\tblack\t35\n",
      "\n",
      "Nike\tblack\t43\n",
      "\n",
      "Nike\tpink\t36\n",
      "\n",
      "Nike\tblack\t42\n",
      "\n",
      "Nike\twhite\t37\n",
      "\n",
      "Nike\tblack\t35\n",
      "\n",
      "Nike\twhite\t37\n",
      "\n",
      "Nike\tpink\t44\n",
      "\n",
      "Nike\tpink\t38\n",
      "\n",
      "Nike\tpink\t40\n",
      "\n",
      "Nike\twhite\t44\n",
      "\n",
      "Nike\torange\t38\n",
      "\n",
      "Nike\twhite\t37\n",
      "\n",
      "Nike\torange\t38\n",
      "\n",
      "Nike\tpink\t40\n",
      "\n",
      "Nike\torange\t40\n",
      "\n",
      "Nike\tpink\t40\n",
      "\n",
      "Nike\tblack\t41\n",
      "\n",
      "Nike\tblack\t39\n",
      "\n",
      "Nike\torange\t36\n",
      "\n",
      "Nike\tblack\t38\n",
      "\n",
      "Nike\tpink\t41\n",
      "\n",
      "Nike\tblack\t44\n",
      "\n",
      "Nike\tblack\t38\n",
      "\n",
      "Nike\tpink\t42\n",
      "\n",
      "Nike\twhite\t38\n",
      "\n",
      "Nike\torange\t39\n",
      "\n",
      "Nike\tblack\t35\n",
      "\n"
     ]
    }
   ],
   "source": [
    "find_brand('shoe-data.txt', 'Nike')\n"
   ]
  },
  {
   "cell_type": "code",
   "execution_count": null,
   "id": "about-sense",
   "metadata": {},
   "outputs": [],
   "source": [
    "def find_brand(file_name, brand):\n",
    "\n",
    "    output = []\n",
    "    \n",
    "    for each_line in open(file_name):\n",
    "        field = each_line.split('\\t')\n",
    "    \n",
    "        if field[0] == brand:\n",
    "            output.append[]\n",
    "    \n",
    "            \n",
    "    \n",
    "    \n",
    "\n",
    "file_name = input('Enter filename :')\n",
    "brand = input('Enter brand name :')\n"
   ]
  }
 ],
 "metadata": {
  "kernelspec": {
   "display_name": "Python 3",
   "language": "python",
   "name": "python3"
  },
  "language_info": {
   "codemirror_mode": {
    "name": "ipython",
    "version": 3
   },
   "file_extension": ".py",
   "mimetype": "text/x-python",
   "name": "python",
   "nbconvert_exporter": "python",
   "pygments_lexer": "ipython3",
   "version": "3.8.6"
  }
 },
 "nbformat": 4,
 "nbformat_minor": 5
}
