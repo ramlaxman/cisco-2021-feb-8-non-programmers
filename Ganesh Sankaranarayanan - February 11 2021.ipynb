{
 "cells": [
  {
   "cell_type": "code",
   "execution_count": 5,
   "id": "agricultural-sampling",
   "metadata": {},
   "outputs": [
    {
     "data": {
      "text/plain": [
       "'Hello ganesh sankaranarayanan, How are you doing'"
      ]
     },
     "execution_count": 5,
     "metadata": {},
     "output_type": "execute_result"
    }
   ],
   "source": [
    "def hello(first_name, last_name):\n",
    "    return f'Hello {first_name} {last_name}, How are you doing'\n",
    "\n",
    "hello('ganesh', 'sankaranarayanan')"
   ]
  },
  {
   "cell_type": "code",
   "execution_count": 7,
   "id": "loose-alliance",
   "metadata": {},
   "outputs": [
    {
     "name": "stdout",
     "output_type": "stream",
     "text": [
      "Please enter first name :Ganesh\n",
      "Please enter last name :Sankaranarayanan\n"
     ]
    },
    {
     "data": {
      "text/plain": [
       "'Hello Ganesh Sankaranarayanan, How are you doing'"
      ]
     },
     "execution_count": 7,
     "metadata": {},
     "output_type": "execute_result"
    }
   ],
   "source": [
    "def hello(first_name, last_name):\n",
    "    return f'Hello {first_name} {last_name}, How are you doing'\n",
    "\n",
    "first_name = input('Please enter first name :')\n",
    "last_name = input('Please enter last name :')\n",
    "\n",
    "hello(first_name, last_name)"
   ]
  },
  {
   "cell_type": "code",
   "execution_count": 15,
   "id": "bigger-summer",
   "metadata": {},
   "outputs": [
    {
     "name": "stdout",
     "output_type": "stream",
     "text": [
      "Please enter a sentence :hello world\n"
     ]
    },
    {
     "data": {
      "text/plain": [
       "'The total number of vowels in the sentence is 3'"
      ]
     },
     "execution_count": 15,
     "metadata": {},
     "output_type": "execute_result"
    }
   ],
   "source": [
    "def count_vowels(s):\n",
    "    \n",
    "    total = 0\n",
    "    \n",
    "    for one_character in s:\n",
    "        \n",
    "        if one_character in 'aeiou':\n",
    "            total += 1\n",
    "\n",
    "    return f'The total number of vowels in the sentence is {total}'\n",
    "\n",
    "s = input('Please enter a sentence :')\n",
    "\n",
    "count_vowels(s)\n"
   ]
  },
  {
   "cell_type": "code",
   "execution_count": 19,
   "id": "competent-blame",
   "metadata": {},
   "outputs": [
    {
     "name": "stdout",
     "output_type": "stream",
     "text": [
      "Please enter a sentence :hello world\n",
      "The number of vowels in the sentence is 3\n"
     ]
    }
   ],
   "source": [
    "def count_vowels(s):\n",
    "    \n",
    "    total = 0\n",
    "    \n",
    "    for one_character in s:\n",
    "        \n",
    "        if one_character in 'aeiou':\n",
    "            total += 1\n",
    "\n",
    "    return total\n",
    "\n",
    "s = input('Please enter a sentence :')\n",
    "\n",
    "print(f'The number of vowels in the sentence is {count_vowels(s)}')\n"
   ]
  },
  {
   "cell_type": "code",
   "execution_count": 22,
   "id": "finnish-resistance",
   "metadata": {},
   "outputs": [
    {
     "name": "stdout",
     "output_type": "stream",
     "text": [
      "Enter file name :wcfile.txt\n",
      "Total number of vowels in wcfile.txt is 40\n"
     ]
    }
   ],
   "source": [
    "def count_vowels(s):\n",
    "    \n",
    "    total = 0\n",
    "    \n",
    "    for one_character in s:\n",
    "        if one_character in 'aeiou':\n",
    "            total += 1\n",
    "    return total\n",
    "\n",
    "def count_vowels_file(file_name):\n",
    "    \n",
    "    total = 0\n",
    "    \n",
    "    for each_line in open(file_name):\n",
    "        total += count_vowels(each_line)\n",
    "    return total\n",
    "\n",
    "file_name = input('Enter file name :')\n",
    "\n",
    "print(f'Total number of vowels in {file_name} is {count_vowels_file(file_name)}')\n"
   ]
  },
  {
   "cell_type": "code",
   "execution_count": 23,
   "id": "corresponding-simon",
   "metadata": {},
   "outputs": [
    {
     "name": "stdout",
     "output_type": "stream",
     "text": [
      "Enter file name :wcfile.txt\n",
      "Total number of vowels in wcfile.txt is 44\n"
     ]
    }
   ],
   "source": [
    "def count_vowels(s):\n",
    "    \n",
    "    total = 0\n",
    "    \n",
    "    for one_character in s:\n",
    "        if one_character in 'aeiou' or one_character in 'AEIOU':\n",
    "            total += 1\n",
    "    return total\n",
    "\n",
    "def count_vowels_file(file_name):\n",
    "    \n",
    "    total = 0\n",
    "    \n",
    "    for each_line in open(file_name):\n",
    "        total += count_vowels(each_line)\n",
    "    return total\n",
    "\n",
    "file_name = input('Enter file name :')\n",
    "\n",
    "print(f'Total number of vowels in {file_name} is {count_vowels_file(file_name)}')\n"
   ]
  },
  {
   "cell_type": "code",
   "execution_count": 30,
   "id": "refined-daily",
   "metadata": {},
   "outputs": [
    {
     "name": "stdout",
     "output_type": "stream",
     "text": [
      "Enter a string :abc123def4\n",
      "Total is 10\n"
     ]
    }
   ],
   "source": [
    "def sum_digits(s):\n",
    "    \n",
    "    total = 0\n",
    "    \n",
    "    for each_character in s:\n",
    "        \n",
    "        if each_character.isdigit():\n",
    "            total += int(each_character)\n",
    "    \n",
    "    return total\n",
    "\n",
    "s = input('Enter a string :')\n",
    "\n",
    "print(f'Total is {sum_digits(s)}')\n",
    "\n",
    "\n",
    "        "
   ]
  },
  {
   "cell_type": "code",
   "execution_count": 63,
   "id": "noticed-night",
   "metadata": {},
   "outputs": [
    {
     "name": "stdout",
     "output_type": "stream",
     "text": [
      "Enter filename :shoe-data.txt\n",
      "Enter brand name :Nike\n"
     ]
    }
   ],
   "source": [
    "def find_brand(file_name, brand):\n",
    "\n",
    "    for each_line in open(file_name):\n",
    "        field = each_line.split('\\t')\n",
    "    \n",
    "        if field[0] == brand:\n",
    "            print(each_line)\n",
    "            \n",
    "    \n",
    "    \n",
    "\n",
    "file_name = input('Enter filename :')\n",
    "brand = input('Enter brand name :')\n",
    "\n",
    "\n"
   ]
  },
  {
   "cell_type": "code",
   "execution_count": 64,
   "id": "opposite-secondary",
   "metadata": {},
   "outputs": [
    {
     "name": "stdout",
     "output_type": "stream",
     "text": [
      "Nike\tblack\t41\n",
      "\n",
      "Nike\twhite\t44\n",
      "\n",
      "Nike\tpink\t44\n",
      "\n",
      "Nike\tblack\t41\n",
      "\n",
      "Nike\tpink\t41\n",
      "\n",
      "Nike\tpink\t43\n",
      "\n",
      "Nike\tblack\t43\n",
      "\n",
      "Nike\tblack\t42\n",
      "\n",
      "Nike\tblack\t35\n",
      "\n",
      "Nike\tblack\t43\n",
      "\n",
      "Nike\tpink\t36\n",
      "\n",
      "Nike\tblack\t42\n",
      "\n",
      "Nike\twhite\t37\n",
      "\n",
      "Nike\tblack\t35\n",
      "\n",
      "Nike\twhite\t37\n",
      "\n",
      "Nike\tpink\t44\n",
      "\n",
      "Nike\tpink\t38\n",
      "\n",
      "Nike\tpink\t40\n",
      "\n",
      "Nike\twhite\t44\n",
      "\n",
      "Nike\torange\t38\n",
      "\n",
      "Nike\twhite\t37\n",
      "\n",
      "Nike\torange\t38\n",
      "\n",
      "Nike\tpink\t40\n",
      "\n",
      "Nike\torange\t40\n",
      "\n",
      "Nike\tpink\t40\n",
      "\n",
      "Nike\tblack\t41\n",
      "\n",
      "Nike\tblack\t39\n",
      "\n",
      "Nike\torange\t36\n",
      "\n",
      "Nike\tblack\t38\n",
      "\n",
      "Nike\tpink\t41\n",
      "\n",
      "Nike\tblack\t44\n",
      "\n",
      "Nike\tblack\t38\n",
      "\n",
      "Nike\tpink\t42\n",
      "\n",
      "Nike\twhite\t38\n",
      "\n",
      "Nike\torange\t39\n",
      "\n",
      "Nike\tblack\t35\n",
      "\n"
     ]
    }
   ],
   "source": [
    "find_brand('shoe-data.txt', 'Nike')\n"
   ]
  },
  {
   "cell_type": "code",
   "execution_count": 78,
   "id": "exotic-comparison",
   "metadata": {},
   "outputs": [],
   "source": [
    "def find_brand(file_name, brand):\n",
    "\n",
    "    output = []\n",
    "    \n",
    "    for each_line in open(file_name):\n",
    "        field = each_line.split('\\t')\n",
    "    \n",
    "        if brand == field[0]:\n",
    "            output.append(field)\n",
    "    \n",
    "    return output\n",
    "            \n",
    "    \n",
    "    \n",
    "\n"
   ]
  },
  {
   "cell_type": "code",
   "execution_count": 79,
   "id": "polished-chapter",
   "metadata": {},
   "outputs": [
    {
     "data": {
      "text/plain": [
       "[['Nike', 'black', '41\\n'],\n",
       " ['Nike', 'white', '44\\n'],\n",
       " ['Nike', 'pink', '44\\n'],\n",
       " ['Nike', 'black', '41\\n'],\n",
       " ['Nike', 'pink', '41\\n'],\n",
       " ['Nike', 'pink', '43\\n'],\n",
       " ['Nike', 'black', '43\\n'],\n",
       " ['Nike', 'black', '42\\n'],\n",
       " ['Nike', 'black', '35\\n'],\n",
       " ['Nike', 'black', '43\\n'],\n",
       " ['Nike', 'pink', '36\\n'],\n",
       " ['Nike', 'black', '42\\n'],\n",
       " ['Nike', 'white', '37\\n'],\n",
       " ['Nike', 'black', '35\\n'],\n",
       " ['Nike', 'white', '37\\n'],\n",
       " ['Nike', 'pink', '44\\n'],\n",
       " ['Nike', 'pink', '38\\n'],\n",
       " ['Nike', 'pink', '40\\n'],\n",
       " ['Nike', 'white', '44\\n'],\n",
       " ['Nike', 'orange', '38\\n'],\n",
       " ['Nike', 'white', '37\\n'],\n",
       " ['Nike', 'orange', '38\\n'],\n",
       " ['Nike', 'pink', '40\\n'],\n",
       " ['Nike', 'orange', '40\\n'],\n",
       " ['Nike', 'pink', '40\\n'],\n",
       " ['Nike', 'black', '41\\n'],\n",
       " ['Nike', 'black', '39\\n'],\n",
       " ['Nike', 'orange', '36\\n'],\n",
       " ['Nike', 'black', '38\\n'],\n",
       " ['Nike', 'pink', '41\\n'],\n",
       " ['Nike', 'black', '44\\n'],\n",
       " ['Nike', 'black', '38\\n'],\n",
       " ['Nike', 'pink', '42\\n'],\n",
       " ['Nike', 'white', '38\\n'],\n",
       " ['Nike', 'orange', '39\\n'],\n",
       " ['Nike', 'black', '35\\n']]"
      ]
     },
     "execution_count": 79,
     "metadata": {},
     "output_type": "execute_result"
    }
   ],
   "source": [
    "find_brand('shoe-data.txt', 'Nike')\n"
   ]
  },
  {
   "cell_type": "code",
   "execution_count": 80,
   "id": "determined-apparel",
   "metadata": {},
   "outputs": [],
   "source": [
    "def find_brand(file_name, brand):\n",
    "\n",
    "    output = []\n",
    "    \n",
    "    for each_line in open(file_name):\n",
    "        fields = each_line.split('\\t')\n",
    "    \n",
    "        if brand == fields[0]:\n",
    "            output.append(fields)\n",
    "    \n",
    "    return output\n",
    "    \n",
    "    for each_element in output:\n",
    "        print(each_element)"
   ]
  },
  {
   "cell_type": "code",
   "execution_count": 81,
   "id": "adaptive-kruger",
   "metadata": {},
   "outputs": [
    {
     "data": {
      "text/plain": [
       "[['Nike', 'black', '41\\n'],\n",
       " ['Nike', 'white', '44\\n'],\n",
       " ['Nike', 'pink', '44\\n'],\n",
       " ['Nike', 'black', '41\\n'],\n",
       " ['Nike', 'pink', '41\\n'],\n",
       " ['Nike', 'pink', '43\\n'],\n",
       " ['Nike', 'black', '43\\n'],\n",
       " ['Nike', 'black', '42\\n'],\n",
       " ['Nike', 'black', '35\\n'],\n",
       " ['Nike', 'black', '43\\n'],\n",
       " ['Nike', 'pink', '36\\n'],\n",
       " ['Nike', 'black', '42\\n'],\n",
       " ['Nike', 'white', '37\\n'],\n",
       " ['Nike', 'black', '35\\n'],\n",
       " ['Nike', 'white', '37\\n'],\n",
       " ['Nike', 'pink', '44\\n'],\n",
       " ['Nike', 'pink', '38\\n'],\n",
       " ['Nike', 'pink', '40\\n'],\n",
       " ['Nike', 'white', '44\\n'],\n",
       " ['Nike', 'orange', '38\\n'],\n",
       " ['Nike', 'white', '37\\n'],\n",
       " ['Nike', 'orange', '38\\n'],\n",
       " ['Nike', 'pink', '40\\n'],\n",
       " ['Nike', 'orange', '40\\n'],\n",
       " ['Nike', 'pink', '40\\n'],\n",
       " ['Nike', 'black', '41\\n'],\n",
       " ['Nike', 'black', '39\\n'],\n",
       " ['Nike', 'orange', '36\\n'],\n",
       " ['Nike', 'black', '38\\n'],\n",
       " ['Nike', 'pink', '41\\n'],\n",
       " ['Nike', 'black', '44\\n'],\n",
       " ['Nike', 'black', '38\\n'],\n",
       " ['Nike', 'pink', '42\\n'],\n",
       " ['Nike', 'white', '38\\n'],\n",
       " ['Nike', 'orange', '39\\n'],\n",
       " ['Nike', 'black', '35\\n']]"
      ]
     },
     "execution_count": 81,
     "metadata": {},
     "output_type": "execute_result"
    }
   ],
   "source": [
    "find_brand('shoe-data.txt', 'Nike')"
   ]
  },
  {
   "cell_type": "code",
   "execution_count": 85,
   "id": "proper-amber",
   "metadata": {},
   "outputs": [
    {
     "name": "stdout",
     "output_type": "stream",
     "text": [
      "Enter brand to search :Nike\n"
     ]
    },
    {
     "ename": "NameError",
     "evalue": "name 'output' is not defined",
     "output_type": "error",
     "traceback": [
      "\u001b[0;31m---------------------------------------------------------------------------\u001b[0m",
      "\u001b[0;31mNameError\u001b[0m                                 Traceback (most recent call last)",
      "\u001b[0;32m<ipython-input-85-3c13b506d32a>\u001b[0m in \u001b[0;36m<module>\u001b[0;34m\u001b[0m\n\u001b[1;32m     15\u001b[0m \u001b[0mfind_brand\u001b[0m\u001b[0;34m(\u001b[0m\u001b[0;34m'shoe-data.txt'\u001b[0m\u001b[0;34m,\u001b[0m \u001b[0mlook_for\u001b[0m\u001b[0;34m)\u001b[0m\u001b[0;34m\u001b[0m\u001b[0;34m\u001b[0m\u001b[0m\n\u001b[1;32m     16\u001b[0m \u001b[0;34m\u001b[0m\u001b[0m\n\u001b[0;32m---> 17\u001b[0;31m \u001b[0;32mfor\u001b[0m \u001b[0mline\u001b[0m \u001b[0;32min\u001b[0m \u001b[0moutput\u001b[0m\u001b[0;34m:\u001b[0m\u001b[0;34m\u001b[0m\u001b[0;34m\u001b[0m\u001b[0m\n\u001b[0m\u001b[1;32m     18\u001b[0m     \u001b[0mprint\u001b[0m\u001b[0;34m(\u001b[0m\u001b[0mline\u001b[0m\u001b[0;34m)\u001b[0m\u001b[0;34m\u001b[0m\u001b[0;34m\u001b[0m\u001b[0m\n",
      "\u001b[0;31mNameError\u001b[0m: name 'output' is not defined"
     ]
    }
   ],
   "source": [
    "def find_brand(file_name, brand):\n",
    "    output = []\n",
    "\n",
    "    for each_line in open(file_name):\n",
    "        fields = each_line.split('\\t')\n",
    "\n",
    "        if brand == fields[0]:\n",
    "            output.append(fields)\n",
    "\n",
    "    return output\n",
    "\n",
    "\n",
    "look_for = input('Enter brand to search :')\n",
    "\n",
    "find_brand('shoe-data.txt', look_for)\n",
    "\n",
    "for line in find_brand:\n",
    "    print(line)\n"
   ]
  },
  {
   "cell_type": "code",
   "execution_count": null,
   "id": "sporting-jacket",
   "metadata": {},
   "outputs": [],
   "source": []
  }
 ],
 "metadata": {
  "kernelspec": {
   "display_name": "Python 3",
   "language": "python",
   "name": "python3"
  },
  "language_info": {
   "codemirror_mode": {
    "name": "ipython",
    "version": 3
   },
   "file_extension": ".py",
   "mimetype": "text/x-python",
   "name": "python",
   "nbconvert_exporter": "python",
   "pygments_lexer": "ipython3",
   "version": "3.8.6"
  }
 },
 "nbformat": 4,
 "nbformat_minor": 5
}
