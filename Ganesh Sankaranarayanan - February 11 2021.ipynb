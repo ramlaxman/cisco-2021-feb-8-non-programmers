{
 "cells": [
  {
   "cell_type": "code",
   "execution_count": 5,
   "id": "pregnant-studio",
   "metadata": {},
   "outputs": [
    {
     "data": {
      "text/plain": [
       "'Hello ganesh sankaranarayanan, How are you doing'"
      ]
     },
     "execution_count": 5,
     "metadata": {},
     "output_type": "execute_result"
    }
   ],
   "source": [
    "def hello(first_name, last_name):\n",
    "    return f'Hello {first_name} {last_name}, How are you doing'\n",
    "\n",
    "hello('ganesh', 'sankaranarayanan')"
   ]
  },
  {
   "cell_type": "code",
   "execution_count": 7,
   "id": "bronze-government",
   "metadata": {},
   "outputs": [
    {
     "name": "stdout",
     "output_type": "stream",
     "text": [
      "Please enter first name :Ganesh\n",
      "Please enter last name :Sankaranarayanan\n"
     ]
    },
    {
     "data": {
      "text/plain": [
       "'Hello Ganesh Sankaranarayanan, How are you doing'"
      ]
     },
     "execution_count": 7,
     "metadata": {},
     "output_type": "execute_result"
    }
   ],
   "source": [
    "def hello(first_name, last_name):\n",
    "    return f'Hello {first_name} {last_name}, How are you doing'\n",
    "\n",
    "first_name = input('Please enter first name :')\n",
    "last_name = input('Please enter last name :')\n",
    "\n",
    "hello(first_name, last_name)"
   ]
  },
  {
   "cell_type": "code",
   "execution_count": 15,
   "id": "announced-migration",
   "metadata": {},
   "outputs": [
    {
     "name": "stdout",
     "output_type": "stream",
     "text": [
      "Please enter a sentence :hello world\n"
     ]
    },
    {
     "data": {
      "text/plain": [
       "'The total number of vowels in the sentence is 3'"
      ]
     },
     "execution_count": 15,
     "metadata": {},
     "output_type": "execute_result"
    }
   ],
   "source": [
    "def count_vowels(s):\n",
    "    \n",
    "    total = 0\n",
    "    \n",
    "    for one_character in s:\n",
    "        \n",
    "        if one_character in 'aeiou':\n",
    "            total += 1\n",
    "\n",
    "    return f'The total number of vowels in the sentence is {total}'\n",
    "\n",
    "s = input('Please enter a sentence :')\n",
    "\n",
    "count_vowels(s)\n"
   ]
  },
  {
   "cell_type": "code",
   "execution_count": 19,
   "id": "saved-effects",
   "metadata": {},
   "outputs": [
    {
     "name": "stdout",
     "output_type": "stream",
     "text": [
      "Please enter a sentence :hello world\n",
      "The number of vowels in the sentence is 3\n"
     ]
    }
   ],
   "source": [
    "def count_vowels(s):\n",
    "    \n",
    "    total = 0\n",
    "    \n",
    "    for one_character in s:\n",
    "        \n",
    "        if one_character in 'aeiou':\n",
    "            total += 1\n",
    "\n",
    "    return total\n",
    "\n",
    "s = input('Please enter a sentence :')\n",
    "\n",
    "print(f'The number of vowels in the sentence is {count_vowels(s)}')\n"
   ]
  },
  {
   "cell_type": "code",
   "execution_count": null,
   "id": "mediterranean-survival",
   "metadata": {},
   "outputs": [],
   "source": []
  }
 ],
 "metadata": {
  "kernelspec": {
   "display_name": "Python 3",
   "language": "python",
   "name": "python3"
  },
  "language_info": {
   "codemirror_mode": {
    "name": "ipython",
    "version": 3
   },
   "file_extension": ".py",
   "mimetype": "text/x-python",
   "name": "python",
   "nbconvert_exporter": "python",
   "pygments_lexer": "ipython3",
   "version": "3.8.6"
  }
 },
 "nbformat": 4,
 "nbformat_minor": 5
}
