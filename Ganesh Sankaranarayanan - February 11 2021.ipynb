{
 "cells": [
  {
   "cell_type": "code",
   "execution_count": 5,
   "id": "yellow-commons",
   "metadata": {},
   "outputs": [
    {
     "data": {
      "text/plain": [
       "'Hello ganesh sankaranarayanan, How are you doing'"
      ]
     },
     "execution_count": 5,
     "metadata": {},
     "output_type": "execute_result"
    }
   ],
   "source": [
    "def hello(first_name, last_name):\n",
    "    return f'Hello {first_name} {last_name}, How are you doing'\n",
    "\n",
    "hello('ganesh', 'sankaranarayanan')"
   ]
  },
  {
   "cell_type": "code",
   "execution_count": 7,
   "id": "excessive-blood",
   "metadata": {},
   "outputs": [
    {
     "name": "stdout",
     "output_type": "stream",
     "text": [
      "Please enter first name :Ganesh\n",
      "Please enter last name :Sankaranarayanan\n"
     ]
    },
    {
     "data": {
      "text/plain": [
       "'Hello Ganesh Sankaranarayanan, How are you doing'"
      ]
     },
     "execution_count": 7,
     "metadata": {},
     "output_type": "execute_result"
    }
   ],
   "source": [
    "def hello(first_name, last_name):\n",
    "    return f'Hello {first_name} {last_name}, How are you doing'\n",
    "\n",
    "first_name = input('Please enter first name :')\n",
    "last_name = input('Please enter last name :')\n",
    "\n",
    "hello(first_name, last_name)"
   ]
  },
  {
   "cell_type": "code",
   "execution_count": 15,
   "id": "hourly-teaching",
   "metadata": {},
   "outputs": [
    {
     "name": "stdout",
     "output_type": "stream",
     "text": [
      "Please enter a sentence :hello world\n"
     ]
    },
    {
     "data": {
      "text/plain": [
       "'The total number of vowels in the sentence is 3'"
      ]
     },
     "execution_count": 15,
     "metadata": {},
     "output_type": "execute_result"
    }
   ],
   "source": [
    "def count_vowels(s):\n",
    "    \n",
    "    total = 0\n",
    "    \n",
    "    for one_character in s:\n",
    "        \n",
    "        if one_character in 'aeiou':\n",
    "            total += 1\n",
    "\n",
    "    return f'The total number of vowels in the sentence is {total}'\n",
    "\n",
    "s = input('Please enter a sentence :')\n",
    "\n",
    "count_vowels(s)\n"
   ]
  },
  {
   "cell_type": "code",
   "execution_count": 11,
   "id": "charged-intro",
   "metadata": {},
   "outputs": [
    {
     "ename": "NameError",
     "evalue": "name 'total' is not defined",
     "output_type": "error",
     "traceback": [
      "\u001b[0;31m---------------------------------------------------------------------------\u001b[0m",
      "\u001b[0;31mNameError\u001b[0m                                 Traceback (most recent call last)",
      "\u001b[0;32m<ipython-input-11-f5f7acea0338>\u001b[0m in \u001b[0;36m<module>\u001b[0;34m\u001b[0m\n\u001b[0;32m----> 1\u001b[0;31m \u001b[0mtotal\u001b[0m\u001b[0;34m\u001b[0m\u001b[0;34m\u001b[0m\u001b[0m\n\u001b[0m",
      "\u001b[0;31mNameError\u001b[0m: name 'total' is not defined"
     ]
    }
   ],
   "source": [
    "total\n"
   ]
  },
  {
   "cell_type": "code",
   "execution_count": null,
   "id": "dependent-relay",
   "metadata": {},
   "outputs": [],
   "source": []
  }
 ],
 "metadata": {
  "kernelspec": {
   "display_name": "Python 3",
   "language": "python",
   "name": "python3"
  },
  "language_info": {
   "codemirror_mode": {
    "name": "ipython",
    "version": 3
   },
   "file_extension": ".py",
   "mimetype": "text/x-python",
   "name": "python",
   "nbconvert_exporter": "python",
   "pygments_lexer": "ipython3",
   "version": "3.8.6"
  }
 },
 "nbformat": 4,
 "nbformat_minor": 5
}
