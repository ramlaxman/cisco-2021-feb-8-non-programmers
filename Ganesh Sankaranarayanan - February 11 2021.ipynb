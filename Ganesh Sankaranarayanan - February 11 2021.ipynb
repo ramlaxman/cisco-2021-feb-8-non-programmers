{
 "cells": [
  {
   "cell_type": "code",
   "execution_count": 5,
   "id": "original-maximum",
   "metadata": {},
   "outputs": [
    {
     "data": {
      "text/plain": [
       "'Hello ganesh sankaranarayanan, How are you doing'"
      ]
     },
     "execution_count": 5,
     "metadata": {},
     "output_type": "execute_result"
    }
   ],
   "source": [
    "def hello(first_name, last_name):\n",
    "    return f'Hello {first_name} {last_name}, How are you doing'\n",
    "\n",
    "hello('ganesh', 'sankaranarayanan')"
   ]
  },
  {
   "cell_type": "code",
   "execution_count": 7,
   "id": "light-australian",
   "metadata": {},
   "outputs": [
    {
     "name": "stdout",
     "output_type": "stream",
     "text": [
      "Please enter first name :Ganesh\n",
      "Please enter last name :Sankaranarayanan\n"
     ]
    },
    {
     "data": {
      "text/plain": [
       "'Hello Ganesh Sankaranarayanan, How are you doing'"
      ]
     },
     "execution_count": 7,
     "metadata": {},
     "output_type": "execute_result"
    }
   ],
   "source": [
    "def hello(first_name, last_name):\n",
    "    return f'Hello {first_name} {last_name}, How are you doing'\n",
    "\n",
    "first_name = input('Please enter first name :')\n",
    "last_name = input('Please enter last name :')\n",
    "\n",
    "hello(first_name, last_name)"
   ]
  },
  {
   "cell_type": "code",
   "execution_count": 15,
   "id": "associate-rental",
   "metadata": {},
   "outputs": [
    {
     "name": "stdout",
     "output_type": "stream",
     "text": [
      "Please enter a sentence :hello world\n"
     ]
    },
    {
     "data": {
      "text/plain": [
       "'The total number of vowels in the sentence is 3'"
      ]
     },
     "execution_count": 15,
     "metadata": {},
     "output_type": "execute_result"
    }
   ],
   "source": [
    "def count_vowels(s):\n",
    "    \n",
    "    total = 0\n",
    "    \n",
    "    for one_character in s:\n",
    "        \n",
    "        if one_character in 'aeiou':\n",
    "            total += 1\n",
    "\n",
    "    return f'The total number of vowels in the sentence is {total}'\n",
    "\n",
    "s = input('Please enter a sentence :')\n",
    "\n",
    "count_vowels(s)\n"
   ]
  },
  {
   "cell_type": "code",
   "execution_count": 19,
   "id": "powerful-grant",
   "metadata": {},
   "outputs": [
    {
     "name": "stdout",
     "output_type": "stream",
     "text": [
      "Please enter a sentence :hello world\n",
      "The number of vowels in the sentence is 3\n"
     ]
    }
   ],
   "source": [
    "def count_vowels(s):\n",
    "    \n",
    "    total = 0\n",
    "    \n",
    "    for one_character in s:\n",
    "        \n",
    "        if one_character in 'aeiou':\n",
    "            total += 1\n",
    "\n",
    "    return total\n",
    "\n",
    "s = input('Please enter a sentence :')\n",
    "\n",
    "print(f'The number of vowels in the sentence is {count_vowels(s)}')\n"
   ]
  },
  {
   "cell_type": "code",
   "execution_count": 22,
   "id": "framed-sydney",
   "metadata": {},
   "outputs": [
    {
     "name": "stdout",
     "output_type": "stream",
     "text": [
      "Enter file name :wcfile.txt\n",
      "Total number of vowels in wcfile.txt is 40\n"
     ]
    }
   ],
   "source": [
    "def count_vowels(s):\n",
    "    \n",
    "    total = 0\n",
    "    \n",
    "    for one_character in s:\n",
    "        if one_character in 'aeiou':\n",
    "            total += 1\n",
    "    return total\n",
    "\n",
    "def count_vowels_file(file_name):\n",
    "    \n",
    "    total = 0\n",
    "    \n",
    "    for each_line in open(file_name):\n",
    "        total += count_vowels(each_line)\n",
    "    return total\n",
    "\n",
    "file_name = input('Enter file name :')\n",
    "\n",
    "print(f'Total number of vowels in {file_name} is {count_vowels_file(file_name)}')\n"
   ]
  },
  {
   "cell_type": "code",
   "execution_count": 23,
   "id": "loose-little",
   "metadata": {},
   "outputs": [
    {
     "name": "stdout",
     "output_type": "stream",
     "text": [
      "Enter file name :wcfile.txt\n",
      "Total number of vowels in wcfile.txt is 44\n"
     ]
    }
   ],
   "source": [
    "def count_vowels(s):\n",
    "    \n",
    "    total = 0\n",
    "    \n",
    "    for one_character in s:\n",
    "        if one_character in 'aeiou' or one_character in 'AEIOU':\n",
    "            total += 1\n",
    "    return total\n",
    "\n",
    "def count_vowels_file(file_name):\n",
    "    \n",
    "    total = 0\n",
    "    \n",
    "    for each_line in open(file_name):\n",
    "        total += count_vowels(each_line)\n",
    "    return total\n",
    "\n",
    "file_name = input('Enter file name :')\n",
    "\n",
    "print(f'Total number of vowels in {file_name} is {count_vowels_file(file_name)}')\n"
   ]
  },
  {
   "cell_type": "code",
   "execution_count": 30,
   "id": "joined-survey",
   "metadata": {},
   "outputs": [
    {
     "name": "stdout",
     "output_type": "stream",
     "text": [
      "Enter a string :abc123def4\n",
      "Total is 10\n"
     ]
    }
   ],
   "source": [
    "def sum_digits(s):\n",
    "    \n",
    "    total = 0\n",
    "    \n",
    "    for each_character in s:\n",
    "        \n",
    "        if each_character.isdigit():\n",
    "            total += int(each_character)\n",
    "    \n",
    "    return total\n",
    "\n",
    "s = input('Enter a string :')\n",
    "\n",
    "print(f'Total is {sum_digits(s)}')\n",
    "\n",
    "\n",
    "        "
   ]
  },
  {
   "cell_type": "code",
   "execution_count": 63,
   "id": "brief-victory",
   "metadata": {},
   "outputs": [
    {
     "name": "stdout",
     "output_type": "stream",
     "text": [
      "Enter filename :shoe-data.txt\n",
      "Enter brand name :Nike\n"
     ]
    }
   ],
   "source": [
    "def find_brand(file_name, brand):\n",
    "\n",
    "    for each_line in open(file_name):\n",
    "        field = each_line.split('\\t')\n",
    "    \n",
    "        if field[0] == brand:\n",
    "            print(each_line)\n",
    "            \n",
    "    \n",
    "    \n",
    "\n",
    "file_name = input('Enter filename :')\n",
    "brand = input('Enter brand name :')\n",
    "\n",
    "\n"
   ]
  },
  {
   "cell_type": "code",
   "execution_count": 64,
   "id": "weekly-nicholas",
   "metadata": {},
   "outputs": [
    {
     "name": "stdout",
     "output_type": "stream",
     "text": [
      "Nike\tblack\t41\n",
      "\n",
      "Nike\twhite\t44\n",
      "\n",
      "Nike\tpink\t44\n",
      "\n",
      "Nike\tblack\t41\n",
      "\n",
      "Nike\tpink\t41\n",
      "\n",
      "Nike\tpink\t43\n",
      "\n",
      "Nike\tblack\t43\n",
      "\n",
      "Nike\tblack\t42\n",
      "\n",
      "Nike\tblack\t35\n",
      "\n",
      "Nike\tblack\t43\n",
      "\n",
      "Nike\tpink\t36\n",
      "\n",
      "Nike\tblack\t42\n",
      "\n",
      "Nike\twhite\t37\n",
      "\n",
      "Nike\tblack\t35\n",
      "\n",
      "Nike\twhite\t37\n",
      "\n",
      "Nike\tpink\t44\n",
      "\n",
      "Nike\tpink\t38\n",
      "\n",
      "Nike\tpink\t40\n",
      "\n",
      "Nike\twhite\t44\n",
      "\n",
      "Nike\torange\t38\n",
      "\n",
      "Nike\twhite\t37\n",
      "\n",
      "Nike\torange\t38\n",
      "\n",
      "Nike\tpink\t40\n",
      "\n",
      "Nike\torange\t40\n",
      "\n",
      "Nike\tpink\t40\n",
      "\n",
      "Nike\tblack\t41\n",
      "\n",
      "Nike\tblack\t39\n",
      "\n",
      "Nike\torange\t36\n",
      "\n",
      "Nike\tblack\t38\n",
      "\n",
      "Nike\tpink\t41\n",
      "\n",
      "Nike\tblack\t44\n",
      "\n",
      "Nike\tblack\t38\n",
      "\n",
      "Nike\tpink\t42\n",
      "\n",
      "Nike\twhite\t38\n",
      "\n",
      "Nike\torange\t39\n",
      "\n",
      "Nike\tblack\t35\n",
      "\n"
     ]
    }
   ],
   "source": [
    "find_brand('shoe-data.txt', 'Nike')\n"
   ]
  },
  {
   "cell_type": "code",
   "execution_count": 67,
   "id": "smaller-jurisdiction",
   "metadata": {},
   "outputs": [
    {
     "name": "stdout",
     "output_type": "stream",
     "text": [
      "Enter filename :\n",
      "Enter brand name :\n"
     ]
    }
   ],
   "source": [
    "def find_brand(file_name, brand):\n",
    "\n",
    "    output = []\n",
    "    \n",
    "    for each_line in open(file_name):\n",
    "        field = each_line.split('\\t')\n",
    "    \n",
    "        if field[0] == brand:\n",
    "            output.append[field]\n",
    "    return output\n",
    "            \n",
    "    \n",
    "    \n",
    "\n",
    "file_name = input('Enter filename :')\n",
    "brand = input('Enter brand name :')\n"
   ]
  },
  {
   "cell_type": "code",
   "execution_count": 68,
   "id": "intense-wesley",
   "metadata": {},
   "outputs": [
    {
     "ename": "TypeError",
     "evalue": "'builtin_function_or_method' object is not subscriptable",
     "output_type": "error",
     "traceback": [
      "\u001b[0;31m---------------------------------------------------------------------------\u001b[0m",
      "\u001b[0;31mTypeError\u001b[0m                                 Traceback (most recent call last)",
      "\u001b[0;32m<ipython-input-68-2d5c5fd4cde9>\u001b[0m in \u001b[0;36m<module>\u001b[0;34m\u001b[0m\n\u001b[0;32m----> 1\u001b[0;31m \u001b[0mfind_brand\u001b[0m\u001b[0;34m(\u001b[0m\u001b[0;34m'shoe-data.txt'\u001b[0m\u001b[0;34m,\u001b[0m \u001b[0;34m'Nike'\u001b[0m\u001b[0;34m)\u001b[0m\u001b[0;34m\u001b[0m\u001b[0;34m\u001b[0m\u001b[0m\n\u001b[0m",
      "\u001b[0;32m<ipython-input-67-e5b2a24da566>\u001b[0m in \u001b[0;36mfind_brand\u001b[0;34m(file_name, brand)\u001b[0m\n\u001b[1;32m      7\u001b[0m \u001b[0;34m\u001b[0m\u001b[0m\n\u001b[1;32m      8\u001b[0m         \u001b[0;32mif\u001b[0m \u001b[0mfield\u001b[0m\u001b[0;34m[\u001b[0m\u001b[0;36m0\u001b[0m\u001b[0;34m]\u001b[0m \u001b[0;34m==\u001b[0m \u001b[0mbrand\u001b[0m\u001b[0;34m:\u001b[0m\u001b[0;34m\u001b[0m\u001b[0;34m\u001b[0m\u001b[0m\n\u001b[0;32m----> 9\u001b[0;31m             \u001b[0moutput\u001b[0m\u001b[0;34m.\u001b[0m\u001b[0mappend\u001b[0m\u001b[0;34m[\u001b[0m\u001b[0mfield\u001b[0m\u001b[0;34m]\u001b[0m\u001b[0;34m\u001b[0m\u001b[0;34m\u001b[0m\u001b[0m\n\u001b[0m\u001b[1;32m     10\u001b[0m     \u001b[0;32mreturn\u001b[0m \u001b[0moutput\u001b[0m\u001b[0;34m\u001b[0m\u001b[0;34m\u001b[0m\u001b[0m\n\u001b[1;32m     11\u001b[0m \u001b[0;34m\u001b[0m\u001b[0m\n",
      "\u001b[0;31mTypeError\u001b[0m: 'builtin_function_or_method' object is not subscriptable"
     ]
    }
   ],
   "source": [
    "find_brand('shoe-data.txt', 'Nike')\n"
   ]
  },
  {
   "cell_type": "code",
   "execution_count": null,
   "id": "furnished-particular",
   "metadata": {},
   "outputs": [],
   "source": []
  }
 ],
 "metadata": {
  "kernelspec": {
   "display_name": "Python 3",
   "language": "python",
   "name": "python3"
  },
  "language_info": {
   "codemirror_mode": {
    "name": "ipython",
    "version": 3
   },
   "file_extension": ".py",
   "mimetype": "text/x-python",
   "name": "python",
   "nbconvert_exporter": "python",
   "pygments_lexer": "ipython3",
   "version": "3.8.6"
  }
 },
 "nbformat": 4,
 "nbformat_minor": 5
}
