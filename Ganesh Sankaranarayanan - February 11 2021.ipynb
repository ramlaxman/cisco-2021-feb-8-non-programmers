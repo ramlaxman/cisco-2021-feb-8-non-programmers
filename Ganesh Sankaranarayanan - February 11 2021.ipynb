{
 "cells": [
  {
   "cell_type": "code",
   "execution_count": 5,
   "id": "recovered-thousand",
   "metadata": {},
   "outputs": [
    {
     "data": {
      "text/plain": [
       "'Hello ganesh sankaranarayanan, How are you doing'"
      ]
     },
     "execution_count": 5,
     "metadata": {},
     "output_type": "execute_result"
    }
   ],
   "source": [
    "def hello(first_name, last_name):\n",
    "    return f'Hello {first_name} {last_name}, How are you doing'\n",
    "\n",
    "hello('ganesh', 'sankaranarayanan')"
   ]
  },
  {
   "cell_type": "code",
   "execution_count": 7,
   "id": "protective-daisy",
   "metadata": {},
   "outputs": [
    {
     "name": "stdout",
     "output_type": "stream",
     "text": [
      "Please enter first name :Ganesh\n",
      "Please enter last name :Sankaranarayanan\n"
     ]
    },
    {
     "data": {
      "text/plain": [
       "'Hello Ganesh Sankaranarayanan, How are you doing'"
      ]
     },
     "execution_count": 7,
     "metadata": {},
     "output_type": "execute_result"
    }
   ],
   "source": [
    "def hello(first_name, last_name):\n",
    "    return f'Hello {first_name} {last_name}, How are you doing'\n",
    "\n",
    "first_name = input('Please enter first name :')\n",
    "last_name = input('Please enter last name :')\n",
    "\n",
    "hello(first_name, last_name)"
   ]
  },
  {
   "cell_type": "code",
   "execution_count": null,
   "id": "connected-booking",
   "metadata": {},
   "outputs": [],
   "source": [
    "def count_vowels(s):\n",
    "    \n",
    "    total = 0\n",
    "    \n",
    "    if s in 'aeiou':\n",
    "        total += 1\n",
    "\n",
    "return total\n",
    "\n",
    "s = input('Please enter a sentence :')\n",
    "\n",
    "count_vowe"
   ]
  }
 ],
 "metadata": {
  "kernelspec": {
   "display_name": "Python 3",
   "language": "python",
   "name": "python3"
  },
  "language_info": {
   "codemirror_mode": {
    "name": "ipython",
    "version": 3
   },
   "file_extension": ".py",
   "mimetype": "text/x-python",
   "name": "python",
   "nbconvert_exporter": "python",
   "pygments_lexer": "ipython3",
   "version": "3.8.6"
  }
 },
 "nbformat": 4,
 "nbformat_minor": 5
}
