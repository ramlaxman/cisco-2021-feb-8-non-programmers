{
 "cells": [
  {
   "cell_type": "code",
   "execution_count": 1,
   "id": "lasting-hierarchy",
   "metadata": {},
   "outputs": [],
   "source": [
    "# Pig Latin Sentence"
   ]
  },
  {
   "cell_type": "code",
   "execution_count": null,
   "id": "cloudy-motor",
   "metadata": {},
   "outputs": [],
   "source": [
    "word = input('Enter a word: ')\n",
    "\n",
    "if word[0] in 'aeiou':\n",
    "    print(word + 'way')\n",
    "else:\n",
    "    print(word[1:] + word[0] + 'ay')\n",
    "    \n"
   ]
  }
 ],
 "metadata": {
  "kernelspec": {
   "display_name": "Python 3",
   "language": "python",
   "name": "python3"
  },
  "language_info": {
   "codemirror_mode": {
    "name": "ipython",
    "version": 3
   },
   "file_extension": ".py",
   "mimetype": "text/x-python",
   "name": "python",
   "nbconvert_exporter": "python",
   "pygments_lexer": "ipython3",
   "version": "3.8.6"
  }
 },
 "nbformat": 4,
 "nbformat_minor": 5
}
