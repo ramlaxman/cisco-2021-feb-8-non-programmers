{
 "cells": [
  {
   "cell_type": "code",
   "execution_count": 1,
   "id": "rocky-blank",
   "metadata": {},
   "outputs": [],
   "source": [
    "# Pig Latin Sentence"
   ]
  },
  {
   "cell_type": "code",
   "execution_count": 25,
   "id": "lined-jones",
   "metadata": {},
   "outputs": [
    {
     "name": "stdout",
     "output_type": "stream",
     "text": [
      "Enter a sentence: this programming exercise is really good for us\n",
      "histay\n",
      "rogrammingpay\n",
      "exerciseway\n",
      "isway\n",
      "eallyray\n",
      "oodgay\n",
      "orfay\n",
      "usway\n"
     ]
    }
   ],
   "source": [
    "sentence = input('Enter a sentence: ')\n",
    "words = sentence.split()   # no argument means: any whitespace is a separator\n",
    "\n",
    "for word in words:  # set variable of 'word' and check in 'words' for:\n",
    "\n",
    "    if word[0] in 'aeiou':\n",
    "        print(word + 'way')\n",
    "    else:\n",
    "        print(word[1:] + word[0] + 'ay')\n"
   ]
  },
  {
   "cell_type": "code",
   "execution_count": 21,
   "id": "virgin-syndrome",
   "metadata": {},
   "outputs": [
    {
     "name": "stdout",
     "output_type": "stream",
     "text": [
      "Friendly-traceback installed.\n"
     ]
    }
   ],
   "source": [
    "from friendly_traceback.ipython import *\n"
   ]
  },
  {
   "cell_type": "code",
   "execution_count": 37,
   "id": "thousand-topic",
   "metadata": {},
   "outputs": [
    {
     "name": "stdout",
     "output_type": "stream",
     "text": [
      "Enter a sentence: aa bb\n"
     ]
    },
    {
     "name": "stderr",
     "output_type": "stream",
     "text": [
      "\n",
      "Traceback (most recent call last):\n",
      "  File \"<ipython-input-37>\", line 10, in <module>\n",
      "    append(word + 'way')\n",
      "NameError: name 'append' is not defined\n",
      "\n",
      "        Did you forget to add `self`?\n"
     ]
    }
   ],
   "source": [
    "output = []\n",
    "sentence = input('Enter a sentence: ')\n",
    "words = sentence.split()   # no argument means: any whitespace is a separator\n",
    "\n",
    "\n",
    "for word in words:  # set variable of 'word' and check in 'words' for:\n",
    "\n",
    "    if word[0] in 'aeiou':\n",
    "        #print(word + 'way')\n",
    "        append(word + 'way')\n",
    "    #else:\n",
    "        #print(word[1:] + word[0] + 'ay')\n",
    "        #append(word[1:] + word[0] + 'ay')\n",
    "        \n",
    "\n",
    "output.append(words)\n",
    "print(output)\n",
    "\n"
   ]
  },
  {
   "cell_type": "code",
   "execution_count": null,
   "id": "monetary-uncertainty",
   "metadata": {},
   "outputs": [],
   "source": []
  }
 ],
 "metadata": {
  "kernelspec": {
   "display_name": "Python 3",
   "language": "python",
   "name": "python3"
  },
  "language_info": {
   "codemirror_mode": {
    "name": "ipython",
    "version": 3
   },
   "file_extension": ".py",
   "mimetype": "text/x-python",
   "name": "python",
   "nbconvert_exporter": "python",
   "pygments_lexer": "ipython3",
   "version": "3.8.6"
  }
 },
 "nbformat": 4,
 "nbformat_minor": 5
}
