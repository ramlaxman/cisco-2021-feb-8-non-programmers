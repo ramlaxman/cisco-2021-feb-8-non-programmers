{
 "cells": [
  {
   "cell_type": "code",
   "execution_count": 1,
   "id": "opposed-compact",
   "metadata": {},
   "outputs": [],
   "source": [
    "# Pig Latin Sentence"
   ]
  },
  {
   "cell_type": "code",
   "execution_count": 25,
   "id": "appointed-restaurant",
   "metadata": {},
   "outputs": [
    {
     "name": "stdout",
     "output_type": "stream",
     "text": [
      "Enter a sentence: this programming exercise is really good for us\n",
      "histay\n",
      "rogrammingpay\n",
      "exerciseway\n",
      "isway\n",
      "eallyray\n",
      "oodgay\n",
      "orfay\n",
      "usway\n"
     ]
    }
   ],
   "source": [
    "sentence = input('Enter a sentence: ')\n",
    "words = sentence.split()   # no argument means: any whitespace is a separator\n",
    "\n",
    "for word in words:  # set variable of 'word' and check in 'words' for:\n",
    "\n",
    "    if word[0] in 'aeiou':\n",
    "        print(word + 'way')\n",
    "    else:\n",
    "        print(word[1:] + word[0] + 'ay')\n"
   ]
  },
  {
   "cell_type": "code",
   "execution_count": 21,
   "id": "integrated-greene",
   "metadata": {},
   "outputs": [
    {
     "name": "stdout",
     "output_type": "stream",
     "text": [
      "Friendly-traceback installed.\n"
     ]
    }
   ],
   "source": [
    "from friendly_traceback.ipython import *\n"
   ]
  },
  {
   "cell_type": "code",
   "execution_count": 42,
   "id": "twenty-deficit",
   "metadata": {},
   "outputs": [
    {
     "name": "stdout",
     "output_type": "stream",
     "text": [
      "Enter a sentence: this is a test\n",
      "['isway', 'siay', 'away', 'aay']\n"
     ]
    }
   ],
   "source": [
    "output = []\n",
    "\n",
    "sentence = input('Enter a sentence: ')\n",
    "words = sentence.split()   # no argument means: any whitespace is a separator\n",
    "\n",
    "\n",
    "for word in words:  # set variable of 'word' and check in 'words' for:\n",
    "\n",
    "    if word[0] in 'aeiou':\n",
    "        #print(word + 'way')\n",
    "        output.append(word + 'way')\n",
    "    #else:\n",
    "        #print(word[1:] + word[0] + 'ay')\n",
    "        output.append(word[1:] + word[0] + 'ay')\n",
    "        \n",
    "print(output)\n",
    "\n"
   ]
  },
  {
   "cell_type": "code",
   "execution_count": 50,
   "id": "passing-courtesy",
   "metadata": {},
   "outputs": [
    {
     "name": "stdout",
     "output_type": "stream",
     "text": [
      "Enter a sentence: the last change may work\n",
      "hetay astlay hangecay aymay orkway\n"
     ]
    }
   ],
   "source": [
    "output = []\n",
    "sentence = input('Enter a sentence: ')\n",
    "\n",
    "words = sentence.split()   # no argument means: any whitespace is a separator\n",
    "for word in words:         # set variable of 'word' and check in 'words' for:\n",
    "    if word[0] in 'aeiou':\n",
    "        output.append(word + 'way') \n",
    "    else:\n",
    "        output.append(word[1:] + word[0] + 'ay') \n",
    "        \n",
    "str(output)           # convert List to Sting\n",
    "s = ' '.join(output)  # assing 'join' to a variable\n",
    "print(s)              # display that variable"
   ]
  },
  {
   "cell_type": "code",
   "execution_count": 51,
   "id": "changed-certification",
   "metadata": {},
   "outputs": [
    {
     "name": "stdout",
     "output_type": "stream",
     "text": [
      "Enter a sentence: this is working fine!\n",
      "histay isway orkingway ine!fay\n"
     ]
    }
   ],
   "source": [
    "output = []\n",
    "sentence = input('Enter a sentence: ')\n",
    "\n",
    "words = sentence.split()   # no argument means: any whitespace is a separator\n",
    "for word in words:         # set variable of 'word' and check in 'words' for:\n",
    "    if word[0] in 'aeiou':\n",
    "        output.append(word + 'way') \n",
    "    else:\n",
    "        output.append(word[1:] + word[0] + 'ay') \n",
    "        \n",
    "str(output)           # convert List to Sting\n",
    "s = ' '.join(output)  # assing 'join' to a variable\n",
    "print(s)              # display that variable"
   ]
  },
  {
   "cell_type": "code",
   "execution_count": 52,
   "id": "attended-platinum",
   "metadata": {},
   "outputs": [],
   "source": [
    "# Dictionary exercise"
   ]
  },
  {
   "cell_type": "code",
   "execution_count": 61,
   "id": "wanted-lightning",
   "metadata": {},
   "outputs": [
    {
     "name": "stdout",
     "output_type": "stream",
     "text": [
      "Please order an item from the menu: soda\n"
     ]
    },
    {
     "data": {
      "text/plain": [
       "2"
      ]
     },
     "execution_count": 61,
     "metadata": {},
     "output_type": "execute_result"
    }
   ],
   "source": [
    "menu = {'sandwich':5, 'chips':3, 'soda':2}\n",
    "order = input('Please order an item from the menu: ')\n",
    "menu['sandwich']\n",
    "menu['chips']\n",
    "menu['soda']\n",
    "\n"
   ]
  },
  {
   "cell_type": "code",
   "execution_count": 56,
   "id": "sapphire-southwest",
   "metadata": {},
   "outputs": [
    {
     "name": "stderr",
     "output_type": "stream",
     "text": [
      "\n",
      "Traceback (most recent call last):\n",
      "  File \"<ipython-input-55>\", line 3, in <module>\n",
      "    menu['sandwich']\n",
      "KeyError: 'sandwich'\n",
      "\n",
      "    A `KeyError` is raised when a value is not found as a\n",
      "    key in a Python dict.\n",
      "    \n",
      "        In your program, the key that cannot be found is `'sandwich'`.\n",
      "        \n",
      "    Exception raised on line 3 of file <ipython-input-55>.\n",
      "    \n",
      "       1: menu = {'sandwdich':5, 'chips':3, 'soda':2}\n",
      "       2: order = input('Please order an item from the menu: ')\n",
      "    -->3: menu['sandwich']\n",
      "\n",
      "            menu: {'sandwdich': 5, 'chips': 3, 'soda': 2}\n",
      "        \n"
     ]
    }
   ],
   "source": [
    "explain()\n"
   ]
  },
  {
   "cell_type": "code",
   "execution_count": 72,
   "id": "great-visibility",
   "metadata": {},
   "outputs": [
    {
     "name": "stdout",
     "output_type": "stream",
     "text": [
      "Please order an item from the menu: chips\n",
      "chips costs 3 dollars\n"
     ]
    }
   ],
   "source": [
    "menu = {'sandwich':5, 'chips':3, 'soda':2}\n",
    "order = input('Please order an item from the menu: ')\n",
    "\n",
    "menu[order]\n",
    "print(f'{order} costs {menu[order]} dollars')\n"
   ]
  },
  {
   "cell_type": "code",
   "execution_count": 75,
   "id": "competent-discharge",
   "metadata": {},
   "outputs": [
    {
     "name": "stdout",
     "output_type": "stream",
     "text": [
      "Order: tea\n",
      "The price of tea is 5.\n"
     ]
    }
   ],
   "source": [
    "#teacher code\n",
    "\n",
    "\n",
    "menu = {'sandwich':10, 'tea':5, 'cake':7, 'apple':2}\n",
    "order = input('Order: ')\n",
    "if order in menu:  # is the user's input *really* a key in our dict?\n",
    "    price = menu[order]\n",
    "    print(f'The price of {order} is {price}.')\n",
    "else:\n",
    "    print(f'We are out of {order} today.')"
   ]
  },
  {
   "cell_type": "code",
   "execution_count": 78,
   "id": "satisfied-retailer",
   "metadata": {},
   "outputs": [
    {
     "name": "stdout",
     "output_type": "stream",
     "text": [
      "Order: steak\n",
      "Sorry, We are out of steak today.\n"
     ]
    }
   ],
   "source": [
    "#teacher code\n",
    "\n",
    "\n",
    "menu = {'sandwich':10, 'tea':5, 'cake':7, 'apple':2}\n",
    "order = input('Order: ')\n",
    "if order in menu:  # is the user's input *really* a key in our dict?\n",
    "    price = menu[order]\n",
    "    print(f'The price of {order} is {price}.')\n",
    "else:\n",
    "    print(f'Sorry, We are out of {order} today.')"
   ]
  },
  {
   "cell_type": "code",
   "execution_count": 79,
   "id": "caroline-elizabeth",
   "metadata": {},
   "outputs": [],
   "source": [
    "# Restaurant menu part 2"
   ]
  },
  {
   "cell_type": "code",
   "execution_count": 2,
   "id": "brown-cotton",
   "metadata": {},
   "outputs": [
    {
     "name": "stdout",
     "output_type": "stream",
     "text": [
      "Order: tea\n",
      "The price of tea is 5, total is 5.\n"
     ]
    },
    {
     "ename": "KeyboardInterrupt",
     "evalue": "Interrupted by user",
     "output_type": "error",
     "traceback": [
      "\u001b[0;31m---------------------------------------------------------------------------\u001b[0m",
      "\u001b[0;31mKeyboardInterrupt\u001b[0m                         Traceback (most recent call last)",
      "\u001b[0;32m<ipython-input-2-8d2a8e71413f>\u001b[0m in \u001b[0;36m<module>\u001b[0;34m\u001b[0m\n\u001b[1;32m      3\u001b[0m \u001b[0;34m\u001b[0m\u001b[0m\n\u001b[1;32m      4\u001b[0m \u001b[0;32mwhile\u001b[0m \u001b[0;32mTrue\u001b[0m\u001b[0;34m:\u001b[0m   \u001b[0;31m#infinite loop asking for an order\u001b[0m\u001b[0;34m\u001b[0m\u001b[0;34m\u001b[0m\u001b[0m\n\u001b[0;32m----> 5\u001b[0;31m     \u001b[0morder\u001b[0m \u001b[0;34m=\u001b[0m \u001b[0minput\u001b[0m\u001b[0;34m(\u001b[0m\u001b[0;34m'Order: '\u001b[0m\u001b[0;34m)\u001b[0m\u001b[0;34m.\u001b[0m\u001b[0mstrip\u001b[0m\u001b[0;34m(\u001b[0m\u001b[0;34m)\u001b[0m\u001b[0;34m\u001b[0m\u001b[0;34m\u001b[0m\u001b[0m\n\u001b[0m\u001b[1;32m      6\u001b[0m     \u001b[0;32mif\u001b[0m \u001b[0morder\u001b[0m \u001b[0;34m==\u001b[0m \u001b[0;34m''\u001b[0m\u001b[0;34m:\u001b[0m   \u001b[0;31m# The empty string?  Get out of the loop!\u001b[0m\u001b[0;34m\u001b[0m\u001b[0;34m\u001b[0m\u001b[0m\n\u001b[1;32m      7\u001b[0m         \u001b[0;32mbreak\u001b[0m\u001b[0;34m\u001b[0m\u001b[0;34m\u001b[0m\u001b[0m\n",
      "\u001b[0;32m/usr/local/lib/python3.8/dist-packages/ipykernel/kernelbase.py\u001b[0m in \u001b[0;36mraw_input\u001b[0;34m(self, prompt)\u001b[0m\n\u001b[1;32m    855\u001b[0m                 \u001b[0;34m\"raw_input was called, but this frontend does not support input requests.\"\u001b[0m\u001b[0;34m\u001b[0m\u001b[0;34m\u001b[0m\u001b[0m\n\u001b[1;32m    856\u001b[0m             )\n\u001b[0;32m--> 857\u001b[0;31m         return self._input_request(str(prompt),\n\u001b[0m\u001b[1;32m    858\u001b[0m             \u001b[0mself\u001b[0m\u001b[0;34m.\u001b[0m\u001b[0m_parent_ident\u001b[0m\u001b[0;34m,\u001b[0m\u001b[0;34m\u001b[0m\u001b[0;34m\u001b[0m\u001b[0m\n\u001b[1;32m    859\u001b[0m             \u001b[0mself\u001b[0m\u001b[0;34m.\u001b[0m\u001b[0m_parent_header\u001b[0m\u001b[0;34m,\u001b[0m\u001b[0;34m\u001b[0m\u001b[0;34m\u001b[0m\u001b[0m\n",
      "\u001b[0;32m/usr/local/lib/python3.8/dist-packages/ipykernel/kernelbase.py\u001b[0m in \u001b[0;36m_input_request\u001b[0;34m(self, prompt, ident, parent, password)\u001b[0m\n\u001b[1;32m    899\u001b[0m             \u001b[0;32mexcept\u001b[0m \u001b[0mKeyboardInterrupt\u001b[0m\u001b[0;34m:\u001b[0m\u001b[0;34m\u001b[0m\u001b[0;34m\u001b[0m\u001b[0m\n\u001b[1;32m    900\u001b[0m                 \u001b[0;31m# re-raise KeyboardInterrupt, to truncate traceback\u001b[0m\u001b[0;34m\u001b[0m\u001b[0;34m\u001b[0m\u001b[0;34m\u001b[0m\u001b[0m\n\u001b[0;32m--> 901\u001b[0;31m                 \u001b[0;32mraise\u001b[0m \u001b[0mKeyboardInterrupt\u001b[0m\u001b[0;34m(\u001b[0m\u001b[0;34m\"Interrupted by user\"\u001b[0m\u001b[0;34m)\u001b[0m \u001b[0;32mfrom\u001b[0m \u001b[0;32mNone\u001b[0m\u001b[0;34m\u001b[0m\u001b[0;34m\u001b[0m\u001b[0m\n\u001b[0m\u001b[1;32m    902\u001b[0m             \u001b[0;32mexcept\u001b[0m \u001b[0mException\u001b[0m \u001b[0;32mas\u001b[0m \u001b[0me\u001b[0m\u001b[0;34m:\u001b[0m\u001b[0;34m\u001b[0m\u001b[0;34m\u001b[0m\u001b[0m\n\u001b[1;32m    903\u001b[0m                 \u001b[0mself\u001b[0m\u001b[0;34m.\u001b[0m\u001b[0mlog\u001b[0m\u001b[0;34m.\u001b[0m\u001b[0mwarning\u001b[0m\u001b[0;34m(\u001b[0m\u001b[0;34m\"Invalid Message:\"\u001b[0m\u001b[0;34m,\u001b[0m \u001b[0mexc_info\u001b[0m\u001b[0;34m=\u001b[0m\u001b[0;32mTrue\u001b[0m\u001b[0;34m)\u001b[0m\u001b[0;34m\u001b[0m\u001b[0;34m\u001b[0m\u001b[0m\n",
      "\u001b[0;31mKeyboardInterrupt\u001b[0m: Interrupted by user"
     ]
    }
   ],
   "source": [
    "menu = {'sandwich':10, 'tea':5, 'cake':7, 'apple':2}\n",
    "total = [0]\n",
    "\n",
    "while True:   #infinite loop asking for an order\n",
    "    order = input('Order: ').strip()\n",
    "    if order == '':   # The empty string?  Get out of the loop!\n",
    "        break\n",
    "\n",
    "\n",
    "    if order in menu:  # is the user's input *really* a key in our dict?\n",
    "        price = menu[order]\n",
    "        total.append(order)\n",
    "        print(f'The price of {order} is {price}, total is {price}.')\n",
    "    else:\n",
    "        print(f'Sorry, We are out of {order} today.')\n",
    "    \n",
    "\n",
    "\n",
    "\n",
    "    "
   ]
  },
  {
   "cell_type": "code",
   "execution_count": 2,
   "id": "circular-origin",
   "metadata": {},
   "outputs": [
    {
     "name": "stdout",
     "output_type": "stream",
     "text": [
      "Order: tea\n",
      "The price of tea is 5.\n",
      "Order: cake\n",
      "The price of cake is 7.\n",
      "Order: apple\n",
      "The price of apple is 2.\n",
      "Order: \n",
      "[0, 5, 7, 2]\n"
     ]
    }
   ],
   "source": [
    "\n",
    "# (1) create the total variable, set to 0\n",
    "total = [0]\n",
    "\n",
    "menu = {'sandwich':10, 'tea':5, 'cake':7, 'apple':2}\n",
    "\n",
    "while True:  # (2) infinite loop asking for an order\n",
    "    order = input('Order: ')\n",
    "    if order == '':   # The empty string?  Get out of the loop!\n",
    "        break\n",
    "        \n",
    "    # (3) is the order an empty string? If so, then exit the loop\n",
    "    \n",
    "    if order in menu: \n",
    "        price = menu[order]\n",
    "        print(f'The price of {order} is {price}.')\n",
    "        # (4) add the price to the total\n",
    "        total.append(price)\n",
    "        \n",
    "    else:\n",
    "        print(f'We are out of {order} today.')\n",
    "        \n",
    "# (5) print the total\n",
    "print(f'{total}')"
   ]
  },
  {
   "cell_type": "code",
   "execution_count": null,
   "id": "deluxe-twelve",
   "metadata": {},
   "outputs": [],
   "source": [
    "# Exercise: Restaurant menu, part 2\n",
    "1. Define a variable, `total`, to be 0.\n",
    "2. Modify the existing code, so that we ask the user repeatedly what they want ot order.\n",
    "    - This means: Use a `while` loop!\n",
    "3. If the user enters an empty string, then `break` from the loop.\n",
    "4. If the user enters something on the menu, then assign `price` the price of the item (from the dict), update `total`, and print the price and new total.\n",
    "5. If the user enters something not on the menu, then say we're out of it today.\n",
    "6. At the end, print the total.\n",
    "Remember:\n",
    "- We can ask repeatedly with `while True`, so long as we also have a way to `break` from the loop\n",
    "Example:\n",
    "    Order: sandwich\n",
    "    sandwich is 10, total is 10\n",
    "    Order: tea\n",
    "    tea is 5, total is 15\n",
    "    Order: elephant\n",
    "    We're out of elephant today\n",
    "    Order: [ENTER]\n",
    "    Your total is 15"
   ]
  }
 ],
 "metadata": {
  "kernelspec": {
   "display_name": "Python 3",
   "language": "python",
   "name": "python3"
  },
  "language_info": {
   "codemirror_mode": {
    "name": "ipython",
    "version": 3
   },
   "file_extension": ".py",
   "mimetype": "text/x-python",
   "name": "python",
   "nbconvert_exporter": "python",
   "pygments_lexer": "ipython3",
   "version": "3.8.6"
  }
 },
 "nbformat": 4,
 "nbformat_minor": 5
}
