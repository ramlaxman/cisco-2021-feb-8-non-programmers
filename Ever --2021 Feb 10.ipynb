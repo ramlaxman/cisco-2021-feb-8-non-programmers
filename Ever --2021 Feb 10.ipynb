{
 "cells": [
  {
   "cell_type": "code",
   "execution_count": 1,
   "id": "equivalent-construction",
   "metadata": {},
   "outputs": [],
   "source": [
    "# Pig Latin Sentence"
   ]
  },
  {
   "cell_type": "code",
   "execution_count": 15,
   "id": "loaded-nicholas",
   "metadata": {},
   "outputs": [
    {
     "name": "stdout",
     "output_type": "stream",
     "text": [
      "Enter a sentence: aaa bbbb\n",
      "aaa\n",
      "bbbb\n",
      "bbbbay\n"
     ]
    }
   ],
   "source": [
    "sentence = input('Enter a sentence: ')\n",
    "words = sentence.split()   # no argument means: any whitespace is a separator\n",
    "\n",
    "for one_word in words:\n",
    "    print(one_word)\n",
    "\n",
    "\n",
    "if one_word[0] in 'aeiou':\n",
    "    print(words + 'way')\n",
    "else:\n",
    "    print(one_word[1:] + one_word[0] + 'ay')"
   ]
  },
  {
   "cell_type": "code",
   "execution_count": null,
   "id": "external-college",
   "metadata": {},
   "outputs": [],
   "source": []
  }
 ],
 "metadata": {
  "kernelspec": {
   "display_name": "Python 3",
   "language": "python",
   "name": "python3"
  },
  "language_info": {
   "codemirror_mode": {
    "name": "ipython",
    "version": 3
   },
   "file_extension": ".py",
   "mimetype": "text/x-python",
   "name": "python",
   "nbconvert_exporter": "python",
   "pygments_lexer": "ipython3",
   "version": "3.8.6"
  }
 },
 "nbformat": 4,
 "nbformat_minor": 5
}
