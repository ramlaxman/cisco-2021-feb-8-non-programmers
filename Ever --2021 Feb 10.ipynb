{
 "cells": [
  {
   "cell_type": "code",
   "execution_count": 1,
   "id": "continuing-console",
   "metadata": {},
   "outputs": [],
   "source": [
    "# Pig Latin Sentence"
   ]
  },
  {
   "cell_type": "code",
   "execution_count": 25,
   "id": "viral-victoria",
   "metadata": {},
   "outputs": [
    {
     "name": "stdout",
     "output_type": "stream",
     "text": [
      "Enter a sentence: this programming exercise is really good for us\n",
      "histay\n",
      "rogrammingpay\n",
      "exerciseway\n",
      "isway\n",
      "eallyray\n",
      "oodgay\n",
      "orfay\n",
      "usway\n"
     ]
    }
   ],
   "source": [
    "sentence = input('Enter a sentence: ')\n",
    "words = sentence.split()   # no argument means: any whitespace is a separator\n",
    "\n",
    "for word in words:  # set variable of 'word' and check in 'words' for:\n",
    "\n",
    "    if word[0] in 'aeiou':\n",
    "        print(word + 'way')\n",
    "    else:\n",
    "        print(word[1:] + word[0] + 'ay')\n"
   ]
  },
  {
   "cell_type": "code",
   "execution_count": 21,
   "id": "dated-chamber",
   "metadata": {},
   "outputs": [
    {
     "name": "stdout",
     "output_type": "stream",
     "text": [
      "Friendly-traceback installed.\n"
     ]
    }
   ],
   "source": [
    "from friendly_traceback.ipython import *\n"
   ]
  },
  {
   "cell_type": "code",
   "execution_count": 42,
   "id": "romantic-being",
   "metadata": {},
   "outputs": [
    {
     "name": "stdout",
     "output_type": "stream",
     "text": [
      "Enter a sentence: this is a test\n",
      "['isway', 'siay', 'away', 'aay']\n"
     ]
    }
   ],
   "source": [
    "output = []\n",
    "\n",
    "sentence = input('Enter a sentence: ')\n",
    "words = sentence.split()   # no argument means: any whitespace is a separator\n",
    "\n",
    "\n",
    "for word in words:  # set variable of 'word' and check in 'words' for:\n",
    "\n",
    "    if word[0] in 'aeiou':\n",
    "        #print(word + 'way')\n",
    "        output.append(word + 'way')\n",
    "    #else:\n",
    "        #print(word[1:] + word[0] + 'ay')\n",
    "        output.append(word[1:] + word[0] + 'ay')\n",
    "        \n",
    "print(output)\n",
    "\n"
   ]
  },
  {
   "cell_type": "code",
   "execution_count": 50,
   "id": "angry-founder",
   "metadata": {},
   "outputs": [
    {
     "name": "stdout",
     "output_type": "stream",
     "text": [
      "Enter a sentence: the last change may work\n",
      "hetay astlay hangecay aymay orkway\n"
     ]
    }
   ],
   "source": [
    "output = []\n",
    "sentence = input('Enter a sentence: ')\n",
    "\n",
    "words = sentence.split()   # no argument means: any whitespace is a separator\n",
    "for word in words:         # set variable of 'word' and check in 'words' for:\n",
    "    if word[0] in 'aeiou':\n",
    "        output.append(word + 'way') \n",
    "    else:\n",
    "        output.append(word[1:] + word[0] + 'ay') \n",
    "        \n",
    "str(output)           # convert List to Sting\n",
    "s = ' '.join(output)  # assing 'join' to a variable\n",
    "print(s)              # display that variable"
   ]
  },
  {
   "cell_type": "code",
   "execution_count": 51,
   "id": "focused-procurement",
   "metadata": {},
   "outputs": [
    {
     "name": "stdout",
     "output_type": "stream",
     "text": [
      "Enter a sentence: this is working fine!\n",
      "histay isway orkingway ine!fay\n"
     ]
    }
   ],
   "source": [
    "output = []\n",
    "sentence = input('Enter a sentence: ')\n",
    "\n",
    "words = sentence.split()   # no argument means: any whitespace is a separator\n",
    "for word in words:         # set variable of 'word' and check in 'words' for:\n",
    "    if word[0] in 'aeiou':\n",
    "        output.append(word + 'way') \n",
    "    else:\n",
    "        output.append(word[1:] + word[0] + 'ay') \n",
    "        \n",
    "str(output)           # convert List to Sting\n",
    "s = ' '.join(output)  # assing 'join' to a variable\n",
    "print(s)              # display that variable"
   ]
  },
  {
   "cell_type": "code",
   "execution_count": 52,
   "id": "coordinate-bulletin",
   "metadata": {},
   "outputs": [],
   "source": [
    "# Dictionary exercise"
   ]
  },
  {
   "cell_type": "code",
   "execution_count": 61,
   "id": "overhead-flush",
   "metadata": {},
   "outputs": [
    {
     "name": "stdout",
     "output_type": "stream",
     "text": [
      "Please order an item from the menu: soda\n"
     ]
    },
    {
     "data": {
      "text/plain": [
       "2"
      ]
     },
     "execution_count": 61,
     "metadata": {},
     "output_type": "execute_result"
    }
   ],
   "source": [
    "menu = {'sandwich':5, 'chips':3, 'soda':2}\n",
    "order = input('Please order an item from the menu: ')\n",
    "menu['sandwich']\n",
    "menu['chips']\n",
    "menu['soda']\n",
    "\n"
   ]
  },
  {
   "cell_type": "code",
   "execution_count": 56,
   "id": "fatty-savannah",
   "metadata": {},
   "outputs": [
    {
     "name": "stderr",
     "output_type": "stream",
     "text": [
      "\n",
      "Traceback (most recent call last):\n",
      "  File \"<ipython-input-55>\", line 3, in <module>\n",
      "    menu['sandwich']\n",
      "KeyError: 'sandwich'\n",
      "\n",
      "    A `KeyError` is raised when a value is not found as a\n",
      "    key in a Python dict.\n",
      "    \n",
      "        In your program, the key that cannot be found is `'sandwich'`.\n",
      "        \n",
      "    Exception raised on line 3 of file <ipython-input-55>.\n",
      "    \n",
      "       1: menu = {'sandwdich':5, 'chips':3, 'soda':2}\n",
      "       2: order = input('Please order an item from the menu: ')\n",
      "    -->3: menu['sandwich']\n",
      "\n",
      "            menu: {'sandwdich': 5, 'chips': 3, 'soda': 2}\n",
      "        \n"
     ]
    }
   ],
   "source": [
    "explain()\n"
   ]
  },
  {
   "cell_type": "code",
   "execution_count": 72,
   "id": "attractive-discharge",
   "metadata": {},
   "outputs": [
    {
     "name": "stdout",
     "output_type": "stream",
     "text": [
      "Please order an item from the menu: chips\n",
      "chips costs 3 dollars\n"
     ]
    }
   ],
   "source": [
    "menu = {'sandwich':5, 'chips':3, 'soda':2}\n",
    "order = input('Please order an item from the menu: ')\n",
    "\n",
    "menu[order]\n",
    "print(f'{order} costs {menu[order]} dollars')\n"
   ]
  },
  {
   "cell_type": "code",
   "execution_count": null,
   "id": "unknown-america",
   "metadata": {},
   "outputs": [],
   "source": [
    "menu = {'sandwich':5, 'chips':3, 'soda':2}\n",
    "order = input('Please order an item from the menu: ')\n",
    "\n",
    "price = menu[order]\n",
    "print"
   ]
  }
 ],
 "metadata": {
  "kernelspec": {
   "display_name": "Python 3",
   "language": "python",
   "name": "python3"
  },
  "language_info": {
   "codemirror_mode": {
    "name": "ipython",
    "version": 3
   },
   "file_extension": ".py",
   "mimetype": "text/x-python",
   "name": "python",
   "nbconvert_exporter": "python",
   "pygments_lexer": "ipython3",
   "version": "3.8.6"
  }
 },
 "nbformat": 4,
 "nbformat_minor": 5
}
