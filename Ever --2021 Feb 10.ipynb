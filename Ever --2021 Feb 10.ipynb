{
 "cells": [
  {
   "cell_type": "code",
   "execution_count": 1,
   "id": "hollow-mystery",
   "metadata": {},
   "outputs": [],
   "source": [
    "# Pig Latin Sentence"
   ]
  },
  {
   "cell_type": "code",
   "execution_count": 25,
   "id": "pursuant-haiti",
   "metadata": {},
   "outputs": [
    {
     "name": "stdout",
     "output_type": "stream",
     "text": [
      "Enter a sentence: this programming exercise is really good for us\n",
      "histay\n",
      "rogrammingpay\n",
      "exerciseway\n",
      "isway\n",
      "eallyray\n",
      "oodgay\n",
      "orfay\n",
      "usway\n"
     ]
    }
   ],
   "source": [
    "sentence = input('Enter a sentence: ')\n",
    "words = sentence.split()   # no argument means: any whitespace is a separator\n",
    "\n",
    "for word in words:  # set variable of 'word' and check in 'words' for:\n",
    "\n",
    "    if word[0] in 'aeiou':\n",
    "        print(word + 'way')\n",
    "    else:\n",
    "        print(word[1:] + word[0] + 'ay')\n"
   ]
  },
  {
   "cell_type": "code",
   "execution_count": 21,
   "id": "liked-civilian",
   "metadata": {},
   "outputs": [
    {
     "name": "stdout",
     "output_type": "stream",
     "text": [
      "Friendly-traceback installed.\n"
     ]
    }
   ],
   "source": [
    "from friendly_traceback.ipython import *\n"
   ]
  },
  {
   "cell_type": "code",
   "execution_count": 42,
   "id": "professional-jewelry",
   "metadata": {},
   "outputs": [
    {
     "name": "stdout",
     "output_type": "stream",
     "text": [
      "Enter a sentence: this is a test\n",
      "['isway', 'siay', 'away', 'aay']\n"
     ]
    }
   ],
   "source": [
    "output = []\n",
    "\n",
    "sentence = input('Enter a sentence: ')\n",
    "words = sentence.split()   # no argument means: any whitespace is a separator\n",
    "\n",
    "\n",
    "for word in words:  # set variable of 'word' and check in 'words' for:\n",
    "\n",
    "    if word[0] in 'aeiou':\n",
    "        #print(word + 'way')\n",
    "        output.append(word + 'way')\n",
    "    #else:\n",
    "        #print(word[1:] + word[0] + 'ay')\n",
    "        output.append(word[1:] + word[0] + 'ay')\n",
    "        \n",
    "print(output)\n",
    "\n"
   ]
  },
  {
   "cell_type": "code",
   "execution_count": 50,
   "id": "democratic-onion",
   "metadata": {},
   "outputs": [
    {
     "name": "stdout",
     "output_type": "stream",
     "text": [
      "Enter a sentence: the last change may work\n",
      "hetay astlay hangecay aymay orkway\n"
     ]
    }
   ],
   "source": [
    "output = []\n",
    "sentence = input('Enter a sentence: ')\n",
    "\n",
    "words = sentence.split()   # no argument means: any whitespace is a separator\n",
    "for word in words:         # set variable of 'word' and check in 'words' for:\n",
    "    if word[0] in 'aeiou':\n",
    "        output.append(word + 'way') \n",
    "    else:\n",
    "        output.append(word[1:] + word[0] + 'ay') \n",
    "        \n",
    "str(output)           # convert List to Sting\n",
    "s = ' '.join(output)  # assing 'join' to a variable\n",
    "print(s)              # display that variable"
   ]
  },
  {
   "cell_type": "code",
   "execution_count": 51,
   "id": "vulnerable-victory",
   "metadata": {},
   "outputs": [
    {
     "name": "stdout",
     "output_type": "stream",
     "text": [
      "Enter a sentence: this is working fine!\n",
      "histay isway orkingway ine!fay\n"
     ]
    }
   ],
   "source": [
    "output = []\n",
    "sentence = input('Enter a sentence: ')\n",
    "\n",
    "words = sentence.split()   # no argument means: any whitespace is a separator\n",
    "for word in words:         # set variable of 'word' and check in 'words' for:\n",
    "    if word[0] in 'aeiou':\n",
    "        output.append(word + 'way') \n",
    "    else:\n",
    "        output.append(word[1:] + word[0] + 'ay') \n",
    "        \n",
    "str(output)           # convert List to Sting\n",
    "s = ' '.join(output)  # assing 'join' to a variable\n",
    "print(s)              # display that variable"
   ]
  },
  {
   "cell_type": "code",
   "execution_count": 52,
   "id": "indoor-jurisdiction",
   "metadata": {},
   "outputs": [],
   "source": [
    "# Dictionary exercise"
   ]
  },
  {
   "cell_type": "code",
   "execution_count": null,
   "id": "respiratory-bernard",
   "metadata": {},
   "outputs": [],
   "source": [
    "menu = {'sandwdich':5, 'chips':3, 'soda':2, }"
   ]
  }
 ],
 "metadata": {
  "kernelspec": {
   "display_name": "Python 3",
   "language": "python",
   "name": "python3"
  },
  "language_info": {
   "codemirror_mode": {
    "name": "ipython",
    "version": 3
   },
   "file_extension": ".py",
   "mimetype": "text/x-python",
   "name": "python",
   "nbconvert_exporter": "python",
   "pygments_lexer": "ipython3",
   "version": "3.8.6"
  }
 },
 "nbformat": 4,
 "nbformat_minor": 5
}
