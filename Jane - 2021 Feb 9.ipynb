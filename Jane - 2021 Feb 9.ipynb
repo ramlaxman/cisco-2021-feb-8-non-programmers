{
 "cells": [
  {
   "cell_type": "code",
   "execution_count": 1,
   "id": "global-volume",
   "metadata": {},
   "outputs": [
    {
     "ename": "NameError",
     "evalue": "name 'explain' is not defined",
     "output_type": "error",
     "traceback": [
      "\u001b[0;31m---------------------------------------------------------------------------\u001b[0m",
      "\u001b[0;31mNameError\u001b[0m                                 Traceback (most recent call last)",
      "\u001b[0;32m<ipython-input-1-edee1e234237>\u001b[0m in \u001b[0;36m<module>\u001b[0;34m\u001b[0m\n\u001b[0;32m----> 1\u001b[0;31m \u001b[0mexplain\u001b[0m\u001b[0;34m(\u001b[0m\u001b[0;34m)\u001b[0m\u001b[0;34m\u001b[0m\u001b[0;34m\u001b[0m\u001b[0m\n\u001b[0m",
      "\u001b[0;31mNameError\u001b[0m: name 'explain' is not defined"
     ]
    }
   ],
   "source": [
    "explain()"
   ]
  },
  {
   "cell_type": "code",
   "execution_count": 2,
   "id": "moral-portsmouth",
   "metadata": {},
   "outputs": [
    {
     "data": {
      "text/plain": [
       "3"
      ]
     },
     "execution_count": 2,
     "metadata": {},
     "output_type": "execute_result"
    }
   ],
   "source": [
    "1+2"
   ]
  },
  {
   "cell_type": "code",
   "execution_count": null,
   "id": "challenging-blowing",
   "metadata": {},
   "outputs": [],
   "source": [
    "# Setup\n",
    "birthyear = input('Enter birth year: ')\n",
    "birthday = input('Enter birthday to calculate year for: ')\n",
    "birthyear = int(birthyear)\n",
    "birthday = int(birthday)\n",
    "\n",
    "# Calculation + report\n",
    "\n",
    "if birthday < 0:\n",
    "    print(f'{birthday} is not a legit birthday')\n",
    "if birthday > 100:\n",
    "    print(f'Congrats on reaching your {birthday} birthday!')\n",
    "\n",
    "print(f'You were born in {birthyear}, so your {birthday} birthday will be in {birthyear+birthday}!')"
   ]
  },
  {
   "cell_type": "code",
   "execution_count": 25,
   "id": "dutch-cabin",
   "metadata": {},
   "outputs": [
    {
     "name": "stdout",
     "output_type": "stream",
     "text": [
      "Enter an English word: apple\n",
      "appleway\n"
     ]
    }
   ],
   "source": [
    "word = input('Enter an English word: ')\n",
    "if word[0] == 'a' or 'e' or 'i' or 'o' or 'u':\n",
    "    print(f'{word}'+'way')\n",
    "else:\n",
    "    print(f'{word}'+)\n",
    "          "
   ]
  },
  {
   "cell_type": "code",
   "execution_count": 33,
   "id": "cognitive-gossip",
   "metadata": {},
   "outputs": [
    {
     "name": "stdout",
     "output_type": "stream",
     "text": [
      "Enter an English word (all lowercase, no punctuation, no spaces): table\n",
      "ableay\n"
     ]
    }
   ],
   "source": [
    "word = input('Enter an English word (all lowercase, no punctuation, no spaces): ')\n",
    "if word[0] in 'aeiou':\n",
    "    print(f'{word}'+'way')\n",
    "else:\n",
    "    print(f'{word[1:]}'+'ay')"
   ]
  },
  {
   "cell_type": "code",
   "execution_count": 37,
   "id": "oriented-james",
   "metadata": {},
   "outputs": [
    {
     "name": "stdout",
     "output_type": "stream",
     "text": [
      "Enter an English word (all lowercase, no punctuation, no spaces): computer\n",
      "omputercay\n"
     ]
    }
   ],
   "source": [
    "word = input('Enter an English word (all lowercase, no punctuation, no spaces): ')\n",
    "if word[0] in 'aeiou':\n",
    "    print(word +'way')\n",
    "else:\n",
    "    print(word[1:]+ word[0] +'ay')"
   ]
  },
  {
   "cell_type": "code",
   "execution_count": null,
   "id": "palestinian-stuff",
   "metadata": {},
   "outputs": [],
   "source": [
    "1+2"
   ]
  },
  {
   "cell_type": "code",
   "execution_count": null,
   "id": "disturbed-composition",
   "metadata": {},
   "outputs": [],
   "source": [
    "1+2"
   ]
  },
  {
   "cell_type": "code",
   "execution_count": null,
   "id": "hollow-listing",
   "metadata": {},
   "outputs": [],
   "source": [
    "1+2"
   ]
  },
  {
   "cell_type": "code",
   "execution_count": 60,
   "id": "defensive-guidance",
   "metadata": {},
   "outputs": [
    {
     "name": "stdout",
     "output_type": "stream",
     "text": [
      "Enter the first number: 10\n",
      "Enter the second number: abs\n",
      "abs is not a number\n"
     ]
    }
   ],
   "source": [
    "first = input('Enter the first number: ')\n",
    "second = input('Enter the second number: ')\n",
    "\n",
    "first.isdigit()\n",
    "second.isdigit()\n",
    "\n",
    "if first.isdigit() and second.isdigit() == True:\n",
    "    print(int(first)+int(second))\n",
    "elif first.isdigit() == False:\n",
    "    print(f'{first} is not a number')\n",
    "else:\n",
    "    print(f'{second} is not a number')\n",
    "\n",
    "    \n",
    "\n"
   ]
  },
  {
   "cell_type": "code",
   "execution_count": 62,
   "id": "honest-porter",
   "metadata": {},
   "outputs": [
    {
     "name": "stdout",
     "output_type": "stream",
     "text": [
      "Enter the first number: 10\n",
      "Enter the second number: abs\n",
      "abs is not numberic\n"
     ]
    }
   ],
   "source": [
    "first = input('Enter the first number: ')\n",
    "second = input('Enter the second number: ')\n",
    "\n",
    "first.isdigit()\n",
    "second.isdigit()\n",
    "\n",
    "if first.isdigit() and second.isdigit():\n",
    "    first = int(first)\n",
    "    second = int(second)\n",
    "    print(f'{first}+{second} = {first+second}')\n",
    "else:\n",
    "    if not first.isdigit():\n",
    "        print(f'{first} is not numberic')\n",
    "    if not second.isdigit():\n",
    "        print(f'{second} is not numberic')"
   ]
  },
  {
   "cell_type": "code",
   "execution_count": 63,
   "id": "pursuant-vinyl",
   "metadata": {},
   "outputs": [
    {
     "name": "stdout",
     "output_type": "stream",
     "text": [
      "Enter a string: apple\n",
      "a\n",
      "p\n",
      "p\n",
      "l\n",
      "e\n"
     ]
    }
   ],
   "source": [
    "# Setup\n",
    "vowels = 0\n",
    "digits = 0\n",
    "others = 0\n",
    "\n",
    "# Calculation\n",
    "s = input('Enter a string: ').strip()\n",
    "for one_character in s:\n",
    "    print(f'{one_character} is a vowel')\n",
    "    elif one_character.isdigit(): "
   ]
  },
  {
   "cell_type": "code",
   "execution_count": 64,
   "id": "natural-kruger",
   "metadata": {},
   "outputs": [],
   "source": [
    "total = 0\n",
    "while True:\n",
    "    s = input('Enter a string: ')\n",
    "    if s == '':   # The empty string?  Get out of the loop!\n",
    "        break   \n",
    "    if s.isdigit():\n",
    "        s = int(s)\n",
    "        print('')\n"
   ]
  },
  {
   "cell_type": "code",
   "execution_count": null,
   "id": "unusual-buffer",
   "metadata": {},
   "outputs": [],
   "source": []
  }
 ],
 "metadata": {
  "kernelspec": {
   "display_name": "Python 3",
   "language": "python",
   "name": "python3"
  }
 },
 "nbformat": 4,
 "nbformat_minor": 5
}
