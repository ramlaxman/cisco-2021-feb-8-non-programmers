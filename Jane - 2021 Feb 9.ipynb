{
 "cells": [
  {
   "cell_type": "code",
   "execution_count": 1,
   "id": "global-volume",
   "metadata": {},
   "outputs": [
    {
     "ename": "NameError",
     "evalue": "name 'explain' is not defined",
     "output_type": "error",
     "traceback": [
      "\u001b[0;31m---------------------------------------------------------------------------\u001b[0m",
      "\u001b[0;31mNameError\u001b[0m                                 Traceback (most recent call last)",
      "\u001b[0;32m<ipython-input-1-edee1e234237>\u001b[0m in \u001b[0;36m<module>\u001b[0;34m\u001b[0m\n\u001b[0;32m----> 1\u001b[0;31m \u001b[0mexplain\u001b[0m\u001b[0;34m(\u001b[0m\u001b[0;34m)\u001b[0m\u001b[0;34m\u001b[0m\u001b[0;34m\u001b[0m\u001b[0m\n\u001b[0m",
      "\u001b[0;31mNameError\u001b[0m: name 'explain' is not defined"
     ]
    }
   ],
   "source": [
    "explain()"
   ]
  },
  {
   "cell_type": "code",
   "execution_count": 2,
   "id": "moral-portsmouth",
   "metadata": {},
   "outputs": [
    {
     "data": {
      "text/plain": [
       "3"
      ]
     },
     "execution_count": 2,
     "metadata": {},
     "output_type": "execute_result"
    }
   ],
   "source": [
    "1+2"
   ]
  },
  {
   "cell_type": "code",
   "execution_count": null,
   "id": "challenging-blowing",
   "metadata": {},
   "outputs": [],
   "source": [
    "# Setup\n",
    "birthyear = input('Enter birth year: ')\n",
    "birthday = input('Enter birthday to calculate year for: ')\n",
    "birthyear = int(birthyear)\n",
    "birthday = int(birthday)\n",
    "\n",
    "# Calculation + report\n",
    "\n",
    "if birthday < 0:\n",
    "    print(f'{birthday} is not a legit birthday')\n",
    "if birthday > 100:\n",
    "    print(f'Congrats on reaching your {birthday} birthday!')\n",
    "\n",
    "print(f'You were born in {birthyear}, so your {birthday} birthday will be in {birthyear+birthday}!')"
   ]
  },
  {
   "cell_type": "code",
   "execution_count": 25,
   "id": "dutch-cabin",
   "metadata": {},
   "outputs": [
    {
     "name": "stdout",
     "output_type": "stream",
     "text": [
      "Enter an English word: apple\n",
      "appleway\n"
     ]
    }
   ],
   "source": [
    "word = input('Enter an English word: ')\n",
    "if word[0] == 'a' or 'e' or 'i' or 'o' or 'u':\n",
    "    print(f'{word}'+'way')\n",
    "else:\n",
    "    print(f'{word}'+)\n",
    "          "
   ]
  },
  {
   "cell_type": "code",
   "execution_count": 33,
   "id": "cognitive-gossip",
   "metadata": {},
   "outputs": [
    {
     "name": "stdout",
     "output_type": "stream",
     "text": [
      "Enter an English word (all lowercase, no punctuation, no spaces): table\n",
      "ableay\n"
     ]
    }
   ],
   "source": [
    "word = input('Enter an English word (all lowercase, no punctuation, no spaces): ')\n",
    "if word[0] in 'aeiou':\n",
    "    print(f'{word}'+'way')\n",
    "else:\n",
    "    print(f'{word[1:]}'+'ay')"
   ]
  },
  {
   "cell_type": "code",
   "execution_count": 37,
   "id": "oriented-james",
   "metadata": {},
   "outputs": [
    {
     "name": "stdout",
     "output_type": "stream",
     "text": [
      "Enter an English word (all lowercase, no punctuation, no spaces): computer\n",
      "omputercay\n"
     ]
    }
   ],
   "source": [
    "word = input('Enter an English word (all lowercase, no punctuation, no spaces): ')\n",
    "if word[0] in 'aeiou':\n",
    "    print(word +'way')\n",
    "else:\n",
    "    print(word[1:]+ word[0] +'ay')"
   ]
  },
  {
   "cell_type": "code",
   "execution_count": null,
   "id": "palestinian-stuff",
   "metadata": {},
   "outputs": [],
   "source": [
    "1+2"
   ]
  },
  {
   "cell_type": "code",
   "execution_count": null,
   "id": "related-marine",
   "metadata": {},
   "outputs": [],
   "source": [
    "1+2"
   ]
  },
  {
   "cell_type": "code",
   "execution_count": null,
   "id": "accomplished-selling",
   "metadata": {},
   "outputs": [],
   "source": [
    "1+2"
   ]
  },
  {
   "cell_type": "code",
   "execution_count": 60,
   "id": "vocational-michigan",
   "metadata": {},
   "outputs": [
    {
     "name": "stdout",
     "output_type": "stream",
     "text": [
      "Enter the first number: 10\n",
      "Enter the second number: abs\n",
      "abs is not a number\n"
     ]
    }
   ],
   "source": [
    "first = input('Enter the first number: ')\n",
    "second = input('Enter the second number: ')\n",
    "\n",
    "first.isdigit()\n",
    "second.isdigit()\n",
    "\n",
    "if first.isdigit() and second.isdigit() == True:\n",
    "    print(int(first)+int(second))\n",
    "elif first.isdigit() == False:\n",
    "    print(f'{first} is not a number')\n",
    "else:\n",
    "    print(f'{second} is not a number')\n",
    "\n",
    "    \n",
    "\n"
   ]
  },
  {
   "cell_type": "code",
   "execution_count": 62,
   "id": "absolute-command",
   "metadata": {},
   "outputs": [
    {
     "name": "stdout",
     "output_type": "stream",
     "text": [
      "Enter the first number: 10\n",
      "Enter the second number: abs\n",
      "abs is not numberic\n"
     ]
    }
   ],
   "source": [
    "first = input('Enter the first number: ')\n",
    "second = input('Enter the second number: ')\n",
    "\n",
    "first.isdigit()\n",
    "second.isdigit()\n",
    "\n",
    "if first.isdigit() and second.isdigit():\n",
    "    first = int(first)\n",
    "    second = int(second)\n",
    "    print(f'{first}+{second} = {first+second}')\n",
    "else:\n",
    "    if not first.isdigit():\n",
    "        print(f'{first} is not numberic')\n",
    "    if not second.isdigit():\n",
    "        print(f'{second} is not numberic')"
   ]
  },
  {
   "cell_type": "code",
   "execution_count": 71,
   "id": "criminal-backing",
   "metadata": {},
   "outputs": [
    {
     "name": "stdout",
     "output_type": "stream",
     "text": [
      "Enter a string: hello 123\n",
      "h is something else\n",
      "e is a vowel\n",
      "l is something else\n",
      "l is something else\n",
      "o is a vowel\n",
      "  is something else\n",
      "1 is a digit\n",
      "2 is a digit\n",
      "3 is a digit\n",
      "vowels = 2\n",
      "digits = 3\n",
      "others = 4\n"
     ]
    }
   ],
   "source": [
    "# Setup\n",
    "vowels = 0\n",
    "digits = 0\n",
    "others = 0\n",
    "\n",
    "# Calculation\n",
    "s = input('Enter a string: ').strip()\n",
    "for one_character in s:\n",
    "    if one_character in 'aeiou':\n",
    "        print(f'{one_character} is a vowel')\n",
    "        vowels += 1\n",
    "    elif one_character.isdigit():\n",
    "        print(f'{one_character} is a digit')\n",
    "        digits += 1\n",
    "    else:\n",
    "        print(f'{one_character} is something else')\n",
    "        others += 1\n",
    "# Report\n",
    "print(f'vowels = {vowels}')\n",
    "print(f'digits = {digits}')\n",
    "print(f'others = {others}')\n",
    "   "
   ]
  },
  {
   "cell_type": "code",
   "execution_count": 68,
   "id": "multiple-antique",
   "metadata": {},
   "outputs": [
    {
     "name": "stdout",
     "output_type": "stream",
     "text": [
      "Enter a string: ball\n",
      "ball is not a number!\n"
     ]
    },
    {
     "ename": "KeyboardInterrupt",
     "evalue": "Interrupted by user",
     "output_type": "error",
     "traceback": [
      "\u001b[0;31m---------------------------------------------------------------------------\u001b[0m",
      "\u001b[0;31mKeyboardInterrupt\u001b[0m                         Traceback (most recent call last)",
      "\u001b[0;32m<ipython-input-68-bf911c69784e>\u001b[0m in \u001b[0;36m<module>\u001b[0;34m\u001b[0m\n\u001b[1;32m      1\u001b[0m \u001b[0mtotal\u001b[0m \u001b[0;34m=\u001b[0m \u001b[0;36m0\u001b[0m\u001b[0;34m\u001b[0m\u001b[0;34m\u001b[0m\u001b[0m\n\u001b[1;32m      2\u001b[0m \u001b[0;32mwhile\u001b[0m \u001b[0;32mTrue\u001b[0m\u001b[0;34m:\u001b[0m\u001b[0;34m\u001b[0m\u001b[0;34m\u001b[0m\u001b[0m\n\u001b[0;32m----> 3\u001b[0;31m     \u001b[0ms\u001b[0m \u001b[0;34m=\u001b[0m \u001b[0minput\u001b[0m\u001b[0;34m(\u001b[0m\u001b[0;34m'Enter a string: '\u001b[0m\u001b[0;34m)\u001b[0m\u001b[0;34m\u001b[0m\u001b[0;34m\u001b[0m\u001b[0m\n\u001b[0m\u001b[1;32m      4\u001b[0m     \u001b[0;32mif\u001b[0m \u001b[0ms\u001b[0m \u001b[0;34m==\u001b[0m \u001b[0;34m''\u001b[0m\u001b[0;34m:\u001b[0m   \u001b[0;31m# The empty string?  Get out of the loop!\u001b[0m\u001b[0;34m\u001b[0m\u001b[0;34m\u001b[0m\u001b[0m\n\u001b[1;32m      5\u001b[0m         \u001b[0;32mbreak\u001b[0m\u001b[0;34m\u001b[0m\u001b[0;34m\u001b[0m\u001b[0m\n",
      "\u001b[0;32m/usr/local/lib/python3.8/dist-packages/ipykernel/kernelbase.py\u001b[0m in \u001b[0;36mraw_input\u001b[0;34m(self, prompt)\u001b[0m\n\u001b[1;32m    855\u001b[0m                 \u001b[0;34m\"raw_input was called, but this frontend does not support input requests.\"\u001b[0m\u001b[0;34m\u001b[0m\u001b[0;34m\u001b[0m\u001b[0m\n\u001b[1;32m    856\u001b[0m             )\n\u001b[0;32m--> 857\u001b[0;31m         return self._input_request(str(prompt),\n\u001b[0m\u001b[1;32m    858\u001b[0m             \u001b[0mself\u001b[0m\u001b[0;34m.\u001b[0m\u001b[0m_parent_ident\u001b[0m\u001b[0;34m,\u001b[0m\u001b[0;34m\u001b[0m\u001b[0;34m\u001b[0m\u001b[0m\n\u001b[1;32m    859\u001b[0m             \u001b[0mself\u001b[0m\u001b[0;34m.\u001b[0m\u001b[0m_parent_header\u001b[0m\u001b[0;34m,\u001b[0m\u001b[0;34m\u001b[0m\u001b[0;34m\u001b[0m\u001b[0m\n",
      "\u001b[0;32m/usr/local/lib/python3.8/dist-packages/ipykernel/kernelbase.py\u001b[0m in \u001b[0;36m_input_request\u001b[0;34m(self, prompt, ident, parent, password)\u001b[0m\n\u001b[1;32m    899\u001b[0m             \u001b[0;32mexcept\u001b[0m \u001b[0mKeyboardInterrupt\u001b[0m\u001b[0;34m:\u001b[0m\u001b[0;34m\u001b[0m\u001b[0;34m\u001b[0m\u001b[0m\n\u001b[1;32m    900\u001b[0m                 \u001b[0;31m# re-raise KeyboardInterrupt, to truncate traceback\u001b[0m\u001b[0;34m\u001b[0m\u001b[0;34m\u001b[0m\u001b[0;34m\u001b[0m\u001b[0m\n\u001b[0;32m--> 901\u001b[0;31m                 \u001b[0;32mraise\u001b[0m \u001b[0mKeyboardInterrupt\u001b[0m\u001b[0;34m(\u001b[0m\u001b[0;34m\"Interrupted by user\"\u001b[0m\u001b[0;34m)\u001b[0m \u001b[0;32mfrom\u001b[0m \u001b[0;32mNone\u001b[0m\u001b[0;34m\u001b[0m\u001b[0;34m\u001b[0m\u001b[0m\n\u001b[0m\u001b[1;32m    902\u001b[0m             \u001b[0;32mexcept\u001b[0m \u001b[0mException\u001b[0m \u001b[0;32mas\u001b[0m \u001b[0me\u001b[0m\u001b[0;34m:\u001b[0m\u001b[0;34m\u001b[0m\u001b[0;34m\u001b[0m\u001b[0m\n\u001b[1;32m    903\u001b[0m                 \u001b[0mself\u001b[0m\u001b[0;34m.\u001b[0m\u001b[0mlog\u001b[0m\u001b[0;34m.\u001b[0m\u001b[0mwarning\u001b[0m\u001b[0;34m(\u001b[0m\u001b[0;34m\"Invalid Message:\"\u001b[0m\u001b[0;34m,\u001b[0m \u001b[0mexc_info\u001b[0m\u001b[0;34m=\u001b[0m\u001b[0;32mTrue\u001b[0m\u001b[0;34m)\u001b[0m\u001b[0;34m\u001b[0m\u001b[0;34m\u001b[0m\u001b[0m\n",
      "\u001b[0;31mKeyboardInterrupt\u001b[0m: Interrupted by user"
     ]
    }
   ],
   "source": [
    "total = 0\n",
    "while True:\n",
    "    s = input('Enter a string: ')\n",
    "    if s == '':   # The empty string?  Get out of the loop!\n",
    "        break   \n",
    "    if s.isdigit():\n",
    "        s = int(s)\n",
    "        total = int(total)\n",
    "        print('{s}'+'total')\n",
    "    if not s.isdigit():\n",
    "        print(f'{s} is not a number!')\n"
   ]
  },
  {
   "cell_type": "code",
   "execution_count": null,
   "id": "popular-lotus",
   "metadata": {},
   "outputs": [],
   "source": [
    "total = 0\n",
    "while True:\n",
    "    s = input('Enter a number: ').strip()\n",
    "    if s == '':   # The empty string?  Get out of the loop!\n",
    "        break   \n",
    "    if s.isdigit():\n",
    "        s = int(s)\n",
    "        total = int(total)\n",
    "        print('{s}'+'total')\n",
    "    if not s.isdigit():\n",
    "        print(f'{s} is not a number!')"
   ]
  }
 ],
 "metadata": {
  "kernelspec": {
   "display_name": "Python 3",
   "language": "python",
   "name": "python3"
  }
 },
 "nbformat": 4,
 "nbformat_minor": 5
}
