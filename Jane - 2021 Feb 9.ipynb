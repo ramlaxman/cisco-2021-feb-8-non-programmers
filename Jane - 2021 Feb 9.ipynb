{
 "cells": [
  {
   "cell_type": "code",
   "execution_count": 1,
   "id": "upper-brake",
   "metadata": {},
   "outputs": [
    {
     "ename": "NameError",
     "evalue": "name 'explain' is not defined",
     "output_type": "error",
     "traceback": [
      "\u001b[0;31m---------------------------------------------------------------------------\u001b[0m",
      "\u001b[0;31mNameError\u001b[0m                                 Traceback (most recent call last)",
      "\u001b[0;32m<ipython-input-1-edee1e234237>\u001b[0m in \u001b[0;36m<module>\u001b[0;34m\u001b[0m\n\u001b[0;32m----> 1\u001b[0;31m \u001b[0mexplain\u001b[0m\u001b[0;34m(\u001b[0m\u001b[0;34m)\u001b[0m\u001b[0;34m\u001b[0m\u001b[0;34m\u001b[0m\u001b[0m\n\u001b[0m",
      "\u001b[0;31mNameError\u001b[0m: name 'explain' is not defined"
     ]
    }
   ],
   "source": [
    "explain()"
   ]
  },
  {
   "cell_type": "code",
   "execution_count": 2,
   "id": "informational-berlin",
   "metadata": {},
   "outputs": [
    {
     "data": {
      "text/plain": [
       "3"
      ]
     },
     "execution_count": 2,
     "metadata": {},
     "output_type": "execute_result"
    }
   ],
   "source": [
    "1+2"
   ]
  },
  {
   "cell_type": "code",
   "execution_count": 5,
   "id": "vital-consumer",
   "metadata": {},
   "outputs": [
    {
     "name": "stdout",
     "output_type": "stream",
     "text": [
      "Enter birth year: 1970\n",
      "Enter birthday to calculate year for: 110\n",
      "Wow, congratulations on reaching 110 years\n"
     ]
    }
   ],
   "source": [
    "# Setup\n",
    "year = input('Enter birth year: ')\n",
    "day = input('Enter birthday to calculate year for: ')\n",
    "year = int(year)\n",
    "day = int(day)\n",
    "\n",
    "# Calculation + report\n",
    "if day > 100:\n",
    "    print(f'Wow, congratulations on reaching 110 years')\n",
    "elif day < 0:\n",
    "    print(f'That will be in 2080')\n",
    "else:\n",
    "    print(f'that will be {year}+{day}')"
   ]
  },
  {
   "cell_type": "code",
   "execution_count": null,
   "id": "certified-impact",
   "metadata": {},
   "outputs": [],
   "source": []
  }
 ],
 "metadata": {
  "kernelspec": {
   "display_name": "Python 3",
   "language": "python",
   "name": "python3"
  },
  "language_info": {
   "codemirror_mode": {
    "name": "ipython",
    "version": 3
   },
   "file_extension": ".py",
   "mimetype": "text/x-python",
   "name": "python",
   "nbconvert_exporter": "python",
   "pygments_lexer": "ipython3",
   "version": "3.8.6"
  }
 },
 "nbformat": 4,
 "nbformat_minor": 5
}
