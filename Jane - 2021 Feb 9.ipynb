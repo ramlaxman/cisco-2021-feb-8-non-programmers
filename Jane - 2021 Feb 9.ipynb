{
 "cells": [
  {
   "cell_type": "code",
   "execution_count": 1,
   "id": "global-volume",
   "metadata": {},
   "outputs": [
    {
     "ename": "NameError",
     "evalue": "name 'explain' is not defined",
     "output_type": "error",
     "traceback": [
      "\u001b[0;31m---------------------------------------------------------------------------\u001b[0m",
      "\u001b[0;31mNameError\u001b[0m                                 Traceback (most recent call last)",
      "\u001b[0;32m<ipython-input-1-edee1e234237>\u001b[0m in \u001b[0;36m<module>\u001b[0;34m\u001b[0m\n\u001b[0;32m----> 1\u001b[0;31m \u001b[0mexplain\u001b[0m\u001b[0;34m(\u001b[0m\u001b[0;34m)\u001b[0m\u001b[0;34m\u001b[0m\u001b[0;34m\u001b[0m\u001b[0m\n\u001b[0m",
      "\u001b[0;31mNameError\u001b[0m: name 'explain' is not defined"
     ]
    }
   ],
   "source": [
    "explain()"
   ]
  },
  {
   "cell_type": "code",
   "execution_count": 2,
   "id": "moral-portsmouth",
   "metadata": {},
   "outputs": [
    {
     "data": {
      "text/plain": [
       "3"
      ]
     },
     "execution_count": 2,
     "metadata": {},
     "output_type": "execute_result"
    }
   ],
   "source": [
    "1+2"
   ]
  },
  {
   "cell_type": "code",
   "execution_count": null,
   "id": "challenging-blowing",
   "metadata": {},
   "outputs": [],
   "source": [
    "# Setup\n",
    "birthyear = input('Enter birth year: ')\n",
    "birthday = input('Enter birthday to calculate year for: ')\n",
    "birthyear = int(birthyear)\n",
    "birthday = int(birthday)\n",
    "\n",
    "# Calculation + report\n",
    "\n",
    "if birthday < 0:\n",
    "    print(f'{birthday} is not a legit birthday')\n",
    "if birthday > 100:\n",
    "    print(f'Congrats on reaching your {birthday} birthday!')\n",
    "\n",
    "print(f'You were born in {birthyear}, so your {birthday} birthday will be in {birthyear+birthday}!')"
   ]
  },
  {
   "cell_type": "code",
   "execution_count": 25,
   "id": "dutch-cabin",
   "metadata": {},
   "outputs": [
    {
     "name": "stdout",
     "output_type": "stream",
     "text": [
      "Enter an English word: apple\n",
      "appleway\n"
     ]
    }
   ],
   "source": [
    "word = input('Enter an English word: ')\n",
    "if word[0] == 'a' or 'e' or 'i' or 'o' or 'u':\n",
    "    print(f'{word}'+'way')\n",
    "else:\n",
    "    print(f'{word}'+)\n",
    "          "
   ]
  },
  {
   "cell_type": "code",
   "execution_count": 33,
   "id": "cognitive-gossip",
   "metadata": {},
   "outputs": [
    {
     "name": "stdout",
     "output_type": "stream",
     "text": [
      "Enter an English word (all lowercase, no punctuation, no spaces): table\n",
      "ableay\n"
     ]
    }
   ],
   "source": [
    "word = input('Enter an English word (all lowercase, no punctuation, no spaces): ')\n",
    "if word[0] in 'aeiou':\n",
    "    print(f'{word}'+'way')\n",
    "else:\n",
    "    print(f'{word[1:]}'+'ay')"
   ]
  },
  {
   "cell_type": "code",
   "execution_count": 37,
   "id": "oriented-james",
   "metadata": {},
   "outputs": [
    {
     "name": "stdout",
     "output_type": "stream",
     "text": [
      "Enter an English word (all lowercase, no punctuation, no spaces): computer\n",
      "omputercay\n"
     ]
    }
   ],
   "source": [
    "word = input('Enter an English word (all lowercase, no punctuation, no spaces): ')\n",
    "if word[0] in 'aeiou':\n",
    "    print(word +'way')\n",
    "else:\n",
    "    print(word[1:]+ word[0] +'ay')"
   ]
  },
  {
   "cell_type": "code",
   "execution_count": null,
   "id": "palestinian-stuff",
   "metadata": {},
   "outputs": [],
   "source": [
    "1+2"
   ]
  },
  {
   "cell_type": "code",
   "execution_count": null,
   "id": "coastal-ivory",
   "metadata": {},
   "outputs": [],
   "source": [
    "1+2"
   ]
  },
  {
   "cell_type": "code",
   "execution_count": null,
   "id": "english-consumer",
   "metadata": {},
   "outputs": [],
   "source": [
    "1+2"
   ]
  },
  {
   "cell_type": "code",
   "execution_count": 60,
   "id": "timely-cabin",
   "metadata": {},
   "outputs": [
    {
     "name": "stdout",
     "output_type": "stream",
     "text": [
      "Enter the first number: 10\n",
      "Enter the second number: abs\n",
      "abs is not a number\n"
     ]
    }
   ],
   "source": [
    "first = input('Enter the first number: ')\n",
    "second = input('Enter the second number: ')\n",
    "\n",
    "first.isdigit()\n",
    "second.isdigit()\n",
    "\n",
    "if first.isdigit() and second.isdigit() == True:\n",
    "    print(int(first)+int(second))\n",
    "elif first.isdigit() == False:\n",
    "    print(f'{first} is not a number')\n",
    "else:\n",
    "    print(f'{second} is not a number')\n",
    "\n",
    "    \n",
    "\n"
   ]
  },
  {
   "cell_type": "code",
   "execution_count": 62,
   "id": "environmental-western",
   "metadata": {},
   "outputs": [
    {
     "name": "stdout",
     "output_type": "stream",
     "text": [
      "Enter the first number: 10\n",
      "Enter the second number: abs\n",
      "abs is not numberic\n"
     ]
    }
   ],
   "source": [
    "first = input('Enter the first number: ')\n",
    "second = input('Enter the second number: ')\n",
    "\n",
    "first.isdigit()\n",
    "second.isdigit()\n",
    "\n",
    "if first.isdigit() and second.isdigit():\n",
    "    first = int(first)\n",
    "    second = int(second)\n",
    "    print(f'{first}+{second} = {first+second}')\n",
    "else:\n",
    "    if not first.isdigit():\n",
    "        print(f'{first} is not numberic')\n",
    "    if not second.isdigit():\n",
    "        print(f'{second} is not numberic')"
   ]
  },
  {
   "cell_type": "code",
   "execution_count": 71,
   "id": "korean-coordinate",
   "metadata": {},
   "outputs": [
    {
     "name": "stdout",
     "output_type": "stream",
     "text": [
      "Enter a string: hello 123\n",
      "h is something else\n",
      "e is a vowel\n",
      "l is something else\n",
      "l is something else\n",
      "o is a vowel\n",
      "  is something else\n",
      "1 is a digit\n",
      "2 is a digit\n",
      "3 is a digit\n",
      "vowels = 2\n",
      "digits = 3\n",
      "others = 4\n"
     ]
    }
   ],
   "source": [
    "# Setup\n",
    "vowels = 0\n",
    "digits = 0\n",
    "others = 0\n",
    "\n",
    "# Calculation\n",
    "s = input('Enter a string: ').strip()\n",
    "for one_character in s:\n",
    "    if one_character in 'aeiou':\n",
    "        print(f'{one_character} is a vowel')\n",
    "        vowels += 1\n",
    "    elif one_character.isdigit():\n",
    "        print(f'{one_character} is a digit')\n",
    "        digits += 1\n",
    "    else:\n",
    "        print(f'{one_character} is something else')\n",
    "        others += 1\n",
    "# Report\n",
    "print(f'vowels = {vowels}')\n",
    "print(f'digits = {digits}')\n",
    "print(f'others = {others}')\n",
    "   "
   ]
  },
  {
   "cell_type": "code",
   "execution_count": 74,
   "id": "daily-movie",
   "metadata": {},
   "outputs": [
    {
     "name": "stdout",
     "output_type": "stream",
     "text": [
      "Enter a number: 1\n",
      "Enter a number: 2\n",
      "Enter a number: \n",
      "total = 3\n"
     ]
    }
   ],
   "source": [
    "total = 0\n",
    "while True:\n",
    "    s = input('Enter a number: ')\n",
    "    if s == '':   # The empty string?  Get out of the loop!\n",
    "        break   \n",
    "    if s.isdigit():\n",
    "        total += int(s)\n",
    "        \n",
    "    else:\n",
    "        print(f'{s} is not a number!')\n",
    "print(f'total = {total}')"
   ]
  },
  {
   "cell_type": "code",
   "execution_count": 91,
   "id": "prepared-queen",
   "metadata": {},
   "outputs": [
    {
     "name": "stdout",
     "output_type": "stream",
     "text": [
      "Enter first integer: 1\n",
      "Enter secnd integer: 2\n",
      "At index 1, we have 20\n",
      "At index 2, we have 30\n",
      "20 + 30 = 50\n"
     ]
    }
   ],
   "source": [
    "mylist = [10, 20, 30, 40, 50, 60, 70, 80, 90, 100]\n",
    "first_i = input('Enter first integer: ')\n",
    "second_i = input('Enter secnd integer: ')\n",
    "first_i = int(first_i)\n",
    "second_i = int(second_i)\n",
    "print(f'At index {first_i}, we have {mylist[first_i]}')\n",
    "print(f'At index {second_i}, we have {mylist[second_i]}')\n",
    "sum = mylist[first_i]+mylist[second_i]\n",
    "print(f'{mylist[first_i]} + {mylist[second_i]} = {sum}')\n",
    "\n",
    "\n"
   ]
  },
  {
   "cell_type": "code",
   "execution_count": 96,
   "id": "thousand-remedy",
   "metadata": {},
   "outputs": [
    {
     "name": "stdout",
     "output_type": "stream",
     "text": [
      "Enter a number: 11\n",
      "Enter a number: 13\n",
      "Enter a number: \n",
      "[0, 2, 4, 6, 8]\n",
      "[1, 3, 5, 7, 9, 11, 13]\n"
     ]
    }
   ],
   "source": [
    "evens = [0,2,4,6,8]\n",
    "odds = [1,3,5,7,9]\n",
    "while True:\n",
    "    s = input('Enter a number: ')\n",
    "    if s == '':   # The empty string?  Get out of the loop!\n",
    "        break   \n",
    "    if s.isdigit():\n",
    "        s = int(s)\n",
    "        a = s % 2\n",
    "    if a == 0:\n",
    "        evens.append(s)\n",
    "    else:\n",
    "        odds.append(s)\n",
    "print(evens)\n",
    "print(odds)\n",
    "\n"
   ]
  },
  {
   "cell_type": "code",
   "execution_count": 101,
   "id": "korean-terrace",
   "metadata": {},
   "outputs": [
    {
     "name": "stdout",
     "output_type": "stream",
     "text": [
      "Enter a number: 10\n",
      "Enter a number: 20\n",
      "Enter a number: 21\n",
      "Enter a number: 31\n",
      "Enter a number: \n",
      "odds = [21, 31]\n",
      "evens = [10, 20]\n"
     ]
    }
   ],
   "source": [
    "evens = []\n",
    "odds = []\n",
    "\n",
    "while True:\n",
    "    s = input('Enter a number: ').strip() \n",
    "    if s == '':\n",
    "        break\n",
    "\n",
    "    if s.isdigit():\n",
    "        s = int(s)\n",
    "\n",
    "        if s%2 == 1:\n",
    "            odds.append(s)\n",
    "        else:\n",
    "            evens.append(s)\n",
    "    else:\n",
    "       print(f'{s} is not numeric')\n",
    "\n",
    "# report\n",
    "print(f'odds = {odds}')\n",
    "print(f'evens = {evens}')\n"
   ]
  },
  {
   "cell_type": "code",
   "execution_count": 110,
   "id": "mathematical-jones",
   "metadata": {},
   "outputs": [
    {
     "name": "stdout",
     "output_type": "stream",
     "text": [
      "Enter a word: hello\n",
      "long!\n"
     ]
    }
   ],
   "source": [
    "long_words = []\n",
    "short_words = []\n",
    "s = input('Enter a word: ').strip()\n",
    "\n",
    "if len(s) <= 4:\n",
    "    print('short!')\n",
    "else:\n",
    "    print('long!')"
   ]
  },
  {
   "cell_type": "code",
   "execution_count": 121,
   "id": "nonprofit-ladder",
   "metadata": {},
   "outputs": [
    {
     "ename": "SyntaxError",
     "evalue": "invalid syntax (<ipython-input-121-125ca1e1849f>, line 14)",
     "output_type": "error",
     "traceback": [
      "\u001b[0;36m  File \u001b[0;32m\"<ipython-input-121-125ca1e1849f>\"\u001b[0;36m, line \u001b[0;32m14\u001b[0m\n\u001b[0;31m    else:\u001b[0m\n\u001b[0m    ^\u001b[0m\n\u001b[0;31mSyntaxError\u001b[0m\u001b[0;31m:\u001b[0m invalid syntax\n"
     ]
    }
   ],
   "source": [
    "short_words = []\n",
    "long_words = []\n",
    "\n",
    "while True:\n",
    "    s = input('Enter a word: ').strip()\n",
    "    if s == '':\n",
    "            break\n",
    "        \n",
    "    if len(s) <= 4:\n",
    "        short_words.append(s)\n",
    "\n",
    "    else:\n",
    "            long_words.append(s)\n",
    "\n",
    "print(f'short words = {short_words}')"
   ]
  },
  {
   "cell_type": "code",
   "execution_count": null,
   "id": "convinced-prerequisite",
   "metadata": {},
   "outputs": [],
   "source": []
  }
 ],
 "metadata": {
  "kernelspec": {
   "display_name": "Python 3",
   "language": "python",
   "name": "python3"
  }
 },
 "nbformat": 4,
 "nbformat_minor": 5
}
