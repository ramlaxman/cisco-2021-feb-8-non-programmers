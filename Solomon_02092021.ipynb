{
 "cells": [
  {
   "cell_type": "markdown",
   "id": "million-spelling",
   "metadata": {},
   "source": []
  },
  {
   "cell_type": "code",
   "execution_count": 1,
   "id": "demographic-conversion",
   "metadata": {},
   "outputs": [
    {
     "name": "stdout",
     "output_type": "stream",
     "text": [
      "Hello Solomon.\n"
     ]
    }
   ],
   "source": [
    "name = \"Solomon\"\n",
    "print(\"Hello \" + name + \".\")\n",
    "\n"
   ]
  },
  {
   "cell_type": "code",
   "execution_count": 2,
   "id": "invisible-pepper",
   "metadata": {},
   "outputs": [
    {
     "name": "stdout",
     "output_type": "stream",
     "text": [
      "I am Solomon my age is 43\n"
     ]
    }
   ],
   "source": [
    "name = \"Solomon\"\n",
    "birthyear = 1978\n",
    "age_this_year = 2021\n",
    "print(f'I am {name} my age is {age_this_year - birthyear}' )"
   ]
  },
  {
   "cell_type": "code",
   "execution_count": 3,
   "id": "found-advertiser",
   "metadata": {},
   "outputs": [
    {
     "name": "stdout",
     "output_type": "stream",
     "text": [
      " Enter your nameSolomon\n",
      " How are  you feeling Good\n",
      "hello Solomon you feeling Good\n"
     ]
    }
   ],
   "source": [
    "name = input(\" Enter your name\")\n",
    "feeling = input(\" How are  you feeling \")\n",
    "print(f'hello {name} you feeling {feeling}')"
   ]
  },
  {
   "cell_type": "code",
   "execution_count": 8,
   "id": "regular-guatemala",
   "metadata": {},
   "outputs": [
    {
     "name": "stdout",
     "output_type": "stream",
     "text": [
      " Enter your compnay name: Nortel\n",
      "oh okay you work at  Nortel\n"
     ]
    }
   ],
   "source": [
    "Company_name = input(\" Enter your compnay name: \")\n",
    "if Company_name == \"Cisco\":\n",
    "    print(f'Great to see your work in {Company_name}')\n",
    "else:\n",
    "    print(f'oh okay you work at  {Company_name}')\n"
   ]
  },
  {
   "cell_type": "code",
   "execution_count": 11,
   "id": "dying-burning",
   "metadata": {},
   "outputs": [
    {
     "name": "stdout",
     "output_type": "stream",
     "text": [
      " Enter your compnay name: Juniper\n",
      "oh okay you work here Juniper\n"
     ]
    }
   ],
   "source": [
    "Company_name = input(\" Enter your compnay name: \")\n",
    "if Company_name == \"Cisco\":\n",
    "    print(f'Great to see your work in {Company_name} you are my colleague')\n",
    "elif Company_name == \"Nortel\":\n",
    "    print(f'Nice you worked in {Company_name} you used be my old colleague in {Company_name}')\n",
    "else:\n",
    "    print(f'oh okay you work here {Company_name}')\n",
    "    \n"
   ]
  },
  {
   "cell_type": "code",
   "execution_count": 18,
   "id": "canadian-guest",
   "metadata": {},
   "outputs": [
    {
     "name": "stdout",
     "output_type": "stream",
     "text": [
      " Enter your name: Solo\n",
      " Enter your compnay name: Cis\n",
      "either name  Solo or Cis name is same ....\n"
     ]
    }
   ],
   "source": [
    "name = input(\" Enter your name: \")\n",
    "Company_name = input(\" Enter your compnay name: \")\n",
    "if name ==\"Solomon\" and Company_name == \"Cisco\":\n",
    "    print( f'this is me since name {name} and {Company_name} is same' )\n",
    "elif name ==\"Solomon\" and not Company_name == \"Cisco\":\n",
    "    print( f' name {name} is  same  but company name {Company_name} is not same you are at rival company' )\n",
    "elif not name ==\"Solomon\" and Company_name == \"Cisco\":\n",
    "    print (f' you are my colleague in my {Company_name}')\n",
    "else:\n",
    "    print(f'either name  {name} or {Company_name} name is same ....')\n",
    "\n"
   ]
  },
  {
   "cell_type": "code",
   "execution_count": 24,
   "id": "australian-financing",
   "metadata": {},
   "outputs": [
    {
     "name": "stdout",
     "output_type": "stream",
     "text": [
      "enter the first words: solomon\n",
      "enter the second words: allen\n",
      "allen word comes first alphabetically than solomon\n"
     ]
    }
   ],
   "source": [
    "first = input(\"enter the first words: \" )\n",
    "second = input(\"enter the second words: \" )\n",
    "if first == second:\n",
    "    print(f'both the words are same {first} , {second}')\n",
    "elif first < second:\n",
    "    print(f'{first} word comes first alphabetically than {second}')\n",
    "else:\n",
    "    print(f'{second} word comes first alphabetically than {first}')\n",
    "\n"
   ]
  },
  {
   "cell_type": "code",
   "execution_count": 31,
   "id": "corresponding-pursuit",
   "metadata": {},
   "outputs": [
    {
     "name": "stdout",
     "output_type": "stream",
     "text": [
      "number = 69\n",
      " enter the number: 11\n",
      " you guess too low correctly \n"
     ]
    }
   ],
   "source": [
    "import random\n",
    "number = random.randint(1,100)\n",
    "print(f'number = {number}')\n",
    "inp_num = input(\" enter the number: \")\n",
    "int_num = int(inp_num)\n",
    "if int_num == number:\n",
    "    print(\" you guess correctly \")\n",
    "if int_num < number:\n",
    "    print(\" you guess too low correctly \")\n",
    "if int_num > number:\n",
    "    print(\" you guess too high correctly \")\n"
   ]
  },
  {
   "cell_type": "code",
   "execution_count": 42,
   "id": "reported-spine",
   "metadata": {},
   "outputs": [
    {
     "name": "stdout",
     "output_type": "stream",
     "text": [
      "Enter the first number: 11\n",
      "Enter the second number: 22\n",
      " Enter the operator + or - /\n",
      "User Enter wrong operator /\n"
     ]
    }
   ],
   "source": [
    "first = int(input(\"Enter the first number: \" ))\n",
    "second = int(input(\"Enter the second number: \" ))\n",
    "ent_opt = input(\" Enter the operator + or - \")\n",
    "if ent_opt == \"+\":\n",
    "    sum = first + second \n",
    "    print(f'{first} + {second} = {sum} ' )\n",
    "elif ent_opt == \"-\":\n",
    "    sum = first-second\n",
    "    print(f' {first} - {second} =  {sum} ')\n",
    "else:\n",
    "    print(f'User Enter wrong operator {ent_opt}')\n"
   ]
  },
  {
   "cell_type": "code",
   "execution_count": 47,
   "id": "adjusted-reason",
   "metadata": {},
   "outputs": [
    {
     "name": "stdout",
     "output_type": "stream",
     "text": [
      "enter the string : hello\n",
      " enter the index number: 5\n",
      " index value is less than 5\n"
     ]
    }
   ],
   "source": [
    "string = input(\"enter the string : \" )\n",
    "index = int(input (\" enter the index number: \"))\n",
    "if index == 0:\n",
    "    print(f' enter the proper intger value in {index}')\n",
    "elif index >= len(string):\n",
    "    print(f' index value is less than {index}')\n",
    "else:\n",
    "    print(f'{index} and {len(string)}')\n"
   ]
  },
  {
   "cell_type": "code",
   "execution_count": null,
   "id": "blank-pendant",
   "metadata": {},
   "outputs": [],
   "source": [
    "birth_year = int(input(\"Enter your Birth year: \"))\n",
    "celebration_date = int(input(\"Tell us which birthday you want to celebrate \"))\n",
    "celebration_year = celebration_date + birth_year\n",
    "if birth_year > 100:\n",
    "    print(\"Wow,Hearty Congratualtion !!!!! {celebration_date} \")\n",
    "if birth_year < 0:\n",
    "    print(\"grow up kid !! you are too young to celebrate birthday !!!! \")\n",
    "print(f'Congratulations you will celebrate this year {celebration_year}')\n"
   ]
  },
  {
   "cell_type": "code",
   "execution_count": 9,
   "id": "applicable-count",
   "metadata": {},
   "outputs": [
    {
     "name": "stdout",
     "output_type": "stream",
     "text": [
      "Enter your Birth year: 0\n",
      "Tell us which birthday you want to celebrate 110\n",
      "grow up kid !! you are too young to celebrate birthday !!!! \n",
      "Congratulations you will celebrate this year 110\n"
     ]
    }
   ],
   "source": [
    "birth_year = int(input(\"Enter your Birth year: \"))\n",
    "celebration_date = int(input(\"Tell us which birthday you want to celebrate \"))\n",
    "celebration_year = celebration_date + birth_year\n",
    "if birth_year > 100:\n",
    "    print(f'Wow,Hearty Congratualtion !!!!! {celebration_date}')\n",
    "if birth_year >= 0:\n",
    "    print(\"grow up kid !! you are too young to celebrate birthday !!!! \")\n",
    "print(f'Congratulations you will celebrate this year {celebration_year}')\n",
    "\n"
   ]
  },
  {
   "cell_type": "code",
   "execution_count": 22,
   "id": "retired-exhaust",
   "metadata": {},
   "outputs": [
    {
     "name": "stdout",
     "output_type": "stream",
     "text": [
      "Enter a word: papaya\n",
      "swap the first letter to end ay : apayapay\n"
     ]
    }
   ],
   "source": [
    "word = input(\"Enter a word: \")\n",
    "vowels=  \"aeiou\"\n",
    "if word[0] in vowels:\n",
    "    print(f'add the word \"way\" to end: {word+way}')\n",
    "if word[0] not in vowels:\n",
    "    print(f'swap the first letter to end ay : { word[1:]+ word[0] + ay}' )\n",
    "\n"
   ]
  },
  {
   "cell_type": "code",
   "execution_count": 23,
   "id": "rubber-anthony",
   "metadata": {},
   "outputs": [
    {
     "name": "stdout",
     "output_type": "stream",
     "text": [
      "Friendly-traceback installed.\n"
     ]
    }
   ],
   "source": [
    "from friendly_traceback.ipython import *\n",
    "\n"
   ]
  },
  {
   "cell_type": "code",
   "execution_count": 61,
   "id": "solved-distinction",
   "metadata": {},
   "outputs": [
    {
     "name": "stdout",
     "output_type": "stream",
     "text": [
      " Enter first number: 3\n",
      " Enter second number: ed\n",
      "second ed is not number\n"
     ]
    }
   ],
   "source": [
    "first=(input(\" Enter first number: \"))\n",
    "second=(input(\" Enter second number: \"))\n",
    "if (first.isdigit() and second.isdigit()):\n",
    "    print(f'{int(first) + int(second)}')\n",
    "elif((not first.isdigit()) and not(second.isdigit())):\n",
    "    print(f'both first {first}  and  second {second} is not number')\n",
    "elif((not first.isdigit()) and (second.isdigit())):\n",
    "    print(f'first {first} is not number')\n",
    "else:\n",
    "    print(f'second {second} is not number')\n",
    "    \n",
    "\n"
   ]
  },
  {
   "cell_type": "code",
   "execution_count": 68,
   "id": "molecular-accommodation",
   "metadata": {},
   "outputs": [
    {
     "name": "stdout",
     "output_type": "stream",
     "text": [
      " Enter an Input string or digit : solomon soumya 123\n",
      "digit is 3, vowels is 6 , others is 9\n"
     ]
    }
   ],
   "source": [
    "vowels =0\n",
    "digit=0\n",
    "others=0\n",
    "Input=input(\" Enter an Input string or digit : \")\n",
    "for i in Input:\n",
    "    if i in \"aeiou\":\n",
    "        vowels=vowels+1\n",
    "    elif i.isdigit():\n",
    "        digit=digit+1\n",
    "    else:\n",
    "        others=others+1\n",
    "print(f'digit is {digit}, vowels is {vowels} , others is {others}')\n",
    "        "
   ]
  },
  {
   "cell_type": "code",
   "execution_count": 15,
   "id": "offshore-lightweight",
   "metadata": {},
   "outputs": [
    {
     "name": "stdout",
     "output_type": "stream",
     "text": [
      " Enter an number : 23\n",
      " Enter an number : 23\n",
      " Enter an number : 23\n",
      " Enter an number : 23\n",
      " Enter an number : s\n",
      " Enter a valid number: \n",
      " Enter an number : 23\n",
      " Enter an number : 23\n",
      " Enter an number : 23\n",
      " Enter an number : 23\n",
      " Enter an number : 23\n",
      " Enter an number : 23\n",
      " Enter an number : ss\n",
      " Enter a valid number: \n",
      " Enter an number : ss\n",
      " Enter a valid number: \n",
      " Enter an number : ss\n",
      " Enter a valid number: \n",
      " Enter an number : \n",
      "Total is 230\n"
     ]
    }
   ],
   "source": [
    "total=0\n",
    "while True:\n",
    "    Input=(input(\" Enter an number : \"))\n",
    "    if Input.isdigit():\n",
    "        total = total + int(Input)\n",
    "    if Input.isalpha():\n",
    "        print(\" Enter a valid number: \")\n",
    "    if Input == '' :\n",
    "        break\n",
    "print(f'Total is {total}')\n"
   ]
  },
  {
   "cell_type": "code",
   "execution_count": 39,
   "id": "hungarian-sight",
   "metadata": {},
   "outputs": [
    {
     "name": "stdout",
     "output_type": "stream",
     "text": [
      "Enter first index: 2\n",
      "Enter Second index: 3\n"
     ]
    },
    {
     "ename": "TypeError",
     "evalue": "'int' object is not subscriptable",
     "output_type": "error",
     "traceback": [
      "\u001b[0;31m---------------------------------------------------------------------------\u001b[0m",
      "\u001b[0;31mTypeError\u001b[0m                                 Traceback (most recent call last)",
      "\u001b[0;32m<ipython-input-39-94d42b7cdcb1>\u001b[0m in \u001b[0;36m<module>\u001b[0;34m\u001b[0m\n\u001b[1;32m      7\u001b[0m \u001b[0;32mif\u001b[0m \u001b[0ml_my_list\u001b[0m \u001b[0;34m>=\u001b[0m \u001b[0mfirst_index\u001b[0m \u001b[0;32mand\u001b[0m \u001b[0ml_my_list\u001b[0m \u001b[0;34m>=\u001b[0m \u001b[0mfirst_index\u001b[0m\u001b[0;34m:\u001b[0m\u001b[0;34m\u001b[0m\u001b[0;34m\u001b[0m\u001b[0m\n\u001b[1;32m      8\u001b[0m     \u001b[0;32mfor\u001b[0m \u001b[0mi\u001b[0m \u001b[0;32min\u001b[0m \u001b[0mmy_list\u001b[0m\u001b[0;34m:\u001b[0m\u001b[0;34m\u001b[0m\u001b[0;34m\u001b[0m\u001b[0m\n\u001b[0;32m----> 9\u001b[0;31m         \u001b[0mprint\u001b[0m\u001b[0;34m(\u001b[0m\u001b[0mi\u001b[0m\u001b[0;34m[\u001b[0m\u001b[0mfirst_index\u001b[0m\u001b[0;34m]\u001b[0m\u001b[0;34m)\u001b[0m\u001b[0;34m\u001b[0m\u001b[0;34m\u001b[0m\u001b[0m\n\u001b[0m\u001b[1;32m     10\u001b[0m         \u001b[0mprint\u001b[0m\u001b[0;34m(\u001b[0m\u001b[0mi\u001b[0m\u001b[0;34m[\u001b[0m\u001b[0msecond_index\u001b[0m\u001b[0;34m]\u001b[0m\u001b[0;34m)\u001b[0m\u001b[0;34m\u001b[0m\u001b[0;34m\u001b[0m\u001b[0m\n\u001b[1;32m     11\u001b[0m         \u001b[0;31m#print(f'{i[first_index]+i[second_index]}')\u001b[0m\u001b[0;34m\u001b[0m\u001b[0;34m\u001b[0m\u001b[0;34m\u001b[0m\u001b[0m\n",
      "\u001b[0;31mTypeError\u001b[0m: 'int' object is not subscriptable"
     ]
    }
   ],
   "source": [
    "my_list = [10,10,20,20,30,40]\n",
    "first_index = input(\"Enter first index: \")\n",
    "first_index=int(first_index)+1\n",
    "second_index = input(\"Enter Second index: \")\n",
    "second_index=int(second_index)+1\n",
    "l_my_list = len(my_list)+1\n",
    "if l_my_list >= first_index and l_my_list >= first_index:\n",
    "    for i in my_list:\n",
    "        print(i[first_index])\n",
    "        print(i[second_index])\n",
    "        #print(f'{i[first_index]+i[second_index]}')\n",
    "else:\n",
    "    print(\"index valuue is out of value\")\n",
    "\n",
    "\n",
    "        "
   ]
  },
  {
   "cell_type": "code",
   "execution_count": null,
   "id": "cheap-algorithm",
   "metadata": {},
   "outputs": [],
   "source": [
    "for i in my_list:    if l_"
   ]
  }
 ],
 "metadata": {
  "kernelspec": {
   "display_name": "Python 3",
   "language": "python",
   "name": "python3"
  }
 },
 "nbformat": 4,
 "nbformat_minor": 5
}
