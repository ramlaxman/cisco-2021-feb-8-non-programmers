{
 "cells": [
  {
   "cell_type": "code",
   "execution_count": 1,
   "id": "completed-stock",
   "metadata": {},
   "outputs": [
    {
     "name": "stdout",
     "output_type": "stream",
     "text": [
      "Hello chum!\n"
     ]
    }
   ],
   "source": [
    "print ('Hello chum!') #Hey, i'm doing the thing now. Huzzah"
   ]
  },
  {
   "cell_type": "code",
   "execution_count": 2,
   "id": "collaborative-setup",
   "metadata": {},
   "outputs": [
    {
     "name": "stdout",
     "output_type": "stream",
     "text": [
      "7\n"
     ]
    }
   ],
   "source": [
    "x=3\n",
    "y=4\n",
    "print (x+y)"
   ]
  },
  {
   "cell_type": "code",
   "execution_count": 26,
   "id": "pharmaceutical-doctrine",
   "metadata": {},
   "outputs": [
    {
     "name": "stdout",
     "output_type": "stream",
     "text": [
      "Hello, Joe.\n"
     ]
    }
   ],
   "source": [
    "name='Joe'\n",
    "print ('Hello, ' + name + '.')\n",
    "\n",
    "\n",
    "\n"
   ]
  },
  {
   "cell_type": "code",
   "execution_count": 38,
   "id": "unlimited-yeast",
   "metadata": {},
   "outputs": [
    {
     "name": "stdout",
     "output_type": "stream",
     "text": [
      "Hello, Joe , you are turning 42 because you were born in 1979 - damn son, you old\n"
     ]
    }
   ],
   "source": [
    "name = 'Joe'\n",
    "birthyear = 1979\n",
    "age_this_year = 42\n",
    "print (f'Hello, {name} , you are turning {age_this_year} because you were born in {birthyear} - damn son, you old')\n"
   ]
  },
  {
   "cell_type": "markdown",
   "id": "genetic-research",
   "metadata": {},
   "source": []
  },
  {
   "cell_type": "code",
   "execution_count": 50,
   "id": "central-tension",
   "metadata": {},
   "outputs": [
    {
     "name": "stdout",
     "output_type": "stream",
     "text": [
      "Hey man, how do you feel?Tired\n"
     ]
    },
    {
     "ename": "NameError",
     "evalue": "name 'Print' is not defined",
     "output_type": "error",
     "traceback": [
      "\u001b[0;31m---------------------------------------------------------------------------\u001b[0m",
      "\u001b[0;31mNameError\u001b[0m                                 Traceback (most recent call last)",
      "\u001b[0;32m<ipython-input-50-644bc091ad34>\u001b[0m in \u001b[0;36m<module>\u001b[0;34m\u001b[0m\n\u001b[1;32m      2\u001b[0m \u001b[0ms\u001b[0m \u001b[0;34m=\u001b[0m \u001b[0minput\u001b[0m \u001b[0;34m(\u001b[0m\u001b[0;34m'Hey man, how do you feel?'\u001b[0m\u001b[0;34m)\u001b[0m\u001b[0;34m\u001b[0m\u001b[0;34m\u001b[0m\u001b[0m\n\u001b[1;32m      3\u001b[0m \u001b[0mfeeling\u001b[0m \u001b[0;34m=\u001b[0m \u001b[0;34m's'\u001b[0m\u001b[0;34m\u001b[0m\u001b[0;34m\u001b[0m\u001b[0m\n\u001b[0;32m----> 4\u001b[0;31m \u001b[0mPrint\u001b[0m \u001b[0;34m(\u001b[0m\u001b[0;34mf'I hear you feel really'\u001b[0m \u001b[0;34m+\u001b[0m \u001b[0;34m{\u001b[0m\u001b[0ms\u001b[0m\u001b[0;34m}\u001b[0m \u001b[0;34m+\u001b[0m \u001b[0;34m{\u001b[0m\u001b[0mname\u001b[0m\u001b[0;34m}\u001b[0m\u001b[0;34m)\u001b[0m\u001b[0;34m\u001b[0m\u001b[0;34m\u001b[0m\u001b[0m\n\u001b[0m",
      "\u001b[0;31mNameError\u001b[0m: name 'Print' is not defined"
     ]
    }
   ],
   "source": [
    "name = 'Joe'\n",
    "s = input ('Hey man, how do you feel?')\n",
    "feeling = 's'\n",
    "Print (f'I hear you feel really' + {s} + {name})"
   ]
  },
  {
   "cell_type": "code",
   "execution_count": 54,
   "id": "innocent-flood",
   "metadata": {},
   "outputs": [
    {
     "name": "stdout",
     "output_type": "stream",
     "text": [
      "Hi, where do you work?: Cisco\n",
      "Oh snap, well done\n"
     ]
    }
   ],
   "source": [
    "work = input ('Hi, where do you work?: ')\n",
    "\n",
    "if work == 'Cisco':\n",
    "    print ('Oh snap, well done')\n",
    "else: \n",
    "    print ('Did you know Cisco is hiring?')"
   ]
  },
  {
   "cell_type": "code",
   "execution_count": 83,
   "id": "outside-cruise",
   "metadata": {},
   "outputs": [
    {
     "ename": "SyntaxError",
     "evalue": "invalid syntax (<ipython-input-83-aa75bfb951e8>, line 2)",
     "output_type": "error",
     "traceback": [
      "\u001b[0;36m  File \u001b[0;32m\"<ipython-input-83-aa75bfb951e8>\"\u001b[0;36m, line \u001b[0;32m2\u001b[0m\n\u001b[0;31m    if Company == 'Cisco'\u001b[0m\n\u001b[0m                         ^\u001b[0m\n\u001b[0;31mSyntaxError\u001b[0m\u001b[0;31m:\u001b[0m invalid syntax\n"
     ]
    }
   ],
   "source": [
    "Company = input ('Yo, where did you work before Cisco? : ')\n",
    "if Company == 'Cisco'\n",
    "    print ('Hey, that is cool!')\n",
    "elif Company == '': \n",
    "    print ('Bummer man')"
   ]
  },
  {
   "cell_type": "code",
   "execution_count": 129,
   "id": "corporate-stupid",
   "metadata": {},
   "outputs": [
    {
     "name": "stdout",
     "output_type": "stream",
     "text": [
      "What is your name?:  Joe\n",
      "Where did you work?: Cisco\n",
      "Wow, that is cool\n"
     ]
    }
   ],
   "source": [
    "name = input ('What is your name?:  ')\n",
    "company = input ('Where did you work?: ')\n",
    "if name == 'Joe' and company == 'Cisco':   \n",
    "    print('Wow, that is cool')\n"
   ]
  },
  {
   "cell_type": "code",
   "execution_count": 133,
   "id": "established-judge",
   "metadata": {},
   "outputs": [
    {
     "name": "stdout",
     "output_type": "stream",
     "text": [
      "Give me a word Apple\n",
      "Give me another word Boo\n",
      "We all know the ABC song\n",
      "Also, they do not match\n"
     ]
    }
   ],
   "source": [
    "first_word = input ('Give me a word ')\n",
    "second_word = input ('Give me another word ')\n",
    "if first_word < second_word:\n",
    "    print('We all know the ABC song')\n",
    "if first_word > second_word:\n",
    "    print('Super Nope')\n",
    "elif first_word != second_word:\n",
    "    print('Also, they do not match')\n",
    "        "
   ]
  },
  {
   "cell_type": "code",
   "execution_count": 162,
   "id": "animated-circular",
   "metadata": {},
   "outputs": [
    {
     "ename": "SyntaxError",
     "evalue": "EOL while scanning string literal (<ipython-input-162-e4c45e5a68e5>, line 3)",
     "output_type": "error",
     "traceback": [
      "\u001b[0;36m  File \u001b[0;32m\"<ipython-input-162-e4c45e5a68e5>\"\u001b[0;36m, line \u001b[0;32m3\u001b[0m\n\u001b[0;31m    print(f'The number is {number})\u001b[0m\n\u001b[0m                                   ^\u001b[0m\n\u001b[0;31mSyntaxError\u001b[0m\u001b[0;31m:\u001b[0m EOL while scanning string literal\n"
     ]
    }
   ],
   "source": [
    "import random\n",
    "number = random.randint(0,100)\n",
    "print(f'The number is {number})\n",
    "\n"
   ]
  },
  {
   "cell_type": "code",
   "execution_count": 173,
   "id": "amber-probe",
   "metadata": {},
   "outputs": [
    {
     "ename": "IndentationError",
     "evalue": "expected an indented block (<ipython-input-173-c47da37478ae>, line 5)",
     "output_type": "error",
     "traceback": [
      "\u001b[0;36m  File \u001b[0;32m\"<ipython-input-173-c47da37478ae>\"\u001b[0;36m, line \u001b[0;32m5\u001b[0m\n\u001b[0;31m    elif first(int) + second(int)\u001b[0m\n\u001b[0m    ^\u001b[0m\n\u001b[0;31mIndentationError\u001b[0m\u001b[0;31m:\u001b[0m expected an indented block\n"
     ]
    }
   ],
   "source": [
    "first = input ('Input a number : ')\n",
    "second = input ('Input another number : ')\n",
    "operator = input ('Enter + or -')\n",
    "first = int\n",
    "if operator == '+':\n",
    "elif first(int) + second(int)\n",
    "    print ('That is not a valid operator')"
   ]
  },
  {
   "cell_type": "code",
   "execution_count": null,
   "id": "bridal-constant",
   "metadata": {},
   "outputs": [],
   "source": []
  }
 ],
 "metadata": {
  "kernelspec": {
   "display_name": "Python 3",
   "language": "python",
   "name": "python3"
  },
  "language_info": {
   "codemirror_mode": {
    "name": "ipython",
    "version": 3
   },
   "file_extension": ".py",
   "mimetype": "text/x-python",
   "name": "python",
   "nbconvert_exporter": "python",
   "pygments_lexer": "ipython3",
   "version": "3.8.6"
  }
 },
 "nbformat": 4,
 "nbformat_minor": 5
}
