{
 "cells": [
  {
   "cell_type": "code",
   "execution_count": 1,
   "id": "aquatic-evans",
   "metadata": {},
   "outputs": [
    {
     "name": "stdout",
     "output_type": "stream",
     "text": [
      "Reuven Rocks\n"
     ]
    }
   ],
   "source": [
    "print (\"Reuven Rocks\")"
   ]
  },
  {
   "cell_type": "code",
   "execution_count": 2,
   "id": "difficult-employer",
   "metadata": {},
   "outputs": [
    {
     "name": "stdout",
     "output_type": "stream",
     "text": [
      "name + Good Morning.\n"
     ]
    }
   ],
   "source": [
    "name = 'Anuj'\n",
    "print ('name + Good Morning.')"
   ]
  },
  {
   "cell_type": "code",
   "execution_count": 3,
   "id": "constitutional-filename",
   "metadata": {},
   "outputs": [
    {
     "name": "stdout",
     "output_type": "stream",
     "text": [
      "name+greeting\n"
     ]
    }
   ],
   "source": [
    "name='Anuj'\n",
    "greeting='Good Morning.'\n",
    "print('name+greeting')"
   ]
  },
  {
   "cell_type": "code",
   "execution_count": 4,
   "id": "placed-howard",
   "metadata": {},
   "outputs": [
    {
     "data": {
      "text/plain": [
       "'AnujGood Morning.'"
      ]
     },
     "execution_count": 4,
     "metadata": {},
     "output_type": "execute_result"
    }
   ],
   "source": [
    "name='Anuj'\n",
    "greeting='Good Morning.'\n",
    "name + greeting"
   ]
  },
  {
   "cell_type": "code",
   "execution_count": 5,
   "id": "compound-india",
   "metadata": {},
   "outputs": [
    {
     "data": {
      "text/plain": [
       "'1020'"
      ]
     },
     "execution_count": 5,
     "metadata": {},
     "output_type": "execute_result"
    }
   ],
   "source": [
    "x='10'\n",
    "y='20'\n",
    "x+y"
   ]
  },
  {
   "cell_type": "code",
   "execution_count": 6,
   "id": "material-genre",
   "metadata": {},
   "outputs": [
    {
     "name": "stdout",
     "output_type": "stream",
     "text": [
      "x+y\n"
     ]
    }
   ],
   "source": [
    "x='10'\n",
    "y='20'\n",
    "print('x+y')"
   ]
  },
  {
   "cell_type": "code",
   "execution_count": 7,
   "id": "therapeutic-retailer",
   "metadata": {},
   "outputs": [
    {
     "name": "stdout",
     "output_type": "stream",
     "text": [
      "Good MorningAnuj\n"
     ]
    }
   ],
   "source": [
    "name='Anuj'\n",
    "print('Good Morning'+name)"
   ]
  },
  {
   "cell_type": "code",
   "execution_count": 8,
   "id": "published-veteran",
   "metadata": {},
   "outputs": [
    {
     "ename": "SyntaxError",
     "evalue": "EOL while scanning string literal (<ipython-input-8-84b7a53134f1>, line 4)",
     "output_type": "error",
     "traceback": [
      "\u001b[0;36m  File \u001b[0;32m\"<ipython-input-8-84b7a53134f1>\"\u001b[0;36m, line \u001b[0;32m4\u001b[0m\n\u001b[0;31m    print(f'{name},{age_this_year})\u001b[0m\n\u001b[0m                                   ^\u001b[0m\n\u001b[0;31mSyntaxError\u001b[0m\u001b[0;31m:\u001b[0m EOL while scanning string literal\n"
     ]
    }
   ],
   "source": [
    "name='Anuj'\n",
    "birthyear='1992'\n",
    "age_this_year='2021-birthyear'\n",
    "print(f'{name},{age_this_year})"
   ]
  },
  {
   "cell_type": "code",
   "execution_count": 9,
   "id": "natural-trace",
   "metadata": {},
   "outputs": [
    {
     "name": "stdout",
     "output_type": "stream",
     "text": [
      "Anuj,2021-birthyear\n"
     ]
    }
   ],
   "source": [
    "name='Anuj'\n",
    "birthyear='1992'\n",
    "age_this_year='2021-birthyear'\n",
    "print(f'{name},{age_this_year}')"
   ]
  },
  {
   "cell_type": "code",
   "execution_count": 10,
   "id": "weighted-suspension",
   "metadata": {},
   "outputs": [
    {
     "name": "stdout",
     "output_type": "stream",
     "text": [
      "Anuj,29\n"
     ]
    }
   ],
   "source": [
    "name='Anuj'\n",
    "birthyear=1992\n",
    "age_this_year=2021-birthyear\n",
    "print(f'{name},{age_this_year}')"
   ]
  },
  {
   "cell_type": "code",
   "execution_count": 11,
   "id": "genuine-condition",
   "metadata": {},
   "outputs": [
    {
     "ename": "SyntaxError",
     "evalue": "EOL while scanning string literal (<ipython-input-11-23e88e56f4b8>, line 1)",
     "output_type": "error",
     "traceback": [
      "\u001b[0;36m  File \u001b[0;32m\"<ipython-input-11-23e88e56f4b8>\"\u001b[0;36m, line \u001b[0;32m1\u001b[0m\n\u001b[0;31m    s=input('Enter your name:')'\u001b[0m\n\u001b[0m                                ^\u001b[0m\n\u001b[0;31mSyntaxError\u001b[0m\u001b[0;31m:\u001b[0m EOL while scanning string literal\n"
     ]
    }
   ],
   "source": [
    "s=input('Enter your name:')'"
   ]
  },
  {
   "cell_type": "code",
   "execution_count": null,
   "id": "pleasant-catalog",
   "metadata": {},
   "outputs": [],
   "source": [
    "s = input('Enter your name:')"
   ]
  },
  {
   "cell_type": "code",
   "execution_count": null,
   "id": "guided-activity",
   "metadata": {},
   "outputs": [],
   "source": [
    "y = input('Enter your current emotional state:')"
   ]
  },
  {
   "cell_type": "code",
   "execution_count": null,
   "id": "previous-hygiene",
   "metadata": {},
   "outputs": [],
   "source": [
    "print = (s+y)"
   ]
  },
  {
   "cell_type": "code",
   "execution_count": null,
   "id": "chemical-cover",
   "metadata": {},
   "outputs": [],
   "source": []
  },
  {
   "cell_type": "code",
   "execution_count": null,
   "id": "whole-valley",
   "metadata": {},
   "outputs": [],
   "source": []
  },
  {
   "cell_type": "code",
   "execution_count": null,
   "id": "massive-landing",
   "metadata": {},
   "outputs": [],
   "source": [
    "name = input('Enter your name:')\n",
    "feeling = input ('How are you feeling? ')\n",
    "print(f'Hey, {name}), good to know you are feeling {feeling}.')"
   ]
  },
  {
   "cell_type": "code",
   "execution_count": null,
   "id": "alleged-italy",
   "metadata": {},
   "outputs": [],
   "source": [
    "work = input('where do you work:')\n",
    "\n",
    "if name == 'Cisco': \n",
    "    print('Warm Greetings!')\n",
    "    \n",
    "    else:\n",
    "        print(f'{name}you are not invited')"
   ]
  },
  {
   "cell_type": "code",
   "execution_count": 14,
   "id": "academic-scale",
   "metadata": {},
   "outputs": [
    {
     "name": "stdout",
     "output_type": "stream",
     "text": [
      "where do you work:apple\n",
      "appleyou are not invited\n"
     ]
    }
   ],
   "source": [
    "name = input('where do you work:')\n",
    "\n",
    "if name == 'Cisco': \n",
    "    print('Warm Greetings!')\n",
    "    \n",
    "else:\n",
    "    print(f'{name}you are not invited')"
   ]
  },
  {
   "cell_type": "code",
   "execution_count": null,
   "id": "senior-mumbai",
   "metadata": {},
   "outputs": [],
   "source": []
  },
  {
   "cell_type": "code",
   "execution_count": 16,
   "id": "unlikely-participant",
   "metadata": {},
   "outputs": [
    {
     "ename": "IndentationError",
     "evalue": "unindent does not match any outer indentation level (<tokenize>, line 6)",
     "output_type": "error",
     "traceback": [
      "\u001b[0;36m  File \u001b[0;32m\"<tokenize>\"\u001b[0;36m, line \u001b[0;32m6\u001b[0m\n\u001b[0;31m    elseif user == 'Apple':\u001b[0m\n\u001b[0m    ^\u001b[0m\n\u001b[0;31mIndentationError\u001b[0m\u001b[0;31m:\u001b[0m unindent does not match any outer indentation level\n"
     ]
    }
   ],
   "source": [
    "user = input('where do you work')\n",
    "\n",
    "if user == 'Cisco' :\n",
    "        print('COngrats we are colleagues')\n",
    "    \n",
    "    elseif user == 'Apple':\n",
    "        print ('we used to work together')\n",
    "        \n",
    "        elseif user == 'yahoo' :\n",
    "            print ('we are strangers')\n",
    "            \n",
    "            "
   ]
  },
  {
   "cell_type": "code",
   "execution_count": 18,
   "id": "black-night",
   "metadata": {},
   "outputs": [
    {
     "ename": "IndentationError",
     "evalue": "unindent does not match any outer indentation level (<tokenize>, line 6)",
     "output_type": "error",
     "traceback": [
      "\u001b[0;36m  File \u001b[0;32m\"<tokenize>\"\u001b[0;36m, line \u001b[0;32m6\u001b[0m\n\u001b[0;31m    elif user == 'Apple':\u001b[0m\n\u001b[0m    ^\u001b[0m\n\u001b[0;31mIndentationError\u001b[0m\u001b[0;31m:\u001b[0m unindent does not match any outer indentation level\n"
     ]
    }
   ],
   "source": [
    "user = input('where do you work')\n",
    "\n",
    "if user == 'Cisco' :\n",
    "        print('COngrats we are colleagues')\n",
    "    \n",
    "    elif user == 'Apple':\n",
    "        print ('we used to work together')\n",
    "        \n",
    "        elif user == 'yahoo' :\n",
    "            print ('we are strangers')"
   ]
  },
  {
   "cell_type": "code",
   "execution_count": 19,
   "id": "black-membrane",
   "metadata": {},
   "outputs": [
    {
     "name": "stdout",
     "output_type": "stream",
     "text": [
      "where do you workyahoo\n",
      "we are strangers\n"
     ]
    }
   ],
   "source": [
    "user = input('where do you work')\n",
    "\n",
    "if user == 'Cisco' :\n",
    "        print('COngrats we are colleagues')\n",
    "    \n",
    "elif user == 'Apple':\n",
    "        print ('we used to work together')\n",
    "        \n",
    "elif user == 'yahoo' :\n",
    "        print ('we are strangers')"
   ]
  },
  {
   "cell_type": "code",
   "execution_count": 20,
   "id": "civil-corner",
   "metadata": {},
   "outputs": [
    {
     "ename": "SyntaxError",
     "evalue": "invalid syntax (<ipython-input-20-380fb22f0e4b>, line 3)",
     "output_type": "error",
     "traceback": [
      "\u001b[0;36m  File \u001b[0;32m\"<ipython-input-20-380fb22f0e4b>\"\u001b[0;36m, line \u001b[0;32m3\u001b[0m\n\u001b[0;31m    if (name == company )\u001b[0m\n\u001b[0m                         ^\u001b[0m\n\u001b[0;31mSyntaxError\u001b[0m\u001b[0;31m:\u001b[0m invalid syntax\n"
     ]
    }
   ],
   "source": [
    "name = input('please enter your name')\n",
    "company = input('please enter your company')\n",
    "if (name == company )\n",
    "print('it must be you')\n",
    "elif \n"
   ]
  },
  {
   "cell_type": "code",
   "execution_count": null,
   "id": "willing-productivity",
   "metadata": {},
   "outputs": [],
   "source": []
  }
 ],
 "metadata": {
  "kernelspec": {
   "display_name": "Python 3",
   "language": "python",
   "name": "python3"
  }
 },
 "nbformat": 4,
 "nbformat_minor": 5
}
