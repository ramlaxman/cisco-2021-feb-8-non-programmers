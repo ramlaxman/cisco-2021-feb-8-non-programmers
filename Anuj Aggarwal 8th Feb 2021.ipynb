{
 "cells": [
  {
   "cell_type": "code",
   "execution_count": 1,
   "id": "desirable-positive",
   "metadata": {},
   "outputs": [
    {
     "name": "stdout",
     "output_type": "stream",
     "text": [
      "Reuven Rocks\n"
     ]
    }
   ],
   "source": [
    "print (\"Reuven Rocks\")"
   ]
  },
  {
   "cell_type": "code",
   "execution_count": 2,
   "id": "loved-thanks",
   "metadata": {},
   "outputs": [
    {
     "name": "stdout",
     "output_type": "stream",
     "text": [
      "name + Good Morning.\n"
     ]
    }
   ],
   "source": [
    "name = 'Anuj'\n",
    "print ('name + Good Morning.')"
   ]
  },
  {
   "cell_type": "code",
   "execution_count": 3,
   "id": "premium-liberty",
   "metadata": {},
   "outputs": [
    {
     "name": "stdout",
     "output_type": "stream",
     "text": [
      "name+greeting\n"
     ]
    }
   ],
   "source": [
    "name='Anuj'\n",
    "greeting='Good Morning.'\n",
    "print('name+greeting')"
   ]
  },
  {
   "cell_type": "code",
   "execution_count": 4,
   "id": "instant-skiing",
   "metadata": {},
   "outputs": [
    {
     "data": {
      "text/plain": [
       "'AnujGood Morning.'"
      ]
     },
     "execution_count": 4,
     "metadata": {},
     "output_type": "execute_result"
    }
   ],
   "source": [
    "name='Anuj'\n",
    "greeting='Good Morning.'\n",
    "name + greeting"
   ]
  },
  {
   "cell_type": "code",
   "execution_count": 5,
   "id": "loved-spank",
   "metadata": {},
   "outputs": [
    {
     "data": {
      "text/plain": [
       "'1020'"
      ]
     },
     "execution_count": 5,
     "metadata": {},
     "output_type": "execute_result"
    }
   ],
   "source": [
    "x='10'\n",
    "y='20'\n",
    "x+y"
   ]
  },
  {
   "cell_type": "code",
   "execution_count": 6,
   "id": "conventional-zoning",
   "metadata": {},
   "outputs": [
    {
     "name": "stdout",
     "output_type": "stream",
     "text": [
      "x+y\n"
     ]
    }
   ],
   "source": [
    "x='10'\n",
    "y='20'\n",
    "print('x+y')"
   ]
  },
  {
   "cell_type": "code",
   "execution_count": 7,
   "id": "promising-manual",
   "metadata": {},
   "outputs": [
    {
     "name": "stdout",
     "output_type": "stream",
     "text": [
      "Good MorningAnuj\n"
     ]
    }
   ],
   "source": [
    "name='Anuj'\n",
    "print('Good Morning'+name)"
   ]
  },
  {
   "cell_type": "code",
   "execution_count": 8,
   "id": "spiritual-albert",
   "metadata": {},
   "outputs": [
    {
     "ename": "SyntaxError",
     "evalue": "EOL while scanning string literal (<ipython-input-8-84b7a53134f1>, line 4)",
     "output_type": "error",
     "traceback": [
      "\u001b[0;36m  File \u001b[0;32m\"<ipython-input-8-84b7a53134f1>\"\u001b[0;36m, line \u001b[0;32m4\u001b[0m\n\u001b[0;31m    print(f'{name},{age_this_year})\u001b[0m\n\u001b[0m                                   ^\u001b[0m\n\u001b[0;31mSyntaxError\u001b[0m\u001b[0;31m:\u001b[0m EOL while scanning string literal\n"
     ]
    }
   ],
   "source": [
    "name='Anuj'\n",
    "birthyear='1992'\n",
    "age_this_year='2021-birthyear'\n",
    "print(f'{name},{age_this_year})"
   ]
  },
  {
   "cell_type": "code",
   "execution_count": 9,
   "id": "extensive-dakota",
   "metadata": {},
   "outputs": [
    {
     "name": "stdout",
     "output_type": "stream",
     "text": [
      "Anuj,2021-birthyear\n"
     ]
    }
   ],
   "source": [
    "name='Anuj'\n",
    "birthyear='1992'\n",
    "age_this_year='2021-birthyear'\n",
    "print(f'{name},{age_this_year}')"
   ]
  },
  {
   "cell_type": "code",
   "execution_count": 10,
   "id": "mediterranean-emergency",
   "metadata": {},
   "outputs": [
    {
     "name": "stdout",
     "output_type": "stream",
     "text": [
      "Anuj,29\n"
     ]
    }
   ],
   "source": [
    "name='Anuj'\n",
    "birthyear=1992\n",
    "age_this_year=2021-birthyear\n",
    "print(f'{name},{age_this_year}')"
   ]
  },
  {
   "cell_type": "code",
   "execution_count": 11,
   "id": "united-black",
   "metadata": {},
   "outputs": [
    {
     "ename": "SyntaxError",
     "evalue": "EOL while scanning string literal (<ipython-input-11-23e88e56f4b8>, line 1)",
     "output_type": "error",
     "traceback": [
      "\u001b[0;36m  File \u001b[0;32m\"<ipython-input-11-23e88e56f4b8>\"\u001b[0;36m, line \u001b[0;32m1\u001b[0m\n\u001b[0;31m    s=input('Enter your name:')'\u001b[0m\n\u001b[0m                                ^\u001b[0m\n\u001b[0;31mSyntaxError\u001b[0m\u001b[0;31m:\u001b[0m EOL while scanning string literal\n"
     ]
    }
   ],
   "source": [
    "s=input('Enter your name:')'"
   ]
  },
  {
   "cell_type": "code",
   "execution_count": null,
   "id": "unique-field",
   "metadata": {},
   "outputs": [],
   "source": [
    "s = input('Enter your name:')"
   ]
  },
  {
   "cell_type": "code",
   "execution_count": null,
   "id": "radio-configuration",
   "metadata": {},
   "outputs": [],
   "source": [
    "y = input('Enter your current emotional state:')"
   ]
  },
  {
   "cell_type": "code",
   "execution_count": null,
   "id": "remarkable-commerce",
   "metadata": {},
   "outputs": [],
   "source": [
    "print = (s+y)"
   ]
  },
  {
   "cell_type": "code",
   "execution_count": null,
   "id": "separate-firewall",
   "metadata": {},
   "outputs": [],
   "source": []
  },
  {
   "cell_type": "code",
   "execution_count": null,
   "id": "false-lecture",
   "metadata": {},
   "outputs": [],
   "source": []
  },
  {
   "cell_type": "code",
   "execution_count": null,
   "id": "fatty-criticism",
   "metadata": {},
   "outputs": [],
   "source": [
    "name = input('Enter your name:')\n",
    "feeling = input ('How are you feeling? ')\n",
    "print(f'Hey, {name}), good to know you are feeling {feeling}.')"
   ]
  },
  {
   "cell_type": "code",
   "execution_count": null,
   "id": "regulated-cookbook",
   "metadata": {},
   "outputs": [],
   "source": [
    "work = input('where do you work:')\n",
    "\n",
    "if name == 'Cisco': \n",
    "    print('Warm Greetings!')\n",
    "    \n",
    "    else:\n",
    "        print(f'{name}you are not invited')"
   ]
  },
  {
   "cell_type": "code",
   "execution_count": 14,
   "id": "disabled-beginning",
   "metadata": {},
   "outputs": [
    {
     "name": "stdout",
     "output_type": "stream",
     "text": [
      "where do you work:apple\n",
      "appleyou are not invited\n"
     ]
    }
   ],
   "source": [
    "name = input('where do you work:')\n",
    "\n",
    "if name == 'Cisco': \n",
    "    print('Warm Greetings!')\n",
    "    \n",
    "else:\n",
    "    print(f'{name}you are not invited')"
   ]
  },
  {
   "cell_type": "code",
   "execution_count": null,
   "id": "residential-curtis",
   "metadata": {},
   "outputs": [],
   "source": []
  },
  {
   "cell_type": "code",
   "execution_count": 16,
   "id": "closing-somewhere",
   "metadata": {},
   "outputs": [
    {
     "ename": "IndentationError",
     "evalue": "unindent does not match any outer indentation level (<tokenize>, line 6)",
     "output_type": "error",
     "traceback": [
      "\u001b[0;36m  File \u001b[0;32m\"<tokenize>\"\u001b[0;36m, line \u001b[0;32m6\u001b[0m\n\u001b[0;31m    elseif user == 'Apple':\u001b[0m\n\u001b[0m    ^\u001b[0m\n\u001b[0;31mIndentationError\u001b[0m\u001b[0;31m:\u001b[0m unindent does not match any outer indentation level\n"
     ]
    }
   ],
   "source": [
    "user = input('where do you work')\n",
    "\n",
    "if user == 'Cisco' :\n",
    "        print('COngrats we are colleagues')\n",
    "    \n",
    "    elseif user == 'Apple':\n",
    "        print ('we used to work together')\n",
    "        \n",
    "        elseif user == 'yahoo' :\n",
    "            print ('we are strangers')\n",
    "            \n",
    "            "
   ]
  },
  {
   "cell_type": "code",
   "execution_count": 18,
   "id": "beautiful-vienna",
   "metadata": {},
   "outputs": [
    {
     "ename": "IndentationError",
     "evalue": "unindent does not match any outer indentation level (<tokenize>, line 6)",
     "output_type": "error",
     "traceback": [
      "\u001b[0;36m  File \u001b[0;32m\"<tokenize>\"\u001b[0;36m, line \u001b[0;32m6\u001b[0m\n\u001b[0;31m    elif user == 'Apple':\u001b[0m\n\u001b[0m    ^\u001b[0m\n\u001b[0;31mIndentationError\u001b[0m\u001b[0;31m:\u001b[0m unindent does not match any outer indentation level\n"
     ]
    }
   ],
   "source": [
    "user = input('where do you work')\n",
    "\n",
    "if user == 'Cisco' :\n",
    "        print('COngrats we are colleagues')\n",
    "    \n",
    "    elif user == 'Apple':\n",
    "        print ('we used to work together')\n",
    "        \n",
    "        elif user == 'yahoo' :\n",
    "            print ('we are strangers')"
   ]
  },
  {
   "cell_type": "code",
   "execution_count": 19,
   "id": "owned-victorian",
   "metadata": {},
   "outputs": [
    {
     "name": "stdout",
     "output_type": "stream",
     "text": [
      "where do you workyahoo\n",
      "we are strangers\n"
     ]
    }
   ],
   "source": [
    "user = input('where do you work')\n",
    "\n",
    "if user == 'Cisco' :\n",
    "        print('COngrats we are colleagues')\n",
    "    \n",
    "elif user == 'Apple':\n",
    "        print ('we used to work together')\n",
    "        \n",
    "elif user == 'yahoo' :\n",
    "        print ('we are strangers')"
   ]
  },
  {
   "cell_type": "code",
   "execution_count": 20,
   "id": "positive-appliance",
   "metadata": {},
   "outputs": [
    {
     "ename": "SyntaxError",
     "evalue": "invalid syntax (<ipython-input-20-380fb22f0e4b>, line 3)",
     "output_type": "error",
     "traceback": [
      "\u001b[0;36m  File \u001b[0;32m\"<ipython-input-20-380fb22f0e4b>\"\u001b[0;36m, line \u001b[0;32m3\u001b[0m\n\u001b[0;31m    if (name == company )\u001b[0m\n\u001b[0m                         ^\u001b[0m\n\u001b[0;31mSyntaxError\u001b[0m\u001b[0;31m:\u001b[0m invalid syntax\n"
     ]
    }
   ],
   "source": [
    "name = input('please enter your name')\n",
    "company = input('please enter your company')\n",
    "if (name == company )\n",
    "print('it must be you')\n",
    "elif \n"
   ]
  },
  {
   "cell_type": "code",
   "execution_count": 21,
   "id": "increasing-modification",
   "metadata": {},
   "outputs": [
    {
     "ename": "SyntaxError",
     "evalue": "invalid syntax (<ipython-input-21-4815e3a50a97>, line 3)",
     "output_type": "error",
     "traceback": [
      "\u001b[0;36m  File \u001b[0;32m\"<ipython-input-21-4815e3a50a97>\"\u001b[0;36m, line \u001b[0;32m3\u001b[0m\n\u001b[0;31m    if (first > second)\u001b[0m\n\u001b[0m                       ^\u001b[0m\n\u001b[0;31mSyntaxError\u001b[0m\u001b[0;31m:\u001b[0m invalid syntax\n"
     ]
    }
   ],
   "source": [
    "first = input ('enter first word')\n",
    "second = input ('enter second word')\n",
    "if (first > second)\n",
    "print ('first is graeter than second')\n",
    "else\n",
    "print ('second is greter than first')"
   ]
  },
  {
   "cell_type": "code",
   "execution_count": 27,
   "id": "weird-purpose",
   "metadata": {},
   "outputs": [
    {
     "name": "stdout",
     "output_type": "stream",
     "text": [
      "enter first word10\n",
      "enter second word5\n",
      "10 comes before 5\n"
     ]
    }
   ],
   "source": [
    "first = input ('enter first word')\n",
    "second = input ('enter second word')\n",
    "if first < second:\n",
    "    print(f'{first} comes before {second}')\n",
    "elif first > second:\n",
    "    print(f'{second} comes before {first}')\n",
    "else:\n",
    "    print(f'{first} and {second} are the same')"
   ]
  },
  {
   "cell_type": "code",
   "execution_count": null,
   "id": "extensive-theta",
   "metadata": {},
   "outputs": [],
   "source": []
  },
  {
   "cell_type": "code",
   "execution_count": 31,
   "id": "opening-setting",
   "metadata": {},
   "outputs": [
    {
     "ename": "SyntaxError",
     "evalue": "invalid syntax (<ipython-input-31-40a35cc287af>, line 7)",
     "output_type": "error",
     "traceback": [
      "\u001b[0;36m  File \u001b[0;32m\"<ipython-input-31-40a35cc287af>\"\u001b[0;36m, line \u001b[0;32m7\u001b[0m\n\u001b[0;31m    if number < int(x)\u001b[0m\n\u001b[0m                      ^\u001b[0m\n\u001b[0;31mSyntaxError\u001b[0m\u001b[0;31m:\u001b[0m invalid syntax\n"
     ]
    }
   ],
   "source": [
    "import random\n",
    "number = random.randint(0,100)\n",
    "\n",
    "x = int(10) \n",
    "\n",
    "number = input('please enter your number')\n",
    "if number == 28\n",
    "print ('you got it')\n",
    "   print (f'{number}, is too low)\n",
    "elif number > int(x)\n",
    "          print (f'{number}, is too high)\n",
    "else\n",
    "    \n",
    "                \n",
    "                 "
   ]
  },
  {
   "cell_type": "code",
   "execution_count": null,
   "id": "environmental-villa",
   "metadata": {},
   "outputs": [],
   "source": []
  }
 ],
 "metadata": {
  "kernelspec": {
   "display_name": "Python 3",
   "language": "python",
   "name": "python3"
  }
 },
 "nbformat": 4,
 "nbformat_minor": 5
}
