{
 "cells": [
  {
   "cell_type": "code",
   "execution_count": 1,
   "id": "vanilla-navigation",
   "metadata": {},
   "outputs": [
    {
     "name": "stdout",
     "output_type": "stream",
     "text": [
      "Reuven Rocks\n"
     ]
    }
   ],
   "source": [
    "print (\"Reuven Rocks\")"
   ]
  },
  {
   "cell_type": "code",
   "execution_count": 2,
   "id": "abandoned-slope",
   "metadata": {},
   "outputs": [
    {
     "name": "stdout",
     "output_type": "stream",
     "text": [
      "name + Good Morning.\n"
     ]
    }
   ],
   "source": [
    "name = 'Anuj'\n",
    "print ('name + Good Morning.')"
   ]
  },
  {
   "cell_type": "code",
   "execution_count": 3,
   "id": "likely-prairie",
   "metadata": {},
   "outputs": [
    {
     "name": "stdout",
     "output_type": "stream",
     "text": [
      "name+greeting\n"
     ]
    }
   ],
   "source": [
    "name='Anuj'\n",
    "greeting='Good Morning.'\n",
    "print('name+greeting')"
   ]
  },
  {
   "cell_type": "code",
   "execution_count": 4,
   "id": "incomplete-marker",
   "metadata": {},
   "outputs": [
    {
     "data": {
      "text/plain": [
       "'AnujGood Morning.'"
      ]
     },
     "execution_count": 4,
     "metadata": {},
     "output_type": "execute_result"
    }
   ],
   "source": [
    "name='Anuj'\n",
    "greeting='Good Morning.'\n",
    "name + greeting"
   ]
  },
  {
   "cell_type": "code",
   "execution_count": 5,
   "id": "unlimited-pantyhose",
   "metadata": {},
   "outputs": [
    {
     "data": {
      "text/plain": [
       "'1020'"
      ]
     },
     "execution_count": 5,
     "metadata": {},
     "output_type": "execute_result"
    }
   ],
   "source": [
    "x='10'\n",
    "y='20'\n",
    "x+y"
   ]
  },
  {
   "cell_type": "code",
   "execution_count": 6,
   "id": "desperate-economy",
   "metadata": {},
   "outputs": [
    {
     "name": "stdout",
     "output_type": "stream",
     "text": [
      "x+y\n"
     ]
    }
   ],
   "source": [
    "x='10'\n",
    "y='20'\n",
    "print('x+y')"
   ]
  },
  {
   "cell_type": "code",
   "execution_count": 7,
   "id": "compressed-median",
   "metadata": {},
   "outputs": [
    {
     "name": "stdout",
     "output_type": "stream",
     "text": [
      "Good MorningAnuj\n"
     ]
    }
   ],
   "source": [
    "name='Anuj'\n",
    "print('Good Morning'+name)"
   ]
  },
  {
   "cell_type": "code",
   "execution_count": 8,
   "id": "distinct-lighting",
   "metadata": {},
   "outputs": [
    {
     "ename": "SyntaxError",
     "evalue": "EOL while scanning string literal (<ipython-input-8-84b7a53134f1>, line 4)",
     "output_type": "error",
     "traceback": [
      "\u001b[0;36m  File \u001b[0;32m\"<ipython-input-8-84b7a53134f1>\"\u001b[0;36m, line \u001b[0;32m4\u001b[0m\n\u001b[0;31m    print(f'{name},{age_this_year})\u001b[0m\n\u001b[0m                                   ^\u001b[0m\n\u001b[0;31mSyntaxError\u001b[0m\u001b[0;31m:\u001b[0m EOL while scanning string literal\n"
     ]
    }
   ],
   "source": [
    "name='Anuj'\n",
    "birthyear='1992'\n",
    "age_this_year='2021-birthyear'\n",
    "print(f'{name},{age_this_year})"
   ]
  },
  {
   "cell_type": "code",
   "execution_count": 9,
   "id": "derived-fossil",
   "metadata": {},
   "outputs": [
    {
     "name": "stdout",
     "output_type": "stream",
     "text": [
      "Anuj,2021-birthyear\n"
     ]
    }
   ],
   "source": [
    "name='Anuj'\n",
    "birthyear='1992'\n",
    "age_this_year='2021-birthyear'\n",
    "print(f'{name},{age_this_year}')"
   ]
  },
  {
   "cell_type": "code",
   "execution_count": 10,
   "id": "moderate-kuwait",
   "metadata": {},
   "outputs": [
    {
     "name": "stdout",
     "output_type": "stream",
     "text": [
      "Anuj,29\n"
     ]
    }
   ],
   "source": [
    "name='Anuj'\n",
    "birthyear=1992\n",
    "age_this_year=2021-birthyear\n",
    "print(f'{name},{age_this_year}')"
   ]
  },
  {
   "cell_type": "code",
   "execution_count": 11,
   "id": "hungry-delhi",
   "metadata": {},
   "outputs": [
    {
     "ename": "SyntaxError",
     "evalue": "EOL while scanning string literal (<ipython-input-11-23e88e56f4b8>, line 1)",
     "output_type": "error",
     "traceback": [
      "\u001b[0;36m  File \u001b[0;32m\"<ipython-input-11-23e88e56f4b8>\"\u001b[0;36m, line \u001b[0;32m1\u001b[0m\n\u001b[0;31m    s=input('Enter your name:')'\u001b[0m\n\u001b[0m                                ^\u001b[0m\n\u001b[0;31mSyntaxError\u001b[0m\u001b[0;31m:\u001b[0m EOL while scanning string literal\n"
     ]
    }
   ],
   "source": [
    "s=input('Enter your name:')'"
   ]
  },
  {
   "cell_type": "code",
   "execution_count": null,
   "id": "greatest-durham",
   "metadata": {},
   "outputs": [],
   "source": [
    "s = input('Enter your name:')"
   ]
  },
  {
   "cell_type": "code",
   "execution_count": null,
   "id": "atlantic-reading",
   "metadata": {},
   "outputs": [],
   "source": [
    "y = input('Enter your current emotional state:')"
   ]
  },
  {
   "cell_type": "code",
   "execution_count": null,
   "id": "subsequent-teacher",
   "metadata": {},
   "outputs": [],
   "source": [
    "print = (s+y)"
   ]
  },
  {
   "cell_type": "code",
   "execution_count": null,
   "id": "hundred-winner",
   "metadata": {},
   "outputs": [],
   "source": []
  },
  {
   "cell_type": "code",
   "execution_count": null,
   "id": "suitable-solution",
   "metadata": {},
   "outputs": [],
   "source": []
  },
  {
   "cell_type": "code",
   "execution_count": null,
   "id": "classified-highland",
   "metadata": {},
   "outputs": [],
   "source": [
    "name = input('Enter your name:')\n",
    "feeling = input ('How are you feeling? ')\n",
    "print(f'Hey, {name}), good to know you are feeling {feeling}.')"
   ]
  },
  {
   "cell_type": "code",
   "execution_count": null,
   "id": "favorite-fairy",
   "metadata": {},
   "outputs": [],
   "source": [
    "work = input('where do you work:')\n",
    "\n",
    "if name == 'Cisco': \n",
    "    print('Warm Greetings')"
   ]
  }
 ],
 "metadata": {
  "kernelspec": {
   "display_name": "Python 3",
   "language": "python",
   "name": "python3"
  },
  "language_info": {
   "codemirror_mode": {
    "name": "ipython",
    "version": 3
   },
   "file_extension": ".py",
   "mimetype": "text/x-python",
   "name": "python",
   "nbconvert_exporter": "python",
   "pygments_lexer": "ipython3",
   "version": "3.8.6"
  }
 },
 "nbformat": 4,
 "nbformat_minor": 5
}
