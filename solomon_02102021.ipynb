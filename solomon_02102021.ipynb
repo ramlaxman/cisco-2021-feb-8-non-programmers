{
 "cells": [
  {
   "cell_type": "code",
   "execution_count": null,
   "id": "alert-appointment",
   "metadata": {},
   "outputs": [],
   "source": [
    "# today is 10.2.2021 "
   ]
  },
  {
   "cell_type": "code",
   "execution_count": 1,
   "id": "civic-system",
   "metadata": {},
   "outputs": [
    {
     "data": {
      "text/plain": [
       "['This', 'is', 'the', 'bunch', 'of', 'wwordssssss']"
      ]
     },
     "execution_count": 1,
     "metadata": {},
     "output_type": "execute_result"
    }
   ],
   "source": [
    "words = ' This is the bunch of wwordssssss'\n",
    "words.split()\n"
   ]
  },
  {
   "cell_type": "code",
   "execution_count": 3,
   "id": "spanish-torture",
   "metadata": {},
   "outputs": [
    {
     "data": {
      "text/plain": [
       "['', 'This', '', '', '', 'is', 'the', 'bunch', 'of', 'wwordssssss']"
      ]
     },
     "execution_count": 3,
     "metadata": {},
     "output_type": "execute_result"
    }
   ],
   "source": [
    "words = ' This    is the bunch of wwordssssss'\n",
    "words.split(' ')"
   ]
  },
  {
   "cell_type": "code",
   "execution_count": 10,
   "id": "distributed-oracle",
   "metadata": {},
   "outputs": [
    {
     "data": {
      "text/plain": [
       "' *T*h*i*s* * * * *i*s* *t*h*e* *b*u*n*c*h* *o*f* *w*w*o*r*d*s*s*s*s*s*s'"
      ]
     },
     "execution_count": 10,
     "metadata": {},
     "output_type": "execute_result"
    }
   ],
   "source": [
    "words = ' This    is the bunch of wwordssssss'\n",
    "'*'.join(words)\n",
    "\n"
   ]
  },
  {
   "cell_type": "code",
   "execution_count": 11,
   "id": "focused-marble",
   "metadata": {},
   "outputs": [
    {
     "data": {
      "text/plain": [
       "' *T*h*i*s* * * * *i*s* *t*h*e* *b*u*n*c*h* *o*f* *w*w*o*r*d*s*s*s*s*s*s'"
      ]
     },
     "execution_count": 11,
     "metadata": {},
     "output_type": "execute_result"
    }
   ],
   "source": [
    "ggg"
   ]
  },
  {
   "cell_type": "code",
   "execution_count": 12,
   "id": "qualified-palace",
   "metadata": {},
   "outputs": [
    {
     "data": {
      "text/plain": [
       "' *T*h*i*s* * * * *i*s* *t*h*e* *b*u*n*c*h* *o*f* *w*w*o*r*d*s*s*s*s*s*s'"
      ]
     },
     "execution_count": 12,
     "metadata": {},
     "output_type": "execute_result"
    }
   ],
   "source": [
    "words = ' This    is the bunch of wwordssssss'\n",
    "'*'.join(words)"
   ]
  },
  {
   "cell_type": "code",
   "execution_count": 16,
   "id": "fatty-homeless",
   "metadata": {},
   "outputs": [
    {
     "name": "stdout",
     "output_type": "stream",
     "text": [
      "Enter a sentence: Solomon is wise king\n",
      "olomonSay\n",
      "isway\n",
      "iseway\n",
      "ingkay\n"
     ]
    }
   ],
   "source": [
    "word=input(\"Enter a sentence: \")\n",
    "for words in word.split():\n",
    "    if words[0] in 'aeiou':\n",
    "        print( words + 'way')\n",
    "    else:\n",
    "        print(words[1:]+ words[0]+ 'ay')"
   ]
  },
  {
   "cell_type": "code",
   "execution_count": 26,
   "id": "fuzzy-reminder",
   "metadata": {},
   "outputs": [
    {
     "name": "stdout",
     "output_type": "stream",
     "text": [
      "Enter a sentence: Solomon is wise king\n",
      "olomonSay*isway*iseway*ingkay\n"
     ]
    }
   ],
   "source": [
    "from friendly_traceback.ipython import *\n",
    "output=[]\n",
    "word=input(\"Enter a sentence: \")\n",
    "for words in word.split():\n",
    "    if words[0] in 'aeiou':\n",
    "        output.append(words + 'way')\n",
    "    else:\n",
    "        output.append(words[1:]+ words[0]+ 'ay')\n",
    "        \n",
    "s='*'.join(output)\n",
    "print(s)"
   ]
  },
  {
   "cell_type": "code",
   "execution_count": 25,
   "id": "younger-weather",
   "metadata": {},
   "outputs": [
    {
     "name": "stdout",
     "output_type": "stream",
     "text": [
      "Solomon*is*wise*king\n"
     ]
    }
   ],
   "source": [
    "from friendly_traceback.ipython import *\n",
    "output=['Solomon','is','wise', 'king']\n",
    "s='*'.join(output)\n",
    "print(s)"
   ]
  },
  {
   "cell_type": "code",
   "execution_count": 8,
   "id": "strange-initial",
   "metadata": {},
   "outputs": [
    {
     "name": "stdout",
     "output_type": "stream",
     "text": [
      " Enter the items to order: tea\n",
      "tea costs 3\n",
      " Enter the items to order: coffee\n",
      "coffee costs 3\n",
      " Enter the items to order: \n",
      "come again\n",
      "your total is 6\n"
     ]
    }
   ],
   "source": [
    "## dict exercises\n",
    "total=0\n",
    "menu = { 'sandwich': 10, 'eggrole': 5 , 'briyani': 14 , 'chilli': 6, 'pizza': 12 , 'pasata': 12 , 'salad': 10 , 'beefburger': 8, 'tea': 3 , 'coffee': 3 ,'fruit': 3 }\n",
    "while True:\n",
    "    order=input(\" Enter the items to order: \")\n",
    "    if order =='':\n",
    "        print('come again')\n",
    "        break\n",
    "    elif order in menu:\n",
    "        print(f'{order} costs {menu[order]}')\n",
    "        total=total+menu[order]\n",
    "    else:\n",
    "        print(f'{order} its not in menu list please one from the menu list' )\n",
    "\n",
    "print(f'your total is {total}')\n",
    "        \n",
    "\n",
    "            \n"
   ]
  },
  {
   "cell_type": "code",
   "execution_count": null,
   "id": "innocent-storm",
   "metadata": {},
   "outputs": [],
   "source": [
    "dict_check={'vowels':}"
   ]
  },
  {
   "cell_type": "code",
   "execution_count": null,
   "id": "prompt-activity",
   "metadata": {},
   "outputs": [],
   "source": []
  }
 ],
 "metadata": {
  "kernelspec": {
   "display_name": "Python 3",
   "language": "python",
   "name": "python3"
  },
  "language_info": {
   "codemirror_mode": {
    "name": "ipython",
    "version": 3
   },
   "file_extension": ".py",
   "mimetype": "text/x-python",
   "name": "python",
   "nbconvert_exporter": "python",
   "pygments_lexer": "ipython3",
   "version": "3.8.6"
  }
 },
 "nbformat": 4,
 "nbformat_minor": 5
}
