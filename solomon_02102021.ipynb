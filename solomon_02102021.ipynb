{
 "cells": [
  {
   "cell_type": "code",
   "execution_count": null,
   "id": "acceptable-significance",
   "metadata": {},
   "outputs": [],
   "source": [
    "# today is 10.2.2021 "
   ]
  },
  {
   "cell_type": "code",
   "execution_count": 1,
   "id": "human-palace",
   "metadata": {},
   "outputs": [
    {
     "data": {
      "text/plain": [
       "['This', 'is', 'the', 'bunch', 'of', 'wwordssssss']"
      ]
     },
     "execution_count": 1,
     "metadata": {},
     "output_type": "execute_result"
    }
   ],
   "source": [
    "words = ' This is the bunch of wwordssssss'\n",
    "words.split()\n"
   ]
  },
  {
   "cell_type": "code",
   "execution_count": 3,
   "id": "dressed-negative",
   "metadata": {},
   "outputs": [
    {
     "data": {
      "text/plain": [
       "['', 'This', '', '', '', 'is', 'the', 'bunch', 'of', 'wwordssssss']"
      ]
     },
     "execution_count": 3,
     "metadata": {},
     "output_type": "execute_result"
    }
   ],
   "source": [
    "words = ' This    is the bunch of wwordssssss'\n",
    "words.split(' ')"
   ]
  },
  {
   "cell_type": "code",
   "execution_count": 10,
   "id": "continent-induction",
   "metadata": {},
   "outputs": [
    {
     "data": {
      "text/plain": [
       "' *T*h*i*s* * * * *i*s* *t*h*e* *b*u*n*c*h* *o*f* *w*w*o*r*d*s*s*s*s*s*s'"
      ]
     },
     "execution_count": 10,
     "metadata": {},
     "output_type": "execute_result"
    }
   ],
   "source": [
    "words = ' This    is the bunch of wwordssssss'\n",
    "'*'.join(words)\n",
    "\n"
   ]
  },
  {
   "cell_type": "code",
   "execution_count": 11,
   "id": "visible-penalty",
   "metadata": {},
   "outputs": [
    {
     "data": {
      "text/plain": [
       "' *T*h*i*s* * * * *i*s* *t*h*e* *b*u*n*c*h* *o*f* *w*w*o*r*d*s*s*s*s*s*s'"
      ]
     },
     "execution_count": 11,
     "metadata": {},
     "output_type": "execute_result"
    }
   ],
   "source": [
    "ggg"
   ]
  },
  {
   "cell_type": "code",
   "execution_count": 12,
   "id": "interesting-acrobat",
   "metadata": {},
   "outputs": [
    {
     "data": {
      "text/plain": [
       "' *T*h*i*s* * * * *i*s* *t*h*e* *b*u*n*c*h* *o*f* *w*w*o*r*d*s*s*s*s*s*s'"
      ]
     },
     "execution_count": 12,
     "metadata": {},
     "output_type": "execute_result"
    }
   ],
   "source": [
    "words = ' This    is the bunch of wwordssssss'\n",
    "'*'.join(words)"
   ]
  },
  {
   "cell_type": "code",
   "execution_count": 16,
   "id": "heard-canberra",
   "metadata": {},
   "outputs": [
    {
     "name": "stdout",
     "output_type": "stream",
     "text": [
      "Enter a sentence: Solomon is wise king\n",
      "olomonSay\n",
      "isway\n",
      "iseway\n",
      "ingkay\n"
     ]
    }
   ],
   "source": [
    "word=input(\"Enter a sentence: \")\n",
    "for words in word.split():\n",
    "    if words[0] in 'aeiou':\n",
    "        print( words + 'way')\n",
    "    else:\n",
    "        print(words[1:]+ words[0]+ 'ay')"
   ]
  },
  {
   "cell_type": "code",
   "execution_count": 26,
   "id": "blank-momentum",
   "metadata": {},
   "outputs": [
    {
     "name": "stdout",
     "output_type": "stream",
     "text": [
      "Enter a sentence: Solomon is wise king\n",
      "olomonSay*isway*iseway*ingkay\n"
     ]
    }
   ],
   "source": [
    "from friendly_traceback.ipython import *\n",
    "output=[]\n",
    "word=input(\"Enter a sentence: \")\n",
    "for words in word.split():\n",
    "    if words[0] in 'aeiou':\n",
    "        output.append(words + 'way')\n",
    "    else:\n",
    "        output.append(words[1:]+ words[0]+ 'ay')\n",
    "        \n",
    "s='*'.join(output)\n",
    "print(s)"
   ]
  },
  {
   "cell_type": "code",
   "execution_count": 25,
   "id": "artistic-indication",
   "metadata": {},
   "outputs": [
    {
     "name": "stdout",
     "output_type": "stream",
     "text": [
      "Solomon*is*wise*king\n"
     ]
    }
   ],
   "source": [
    "from friendly_traceback.ipython import *\n",
    "output=['Solomon','is','wise', 'king']\n",
    "s='*'.join(output)\n",
    "print(s)"
   ]
  },
  {
   "cell_type": "code",
   "execution_count": 3,
   "id": "deadly-hindu",
   "metadata": {},
   "outputs": [
    {
     "name": "stdout",
     "output_type": "stream",
     "text": [
      " Enter the items to order: Tea\n"
     ]
    },
    {
     "ename": "NameError",
     "evalue": "name 'order' is not defined",
     "output_type": "error",
     "traceback": [
      "\u001b[0;31m---------------------------------------------------------------------------\u001b[0m",
      "\u001b[0;31mNameError\u001b[0m                                 Traceback (most recent call last)",
      "\u001b[0;32m<ipython-input-3-fe6ae3f92f3d>\u001b[0m in \u001b[0;36m<module>\u001b[0;34m\u001b[0m\n\u001b[1;32m      6\u001b[0m         \u001b[0mprint\u001b[0m\u001b[0;34m(\u001b[0m\u001b[0;34m'come again'\u001b[0m\u001b[0;34m)\u001b[0m\u001b[0;34m\u001b[0m\u001b[0;34m\u001b[0m\u001b[0m\n\u001b[1;32m      7\u001b[0m         \u001b[0;32mbreak\u001b[0m\u001b[0;34m\u001b[0m\u001b[0;34m\u001b[0m\u001b[0m\n\u001b[0;32m----> 8\u001b[0;31m     \u001b[0;32melif\u001b[0m \u001b[0morder_items\u001b[0m \u001b[0;32min\u001b[0m \u001b[0morder\u001b[0m\u001b[0;34m:\u001b[0m\u001b[0;34m\u001b[0m\u001b[0;34m\u001b[0m\u001b[0m\n\u001b[0m\u001b[1;32m      9\u001b[0m         \u001b[0mprint\u001b[0m\u001b[0;34m(\u001b[0m\u001b[0;34mf'{order_items} costs {menu[order_items]}'\u001b[0m\u001b[0;34m)\u001b[0m\u001b[0;34m\u001b[0m\u001b[0;34m\u001b[0m\u001b[0m\n\u001b[1;32m     10\u001b[0m     \u001b[0;32melse\u001b[0m\u001b[0;34m:\u001b[0m\u001b[0;34m\u001b[0m\u001b[0;34m\u001b[0m\u001b[0m\n",
      "\u001b[0;31mNameError\u001b[0m: name 'order' is not defined"
     ]
    }
   ],
   "source": [
    "## dict exercises\n",
    "menu = { 'sandwich': 10, 'eggrole': 5 , 'briyani': 14 , 'chilli': 6, 'pizza': 12 , 'pasata': 12 , 'salad': 10 , 'beefburger': 8, 'Tea': 3, 'coffee': 3,'fruit': 3 }\n",
    "while True:\n",
    "    order_items=(input(\" Enter the items to order: \").split())\n",
    "    if order_items =='':\n",
    "        print('come again')\n",
    "        break\n",
    "    elif order_items in order:\n",
    "        print(f'{order_items} costs {menu[order_items]}')\n",
    "    else:\n",
    "        print(f'{order_items} its not in menu list please one from the menu list' )\n",
    "        \n",
    "\n",
    "            \n"
   ]
  },
  {
   "cell_type": "code",
   "execution_count": null,
   "id": "interested-dragon",
   "metadata": {},
   "outputs": [],
   "source": []
  },
  {
   "cell_type": "code",
   "execution_count": null,
   "id": "instructional-warehouse",
   "metadata": {},
   "outputs": [],
   "source": []
  }
 ],
 "metadata": {
  "kernelspec": {
   "display_name": "Python 3",
   "language": "python",
   "name": "python3"
  },
  "language_info": {
   "codemirror_mode": {
    "name": "ipython",
    "version": 3
   },
   "file_extension": ".py",
   "mimetype": "text/x-python",
   "name": "python",
   "nbconvert_exporter": "python",
   "pygments_lexer": "ipython3",
   "version": "3.8.6"
  }
 },
 "nbformat": 4,
 "nbformat_minor": 5
}
