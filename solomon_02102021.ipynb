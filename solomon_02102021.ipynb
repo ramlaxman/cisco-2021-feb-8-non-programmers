{
 "cells": [
  {
   "cell_type": "code",
   "execution_count": null,
   "id": "chubby-saint",
   "metadata": {},
   "outputs": [],
   "source": [
    "# today is 10.2.2021 "
   ]
  },
  {
   "cell_type": "code",
   "execution_count": 1,
   "id": "charming-jesus",
   "metadata": {},
   "outputs": [
    {
     "data": {
      "text/plain": [
       "['This', 'is', 'the', 'bunch', 'of', 'wwordssssss']"
      ]
     },
     "execution_count": 1,
     "metadata": {},
     "output_type": "execute_result"
    }
   ],
   "source": [
    "words = ' This is the bunch of wwordssssss'\n",
    "words.split()\n"
   ]
  },
  {
   "cell_type": "code",
   "execution_count": 3,
   "id": "alternate-uruguay",
   "metadata": {},
   "outputs": [
    {
     "data": {
      "text/plain": [
       "['', 'This', '', '', '', 'is', 'the', 'bunch', 'of', 'wwordssssss']"
      ]
     },
     "execution_count": 3,
     "metadata": {},
     "output_type": "execute_result"
    }
   ],
   "source": [
    "words = ' This    is the bunch of wwordssssss'\n",
    "words.split(' ')"
   ]
  },
  {
   "cell_type": "code",
   "execution_count": 10,
   "id": "placed-chess",
   "metadata": {},
   "outputs": [
    {
     "data": {
      "text/plain": [
       "' *T*h*i*s* * * * *i*s* *t*h*e* *b*u*n*c*h* *o*f* *w*w*o*r*d*s*s*s*s*s*s'"
      ]
     },
     "execution_count": 10,
     "metadata": {},
     "output_type": "execute_result"
    }
   ],
   "source": [
    "words = ' This    is the bunch of wwordssssss'\n",
    "'*'.join(words)\n",
    "\n"
   ]
  },
  {
   "cell_type": "code",
   "execution_count": 11,
   "id": "neither-titanium",
   "metadata": {},
   "outputs": [
    {
     "data": {
      "text/plain": [
       "' *T*h*i*s* * * * *i*s* *t*h*e* *b*u*n*c*h* *o*f* *w*w*o*r*d*s*s*s*s*s*s'"
      ]
     },
     "execution_count": 11,
     "metadata": {},
     "output_type": "execute_result"
    }
   ],
   "source": [
    "ggg"
   ]
  },
  {
   "cell_type": "code",
   "execution_count": 12,
   "id": "empirical-talent",
   "metadata": {},
   "outputs": [
    {
     "data": {
      "text/plain": [
       "' *T*h*i*s* * * * *i*s* *t*h*e* *b*u*n*c*h* *o*f* *w*w*o*r*d*s*s*s*s*s*s'"
      ]
     },
     "execution_count": 12,
     "metadata": {},
     "output_type": "execute_result"
    }
   ],
   "source": [
    "words = ' This    is the bunch of wwordssssss'\n",
    "'*'.join(words)"
   ]
  },
  {
   "cell_type": "code",
   "execution_count": 16,
   "id": "upset-plant",
   "metadata": {},
   "outputs": [
    {
     "name": "stdout",
     "output_type": "stream",
     "text": [
      "Enter a sentence: Solomon is wise king\n",
      "olomonSay\n",
      "isway\n",
      "iseway\n",
      "ingkay\n"
     ]
    }
   ],
   "source": [
    "word=input(\"Enter a sentence: \")\n",
    "for words in word.split():\n",
    "    if words[0] in 'aeiou':\n",
    "        print( words + 'way')\n",
    "    else:\n",
    "        print(words[1:]+ words[0]+ 'ay')"
   ]
  },
  {
   "cell_type": "code",
   "execution_count": null,
   "id": "peripheral-moses",
   "metadata": {},
   "outputs": [],
   "source": []
  }
 ],
 "metadata": {
  "kernelspec": {
   "display_name": "Python 3",
   "language": "python",
   "name": "python3"
  },
  "language_info": {
   "codemirror_mode": {
    "name": "ipython",
    "version": 3
   },
   "file_extension": ".py",
   "mimetype": "text/x-python",
   "name": "python",
   "nbconvert_exporter": "python",
   "pygments_lexer": "ipython3",
   "version": "3.8.6"
  }
 },
 "nbformat": 4,
 "nbformat_minor": 5
}
