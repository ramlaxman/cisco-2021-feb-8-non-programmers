{
 "cells": [
  {
   "cell_type": "code",
   "execution_count": null,
   "id": "exclusive-jaguar",
   "metadata": {},
   "outputs": [],
   "source": [
    "# today is 10.2.2021 "
   ]
  },
  {
   "cell_type": "code",
   "execution_count": 1,
   "id": "egyptian-concord",
   "metadata": {},
   "outputs": [
    {
     "data": {
      "text/plain": [
       "['This', 'is', 'the', 'bunch', 'of', 'wwordssssss']"
      ]
     },
     "execution_count": 1,
     "metadata": {},
     "output_type": "execute_result"
    }
   ],
   "source": [
    "words = ' This is the bunch of wwordssssss'\n",
    "words.split()\n"
   ]
  },
  {
   "cell_type": "code",
   "execution_count": 3,
   "id": "alert-alert",
   "metadata": {},
   "outputs": [
    {
     "data": {
      "text/plain": [
       "['', 'This', '', '', '', 'is', 'the', 'bunch', 'of', 'wwordssssss']"
      ]
     },
     "execution_count": 3,
     "metadata": {},
     "output_type": "execute_result"
    }
   ],
   "source": [
    "words = ' This    is the bunch of wwordssssss'\n",
    "words.split(' ')"
   ]
  },
  {
   "cell_type": "code",
   "execution_count": 10,
   "id": "fitting-quantum",
   "metadata": {},
   "outputs": [
    {
     "data": {
      "text/plain": [
       "' *T*h*i*s* * * * *i*s* *t*h*e* *b*u*n*c*h* *o*f* *w*w*o*r*d*s*s*s*s*s*s'"
      ]
     },
     "execution_count": 10,
     "metadata": {},
     "output_type": "execute_result"
    }
   ],
   "source": [
    "words = ' This    is the bunch of wwordssssss'\n",
    "'*'.join(words)\n",
    "\n"
   ]
  },
  {
   "cell_type": "code",
   "execution_count": 11,
   "id": "alternate-dryer",
   "metadata": {},
   "outputs": [
    {
     "data": {
      "text/plain": [
       "' *T*h*i*s* * * * *i*s* *t*h*e* *b*u*n*c*h* *o*f* *w*w*o*r*d*s*s*s*s*s*s'"
      ]
     },
     "execution_count": 11,
     "metadata": {},
     "output_type": "execute_result"
    }
   ],
   "source": [
    "ggg"
   ]
  },
  {
   "cell_type": "code",
   "execution_count": 12,
   "id": "adequate-origin",
   "metadata": {},
   "outputs": [
    {
     "data": {
      "text/plain": [
       "' *T*h*i*s* * * * *i*s* *t*h*e* *b*u*n*c*h* *o*f* *w*w*o*r*d*s*s*s*s*s*s'"
      ]
     },
     "execution_count": 12,
     "metadata": {},
     "output_type": "execute_result"
    }
   ],
   "source": [
    "words = ' This    is the bunch of wwordssssss'\n",
    "'*'.join(words)"
   ]
  },
  {
   "cell_type": "code",
   "execution_count": 16,
   "id": "surgical-picnic",
   "metadata": {},
   "outputs": [
    {
     "name": "stdout",
     "output_type": "stream",
     "text": [
      "Enter a sentence: Solomon is wise king\n",
      "olomonSay\n",
      "isway\n",
      "iseway\n",
      "ingkay\n"
     ]
    }
   ],
   "source": [
    "word=input(\"Enter a sentence: \")\n",
    "for words in word.split():\n",
    "    if words[0] in 'aeiou':\n",
    "        print( words + 'way')\n",
    "    else:\n",
    "        print(words[1:]+ words[0]+ 'ay')"
   ]
  },
  {
   "cell_type": "code",
   "execution_count": 26,
   "id": "urban-pastor",
   "metadata": {},
   "outputs": [
    {
     "name": "stdout",
     "output_type": "stream",
     "text": [
      "Enter a sentence: Solomon is wise king\n",
      "olomonSay*isway*iseway*ingkay\n"
     ]
    }
   ],
   "source": [
    "from friendly_traceback.ipython import *\n",
    "output=[]\n",
    "word=input(\"Enter a sentence: \")\n",
    "for words in word.split():\n",
    "    if words[0] in 'aeiou':\n",
    "        output.append(words + 'way')\n",
    "    else:\n",
    "        output.append(words[1:]+ words[0]+ 'ay')\n",
    "        \n",
    "s='*'.join(output)\n",
    "print(s)"
   ]
  },
  {
   "cell_type": "code",
   "execution_count": 25,
   "id": "delayed-local",
   "metadata": {},
   "outputs": [
    {
     "name": "stdout",
     "output_type": "stream",
     "text": [
      "Solomon*is*wise*king\n"
     ]
    }
   ],
   "source": [
    "from friendly_traceback.ipython import *\n",
    "output=['Solomon','is','wise', 'king']\n",
    "s='*'.join(output)\n",
    "print(s)"
   ]
  },
  {
   "cell_type": "code",
   "execution_count": 8,
   "id": "hourly-action",
   "metadata": {},
   "outputs": [
    {
     "name": "stdout",
     "output_type": "stream",
     "text": [
      " Enter the items to order: tea\n",
      "tea costs 3\n",
      " Enter the items to order: coffee\n",
      "coffee costs 3\n",
      " Enter the items to order: \n",
      "come again\n",
      "your total is 6\n"
     ]
    }
   ],
   "source": [
    "## dict exercises\n",
    "total=0\n",
    "menu = { 'sandwich': 10, 'eggrole': 5 , 'briyani': 14 , 'chilli': 6, 'pizza': 12 , 'pasata': 12 , 'salad': 10 , 'beefburger': 8, 'tea': 3 , 'coffee': 3 ,'fruit': 3 }\n",
    "while True:\n",
    "    order=input(\" Enter the items to order: \")\n",
    "    if order =='':\n",
    "        print('come again')\n",
    "        break\n",
    "    elif order in menu:\n",
    "        print(f'{order} costs {menu[order]}')\n",
    "        total=total+menu[order]\n",
    "    else:\n",
    "        print(f'{order} its not in menu list please one from the menu list' )\n",
    "\n",
    "print(f'your total is {total}')\n",
    "        \n",
    "\n",
    "            \n"
   ]
  },
  {
   "cell_type": "code",
   "execution_count": 11,
   "id": "thousand-wildlife",
   "metadata": {},
   "outputs": [
    {
     "name": "stdout",
     "output_type": "stream",
     "text": [
      "enter a string: solo123!\n",
      "{'vowels': 2, 'digit': 3, 'others': 3}\n"
     ]
    }
   ],
   "source": [
    "dict_check={'vowels':0,'digit':0,'others':0}\n",
    "Input_str=input(\"enter a string: \")\n",
    "for i in Input_str:\n",
    "    if i in 'aeiou':\n",
    "        dict_check['vowels']+=1\n",
    "    elif i.isdigit():\n",
    "        dict_check['digit']+=1\n",
    "    else:\n",
    "        dict_check['others'] +=1\n",
    "print(dict_check)\n",
    "\n",
    "        "
   ]
  },
  {
   "cell_type": "code",
   "execution_count": 16,
   "id": "tired-rotation",
   "metadata": {},
   "outputs": [
    {
     "name": "stdout",
     "output_type": "stream",
     "text": [
      "root:x:0:0:root:/root:/bin/bash\n",
      "daemon:x:1:1:daemon:/usr/sbin:/usr/sbin/nologin\n",
      "bin:x:2:2:bin:/bin:/usr/sbin/nologin\n",
      "sys:x:3:3:sys:/dev:/usr/sbin/nologin\n",
      "sync:x:4:65534:sync:/bin:/bin/sync\n",
      "games:x:5:60:games:/usr/games:/usr/sbin/nologin\n",
      "man:x:6:12:man:/var/cache/man:/usr/sbin/nologin\n",
      "lp:x:7:7:lp:/var/spool/lpd:/usr/sbin/nologin\n",
      "mail:x:8:8:mail:/var/mail:/usr/sbin/nologin\n",
      "news:x:9:9:news:/var/spool/news:/usr/sbin/nologin\n",
      "uucp:x:10:10:uucp:/var/spool/uucp:/usr/sbin/nologin\n",
      "proxy:x:13:13:proxy:/bin:/usr/sbin/nologin\n",
      "www-data:x:33:33:www-data:/var/www:/usr/sbin/nologin\n",
      "backup:x:34:34:backup:/var/backups:/usr/sbin/nologin\n",
      "list:x:38:38:Mailing List Manager:/var/list:/usr/sbin/nologin\n",
      "irc:x:39:39:ircd:/var/run/ircd:/usr/sbin/nologin\n",
      "gnats:x:41:41:Gnats Bug-Reporting System (admin):/var/lib/gnats:/usr/sbin/nologin\n",
      "nobody:x:65534:65534:nobody:/nonexistent:/usr/sbin/nologin\n",
      "systemd-timesync:x:100:101:systemd Time Synchronization,,,:/run/systemd:/usr/sbin/nologin\n",
      "systemd-network:x:101:103:systemd Network Management,,,:/run/systemd:/usr/sbin/nologin\n",
      "systemd-resolve:x:102:104:systemd Resolver,,,:/run/systemd:/usr/sbin/nologin\n",
      "messagebus:x:103:106::/nonexistent:/usr/sbin/nologin\n",
      "syslog:x:104:110::/home/syslog:/usr/sbin/nologin\n",
      "_apt:x:105:65534::/nonexistent:/usr/sbin/nologin\n",
      "tss:x:106:111:TPM software stack,,,:/var/lib/tpm:/bin/false\n",
      "uuidd:x:107:112::/run/uuidd:/usr/sbin/nologin\n",
      "tcpdump:x:108:113::/nonexistent:/usr/sbin/nologin\n",
      "sshd:x:109:65534::/run/sshd:/usr/sbin/nologin\n",
      "landscape:x:110:115::/var/lib/landscape:/usr/sbin/nologin\n",
      "pollinate:x:111:1::/var/cache/pollinate:/bin/false\n",
      "systemd-coredump:x:999:999:systemd Core Dumper:/:/usr/sbin/nologin\n",
      "lxd:x:998:100::/var/snap/lxd/common/lxd:/bin/false\n",
      "student:x:1000:1000:,,,:/home/student:/bin/bash\n"
     ]
    }
   ],
   "source": [
    "f = open('/etc/passwd')\n",
    "for i in f:\n",
    "    print(i.strip())\n",
    "f.close()"
   ]
  },
  {
   "cell_type": "code",
   "execution_count": 25,
   "id": "ranging-winning",
   "metadata": {},
   "outputs": [
    {
     "name": "stdout",
     "output_type": "stream",
     "text": [
      "enter the lookup string :nobody\n",
      "great\n",
      "great\n",
      "1\n"
     ]
    }
   ],
   "source": [
    "f = open('/etc/passwd')\n",
    "search_str=input(\"enter the lookup string :\")\n",
    "count=0\n",
    "for i in f:\n",
    "    if search_str in i.strip():\n",
    "        split_str=i.split(\":\")\n",
    "        #print(split_str)\n",
    "        if search_str in split_str:\n",
    "            count=count+1\n",
    "        for j in split_str:\n",
    "            if search_str in j:\n",
    "                print(\"great\")\n",
    "                \n",
    "print(count)\n",
    "f.close()\n"
   ]
  },
  {
   "cell_type": "code",
   "execution_count": 26,
   "id": "loaded-steps",
   "metadata": {},
   "outputs": [
    {
     "name": "stdout",
     "output_type": "stream",
     "text": [
      "67.218.116.165 - - [30/Jan/2010:00:03:18 +0200] \"GET /robots.txt HTTP/1.0\" 200 99 \"-\" \"Mozilla/5.0 (Twiceler-0.9 http://www.cuil.com/twiceler/robot.html)\"\r\n",
      "66.249.71.65 - - [30/Jan/2010:00:12:06 +0200] \"GET /browse/one_node/1557 HTTP/1.1\" 200 39208 \"-\" \"Mozilla/5.0 (compatible; Googlebot/2.1; +http://www.google.com/bot.html)\"\r\n",
      "65.55.106.183 - - [30/Jan/2010:01:29:23 +0200] \"GET /robots.txt HTTP/1.1\" 200 99 \"-\" \"msnbot/2.0b (+http://search.msn.com/msnbot.htm)\"\r\n",
      "65.55.106.183 - - [30/Jan/2010:01:30:06 +0200] \"GET /browse/one_model/2162 HTTP/1.1\" 200 2181 \"-\" \"msnbot/2.0b (+http://search.msn.com/msnbot.htm)\"\r\n",
      "66.249.71.65 - - [30/Jan/2010:02:07:14 +0200] \"GET /browse/browse_applet_tab/2593 HTTP/1.1\" 200 10305 \"-\" \"Mozilla/5.0 (compatible; Googlebot/2.1; +http://www.google.com/bot.html)\"\r\n",
      "66.249.71.65 - - [30/Jan/2010:02:10:39 +0200] \"GET /browse/browse_files_tab/2499?tab=true HTTP/1.1\" 200 446 \"-\" \"Mozilla/5.0 (compatible; Googlebot/2.1; +http://www.google.com/bot.html)\"\r\n",
      "66.249.65.12 - - [30/Jan/2010:03:13:34 +0200] \"GET /robots.txt HTTP/1.1\" 200 99 \"-\" \"Mozilla/5.0 (compatible; Googlebot/2.1; +http://www.google.com/bot.html)\"\r\n",
      "66.249.65.12 - - [30/Jan/2010:03:13:34 +0200] \"GET /browse/one_node/2715 HTTP/1.1\" 200 26433 \"-\" \"Mozilla/5.0 (compatible; Googlebot/2.1; +http://www.google.com/bot.html)\"\r\n",
      "66.249.65.12 - - [30/Jan/2010:03:43:39 +0200] \"GET /browse/download_model/1969 HTTP/1.1\" 200 31713 \"-\" \"Mozilla/5.0 (compatible; Googlebot/2.1; +http://www.google.com/bot.html)\"\r\n",
      "66.249.65.12 - - [30/Jan/2010:04:05:43 +0200] \"GET /browse/one_node/1406 HTTP/1.1\" 302 118 \"-\" \"Mozilla/5.0 (compatible; Googlebot/2.1; +http://www.google.com/bot.html)\"\r\n"
     ]
    }
   ],
   "source": [
    "!head mini-access-log.txt\n"
   ]
  },
  {
   "cell_type": "code",
   "execution_count": 48,
   "id": "conditional-fraction",
   "metadata": {},
   "outputs": [
    {
     "data": {
      "text/plain": [
       "{'67.218.116.165': 1,\n",
       " '66.249.71.65': 2,\n",
       " '65.55.106.183': 1,\n",
       " '66.249.65.12': 31,\n",
       " '65.55.106.131': 1,\n",
       " '65.55.106.186': 1,\n",
       " '74.52.245.146': 1,\n",
       " '66.249.65.43': 2,\n",
       " '65.55.207.25': 1,\n",
       " '65.55.207.94': 1,\n",
       " '65.55.207.71': 0,\n",
       " '98.242.170.241': 0,\n",
       " '66.249.65.38': 99,\n",
       " '65.55.207.126': 1,\n",
       " '82.34.9.20': 1,\n",
       " '65.55.106.155': 1,\n",
       " '65.55.207.77': 1,\n",
       " '208.80.193.28': 0,\n",
       " '89.248.172.58': 21,\n",
       " '67.195.112.35': 15,\n",
       " '65.55.207.50': 2,\n",
       " '65.55.215.75': 1}"
      ]
     },
     "execution_count": 48,
     "metadata": {},
     "output_type": "execute_result"
    }
   ],
   "source": [
    "f = open('mini-access-log.txt')\n",
    "counts={}\n",
    "for line in f:\n",
    "    #print(line.split()[0])\n",
    "    if (line.split()[0]) not in counts:\n",
    "        counts[line.split()[0]] =0\n",
    "    else:\n",
    "        counts[line.split()[0]] +=1\n",
    "f.close()\n",
    "counts\n"
   ]
  },
  {
   "cell_type": "code",
   "execution_count": 49,
   "id": "interstate-defense",
   "metadata": {},
   "outputs": [
    {
     "name": "stdout",
     "output_type": "stream",
     "text": [
      "Adidas\torange\t43\r\n",
      "Nike\tblack\t41\r\n",
      "Adidas\tblack\t39\r\n",
      "New Balance\tpink\t41\r\n",
      "Nike\twhite\t44\r\n",
      "New Balance\torange\t38\r\n",
      "Nike\tpink\t44\r\n",
      "Adidas\tpink\t44\r\n",
      "New Balance\torange\t39\r\n",
      "New Balance\tblack\t43\r\n"
     ]
    }
   ],
   "source": [
    "!head shoe-data.txt"
   ]
  },
  {
   "cell_type": "code",
   "execution_count": 62,
   "id": "exclusive-acrobat",
   "metadata": {},
   "outputs": [
    {
     "name": "stdout",
     "output_type": "stream",
     "text": [
      "['orange', '39']\n",
      "['New', 'Balance']\n"
     ]
    }
   ],
   "source": [
    "new='New Balance\torange\t39'\n",
    "new_b=new.split()\n",
    "\n",
    "if (len(new_b)) >=4 :\n",
    "    print(new_b[2:])\n",
    "    print(new_b[0:2])\n",
    "    \n",
    "    \n",
    "\n",
    "#for i in new_b:\n",
    "#    print(len(i))\n",
    "    #if len (i) < 3:\n",
    "        #print(i)\n",
    "        "
   ]
  },
  {
   "cell_type": "code",
   "execution_count": 101,
   "id": "foster-diabetes",
   "metadata": {},
   "outputs": [
    {
     "name": "stdout",
     "output_type": "stream",
     "text": [
      "[0] Enter a string:solo\n",
      "[1] Enter a string:solomon\n",
      "[2] Enter a string:soumya\n",
      "[3] Enter a string:allen\n",
      "[4] Enter a string:alden\n"
     ]
    }
   ],
   "source": [
    "f =open('solo_write.txt','w')\n",
    "for i in range(5):\n",
    "    add_to_file=input(f'[{i}] Enter a string:')\n",
    "    f.write(f'{add_to_file}\\n')\n",
    "f.close()\n"
   ]
  },
  {
   "cell_type": "code",
   "execution_count": 102,
   "id": "subjective-dating",
   "metadata": {},
   "outputs": [
    {
     "data": {
      "text/plain": [
       "['solo', 'solomon', 'soumya', 'allen', 'alden']"
      ]
     },
     "execution_count": 102,
     "metadata": {},
     "output_type": "execute_result"
    }
   ],
   "source": [
    "!!cat solo_write.txt"
   ]
  },
  {
   "cell_type": "code",
   "execution_count": 81,
   "id": "twelve-ministry",
   "metadata": {},
   "outputs": [],
   "source": []
  },
  {
   "cell_type": "code",
   "execution_count": 103,
   "id": "straight-recipient",
   "metadata": {},
   "outputs": [
    {
     "name": "stdout",
     "output_type": "stream",
     "text": [
      "solo\n",
      "solomon\n",
      "soumya\n",
      "allen\n",
      "alden\n"
     ]
    }
   ],
   "source": [
    "for i in open('solo_write.txt','r'):\n",
    "    print(i,end='')\n"
   ]
  },
  {
   "cell_type": "code",
   "execution_count": 84,
   "id": "liable-cartoon",
   "metadata": {},
   "outputs": [],
   "source": [
    "rm -rf solo_write.txt"
   ]
  },
  {
   "cell_type": "code",
   "execution_count": null,
   "id": "general-biodiversity",
   "metadata": {},
   "outputs": [],
   "source": []
  }
 ],
 "metadata": {
  "kernelspec": {
   "display_name": "Python 3",
   "language": "python",
   "name": "python3"
  },
  "language_info": {
   "codemirror_mode": {
    "name": "ipython",
    "version": 3
   },
   "file_extension": ".py",
   "mimetype": "text/x-python",
   "name": "python",
   "nbconvert_exporter": "python",
   "pygments_lexer": "ipython3",
   "version": "3.8.6"
  }
 },
 "nbformat": 4,
 "nbformat_minor": 5
}
