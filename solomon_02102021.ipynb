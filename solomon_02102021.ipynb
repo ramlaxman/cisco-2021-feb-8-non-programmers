{
 "cells": [
  {
   "cell_type": "code",
   "execution_count": null,
   "id": "ceramic-prerequisite",
   "metadata": {},
   "outputs": [],
   "source": [
    "# today is 10.2.2021 "
   ]
  },
  {
   "cell_type": "code",
   "execution_count": 1,
   "id": "described-council",
   "metadata": {},
   "outputs": [
    {
     "data": {
      "text/plain": [
       "['This', 'is', 'the', 'bunch', 'of', 'wwordssssss']"
      ]
     },
     "execution_count": 1,
     "metadata": {},
     "output_type": "execute_result"
    }
   ],
   "source": [
    "words = ' This is the bunch of wwordssssss'\n",
    "words.split()\n"
   ]
  },
  {
   "cell_type": "code",
   "execution_count": 3,
   "id": "educated-mixer",
   "metadata": {},
   "outputs": [
    {
     "data": {
      "text/plain": [
       "['', 'This', '', '', '', 'is', 'the', 'bunch', 'of', 'wwordssssss']"
      ]
     },
     "execution_count": 3,
     "metadata": {},
     "output_type": "execute_result"
    }
   ],
   "source": [
    "words = ' This    is the bunch of wwordssssss'\n",
    "words.split(' ')"
   ]
  },
  {
   "cell_type": "code",
   "execution_count": null,
   "id": "thrown-freeware",
   "metadata": {},
   "outputs": [],
   "source": []
  }
 ],
 "metadata": {
  "kernelspec": {
   "display_name": "Python 3",
   "language": "python",
   "name": "python3"
  },
  "language_info": {
   "codemirror_mode": {
    "name": "ipython",
    "version": 3
   },
   "file_extension": ".py",
   "mimetype": "text/x-python",
   "name": "python",
   "nbconvert_exporter": "python",
   "pygments_lexer": "ipython3",
   "version": "3.8.6"
  }
 },
 "nbformat": 4,
 "nbformat_minor": 5
}
