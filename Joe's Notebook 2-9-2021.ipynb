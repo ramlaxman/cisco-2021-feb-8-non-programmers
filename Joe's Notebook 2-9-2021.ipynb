{
 "cells": [
  {
   "cell_type": "code",
   "execution_count": 9,
   "id": "behavioral-innocent",
   "metadata": {},
   "outputs": [
    {
     "name": "stdout",
     "output_type": "stream",
     "text": [
      "Friendly-traceback installed.\n"
     ]
    }
   ],
   "source": [
    "from friendly_traceback.ipython import *\n"
   ]
  },
  {
   "cell_type": "code",
   "execution_count": 30,
   "id": "incorporated-childhood",
   "metadata": {},
   "outputs": [
    {
     "name": "stdout",
     "output_type": "stream",
     "text": [
      "What is your birthyear? :-1\n",
      "What day were you born? : 5\n",
      "nice try\n"
     ]
    }
   ],
   "source": [
    "s = input ('What is your birthyear? :' )\n",
    "y = input ('What day were you born? : ')\n",
    "s = int(s)\n",
    "y = int(y)\n",
    "\n",
    "if s > 100:\n",
    "    print ('Dude congrats on being that old')\n",
    "elif s < 0:\n",
    "    print ('nice try')\n",
    "\n"
   ]
  },
  {
   "cell_type": "code",
   "execution_count": 44,
   "id": "severe-conclusion",
   "metadata": {},
   "outputs": [
    {
     "name": "stdout",
     "output_type": "stream",
     "text": [
      "Enter a word in English : apple\n",
      "appleway\n"
     ]
    }
   ],
   "source": [
    "x = input ('Enter a word in English : ')\n",
    "if x[0] == 'a' or x[0] == 'e' or x[0] == 'i' or x[0] == 'o' or x[0] == 'u':\n",
    "    print(x + 'way')"
   ]
  },
  {
   "cell_type": "code",
   "execution_count": 46,
   "id": "systematic-condition",
   "metadata": {},
   "outputs": [
    {
     "name": "stdout",
     "output_type": "stream",
     "text": [
      "Enter a number : 4\n",
      "Enter another number :3\n"
     ]
    }
   ],
   "source": [
    "first = input ('Enter a number : ')\n",
    " = input ('Enter another number : ')"
   ]
  },
  {
   "cell_type": "code",
   "execution_count": null,
   "id": "functioning-lyric",
   "metadata": {},
   "outputs": [],
   "source": []
  }
 ],
 "metadata": {
  "kernelspec": {
   "display_name": "Python 3",
   "language": "python",
   "name": "python3"
  },
  "language_info": {
   "codemirror_mode": {
    "name": "ipython",
    "version": 3
   },
   "file_extension": ".py",
   "mimetype": "text/x-python",
   "name": "python",
   "nbconvert_exporter": "python",
   "pygments_lexer": "ipython3",
   "version": "3.8.6"
  }
 },
 "nbformat": 4,
 "nbformat_minor": 5
}
