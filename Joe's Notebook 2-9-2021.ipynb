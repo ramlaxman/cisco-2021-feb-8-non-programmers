{
 "cells": [
  {
   "cell_type": "code",
   "execution_count": 9,
   "id": "pacific-execution",
   "metadata": {},
   "outputs": [
    {
     "name": "stdout",
     "output_type": "stream",
     "text": [
      "Friendly-traceback installed.\n"
     ]
    }
   ],
   "source": [
    "from friendly_traceback.ipython import *\n"
   ]
  },
  {
   "cell_type": "code",
   "execution_count": 30,
   "id": "burning-south",
   "metadata": {},
   "outputs": [
    {
     "name": "stdout",
     "output_type": "stream",
     "text": [
      "What is your birthyear? :-1\n",
      "What day were you born? : 5\n",
      "nice try\n"
     ]
    }
   ],
   "source": [
    "s = input ('What is your birthyear? :' )\n",
    "y = input ('What day were you born? : ')\n",
    "s = int(s)\n",
    "y = int(y)\n",
    "\n",
    "if s > 100:\n",
    "    print ('Dude congrats on being that old')\n",
    "elif s < 0:\n",
    "    print ('nice try')\n",
    "\n"
   ]
  },
  {
   "cell_type": "code",
   "execution_count": 44,
   "id": "comfortable-elite",
   "metadata": {},
   "outputs": [
    {
     "name": "stdout",
     "output_type": "stream",
     "text": [
      "Enter a word in English : apple\n",
      "appleway\n"
     ]
    }
   ],
   "source": [
    "x = input ('Enter a word in English : ')\n",
    "if x[0] == 'a' or x[0] == 'e' or x[0] == 'i' or x[0] == 'o' or x[0] == 'u':\n",
    "    print(x + 'way')"
   ]
  },
  {
   "cell_type": "code",
   "execution_count": 65,
   "id": "successful-update",
   "metadata": {},
   "outputs": [
    {
     "name": "stdout",
     "output_type": "stream",
     "text": [
      "Enter a number : 5\n"
     ]
    },
    {
     "name": "stderr",
     "output_type": "stream",
     "text": [
      "\n",
      "Traceback (most recent call last):\n",
      "  File \"<ipython-input-65>\", line 9, in <module>\n",
      "    if first == first.isdigit():\n",
      "AttributeError: 'int' object has no attribute 'isdigit'\n"
     ]
    }
   ],
   "source": [
    "first = input ('Enter a number : ')\n",
    "first.isdigit()\n",
    "#second = input ('Enter another number : ')\n",
    "#second.isdigit()\n",
    "#first = int(first)\n",
    "#second= int(second)\n",
    "first = int(first)\n",
    "#second = int(second)\n",
    "if first == first.isdigit():\n",
    "    print ('well done')\n",
    "\n",
    " "
   ]
  },
  {
   "cell_type": "code",
   "execution_count": 66,
   "id": "graduate-colon",
   "metadata": {},
   "outputs": [
    {
     "name": "stdout",
     "output_type": "stream",
     "text": [
      "Put some stuff here will ya : asldkfjkasdf\n"
     ]
    }
   ],
   "source": [
    "y = input ('Put some stuff here will ya : ')\n"
   ]
  },
  {
   "cell_type": "code",
   "execution_count": 68,
   "id": "transsexual-blink",
   "metadata": {},
   "outputs": [
    {
     "name": "stderr",
     "output_type": "stream",
     "text": [
      "\n",
      "Traceback (most recent call last):\n",
      "  File \"<ipython-input-68>\", line 2\n",
      "    print ('yay!'')\n",
      "                   ^\n",
      "SyntaxError: EOL while scanning string literal\n",
      "\n",
      "        Did you forget a closing quote?\n",
      "        \n"
     ]
    }
   ],
   "source": [
    "for vowel in y:\n",
    "    "
   ]
  },
  {
   "cell_type": "code",
   "execution_count": null,
   "id": "curious-fight",
   "metadata": {},
   "outputs": [],
   "source": [
    " total = int(0)\n",
    "while True:\n",
    "    input =  ('Enter a number : ').strip()\n",
    "    if number == '': \n",
    "        break\n",
    "if number == .isdigit()\n",
    "                    "
   ]
  },
  {
   "cell_type": "code",
   "execution_count": null,
   "id": "seven-disaster",
   "metadata": {},
   "outputs": [],
   "source": [
    "mylist = [0,1,2,3,4,5,6,7,8,9]"
   ]
  }
 ],
 "metadata": {
  "kernelspec": {
   "display_name": "Python 3",
   "language": "python",
   "name": "python3"
  },
  "language_info": {
   "codemirror_mode": {
    "name": "ipython",
    "version": 3
   },
   "file_extension": ".py",
   "mimetype": "text/x-python",
   "name": "python",
   "nbconvert_exporter": "python",
   "pygments_lexer": "ipython3",
   "version": "3.8.6"
  }
 },
 "nbformat": 4,
 "nbformat_minor": 5
}
