{
 "cells": [
  {
   "cell_type": "code",
   "execution_count": 9,
   "id": "rural-contents",
   "metadata": {},
   "outputs": [
    {
     "name": "stdout",
     "output_type": "stream",
     "text": [
      "Friendly-traceback installed.\n"
     ]
    }
   ],
   "source": [
    "from friendly_traceback.ipython import *\n"
   ]
  },
  {
   "cell_type": "code",
   "execution_count": 24,
   "id": "hazardous-finnish",
   "metadata": {},
   "outputs": [
    {
     "name": "stdout",
     "output_type": "stream",
     "text": [
      "What is your birthyear? :0\n",
      "What day were you born? : 4\n"
     ]
    },
    {
     "name": "stderr",
     "output_type": "stream",
     "text": [
      "\n",
      "Traceback (most recent call last):\n",
      "  File \"<ipython-input-24>\", line 3, in <module>\n",
      "    s = s(int)\n",
      "TypeError: 'str' object is not callable\n"
     ]
    }
   ],
   "source": [
    "s = input ('What is your birthyear? :' )\n",
    "y = input ('What day were you born? : ')\n",
    "s = s(int)\n",
    "y = y(int)\n",
    "\n",
    "if s > 100:\n",
    "    print ('Dude congrats on being that old')\n",
    "elif s < 0:\n",
    "    print ('nice try')\n",
    "\n"
   ]
  },
  {
   "cell_type": "code",
   "execution_count": null,
   "id": "refined-sailing",
   "metadata": {},
   "outputs": [],
   "source": []
  },
  {
   "cell_type": "code",
   "execution_count": null,
   "id": "tender-section",
   "metadata": {},
   "outputs": [],
   "source": []
  }
 ],
 "metadata": {
  "kernelspec": {
   "display_name": "Python 3",
   "language": "python",
   "name": "python3"
  },
  "language_info": {
   "codemirror_mode": {
    "name": "ipython",
    "version": 3
   },
   "file_extension": ".py",
   "mimetype": "text/x-python",
   "name": "python",
   "nbconvert_exporter": "python",
   "pygments_lexer": "ipython3",
   "version": "3.8.6"
  }
 },
 "nbformat": 4,
 "nbformat_minor": 5
}
