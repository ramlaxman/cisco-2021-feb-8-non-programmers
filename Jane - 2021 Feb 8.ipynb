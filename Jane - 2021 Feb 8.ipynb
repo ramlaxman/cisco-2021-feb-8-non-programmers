{
 "cells": [
  {
   "cell_type": "code",
   "execution_count": 1,
   "id": "current-signal",
   "metadata": {},
   "outputs": [
    {
     "name": "stdout",
     "output_type": "stream",
     "text": [
      "Hello world!!!!\n"
     ]
    }
   ],
   "source": [
    "print('Hello world!!!!') # shift+enter == run the code in the current cell"
   ]
  },
  {
   "cell_type": "code",
   "execution_count": 6,
   "id": "expensive-decline",
   "metadata": {},
   "outputs": [
    {
     "name": "stdout",
     "output_type": "stream",
     "text": [
      "Hello + x\n"
     ]
    }
   ],
   "source": [
    "x = 'Jane'\n",
    "print ('Hello + x')\n"
   ]
  },
  {
   "cell_type": "code",
   "execution_count": 4,
   "id": "amber-evaluation",
   "metadata": {},
   "outputs": [
    {
     "name": "stdout",
     "output_type": "stream",
     "text": [
      "Hello name\n"
     ]
    }
   ],
   "source": [
    "name = 'Jane'\n",
    "print ('Hello name')"
   ]
  },
  {
   "cell_type": "code",
   "execution_count": 8,
   "id": "naked-former",
   "metadata": {},
   "outputs": [
    {
     "name": "stdout",
     "output_type": "stream",
     "text": [
      "Hello + x\n"
     ]
    }
   ],
   "source": [
    "x = 'Jane'\n",
    "print ('Hello + x')"
   ]
  },
  {
   "cell_type": "code",
   "execution_count": 9,
   "id": "surprising-logic",
   "metadata": {},
   "outputs": [
    {
     "name": "stdout",
     "output_type": "stream",
     "text": [
      "Hello, Jane\n"
     ]
    }
   ],
   "source": [
    "name = 'Jane'\n",
    "print('Hello, '+ name)"
   ]
  },
  {
   "cell_type": "code",
   "execution_count": 10,
   "id": "disciplinary-clerk",
   "metadata": {},
   "outputs": [
    {
     "name": "stdout",
     "output_type": "stream",
     "text": [
      "Hello,Jane\n"
     ]
    }
   ],
   "source": [
    "name = 'Jane'\n",
    "print('Hello,'+ name)"
   ]
  },
  {
   "cell_type": "code",
   "execution_count": 11,
   "id": "regulated-wesley",
   "metadata": {},
   "outputs": [
    {
     "name": "stdout",
     "output_type": "stream",
     "text": [
      "Hello, Jane.\n"
     ]
    }
   ],
   "source": [
    "print('Hello, ' + name + '.')"
   ]
  },
  {
   "cell_type": "code",
   "execution_count": 13,
   "id": "contrary-estonia",
   "metadata": {},
   "outputs": [
    {
     "name": "stdout",
     "output_type": "stream",
     "text": [
      "Hello, Jane, with a favorite number 81!\n"
     ]
    }
   ],
   "source": [
    "name = 'Jane'\n",
    "favorite_number = 81\n",
    "print(f'Hello, {name}, with a favorite number {favorite_number}!')"
   ]
  },
  {
   "cell_type": "code",
   "execution_count": 20,
   "id": "guilty-encoding",
   "metadata": {},
   "outputs": [
    {
     "name": "stdout",
     "output_type": "stream",
     "text": [
      "Jane, born in year 1981 will turn 40!\n"
     ]
    }
   ],
   "source": [
    "name = 'Jane'\n",
    "birthyear = 1981\n",
    "age_this_year = 40\n",
    "print(f'{name}, born in year {birthyear} will turn {age_this_year}!')"
   ]
  },
  {
   "cell_type": "code",
   "execution_count": 21,
   "id": "concerned-context",
   "metadata": {},
   "outputs": [
    {
     "name": "stdout",
     "output_type": "stream",
     "text": [
      "Enter your name:Jane\n"
     ]
    }
   ],
   "source": [
    "s = input('Enter your name:')"
   ]
  },
  {
   "cell_type": "code",
   "execution_count": 22,
   "id": "cosmetic-wilderness",
   "metadata": {},
   "outputs": [
    {
     "name": "stdout",
     "output_type": "stream",
     "text": [
      "how do you feel todayGreat\n"
     ]
    }
   ],
   "source": [
    "s = input('how do you feel today')"
   ]
  },
  {
   "cell_type": "markdown",
   "id": "earned-thomas",
   "metadata": {},
   "source": []
  },
  {
   "cell_type": "code",
   "execution_count": 23,
   "id": "registered-paintball",
   "metadata": {},
   "outputs": [
    {
     "name": "stdout",
     "output_type": "stream",
     "text": [
      "Enter your name:Jane\n"
     ]
    }
   ],
   "source": [
    "s = input('Enter your name:')"
   ]
  },
  {
   "cell_type": "code",
   "execution_count": 28,
   "id": "subsequent-arrow",
   "metadata": {},
   "outputs": [
    {
     "name": "stdout",
     "output_type": "stream",
     "text": [
      "how do you feel today: Great\n"
     ]
    }
   ],
   "source": [
    "\n",
    "s = input('how do you feel today: ')"
   ]
  },
  {
   "cell_type": "code",
   "execution_count": 27,
   "id": "mounted-mozambique",
   "metadata": {},
   "outputs": [
    {
     "name": "stdout",
     "output_type": "stream",
     "text": [
      "Jane is feeling Great!\n"
     ]
    }
   ],
   "source": [
    "name = 'Jane'\n",
    "feeling = 'Great'\n",
    "print (f'{name} is feeling {feeling}!')"
   ]
  },
  {
   "cell_type": "code",
   "execution_count": 29,
   "id": "emerging-large",
   "metadata": {},
   "outputs": [
    {
     "name": "stdout",
     "output_type": "stream",
     "text": [
      "Enter your name: Jane\n",
      "How are you feeling? Great\n",
      "Hey, Jane, good to know you are feeling Great.\n"
     ]
    }
   ],
   "source": [
    "name = input('Enter your name: ')\n",
    "feeling = input('How are you feeling? ')\n",
    "print(f'Hey, {name}, good to know you are feeling {feeling}.')"
   ]
  },
  {
   "cell_type": "code",
   "execution_count": 33,
   "id": "opposed-publisher",
   "metadata": {},
   "outputs": [
    {
     "name": "stdout",
     "output_type": "stream",
     "text": [
      "Enter your name: Jane\n",
      "Hello, boss!\n",
      "Nice to see you again!\n"
     ]
    }
   ],
   "source": [
    "name = input( 'Enter your name: ')\n",
    "if name == 'Jane': # if this comparison returns True, then we execute if's body/block\n",
    "    print( 'Hello, boss!')\n",
    "    print('Nice to see you again!')\n",
    "else:\n",
    "    print(f'Hello, {name}. Nice to meet you!')"
   ]
  },
  {
   "cell_type": "code",
   "execution_count": 36,
   "id": "dominant-removal",
   "metadata": {},
   "outputs": [
    {
     "name": "stdout",
     "output_type": "stream",
     "text": [
      "Where do you work: Apple\n",
      "Haha, Apple, Good luck!\n"
     ]
    }
   ],
   "source": [
    "company = input('Where do you work: ')\n",
    "if company == 'Cisco':\n",
    "    print( 'Welcome aboard!')\n",
    "else:\n",
    "    print(f'Haha, {company}, Good luck!')"
   ]
  },
  {
   "cell_type": "code",
   "execution_count": 37,
   "id": "terminal-depth",
   "metadata": {},
   "outputs": [
    {
     "name": "stdout",
     "output_type": "stream",
     "text": [
      "Enter your company: Cisco\n",
      "Wow! I must be your colleague!\n"
     ]
    }
   ],
   "source": [
    "company = input('Enter your company: ')\n",
    "if company == 'Cisco':\n",
    "    print('Wow! I must be your colleague!')\n",
    "else:\n",
    "    print('Well, I am sure you are sorta kinda happy where you work.')"
   ]
  },
  {
   "cell_type": "code",
   "execution_count": 40,
   "id": "large-cartoon",
   "metadata": {},
   "outputs": [
    {
     "name": "stdout",
     "output_type": "stream",
     "text": [
      "Enter your favorite color: blue\n",
      "I like blue, too\n"
     ]
    }
   ],
   "source": [
    "color = input('Enter your favorite color: ')\n",
    "if color == 'red':\n",
    "    print('Good to know you like red')\n",
    "elif color == 'blue':\n",
    "    print('I like blue, too')\n",
    "elif color == 'green':\n",
    "    print('It is a great color!')\n",
    "elif color == 'blue':\n",
    "    print('EVIL SECOND BLUE MATCH!')\n",
    "else:\n",
    "    print('I guess you like something that is neither red nor blue')"
   ]
  },
  {
   "cell_type": "raw",
   "id": "immediate-insertion",
   "metadata": {},
   "source": [
    "\n"
   ]
  },
  {
   "cell_type": "markdown",
   "id": "entire-click",
   "metadata": {},
   "source": []
  },
  {
   "cell_type": "code",
   "execution_count": 43,
   "id": "strange-unemployment",
   "metadata": {},
   "outputs": [
    {
     "name": "stdout",
     "output_type": "stream",
     "text": [
      "Where do you work: Apple\n",
      "Good luck!\n"
     ]
    }
   ],
   "source": [
    "company = input('Where do you work: ')\n",
    "if company == 'Cisco':\n",
    "    print('Congratulation to be my colleague')\n",
    "elif company == 'LSI':\n",
    "    print('I used to be your colleague')\n",
    "else:\n",
    "    print('Good luck!')"
   ]
  },
  {
   "cell_type": "code",
   "execution_count": 44,
   "id": "divine-north",
   "metadata": {},
   "outputs": [
    {
     "name": "stdout",
     "output_type": "stream",
     "text": [
      "Where do you work: Apple\n",
      "I have never heard of that sad company, Apple.\n"
     ]
    }
   ],
   "source": [
    "company = input('Where do you work: ')\n",
    "if company == 'Cisco':\n",
    "    print('You work at Cisco, too? Wow! We are colleague!')\n",
    "elif company == 'Time Warner':\n",
    "    print('I used to work there... once upon a time...')\n",
    "else:\n",
    "    print(f'I have never heard of that sad company, {company}.')"
   ]
  },
  {
   "cell_type": "code",
   "execution_count": 45,
   "id": "infrared-surgery",
   "metadata": {},
   "outputs": [
    {
     "name": "stdout",
     "output_type": "stream",
     "text": [
      "Hi, I'm Jane\n"
     ]
    }
   ],
   "source": [
    "s = 'Hi, I\\'m Jane'\n",
    "print(s)"
   ]
  },
  {
   "cell_type": "code",
   "execution_count": 46,
   "id": "conscious-canyon",
   "metadata": {},
   "outputs": [
    {
     "data": {
      "text/plain": [
       "True"
      ]
     },
     "execution_count": 46,
     "metadata": {},
     "output_type": "execute_result"
    }
   ],
   "source": [
    "x = True\n",
    "y = True\n",
    "\n",
    "x and y"
   ]
  },
  {
   "cell_type": "code",
   "execution_count": 57,
   "id": "light-manner",
   "metadata": {},
   "outputs": [
    {
     "name": "stdout",
     "output_type": "stream",
     "text": [
      "One of them is what you want\n"
     ]
    }
   ],
   "source": [
    "x = 999\n",
    "y = 20\n",
    "if (x == 999 or \n",
    "    y == 20):\n",
    "    print('One of them is what you want')"
   ]
  },
  {
   "cell_type": "code",
   "execution_count": 60,
   "id": "swedish-plate",
   "metadata": {},
   "outputs": [
    {
     "name": "stdout",
     "output_type": "stream",
     "text": [
      "What is your name:Jane\n",
      "Where do you work: Cisco\n"
     ]
    }
   ],
   "source": [
    "name = input ('What is your name:')\n",
    "company = input('Where do you work: ')"
   ]
  },
  {
   "cell_type": "code",
   "execution_count": 66,
   "id": "adverse-spice",
   "metadata": {},
   "outputs": [
    {
     "name": "stdout",
     "output_type": "stream",
     "text": [
      "It must be you!\n"
     ]
    }
   ],
   "source": [
    "name = 'Jane'\n",
    "Company = 'Cisco'\n",
    "if (name == 'Jane' and Company == 'Cisco'):\n",
    "    print('It must be you!')\n",
    "if (name == 'Jane' and Company )\n"
   ]
  },
  {
   "cell_type": "code",
   "execution_count": 67,
   "id": "fancy-oriental",
   "metadata": {},
   "outputs": [],
   "source": [
    "if (name == 'Jane' and Company == False):\n",
    "    print('You work at rival company')"
   ]
  },
  {
   "cell_type": "code",
   "execution_count": 70,
   "id": "monetary-creator",
   "metadata": {},
   "outputs": [
    {
     "name": "stdout",
     "output_type": "stream",
     "text": [
      "Enter your name: asd\n",
      "Enter your company: asd\n",
      "Oh, you work at asd? Oh, well.\n"
     ]
    }
   ],
   "source": [
    "name = input('Enter your name: ')\n",
    "company = input('Enter your company: ')\n",
    "if name == 'Jane' and company == 'Cisco':\n",
    "    print('Hey, you must be me!')\n",
    "\n",
    "elif name == 'Jane': #implicitly, company is not 'Cisco'\n",
    "    print('You have my name, but work for a competitor!')\n",
    "    \n",
    "elif company == 'Cisco': #implicitly, name is not 'Jane'\n",
    "    print('You are my colleague, but have another name')\n",
    "\n",
    "else: \n",
    "    print(f'Oh, you work at {company}? Oh, well.')"
   ]
  },
  {
   "cell_type": "code",
   "execution_count": 71,
   "id": "thick-helmet",
   "metadata": {},
   "outputs": [
    {
     "data": {
      "text/plain": [
       "True"
      ]
     },
     "execution_count": 71,
     "metadata": {},
     "output_type": "execute_result"
    }
   ],
   "source": [
    "5 < 10"
   ]
  },
  {
   "cell_type": "code",
   "execution_count": 72,
   "id": "spread-riverside",
   "metadata": {},
   "outputs": [
    {
     "data": {
      "text/plain": [
       "True"
      ]
     },
     "execution_count": 72,
     "metadata": {},
     "output_type": "execute_result"
    }
   ],
   "source": [
    "10 > 5"
   ]
  },
  {
   "cell_type": "code",
   "execution_count": 73,
   "id": "threaded-halloween",
   "metadata": {},
   "outputs": [
    {
     "data": {
      "text/plain": [
       "False"
      ]
     },
     "execution_count": 73,
     "metadata": {},
     "output_type": "execute_result"
    }
   ],
   "source": [
    "5 > 10"
   ]
  },
  {
   "cell_type": "code",
   "execution_count": 82,
   "id": "broken-horizon",
   "metadata": {},
   "outputs": [
    {
     "name": "stdout",
     "output_type": "stream",
     "text": [
      "Enter your first word: seond\n",
      "Enter your second word: one\n",
      "{first} comes before {second} alphabetically\n"
     ]
    }
   ],
   "source": [
    "first = input('Enter first word: ')\n",
    "second = input('Enter second word: ')\n",
    "if first == second:\n",
    "    print('they are the same word')\n",
    "elif first > second:\n",
    "    print('{first} comes before {second} alphabetically')\n",
    "else:\n",
    "    print('they are not the same word')\n",
    "              "
   ]
  },
  {
   "cell_type": "code",
   "execution_count": 86,
   "id": "hourly-gazette",
   "metadata": {},
   "outputs": [
    {
     "name": "stdout",
     "output_type": "stream",
     "text": [
      "Enter first word: Persimmon\n",
      "Enter second word: Persimmon\n",
      "Persimmon and Persimmon are the same!\n"
     ]
    }
   ],
   "source": [
    "first = input('Enter first word: ')\n",
    "second = input('Enter second word: ')\n",
    "if first < second:\n",
    "    print(f'{first} comes before {second} in the dictionary')\n",
    "elif first > second:\n",
    "    print(f'{second} comes before {first} in the dictionary')\n",
    "else:\n",
    "    print(f'{first} and {second} are the same!')"
   ]
  },
  {
   "cell_type": "markdown",
   "id": "covered-timeline",
   "metadata": {},
   "source": []
  },
  {
   "cell_type": "code",
   "execution_count": 87,
   "id": "mineral-scroll",
   "metadata": {},
   "outputs": [
    {
     "data": {
      "text/plain": [
       "5"
      ]
     },
     "execution_count": 87,
     "metadata": {},
     "output_type": "execute_result"
    }
   ],
   "source": [
    "2 + 3"
   ]
  },
  {
   "cell_type": "code",
   "execution_count": 88,
   "id": "palestinian-buying",
   "metadata": {},
   "outputs": [
    {
     "data": {
      "text/plain": [
       "'abcdefgh'"
      ]
     },
     "execution_count": 88,
     "metadata": {},
     "output_type": "execute_result"
    }
   ],
   "source": [
    "s = 'abcd'\n",
    "t = 'efgh'\n",
    "s + t "
   ]
  },
  {
   "cell_type": "code",
   "execution_count": 89,
   "id": "incredible-restoration",
   "metadata": {},
   "outputs": [
    {
     "data": {
      "text/plain": [
       "str"
      ]
     },
     "execution_count": 89,
     "metadata": {},
     "output_type": "execute_result"
    }
   ],
   "source": [
    "type(s)"
   ]
  },
  {
   "cell_type": "code",
   "execution_count": 97,
   "id": "threatened-possible",
   "metadata": {},
   "outputs": [
    {
     "ename": "NameError",
     "evalue": "name 'Print' is not defined",
     "output_type": "error",
     "traceback": [
      "\u001b[0;31m---------------------------------------------------------------------------\u001b[0m",
      "\u001b[0;31mNameError\u001b[0m                                 Traceback (most recent call last)",
      "\u001b[0;32m<ipython-input-97-399b912dcb85>\u001b[0m in \u001b[0;36m<module>\u001b[0;34m\u001b[0m\n\u001b[1;32m      1\u001b[0m \u001b[0;32mimport\u001b[0m \u001b[0mrandom\u001b[0m\u001b[0;34m\u001b[0m\u001b[0;34m\u001b[0m\u001b[0m\n\u001b[1;32m      2\u001b[0m \u001b[0mnumber\u001b[0m \u001b[0;34m=\u001b[0m \u001b[0mrandom\u001b[0m\u001b[0;34m.\u001b[0m\u001b[0mrandint\u001b[0m\u001b[0;34m(\u001b[0m\u001b[0;36m0\u001b[0m\u001b[0;34m,\u001b[0m\u001b[0;36m100\u001b[0m\u001b[0;34m)\u001b[0m\u001b[0;34m\u001b[0m\u001b[0;34m\u001b[0m\u001b[0m\n\u001b[0;32m----> 3\u001b[0;31m \u001b[0mPrint\u001b[0m\u001b[0;34m(\u001b[0m\u001b[0;34mf'random number is {number}'\u001b[0m\u001b[0;34m)\u001b[0m\u001b[0;34m\u001b[0m\u001b[0;34m\u001b[0m\u001b[0m\n\u001b[0m",
      "\u001b[0;31mNameError\u001b[0m: name 'Print' is not defined"
     ]
    }
   ],
   "source": [
    "import random\n",
    "number = random.randint(0,100)\n",
    "Print(f'random number is {number}')\n"
   ]
  },
  {
   "cell_type": "code",
   "execution_count": null,
   "id": "bearing-performer",
   "metadata": {},
   "outputs": [],
   "source": []
  }
 ],
 "metadata": {
  "kernelspec": {
   "display_name": "Python 3",
   "language": "python",
   "name": "python3"
  },
  "language_info": {
   "codemirror_mode": {
    "name": "ipython",
    "version": 3
   },
   "file_extension": ".py",
   "mimetype": "text/x-python",
   "name": "python",
   "nbconvert_exporter": "python",
   "pygments_lexer": "ipython3",
   "version": "3.8.6"
  }
 },
 "nbformat": 4,
 "nbformat_minor": 5
}
