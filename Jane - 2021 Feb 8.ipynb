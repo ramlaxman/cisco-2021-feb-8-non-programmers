{
 "cells": [
  {
   "cell_type": "code",
   "execution_count": 1,
   "id": "cross-least",
   "metadata": {},
   "outputs": [
    {
     "name": "stdout",
     "output_type": "stream",
     "text": [
      "Hello world!!!!\n"
     ]
    }
   ],
   "source": [
    "print('Hello world!!!!') # shift+enter == run the code in the current cell"
   ]
  },
  {
   "cell_type": "code",
   "execution_count": 6,
   "id": "adopted-asian",
   "metadata": {},
   "outputs": [
    {
     "name": "stdout",
     "output_type": "stream",
     "text": [
      "Hello + x\n"
     ]
    }
   ],
   "source": [
    "x = 'Jane'\n",
    "print ('Hello + x')\n"
   ]
  },
  {
   "cell_type": "code",
   "execution_count": 4,
   "id": "southwest-front",
   "metadata": {},
   "outputs": [
    {
     "name": "stdout",
     "output_type": "stream",
     "text": [
      "Hello name\n"
     ]
    }
   ],
   "source": [
    "name = 'Jane'\n",
    "print ('Hello name')"
   ]
  },
  {
   "cell_type": "code",
   "execution_count": 8,
   "id": "blond-scanner",
   "metadata": {},
   "outputs": [
    {
     "name": "stdout",
     "output_type": "stream",
     "text": [
      "Hello + x\n"
     ]
    }
   ],
   "source": [
    "x = 'Jane'\n",
    "print ('Hello + x')"
   ]
  },
  {
   "cell_type": "code",
   "execution_count": 9,
   "id": "changed-treaty",
   "metadata": {},
   "outputs": [
    {
     "name": "stdout",
     "output_type": "stream",
     "text": [
      "Hello, Jane\n"
     ]
    }
   ],
   "source": [
    "name = 'Jane'\n",
    "print('Hello, '+ name)"
   ]
  },
  {
   "cell_type": "code",
   "execution_count": 10,
   "id": "saving-platinum",
   "metadata": {},
   "outputs": [
    {
     "name": "stdout",
     "output_type": "stream",
     "text": [
      "Hello,Jane\n"
     ]
    }
   ],
   "source": [
    "name = 'Jane'\n",
    "print('Hello,'+ name)"
   ]
  },
  {
   "cell_type": "code",
   "execution_count": 11,
   "id": "southern-penny",
   "metadata": {},
   "outputs": [
    {
     "name": "stdout",
     "output_type": "stream",
     "text": [
      "Hello, Jane.\n"
     ]
    }
   ],
   "source": [
    "print('Hello, ' + name + '.')"
   ]
  },
  {
   "cell_type": "code",
   "execution_count": 13,
   "id": "permanent-louis",
   "metadata": {},
   "outputs": [
    {
     "name": "stdout",
     "output_type": "stream",
     "text": [
      "Hello, Jane, with a favorite number 81!\n"
     ]
    }
   ],
   "source": [
    "name = 'Jane'\n",
    "favorite_number = 81\n",
    "print(f'Hello, {name}, with a favorite number {favorite_number}!')"
   ]
  },
  {
   "cell_type": "code",
   "execution_count": 20,
   "id": "grave-witch",
   "metadata": {},
   "outputs": [
    {
     "name": "stdout",
     "output_type": "stream",
     "text": [
      "Jane, born in year 1981 will turn 40!\n"
     ]
    }
   ],
   "source": [
    "name = 'Jane'\n",
    "birthyear = 1981\n",
    "age_this_year = 40\n",
    "print(f'{name}, born in year {birthyear} will turn {age_this_year}!')"
   ]
  },
  {
   "cell_type": "code",
   "execution_count": 21,
   "id": "posted-nicholas",
   "metadata": {},
   "outputs": [
    {
     "name": "stdout",
     "output_type": "stream",
     "text": [
      "Enter your name:Jane\n"
     ]
    }
   ],
   "source": [
    "s = input('Enter your name:')"
   ]
  },
  {
   "cell_type": "code",
   "execution_count": 22,
   "id": "international-enough",
   "metadata": {},
   "outputs": [
    {
     "name": "stdout",
     "output_type": "stream",
     "text": [
      "how do you feel todayGreat\n"
     ]
    }
   ],
   "source": [
    "s = input('how do you feel today')"
   ]
  },
  {
   "cell_type": "markdown",
   "id": "every-thanks",
   "metadata": {},
   "source": []
  },
  {
   "cell_type": "code",
   "execution_count": 23,
   "id": "cathedral-scholar",
   "metadata": {},
   "outputs": [
    {
     "name": "stdout",
     "output_type": "stream",
     "text": [
      "Enter your name:Jane\n"
     ]
    }
   ],
   "source": [
    "s = input('Enter your name:')"
   ]
  },
  {
   "cell_type": "code",
   "execution_count": 28,
   "id": "smoking-creature",
   "metadata": {},
   "outputs": [
    {
     "name": "stdout",
     "output_type": "stream",
     "text": [
      "how do you feel today: Great\n"
     ]
    }
   ],
   "source": [
    "\n",
    "s = input('how do you feel today: ')"
   ]
  },
  {
   "cell_type": "code",
   "execution_count": 27,
   "id": "downtown-compact",
   "metadata": {},
   "outputs": [
    {
     "name": "stdout",
     "output_type": "stream",
     "text": [
      "Jane is feeling Great!\n"
     ]
    }
   ],
   "source": [
    "name = 'Jane'\n",
    "feeling = 'Great'\n",
    "print (f'{name} is feeling {feeling}!')"
   ]
  },
  {
   "cell_type": "code",
   "execution_count": 29,
   "id": "patient-shirt",
   "metadata": {},
   "outputs": [
    {
     "name": "stdout",
     "output_type": "stream",
     "text": [
      "Enter your name: Jane\n",
      "How are you feeling? Great\n",
      "Hey, Jane, good to know you are feeling Great.\n"
     ]
    }
   ],
   "source": [
    "name = input('Enter your name: ')\n",
    "feeling = input('How are you feeling? ')\n",
    "print(f'Hey, {name}, good to know you are feeling {feeling}.')"
   ]
  },
  {
   "cell_type": "code",
   "execution_count": 32,
   "id": "material-marathon",
   "metadata": {},
   "outputs": [
    {
     "name": "stdout",
     "output_type": "stream",
     "text": [
      "Enter your name: Jane\n",
      "Hello, boss!\n",
      "Nice to see you again!\n"
     ]
    }
   ],
   "source": [
    "name = input( 'Enter your name: ')\n",
    "if name == 'Jane': # if \n",
    "    print( 'Hello, boss!')\n",
    "    print('Nice to see you again!')\n",
    "else:\n",
    "    print(f'Hello, {name}. Nice to meet you!')"
   ]
  },
  {
   "cell_type": "code",
   "execution_count": null,
   "id": "wired-carolina",
   "metadata": {},
   "outputs": [],
   "source": []
  },
  {
   "cell_type": "code",
   "execution_count": null,
   "id": "varying-shame",
   "metadata": {},
   "outputs": [],
   "source": []
  }
 ],
 "metadata": {
  "kernelspec": {
   "display_name": "Python 3",
   "language": "python",
   "name": "python3"
  },
  "language_info": {
   "codemirror_mode": {
    "name": "ipython",
    "version": 3
   },
   "file_extension": ".py",
   "mimetype": "text/x-python",
   "name": "python",
   "nbconvert_exporter": "python",
   "pygments_lexer": "ipython3",
   "version": "3.8.6"
  }
 },
 "nbformat": 4,
 "nbformat_minor": 5
}
