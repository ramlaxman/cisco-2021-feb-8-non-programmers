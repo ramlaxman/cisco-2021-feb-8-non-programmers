{
 "cells": [
  {
   "cell_type": "code",
   "execution_count": 1,
   "id": "applicable-pastor",
   "metadata": {},
   "outputs": [
    {
     "name": "stdout",
     "output_type": "stream",
     "text": [
      "Hello world!!!!\n"
     ]
    }
   ],
   "source": [
    "print('Hello world!!!!') # shift+enter == run the code in the current cell"
   ]
  },
  {
   "cell_type": "code",
   "execution_count": 6,
   "id": "elder-ideal",
   "metadata": {},
   "outputs": [
    {
     "name": "stdout",
     "output_type": "stream",
     "text": [
      "Hello + x\n"
     ]
    }
   ],
   "source": [
    "x = 'Jane'\n",
    "print ('Hello + x')\n"
   ]
  },
  {
   "cell_type": "code",
   "execution_count": 4,
   "id": "opponent-peripheral",
   "metadata": {},
   "outputs": [
    {
     "name": "stdout",
     "output_type": "stream",
     "text": [
      "Hello name\n"
     ]
    }
   ],
   "source": [
    "name = 'Jane'\n",
    "print ('Hello name')"
   ]
  },
  {
   "cell_type": "code",
   "execution_count": 8,
   "id": "constant-clearance",
   "metadata": {},
   "outputs": [
    {
     "name": "stdout",
     "output_type": "stream",
     "text": [
      "Hello + x\n"
     ]
    }
   ],
   "source": [
    "x = 'Jane'\n",
    "print ('Hello + x')"
   ]
  },
  {
   "cell_type": "code",
   "execution_count": 9,
   "id": "organizational-blackberry",
   "metadata": {},
   "outputs": [
    {
     "name": "stdout",
     "output_type": "stream",
     "text": [
      "Hello, Jane\n"
     ]
    }
   ],
   "source": [
    "name = 'Jane'\n",
    "print('Hello, '+ name)"
   ]
  },
  {
   "cell_type": "code",
   "execution_count": 10,
   "id": "rational-boulder",
   "metadata": {},
   "outputs": [
    {
     "name": "stdout",
     "output_type": "stream",
     "text": [
      "Hello,Jane\n"
     ]
    }
   ],
   "source": [
    "name = 'Jane'\n",
    "print('Hello,'+ name)"
   ]
  },
  {
   "cell_type": "code",
   "execution_count": 11,
   "id": "forward-papua",
   "metadata": {},
   "outputs": [
    {
     "name": "stdout",
     "output_type": "stream",
     "text": [
      "Hello, Jane.\n"
     ]
    }
   ],
   "source": [
    "print('Hello, ' + name + '.')"
   ]
  },
  {
   "cell_type": "code",
   "execution_count": 13,
   "id": "blocked-storm",
   "metadata": {},
   "outputs": [
    {
     "name": "stdout",
     "output_type": "stream",
     "text": [
      "Hello, Jane, with a favorite number 81!\n"
     ]
    }
   ],
   "source": [
    "name = 'Jane'\n",
    "favorite_number = 81\n",
    "print(f'Hello, {name}, with a favorite number {favorite_number}!')"
   ]
  },
  {
   "cell_type": "code",
   "execution_count": 20,
   "id": "compact-engagement",
   "metadata": {},
   "outputs": [
    {
     "name": "stdout",
     "output_type": "stream",
     "text": [
      "Jane, born in year 1981 will turn 40!\n"
     ]
    }
   ],
   "source": [
    "name = 'Jane'\n",
    "birthyear = 1981\n",
    "age_this_year = 40\n",
    "print(f'{name}, born in year {birthyear} will turn {age_this_year}!')"
   ]
  },
  {
   "cell_type": "code",
   "execution_count": 21,
   "id": "conscious-affiliation",
   "metadata": {},
   "outputs": [
    {
     "name": "stdout",
     "output_type": "stream",
     "text": [
      "Enter your name:Jane\n"
     ]
    }
   ],
   "source": [
    "s = input('Enter your name:')"
   ]
  },
  {
   "cell_type": "code",
   "execution_count": 22,
   "id": "normal-brown",
   "metadata": {},
   "outputs": [
    {
     "name": "stdout",
     "output_type": "stream",
     "text": [
      "how do you feel todayGreat\n"
     ]
    }
   ],
   "source": [
    "s = input('how do you feel today')"
   ]
  },
  {
   "cell_type": "markdown",
   "id": "quantitative-physics",
   "metadata": {},
   "source": []
  },
  {
   "cell_type": "code",
   "execution_count": 23,
   "id": "critical-tonight",
   "metadata": {},
   "outputs": [
    {
     "name": "stdout",
     "output_type": "stream",
     "text": [
      "Enter your name:Jane\n"
     ]
    }
   ],
   "source": [
    "s = input('Enter your name:')"
   ]
  },
  {
   "cell_type": "code",
   "execution_count": 28,
   "id": "undefined-pathology",
   "metadata": {},
   "outputs": [
    {
     "name": "stdout",
     "output_type": "stream",
     "text": [
      "how do you feel today: Great\n"
     ]
    }
   ],
   "source": [
    "\n",
    "s = input('how do you feel today: ')"
   ]
  },
  {
   "cell_type": "code",
   "execution_count": 27,
   "id": "tough-extraction",
   "metadata": {},
   "outputs": [
    {
     "name": "stdout",
     "output_type": "stream",
     "text": [
      "Jane is feeling Great!\n"
     ]
    }
   ],
   "source": [
    "name = 'Jane'\n",
    "feeling = 'Great'\n",
    "print (f'{name} is feeling {feeling}!')"
   ]
  },
  {
   "cell_type": "code",
   "execution_count": 29,
   "id": "controversial-indiana",
   "metadata": {},
   "outputs": [
    {
     "name": "stdout",
     "output_type": "stream",
     "text": [
      "Enter your name: Jane\n",
      "How are you feeling? Great\n",
      "Hey, Jane, good to know you are feeling Great.\n"
     ]
    }
   ],
   "source": [
    "name = input('Enter your name: ')\n",
    "feeling = input('How are you feeling? ')\n",
    "print(f'Hey, {name}, good to know you are feeling {feeling}.')"
   ]
  },
  {
   "cell_type": "code",
   "execution_count": 33,
   "id": "persistent-quebec",
   "metadata": {},
   "outputs": [
    {
     "name": "stdout",
     "output_type": "stream",
     "text": [
      "Enter your name: Jane\n",
      "Hello, boss!\n",
      "Nice to see you again!\n"
     ]
    }
   ],
   "source": [
    "name = input( 'Enter your name: ')\n",
    "if name == 'Jane': # if this comparison returns True, then we execute if's body/block\n",
    "    print( 'Hello, boss!')\n",
    "    print('Nice to see you again!')\n",
    "else:\n",
    "    print(f'Hello, {name}. Nice to meet you!')"
   ]
  },
  {
   "cell_type": "code",
   "execution_count": 36,
   "id": "demonstrated-ghost",
   "metadata": {},
   "outputs": [
    {
     "name": "stdout",
     "output_type": "stream",
     "text": [
      "Where do you work: Apple\n",
      "Haha, Apple, Good luck!\n"
     ]
    }
   ],
   "source": [
    "company = input('Where do you work: ')\n",
    "if company == 'Cisco':\n",
    "    print( 'Welcome aboard!')\n",
    "else:\n",
    "    print(f'Haha, {company}, Good luck!')"
   ]
  },
  {
   "cell_type": "code",
   "execution_count": 37,
   "id": "black-edwards",
   "metadata": {},
   "outputs": [
    {
     "name": "stdout",
     "output_type": "stream",
     "text": [
      "Enter your company: Cisco\n",
      "Wow! I must be your colleague!\n"
     ]
    }
   ],
   "source": [
    "company = input('Enter your company: ')\n",
    "if company == 'Cisco':\n",
    "    print('Wow! I must be your colleague!')\n",
    "else:\n",
    "    print('Well, I am sure you are sorta kinda happy where you work.')"
   ]
  },
  {
   "cell_type": "code",
   "execution_count": 40,
   "id": "precious-bunch",
   "metadata": {},
   "outputs": [
    {
     "name": "stdout",
     "output_type": "stream",
     "text": [
      "Enter your favorite color: blue\n",
      "I like blue, too\n"
     ]
    }
   ],
   "source": [
    "color = input('Enter your favorite color: ')\n",
    "if color == 'red':\n",
    "    print('Good to know you like red')\n",
    "elif color == 'blue':\n",
    "    print('I like blue, too')\n",
    "elif color == 'green':\n",
    "    print('It is a great color!')\n",
    "elif color == 'blue':\n",
    "    print('EVIL SECOND BLUE MATCH!')\n",
    "else:\n",
    "    print('I guess you like something that is neither red nor blue')"
   ]
  },
  {
   "cell_type": "raw",
   "id": "spiritual-bracelet",
   "metadata": {},
   "source": [
    "\n"
   ]
  },
  {
   "cell_type": "markdown",
   "id": "younger-allergy",
   "metadata": {},
   "source": []
  },
  {
   "cell_type": "code",
   "execution_count": 43,
   "id": "historical-writing",
   "metadata": {},
   "outputs": [
    {
     "name": "stdout",
     "output_type": "stream",
     "text": [
      "Where do you work: Apple\n",
      "Good luck!\n"
     ]
    }
   ],
   "source": [
    "company = input('Where do you work: ')\n",
    "if company == 'Cisco':\n",
    "    print('Congratulation to be my colleague')\n",
    "elif company == 'LSI':\n",
    "    print('I used to be your colleague')\n",
    "else:\n",
    "    print('Good luck!')"
   ]
  },
  {
   "cell_type": "code",
   "execution_count": 44,
   "id": "dependent-spare",
   "metadata": {},
   "outputs": [
    {
     "name": "stdout",
     "output_type": "stream",
     "text": [
      "Where do you work: Apple\n",
      "I have never heard of that sad company, Apple.\n"
     ]
    }
   ],
   "source": [
    "company = input('Where do you work: ')\n",
    "if company == 'Cisco':\n",
    "    print('You work at Cisco, too? Wow! We are colleague!')\n",
    "elif company == 'Time Warner':\n",
    "    print('I used to work there... once upon a time...')\n",
    "else:\n",
    "    print(f'I have never heard of that sad company, {company}.')"
   ]
  },
  {
   "cell_type": "code",
   "execution_count": 45,
   "id": "nuclear-swift",
   "metadata": {},
   "outputs": [
    {
     "name": "stdout",
     "output_type": "stream",
     "text": [
      "Hi, I'm Jane\n"
     ]
    }
   ],
   "source": [
    "s = 'Hi, I\\'m Jane'\n",
    "print(s)"
   ]
  },
  {
   "cell_type": "code",
   "execution_count": 46,
   "id": "another-indianapolis",
   "metadata": {},
   "outputs": [
    {
     "data": {
      "text/plain": [
       "True"
      ]
     },
     "execution_count": 46,
     "metadata": {},
     "output_type": "execute_result"
    }
   ],
   "source": [
    "x = True\n",
    "y = True\n",
    "\n",
    "x and y"
   ]
  },
  {
   "cell_type": "code",
   "execution_count": 57,
   "id": "amber-discovery",
   "metadata": {},
   "outputs": [
    {
     "name": "stdout",
     "output_type": "stream",
     "text": [
      "One of them is what you want\n"
     ]
    }
   ],
   "source": [
    "x = 999\n",
    "y = 20\n",
    "if (x == 999 or \n",
    "    y == 20):\n",
    "    print('One of them is what you want')"
   ]
  },
  {
   "cell_type": "code",
   "execution_count": 58,
   "id": "collected-portugal",
   "metadata": {},
   "outputs": [
    {
     "name": "stdout",
     "output_type": "stream",
     "text": [
      "Enter your name: Jane\n",
      "Where do you work: Cisco\n"
     ]
    },
    {
     "ename": "NameError",
     "evalue": "name 'Jane' is not defined",
     "output_type": "error",
     "traceback": [
      "\u001b[0;31m---------------------------------------------------------------------------\u001b[0m",
      "\u001b[0;31mNameError\u001b[0m                                 Traceback (most recent call last)",
      "\u001b[0;32m<ipython-input-58-256527d94ee4>\u001b[0m in \u001b[0;36m<module>\u001b[0;34m\u001b[0m\n\u001b[1;32m      1\u001b[0m \u001b[0mname\u001b[0m \u001b[0;34m=\u001b[0m \u001b[0minput\u001b[0m\u001b[0;34m(\u001b[0m\u001b[0;34m'Enter your name: '\u001b[0m\u001b[0;34m)\u001b[0m\u001b[0;34m\u001b[0m\u001b[0;34m\u001b[0m\u001b[0m\n\u001b[1;32m      2\u001b[0m \u001b[0mcompany\u001b[0m \u001b[0;34m=\u001b[0m \u001b[0minput\u001b[0m\u001b[0;34m(\u001b[0m\u001b[0;34m'Where do you work: '\u001b[0m\u001b[0;34m)\u001b[0m\u001b[0;34m\u001b[0m\u001b[0;34m\u001b[0m\u001b[0m\n\u001b[0;32m----> 3\u001b[0;31m \u001b[0;32mif\u001b[0m \u001b[0;34m(\u001b[0m\u001b[0mname\u001b[0m \u001b[0;34m==\u001b[0m \u001b[0mJane\u001b[0m \u001b[0;32mand\u001b[0m \u001b[0mcompany\u001b[0m \u001b[0;34m==\u001b[0m \u001b[0mCisco\u001b[0m\u001b[0;34m)\u001b[0m\u001b[0;34m:\u001b[0m\u001b[0;34m\u001b[0m\u001b[0;34m\u001b[0m\u001b[0m\n\u001b[0m\u001b[1;32m      4\u001b[0m     \u001b[0mprint\u001b[0m\u001b[0;34m(\u001b[0m\u001b[0;34m'It must be you!'\u001b[0m\u001b[0;34m)\u001b[0m\u001b[0;34m\u001b[0m\u001b[0;34m\u001b[0m\u001b[0m\n\u001b[1;32m      5\u001b[0m \u001b[0;32mif\u001b[0m \u001b[0;34m(\u001b[0m\u001b[0mname\u001b[0m \u001b[0;34m==\u001b[0m \u001b[0mJane\u001b[0m \u001b[0;32mor\u001b[0m \u001b[0mcompany\u001b[0m \u001b[0;34m==\u001b[0m \u001b[0mCisco\u001b[0m\u001b[0;34m)\u001b[0m\u001b[0;34m:\u001b[0m\u001b[0;34m\u001b[0m\u001b[0;34m\u001b[0m\u001b[0m\n",
      "\u001b[0;31mNameError\u001b[0m: name 'Jane' is not defined"
     ]
    }
   ],
   "source": [
    "name = input('Enter your name: ')\n",
    "company = input('Where do you work: ')\n",
    "if (name == Jane and company == Cisco):\n",
    "    print('It must be you!')\n",
    "if (name == Jane or company == Cisco):\n",
    "    print('You work at rival company')\n"
   ]
  },
  {
   "cell_type": "code",
   "execution_count": null,
   "id": "unexpected-gallery",
   "metadata": {},
   "outputs": [],
   "source": []
  }
 ],
 "metadata": {
  "kernelspec": {
   "display_name": "Python 3",
   "language": "python",
   "name": "python3"
  },
  "language_info": {
   "codemirror_mode": {
    "name": "ipython",
    "version": 3
   },
   "file_extension": ".py",
   "mimetype": "text/x-python",
   "name": "python",
   "nbconvert_exporter": "python",
   "pygments_lexer": "ipython3",
   "version": "3.8.6"
  }
 },
 "nbformat": 4,
 "nbformat_minor": 5
}
