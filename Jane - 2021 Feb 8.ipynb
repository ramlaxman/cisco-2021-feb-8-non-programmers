{
 "cells": [
  {
   "cell_type": "code",
   "execution_count": 1,
   "id": "human-clone",
   "metadata": {},
   "outputs": [
    {
     "name": "stdout",
     "output_type": "stream",
     "text": [
      "Hello world!!!!\n"
     ]
    }
   ],
   "source": [
    "print('Hello world!!!!') # shift+enter == run the code in the current cell"
   ]
  },
  {
   "cell_type": "code",
   "execution_count": 6,
   "id": "later-reputation",
   "metadata": {},
   "outputs": [
    {
     "name": "stdout",
     "output_type": "stream",
     "text": [
      "Hello + x\n"
     ]
    }
   ],
   "source": [
    "x = 'Jane'\n",
    "print ('Hello + x')\n"
   ]
  },
  {
   "cell_type": "code",
   "execution_count": 4,
   "id": "seeing-practitioner",
   "metadata": {},
   "outputs": [
    {
     "name": "stdout",
     "output_type": "stream",
     "text": [
      "Hello name\n"
     ]
    }
   ],
   "source": [
    "name = 'Jane'\n",
    "print ('Hello name')"
   ]
  },
  {
   "cell_type": "code",
   "execution_count": 8,
   "id": "contrary-table",
   "metadata": {},
   "outputs": [
    {
     "name": "stdout",
     "output_type": "stream",
     "text": [
      "Hello + x\n"
     ]
    }
   ],
   "source": [
    "x = 'Jane'\n",
    "print ('Hello + x')"
   ]
  },
  {
   "cell_type": "code",
   "execution_count": 9,
   "id": "activated-aquatic",
   "metadata": {},
   "outputs": [
    {
     "name": "stdout",
     "output_type": "stream",
     "text": [
      "Hello, Jane\n"
     ]
    }
   ],
   "source": [
    "name = 'Jane'\n",
    "print('Hello, '+ name)"
   ]
  },
  {
   "cell_type": "code",
   "execution_count": 10,
   "id": "attached-clarity",
   "metadata": {},
   "outputs": [
    {
     "name": "stdout",
     "output_type": "stream",
     "text": [
      "Hello,Jane\n"
     ]
    }
   ],
   "source": [
    "name = 'Jane'\n",
    "print('Hello,'+ name)"
   ]
  },
  {
   "cell_type": "code",
   "execution_count": 11,
   "id": "adapted-parks",
   "metadata": {},
   "outputs": [
    {
     "name": "stdout",
     "output_type": "stream",
     "text": [
      "Hello, Jane.\n"
     ]
    }
   ],
   "source": [
    "print('Hello, ' + name + '.')"
   ]
  },
  {
   "cell_type": "code",
   "execution_count": 13,
   "id": "hairy-determination",
   "metadata": {},
   "outputs": [
    {
     "name": "stdout",
     "output_type": "stream",
     "text": [
      "Hello, Jane, with a favorite number 81!\n"
     ]
    }
   ],
   "source": [
    "name = 'Jane'\n",
    "favorite_number = 81\n",
    "print(f'Hello, {name}, with a favorite number {favorite_number}!')"
   ]
  },
  {
   "cell_type": "code",
   "execution_count": 20,
   "id": "legal-yukon",
   "metadata": {},
   "outputs": [
    {
     "name": "stdout",
     "output_type": "stream",
     "text": [
      "Jane, born in year 1981 will turn 40!\n"
     ]
    }
   ],
   "source": [
    "name = 'Jane'\n",
    "birthyear = 1981\n",
    "age_this_year = 40\n",
    "print(f'{name}, born in year {birthyear} will turn {age_this_year}!')"
   ]
  },
  {
   "cell_type": "code",
   "execution_count": 21,
   "id": "pointed-litigation",
   "metadata": {},
   "outputs": [
    {
     "name": "stdout",
     "output_type": "stream",
     "text": [
      "Enter your name:Jane\n"
     ]
    }
   ],
   "source": [
    "s = input('Enter your name:')"
   ]
  },
  {
   "cell_type": "code",
   "execution_count": 22,
   "id": "sorted-natural",
   "metadata": {},
   "outputs": [
    {
     "name": "stdout",
     "output_type": "stream",
     "text": [
      "how do you feel todayGreat\n"
     ]
    }
   ],
   "source": [
    "s = input('how do you feel today')"
   ]
  },
  {
   "cell_type": "markdown",
   "id": "monetary-classroom",
   "metadata": {},
   "source": []
  },
  {
   "cell_type": "code",
   "execution_count": 23,
   "id": "convertible-guard",
   "metadata": {},
   "outputs": [
    {
     "name": "stdout",
     "output_type": "stream",
     "text": [
      "Enter your name:Jane\n"
     ]
    }
   ],
   "source": [
    "s = input('Enter your name:')"
   ]
  },
  {
   "cell_type": "code",
   "execution_count": 28,
   "id": "numeric-excerpt",
   "metadata": {},
   "outputs": [
    {
     "name": "stdout",
     "output_type": "stream",
     "text": [
      "how do you feel today: Great\n"
     ]
    }
   ],
   "source": [
    "\n",
    "s = input('how do you feel today: ')"
   ]
  },
  {
   "cell_type": "code",
   "execution_count": 27,
   "id": "adaptive-phoenix",
   "metadata": {},
   "outputs": [
    {
     "name": "stdout",
     "output_type": "stream",
     "text": [
      "Jane is feeling Great!\n"
     ]
    }
   ],
   "source": [
    "name = 'Jane'\n",
    "feeling = 'Great'\n",
    "print (f'{name} is feeling {feeling}!')"
   ]
  },
  {
   "cell_type": "code",
   "execution_count": 29,
   "id": "informal-airplane",
   "metadata": {},
   "outputs": [
    {
     "name": "stdout",
     "output_type": "stream",
     "text": [
      "Enter your name: Jane\n",
      "How are you feeling? Great\n",
      "Hey, Jane, good to know you are feeling Great.\n"
     ]
    }
   ],
   "source": [
    "name = input('Enter your name: ')\n",
    "feeling = input('How are you feeling? ')\n",
    "print(f'Hey, {name}, good to know you are feeling {feeling}.')"
   ]
  },
  {
   "cell_type": "code",
   "execution_count": 33,
   "id": "documentary-outdoors",
   "metadata": {},
   "outputs": [
    {
     "name": "stdout",
     "output_type": "stream",
     "text": [
      "Enter your name: Jane\n",
      "Hello, boss!\n",
      "Nice to see you again!\n"
     ]
    }
   ],
   "source": [
    "name = input( 'Enter your name: ')\n",
    "if name == 'Jane': # if this comparison returns True, then we execute if's body/block\n",
    "    print( 'Hello, boss!')\n",
    "    print('Nice to see you again!')\n",
    "else:\n",
    "    print(f'Hello, {name}. Nice to meet you!')"
   ]
  },
  {
   "cell_type": "code",
   "execution_count": 36,
   "id": "passive-missile",
   "metadata": {},
   "outputs": [
    {
     "name": "stdout",
     "output_type": "stream",
     "text": [
      "Where do you work: Apple\n",
      "Haha, Apple, Good luck!\n"
     ]
    }
   ],
   "source": [
    "company = input('Where do you work: ')\n",
    "if company == 'Cisco':\n",
    "    print( 'Welcome aboard!')\n",
    "else:\n",
    "    print(f'Haha, {company}, Good luck!')"
   ]
  },
  {
   "cell_type": "code",
   "execution_count": 37,
   "id": "present-archives",
   "metadata": {},
   "outputs": [
    {
     "name": "stdout",
     "output_type": "stream",
     "text": [
      "Enter your company: Cisco\n",
      "Wow! I must be your colleague!\n"
     ]
    }
   ],
   "source": [
    "company = input('Enter your company: ')\n",
    "if company == 'Cisco':\n",
    "    print('Wow! I must be your colleague!')\n",
    "else:\n",
    "    print('Well, I am sure you are sorta kinda happy where you work.')"
   ]
  },
  {
   "cell_type": "code",
   "execution_count": 40,
   "id": "processed-hydrogen",
   "metadata": {},
   "outputs": [
    {
     "name": "stdout",
     "output_type": "stream",
     "text": [
      "Enter your favorite color: blue\n",
      "I like blue, too\n"
     ]
    }
   ],
   "source": [
    "color = input('Enter your favorite color: ')\n",
    "if color == 'red':\n",
    "    print('Good to know you like red')\n",
    "elif color == 'blue':\n",
    "    print('I like blue, too')\n",
    "elif color == 'green':\n",
    "    print('It is a great color!')\n",
    "elif color == 'blue':\n",
    "    print('EVIL SECOND BLUE MATCH!')\n",
    "else:\n",
    "    print('I guess you like something that is neither red nor blue')"
   ]
  },
  {
   "cell_type": "raw",
   "id": "spectacular-polish",
   "metadata": {},
   "source": [
    "\n"
   ]
  },
  {
   "cell_type": "markdown",
   "id": "focal-dinner",
   "metadata": {},
   "source": []
  },
  {
   "cell_type": "code",
   "execution_count": 43,
   "id": "heated-thirty",
   "metadata": {},
   "outputs": [
    {
     "name": "stdout",
     "output_type": "stream",
     "text": [
      "Where do you work: Apple\n",
      "Good luck!\n"
     ]
    }
   ],
   "source": [
    "company = input('Where do you work: ')\n",
    "if company == 'Cisco':\n",
    "    print('Congratulation to be my colleague')\n",
    "elif company == 'LSI':\n",
    "    print('I used to be your colleague')\n",
    "else:\n",
    "    print('Good luck!')"
   ]
  },
  {
   "cell_type": "code",
   "execution_count": 44,
   "id": "subtle-transformation",
   "metadata": {},
   "outputs": [
    {
     "name": "stdout",
     "output_type": "stream",
     "text": [
      "Where do you work: Apple\n",
      "I have never heard of that sad company, Apple.\n"
     ]
    }
   ],
   "source": [
    "company = input('Where do you work: ')\n",
    "if company == 'Cisco':\n",
    "    print('You work at Cisco, too? Wow! We are colleague!')\n",
    "elif company == 'Time Warner':\n",
    "    print('I used to work there... once upon a time...')\n",
    "else:\n",
    "    print(f'I have never heard of that sad company, {company}.')"
   ]
  },
  {
   "cell_type": "code",
   "execution_count": 45,
   "id": "fancy-representation",
   "metadata": {},
   "outputs": [
    {
     "name": "stdout",
     "output_type": "stream",
     "text": [
      "Hi, I'm Jane\n"
     ]
    }
   ],
   "source": [
    "s = 'Hi, I\\'m Jane'\n",
    "print(s)"
   ]
  },
  {
   "cell_type": "code",
   "execution_count": 46,
   "id": "first-gardening",
   "metadata": {},
   "outputs": [
    {
     "data": {
      "text/plain": [
       "True"
      ]
     },
     "execution_count": 46,
     "metadata": {},
     "output_type": "execute_result"
    }
   ],
   "source": [
    "x = True\n",
    "y = True\n",
    "\n",
    "x and y"
   ]
  },
  {
   "cell_type": "code",
   "execution_count": 57,
   "id": "recreational-happening",
   "metadata": {},
   "outputs": [
    {
     "name": "stdout",
     "output_type": "stream",
     "text": [
      "One of them is what you want\n"
     ]
    }
   ],
   "source": [
    "x = 999\n",
    "y = 20\n",
    "if (x == 999 or \n",
    "    y == 20):\n",
    "    print('One of them is what you want')"
   ]
  },
  {
   "cell_type": "code",
   "execution_count": 60,
   "id": "original-preservation",
   "metadata": {},
   "outputs": [
    {
     "name": "stdout",
     "output_type": "stream",
     "text": [
      "What is your name:Jane\n",
      "Where do you work: Cisco\n"
     ]
    }
   ],
   "source": [
    "name = input ('What is your name:')\n",
    "company = input('Where do you work: ')"
   ]
  },
  {
   "cell_type": "code",
   "execution_count": 66,
   "id": "constitutional-governor",
   "metadata": {},
   "outputs": [
    {
     "name": "stdout",
     "output_type": "stream",
     "text": [
      "It must be you!\n"
     ]
    }
   ],
   "source": [
    "name = 'Jane'\n",
    "Company = 'Cisco'\n",
    "if (name == 'Jane' and Company == 'Cisco'):\n",
    "    print('It must be you!')\n",
    "if (name == 'Jane' and Company )\n"
   ]
  },
  {
   "cell_type": "code",
   "execution_count": 67,
   "id": "global-greene",
   "metadata": {},
   "outputs": [],
   "source": [
    "if (name == 'Jane' and Company == False):\n",
    "    print('You work at rival company')"
   ]
  },
  {
   "cell_type": "code",
   "execution_count": null,
   "id": "adopted-museum",
   "metadata": {},
   "outputs": [],
   "source": [
    "name = input('Enter your name: ')\n",
    "company = input('Enter your company: ')\n",
    "if name == 'Jane' and company == 'Cisco':\n",
    "    print('Hey, you must be me!')\n",
    "\n",
    "elif name == 'Jane': #implicitly, company is not 'Cisco'\n",
    "    print('You have my name, but work for a competitor!')\n",
    "    \n",
    "elif company == 'Cisco' #implicitly,"
   ]
  }
 ],
 "metadata": {
  "kernelspec": {
   "display_name": "Python 3",
   "language": "python",
   "name": "python3"
  },
  "language_info": {
   "codemirror_mode": {
    "name": "ipython",
    "version": 3
   },
   "file_extension": ".py",
   "mimetype": "text/x-python",
   "name": "python",
   "nbconvert_exporter": "python",
   "pygments_lexer": "ipython3",
   "version": "3.8.6"
  }
 },
 "nbformat": 4,
 "nbformat_minor": 5
}
