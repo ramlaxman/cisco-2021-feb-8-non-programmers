{
 "cells": [
  {
   "cell_type": "code",
   "execution_count": 1,
   "id": "aquatic-franklin",
   "metadata": {},
   "outputs": [
    {
     "name": "stdout",
     "output_type": "stream",
     "text": [
      "Hello world!!!!\n"
     ]
    }
   ],
   "source": [
    "print('Hello world!!!!') # shift+enter == run the code in the current cell"
   ]
  },
  {
   "cell_type": "code",
   "execution_count": 6,
   "id": "descending-premium",
   "metadata": {},
   "outputs": [
    {
     "name": "stdout",
     "output_type": "stream",
     "text": [
      "Hello + x\n"
     ]
    }
   ],
   "source": [
    "x = 'Jane'\n",
    "print ('Hello + x')\n"
   ]
  },
  {
   "cell_type": "code",
   "execution_count": 4,
   "id": "chicken-aluminum",
   "metadata": {},
   "outputs": [
    {
     "name": "stdout",
     "output_type": "stream",
     "text": [
      "Hello name\n"
     ]
    }
   ],
   "source": [
    "name = 'Jane'\n",
    "print ('Hello name')"
   ]
  },
  {
   "cell_type": "code",
   "execution_count": 8,
   "id": "contained-slovak",
   "metadata": {},
   "outputs": [
    {
     "name": "stdout",
     "output_type": "stream",
     "text": [
      "Hello + x\n"
     ]
    }
   ],
   "source": [
    "x = 'Jane'\n",
    "print ('Hello + x')"
   ]
  },
  {
   "cell_type": "code",
   "execution_count": 9,
   "id": "dangerous-grocery",
   "metadata": {},
   "outputs": [
    {
     "name": "stdout",
     "output_type": "stream",
     "text": [
      "Hello, Jane\n"
     ]
    }
   ],
   "source": [
    "name = 'Jane'\n",
    "print('Hello, '+ name)"
   ]
  },
  {
   "cell_type": "code",
   "execution_count": 10,
   "id": "turkish-specification",
   "metadata": {},
   "outputs": [
    {
     "name": "stdout",
     "output_type": "stream",
     "text": [
      "Hello,Jane\n"
     ]
    }
   ],
   "source": [
    "name = 'Jane'\n",
    "print('Hello,'+ name)"
   ]
  },
  {
   "cell_type": "code",
   "execution_count": 11,
   "id": "explicit-performer",
   "metadata": {},
   "outputs": [
    {
     "name": "stdout",
     "output_type": "stream",
     "text": [
      "Hello, Jane.\n"
     ]
    }
   ],
   "source": [
    "print('Hello, ' + name + '.')"
   ]
  },
  {
   "cell_type": "code",
   "execution_count": 13,
   "id": "rational-papua",
   "metadata": {},
   "outputs": [
    {
     "name": "stdout",
     "output_type": "stream",
     "text": [
      "Hello, Jane, with a favorite number 81!\n"
     ]
    }
   ],
   "source": [
    "name = 'Jane'\n",
    "favorite_number = 81\n",
    "print(f'Hello, {name}, with a favorite number {favorite_number}!')"
   ]
  },
  {
   "cell_type": "code",
   "execution_count": 20,
   "id": "heated-newcastle",
   "metadata": {},
   "outputs": [
    {
     "name": "stdout",
     "output_type": "stream",
     "text": [
      "Jane, born in year 1981 will turn 40!\n"
     ]
    }
   ],
   "source": [
    "name = 'Jane'\n",
    "birthyear = 1981\n",
    "age_this_year = 40\n",
    "print(f'{name}, born in year {birthyear} will turn {age_this_year}!')"
   ]
  },
  {
   "cell_type": "code",
   "execution_count": 21,
   "id": "occupational-female",
   "metadata": {},
   "outputs": [
    {
     "name": "stdout",
     "output_type": "stream",
     "text": [
      "Enter your name:Jane\n"
     ]
    }
   ],
   "source": [
    "s = input('Enter your name:')"
   ]
  },
  {
   "cell_type": "code",
   "execution_count": 22,
   "id": "closed-yukon",
   "metadata": {},
   "outputs": [
    {
     "name": "stdout",
     "output_type": "stream",
     "text": [
      "how do you feel todayGreat\n"
     ]
    }
   ],
   "source": [
    "s = input('how do you feel today')"
   ]
  },
  {
   "cell_type": "markdown",
   "id": "basic-plaintiff",
   "metadata": {},
   "source": []
  },
  {
   "cell_type": "code",
   "execution_count": 23,
   "id": "ordered-stevens",
   "metadata": {},
   "outputs": [
    {
     "name": "stdout",
     "output_type": "stream",
     "text": [
      "Enter your name:Jane\n"
     ]
    }
   ],
   "source": [
    "s = input('Enter your name:')"
   ]
  },
  {
   "cell_type": "code",
   "execution_count": 28,
   "id": "ruled-national",
   "metadata": {},
   "outputs": [
    {
     "name": "stdout",
     "output_type": "stream",
     "text": [
      "how do you feel today: Great\n"
     ]
    }
   ],
   "source": [
    "\n",
    "s = input('how do you feel today: ')"
   ]
  },
  {
   "cell_type": "code",
   "execution_count": 27,
   "id": "worth-combat",
   "metadata": {},
   "outputs": [
    {
     "name": "stdout",
     "output_type": "stream",
     "text": [
      "Jane is feeling Great!\n"
     ]
    }
   ],
   "source": [
    "name = 'Jane'\n",
    "feeling = 'Great'\n",
    "print (f'{name} is feeling {feeling}!')"
   ]
  },
  {
   "cell_type": "code",
   "execution_count": 29,
   "id": "ancient-kenya",
   "metadata": {},
   "outputs": [
    {
     "name": "stdout",
     "output_type": "stream",
     "text": [
      "Enter your name: Jane\n",
      "How are you feeling? Great\n",
      "Hey, Jane, good to know you are feeling Great.\n"
     ]
    }
   ],
   "source": [
    "name = input('Enter your name: ')\n",
    "feeling = input('How are you feeling? ')\n",
    "print(f'Hey, {name}, good to know you are feeling {feeling}.')"
   ]
  },
  {
   "cell_type": "code",
   "execution_count": null,
   "id": "alleged-milton",
   "metadata": {},
   "outputs": [],
   "source": [
    "name = input( 'Enter your name: ')\n",
    "if name == 'Jane'"
   ]
  }
 ],
 "metadata": {
  "kernelspec": {
   "display_name": "Python 3",
   "language": "python",
   "name": "python3"
  },
  "language_info": {
   "codemirror_mode": {
    "name": "ipython",
    "version": 3
   },
   "file_extension": ".py",
   "mimetype": "text/x-python",
   "name": "python",
   "nbconvert_exporter": "python",
   "pygments_lexer": "ipython3",
   "version": "3.8.6"
  }
 },
 "nbformat": 4,
 "nbformat_minor": 5
}
