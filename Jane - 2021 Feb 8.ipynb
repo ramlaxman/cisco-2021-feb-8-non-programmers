{
 "cells": [
  {
   "cell_type": "code",
   "execution_count": 1,
   "id": "digital-country",
   "metadata": {},
   "outputs": [
    {
     "name": "stdout",
     "output_type": "stream",
     "text": [
      "Hello world!!!!\n"
     ]
    }
   ],
   "source": [
    "print('Hello world!!!!') # shift+enter == run the code in the current cell"
   ]
  },
  {
   "cell_type": "code",
   "execution_count": 6,
   "id": "gorgeous-month",
   "metadata": {},
   "outputs": [
    {
     "name": "stdout",
     "output_type": "stream",
     "text": [
      "Hello + x\n"
     ]
    }
   ],
   "source": [
    "x = 'Jane'\n",
    "print ('Hello + x')\n"
   ]
  },
  {
   "cell_type": "code",
   "execution_count": 4,
   "id": "moved-accessory",
   "metadata": {},
   "outputs": [
    {
     "name": "stdout",
     "output_type": "stream",
     "text": [
      "Hello name\n"
     ]
    }
   ],
   "source": [
    "name = 'Jane'\n",
    "print ('Hello name')"
   ]
  },
  {
   "cell_type": "code",
   "execution_count": 8,
   "id": "governmental-princess",
   "metadata": {},
   "outputs": [
    {
     "name": "stdout",
     "output_type": "stream",
     "text": [
      "Hello + x\n"
     ]
    }
   ],
   "source": [
    "x = 'Jane'\n",
    "print ('Hello + x')"
   ]
  },
  {
   "cell_type": "code",
   "execution_count": 9,
   "id": "retired-porcelain",
   "metadata": {},
   "outputs": [
    {
     "name": "stdout",
     "output_type": "stream",
     "text": [
      "Hello, Jane\n"
     ]
    }
   ],
   "source": [
    "name = 'Jane'\n",
    "print('Hello, '+ name)"
   ]
  },
  {
   "cell_type": "code",
   "execution_count": 10,
   "id": "focused-space",
   "metadata": {},
   "outputs": [
    {
     "name": "stdout",
     "output_type": "stream",
     "text": [
      "Hello,Jane\n"
     ]
    }
   ],
   "source": [
    "name = 'Jane'\n",
    "print('Hello,'+ name)"
   ]
  },
  {
   "cell_type": "code",
   "execution_count": 11,
   "id": "overhead-prefix",
   "metadata": {},
   "outputs": [
    {
     "name": "stdout",
     "output_type": "stream",
     "text": [
      "Hello, Jane.\n"
     ]
    }
   ],
   "source": [
    "print('Hello, ' + name + '.')"
   ]
  },
  {
   "cell_type": "code",
   "execution_count": 13,
   "id": "hawaiian-essence",
   "metadata": {},
   "outputs": [
    {
     "name": "stdout",
     "output_type": "stream",
     "text": [
      "Hello, Jane, with a favorite number 81!\n"
     ]
    }
   ],
   "source": [
    "name = 'Jane'\n",
    "favorite_number = 81\n",
    "print(f'Hello, {name}, with a favorite number {favorite_number}!')"
   ]
  },
  {
   "cell_type": "code",
   "execution_count": 20,
   "id": "actual-landscape",
   "metadata": {},
   "outputs": [
    {
     "name": "stdout",
     "output_type": "stream",
     "text": [
      "Jane, born in year 1981 will turn 40!\n"
     ]
    }
   ],
   "source": [
    "name = 'Jane'\n",
    "birthyear = 1981\n",
    "age_this_year = 40\n",
    "print(f'{name}, born in year {birthyear} will turn {age_this_year}!')"
   ]
  },
  {
   "cell_type": "code",
   "execution_count": 21,
   "id": "surface-classification",
   "metadata": {},
   "outputs": [
    {
     "name": "stdout",
     "output_type": "stream",
     "text": [
      "Enter your name:Jane\n"
     ]
    }
   ],
   "source": [
    "s = input('Enter your name:')"
   ]
  },
  {
   "cell_type": "code",
   "execution_count": 22,
   "id": "informative-helicopter",
   "metadata": {},
   "outputs": [
    {
     "name": "stdout",
     "output_type": "stream",
     "text": [
      "how do you feel todayGreat\n"
     ]
    }
   ],
   "source": [
    "s = input('how do you feel today')"
   ]
  },
  {
   "cell_type": "markdown",
   "id": "certified-engineering",
   "metadata": {},
   "source": []
  },
  {
   "cell_type": "code",
   "execution_count": 23,
   "id": "handed-context",
   "metadata": {},
   "outputs": [
    {
     "name": "stdout",
     "output_type": "stream",
     "text": [
      "Enter your name:Jane\n"
     ]
    }
   ],
   "source": [
    "s = input('Enter your name:')"
   ]
  },
  {
   "cell_type": "code",
   "execution_count": 28,
   "id": "fossil-multimedia",
   "metadata": {},
   "outputs": [
    {
     "name": "stdout",
     "output_type": "stream",
     "text": [
      "how do you feel today: Great\n"
     ]
    }
   ],
   "source": [
    "\n",
    "s = input('how do you feel today: ')"
   ]
  },
  {
   "cell_type": "code",
   "execution_count": 27,
   "id": "fifth-destination",
   "metadata": {},
   "outputs": [
    {
     "name": "stdout",
     "output_type": "stream",
     "text": [
      "Jane is feeling Great!\n"
     ]
    }
   ],
   "source": [
    "name = 'Jane'\n",
    "feeling = 'Great'\n",
    "print (f'{name} is feeling {feeling}!')"
   ]
  },
  {
   "cell_type": "code",
   "execution_count": 29,
   "id": "trying-plant",
   "metadata": {},
   "outputs": [
    {
     "name": "stdout",
     "output_type": "stream",
     "text": [
      "Enter your name: Jane\n",
      "How are you feeling? Great\n",
      "Hey, Jane, good to know you are feeling Great.\n"
     ]
    }
   ],
   "source": [
    "name = input('Enter your name: ')\n",
    "feeling = input('How are you feeling? ')\n",
    "print(f'Hey, {name}, good to know you are feeling {feeling}.')"
   ]
  },
  {
   "cell_type": "code",
   "execution_count": 33,
   "id": "recovered-contractor",
   "metadata": {},
   "outputs": [
    {
     "name": "stdout",
     "output_type": "stream",
     "text": [
      "Enter your name: Jane\n",
      "Hello, boss!\n",
      "Nice to see you again!\n"
     ]
    }
   ],
   "source": [
    "name = input( 'Enter your name: ')\n",
    "if name == 'Jane': # if this comparison returns True, then we execute if's body/block\n",
    "    print( 'Hello, boss!')\n",
    "    print('Nice to see you again!')\n",
    "else:\n",
    "    print(f'Hello, {name}. Nice to meet you!')"
   ]
  },
  {
   "cell_type": "code",
   "execution_count": 36,
   "id": "accessible-escape",
   "metadata": {},
   "outputs": [
    {
     "name": "stdout",
     "output_type": "stream",
     "text": [
      "Where do you work: Apple\n",
      "Haha, Apple, Good luck!\n"
     ]
    }
   ],
   "source": [
    "company = input('Where do you work: ')\n",
    "if company == 'Cisco':\n",
    "    print( 'Welcome aboard!')\n",
    "else:\n",
    "    print(f'Haha, {company}, Good luck!')"
   ]
  },
  {
   "cell_type": "code",
   "execution_count": 37,
   "id": "rough-release",
   "metadata": {},
   "outputs": [
    {
     "name": "stdout",
     "output_type": "stream",
     "text": [
      "Enter your company: Cisco\n",
      "Wow! I must be your colleague!\n"
     ]
    }
   ],
   "source": [
    "company = input('Enter your company: ')\n",
    "if company == 'Cisco':\n",
    "    print('Wow! I must be your colleague!')\n",
    "else:\n",
    "    print('Well, I am sure you are sorta kinda happy where you work.')"
   ]
  },
  {
   "cell_type": "code",
   "execution_count": 40,
   "id": "working-europe",
   "metadata": {},
   "outputs": [
    {
     "name": "stdout",
     "output_type": "stream",
     "text": [
      "Enter your favorite color: blue\n",
      "I like blue, too\n"
     ]
    }
   ],
   "source": [
    "color = input('Enter your favorite color: ')\n",
    "if color == 'red':\n",
    "    print('Good to know you like red')\n",
    "elif color == 'blue':\n",
    "    print('I like blue, too')\n",
    "elif color == 'green':\n",
    "    print('It is a great color!')\n",
    "elif color == 'blue':\n",
    "    print('EVIL SECOND BLUE MATCH!')\n",
    "else:\n",
    "    print('I guess you like something that is neither red nor blue')"
   ]
  },
  {
   "cell_type": "raw",
   "id": "described-norman",
   "metadata": {},
   "source": [
    "\n"
   ]
  },
  {
   "cell_type": "markdown",
   "id": "initial-cooperative",
   "metadata": {},
   "source": []
  },
  {
   "cell_type": "code",
   "execution_count": 43,
   "id": "stunning-trademark",
   "metadata": {},
   "outputs": [
    {
     "name": "stdout",
     "output_type": "stream",
     "text": [
      "Where do you work: Apple\n",
      "Good luck!\n"
     ]
    }
   ],
   "source": [
    "company = input('Where do you work: ')\n",
    "if company == 'Cisco':\n",
    "    print('Congratulation to be my colleague')\n",
    "elif company == 'LSI':\n",
    "    print('I used to be your colleague')\n",
    "else:\n",
    "    print('Good luck!')"
   ]
  },
  {
   "cell_type": "code",
   "execution_count": 44,
   "id": "simplified-cliff",
   "metadata": {},
   "outputs": [
    {
     "name": "stdout",
     "output_type": "stream",
     "text": [
      "Where do you work: Apple\n",
      "I have never heard of that sad company, Apple.\n"
     ]
    }
   ],
   "source": [
    "company = input('Where do you work: ')\n",
    "if company == 'Cisco':\n",
    "    print('You work at Cisco, too? Wow! We are colleague!')\n",
    "elif company == 'Time Warner':\n",
    "    print('I used to work there... once upon a time...')\n",
    "else:\n",
    "    print(f'I have never heard of that sad company, {company}.')"
   ]
  },
  {
   "cell_type": "code",
   "execution_count": 45,
   "id": "random-hindu",
   "metadata": {},
   "outputs": [
    {
     "name": "stdout",
     "output_type": "stream",
     "text": [
      "Hi, I'm Jane\n"
     ]
    }
   ],
   "source": [
    "s = 'Hi, I\\'m Jane'\n",
    "print(s)"
   ]
  },
  {
   "cell_type": "code",
   "execution_count": 46,
   "id": "freelance-ireland",
   "metadata": {},
   "outputs": [
    {
     "data": {
      "text/plain": [
       "True"
      ]
     },
     "execution_count": 46,
     "metadata": {},
     "output_type": "execute_result"
    }
   ],
   "source": [
    "x = True\n",
    "y = True\n",
    "\n",
    "x and y"
   ]
  },
  {
   "cell_type": "code",
   "execution_count": 57,
   "id": "fatal-polymer",
   "metadata": {},
   "outputs": [
    {
     "name": "stdout",
     "output_type": "stream",
     "text": [
      "One of them is what you want\n"
     ]
    }
   ],
   "source": [
    "x = 999\n",
    "y = 20\n",
    "if (x == 999 or \n",
    "    y == 20):\n",
    "    print('One of them is what you want')"
   ]
  },
  {
   "cell_type": "code",
   "execution_count": 60,
   "id": "whole-journal",
   "metadata": {},
   "outputs": [
    {
     "name": "stdout",
     "output_type": "stream",
     "text": [
      "What is your name:Jane\n",
      "Where do you work: Cisco\n"
     ]
    }
   ],
   "source": [
    "name = input ('What is your name:')\n",
    "company = input('Where do you work: ')"
   ]
  },
  {
   "cell_type": "code",
   "execution_count": 66,
   "id": "civilian-billy",
   "metadata": {},
   "outputs": [
    {
     "name": "stdout",
     "output_type": "stream",
     "text": [
      "It must be you!\n"
     ]
    }
   ],
   "source": [
    "name = 'Jane'\n",
    "Company = 'Cisco'\n",
    "if (name == 'Jane' and Company == 'Cisco'):\n",
    "    print('It must be you!')\n",
    "if (name == 'Jane' and Company )\n"
   ]
  },
  {
   "cell_type": "code",
   "execution_count": 67,
   "id": "artistic-twenty",
   "metadata": {},
   "outputs": [],
   "source": [
    "if (name == 'Jane' and Company == False):\n",
    "    print('You work at rival company')"
   ]
  },
  {
   "cell_type": "code",
   "execution_count": 70,
   "id": "known-sheriff",
   "metadata": {},
   "outputs": [
    {
     "name": "stdout",
     "output_type": "stream",
     "text": [
      "Enter your name: asd\n",
      "Enter your company: asd\n",
      "Oh, you work at asd? Oh, well.\n"
     ]
    }
   ],
   "source": [
    "name = input('Enter your name: ')\n",
    "company = input('Enter your company: ')\n",
    "if name == 'Jane' and company == 'Cisco':\n",
    "    print('Hey, you must be me!')\n",
    "\n",
    "elif name == 'Jane': #implicitly, company is not 'Cisco'\n",
    "    print('You have my name, but work for a competitor!')\n",
    "    \n",
    "elif company == 'Cisco': #implicitly, name is not 'Jane'\n",
    "    print('You are my colleague, but have another name')\n",
    "\n",
    "else: \n",
    "    print(f'Oh, you work at {company}? Oh, well.')"
   ]
  },
  {
   "cell_type": "code",
   "execution_count": 71,
   "id": "bridal-fitness",
   "metadata": {},
   "outputs": [
    {
     "data": {
      "text/plain": [
       "True"
      ]
     },
     "execution_count": 71,
     "metadata": {},
     "output_type": "execute_result"
    }
   ],
   "source": [
    "5 < 10"
   ]
  },
  {
   "cell_type": "code",
   "execution_count": 72,
   "id": "compressed-bacon",
   "metadata": {},
   "outputs": [
    {
     "data": {
      "text/plain": [
       "True"
      ]
     },
     "execution_count": 72,
     "metadata": {},
     "output_type": "execute_result"
    }
   ],
   "source": [
    "10 > 5"
   ]
  },
  {
   "cell_type": "code",
   "execution_count": 73,
   "id": "instrumental-relaxation",
   "metadata": {},
   "outputs": [
    {
     "data": {
      "text/plain": [
       "False"
      ]
     },
     "execution_count": 73,
     "metadata": {},
     "output_type": "execute_result"
    }
   ],
   "source": [
    "5 > 10"
   ]
  },
  {
   "cell_type": "code",
   "execution_count": 82,
   "id": "cellular-corporation",
   "metadata": {},
   "outputs": [
    {
     "name": "stdout",
     "output_type": "stream",
     "text": [
      "Enter your first word: seond\n",
      "Enter your second word: one\n",
      "{first} comes before {second} alphabetically\n"
     ]
    }
   ],
   "source": [
    "first = input('Enter first word: ')\n",
    "second = input('Enter second word: ')\n",
    "if first == second:\n",
    "    print('they are the same word')\n",
    "elif first > second:\n",
    "    print('{first} comes before {second} alphabetically')\n",
    "else:\n",
    "    print('they are not the same word')\n",
    "              "
   ]
  },
  {
   "cell_type": "code",
   "execution_count": 86,
   "id": "latter-legislature",
   "metadata": {},
   "outputs": [
    {
     "name": "stdout",
     "output_type": "stream",
     "text": [
      "Enter first word: Persimmon\n",
      "Enter second word: Persimmon\n",
      "Persimmon and Persimmon are the same!\n"
     ]
    }
   ],
   "source": [
    "first = input('Enter first word: ')\n",
    "second = input('Enter second word: ')\n",
    "if first < second:\n",
    "    print(f'{first} comes before {second} in the dictionary')\n",
    "elif first > second:\n",
    "    print(f'{second} comes before {first} in the dictionary')\n",
    "else:\n",
    "    print(f'{first} and {second} are the same!')"
   ]
  },
  {
   "cell_type": "markdown",
   "id": "ranking-exercise",
   "metadata": {},
   "source": []
  },
  {
   "cell_type": "code",
   "execution_count": 87,
   "id": "emerging-genius",
   "metadata": {},
   "outputs": [
    {
     "data": {
      "text/plain": [
       "5"
      ]
     },
     "execution_count": 87,
     "metadata": {},
     "output_type": "execute_result"
    }
   ],
   "source": [
    "2 + 3"
   ]
  },
  {
   "cell_type": "code",
   "execution_count": 88,
   "id": "prerequisite-sleep",
   "metadata": {},
   "outputs": [
    {
     "data": {
      "text/plain": [
       "'abcdefgh'"
      ]
     },
     "execution_count": 88,
     "metadata": {},
     "output_type": "execute_result"
    }
   ],
   "source": [
    "s = 'abcd'\n",
    "t = 'efgh'\n",
    "s + t "
   ]
  },
  {
   "cell_type": "code",
   "execution_count": 89,
   "id": "herbal-module",
   "metadata": {},
   "outputs": [
    {
     "data": {
      "text/plain": [
       "str"
      ]
     },
     "execution_count": 89,
     "metadata": {},
     "output_type": "execute_result"
    }
   ],
   "source": [
    "type(s)"
   ]
  },
  {
   "cell_type": "code",
   "execution_count": 103,
   "id": "expensive-primary",
   "metadata": {},
   "outputs": [
    {
     "name": "stdout",
     "output_type": "stream",
     "text": [
      "random number is 88\n",
      "Enter guess number: 88\n",
      "you got it!\n"
     ]
    }
   ],
   "source": [
    "import random\n",
    "number = random.randint(0,100)\n",
    "print(f'random number is {number}')\n",
    "guess = input('Enter guess number: ')\n",
    "guess = int(guess)\n",
    "\n",
    "if guess < number:\n",
    "    print('too low!')\n",
    "\n",
    "elif guess > number:\n",
    "    print('too high!')\n",
    "    \n",
    "else:\n",
    "    print('you got it!')\n"
   ]
  },
  {
   "cell_type": "code",
   "execution_count": 105,
   "id": "aging-intranet",
   "metadata": {},
   "outputs": [
    {
     "name": "stdout",
     "output_type": "stream",
     "text": [
      "number = 18\n",
      "Enter a guess: 25\n",
      "Too high!\n"
     ]
    }
   ],
   "source": [
    "import random\n",
    "number = random.randint(0,100)\n",
    "print(f'number = {number}')\n",
    "guess = input('Enter a guess: ')\n",
    "guess = int(guess)\n",
    "if guess == number:\n",
    "    print('You got it!')\n",
    "elif guess < number:\n",
    "    print('Too low!')\n",
    "else:\n",
    "    print('Too high!')"
   ]
  },
  {
   "cell_type": "code",
   "execution_count": 117,
   "id": "aware-choice",
   "metadata": {},
   "outputs": [
    {
     "name": "stdout",
     "output_type": "stream",
     "text": [
      "Enter the first number: 18\n",
      "Enter the second number: 2\n",
      "Enter an operator: -\n"
     ]
    },
    {
     "ename": "NameError",
     "evalue": "name 'difference' is not defined",
     "output_type": "error",
     "traceback": [
      "\u001b[0;31m---------------------------------------------------------------------------\u001b[0m",
      "\u001b[0;31mNameError\u001b[0m                                 Traceback (most recent call last)",
      "\u001b[0;32m<ipython-input-117-436cc06b0f32>\u001b[0m in \u001b[0;36m<module>\u001b[0;34m\u001b[0m\n\u001b[1;32m     10\u001b[0m \u001b[0;32melif\u001b[0m \u001b[0moperator\u001b[0m \u001b[0;34m==\u001b[0m \u001b[0;34m'-'\u001b[0m\u001b[0;34m:\u001b[0m\u001b[0;34m\u001b[0m\u001b[0;34m\u001b[0m\u001b[0m\n\u001b[1;32m     11\u001b[0m     \u001b[0mdfference\u001b[0m \u001b[0;34m=\u001b[0m \u001b[0mfirst\u001b[0m\u001b[0;34m-\u001b[0m\u001b[0msecond\u001b[0m\u001b[0;34m\u001b[0m\u001b[0;34m\u001b[0m\u001b[0m\n\u001b[0;32m---> 12\u001b[0;31m     \u001b[0mprint\u001b[0m\u001b[0;34m(\u001b[0m\u001b[0;34mf'{first} - {second} = {difference} '\u001b[0m\u001b[0;34m)\u001b[0m\u001b[0;34m\u001b[0m\u001b[0;34m\u001b[0m\u001b[0m\n\u001b[0m\u001b[1;32m     13\u001b[0m \u001b[0;32melse\u001b[0m\u001b[0;34m:\u001b[0m\u001b[0;34m\u001b[0m\u001b[0;34m\u001b[0m\u001b[0m\n\u001b[1;32m     14\u001b[0m     \u001b[0mprint\u001b[0m\u001b[0;34m(\u001b[0m\u001b[0;34mf'The operator {operator} is not supported.'\u001b[0m\u001b[0;34m)\u001b[0m\u001b[0;34m\u001b[0m\u001b[0;34m\u001b[0m\u001b[0m\n",
      "\u001b[0;31mNameError\u001b[0m: name 'difference' is not defined"
     ]
    }
   ],
   "source": [
    "first = input('Enter the first number: ')\n",
    "second = input('Enter the second number: ')\n",
    "operator = input('Enter an operator: ')\n",
    "first = int(first)\n",
    "second = int(second)\n",
    "\n",
    "if operator == '+':\n",
    "    total = first+second\n",
    "    print(f'{first} + {second} = {total} ')\n",
    "elif operator == '-':\n",
    "    dfference = first-second\n",
    "    print(f'{first} - {second} = {difference} ')\n",
    "else:\n",
    "    print(f'The operator {operator} is not supported.')"
   ]
  },
  {
   "cell_type": "code",
   "execution_count": null,
   "id": "other-canada",
   "metadata": {},
   "outputs": [],
   "source": []
  },
  {
   "cell_type": "code",
   "execution_count": null,
   "id": "international-savage",
   "metadata": {},
   "outputs": [],
   "source": []
  }
 ],
 "metadata": {
  "kernelspec": {
   "display_name": "Python 3",
   "language": "python",
   "name": "python3"
  },
  "language_info": {
   "codemirror_mode": {
    "name": "ipython",
    "version": 3
   },
   "file_extension": ".py",
   "mimetype": "text/x-python",
   "name": "python",
   "nbconvert_exporter": "python",
   "pygments_lexer": "ipython3",
   "version": "3.8.6"
  }
 },
 "nbformat": 4,
 "nbformat_minor": 5
}
