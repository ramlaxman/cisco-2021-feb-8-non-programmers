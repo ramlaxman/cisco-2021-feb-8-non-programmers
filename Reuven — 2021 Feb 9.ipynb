{
 "cells": [
  {
   "cell_type": "markdown",
   "id": "young-particle",
   "metadata": {},
   "source": [
    "# Agenda\n",
    "\n",
    "1. `friendly_traceback`\n",
    "2. Review yesterday's content\n",
    "3. Any questions?\n",
    "4. Strings\n",
    "   - Searching using `in`\n",
    "   - Slices\n",
    "   - Immutable strings\n",
    "   - Methods\n",
    "   - Loops\n",
    "5. Lists\n",
    "   - Creating lists\n",
    "   - Using lists\n",
    "   - Mutable lists (vs. immutable strings)\n",
    "   - Lists and strings, and how they're similar (and different)"
   ]
  },
  {
   "cell_type": "code",
   "execution_count": 1,
   "id": "liked-audience",
   "metadata": {},
   "outputs": [
    {
     "ename": "NameError",
     "evalue": "name 'z' is not defined",
     "output_type": "error",
     "traceback": [
      "\u001b[0;31m---------------------------------------------------------------------------\u001b[0m",
      "\u001b[0;31mNameError\u001b[0m                                 Traceback (most recent call last)",
      "\u001b[0;32m<ipython-input-1-2ff3a7bef72b>\u001b[0m in \u001b[0;36m<module>\u001b[0;34m\u001b[0m\n\u001b[1;32m      2\u001b[0m \u001b[0my\u001b[0m \u001b[0;34m=\u001b[0m \u001b[0;36m200\u001b[0m\u001b[0;34m\u001b[0m\u001b[0;34m\u001b[0m\u001b[0m\n\u001b[1;32m      3\u001b[0m \u001b[0;34m\u001b[0m\u001b[0m\n\u001b[0;32m----> 4\u001b[0;31m \u001b[0mx\u001b[0m \u001b[0;34m+\u001b[0m \u001b[0mz\u001b[0m\u001b[0;34m\u001b[0m\u001b[0;34m\u001b[0m\u001b[0m\n\u001b[0m",
      "\u001b[0;31mNameError\u001b[0m: name 'z' is not defined"
     ]
    }
   ],
   "source": [
    "x = 100\n",
    "y = 200\n",
    "\n",
    "x + z"
   ]
  },
  {
   "cell_type": "code",
   "execution_count": 2,
   "id": "modified-wagner",
   "metadata": {},
   "outputs": [
    {
     "name": "stdout",
     "output_type": "stream",
     "text": [
      "Friendly-traceback installed.\n"
     ]
    }
   ],
   "source": [
    "from friendly_traceback.ipython import *"
   ]
  },
  {
   "cell_type": "code",
   "execution_count": 3,
   "id": "gorgeous-brake",
   "metadata": {},
   "outputs": [
    {
     "name": "stderr",
     "output_type": "stream",
     "text": [
      "\n",
      "Traceback (most recent call last):\n",
      "  File \"<ipython-input-3>\", line 1, in <module>\n",
      "    x + z\n",
      "NameError: name 'z' is not defined\n"
     ]
    }
   ],
   "source": [
    "x + z"
   ]
  },
  {
   "cell_type": "code",
   "execution_count": 4,
   "id": "committed-correction",
   "metadata": {},
   "outputs": [
    {
     "name": "stderr",
     "output_type": "stream",
     "text": [
      "\n",
      "Traceback (most recent call last):\n",
      "  File \"<ipython-input-3>\", line 1, in <module>\n",
      "    x + z\n",
      "NameError: name 'z' is not defined\n",
      "\n",
      "    A `NameError` exception indicates that a variable or\n",
      "    function name is not known to Python.\n",
      "    Most often, this is because there is a spelling mistake.\n",
      "    However, sometimes it is because the name is used\n",
      "    before being defined or given a value.\n",
      "    \n",
      "        In your program, `z` is an unknown name.\n",
      "        I have no additional information for you.\n",
      "        \n",
      "    Exception raised on line 1 of file <ipython-input-3>.\n",
      "    \n",
      "    -->1: x + z\n",
      "              ^\n",
      "\n",
      "            x: 100\n",
      "        \n"
     ]
    }
   ],
   "source": [
    "explain()"
   ]
  },
  {
   "cell_type": "code",
   "execution_count": 6,
   "id": "coated-facility",
   "metadata": {},
   "outputs": [
    {
     "name": "stdout",
     "output_type": "stream",
     "text": [
      "Equal!\n"
     ]
    }
   ],
   "source": [
    "x = 100\n",
    "\n",
    "if x == 100:\n",
    "    print('Equal!')"
   ]
  },
  {
   "cell_type": "code",
   "execution_count": 7,
   "id": "behind-heater",
   "metadata": {},
   "outputs": [
    {
     "name": "stderr",
     "output_type": "stream",
     "text": [
      "\n",
      "Traceback (most recent call last):\n",
      "  File \"<ipython-input-7>\", line 3\n",
      "    if x = 100:\n",
      "         ^\n",
      "SyntaxError: invalid syntax\n",
      "\n",
      "        Perhaps you needed `==` or `:=` instead of `=`.\n",
      "        \n"
     ]
    }
   ],
   "source": [
    "x = 100\n",
    "\n",
    "if x = 100:\n",
    "    print('Equal!')"
   ]
  },
  {
   "cell_type": "markdown",
   "id": "classical-piece",
   "metadata": {},
   "source": [
    "# Recap from Monday\n",
    "\n",
    "- To assign to a variable, we use `=`\n",
    "    - If the variable already existed, its value is replaced\n",
    "    - If the variable didn't previously exist, it is created\n",
    "- We have different types of values\n",
    "    - `bool` (`True` and `False`)\n",
    "    - `int` (integers, whole numbers)\n",
    "    - `float` (numbers with a decimal point)\n",
    "    - `str` (strings, text)\n",
    "- Conditions allow us to make deciisons in our code\n",
    "    - `if` looks to its right, and asks: Does that give me a `True` value?\n",
    "    - If it's `True`, then we execute the block under the `if`\n",
    "    - If not, then we execute the `else` block\n",
    "    - (You can have `elif` tests and blocks between those, too.)\n",
    "- Comparison operators, which return `True` or `False` (thus useful in `if`)\n",
    "    - `==`\n",
    "    - `!=`\n",
    "    - `<`, `<=`\n",
    "    - `>`, `>=`\n",
    "- Boolean logical operators\n",
    "    - `and`\n",
    "    - `or`\n",
    "    - `not`\n",
    "- Strings\n",
    "    - Retrieve from a string using `[]`\n",
    "    - Indexes start at 0, and go up to `len(s) - 1` for a string `s`\n",
    "    - `len` returns the length of the string\n",
    "- Functions for input and output\n",
    "    - `print` for printing on the screen\n",
    "    - `input` for getting input from the user as a string\n",
    "- Conversion\n",
    "    - Use the type you *want* as a function\n",
    "    - `int('5')` returns the integer 5\n",
    "    - `str(5)` returns the string `'5'`"
   ]
  },
  {
   "cell_type": "markdown",
   "id": "heated-musician",
   "metadata": {},
   "source": [
    "# Exercise: Birthday calculator\n",
    "\n",
    "1. Ask the user to enter their birth year.\n",
    "2. Ask the user to tell us which birthday we should calculate the year for.\n",
    "3. If the birthday is > 100, then add a hearty congratulations.\n",
    "4. If the birthday is < 0, then scold them a bit for being sarcastic.\n",
    "5. Tell them in what year they'll celebrate that birthday.\n",
    "\n",
    "Example:\n",
    "\n",
    "    Enter birthyear: 1970\n",
    "    Enter birthday: 110\n",
    "       Wow, congratulations on reaching 110 years!\n",
    "       That will be in 2080\n",
    "       \n",
    "Hints:\n",
    "- We get strings back from `input`, so you'll need to use `int` to turn inputs into numbers.\n",
    "- You'll need to use `if` to check the birthdays, if they're very high or very low."
   ]
  },
  {
   "cell_type": "code",
   "execution_count": 8,
   "id": "vietnamese-queens",
   "metadata": {},
   "outputs": [
    {
     "data": {
      "text/plain": [
       "4"
      ]
     },
     "execution_count": 8,
     "metadata": {},
     "output_type": "execute_result"
    }
   ],
   "source": [
    "2+2"
   ]
  },
  {
   "cell_type": "markdown",
   "id": "awful-bubble",
   "metadata": {},
   "source": [
    "# Strategy and steps\n",
    "\n",
    "1. Ask the user to enter their birth year (`input`), giving us a string, assigning to `birthyear`.\n",
    "2. Ask the user to enter what birthday we should find, into `birthday`.\n",
    "3. Convert them both into integers using `int`.  \n",
    "\n",
    "```python\n",
    "x = int(x)  # this means: turn x into an int, and then assign back to x\n",
    "```\n",
    "\n",
    "4. Check: Is the year < 0? Print something\n",
    "5. Check: Is the year > 100? Print something\n",
    "6. Print a report / output, showing in what year they'll have that age."
   ]
  },
  {
   "cell_type": "code",
   "execution_count": 9,
   "id": "studied-father",
   "metadata": {},
   "outputs": [
    {
     "name": "stdout",
     "output_type": "stream",
     "text": [
      "Enter birthyear: 1970\n",
      "Enter birthday: 100\n",
      "You were born in 1970, so your 100 birthday will be in 1970100!\n"
     ]
    }
   ],
   "source": [
    "birthyear = input('Enter birthyear: ')\n",
    "birthday = input('Enter birthday: ')\n",
    "\n",
    "print(f'You were born in {birthyear}, so your {birthday} birthday will be in {birthyear+birthday}!')"
   ]
  },
  {
   "cell_type": "code",
   "execution_count": 10,
   "id": "thousand-reserve",
   "metadata": {},
   "outputs": [
    {
     "data": {
      "text/plain": [
       "1970"
      ]
     },
     "execution_count": 10,
     "metadata": {},
     "output_type": "execute_result"
    }
   ],
   "source": [
    "# FUNCTION(DATA)\n",
    "\n",
    "# to convert a string into an integer\n",
    "# function: int\n",
    "# data: the variable containing the string\n",
    "\n",
    "int(birthyear)  # this returns an integer"
   ]
  },
  {
   "cell_type": "code",
   "execution_count": 11,
   "id": "widespread-senegal",
   "metadata": {},
   "outputs": [
    {
     "name": "stdout",
     "output_type": "stream",
     "text": [
      "Enter birthyear: 1970\n",
      "Enter birthday: 100\n",
      "You were born in 1970, so your 100 birthday will be in 2070!\n"
     ]
    }
   ],
   "source": [
    "birthyear = input('Enter birthyear: ')\n",
    "birthday = input('Enter birthday: ')\n",
    "\n",
    "birthyear = int(birthyear)  # convert birthyear into an int\n",
    "birthday = int(birthday)  # convert birthday into an int\n",
    "\n",
    "print(f'You were born in {birthyear}, so your {birthday} birthday will be in {birthyear+birthday}!')"
   ]
  },
  {
   "cell_type": "code",
   "execution_count": 13,
   "id": "partial-oracle",
   "metadata": {},
   "outputs": [
    {
     "name": "stdout",
     "output_type": "stream",
     "text": [
      "Enter birthyear: 1970\n",
      "Enter birthday: 200\n",
      "Congrats on reaching your 200 birthday!\n",
      "You were born in 1970, so your 200 birthday will be in 2170!\n"
     ]
    }
   ],
   "source": [
    "birthyear = input('Enter birthyear: ')\n",
    "birthday = input('Enter birthday: ')\n",
    "\n",
    "birthyear = int(birthyear)  # convert birthyear into an int\n",
    "birthday = int(birthday)  # convert birthday into an int\n",
    "\n",
    "if birthday < 0:\n",
    "    print(f'{birthday} is not a legit birthday!')\n",
    "    \n",
    "if birthday > 100:\n",
    "    print(f'Congrats on reaching your {birthday} birthday!')\n",
    "\n",
    "print(f'You were born in {birthyear}, so your {birthday} birthday will be in {birthyear+birthday}!')"
   ]
  },
  {
   "cell_type": "code",
   "execution_count": null,
   "id": "finnish-nerve",
   "metadata": {},
   "outputs": [],
   "source": [
    "birthyear = input('Enter birthyear: ')\n",
    "birthday = input('Enter birthday: ')\n",
    "\n",
    "birthyear = int(birthyear)  # convert birthyear into an int\n",
    "birthday = int(birthday)  # convert birthday into an int\n",
    "\n",
    "if birthday < 0:\n",
    "    print(f'{birthday} is not a legit birthday!')\n",
    "    \n",
    "else:\n",
    "    if birthday > 100:\n",
    "        print(f'Congrats on reaching your {birthday} birthday!')\n",
    "\n",
    "    print(f'You were born in {birthyear}, so your {birthday} birthday will be in {birthyear+birthday}!')"
   ]
  },
  {
   "cell_type": "code",
   "execution_count": 14,
   "id": "complete-southwest",
   "metadata": {},
   "outputs": [
    {
     "data": {
      "text/plain": [
       "26"
      ]
     },
     "execution_count": 14,
     "metadata": {},
     "output_type": "execute_result"
    }
   ],
   "source": [
    "s = 'abcdefghijklmnopqrstuvwxyz'\n",
    "len(s)"
   ]
  },
  {
   "cell_type": "code",
   "execution_count": 15,
   "id": "compliant-attitude",
   "metadata": {},
   "outputs": [
    {
     "data": {
      "text/plain": [
       "'c'"
      ]
     },
     "execution_count": 15,
     "metadata": {},
     "output_type": "execute_result"
    }
   ],
   "source": [
    "# I can retrieve characters with [] and an index, starting with 0\n",
    "\n",
    "s[2]"
   ]
  },
  {
   "cell_type": "code",
   "execution_count": 16,
   "id": "patent-homework",
   "metadata": {},
   "outputs": [
    {
     "data": {
      "text/plain": [
       "'k'"
      ]
     },
     "execution_count": 16,
     "metadata": {},
     "output_type": "execute_result"
    }
   ],
   "source": [
    "s[10]  # k is the 11th letter, but since we start counting with 0, s[10] is 'k'"
   ]
  },
  {
   "cell_type": "code",
   "execution_count": 17,
   "id": "composed-scene",
   "metadata": {},
   "outputs": [
    {
     "data": {
      "text/plain": [
       "'abcdefghijklmnopqrstuvwxyz'"
      ]
     },
     "execution_count": 17,
     "metadata": {},
     "output_type": "execute_result"
    }
   ],
   "source": [
    "s"
   ]
  },
  {
   "cell_type": "code",
   "execution_count": 18,
   "id": "opened-mason",
   "metadata": {},
   "outputs": [
    {
     "name": "stderr",
     "output_type": "stream",
     "text": [
      "\n",
      "Traceback (most recent call last):\n",
      "  File \"<ipython-input-18>\", line 1, in <module>\n",
      "    s[0] = '!'\n",
      "TypeError: 'str' object does not support item assignment\n"
     ]
    }
   ],
   "source": [
    "s[0] = '!'"
   ]
  },
  {
   "cell_type": "markdown",
   "id": "ecological-blocking",
   "metadata": {},
   "source": [
    "# Strings are immutable\n",
    "\n",
    "- You can never change a string once it's created.\n",
    "- You *CAN* assign a new string to a variable.\n",
    "- You *CAN* create a new string based on an old one"
   ]
  },
  {
   "cell_type": "code",
   "execution_count": 19,
   "id": "consistent-looking",
   "metadata": {},
   "outputs": [],
   "source": [
    "s = 'abcde'\n",
    "s = 'fghij'"
   ]
  },
  {
   "cell_type": "code",
   "execution_count": 20,
   "id": "liquid-papua",
   "metadata": {},
   "outputs": [
    {
     "data": {
      "text/plain": [
       "True"
      ]
     },
     "execution_count": 20,
     "metadata": {},
     "output_type": "execute_result"
    }
   ],
   "source": [
    "# We can search in strings using \"in\"\n",
    "\n",
    "s = 'abcdefghijklmnopqrstuvwxyz'\n",
    "'j' in s  # returns True or False"
   ]
  },
  {
   "cell_type": "code",
   "execution_count": 22,
   "id": "bronze-aaron",
   "metadata": {},
   "outputs": [
    {
     "data": {
      "text/plain": [
       "True"
      ]
     },
     "execution_count": 22,
     "metadata": {},
     "output_type": "execute_result"
    }
   ],
   "source": [
    "'f' in s"
   ]
  },
  {
   "cell_type": "code",
   "execution_count": 23,
   "id": "animal-shade",
   "metadata": {},
   "outputs": [
    {
     "data": {
      "text/plain": [
       "True"
      ]
     },
     "execution_count": 23,
     "metadata": {},
     "output_type": "execute_result"
    }
   ],
   "source": [
    "'abcd' in s"
   ]
  },
  {
   "cell_type": "code",
   "execution_count": 25,
   "id": "compact-torture",
   "metadata": {},
   "outputs": [
    {
     "data": {
      "text/plain": [
       "False"
      ]
     },
     "execution_count": 25,
     "metadata": {},
     "output_type": "execute_result"
    }
   ],
   "source": [
    "'abd' in s"
   ]
  },
  {
   "cell_type": "code",
   "execution_count": 26,
   "id": "generous-nurse",
   "metadata": {},
   "outputs": [
    {
     "data": {
      "text/plain": [
       "'abcdefghijklmnopqrstuvwxyz'"
      ]
     },
     "execution_count": 26,
     "metadata": {},
     "output_type": "execute_result"
    }
   ],
   "source": [
    "# slices -- Python's version of \"substrings\"\n",
    "\n",
    "s"
   ]
  },
  {
   "cell_type": "code",
   "execution_count": 27,
   "id": "fresh-mortgage",
   "metadata": {},
   "outputs": [
    {
     "data": {
      "text/plain": [
       "'f'"
      ]
     },
     "execution_count": 27,
     "metadata": {},
     "output_type": "execute_result"
    }
   ],
   "source": [
    "s[5] # retrieve the item at index 5"
   ]
  },
  {
   "cell_type": "code",
   "execution_count": 28,
   "id": "beginning-murder",
   "metadata": {},
   "outputs": [
    {
     "data": {
      "text/plain": [
       "'fghij'"
      ]
     },
     "execution_count": 28,
     "metadata": {},
     "output_type": "execute_result"
    }
   ],
   "source": [
    "s[5:10]  # retrieve the \"slice\" starting at index 5, until (not including) index 10"
   ]
  },
  {
   "cell_type": "code",
   "execution_count": 29,
   "id": "vanilla-stomach",
   "metadata": {},
   "outputs": [
    {
     "data": {
      "text/plain": [
       "'cdefghijklmnopqrst'"
      ]
     },
     "execution_count": 29,
     "metadata": {},
     "output_type": "execute_result"
    }
   ],
   "source": [
    "s[2:20]"
   ]
  },
  {
   "cell_type": "code",
   "execution_count": 30,
   "id": "maritime-karen",
   "metadata": {},
   "outputs": [
    {
     "data": {
      "text/plain": [
       "'abcdefghijklmno'"
      ]
     },
     "execution_count": 30,
     "metadata": {},
     "output_type": "execute_result"
    }
   ],
   "source": [
    "s[:15]  # from the start of s until (not including) index 15"
   ]
  },
  {
   "cell_type": "code",
   "execution_count": 31,
   "id": "supreme-simulation",
   "metadata": {},
   "outputs": [
    {
     "data": {
      "text/plain": [
       "'pqrstuvwxyz'"
      ]
     },
     "execution_count": 31,
     "metadata": {},
     "output_type": "execute_result"
    }
   ],
   "source": [
    "s[15:]  # from index 15 through the end"
   ]
  },
  {
   "cell_type": "code",
   "execution_count": 32,
   "id": "hired-rings",
   "metadata": {},
   "outputs": [
    {
     "data": {
      "text/plain": [
       "'fklmnoc'"
      ]
     },
     "execution_count": 32,
     "metadata": {},
     "output_type": "execute_result"
    }
   ],
   "source": [
    "s[5]+ s[10:15] + s[2]"
   ]
  },
  {
   "cell_type": "code",
   "execution_count": 33,
   "id": "hundred-reason",
   "metadata": {},
   "outputs": [
    {
     "name": "stdout",
     "output_type": "stream",
     "text": [
      "Yes!\n"
     ]
    }
   ],
   "source": [
    "if 'a' in 'abcd':\n",
    "    print('Yes!')"
   ]
  },
  {
   "cell_type": "markdown",
   "id": "indian-chart",
   "metadata": {},
   "source": [
    "# Exercise: Pig Latin translator\n",
    "\n",
    "To translate from English into Pig Latin:\n",
    "\n",
    "1. Check the first letter of the English word.\n",
    "2. If the first letter is a vowel (a, e, i, o, or u) then add `way` to the end of the word.\n",
    "2. In other cases, move the first letter to the end, and then add `ay`.\n",
    "\n",
    "Some examples:\n",
    "- `computer` -> `omputercay`\n",
    "- `apple` -> `appleway`\n",
    "- `elephant` -> `elephantway`\n",
    "- `octopus` -> `octopusway`\n",
    "- `table` -> `abletay`\n",
    "- `papaya` -> `apayapay`\n",
    "\n",
    "1. Ask the user to enter an English word (all lowercase, no punctuation, no spaces)\n",
    "2. Check the first letter.  Is it a vowel?\n",
    "    - One way: use `or` in an `if` statement\n",
    "    - Another way... consider `in`\n",
    "3. Use `if` to decide what rule applies\n",
    "4. Adding to a string is as easy as `+` or an f-string\n",
    "5. Moving the first letter to the end means using slices and creating a new string\n",
    "\n"
   ]
  },
  {
   "cell_type": "code",
   "execution_count": 34,
   "id": "going-andorra",
   "metadata": {},
   "outputs": [
    {
     "name": "stdout",
     "output_type": "stream",
     "text": [
      "It starts with a vowel!\n"
     ]
    }
   ],
   "source": [
    "s = 'abcde'\n",
    "\n",
    "if s[0] == 'a'  or s[0] == 'e':\n",
    "    print('It starts with a vowel!')"
   ]
  },
  {
   "cell_type": "code",
   "execution_count": 35,
   "id": "jewish-wings",
   "metadata": {},
   "outputs": [
    {
     "name": "stdout",
     "output_type": "stream",
     "text": [
      "It starts with a vowel!\n"
     ]
    }
   ],
   "source": [
    "if s[0] in 'aeiou':  # standard Python practice!\n",
    "    print('It starts with a vowel!')\n",
    "    "
   ]
  },
  {
   "cell_type": "code",
   "execution_count": 37,
   "id": "comparable-polymer",
   "metadata": {},
   "outputs": [
    {
     "name": "stdout",
     "output_type": "stream",
     "text": [
      "Enter a word: computer\n"
     ]
    }
   ],
   "source": [
    "word = input('Enter a word: ')\n",
    "\n",
    "if word[0] == 'a' or word[0] == 'e' or word[0] == 'i' or word[0] == 'o' or word[0] == 'u':\n",
    "    print(word + 'way')"
   ]
  },
  {
   "cell_type": "code",
   "execution_count": null,
   "id": "announced-florida",
   "metadata": {},
   "outputs": [],
   "source": [
    "# Never d\n",
    "if word[0] == 'a' or 'e' or 'i' or 'o' or 'u':\n",
    "    print(word + 'way')"
   ]
  }
 ],
 "metadata": {
  "kernelspec": {
   "display_name": "Python 3",
   "language": "python",
   "name": "python3"
  },
  "language_info": {
   "codemirror_mode": {
    "name": "ipython",
    "version": 3
   },
   "file_extension": ".py",
   "mimetype": "text/x-python",
   "name": "python",
   "nbconvert_exporter": "python",
   "pygments_lexer": "ipython3",
   "version": "3.8.6"
  }
 },
 "nbformat": 4,
 "nbformat_minor": 5
}
