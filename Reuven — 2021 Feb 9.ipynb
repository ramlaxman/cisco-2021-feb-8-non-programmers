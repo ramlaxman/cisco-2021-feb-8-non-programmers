{
 "cells": [
  {
   "cell_type": "markdown",
   "id": "charming-pursuit",
   "metadata": {},
   "source": [
    "# Agenda\n",
    "\n",
    "1. `friendly_traceback`\n",
    "2. Review yesterday's content\n",
    "3. Any questions?\n",
    "4. Strings\n",
    "   - Searching using `in`\n",
    "   - Slices\n",
    "   - Immutable strings\n",
    "   - Methods\n",
    "   - Loops\n",
    "5. Lists\n",
    "   - Creating lists\n",
    "   - Using lists\n",
    "   - Mutable lists (vs. immutable strings)\n",
    "   - Lists and strings, and how they're similar (and different)"
   ]
  },
  {
   "cell_type": "code",
   "execution_count": 1,
   "id": "synthetic-jersey",
   "metadata": {},
   "outputs": [
    {
     "ename": "NameError",
     "evalue": "name 'z' is not defined",
     "output_type": "error",
     "traceback": [
      "\u001b[0;31m---------------------------------------------------------------------------\u001b[0m",
      "\u001b[0;31mNameError\u001b[0m                                 Traceback (most recent call last)",
      "\u001b[0;32m<ipython-input-1-2ff3a7bef72b>\u001b[0m in \u001b[0;36m<module>\u001b[0;34m\u001b[0m\n\u001b[1;32m      2\u001b[0m \u001b[0my\u001b[0m \u001b[0;34m=\u001b[0m \u001b[0;36m200\u001b[0m\u001b[0;34m\u001b[0m\u001b[0;34m\u001b[0m\u001b[0m\n\u001b[1;32m      3\u001b[0m \u001b[0;34m\u001b[0m\u001b[0m\n\u001b[0;32m----> 4\u001b[0;31m \u001b[0mx\u001b[0m \u001b[0;34m+\u001b[0m \u001b[0mz\u001b[0m\u001b[0;34m\u001b[0m\u001b[0;34m\u001b[0m\u001b[0m\n\u001b[0m",
      "\u001b[0;31mNameError\u001b[0m: name 'z' is not defined"
     ]
    }
   ],
   "source": [
    "x = 100\n",
    "y = 200\n",
    "\n",
    "x + z"
   ]
  },
  {
   "cell_type": "code",
   "execution_count": 2,
   "id": "starting-cosmetic",
   "metadata": {},
   "outputs": [
    {
     "name": "stdout",
     "output_type": "stream",
     "text": [
      "Friendly-traceback installed.\n"
     ]
    }
   ],
   "source": [
    "from friendly_traceback.ipython import *"
   ]
  },
  {
   "cell_type": "code",
   "execution_count": 3,
   "id": "controlled-passing",
   "metadata": {},
   "outputs": [
    {
     "name": "stderr",
     "output_type": "stream",
     "text": [
      "\n",
      "Traceback (most recent call last):\n",
      "  File \"<ipython-input-3>\", line 1, in <module>\n",
      "    x + z\n",
      "NameError: name 'z' is not defined\n"
     ]
    }
   ],
   "source": [
    "x + z"
   ]
  },
  {
   "cell_type": "code",
   "execution_count": 4,
   "id": "valid-beverage",
   "metadata": {},
   "outputs": [
    {
     "name": "stderr",
     "output_type": "stream",
     "text": [
      "\n",
      "Traceback (most recent call last):\n",
      "  File \"<ipython-input-3>\", line 1, in <module>\n",
      "    x + z\n",
      "NameError: name 'z' is not defined\n",
      "\n",
      "    A `NameError` exception indicates that a variable or\n",
      "    function name is not known to Python.\n",
      "    Most often, this is because there is a spelling mistake.\n",
      "    However, sometimes it is because the name is used\n",
      "    before being defined or given a value.\n",
      "    \n",
      "        In your program, `z` is an unknown name.\n",
      "        I have no additional information for you.\n",
      "        \n",
      "    Exception raised on line 1 of file <ipython-input-3>.\n",
      "    \n",
      "    -->1: x + z\n",
      "              ^\n",
      "\n",
      "            x: 100\n",
      "        \n"
     ]
    }
   ],
   "source": [
    "explain()"
   ]
  },
  {
   "cell_type": "code",
   "execution_count": 6,
   "id": "international-teacher",
   "metadata": {},
   "outputs": [
    {
     "name": "stdout",
     "output_type": "stream",
     "text": [
      "Equal!\n"
     ]
    }
   ],
   "source": [
    "x = 100\n",
    "\n",
    "if x == 100:\n",
    "    print('Equal!')"
   ]
  },
  {
   "cell_type": "code",
   "execution_count": 7,
   "id": "apart-street",
   "metadata": {},
   "outputs": [
    {
     "name": "stderr",
     "output_type": "stream",
     "text": [
      "\n",
      "Traceback (most recent call last):\n",
      "  File \"<ipython-input-7>\", line 3\n",
      "    if x = 100:\n",
      "         ^\n",
      "SyntaxError: invalid syntax\n",
      "\n",
      "        Perhaps you needed `==` or `:=` instead of `=`.\n",
      "        \n"
     ]
    }
   ],
   "source": [
    "x = 100\n",
    "\n",
    "if x = 100:\n",
    "    print('Equal!')"
   ]
  },
  {
   "cell_type": "markdown",
   "id": "living-developer",
   "metadata": {},
   "source": [
    "# Recap from Monday\n",
    "\n",
    "- To assign to a variable, we use `=`\n",
    "    - If the variable already existed, its value is replaced\n",
    "    - If the variable didn't previously exist, it is created\n",
    "- We have different types of values\n",
    "    - `bool` (`True` and `False`)\n",
    "    - `int` (integers, whole numbers)\n",
    "    - `float` (numbers with a decimal point)\n",
    "    - `str` (strings, text)\n",
    "- Conditions allow us to make deciisons in our code\n",
    "    ` "
   ]
  }
 ],
 "metadata": {
  "kernelspec": {
   "display_name": "Python 3",
   "language": "python",
   "name": "python3"
  },
  "language_info": {
   "codemirror_mode": {
    "name": "ipython",
    "version": 3
   },
   "file_extension": ".py",
   "mimetype": "text/x-python",
   "name": "python",
   "nbconvert_exporter": "python",
   "pygments_lexer": "ipython3",
   "version": "3.8.6"
  }
 },
 "nbformat": 4,
 "nbformat_minor": 5
}
