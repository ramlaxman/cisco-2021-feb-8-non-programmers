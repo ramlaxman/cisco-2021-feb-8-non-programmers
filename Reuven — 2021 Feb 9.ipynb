{
 "cells": [
  {
   "cell_type": "markdown",
   "id": "introductory-leeds",
   "metadata": {},
   "source": [
    "# Agenda\n",
    "\n",
    "1. `friendly_traceback`\n",
    "2. Review yesterday's content\n",
    "3. Any questions?\n",
    "4. Strings\n",
    "   - Searching using `in`\n",
    "   - Slices\n",
    "   - Immutable strings\n",
    "   - Methods\n",
    "   - Loops\n",
    "5. Lists\n",
    "   - Creating lists\n",
    "   - Using lists\n",
    "   - Mutable lists (vs. immutable strings)\n",
    "   - Lists and strings, and how they're similar (and different)"
   ]
  },
  {
   "cell_type": "code",
   "execution_count": null,
   "id": "flying-uruguay",
   "metadata": {},
   "outputs": [],
   "source": [
    "https://github.com/reuven/cisco-2021-feb-8-non-programmers"
   ]
  }
 ],
 "metadata": {
  "kernelspec": {
   "display_name": "Python 3",
   "language": "python",
   "name": "python3"
  },
  "language_info": {
   "codemirror_mode": {
    "name": "ipython",
    "version": 3
   },
   "file_extension": ".py",
   "mimetype": "text/x-python",
   "name": "python",
   "nbconvert_exporter": "python",
   "pygments_lexer": "ipython3",
   "version": "3.8.6"
  }
 },
 "nbformat": 4,
 "nbformat_minor": 5
}
