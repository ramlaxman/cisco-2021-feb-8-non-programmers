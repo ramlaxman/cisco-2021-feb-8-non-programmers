{
 "cells": [
  {
   "cell_type": "markdown",
   "id": "young-particle",
   "metadata": {},
   "source": [
    "# Agenda\n",
    "\n",
    "1. `friendly_traceback`\n",
    "2. Review yesterday's content\n",
    "3. Any questions?\n",
    "4. Strings\n",
    "   - Searching using `in`\n",
    "   - Slices\n",
    "   - Immutable strings\n",
    "   - Methods\n",
    "   - Loops\n",
    "5. Lists\n",
    "   - Creating lists\n",
    "   - Using lists\n",
    "   - Mutable lists (vs. immutable strings)\n",
    "   - Lists and strings, and how they're similar (and different)"
   ]
  },
  {
   "cell_type": "code",
   "execution_count": 1,
   "id": "liked-audience",
   "metadata": {},
   "outputs": [
    {
     "ename": "NameError",
     "evalue": "name 'z' is not defined",
     "output_type": "error",
     "traceback": [
      "\u001b[0;31m---------------------------------------------------------------------------\u001b[0m",
      "\u001b[0;31mNameError\u001b[0m                                 Traceback (most recent call last)",
      "\u001b[0;32m<ipython-input-1-2ff3a7bef72b>\u001b[0m in \u001b[0;36m<module>\u001b[0;34m\u001b[0m\n\u001b[1;32m      2\u001b[0m \u001b[0my\u001b[0m \u001b[0;34m=\u001b[0m \u001b[0;36m200\u001b[0m\u001b[0;34m\u001b[0m\u001b[0;34m\u001b[0m\u001b[0m\n\u001b[1;32m      3\u001b[0m \u001b[0;34m\u001b[0m\u001b[0m\n\u001b[0;32m----> 4\u001b[0;31m \u001b[0mx\u001b[0m \u001b[0;34m+\u001b[0m \u001b[0mz\u001b[0m\u001b[0;34m\u001b[0m\u001b[0;34m\u001b[0m\u001b[0m\n\u001b[0m",
      "\u001b[0;31mNameError\u001b[0m: name 'z' is not defined"
     ]
    }
   ],
   "source": [
    "x = 100\n",
    "y = 200\n",
    "\n",
    "x + z"
   ]
  },
  {
   "cell_type": "code",
   "execution_count": 57,
   "id": "modified-wagner",
   "metadata": {},
   "outputs": [
    {
     "name": "stdout",
     "output_type": "stream",
     "text": [
      "Friendly-traceback installed.\n"
     ]
    }
   ],
   "source": [
    "from friendly_traceback.ipython import *"
   ]
  },
  {
   "cell_type": "code",
   "execution_count": 3,
   "id": "gorgeous-brake",
   "metadata": {},
   "outputs": [
    {
     "name": "stderr",
     "output_type": "stream",
     "text": [
      "\n",
      "Traceback (most recent call last):\n",
      "  File \"<ipython-input-3>\", line 1, in <module>\n",
      "    x + z\n",
      "NameError: name 'z' is not defined\n"
     ]
    }
   ],
   "source": [
    "x + z"
   ]
  },
  {
   "cell_type": "code",
   "execution_count": 4,
   "id": "committed-correction",
   "metadata": {},
   "outputs": [
    {
     "name": "stderr",
     "output_type": "stream",
     "text": [
      "\n",
      "Traceback (most recent call last):\n",
      "  File \"<ipython-input-3>\", line 1, in <module>\n",
      "    x + z\n",
      "NameError: name 'z' is not defined\n",
      "\n",
      "    A `NameError` exception indicates that a variable or\n",
      "    function name is not known to Python.\n",
      "    Most often, this is because there is a spelling mistake.\n",
      "    However, sometimes it is because the name is used\n",
      "    before being defined or given a value.\n",
      "    \n",
      "        In your program, `z` is an unknown name.\n",
      "        I have no additional information for you.\n",
      "        \n",
      "    Exception raised on line 1 of file <ipython-input-3>.\n",
      "    \n",
      "    -->1: x + z\n",
      "              ^\n",
      "\n",
      "            x: 100\n",
      "        \n"
     ]
    }
   ],
   "source": [
    "explain()"
   ]
  },
  {
   "cell_type": "code",
   "execution_count": 6,
   "id": "coated-facility",
   "metadata": {},
   "outputs": [
    {
     "name": "stdout",
     "output_type": "stream",
     "text": [
      "Equal!\n"
     ]
    }
   ],
   "source": [
    "x = 100\n",
    "\n",
    "if x == 100:\n",
    "    print('Equal!')"
   ]
  },
  {
   "cell_type": "code",
   "execution_count": 7,
   "id": "behind-heater",
   "metadata": {},
   "outputs": [
    {
     "name": "stderr",
     "output_type": "stream",
     "text": [
      "\n",
      "Traceback (most recent call last):\n",
      "  File \"<ipython-input-7>\", line 3\n",
      "    if x = 100:\n",
      "         ^\n",
      "SyntaxError: invalid syntax\n",
      "\n",
      "        Perhaps you needed `==` or `:=` instead of `=`.\n",
      "        \n"
     ]
    }
   ],
   "source": [
    "x = 100\n",
    "\n",
    "if x = 100:\n",
    "    print('Equal!')"
   ]
  },
  {
   "cell_type": "markdown",
   "id": "classical-piece",
   "metadata": {},
   "source": [
    "# Recap from Monday\n",
    "\n",
    "- To assign to a variable, we use `=`\n",
    "    - If the variable already existed, its value is replaced\n",
    "    - If the variable didn't previously exist, it is created\n",
    "- We have different types of values\n",
    "    - `bool` (`True` and `False`)\n",
    "    - `int` (integers, whole numbers)\n",
    "    - `float` (numbers with a decimal point)\n",
    "    - `str` (strings, text)\n",
    "- Conditions allow us to make deciisons in our code\n",
    "    - `if` looks to its right, and asks: Does that give me a `True` value?\n",
    "    - If it's `True`, then we execute the block under the `if`\n",
    "    - If not, then we execute the `else` block\n",
    "    - (You can have `elif` tests and blocks between those, too.)\n",
    "- Comparison operators, which return `True` or `False` (thus useful in `if`)\n",
    "    - `==`\n",
    "    - `!=`\n",
    "    - `<`, `<=`\n",
    "    - `>`, `>=`\n",
    "- Boolean logical operators\n",
    "    - `and`\n",
    "    - `or`\n",
    "    - `not`\n",
    "- Strings\n",
    "    - Retrieve from a string using `[]`\n",
    "    - Indexes start at 0, and go up to `len(s) - 1` for a string `s`\n",
    "    - `len` returns the length of the string\n",
    "- Functions for input and output\n",
    "    - `print` for printing on the screen\n",
    "    - `input` for getting input from the user as a string\n",
    "- Conversion\n",
    "    - Use the type you *want* as a function\n",
    "    - `int('5')` returns the integer 5\n",
    "    - `str(5)` returns the string `'5'`"
   ]
  },
  {
   "cell_type": "markdown",
   "id": "heated-musician",
   "metadata": {},
   "source": [
    "# Exercise: Birthday calculator\n",
    "\n",
    "1. Ask the user to enter their birth year.\n",
    "2. Ask the user to tell us which birthday we should calculate the year for.\n",
    "3. If the birthday is > 100, then add a hearty congratulations.\n",
    "4. If the birthday is < 0, then scold them a bit for being sarcastic.\n",
    "5. Tell them in what year they'll celebrate that birthday.\n",
    "\n",
    "Example:\n",
    "\n",
    "    Enter birthyear: 1970\n",
    "    Enter birthday: 110\n",
    "       Wow, congratulations on reaching 110 years!\n",
    "       That will be in 2080\n",
    "       \n",
    "Hints:\n",
    "- We get strings back from `input`, so you'll need to use `int` to turn inputs into numbers.\n",
    "- You'll need to use `if` to check the birthdays, if they're very high or very low."
   ]
  },
  {
   "cell_type": "code",
   "execution_count": 8,
   "id": "vietnamese-queens",
   "metadata": {},
   "outputs": [
    {
     "data": {
      "text/plain": [
       "4"
      ]
     },
     "execution_count": 8,
     "metadata": {},
     "output_type": "execute_result"
    }
   ],
   "source": [
    "2+2"
   ]
  },
  {
   "cell_type": "markdown",
   "id": "incorporate-liberal",
   "metadata": {},
   "source": [
    "# Strategy and steps\n",
    "\n",
    "1. Ask the user to enter their birth year (`input`), giving us a string, assigning to `birthyear`.\n",
    "2. Ask the user to enter what birthday we should find, into `birthday`.\n",
    "3. Convert them both into integers using `int`.  \n",
    "\n",
    "```python\n",
    "x = int(x)  # this means: turn x into an int, and then assign back to x\n",
    "```\n",
    "\n",
    "4. Check: Is the year < 0? Print something\n",
    "5. Check: Is the year > 100? Print something\n",
    "6. Print a report / output, showing in what year they'll have that age."
   ]
  },
  {
   "cell_type": "code",
   "execution_count": 9,
   "id": "recreational-facility",
   "metadata": {},
   "outputs": [
    {
     "name": "stdout",
     "output_type": "stream",
     "text": [
      "Enter birthyear: 1970\n",
      "Enter birthday: 100\n",
      "You were born in 1970, so your 100 birthday will be in 1970100!\n"
     ]
    }
   ],
   "source": [
    "birthyear = input('Enter birthyear: ')\n",
    "birthday = input('Enter birthday: ')\n",
    "\n",
    "print(f'You were born in {birthyear}, so your {birthday} birthday will be in {birthyear+birthday}!')"
   ]
  },
  {
   "cell_type": "code",
   "execution_count": 10,
   "id": "scheduled-revelation",
   "metadata": {},
   "outputs": [
    {
     "data": {
      "text/plain": [
       "1970"
      ]
     },
     "execution_count": 10,
     "metadata": {},
     "output_type": "execute_result"
    }
   ],
   "source": [
    "# FUNCTION(DATA)\n",
    "\n",
    "# to convert a string into an integer\n",
    "# function: int\n",
    "# data: the variable containing the string\n",
    "\n",
    "int(birthyear)  # this returns an integer"
   ]
  },
  {
   "cell_type": "code",
   "execution_count": 11,
   "id": "aggressive-search",
   "metadata": {},
   "outputs": [
    {
     "name": "stdout",
     "output_type": "stream",
     "text": [
      "Enter birthyear: 1970\n",
      "Enter birthday: 100\n",
      "You were born in 1970, so your 100 birthday will be in 2070!\n"
     ]
    }
   ],
   "source": [
    "birthyear = input('Enter birthyear: ')\n",
    "birthday = input('Enter birthday: ')\n",
    "\n",
    "birthyear = int(birthyear)  # convert birthyear into an int\n",
    "birthday = int(birthday)  # convert birthday into an int\n",
    "\n",
    "print(f'You were born in {birthyear}, so your {birthday} birthday will be in {birthyear+birthday}!')"
   ]
  },
  {
   "cell_type": "code",
   "execution_count": 13,
   "id": "featured-quick",
   "metadata": {},
   "outputs": [
    {
     "name": "stdout",
     "output_type": "stream",
     "text": [
      "Enter birthyear: 1970\n",
      "Enter birthday: 200\n",
      "Congrats on reaching your 200 birthday!\n",
      "You were born in 1970, so your 200 birthday will be in 2170!\n"
     ]
    }
   ],
   "source": [
    "birthyear = input('Enter birthyear: ')\n",
    "birthday = input('Enter birthday: ')\n",
    "\n",
    "birthyear = int(birthyear)  # convert birthyear into an int\n",
    "birthday = int(birthday)  # convert birthday into an int\n",
    "\n",
    "if birthday < 0:\n",
    "    print(f'{birthday} is not a legit birthday!')\n",
    "    \n",
    "if birthday > 100:\n",
    "    print(f'Congrats on reaching your {birthday} birthday!')\n",
    "\n",
    "print(f'You were born in {birthyear}, so your {birthday} birthday will be in {birthyear+birthday}!')"
   ]
  },
  {
   "cell_type": "code",
   "execution_count": null,
   "id": "proud-pressing",
   "metadata": {},
   "outputs": [],
   "source": [
    "birthyear = input('Enter birthyear: ')\n",
    "birthday = input('Enter birthday: ')\n",
    "\n",
    "birthyear = int(birthyear)  # convert birthyear into an int\n",
    "birthday = int(birthday)  # convert birthday into an int\n",
    "\n",
    "if birthday < 0:\n",
    "    print(f'{birthday} is not a legit birthday!')\n",
    "    \n",
    "else:\n",
    "    if birthday > 100:\n",
    "        print(f'Congrats on reaching your {birthday} birthday!')\n",
    "\n",
    "    print(f'You were born in {birthyear}, so your {birthday} birthday will be in {birthyear+birthday}!')"
   ]
  },
  {
   "cell_type": "code",
   "execution_count": 14,
   "id": "lovely-round",
   "metadata": {},
   "outputs": [
    {
     "data": {
      "text/plain": [
       "26"
      ]
     },
     "execution_count": 14,
     "metadata": {},
     "output_type": "execute_result"
    }
   ],
   "source": [
    "s = 'abcdefghijklmnopqrstuvwxyz'\n",
    "len(s)"
   ]
  },
  {
   "cell_type": "code",
   "execution_count": 15,
   "id": "dominant-prediction",
   "metadata": {},
   "outputs": [
    {
     "data": {
      "text/plain": [
       "'c'"
      ]
     },
     "execution_count": 15,
     "metadata": {},
     "output_type": "execute_result"
    }
   ],
   "source": [
    "# I can retrieve characters with [] and an index, starting with 0\n",
    "\n",
    "s[2]"
   ]
  },
  {
   "cell_type": "code",
   "execution_count": 16,
   "id": "vulnerable-brass",
   "metadata": {},
   "outputs": [
    {
     "data": {
      "text/plain": [
       "'k'"
      ]
     },
     "execution_count": 16,
     "metadata": {},
     "output_type": "execute_result"
    }
   ],
   "source": [
    "s[10]  # k is the 11th letter, but since we start counting with 0, s[10] is 'k'"
   ]
  },
  {
   "cell_type": "code",
   "execution_count": 17,
   "id": "wrapped-watts",
   "metadata": {},
   "outputs": [
    {
     "data": {
      "text/plain": [
       "'abcdefghijklmnopqrstuvwxyz'"
      ]
     },
     "execution_count": 17,
     "metadata": {},
     "output_type": "execute_result"
    }
   ],
   "source": [
    "s"
   ]
  },
  {
   "cell_type": "code",
   "execution_count": 18,
   "id": "shared-imaging",
   "metadata": {},
   "outputs": [
    {
     "name": "stderr",
     "output_type": "stream",
     "text": [
      "\n",
      "Traceback (most recent call last):\n",
      "  File \"<ipython-input-18>\", line 1, in <module>\n",
      "    s[0] = '!'\n",
      "TypeError: 'str' object does not support item assignment\n"
     ]
    }
   ],
   "source": [
    "s[0] = '!'"
   ]
  },
  {
   "cell_type": "markdown",
   "id": "union-plasma",
   "metadata": {},
   "source": [
    "# Strings are immutable\n",
    "\n",
    "- You can never change a string once it's created.\n",
    "- You *CAN* assign a new string to a variable.\n",
    "- You *CAN* create a new string based on an old one"
   ]
  },
  {
   "cell_type": "code",
   "execution_count": 19,
   "id": "related-cheese",
   "metadata": {},
   "outputs": [],
   "source": [
    "s = 'abcde'\n",
    "s = 'fghij'"
   ]
  },
  {
   "cell_type": "code",
   "execution_count": 20,
   "id": "instant-probe",
   "metadata": {},
   "outputs": [
    {
     "data": {
      "text/plain": [
       "True"
      ]
     },
     "execution_count": 20,
     "metadata": {},
     "output_type": "execute_result"
    }
   ],
   "source": [
    "# We can search in strings using \"in\"\n",
    "\n",
    "s = 'abcdefghijklmnopqrstuvwxyz'\n",
    "'j' in s  # returns True or False"
   ]
  },
  {
   "cell_type": "code",
   "execution_count": 22,
   "id": "grateful-recorder",
   "metadata": {},
   "outputs": [
    {
     "data": {
      "text/plain": [
       "True"
      ]
     },
     "execution_count": 22,
     "metadata": {},
     "output_type": "execute_result"
    }
   ],
   "source": [
    "'f' in s"
   ]
  },
  {
   "cell_type": "code",
   "execution_count": 23,
   "id": "expanded-biodiversity",
   "metadata": {},
   "outputs": [
    {
     "data": {
      "text/plain": [
       "True"
      ]
     },
     "execution_count": 23,
     "metadata": {},
     "output_type": "execute_result"
    }
   ],
   "source": [
    "'abcd' in s"
   ]
  },
  {
   "cell_type": "code",
   "execution_count": 25,
   "id": "exterior-courage",
   "metadata": {},
   "outputs": [
    {
     "data": {
      "text/plain": [
       "False"
      ]
     },
     "execution_count": 25,
     "metadata": {},
     "output_type": "execute_result"
    }
   ],
   "source": [
    "'abd' in s"
   ]
  },
  {
   "cell_type": "code",
   "execution_count": 26,
   "id": "preliminary-packet",
   "metadata": {},
   "outputs": [
    {
     "data": {
      "text/plain": [
       "'abcdefghijklmnopqrstuvwxyz'"
      ]
     },
     "execution_count": 26,
     "metadata": {},
     "output_type": "execute_result"
    }
   ],
   "source": [
    "# slices -- Python's version of \"substrings\"\n",
    "\n",
    "s"
   ]
  },
  {
   "cell_type": "code",
   "execution_count": 27,
   "id": "manufactured-victoria",
   "metadata": {},
   "outputs": [
    {
     "data": {
      "text/plain": [
       "'f'"
      ]
     },
     "execution_count": 27,
     "metadata": {},
     "output_type": "execute_result"
    }
   ],
   "source": [
    "s[5] # retrieve the item at index 5"
   ]
  },
  {
   "cell_type": "code",
   "execution_count": 28,
   "id": "opposed-soundtrack",
   "metadata": {},
   "outputs": [
    {
     "data": {
      "text/plain": [
       "'fghij'"
      ]
     },
     "execution_count": 28,
     "metadata": {},
     "output_type": "execute_result"
    }
   ],
   "source": [
    "s[5:10]  # retrieve the \"slice\" starting at index 5, until (not including) index 10"
   ]
  },
  {
   "cell_type": "code",
   "execution_count": 29,
   "id": "looking-hybrid",
   "metadata": {},
   "outputs": [
    {
     "data": {
      "text/plain": [
       "'cdefghijklmnopqrst'"
      ]
     },
     "execution_count": 29,
     "metadata": {},
     "output_type": "execute_result"
    }
   ],
   "source": [
    "s[2:20]"
   ]
  },
  {
   "cell_type": "code",
   "execution_count": 30,
   "id": "interior-coffee",
   "metadata": {},
   "outputs": [
    {
     "data": {
      "text/plain": [
       "'abcdefghijklmno'"
      ]
     },
     "execution_count": 30,
     "metadata": {},
     "output_type": "execute_result"
    }
   ],
   "source": [
    "s[:15]  # from the start of s until (not including) index 15"
   ]
  },
  {
   "cell_type": "code",
   "execution_count": 31,
   "id": "solar-accounting",
   "metadata": {},
   "outputs": [
    {
     "data": {
      "text/plain": [
       "'pqrstuvwxyz'"
      ]
     },
     "execution_count": 31,
     "metadata": {},
     "output_type": "execute_result"
    }
   ],
   "source": [
    "s[15:]  # from index 15 through the end"
   ]
  },
  {
   "cell_type": "code",
   "execution_count": 32,
   "id": "frequent-dairy",
   "metadata": {},
   "outputs": [
    {
     "data": {
      "text/plain": [
       "'fklmnoc'"
      ]
     },
     "execution_count": 32,
     "metadata": {},
     "output_type": "execute_result"
    }
   ],
   "source": [
    "s[5]+ s[10:15] + s[2]"
   ]
  },
  {
   "cell_type": "code",
   "execution_count": 33,
   "id": "ancient-april",
   "metadata": {},
   "outputs": [
    {
     "name": "stdout",
     "output_type": "stream",
     "text": [
      "Yes!\n"
     ]
    }
   ],
   "source": [
    "if 'a' in 'abcd':\n",
    "    print('Yes!')"
   ]
  },
  {
   "cell_type": "markdown",
   "id": "incident-publication",
   "metadata": {},
   "source": [
    "# Exercise: Pig Latin translator\n",
    "\n",
    "To translate from English into Pig Latin:\n",
    "\n",
    "1. Check the first letter of the English word.\n",
    "2. If the first letter is a vowel (a, e, i, o, or u) then add `way` to the end of the word.\n",
    "2. In other cases, move the first letter to the end, and then add `ay`.\n",
    "\n",
    "Some examples:\n",
    "- `computer` -> `omputercay`\n",
    "- `apple` -> `appleway`\n",
    "- `elephant` -> `elephantway`\n",
    "- `octopus` -> `octopusway`\n",
    "- `table` -> `abletay`\n",
    "- `papaya` -> `apayapay`\n",
    "\n",
    "1. Ask the user to enter an English word (all lowercase, no punctuation, no spaces)\n",
    "2. Check the first letter.  Is it a vowel?\n",
    "    - One way: use `or` in an `if` statement\n",
    "    - Another way... consider `in`\n",
    "3. Use `if` to decide what rule applies\n",
    "4. Adding to a string is as easy as `+` or an f-string\n",
    "5. Moving the first letter to the end means using slices and creating a new string\n",
    "\n"
   ]
  },
  {
   "cell_type": "code",
   "execution_count": 34,
   "id": "coastal-switzerland",
   "metadata": {},
   "outputs": [
    {
     "name": "stdout",
     "output_type": "stream",
     "text": [
      "It starts with a vowel!\n"
     ]
    }
   ],
   "source": [
    "s = 'abcde'\n",
    "\n",
    "if s[0] == 'a'  or s[0] == 'e':\n",
    "    print('It starts with a vowel!')"
   ]
  },
  {
   "cell_type": "code",
   "execution_count": 35,
   "id": "professional-breath",
   "metadata": {},
   "outputs": [
    {
     "name": "stdout",
     "output_type": "stream",
     "text": [
      "It starts with a vowel!\n"
     ]
    }
   ],
   "source": [
    "if s[0] in 'aeiou':  # standard Python practice!\n",
    "    print('It starts with a vowel!')\n",
    "    "
   ]
  },
  {
   "cell_type": "code",
   "execution_count": 37,
   "id": "experimental-playback",
   "metadata": {},
   "outputs": [
    {
     "name": "stdout",
     "output_type": "stream",
     "text": [
      "Enter a word: computer\n"
     ]
    }
   ],
   "source": [
    "word = input('Enter a word: ')\n",
    "\n",
    "if word[0] == 'a' or word[0] == 'e' or word[0] == 'i' or word[0] == 'o' or word[0] == 'u':\n",
    "    print(word + 'way')"
   ]
  },
  {
   "cell_type": "code",
   "execution_count": 39,
   "id": "fancy-cycling",
   "metadata": {},
   "outputs": [
    {
     "name": "stdout",
     "output_type": "stream",
     "text": [
      "computerway\n"
     ]
    }
   ],
   "source": [
    "# Never do this!  It thinks that *all* words start with vowels!\n",
    "if word[0] == 'a' or 'e' or 'i' or 'o' or 'u':\n",
    "    print(word + 'way')"
   ]
  },
  {
   "cell_type": "code",
   "execution_count": 40,
   "id": "fallen-fundamental",
   "metadata": {},
   "outputs": [
    {
     "name": "stdout",
     "output_type": "stream",
     "text": [
      "Enter a word: computer\n",
      "omputer\n",
      "c\n",
      "ay\n"
     ]
    }
   ],
   "source": [
    "word = input('Enter a word: ')\n",
    "\n",
    "# syntax of \"in\" is always: LITTLE in BIG, and returns True/False\n",
    "\n",
    "if word[0] in 'aeiou':\n",
    "    print(word + 'way')\n",
    "else:\n",
    "    print(word[1:])  # everything but the first letter\n",
    "    print(word[0])   # just the first letter\n",
    "    print('ay')"
   ]
  },
  {
   "cell_type": "code",
   "execution_count": 41,
   "id": "reverse-station",
   "metadata": {},
   "outputs": [
    {
     "name": "stdout",
     "output_type": "stream",
     "text": [
      "Enter a word: computer\n",
      "omputercay\n"
     ]
    }
   ],
   "source": [
    "word = input('Enter a word: ')\n",
    "\n",
    "# syntax of \"in\" is always: LITTLE in BIG, and returns True/False\n",
    "\n",
    "if word[0] in 'aeiou':\n",
    "    print(word + 'way')\n",
    "else:\n",
    "    print(word[1:] + word[0] + 'ay')\n"
   ]
  },
  {
   "cell_type": "code",
   "execution_count": 42,
   "id": "healthy-vegetarian",
   "metadata": {},
   "outputs": [
    {
     "name": "stdout",
     "output_type": "stream",
     "text": [
      "Enter a word: computer\n",
      "omputercay\n"
     ]
    }
   ],
   "source": [
    "word = input('Enter a word: ')\n",
    "\n",
    "# syntax of \"in\" is always: LITTLE in BIG, and returns True/False\n",
    "\n",
    "if word[0] in 'aeiou':\n",
    "    print(word + 'way')\n",
    "else:\n",
    "    print(f'{word[1:]}{word[0]}ay')"
   ]
  },
  {
   "cell_type": "markdown",
   "id": "frequent-hotel",
   "metadata": {},
   "source": [
    "# Next up:\n",
    "\n",
    "- Methods (alternative syntax for functions)\n",
    "- Loops (repeating yourself without repeating yourself)"
   ]
  },
  {
   "cell_type": "code",
   "execution_count": 43,
   "id": "sophisticated-upper",
   "metadata": {},
   "outputs": [
    {
     "data": {
      "text/plain": [
       "'abcde'"
      ]
     },
     "execution_count": 43,
     "metadata": {},
     "output_type": "execute_result"
    }
   ],
   "source": [
    "s"
   ]
  },
  {
   "cell_type": "code",
   "execution_count": 44,
   "id": "economic-color",
   "metadata": {},
   "outputs": [
    {
     "data": {
      "text/plain": [
       "5"
      ]
     },
     "execution_count": 44,
     "metadata": {},
     "output_type": "execute_result"
    }
   ],
   "source": [
    "len(s)"
   ]
  },
  {
   "cell_type": "markdown",
   "id": "peaceful-parliament",
   "metadata": {},
   "source": [
    "# Functions vs. methods\n",
    "\n",
    "Both functions and methods are verbs, actions you can take on data.\n",
    "\n",
    "Functions are free-floating in Python's memory, always available. \n",
    "\n",
    "Examples:\n",
    "\n",
    "```python\n",
    "len(s)           # call the \"len\" function on the string \"s\"\n",
    "print('hello')   # call the \"print\" function on the string 'hello'\n",
    "input('Age: ')   # call the \"input\" function on the string 'Age:'\n",
    "```\n",
    "\n",
    "Syntax for functions will always be\n",
    "\n",
    "    FUNCTION(DATA)\n",
    "\n",
    "Methods, by contrast, are attached to an object.  They always have the syntax of:\n",
    "\n",
    "    DATA.METHOD() \n",
    "    \n",
    "You can also pass additional arguments:\n",
    "\n",
    "    DATA.METHOD(ARG1, ARG2)\n",
    "    \n",
    "Examples of methods:\n",
    "\n",
    "```python\n",
    "s = 'aBcDeF'\n",
    "s.upper()  # string method, returns a new string, uppercase of s, or 'ABCDEF'\n",
    "s.lower()  # string method, returns a new string, lowercase of s, or 'abcdef'\n",
    "s.capitalize()  # string method, return a new string -- all lowercase but caps 1st letter\n",
    "```"
   ]
  },
  {
   "cell_type": "code",
   "execution_count": 49,
   "id": "electrical-person",
   "metadata": {},
   "outputs": [],
   "source": [
    "s = 'aBcDeF'"
   ]
  },
  {
   "cell_type": "code",
   "execution_count": 50,
   "id": "apparent-emerald",
   "metadata": {},
   "outputs": [
    {
     "data": {
      "text/plain": [
       "'ABCDEF'"
      ]
     },
     "execution_count": 50,
     "metadata": {},
     "output_type": "execute_result"
    }
   ],
   "source": [
    "s.upper()"
   ]
  },
  {
   "cell_type": "code",
   "execution_count": 51,
   "id": "verbal-england",
   "metadata": {},
   "outputs": [
    {
     "data": {
      "text/plain": [
       "'abcdef'"
      ]
     },
     "execution_count": 51,
     "metadata": {},
     "output_type": "execute_result"
    }
   ],
   "source": [
    "s.lower()"
   ]
  },
  {
   "cell_type": "code",
   "execution_count": 52,
   "id": "vulnerable-bridal",
   "metadata": {},
   "outputs": [
    {
     "data": {
      "text/plain": [
       "'Abcdef'"
      ]
     },
     "execution_count": 52,
     "metadata": {},
     "output_type": "execute_result"
    }
   ],
   "source": [
    "s.capitalize()"
   ]
  },
  {
   "cell_type": "code",
   "execution_count": 53,
   "id": "satellite-finding",
   "metadata": {},
   "outputs": [],
   "source": [
    "# What methods exist?  What else can I do?"
   ]
  },
  {
   "cell_type": "code",
   "execution_count": 54,
   "id": "stock-marker",
   "metadata": {},
   "outputs": [],
   "source": [
    "# Best place to look: Python documentation\n",
    "\n",
    "# Example of a useful string method: isdigit\n",
    "\n",
    "# s.isdigit() returns True if all characters in s are digits\n",
    "#  (and thus, s can be turned into an integer)"
   ]
  },
  {
   "cell_type": "code",
   "execution_count": 55,
   "id": "egyptian-montgomery",
   "metadata": {},
   "outputs": [
    {
     "data": {
      "text/plain": [
       "5"
      ]
     },
     "execution_count": 55,
     "metadata": {},
     "output_type": "execute_result"
    }
   ],
   "source": [
    "int('5')"
   ]
  },
  {
   "cell_type": "code",
   "execution_count": 56,
   "id": "mexican-round",
   "metadata": {},
   "outputs": [
    {
     "name": "stderr",
     "output_type": "stream",
     "text": [
      "\n",
      "Traceback (most recent call last):\n",
      "  File \"<ipython-input-56>\", line 1, in <module>\n",
      "    int('abcd')\n",
      "ValueError: invalid literal for int() with base 10: 'abcd'\n"
     ]
    }
   ],
   "source": [
    "int('abcd')"
   ]
  },
  {
   "cell_type": "code",
   "execution_count": 57,
   "id": "domestic-article",
   "metadata": {},
   "outputs": [
    {
     "data": {
      "text/plain": [
       "True"
      ]
     },
     "execution_count": 57,
     "metadata": {},
     "output_type": "execute_result"
    }
   ],
   "source": [
    "'5'.isdigit()"
   ]
  },
  {
   "cell_type": "code",
   "execution_count": 58,
   "id": "domestic-madison",
   "metadata": {},
   "outputs": [
    {
     "data": {
      "text/plain": [
       "False"
      ]
     },
     "execution_count": 58,
     "metadata": {},
     "output_type": "execute_result"
    }
   ],
   "source": [
    "'abcd'.isdigit()"
   ]
  },
  {
   "cell_type": "markdown",
   "id": "micro-growth",
   "metadata": {},
   "source": [
    "# When learning a method, ask:\n",
    "\n",
    "1. What type does it work on?\n",
    "2. What arguments (if any) does it need, beyond the object itself?\n",
    "3. What does it return?\n",
    "4. Does it modify anything?"
   ]
  },
  {
   "cell_type": "markdown",
   "id": "standard-boating",
   "metadata": {},
   "source": [
    "# Exercise: Add two numbers... if you can\n",
    "\n",
    "1. Ask the user to enter two numbers, each of which will be assigned to a different variable (`first` and `second`).\n",
    "2. If both inputs can be turned into numbers and added, do so, and print the result.\n",
    "3. If one or both cannot be turned into an integer, then scold the user.\n",
    "\n",
    "Example:\n",
    "\n",
    "    Enter first number: 2\n",
    "    Enter second number: 3\n",
    "    2 + 3 = 5\n",
    "    \n",
    "    Enter first number: abcd\n",
    "    Enter second number: 3\n",
    "    abcd is not a number\n",
    "    \n",
    "    Enter first number: 2\n",
    "    Enter second number: abcd\n",
    "    abcd is not a number\n",
    "    \n",
    "Hints and notes:\n",
    "\n",
    "1. Remember to use the `int` function (not a method!) to get an integer from a string.\n",
    "2. Use the `.isdigit` method (not a function, runs on strings only), to make sure that you can safely turn a string into an integer.\n",
    "3. You can use `if`, `elif`, and `else`\n",
    "4. You might well need to use `not`, which reverses the truth of whatever is to its right (including the result of a method call... hint, hint)\n"
   ]
  },
  {
   "cell_type": "code",
   "execution_count": 1,
   "id": "related-emphasis",
   "metadata": {},
   "outputs": [
    {
     "ename": "AttributeError",
     "evalue": "'int' object has no attribute 'upper'",
     "output_type": "error",
     "traceback": [
      "\u001b[0;31m---------------------------------------------------------------------------\u001b[0m",
      "\u001b[0;31mAttributeError\u001b[0m                            Traceback (most recent call last)",
      "\u001b[0;32m<ipython-input-1-1e698c78092a>\u001b[0m in \u001b[0;36m<module>\u001b[0;34m\u001b[0m\n\u001b[1;32m      1\u001b[0m \u001b[0ms\u001b[0m \u001b[0;34m=\u001b[0m \u001b[0;36m1234\u001b[0m\u001b[0;34m\u001b[0m\u001b[0;34m\u001b[0m\u001b[0m\n\u001b[0;32m----> 2\u001b[0;31m \u001b[0ms\u001b[0m\u001b[0;34m.\u001b[0m\u001b[0mupper\u001b[0m\u001b[0;34m(\u001b[0m\u001b[0;34m)\u001b[0m\u001b[0;34m\u001b[0m\u001b[0;34m\u001b[0m\u001b[0m\n\u001b[0m",
      "\u001b[0;31mAttributeError\u001b[0m: 'int' object has no attribute 'upper'"
     ]
    }
   ],
   "source": [
    "s = 1234\n",
    "s.upper()"
   ]
  },
  {
   "cell_type": "code",
   "execution_count": 2,
   "id": "august-truck",
   "metadata": {},
   "outputs": [
    {
     "data": {
      "text/plain": [
       "'XYZ'"
      ]
     },
     "execution_count": 2,
     "metadata": {},
     "output_type": "execute_result"
    }
   ],
   "source": [
    "s = 'xyz'\n",
    "s.upper()"
   ]
  },
  {
   "cell_type": "code",
   "execution_count": 3,
   "id": "recovered-equilibrium",
   "metadata": {},
   "outputs": [
    {
     "data": {
      "text/plain": [
       "True"
      ]
     },
     "execution_count": 3,
     "metadata": {},
     "output_type": "execute_result"
    }
   ],
   "source": [
    "x = '1234'   # the variable x now contains the string '1234'\n",
    "\n",
    "x.isdigit()  # returns True, because the string that x refers to is only 0-9"
   ]
  },
  {
   "cell_type": "code",
   "execution_count": 4,
   "id": "rental-preview",
   "metadata": {},
   "outputs": [
    {
     "data": {
      "text/plain": [
       "False"
      ]
     },
     "execution_count": 4,
     "metadata": {},
     "output_type": "execute_result"
    }
   ],
   "source": [
    "'x'.isdigit()  # does the string 'x' contain only the digits 0-9?  False"
   ]
  },
  {
   "cell_type": "code",
   "execution_count": 5,
   "id": "equivalent-thirty",
   "metadata": {},
   "outputs": [
    {
     "name": "stdout",
     "output_type": "stream",
     "text": [
      "Enter a number: 12345\n"
     ]
    }
   ],
   "source": [
    "s = input('Enter a number: ')\n",
    "\n"
   ]
  },
  {
   "cell_type": "code",
   "execution_count": 7,
   "id": "bibliographic-somalia",
   "metadata": {},
   "outputs": [
    {
     "data": {
      "text/plain": [
       "True"
      ]
     },
     "execution_count": 7,
     "metadata": {},
     "output_type": "execute_result"
    }
   ],
   "source": [
    "s.isdigit()  # isdigit runs on strings, so this works"
   ]
  },
  {
   "cell_type": "code",
   "execution_count": 8,
   "id": "common-paint",
   "metadata": {},
   "outputs": [
    {
     "ename": "AttributeError",
     "evalue": "'int' object has no attribute 'isdigit'",
     "output_type": "error",
     "traceback": [
      "\u001b[0;31m---------------------------------------------------------------------------\u001b[0m",
      "\u001b[0;31mAttributeError\u001b[0m                            Traceback (most recent call last)",
      "\u001b[0;32m<ipython-input-8-a8c3000fb7a9>\u001b[0m in \u001b[0;36m<module>\u001b[0;34m\u001b[0m\n\u001b[1;32m      1\u001b[0m \u001b[0ms\u001b[0m \u001b[0;34m=\u001b[0m \u001b[0mint\u001b[0m\u001b[0;34m(\u001b[0m\u001b[0ms\u001b[0m\u001b[0;34m)\u001b[0m\u001b[0;34m\u001b[0m\u001b[0;34m\u001b[0m\u001b[0m\n\u001b[0;32m----> 2\u001b[0;31m \u001b[0ms\u001b[0m\u001b[0;34m.\u001b[0m\u001b[0misdigit\u001b[0m\u001b[0;34m(\u001b[0m\u001b[0;34m)\u001b[0m   \u001b[0;31m# this will NOT WORK, because we've already changed so to be an int!\u001b[0m\u001b[0;34m\u001b[0m\u001b[0;34m\u001b[0m\u001b[0m\n\u001b[0m",
      "\u001b[0;31mAttributeError\u001b[0m: 'int' object has no attribute 'isdigit'"
     ]
    }
   ],
   "source": [
    "s = int(s)\n",
    "s.isdigit()   # this will NOT WORK, because we've already changed so to be an int!"
   ]
  },
  {
   "cell_type": "code",
   "execution_count": 9,
   "id": "caroline-effect",
   "metadata": {},
   "outputs": [],
   "source": [
    "# the reason we're going to use .isdigit() is to check whether it's safe\n",
    "# to turn our string into an integer\n",
    "\n",
    "# so *FIRST* use isdigit to check\n",
    "# THEN, if it's safe, convert"
   ]
  },
  {
   "cell_type": "code",
   "execution_count": 20,
   "id": "illegal-channel",
   "metadata": {},
   "outputs": [
    {
     "name": "stdout",
     "output_type": "stream",
     "text": [
      "Enter first: abc\n",
      "Enter second: def\n",
      "abc is not numeric\n",
      "def is not numeric\n"
     ]
    }
   ],
   "source": [
    "first = input('Enter first: ')\n",
    "second = input('Enter second: ')\n",
    "\n",
    "if first.isdigit() and second.isdigit():\n",
    "    first = int(first)\n",
    "    second = int(second)\n",
    "    print(f'{first} + {second} = {first+second}')\n",
    "else:\n",
    "    if not first.isdigit():\n",
    "        print(f'{first} is not numeric')\n",
    "        \n",
    "    if not second.isdigit():\n",
    "        print(f'{second} is not numeric')"
   ]
  },
  {
   "cell_type": "code",
   "execution_count": 22,
   "id": "pacific-corrections",
   "metadata": {},
   "outputs": [
    {
     "name": "stdout",
     "output_type": "stream",
     "text": [
      "Enter your name:            Reuven         \n",
      "Hello,            Reuven         !\n"
     ]
    }
   ],
   "source": [
    "name = input('Enter your name: ')\n",
    "print(f'Hello, {name}!')"
   ]
  },
  {
   "cell_type": "code",
   "execution_count": 23,
   "id": "civic-polish",
   "metadata": {},
   "outputs": [
    {
     "data": {
      "text/plain": [
       "'           Reuven         '"
      ]
     },
     "execution_count": 23,
     "metadata": {},
     "output_type": "execute_result"
    }
   ],
   "source": [
    "name"
   ]
  },
  {
   "cell_type": "code",
   "execution_count": 24,
   "id": "descending-richards",
   "metadata": {},
   "outputs": [
    {
     "data": {
      "text/plain": [
       "'           Reuven         '"
      ]
     },
     "execution_count": 24,
     "metadata": {},
     "output_type": "execute_result"
    }
   ],
   "source": [
    "# the \"strip\" method removes whitespace from the outside of a string\n",
    "# and returns a new string without it\n",
    "\n",
    "name"
   ]
  },
  {
   "cell_type": "code",
   "execution_count": 25,
   "id": "double-connectivity",
   "metadata": {},
   "outputs": [
    {
     "data": {
      "text/plain": [
       "'Reuven'"
      ]
     },
     "execution_count": 25,
     "metadata": {},
     "output_type": "execute_result"
    }
   ],
   "source": [
    "name.strip()  # returns a new string"
   ]
  },
  {
   "cell_type": "code",
   "execution_count": 26,
   "id": "handy-windows",
   "metadata": {},
   "outputs": [
    {
     "data": {
      "text/plain": [
       "'           Reuven         '"
      ]
     },
     "execution_count": 26,
     "metadata": {},
     "output_type": "execute_result"
    }
   ],
   "source": [
    "name"
   ]
  },
  {
   "cell_type": "code",
   "execution_count": 27,
   "id": "marked-stick",
   "metadata": {},
   "outputs": [
    {
     "data": {
      "text/plain": [
       "False"
      ]
     },
     "execution_count": 27,
     "metadata": {},
     "output_type": "execute_result"
    }
   ],
   "source": [
    "s = ' 123 '\n",
    "s.isdigit()"
   ]
  },
  {
   "cell_type": "code",
   "execution_count": 28,
   "id": "favorite-means",
   "metadata": {},
   "outputs": [
    {
     "name": "stdout",
     "output_type": "stream",
     "text": [
      "Enter your name:        Reuven      \n",
      "Hello, Reuven!\n"
     ]
    }
   ],
   "source": [
    "name = input('Enter your name: ')\n",
    "name = name.strip()  \n",
    "print(f'Hello, {name}!')"
   ]
  },
  {
   "cell_type": "code",
   "execution_count": 29,
   "id": "united-denmark",
   "metadata": {},
   "outputs": [
    {
     "data": {
      "text/plain": [
       "'Reuven'"
      ]
     },
     "execution_count": 29,
     "metadata": {},
     "output_type": "execute_result"
    }
   ],
   "source": [
    "name"
   ]
  },
  {
   "cell_type": "code",
   "execution_count": null,
   "id": "quarterly-bhutan",
   "metadata": {},
   "outputs": [],
   "source": [
    "# Very common idiom in Python for getting input\n",
    "\n",
    "name = input('Enter your name: ').strip()\n",
    "print(f'Hello, {name}!')"
   ]
  },
  {
   "cell_type": "markdown",
   "id": "medical-token",
   "metadata": {},
   "source": [
    "# Loops"
   ]
  },
  {
   "cell_type": "code",
   "execution_count": 30,
   "id": "obvious-correlation",
   "metadata": {},
   "outputs": [
    {
     "name": "stdout",
     "output_type": "stream",
     "text": [
      "h\n",
      "e\n",
      "l\n",
      "l\n",
      "o\n"
     ]
    }
   ],
   "source": [
    "s = 'hello'\n",
    "\n",
    "print(s[0])\n",
    "print(s[1])\n",
    "print(s[2])\n",
    "print(s[3])\n",
    "print(s[4])"
   ]
  },
  {
   "cell_type": "code",
   "execution_count": 31,
   "id": "standard-updating",
   "metadata": {},
   "outputs": [],
   "source": [
    "# DRY -- don't repeat yourself"
   ]
  },
  {
   "cell_type": "code",
   "execution_count": 32,
   "id": "annoying-knitting",
   "metadata": {},
   "outputs": [
    {
     "name": "stdout",
     "output_type": "stream",
     "text": [
      "h\n",
      "e\n",
      "l\n",
      "l\n",
      "o\n"
     ]
    }
   ],
   "source": [
    "# \"for\" loop\n",
    "\n",
    "for one_character in s:\n",
    "    print(one_character)"
   ]
  },
  {
   "cell_type": "code",
   "execution_count": 33,
   "id": "favorite-luther",
   "metadata": {},
   "outputs": [
    {
     "name": "stdout",
     "output_type": "stream",
     "text": [
      "h\n",
      "e\n",
      "l\n",
      "l\n",
      "o\n"
     ]
    }
   ],
   "source": [
    "for one_very_long_novel in s:\n",
    "    print(one_very_long_novel)"
   ]
  },
  {
   "cell_type": "markdown",
   "id": "human-implement",
   "metadata": {},
   "source": [
    "# Exercise: vowels, digits, and others\n",
    "\n",
    "1. Define three variables, `vowels`, `digits`, and `others`, all to be 0.\n",
    "2. Ask the user to enter a string.\n",
    "2. Go through each character in the string.\n",
    "    - If the current character is a vowel, add 1 to `vowels`\n",
    "    - If the current character is a digit, add 1 to `digits`\n",
    "    - If the current character is neither, add 1 to `others`\n",
    "3. Print each of the counters and their current values.    "
   ]
  },
  {
   "cell_type": "code",
   "execution_count": null,
   "id": "stuffed-aurora",
   "metadata": {},
   "outputs": [],
   "source": [
    "s = input('Enter a string: ').strip()\n",
    "\n",
    "for one_character in s:\n",
    "    # if...  one_character a vowel?\n",
    "\n",
    "    # elif ... is one_character a digit?\n",
    "\n",
    "    # else...\n",
    "    "
   ]
  },
  {
   "cell_type": "code",
   "execution_count": null,
   "id": "sharp-reduction",
   "metadata": {},
   "outputs": [],
   "source": [
    "x = 100\n",
    "x += 1   # this adds 1 to the variable x"
   ]
  },
  {
   "cell_type": "code",
   "execution_count": 36,
   "id": "intelligent-container",
   "metadata": {},
   "outputs": [
    {
     "name": "stdout",
     "output_type": "stream",
     "text": [
      "Enter a string: hello! 123\n",
      "h is something else\n",
      "e is a vowel\n",
      "l is something else\n",
      "l is something else\n",
      "o is a vowel\n",
      "! is something else\n",
      "  is something else\n",
      "1 is a digit\n",
      "2 is a digit\n",
      "3 is a digit\n",
      "vowels = 2\n",
      "digits = 3\n",
      "others = 5\n"
     ]
    }
   ],
   "source": [
    "# Setup\n",
    "vowels = 0\n",
    "digits = 0\n",
    "others = 0\n",
    "\n",
    "# Calculation\n",
    "s = input('Enter a string: ').strip()\n",
    "\n",
    "for one_character in s:\n",
    "    if one_character in 'aeiou':\n",
    "        print(f'{one_character} is a vowel')\n",
    "        vowels += 1\n",
    "    elif one_character.isdigit():\n",
    "        print(f'{one_character} is a digit')\n",
    "        digits += 1\n",
    "    else:\n",
    "        print(f'{one_character} is something else')\n",
    "        others += 1\n",
    "\n",
    "# Report    \n",
    "print(f'vowels = {vowels}')\n",
    "print(f'digits = {digits}')\n",
    "print(f'others = {others}')"
   ]
  },
  {
   "cell_type": "code",
   "execution_count": 37,
   "id": "pressing-receipt",
   "metadata": {},
   "outputs": [
    {
     "name": "stdout",
     "output_type": "stream",
     "text": [
      "Yay!\n",
      "Yay!\n",
      "Yay!\n"
     ]
    }
   ],
   "source": [
    "print('Yay!')\n",
    "print('Yay!')\n",
    "print('Yay!')"
   ]
  },
  {
   "cell_type": "code",
   "execution_count": 39,
   "id": "developmental-provider",
   "metadata": {},
   "outputs": [
    {
     "name": "stdout",
     "output_type": "stream",
     "text": [
      "Yay!\n",
      "Yay!\n",
      "Yay!\n"
     ]
    }
   ],
   "source": [
    "for counter in range(3):\n",
    "    print('Yay!')"
   ]
  },
  {
   "cell_type": "code",
   "execution_count": 40,
   "id": "silver-butter",
   "metadata": {},
   "outputs": [
    {
     "name": "stdout",
     "output_type": "stream",
     "text": [
      "How many numbers? 5\n",
      "0 Enter a number: 10\n",
      "1 Enter a number: 20\n",
      "2 Enter a number: 30\n",
      "3 Enter a number: 40\n",
      "4 Enter a number: 50\n",
      "total = 150\n"
     ]
    }
   ],
   "source": [
    "total = 0\n",
    "\n",
    "times_to_ask = input('How many numbers? ').strip()\n",
    "times_to_ask = int(times_to_ask)\n",
    "\n",
    "for counter in range(times_to_ask):\n",
    "    n = input(f'{counter} Enter a number: ').strip()\n",
    "    if n.isdigit():\n",
    "        total += int(n)\n",
    "        \n",
    "    else:\n",
    "        print(f'{n} is not numeric')\n",
    "        \n",
    "print(f'total = {total}')"
   ]
  },
  {
   "cell_type": "markdown",
   "id": "alpha-clearing",
   "metadata": {},
   "source": [
    "# Two different ways to use `for` loops\n",
    "\n",
    "- Iterate over a string. We get, in each iteration, one character from the string.\n",
    "- Iterate over `range(n)`, where `n` is an integer. We get, in each iteration, an integer, starting with 0 up to and not including `n`."
   ]
  },
  {
   "cell_type": "markdown",
   "id": "liable-naples",
   "metadata": {},
   "source": [
    "# `while` loops\n",
    "\n",
    "`while` loops work just like `if` statements, except that the body of the loop runs as many times as necessary, until the condition returns `False`."
   ]
  },
  {
   "cell_type": "code",
   "execution_count": 41,
   "id": "intimate-harrison",
   "metadata": {},
   "outputs": [
    {
     "name": "stdout",
     "output_type": "stream",
     "text": [
      "x = 5\n",
      "x = 4\n"
     ]
    }
   ],
   "source": [
    "x = 5\n",
    "\n",
    "if x > 0:\n",
    "    print(f'x = {x}')\n",
    "    x -= 1  # remove 1 from x\n",
    "    \n",
    "print(f'x = {x}')"
   ]
  },
  {
   "cell_type": "code",
   "execution_count": 42,
   "id": "unlikely-pound",
   "metadata": {
    "scrolled": false
   },
   "outputs": [
    {
     "name": "stdout",
     "output_type": "stream",
     "text": [
      "x = 5\n",
      "x = 4\n",
      "x = 3\n",
      "x = 2\n",
      "x = 1\n",
      "x = 0\n"
     ]
    }
   ],
   "source": [
    "x = 5\n",
    "\n",
    "while x > 0:  # so long as this is true, repeat this block of code\n",
    "    print(f'x = {x}')\n",
    "    x -= 1  # remove 1 from x\n",
    "    \n",
    "print(f'x = {x}')"
   ]
  },
  {
   "cell_type": "markdown",
   "id": "assisted-update",
   "metadata": {},
   "source": [
    "# Infinite loops"
   ]
  },
  {
   "cell_type": "code",
   "execution_count": 43,
   "id": "laden-court",
   "metadata": {},
   "outputs": [
    {
     "name": "stdout",
     "output_type": "stream",
     "text": [
      "Enter your name: Reuven\n",
      "Hello, Reuven!\n",
      "Enter your name: world\n",
      "Hello, world!\n",
      "Enter your name: someone else\n",
      "Hello, someone else!\n",
      "Enter your name: \n"
     ]
    }
   ],
   "source": [
    "while True:\n",
    "    name = input('Enter your name: ').strip()\n",
    "    \n",
    "    if name == '':   # The empty string?  Get out of the loop!\n",
    "        break   \n",
    "        \n",
    "    print(f'Hello, {name}!')"
   ]
  },
  {
   "cell_type": "code",
   "execution_count": 44,
   "id": "closing-differential",
   "metadata": {},
   "outputs": [
    {
     "name": "stdout",
     "output_type": "stream",
     "text": [
      "Enter your name:        \n",
      "Hello,        !\n",
      "Enter your name: \n"
     ]
    }
   ],
   "source": [
    "while True:\n",
    "    name = input('Enter your name: ')\n",
    "    \n",
    "    if name == '':   # The empty string?  Get out of the loop!\n",
    "        break   \n",
    "        \n",
    "    print(f'Hello, {name}!')"
   ]
  },
  {
   "cell_type": "markdown",
   "id": "destroyed-coverage",
   "metadata": {},
   "source": [
    "# Exercise: Sum numbers\n",
    "\n",
    "1. Assign `total` the value 0.\n",
    "2. Use an infinite loop (i.e., `while True`) to ask the user to enter a string.\n",
    "    - If we get an empty string, break from the loop and print the total\n",
    "    - If we get something numeric (i.e., `isdigit`), then turn into a number and add to `total`\n",
    "    - If we get something non-numeric (i.e., `not isdigit`), then scold the user and go back.\n",
    "    \n",
    "Example:\n",
    "\n",
    "    Enter a number: 10\n",
    "    Enter a number: 20\n",
    "    Enter a number: abcde\n",
    "        abcde is not a number!\n",
    "    Enter a number: 30\n",
    "    Enter a number: [ENTER]\n",
    "    Total is 60"
   ]
  },
  {
   "cell_type": "code",
   "execution_count": 46,
   "id": "better-november",
   "metadata": {},
   "outputs": [
    {
     "name": "stdout",
     "output_type": "stream",
     "text": [
      "Enter a number: 10\n",
      "Enter a number: abcd\n",
      "abcd is not numeric\n",
      "Enter a number: 20\n",
      "Enter a number: 30\n",
      "Enter a number: \n",
      "total = 60\n"
     ]
    }
   ],
   "source": [
    "total = 0\n",
    "\n",
    "while True:\n",
    "    s = input('Enter a number: ').strip()\n",
    "    \n",
    "    if s == '':\n",
    "        break     # did we get empty input from the user? Leave the \"while\" loop!\n",
    "        \n",
    "    if s.isdigit():\n",
    "        total += int(s)\n",
    "        \n",
    "    else:\n",
    "        print(f'{s} is not numeric')\n",
    "        \n",
    "print(f'total = {total}')"
   ]
  },
  {
   "cell_type": "markdown",
   "id": "interesting-diving",
   "metadata": {},
   "source": [
    "# What can we do with strings?\n",
    "\n",
    "1. Retrieve one element with `[i]`, where `i` is an index\n",
    "    - First element is at index 0\n",
    "    - Final element is at index `len(s) - 1`\n",
    "2. Get the length with `len(s)`\n",
    "3. Get a slice using the syntax `[start:end]`\n",
    "4. Search in a string using `in`\n",
    "5. Iterate over the string using a `for` loop\n",
    "6. Many string methods"
   ]
  },
  {
   "cell_type": "markdown",
   "id": "structural-dublin",
   "metadata": {},
   "source": [
    "# Data structure: Lists\n",
    "\n",
    "A list is a container for other objects. It can contain any number of other objects, and of any type.  You can even mix types of objects within a list, although it's traditional not to do this."
   ]
  },
  {
   "cell_type": "code",
   "execution_count": 47,
   "id": "english-strand",
   "metadata": {},
   "outputs": [],
   "source": [
    "# Create a list using []\n",
    "\n",
    "# empty list\n",
    "mylist = []\n",
    "\n",
    "# list with integers\n",
    "mylist = [10, 20, 30]   # commas between elements\n",
    "\n",
    "# list of strings\n",
    "mylist = ['abcd', 'efghi', 'jk']"
   ]
  },
  {
   "cell_type": "code",
   "execution_count": 48,
   "id": "manufactured-plaza",
   "metadata": {},
   "outputs": [],
   "source": [
    "mylist = [10, 20, 30, 40, 50, 60, 70, 80, 90, 100]"
   ]
  },
  {
   "cell_type": "code",
   "execution_count": 49,
   "id": "brutal-palace",
   "metadata": {},
   "outputs": [
    {
     "data": {
      "text/plain": [
       "10"
      ]
     },
     "execution_count": 49,
     "metadata": {},
     "output_type": "execute_result"
    }
   ],
   "source": [
    "# 1. Retrieve one element with `[i]`, where `i` is an index\n",
    "#     - First element is at index 0\n",
    "#     - Final element is at index `len(s) - 1`\n",
    "\n",
    "mylist[0]"
   ]
  },
  {
   "cell_type": "code",
   "execution_count": 50,
   "id": "given-companion",
   "metadata": {},
   "outputs": [
    {
     "data": {
      "text/plain": [
       "60"
      ]
     },
     "execution_count": 50,
     "metadata": {},
     "output_type": "execute_result"
    }
   ],
   "source": [
    "mylist[5]"
   ]
  },
  {
   "cell_type": "code",
   "execution_count": 51,
   "id": "cellular-advocate",
   "metadata": {},
   "outputs": [
    {
     "data": {
      "text/plain": [
       "100"
      ]
     },
     "execution_count": 51,
     "metadata": {},
     "output_type": "execute_result"
    }
   ],
   "source": [
    "mylist[len(mylist) - 1]"
   ]
  },
  {
   "cell_type": "code",
   "execution_count": 52,
   "id": "instant-costa",
   "metadata": {},
   "outputs": [
    {
     "data": {
      "text/plain": [
       "100"
      ]
     },
     "execution_count": 52,
     "metadata": {},
     "output_type": "execute_result"
    }
   ],
   "source": [
    "mylist[-1]"
   ]
  },
  {
   "cell_type": "code",
   "execution_count": 53,
   "id": "excess-edgar",
   "metadata": {},
   "outputs": [
    {
     "data": {
      "text/plain": [
       "10"
      ]
     },
     "execution_count": 53,
     "metadata": {},
     "output_type": "execute_result"
    }
   ],
   "source": [
    "# 2. Get the length with `len(s)`\n",
    "len(mylist)"
   ]
  },
  {
   "cell_type": "code",
   "execution_count": 54,
   "id": "biblical-springfield",
   "metadata": {},
   "outputs": [
    {
     "data": {
      "text/plain": [
       "[30, 40, 50, 60, 70, 80]"
      ]
     },
     "execution_count": 54,
     "metadata": {},
     "output_type": "execute_result"
    }
   ],
   "source": [
    "# 3. Get a slice using the syntax `[start:end]`\n",
    "mylist[2:8]  # from index 2 until (not including) index 8"
   ]
  },
  {
   "cell_type": "code",
   "execution_count": 55,
   "id": "ahead-public",
   "metadata": {},
   "outputs": [
    {
     "data": {
      "text/plain": [
       "True"
      ]
     },
     "execution_count": 55,
     "metadata": {},
     "output_type": "execute_result"
    }
   ],
   "source": [
    "# 4. Search in a string using `in`\n",
    "40 in mylist"
   ]
  },
  {
   "cell_type": "code",
   "execution_count": 56,
   "id": "invalid-saint",
   "metadata": {
    "scrolled": true
   },
   "outputs": [
    {
     "name": "stdout",
     "output_type": "stream",
     "text": [
      "10\n",
      "20\n",
      "30\n",
      "40\n",
      "50\n",
      "60\n",
      "70\n",
      "80\n",
      "90\n",
      "100\n"
     ]
    }
   ],
   "source": [
    "# 5. Iterate over the string using a `for` loop\n",
    "for one_item in mylist:\n",
    "    print(one_item)"
   ]
  },
  {
   "cell_type": "markdown",
   "id": "instrumental-depression",
   "metadata": {},
   "source": [
    "# Exercise: Basic list retrieval\n",
    "\n",
    "1. Define a list containing 10 integers.\n",
    "2. Ask the user to enter two integers, called `first_i` and `second_i`.\n",
    "3. Retrieve the elements at indexes `first_i` and `second_i`, and add them.\n",
    "4. Print the entire expression, including the sum.\n",
    "\n",
    "Example:\n",
    "\n",
    "    Enter first index: 3\n",
    "    Enter second index: 5\n",
    "\n",
    "    At index 3, we have 40\n",
    "    At index 5, we have 60\n",
    "\n",
    "    40 + 60 = 100"
   ]
  },
  {
   "cell_type": "markdown",
   "id": "generic-moore",
   "metadata": {},
   "source": [
    "# Strategy\n",
    "\n",
    "1. Create a list.  You'll always have square brackets (`[ ]`), and as many elements as you want, separated by commas.  You'll need to assign it to a variable.\n",
    "2. Use `input` to assign values to `first_i` and `second_i`.\n",
    "    - These will be strings\n",
    "    - Use `int` to convert them\n",
    "    - You can check if they're int-able, but don't worry too much.\n",
    "3. Use these two variables (`first_i` and `second_i`) to retrieve items from the list\n",
    "    - You can retrieve from the list using `mylist[first_i]` and `mylist[second_i]`\n",
    "    - Put these retrieved numbers into variables\n",
    "4. Use an f-string to print them out\n"
   ]
  },
  {
   "cell_type": "code",
   "execution_count": 58,
   "id": "ideal-porter",
   "metadata": {},
   "outputs": [
    {
     "name": "stderr",
     "output_type": "stream",
     "text": [
      "\n",
      "Traceback (most recent call last):\n",
      "  File \"<ipython-input-58>\", line 1\n",
      "    [10, 20 30, 40]\n",
      "            ^\n",
      "SyntaxError: invalid syntax\n",
      "\n",
      "        Did you forget something between `20` and `30`?\n",
      "        \n"
     ]
    }
   ],
   "source": [
    "[10, 20 30, 40]"
   ]
  },
  {
   "cell_type": "code",
   "execution_count": null,
   "id": "adaptive-metabolism",
   "metadata": {},
   "outputs": [],
   "source": [
    "my_list = [10,10,20,20,30,40]\n",
    "\n",
    "first_index = input(\"Enter first index: \")\n",
    "first_index = int(first_index)+1\n",
    "\n",
    "second_index = input(\"Enter Second index: \")\n",
    "second_index = int(second_index)+1\n",
    "\n",
    "l_my_list = len(my_list) + 1\n",
    "\n",
    "if l_my_list >= first_index and l_my_list >= second_index:\n",
    "    for i in my_list:\n",
    "        print(i[first_index])\n",
    "        print(i[second_index])\n",
    "        #print(f'{i[first_index]+i[second_index]}')\n",
    "else:\n",
    "    print(\"index valuue is out of value\")\n"
   ]
  },
  {
   "cell_type": "code",
   "execution_count": 59,
   "id": "duplicate-housing",
   "metadata": {},
   "outputs": [
    {
     "data": {
      "text/plain": [
       "20"
      ]
     },
     "execution_count": 59,
     "metadata": {},
     "output_type": "execute_result"
    }
   ],
   "source": [
    "#         0   1  2  3  4  5\n",
    "mylist = [10,10,20,20,30,40]\n",
    "\n",
    "mylist[3]   # give me the element at index 3"
   ]
  },
  {
   "cell_type": "code",
   "execution_count": 60,
   "id": "isolated-writing",
   "metadata": {},
   "outputs": [
    {
     "data": {
      "text/plain": [
       "40"
      ]
     },
     "execution_count": 60,
     "metadata": {},
     "output_type": "execute_result"
    }
   ],
   "source": [
    "mylist[5]"
   ]
  },
  {
   "cell_type": "markdown",
   "id": "regulation-vault",
   "metadata": {},
   "source": [
    "# Where is there a difference of 1?\n",
    "\n",
    "1. Between the max index and the length. `len(thing)` will always be 1 more than the highest index of `thing`.\n",
    "    - The string `abcde` has a max index of 4, but a len of 5.\n",
    "    - The list `[10, 30, 30]` has a max index of 2, but a len of 3.\n",
    "2. Also, in slices -- the end index is 1 more than we actually get.\n",
    "    - In the string `abcde`, the slice `[1:3]` will be from index 1 until (and not including) index 3, which means `bc`."
   ]
  },
  {
   "cell_type": "code",
   "execution_count": 62,
   "id": "cellular-shore",
   "metadata": {},
   "outputs": [
    {
     "name": "stdout",
     "output_type": "stream",
     "text": [
      "Enter first index: 3\n",
      "Enter Second index: 5\n",
      "20 + 40 = 60\n"
     ]
    }
   ],
   "source": [
    "#         0   1  2  3  4  5\n",
    "mylist = [10,10,20,20,30,40]\n",
    "\n",
    "first_i = input(\"Enter first index: \")\n",
    "first_i = int(first_i)\n",
    "\n",
    "second_i = input(\"Enter Second index: \")\n",
    "second_i = int(second_i)\n",
    "\n",
    "first_value = mylist[first_i]\n",
    "second_value = mylist[second_i]\n",
    "\n",
    "total = first_value + second_value\n",
    "\n",
    "print(f'{first_value} + {second_value} = {total}')"
   ]
  },
  {
   "cell_type": "code",
   "execution_count": 63,
   "id": "junior-script",
   "metadata": {},
   "outputs": [
    {
     "data": {
      "text/plain": [
       "3"
      ]
     },
     "execution_count": 63,
     "metadata": {},
     "output_type": "execute_result"
    }
   ],
   "source": [
    "mylist = [10, 20, 30]\n",
    "len(mylist)"
   ]
  },
  {
   "cell_type": "code",
   "execution_count": 64,
   "id": "prospective-pitch",
   "metadata": {},
   "outputs": [
    {
     "data": {
      "text/plain": [
       "30"
      ]
     },
     "execution_count": 64,
     "metadata": {},
     "output_type": "execute_result"
    }
   ],
   "source": [
    "mylist[2]"
   ]
  },
  {
   "cell_type": "code",
   "execution_count": 65,
   "id": "increasing-placement",
   "metadata": {},
   "outputs": [
    {
     "data": {
      "text/plain": [
       "[10, 20, 30]"
      ]
     },
     "execution_count": 65,
     "metadata": {},
     "output_type": "execute_result"
    }
   ],
   "source": [
    "# I can add new elements to a list, too!\n",
    "# I can also modify existing list elements\n",
    "# Because lists are MUTABLE -- they can be changed!\n",
    "\n",
    "mylist"
   ]
  },
  {
   "cell_type": "code",
   "execution_count": 66,
   "id": "changing-stomach",
   "metadata": {},
   "outputs": [
    {
     "data": {
      "text/plain": [
       "[9999, 20, 30]"
      ]
     },
     "execution_count": 66,
     "metadata": {},
     "output_type": "execute_result"
    }
   ],
   "source": [
    "mylist[0] = 9999\n",
    "mylist"
   ]
  },
  {
   "cell_type": "code",
   "execution_count": 67,
   "id": "electrical-hostel",
   "metadata": {},
   "outputs": [
    {
     "data": {
      "text/plain": [
       "[9999, 20, 30, 40]"
      ]
     },
     "execution_count": 67,
     "metadata": {},
     "output_type": "execute_result"
    }
   ],
   "source": [
    "mylist.append(40)  # this adds 40 to the end of mylist\n",
    "mylist"
   ]
  },
  {
   "cell_type": "code",
   "execution_count": 68,
   "id": "addressed-teach",
   "metadata": {},
   "outputs": [
    {
     "data": {
      "text/plain": [
       "[9999, 20, 30, 40, 50]"
      ]
     },
     "execution_count": 68,
     "metadata": {},
     "output_type": "execute_result"
    }
   ],
   "source": [
    "mylist.append(50)\n",
    "mylist"
   ]
  },
  {
   "cell_type": "code",
   "execution_count": 69,
   "id": "active-anxiety",
   "metadata": {},
   "outputs": [
    {
     "data": {
      "text/plain": [
       "[9999, 20, 30, 40, 50, 'abcde']"
      ]
     },
     "execution_count": 69,
     "metadata": {},
     "output_type": "execute_result"
    }
   ],
   "source": [
    "mylist.append('abcde')\n",
    "mylist"
   ]
  },
  {
   "cell_type": "code",
   "execution_count": 70,
   "id": "accessible-capacity",
   "metadata": {},
   "outputs": [
    {
     "data": {
      "text/plain": [
       "[9999, 20, 30, 40, 50, 'abcde', [100, 200, 300]]"
      ]
     },
     "execution_count": 70,
     "metadata": {},
     "output_type": "execute_result"
    }
   ],
   "source": [
    "mylist.append([100, 200, 300])\n",
    "mylist"
   ]
  },
  {
   "cell_type": "code",
   "execution_count": 71,
   "id": "prerequisite-grain",
   "metadata": {},
   "outputs": [
    {
     "data": {
      "text/plain": [
       "0"
      ]
     },
     "execution_count": 71,
     "metadata": {},
     "output_type": "execute_result"
    }
   ],
   "source": [
    "# the modulus operator, %\n",
    "# it means: divide, and return the remainder\n",
    "\n",
    "10 % 2 #  == 0"
   ]
  },
  {
   "cell_type": "code",
   "execution_count": 72,
   "id": "amber-pricing",
   "metadata": {},
   "outputs": [
    {
     "data": {
      "text/plain": [
       "3"
      ]
     },
     "execution_count": 72,
     "metadata": {},
     "output_type": "execute_result"
    }
   ],
   "source": [
    "15 % 4  # 15/4, what's the remainder?"
   ]
  },
  {
   "cell_type": "code",
   "execution_count": 73,
   "id": "corrected-logan",
   "metadata": {},
   "outputs": [
    {
     "data": {
      "text/plain": [
       "2"
      ]
     },
     "execution_count": 73,
     "metadata": {},
     "output_type": "execute_result"
    }
   ],
   "source": [
    "20 % 9  # 20 / 9, what's the remainder?"
   ]
  },
  {
   "cell_type": "code",
   "execution_count": 74,
   "id": "matched-shift",
   "metadata": {},
   "outputs": [
    {
     "data": {
      "text/plain": [
       "0"
      ]
     },
     "execution_count": 74,
     "metadata": {},
     "output_type": "execute_result"
    }
   ],
   "source": [
    "# if I want to know whether a number is even or odd, \n",
    "# I can use % 2\n",
    "\n",
    "10 % 2  # this is 0, so it's even"
   ]
  },
  {
   "cell_type": "code",
   "execution_count": 75,
   "id": "victorian-germany",
   "metadata": {},
   "outputs": [
    {
     "data": {
      "text/plain": [
       "1"
      ]
     },
     "execution_count": 75,
     "metadata": {},
     "output_type": "execute_result"
    }
   ],
   "source": [
    "11 % 2   # this is 1, so it's odd"
   ]
  },
  {
   "cell_type": "code",
   "execution_count": null,
   "id": "former-fever",
   "metadata": {},
   "outputs": [],
   "source": []
  },
  {
   "cell_type": "markdown",
   "id": "utility-roommate",
   "metadata": {},
   "source": [
    "# Exercise: evens and odds\n",
    "\n",
    "1. Define two empty lists, `evens` and `odds`.\n",
    "2. Ask the user repeatedly (in a `while True` loop) to enter a number, and store it in `s`.\n",
    "    - If you get an empty string (`if s == ''`), stop asking -- `break` from the loop\n",
    "    - If you get something for which `s.isdigit()` returns `True`, then \n",
    "        - turn it into an integer with `int()` \n",
    "        - check if it's even or odd\n",
    "            - If it's even, append to `evens`\n",
    "            - If it's odd, append to `odds`\n",
    "    - If you get a non-number, scold the user\n",
    "3. Print `evens` and `odds`\n",
    "\n",
    "Example:\n",
    "\n",
    "      Enter a number: 10\n",
    "      Enter a number: 11\n",
    "      Enter a number: abcd\n",
    "          Not a number!\n",
    "      Enter a number: 15\n",
    "      Enter a number: [ENTER]\n",
    "      \n",
    "      evens: [10]\n",
    "      odds: [11, 15]"
   ]
  },
  {
   "cell_type": "code",
   "execution_count": 83,
   "id": "subject-mileage",
   "metadata": {},
   "outputs": [
    {
     "name": "stdout",
     "output_type": "stream",
     "text": [
      "Enter a number: 10\n",
      "Enter a number: 11\n",
      "Enter a number: 15\n",
      "Enter a number: 16\n",
      "Enter a number: \n",
      "odds = [11, 15]\n",
      "evens = [10, 16]\n"
     ]
    }
   ],
   "source": [
    "# setup\n",
    "evens = []\n",
    "odds = []\n",
    "\n",
    "# calculation\n",
    "while True:\n",
    "\n",
    "    s = input('Enter a number: ').strip()\n",
    "\n",
    "    if s == '':   # if we got an empty string, stop asking\n",
    "        break\n",
    "    \n",
    "    if s.isdigit():\n",
    "        s = int(s)\n",
    "\n",
    "        if s % 2 == 1:    # if it's odd, add to \"odds\"\n",
    "            odds.append(s)\n",
    "        else:             # if it's even, add to \"evens\"\n",
    "            evens.append(s)\n",
    "\n",
    "    else:\n",
    "        print(f'{s} is not numeric')\n",
    "\n",
    "# report\n",
    "print(f'odds = {odds}')\n",
    "print(f'evens = {evens}')"
   ]
  },
  {
   "cell_type": "code",
   "execution_count": 80,
   "id": "alpha-cornwall",
   "metadata": {},
   "outputs": [
    {
     "data": {
      "text/plain": [
       "[10, 12, 16]"
      ]
     },
     "execution_count": 80,
     "metadata": {},
     "output_type": "execute_result"
    }
   ],
   "source": [
    "evens"
   ]
  },
  {
   "cell_type": "code",
   "execution_count": 81,
   "id": "resistant-separate",
   "metadata": {},
   "outputs": [
    {
     "data": {
      "text/plain": [
       "[11, 15]"
      ]
     },
     "execution_count": 81,
     "metadata": {},
     "output_type": "execute_result"
    }
   ],
   "source": [
    "odds"
   ]
  },
  {
   "cell_type": "code",
   "execution_count": null,
   "id": "infinite-seven",
   "metadata": {},
   "outputs": [],
   "source": []
  }
 ],
 "metadata": {
  "kernelspec": {
   "display_name": "Python 3",
   "language": "python",
   "name": "python3"
  },
  "language_info": {
   "codemirror_mode": {
    "name": "ipython",
    "version": 3
   },
   "file_extension": ".py",
   "mimetype": "text/x-python",
   "name": "python",
   "nbconvert_exporter": "python",
   "pygments_lexer": "ipython3",
   "version": "3.8.6"
  }
 },
 "nbformat": 4,
 "nbformat_minor": 5
}
