{
 "cells": [
  {
   "cell_type": "code",
   "execution_count": 1,
   "id": "painted-lingerie",
   "metadata": {},
   "outputs": [
    {
     "name": "stdout",
     "output_type": "stream",
     "text": [
      "Friendly-traceback installed.\n"
     ]
    }
   ],
   "source": [
    "from friendly_traceback.ipython import *"
   ]
  },
  {
   "cell_type": "markdown",
   "id": "downtown-pierre",
   "metadata": {},
   "source": [
    "# Agenda\n",
    "\n",
    "1. Talk about `str.split` and `str.join`\n",
    "2. Dictionaries\n",
    "3. Files\n",
    "4. PyCharm"
   ]
  },
  {
   "cell_type": "markdown",
   "id": "brief-shipping",
   "metadata": {},
   "source": [
    "If I have data d of type X and I want data of type Y, I can just say\n",
    "\n",
    "`Y(d)`   # give me a new piece of Y data, based on d"
   ]
  },
  {
   "cell_type": "code",
   "execution_count": 2,
   "id": "informative-coverage",
   "metadata": {},
   "outputs": [
    {
     "data": {
      "text/plain": [
       "12345"
      ]
     },
     "execution_count": 2,
     "metadata": {},
     "output_type": "execute_result"
    }
   ],
   "source": [
    "int('12345')  # we're getting an int based on a string"
   ]
  },
  {
   "cell_type": "code",
   "execution_count": 3,
   "id": "alpha-comfort",
   "metadata": {},
   "outputs": [
    {
     "data": {
      "text/plain": [
       "'2468'"
      ]
     },
     "execution_count": 3,
     "metadata": {},
     "output_type": "execute_result"
    }
   ],
   "source": [
    "str(2468) # getting a string based on an int"
   ]
  },
  {
   "cell_type": "code",
   "execution_count": null,
   "id": "serial-capture",
   "metadata": {},
   "outputs": [],
   "source": [
    "# to move from string to list, we can use \"list\"\n",
    "list('')"
   ]
  }
 ],
 "metadata": {
  "kernelspec": {
   "display_name": "Python 3",
   "language": "python",
   "name": "python3"
  },
  "language_info": {
   "codemirror_mode": {
    "name": "ipython",
    "version": 3
   },
   "file_extension": ".py",
   "mimetype": "text/x-python",
   "name": "python",
   "nbconvert_exporter": "python",
   "pygments_lexer": "ipython3",
   "version": "3.8.6"
  }
 },
 "nbformat": 4,
 "nbformat_minor": 5
}
