{
 "cells": [
  {
   "cell_type": "code",
   "execution_count": 1,
   "id": "random-shame",
   "metadata": {},
   "outputs": [
    {
     "name": "stdout",
     "output_type": "stream",
     "text": [
      "Friendly-traceback installed.\n"
     ]
    }
   ],
   "source": [
    "from friendly_traceback.ipython import *"
   ]
  },
  {
   "cell_type": "markdown",
   "id": "rubber-committee",
   "metadata": {},
   "source": [
    "# Agenda\n",
    "\n",
    "1. Talk about `str.split` and `str.join`\n",
    "2. Dictionaries\n",
    "3. Files\n",
    "4. PyCharm"
   ]
  },
  {
   "cell_type": "markdown",
   "id": "anonymous-warren",
   "metadata": {},
   "source": [
    "If I have data d of type X and I want data of type Y, I can just say\n",
    "\n",
    "`Y(d)`   # give me a new piece of Y data, based on d"
   ]
  },
  {
   "cell_type": "code",
   "execution_count": 2,
   "id": "secret-roller",
   "metadata": {},
   "outputs": [
    {
     "data": {
      "text/plain": [
       "12345"
      ]
     },
     "execution_count": 2,
     "metadata": {},
     "output_type": "execute_result"
    }
   ],
   "source": [
    "int('12345')  # we're getting an int based on a string"
   ]
  },
  {
   "cell_type": "code",
   "execution_count": 3,
   "id": "colonial-intersection",
   "metadata": {},
   "outputs": [
    {
     "data": {
      "text/plain": [
       "'2468'"
      ]
     },
     "execution_count": 3,
     "metadata": {},
     "output_type": "execute_result"
    }
   ],
   "source": [
    "str(2468) # getting a string based on an int"
   ]
  },
  {
   "cell_type": "code",
   "execution_count": 4,
   "id": "responsible-horizontal",
   "metadata": {},
   "outputs": [
    {
     "data": {
      "text/plain": [
       "['a', 'b', 'c', 'd', 'e']"
      ]
     },
     "execution_count": 4,
     "metadata": {},
     "output_type": "execute_result"
    }
   ],
   "source": [
    "# to move from string to list, we can use \"list\"\n",
    "list('abcde')"
   ]
  },
  {
   "cell_type": "code",
   "execution_count": 5,
   "id": "marine-bristol",
   "metadata": {},
   "outputs": [
    {
     "data": {
      "text/plain": [
       "'[10, 20, 30]'"
      ]
     },
     "execution_count": 5,
     "metadata": {},
     "output_type": "execute_result"
    }
   ],
   "source": [
    "# to move from list to string, we can use \"str\"\n",
    "mylist = [10, 20, 30]\n",
    "str(mylist)"
   ]
  },
  {
   "cell_type": "code",
   "execution_count": 7,
   "id": "removable-portal",
   "metadata": {},
   "outputs": [
    {
     "data": {
      "text/plain": [
       "['firstname', 'lastname', 'age']"
      ]
     },
     "execution_count": 7,
     "metadata": {},
     "output_type": "execute_result"
    }
   ],
   "source": [
    "# but sometimes, we want to move from list->string and string->list differently\n",
    "\n",
    "record = 'firstname|lastname|age'\n",
    "\n",
    "# how can I turn this into a list, with each element being a different field of the record?\n",
    "\n",
    "# I can use the \"str.split\" method (the split method for strings)\n",
    "\n",
    "record.split('|')  # return a list of strings, whose elements are from record, separated by |"
   ]
  },
  {
   "cell_type": "code",
   "execution_count": 8,
   "id": "monthly-butterfly",
   "metadata": {},
   "outputs": [
    {
     "data": {
      "text/plain": [
       "['This', 'is', 'a', 'bunch', 'of', 'words']"
      ]
     },
     "execution_count": 8,
     "metadata": {},
     "output_type": "execute_result"
    }
   ],
   "source": [
    "words = 'This is a bunch of words'\n",
    "words.split(' ')"
   ]
  },
  {
   "cell_type": "code",
   "execution_count": 9,
   "id": "interpreted-superintendent",
   "metadata": {},
   "outputs": [
    {
     "data": {
      "text/plain": [
       "['This', '', '', 'is', 'a', 'bunch', '', 'of', '', '', '', 'words']"
      ]
     },
     "execution_count": 9,
     "metadata": {},
     "output_type": "execute_result"
    }
   ],
   "source": [
    "words = 'This   is a bunch  of    words'\n",
    "words.split(' ')"
   ]
  },
  {
   "cell_type": "code",
   "execution_count": 10,
   "id": "local-people",
   "metadata": {},
   "outputs": [
    {
     "data": {
      "text/plain": [
       "['This', 'is', 'a', 'bunch', 'of', 'words']"
      ]
     },
     "execution_count": 10,
     "metadata": {},
     "output_type": "execute_result"
    }
   ],
   "source": [
    "words = 'This   is a bunch  of    words'\n",
    "words.split()  # no argument at all -- meaning, all whitespace, any length"
   ]
  },
  {
   "cell_type": "code",
   "execution_count": 11,
   "id": "chicken-garlic",
   "metadata": {},
   "outputs": [
    {
     "data": {
      "text/plain": [
       "'This   is a bunch  of    words'"
      ]
     },
     "execution_count": 11,
     "metadata": {},
     "output_type": "execute_result"
    }
   ],
   "source": [
    "words"
   ]
  },
  {
   "cell_type": "code",
   "execution_count": 12,
   "id": "another-dubai",
   "metadata": {},
   "outputs": [
    {
     "data": {
      "text/plain": [
       "['This', 'is', 'a', 'bunch', 'of', 'words']"
      ]
     },
     "execution_count": 12,
     "metadata": {},
     "output_type": "execute_result"
    }
   ],
   "source": [
    "# str.split takes a string, and returns a list of strings\n",
    "# str.join takes a list of strings, and returns one string\n",
    "\n",
    "words = words.split()  # now, \"words\" is a list of strings\n",
    "words"
   ]
  },
  {
   "cell_type": "code",
   "execution_count": 13,
   "id": "personal-consideration",
   "metadata": {},
   "outputs": [
    {
     "data": {
      "text/plain": [
       "'This*is*a*bunch*of*words'"
      ]
     },
     "execution_count": 13,
     "metadata": {},
     "output_type": "execute_result"
    }
   ],
   "source": [
    "# I can use str.join to get a new string back!\n",
    "# the string used in str.join is the \"glue\" put between elements of the list\n",
    "\n",
    "# glue.join(list_of_strings)\n",
    "'*'.join(words)"
   ]
  },
  {
   "cell_type": "code",
   "execution_count": 14,
   "id": "direct-liberty",
   "metadata": {},
   "outputs": [
    {
     "data": {
      "text/plain": [
       "['This', 'is', 'a', 'bunch', 'of', 'words']"
      ]
     },
     "execution_count": 14,
     "metadata": {},
     "output_type": "execute_result"
    }
   ],
   "source": [
    "words"
   ]
  },
  {
   "cell_type": "code",
   "execution_count": 15,
   "id": "failing-favor",
   "metadata": {},
   "outputs": [
    {
     "data": {
      "text/plain": [
       "'This is a bunch of words'"
      ]
     },
     "execution_count": 15,
     "metadata": {},
     "output_type": "execute_result"
    }
   ],
   "source": [
    "' '.join(words)"
   ]
  },
  {
   "cell_type": "code",
   "execution_count": 18,
   "id": "color-trader",
   "metadata": {},
   "outputs": [
    {
     "data": {
      "text/plain": [
       "' *T*h*i*s* * * * *i*s* *t*h*e* *b*u*n*c*h* *o*f* *w*w*o*r*d*s*s*s*s*s*s'"
      ]
     },
     "execution_count": 18,
     "metadata": {},
     "output_type": "execute_result"
    }
   ],
   "source": [
    "words = ' This    is the bunch of wwordssssss'\n",
    "'*'.join(words)  # argument is an iterable of strings -- a string!"
   ]
  },
  {
   "cell_type": "code",
   "execution_count": 19,
   "id": "instrumental-shipping",
   "metadata": {},
   "outputs": [
    {
     "data": {
      "text/plain": [
       "'This*is*the*bunch*of*wwordssssss'"
      ]
     },
     "execution_count": 19,
     "metadata": {},
     "output_type": "execute_result"
    }
   ],
   "source": [
    "'*'.join(words.split())  # argument is a list of strings"
   ]
  },
  {
   "cell_type": "code",
   "execution_count": null,
   "id": "immune-passage",
   "metadata": {},
   "outputs": [],
   "source": []
  },
  {
   "cell_type": "markdown",
   "id": "joint-glory",
   "metadata": {},
   "source": [
    "# Exercise: Pig Latin a sentence\n",
    "\n",
    "1. Ask the user to enter a sentence in English (no capitals, no punctuation)\n",
    "2. Translate the sentence into Pig Latin, printing the translation on a single line\n",
    "\n",
    "For now: \n",
    "1. Ask the user to enter a sentence\n",
    "2. Turn the sentence into a list of strings, using `str.split`\n",
    "3. Go through the words in the sentence, one at a time, and print them *translated into Pig Latin*"
   ]
  },
  {
   "cell_type": "code",
   "execution_count": 22,
   "id": "amended-moore",
   "metadata": {},
   "outputs": [
    {
     "name": "stdout",
     "output_type": "stream",
     "text": [
      "Enter a sentence: this is a test\n",
      "this\n",
      "is\n",
      "a\n",
      "test\n"
     ]
    }
   ],
   "source": [
    "sentence = input('Enter a sentence: ')\n",
    "\n",
    "words = sentence.split()   # no argument means: any whitespace is a separator\n",
    "\n",
    "for word in words:\n",
    "    print(word)"
   ]
  },
  {
   "cell_type": "code",
   "execution_count": 23,
   "id": "southeast-franklin",
   "metadata": {},
   "outputs": [
    {
     "name": "stdout",
     "output_type": "stream",
     "text": [
      "Enter a word: adsfa\n",
      "adsfaway\n"
     ]
    }
   ],
   "source": [
    "word = input('Enter a word: ')\n",
    "\n",
    "if word[0] in 'aeiou':\n",
    "    print(word + 'way')\n",
    "else:\n",
    "    print(word[1:] + word[0] + 'ay')"
   ]
  },
  {
   "cell_type": "code",
   "execution_count": 24,
   "id": "interested-fluid",
   "metadata": {},
   "outputs": [
    {
     "name": "stdout",
     "output_type": "stream",
     "text": [
      "Enter a sentence: this is a test\n",
      "histay\n",
      "isway\n",
      "away\n",
      "esttay\n"
     ]
    }
   ],
   "source": [
    "sentence = input('Enter a sentence: ')\n",
    "\n",
    "words = sentence.split()   # no argument means: any whitespace is a separator\n",
    "\n",
    "for word in words:\n",
    "    if word[0] in 'aeiou':\n",
    "        print(word + 'way')\n",
    "    else:\n",
    "        print(word[1:] + word[0] + 'ay')"
   ]
  },
  {
   "cell_type": "markdown",
   "id": "animated-longitude",
   "metadata": {},
   "source": [
    "# Exercise: Pig Latin sentence, part 3\n",
    "\n",
    "1. Create an empty list, and assign it to `output`.\n",
    "2. In our `for` loop, when we're translating words into Pig Latin, we're *not* going to print them on the screen.  Rather, we'll use `list.append` to add the translation to the end of the `output` list.\n"
   ]
  },
  {
   "cell_type": "code",
   "execution_count": 25,
   "id": "flying-singer",
   "metadata": {},
   "outputs": [],
   "source": [
    "mylist = [10, 20, 30]\n",
    "mylist.append(40)   # append adds the item to the end of the list\n",
    "mylist.append(50)  "
   ]
  },
  {
   "cell_type": "code",
   "execution_count": 26,
   "id": "timely-terminology",
   "metadata": {},
   "outputs": [
    {
     "data": {
      "text/plain": [
       "[10, 20, 30, 40, 50]"
      ]
     },
     "execution_count": 26,
     "metadata": {},
     "output_type": "execute_result"
    }
   ],
   "source": [
    "mylist"
   ]
  },
  {
   "cell_type": "code",
   "execution_count": 27,
   "id": "employed-ecology",
   "metadata": {},
   "outputs": [
    {
     "data": {
      "text/plain": [
       "[10, 20]"
      ]
     },
     "execution_count": 27,
     "metadata": {},
     "output_type": "execute_result"
    }
   ],
   "source": [
    "mylist = []\n",
    "mylist.append(10)\n",
    "mylist.append(20)\n",
    "\n",
    "mylist"
   ]
  },
  {
   "cell_type": "code",
   "execution_count": 29,
   "id": "retired-domain",
   "metadata": {},
   "outputs": [
    {
     "name": "stdout",
     "output_type": "stream",
     "text": [
      "Enter a sentence: this is a test\n"
     ]
    },
    {
     "data": {
      "text/plain": [
       "['histay', 'isway', 'away', 'esttay']"
      ]
     },
     "execution_count": 29,
     "metadata": {},
     "output_type": "execute_result"
    }
   ],
   "source": [
    "output = []\n",
    "\n",
    "sentence = input('Enter a sentence: ')\n",
    "\n",
    "words = sentence.split()   # no argument means: any whitespace is a separator\n",
    "\n",
    "for word in words:\n",
    "    if word[0] in 'aeiou':\n",
    "        output.append(word + 'way') \n",
    "    else:\n",
    "        output.append(word[1:] + word[0] + 'ay')  \n",
    "        \n",
    "output"
   ]
  },
  {
   "cell_type": "markdown",
   "id": "fitted-belief",
   "metadata": {},
   "source": [
    "# Exercise: Pig Latin sentence, part 4\n",
    "\n",
    "Instead of just displaying/returning `output`, turn it into a string, and print that out.\n",
    "\n",
    "Remember: The `str.join` method:\n",
    "- Runs on a string, the \"glue\"\n",
    "- The argument (in parentheses) is a list of strings/words to join together\n",
    "- The method returns a string"
   ]
  },
  {
   "cell_type": "code",
   "execution_count": 31,
   "id": "elementary-rental",
   "metadata": {},
   "outputs": [
    {
     "name": "stdout",
     "output_type": "stream",
     "text": [
      "abcd*efgh*ijklm\n"
     ]
    }
   ],
   "source": [
    "mylist = ['abcd', 'efgh', 'ijklm']\n",
    "\n",
    "s = '*'.join(mylist)  # '*' is what we're running the method on, the \"glue\"\n",
    "                  # mylist is the variable containing a list of strings\n",
    "    \n",
    "# Notice: When we do this, mylist DOES NOT CHANGE!\n",
    "# str.join returns a new string, which we can use in assignment or printing\n",
    "\n",
    "print(s)"
   ]
  },
  {
   "cell_type": "code",
   "execution_count": 33,
   "id": "surrounded-breath",
   "metadata": {},
   "outputs": [
    {
     "name": "stdout",
     "output_type": "stream",
     "text": [
      "Enter a sentence: this is a test\n",
      "histay isway away esttay\n"
     ]
    }
   ],
   "source": [
    "output = []\n",
    "\n",
    "sentence = input('Enter a sentence: ')\n",
    "\n",
    "words = sentence.split()   # no argument means: any whitespace is a separator\n",
    "\n",
    "for word in words:\n",
    "    if word[0] in 'aeiou':\n",
    "        output.append(word + 'way') \n",
    "    else:\n",
    "        output.append(word[1:] + word[0] + 'ay')  \n",
    "        \n",
    "s = ' '.join(output)\n",
    "print(s)"
   ]
  },
  {
   "cell_type": "code",
   "execution_count": 34,
   "id": "competent-idaho",
   "metadata": {},
   "outputs": [
    {
     "data": {
      "text/plain": [
       "'histay isway away esttay'"
      ]
     },
     "execution_count": 34,
     "metadata": {},
     "output_type": "execute_result"
    }
   ],
   "source": [
    "s"
   ]
  },
  {
   "cell_type": "code",
   "execution_count": 35,
   "id": "viral-amendment",
   "metadata": {},
   "outputs": [],
   "source": [
    "# numbers, separated by | characters\n",
    "s = '10|20|30|40|50|60'\n",
    "\n",
    "# I want this string as it is, *BUT* each number should\n",
    "# be translated into binary (just 1s and 0s)"
   ]
  },
  {
   "cell_type": "code",
   "execution_count": 36,
   "id": "annoying-darwin",
   "metadata": {},
   "outputs": [
    {
     "data": {
      "text/plain": [
       "'0b11001'"
      ]
     },
     "execution_count": 36,
     "metadata": {},
     "output_type": "execute_result"
    }
   ],
   "source": [
    "bin(25)"
   ]
  },
  {
   "cell_type": "code",
   "execution_count": 39,
   "id": "coupled-preservation",
   "metadata": {},
   "outputs": [
    {
     "name": "stdout",
     "output_type": "stream",
     "text": [
      "0b1010|0b10100|0b11110|0b101000|0b110010|0b111100\n"
     ]
    }
   ],
   "source": [
    "# If I want to translate this string:\n",
    "# (1) Create an output list\n",
    "# (2) Break up s into individual fields\n",
    "# (3) Turn each element into an integer\n",
    "# (4) Run \"bin\" on each element\n",
    "# (5) Add each translated element to our output list\n",
    "# (6) Join that together with | characters\n",
    "\n",
    "s = '10|20|30|40|50|60'\n",
    "output = []\n",
    "\n",
    "fields = s.split('|')  # get a list of strings back\n",
    "\n",
    "for one_field in fields:\n",
    "    binary_field = bin(int(one_field))\n",
    "    output.append(binary_field)\n",
    "    \n",
    "output_string = '|'.join(output)\n",
    "print(output_string)"
   ]
  },
  {
   "cell_type": "code",
   "execution_count": 42,
   "id": "acting-integer",
   "metadata": {},
   "outputs": [
    {
     "name": "stdout",
     "output_type": "stream",
     "text": [
      "ab,cd,ef\n",
      "gh,ij,kl\n",
      "mno,pqrst,uvw\n"
     ]
    }
   ],
   "source": [
    "mylist = [['ab', 'cd', 'ef'],\n",
    "          ['gh', 'ij', 'kl'],\n",
    "          ['mno', 'pqrst', 'uvw']]\n",
    "\n",
    "output = []\n",
    "for one_record in mylist:\n",
    "    one_string_record = ','.join(one_record)\n",
    "    output.append(one_string_record)\n",
    "\n",
    "output_text = '\\n'.join(output)    \n",
    "print(output_text)"
   ]
  },
  {
   "cell_type": "markdown",
   "id": "crazy-contrary",
   "metadata": {},
   "source": [
    "# Data structure: Dictionaries\n",
    "\n",
    "Dictionaries have many different names:\n",
    "- Hash tables\n",
    "- Hashes\n",
    "- Hash maps\n",
    "- Maps\n",
    "- Associative arrays\n",
    "- Key-value stores\n",
    "- Name-value stores"
   ]
  },
  {
   "cell_type": "code",
   "execution_count": 43,
   "id": "pursuant-gross",
   "metadata": {},
   "outputs": [],
   "source": [
    "# To create a new dictionary, we use {} \n",
    "# inside, we have key-value pairs\n",
    "# each key-value pair is separated by a colon\n",
    "# the pairs are separated from one another with commas\n",
    "\n",
    "d = {'a':1, 'b':2, 'c':3}     # key:value, key:value, key:value\n",
    "\n",
    "# here, my pairs are:\n",
    "# 'a' - 1\n",
    "# 'b' - 2\n",
    "# 'c' - 3\n",
    "\n",
    "# Unlke a list or string, the keys/indexes are strings!\n",
    "# in a dict, the keys can be anything immutable (basically, numbers and strings)\n",
    "# the values can be anything at all"
   ]
  },
  {
   "cell_type": "code",
   "execution_count": 44,
   "id": "interstate-suspension",
   "metadata": {},
   "outputs": [
    {
     "data": {
      "text/plain": [
       "1"
      ]
     },
     "execution_count": 44,
     "metadata": {},
     "output_type": "execute_result"
    }
   ],
   "source": [
    "d['a']   # meaning: give me the value in dict d for key 'a'"
   ]
  },
  {
   "cell_type": "code",
   "execution_count": 45,
   "id": "graduate-thirty",
   "metadata": {},
   "outputs": [
    {
     "data": {
      "text/plain": [
       "2"
      ]
     },
     "execution_count": 45,
     "metadata": {},
     "output_type": "execute_result"
    }
   ],
   "source": [
    "d['b']  # give me the value in dict d for key 'b'"
   ]
  },
  {
   "cell_type": "code",
   "execution_count": 46,
   "id": "focal-lloyd",
   "metadata": {},
   "outputs": [
    {
     "data": {
      "text/plain": [
       "'Reuven'"
      ]
     },
     "execution_count": 46,
     "metadata": {},
     "output_type": "execute_result"
    }
   ],
   "source": [
    "person = ['Reuven', 'Lerner', 46]\n",
    "person[0]  # first name"
   ]
  },
  {
   "cell_type": "code",
   "execution_count": 47,
   "id": "generous-roads",
   "metadata": {},
   "outputs": [
    {
     "data": {
      "text/plain": [
       "'Lerner'"
      ]
     },
     "execution_count": 47,
     "metadata": {},
     "output_type": "execute_result"
    }
   ],
   "source": [
    "person[1] # last name"
   ]
  },
  {
   "cell_type": "code",
   "execution_count": 48,
   "id": "lightweight-seeking",
   "metadata": {},
   "outputs": [
    {
     "data": {
      "text/plain": [
       "46"
      ]
     },
     "execution_count": 48,
     "metadata": {},
     "output_type": "execute_result"
    }
   ],
   "source": [
    "person[2]  # shoe size"
   ]
  },
  {
   "cell_type": "code",
   "execution_count": 49,
   "id": "skilled-refund",
   "metadata": {},
   "outputs": [],
   "source": [
    "person = {'first':'Reuven', 'last':'Lerner', 'shoesize':46}"
   ]
  },
  {
   "cell_type": "code",
   "execution_count": 50,
   "id": "expressed-aluminum",
   "metadata": {},
   "outputs": [
    {
     "data": {
      "text/plain": [
       "'Reuven'"
      ]
     },
     "execution_count": 50,
     "metadata": {},
     "output_type": "execute_result"
    }
   ],
   "source": [
    "person['first']"
   ]
  },
  {
   "cell_type": "code",
   "execution_count": 51,
   "id": "developed-jason",
   "metadata": {},
   "outputs": [
    {
     "data": {
      "text/plain": [
       "'Lerner'"
      ]
     },
     "execution_count": 51,
     "metadata": {},
     "output_type": "execute_result"
    }
   ],
   "source": [
    "person['last']"
   ]
  },
  {
   "cell_type": "code",
   "execution_count": 52,
   "id": "canadian-priest",
   "metadata": {},
   "outputs": [
    {
     "data": {
      "text/plain": [
       "46"
      ]
     },
     "execution_count": 52,
     "metadata": {},
     "output_type": "execute_result"
    }
   ],
   "source": [
    "person['shoesize']"
   ]
  },
  {
   "cell_type": "code",
   "execution_count": 53,
   "id": "portable-texas",
   "metadata": {},
   "outputs": [
    {
     "name": "stderr",
     "output_type": "stream",
     "text": [
      "\n",
      "Traceback (most recent call last):\n",
      "  File \"<ipython-input-53>\", line 1, in <module>\n",
      "    person['height']\n",
      "KeyError: 'height'\n"
     ]
    }
   ],
   "source": [
    "person['height']"
   ]
  },
  {
   "cell_type": "code",
   "execution_count": 54,
   "id": "covered-cosmetic",
   "metadata": {
    "collapsed": true
   },
   "outputs": [
    {
     "name": "stderr",
     "output_type": "stream",
     "text": [
      "\n",
      "Traceback (most recent call last):\n",
      "  File \"<ipython-input-53>\", line 1, in <module>\n",
      "    person['height']\n",
      "KeyError: 'height'\n",
      "\n",
      "    A `KeyError` is raised when a value is not found as a\n",
      "    key in a Python dict.\n",
      "    \n",
      "        In your program, the key that cannot be found is `'height'`.\n",
      "        \n",
      "    Exception raised on line 1 of file <ipython-input-53>.\n",
      "    \n",
      "    -->1: person['height']\n",
      "\n",
      "            person: {'first': 'Reuven', 'last': 'Lerner', 'shoesize': 46}\n",
      "        \n"
     ]
    }
   ],
   "source": [
    "explain()"
   ]
  },
  {
   "cell_type": "code",
   "execution_count": 55,
   "id": "coral-thriller",
   "metadata": {},
   "outputs": [
    {
     "data": {
      "text/plain": [
       "True"
      ]
     },
     "execution_count": 55,
     "metadata": {},
     "output_type": "execute_result"
    }
   ],
   "source": [
    "# The \"in\" operator works on dictionaries, too!\n",
    "# it checks if something is a *key*  (never a value)\n",
    "\n",
    "'shoesize' in person   # meaning: is 'shoesize' a key in the \"person\" dict?"
   ]
  },
  {
   "cell_type": "code",
   "execution_count": 56,
   "id": "increasing-detective",
   "metadata": {},
   "outputs": [
    {
     "data": {
      "text/plain": [
       "False"
      ]
     },
     "execution_count": 56,
     "metadata": {},
     "output_type": "execute_result"
    }
   ],
   "source": [
    "'height' in person   # meaning: is 'height' a key in the \"person\" dict?"
   ]
  },
  {
   "cell_type": "markdown",
   "id": "identical-terrorism",
   "metadata": {},
   "source": [
    "# Dictionary basics\n",
    "\n",
    "1. Dicts contain key-value pairs\n",
    "    - Keys can be numbers or strings\n",
    "    - Values can be *anything* at all\n",
    "2. We define dicts with `{}`\n",
    "    - `d = {'a':1, 'b':2, 'c':3}`\n",
    "3. We use `[]` to retrieve a value based on a key\n",
    "    - `d['a']`  # returns 1\n",
    "    - `d['b']`  # returns 2\n",
    "4. If you request a key that doesn't exist, you get a `KeyError`\n",
    "5. You can use `in` to check if a key is in a dict\n",
    "    - `'a' in d`  # returns True\n",
    "    - `'x' in d`  # returns False\n",
    "    - `1 in d` # returns False -- we only check the keys!"
   ]
  },
  {
   "cell_type": "markdown",
   "id": "blind-miller",
   "metadata": {},
   "source": [
    "# Exercise: Restaurant menu\n",
    "\n",
    "1. Define a dictionary, called `menu`, in which the keys are the items on a restaurant menu and the values are the prices.\n",
    "\n",
    "2. Ask the user to order one item from the menu.\n",
    "3. If the item is on the menu, print the price.\n",
    "4. If the item is *not* on the menu, then scold the user.\n",
    "\n",
    "Example:\n",
    "\n",
    "    Order: sandwich\n",
    "    sandwich costs 10\n",
    "    \n",
    "    Order: elephant\n",
    "    We are fresh out of elephant today"
   ]
  },
  {
   "cell_type": "code",
   "execution_count": 57,
   "id": "enhanced-staff",
   "metadata": {},
   "outputs": [
    {
     "data": {
      "text/plain": [
       "{'a': 1, 'b': 2, 'c': 3}"
      ]
     },
     "execution_count": 57,
     "metadata": {},
     "output_type": "execute_result"
    }
   ],
   "source": [
    "d"
   ]
  },
  {
   "cell_type": "code",
   "execution_count": 58,
   "id": "afraid-snake",
   "metadata": {},
   "outputs": [
    {
     "name": "stdout",
     "output_type": "stream",
     "text": [
      "Enter a key: a\n"
     ]
    },
    {
     "data": {
      "text/plain": [
       "1"
      ]
     },
     "execution_count": 58,
     "metadata": {},
     "output_type": "execute_result"
    }
   ],
   "source": [
    "s = input('Enter a key: ')\n",
    "\n",
    "d[s]  # since s is 'a', d[s] is the same as d['a']"
   ]
  },
  {
   "cell_type": "code",
   "execution_count": 59,
   "id": "rental-appliance",
   "metadata": {},
   "outputs": [
    {
     "data": {
      "text/plain": [
       "dict"
      ]
     },
     "execution_count": 59,
     "metadata": {},
     "output_type": "execute_result"
    }
   ],
   "source": [
    "# create the dict with {}\n",
    "menu = {'sandwich':10, 'tea':5, 'cake':7, 'apple':2}\n",
    "\n",
    "type(menu)"
   ]
  },
  {
   "cell_type": "code",
   "execution_count": 60,
   "id": "noticed-funeral",
   "metadata": {},
   "outputs": [
    {
     "data": {
      "text/plain": [
       "10"
      ]
     },
     "execution_count": 60,
     "metadata": {},
     "output_type": "execute_result"
    }
   ],
   "source": [
    "# retrieve from the dict with []\n",
    "menu['sandwich']"
   ]
  },
  {
   "cell_type": "code",
   "execution_count": 61,
   "id": "considerable-conservative",
   "metadata": {},
   "outputs": [
    {
     "data": {
      "text/plain": [
       "10"
      ]
     },
     "execution_count": 61,
     "metadata": {},
     "output_type": "execute_result"
    }
   ],
   "source": [
    "order = 'sandwich'\n",
    "menu[order]"
   ]
  },
  {
   "cell_type": "code",
   "execution_count": 67,
   "id": "limiting-quantity",
   "metadata": {},
   "outputs": [
    {
     "name": "stdout",
     "output_type": "stream",
     "text": [
      "Order: sandwich\n",
      "The price of sandwich is 10.\n"
     ]
    }
   ],
   "source": [
    "menu = {'sandwich':10, 'tea':5, 'cake':7, 'apple':2}\n",
    "\n",
    "order = input('Order: ')\n",
    "\n",
    "if order in menu:  # is the user's input *really* a key in our dict?\n",
    "    price = menu[order]\n",
    "    print(f'The price of {order} is {price}.')\n",
    "else:\n",
    "    print(f'We are out of {order} today.')"
   ]
  },
  {
   "cell_type": "markdown",
   "id": "ideal-income",
   "metadata": {},
   "source": [
    "# Exercise: Restaurant menu, part 2\n",
    "\n",
    "1. Define a variable, `total`, to be 0.\n",
    "2. Modify the existing code, so that we ask the user repeatedly what they want ot order.\n",
    "    - This means: Use a `while` loop!\n",
    "3. If the user enters an empty string, then `break` from the loop.\n",
    "4. If the user enters something on the menu, then assign `price` the price of the item (from the dict), update `total`, and print the price and new total.\n",
    "5. If the user enters something not on the menu, then say we're out of it today.\n",
    "6. At the end, print the total.\n",
    "\n",
    "Remember:\n",
    "- We can ask repeatedly with `while True`, so long as we also have a way to `break` from the loop\n",
    "\n",
    "Example:\n",
    "\n",
    "    Order: sandwich\n",
    "    sandwich is 10, total is 10\n",
    "    Order: tea\n",
    "    tea is 5, total is 15\n",
    "    Order: elephant\n",
    "    We're out of elephant today\n",
    "    Order: [ENTER]\n",
    "    Your total is 15"
   ]
  },
  {
   "cell_type": "code",
   "execution_count": 2,
   "id": "official-runner",
   "metadata": {},
   "outputs": [
    {
     "name": "stdout",
     "output_type": "stream",
     "text": [
      "Order: cake\n",
      "The price of cake is 7, total is 7.\n",
      "Order: apple\n",
      "The price of apple is 2, total is 9.\n",
      "Order: tea\n",
      "The price of tea is 5, total is 14.\n",
      "Order: sandwich\n",
      "The price of sandwich is 10, total is 24.\n",
      "Order: sandwich\n",
      "The price of sandwich is 10, total is 34.\n",
      "Order: asdfafafafa\n",
      "We are out of asdfafafafa today.\n",
      "Order: \n",
      "total = 34\n"
     ]
    }
   ],
   "source": [
    "# (1) create the total variable, set to 0\n",
    "total = 0\n",
    "\n",
    "menu = {'sandwich':10, 'tea':5, 'cake':7, 'apple':2}\n",
    "\n",
    "while True:  # (2) infinite loop asking for an order\n",
    "\n",
    "    order = input('Order: ')\n",
    "\n",
    "    # (3) is the order an empty string? If so, then exit the loop\n",
    "    if order == '':\n",
    "        break\n",
    "\n",
    "    if order in menu: \n",
    "        price = menu[order]\n",
    "        # (4) add the price to the total\n",
    "        total += price\n",
    "        print(f'The price of {order} is {price}, total is {total}.')\n",
    "    else:\n",
    "        print(f'We are out of {order} today.')\n",
    "        \n",
    "# (5) print the total        \n",
    "print(f'total = {total}')"
   ]
  },
  {
   "cell_type": "code",
   "execution_count": 3,
   "id": "organizational-external",
   "metadata": {},
   "outputs": [
    {
     "data": {
      "text/plain": [
       "{'a': 1, 'b': 2, 'c': 3, 'x': 100}"
      ]
     },
     "execution_count": 3,
     "metadata": {},
     "output_type": "execute_result"
    }
   ],
   "source": [
    "d = {'a':1, 'b':2, 'c':3}\n",
    "\n",
    "# to add a new key-value pair to my dict, just assign\n",
    "d['x'] = 100\n",
    "\n",
    "d"
   ]
  },
  {
   "cell_type": "code",
   "execution_count": 4,
   "id": "czech-leeds",
   "metadata": {},
   "outputs": [
    {
     "data": {
      "text/plain": [
       "{'a': 1, 'b': 2, 'c': 3, 'x': 2345}"
      ]
     },
     "execution_count": 4,
     "metadata": {},
     "output_type": "execute_result"
    }
   ],
   "source": [
    "# to update an existing value, just assign\n",
    "d['x'] = 2345\n",
    "\n",
    "d"
   ]
  },
  {
   "cell_type": "code",
   "execution_count": 5,
   "id": "sharp-jordan",
   "metadata": {},
   "outputs": [
    {
     "name": "stdout",
     "output_type": "stream",
     "text": [
      "Order: sandwich\n",
      "The price of sandwich is 10, total is 10.\n",
      "Order: tea\n",
      "The price of tea is 5, total is 15.\n",
      "Order: cake\n",
      "The price of cake is 7, total is 22.\n",
      "Order: \n",
      "all_prices = [10, 5, 7]\n",
      "total = 22\n"
     ]
    }
   ],
   "source": [
    "all_prices = []\n",
    "\n",
    "menu = {'sandwich':10, 'tea':5, 'cake':7, 'apple':2}\n",
    "\n",
    "while True: \n",
    "\n",
    "    order = input('Order: ')\n",
    "\n",
    "    if order == '':\n",
    "        break\n",
    "\n",
    "    if order in menu: \n",
    "        price = menu[order]\n",
    "        all_prices.append(price)\n",
    "        print(f'The price of {order} is {price}, total is {sum(all_prices)}.')\n",
    "    else:\n",
    "        print(f'We are out of {order} today.')\n",
    "\n",
    "print(f'all_prices = {all_prices}')\n",
    "print(f'total = {sum(all_prices)}')"
   ]
  },
  {
   "cell_type": "code",
   "execution_count": null,
   "id": "ethical-memory",
   "metadata": {},
   "outputs": [],
   "source": []
  },
  {
   "cell_type": "code",
   "execution_count": 6,
   "id": "eligible-globe",
   "metadata": {},
   "outputs": [
    {
     "name": "stdout",
     "output_type": "stream",
     "text": [
      "Enter a string: this is a test\n",
      "{'a': 1, 'e': 1, 'i': 2, 'o': 0, 'u': 0}\n"
     ]
    }
   ],
   "source": [
    "# count how many times each vowel is in a sentence \n",
    "\n",
    "counts = {'a':0, 'e':0, 'i':0, 'o':0, 'u':0}\n",
    "\n",
    "s = input('Enter a string: ')\n",
    "\n",
    "for one_character in s:\n",
    "    if one_character in 'aeiou':\n",
    "        counts[one_character] += 1\n",
    "\n",
    "print(counts)"
   ]
  },
  {
   "cell_type": "code",
   "execution_count": null,
   "id": "obvious-network",
   "metadata": {},
   "outputs": [],
   "source": []
  }
 ],
 "metadata": {
  "kernelspec": {
   "display_name": "Python 3",
   "language": "python",
   "name": "python3"
  },
  "language_info": {
   "codemirror_mode": {
    "name": "ipython",
    "version": 3
   },
   "file_extension": ".py",
   "mimetype": "text/x-python",
   "name": "python",
   "nbconvert_exporter": "python",
   "pygments_lexer": "ipython3",
   "version": "3.8.6"
  }
 },
 "nbformat": 4,
 "nbformat_minor": 5
}
