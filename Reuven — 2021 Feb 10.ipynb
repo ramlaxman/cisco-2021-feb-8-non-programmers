{
 "cells": [
  {
   "cell_type": "code",
   "execution_count": 1,
   "id": "alike-programming",
   "metadata": {},
   "outputs": [
    {
     "name": "stdout",
     "output_type": "stream",
     "text": [
      "Friendly-traceback installed.\n"
     ]
    }
   ],
   "source": [
    "from friendly_traceback.ipython import *"
   ]
  },
  {
   "cell_type": "markdown",
   "id": "spatial-conversion",
   "metadata": {},
   "source": [
    "# Agenda\n",
    "\n",
    "1. Talk about `str.split` and `str.join`\n",
    "2. Dictionaries\n",
    "3. Files\n",
    "4. PyCharm"
   ]
  },
  {
   "cell_type": "markdown",
   "id": "skilled-dallas",
   "metadata": {},
   "source": [
    "If I have data d of type X and I want data of type Y, I can just say\n",
    "\n",
    "`Y(d)`   # give me a new piece of Y data, based on d"
   ]
  },
  {
   "cell_type": "code",
   "execution_count": 2,
   "id": "consolidated-corrections",
   "metadata": {},
   "outputs": [
    {
     "data": {
      "text/plain": [
       "12345"
      ]
     },
     "execution_count": 2,
     "metadata": {},
     "output_type": "execute_result"
    }
   ],
   "source": [
    "int('12345')  # we're getting an int based on a string"
   ]
  },
  {
   "cell_type": "code",
   "execution_count": 3,
   "id": "hollow-diploma",
   "metadata": {},
   "outputs": [
    {
     "data": {
      "text/plain": [
       "'2468'"
      ]
     },
     "execution_count": 3,
     "metadata": {},
     "output_type": "execute_result"
    }
   ],
   "source": [
    "str(2468) # getting a string based on an int"
   ]
  },
  {
   "cell_type": "code",
   "execution_count": 4,
   "id": "controlled-collect",
   "metadata": {},
   "outputs": [
    {
     "data": {
      "text/plain": [
       "['a', 'b', 'c', 'd', 'e']"
      ]
     },
     "execution_count": 4,
     "metadata": {},
     "output_type": "execute_result"
    }
   ],
   "source": [
    "# to move from string to list, we can use \"list\"\n",
    "list('abcde')"
   ]
  },
  {
   "cell_type": "code",
   "execution_count": 5,
   "id": "incident-italian",
   "metadata": {},
   "outputs": [
    {
     "data": {
      "text/plain": [
       "'[10, 20, 30]'"
      ]
     },
     "execution_count": 5,
     "metadata": {},
     "output_type": "execute_result"
    }
   ],
   "source": [
    "# to move from list to string, we can use \"str\"\n",
    "mylist = [10, 20, 30]\n",
    "str(mylist)"
   ]
  },
  {
   "cell_type": "code",
   "execution_count": 7,
   "id": "lyric-utility",
   "metadata": {},
   "outputs": [
    {
     "data": {
      "text/plain": [
       "['firstname', 'lastname', 'age']"
      ]
     },
     "execution_count": 7,
     "metadata": {},
     "output_type": "execute_result"
    }
   ],
   "source": [
    "# but sometimes, we want to move from list->string and string->list differently\n",
    "\n",
    "record = 'firstname|lastname|age'\n",
    "\n",
    "# how can I turn this into a list, with each element being a different field of the record?\n",
    "\n",
    "# I can use the \"str.split\" method (the split method for strings)\n",
    "\n",
    "record.split('|')  # return a list of strings, whose elements are from record, separated by |"
   ]
  },
  {
   "cell_type": "code",
   "execution_count": 8,
   "id": "animal-destruction",
   "metadata": {},
   "outputs": [
    {
     "data": {
      "text/plain": [
       "['This', 'is', 'a', 'bunch', 'of', 'words']"
      ]
     },
     "execution_count": 8,
     "metadata": {},
     "output_type": "execute_result"
    }
   ],
   "source": [
    "words = 'This is a bunch of words'\n",
    "words.split(' ')"
   ]
  },
  {
   "cell_type": "code",
   "execution_count": 9,
   "id": "fifth-catalog",
   "metadata": {},
   "outputs": [
    {
     "data": {
      "text/plain": [
       "['This', '', '', 'is', 'a', 'bunch', '', 'of', '', '', '', 'words']"
      ]
     },
     "execution_count": 9,
     "metadata": {},
     "output_type": "execute_result"
    }
   ],
   "source": [
    "words = 'This   is a bunch  of    words'\n",
    "words.split(' ')"
   ]
  },
  {
   "cell_type": "code",
   "execution_count": 10,
   "id": "noted-friend",
   "metadata": {},
   "outputs": [
    {
     "data": {
      "text/plain": [
       "['This', 'is', 'a', 'bunch', 'of', 'words']"
      ]
     },
     "execution_count": 10,
     "metadata": {},
     "output_type": "execute_result"
    }
   ],
   "source": [
    "words = 'This   is a bunch  of    words'\n",
    "words.split()  # no argument at all -- meaning, all whitespace, any length"
   ]
  },
  {
   "cell_type": "code",
   "execution_count": 11,
   "id": "colored-transformation",
   "metadata": {},
   "outputs": [
    {
     "data": {
      "text/plain": [
       "'This   is a bunch  of    words'"
      ]
     },
     "execution_count": 11,
     "metadata": {},
     "output_type": "execute_result"
    }
   ],
   "source": [
    "words"
   ]
  },
  {
   "cell_type": "code",
   "execution_count": 12,
   "id": "harmful-cemetery",
   "metadata": {},
   "outputs": [
    {
     "data": {
      "text/plain": [
       "['This', 'is', 'a', 'bunch', 'of', 'words']"
      ]
     },
     "execution_count": 12,
     "metadata": {},
     "output_type": "execute_result"
    }
   ],
   "source": [
    "# str.split takes a string, and returns a list of strings\n",
    "# str.join takes a list of strings, and returns one string\n",
    "\n",
    "words = words.split()  # now, \"words\" is a list of strings\n",
    "words"
   ]
  },
  {
   "cell_type": "code",
   "execution_count": 13,
   "id": "mysterious-attempt",
   "metadata": {},
   "outputs": [
    {
     "data": {
      "text/plain": [
       "'This*is*a*bunch*of*words'"
      ]
     },
     "execution_count": 13,
     "metadata": {},
     "output_type": "execute_result"
    }
   ],
   "source": [
    "# I can use str.join to get a new string back!\n",
    "# the string used in str.join is the \"glue\" put between elements of the list\n",
    "\n",
    "# glue.join(list_of_strings)\n",
    "'*'.join(words)"
   ]
  },
  {
   "cell_type": "code",
   "execution_count": 14,
   "id": "functional-commerce",
   "metadata": {},
   "outputs": [
    {
     "data": {
      "text/plain": [
       "['This', 'is', 'a', 'bunch', 'of', 'words']"
      ]
     },
     "execution_count": 14,
     "metadata": {},
     "output_type": "execute_result"
    }
   ],
   "source": [
    "words"
   ]
  },
  {
   "cell_type": "code",
   "execution_count": 15,
   "id": "located-appraisal",
   "metadata": {},
   "outputs": [
    {
     "data": {
      "text/plain": [
       "'This is a bunch of words'"
      ]
     },
     "execution_count": 15,
     "metadata": {},
     "output_type": "execute_result"
    }
   ],
   "source": [
    "' '.join(words)"
   ]
  },
  {
   "cell_type": "code",
   "execution_count": 18,
   "id": "fatal-dover",
   "metadata": {},
   "outputs": [
    {
     "data": {
      "text/plain": [
       "' *T*h*i*s* * * * *i*s* *t*h*e* *b*u*n*c*h* *o*f* *w*w*o*r*d*s*s*s*s*s*s'"
      ]
     },
     "execution_count": 18,
     "metadata": {},
     "output_type": "execute_result"
    }
   ],
   "source": [
    "words = ' This    is the bunch of wwordssssss'\n",
    "'*'.join(words)  # argument is an iterable of strings -- a string!"
   ]
  },
  {
   "cell_type": "code",
   "execution_count": 19,
   "id": "consolidated-watts",
   "metadata": {},
   "outputs": [
    {
     "data": {
      "text/plain": [
       "'This*is*the*bunch*of*wwordssssss'"
      ]
     },
     "execution_count": 19,
     "metadata": {},
     "output_type": "execute_result"
    }
   ],
   "source": [
    "'*'.join(words.split())  # argument is a list of strings"
   ]
  },
  {
   "cell_type": "code",
   "execution_count": null,
   "id": "regulation-fabric",
   "metadata": {},
   "outputs": [],
   "source": []
  },
  {
   "cell_type": "markdown",
   "id": "outer-bronze",
   "metadata": {},
   "source": [
    "# Exercise: Pig Latin a sentence\n",
    "\n",
    "1. Ask the user to enter a sentence in English (no capitals, no punctuation)\n",
    "2. Translate the sentence into Pig Latin, printing the translation on a single line\n",
    "\n",
    "For now: \n",
    "1. Ask the user to enter a sentence\n",
    "2. Turn the sentence into a list of strings, using `str.split`\n",
    "3. Go through the words in the sentence, one at a time, and print them *translated into Pig Latin*"
   ]
  },
  {
   "cell_type": "code",
   "execution_count": 22,
   "id": "modular-instruction",
   "metadata": {},
   "outputs": [
    {
     "name": "stdout",
     "output_type": "stream",
     "text": [
      "Enter a sentence: this is a test\n",
      "this\n",
      "is\n",
      "a\n",
      "test\n"
     ]
    }
   ],
   "source": [
    "sentence = input('Enter a sentence: ')\n",
    "\n",
    "words = sentence.split()   # no argument means: any whitespace is a separator\n",
    "\n",
    "for word in words:\n",
    "    print(word)"
   ]
  },
  {
   "cell_type": "code",
   "execution_count": 23,
   "id": "addressed-serum",
   "metadata": {},
   "outputs": [
    {
     "name": "stdout",
     "output_type": "stream",
     "text": [
      "Enter a word: adsfa\n",
      "adsfaway\n"
     ]
    }
   ],
   "source": [
    "word = input('Enter a word: ')\n",
    "\n",
    "if word[0] in 'aeiou':\n",
    "    print(word + 'way')\n",
    "else:\n",
    "    print(word[1:] + word[0] + 'ay')"
   ]
  },
  {
   "cell_type": "code",
   "execution_count": 24,
   "id": "liked-williams",
   "metadata": {},
   "outputs": [
    {
     "name": "stdout",
     "output_type": "stream",
     "text": [
      "Enter a sentence: this is a test\n",
      "histay\n",
      "isway\n",
      "away\n",
      "esttay\n"
     ]
    }
   ],
   "source": [
    "sentence = input('Enter a sentence: ')\n",
    "\n",
    "words = sentence.split()   # no argument means: any whitespace is a separator\n",
    "\n",
    "for word in words:\n",
    "    if word[0] in 'aeiou':\n",
    "        print(word + 'way')\n",
    "    else:\n",
    "        print(word[1:] + word[0] + 'ay')"
   ]
  },
  {
   "cell_type": "markdown",
   "id": "literary-treasure",
   "metadata": {},
   "source": [
    "# Exercise: Pig Latin sentence, part 3\n",
    "\n",
    "1. Create an empty list, and assign it to `output`.\n",
    "2. In our `for` loop, when we're translating words into Pig Latin, we're *not* going to print them on the screen.  Rather, we'll use `list.append` to add the translation to the end of the `output` list.\n"
   ]
  },
  {
   "cell_type": "code",
   "execution_count": 25,
   "id": "patient-packet",
   "metadata": {},
   "outputs": [],
   "source": [
    "mylist = [10, 20, 30]\n",
    "mylist.append(40)   # append adds the item to the end of the list\n",
    "mylist.append(50)  "
   ]
  },
  {
   "cell_type": "code",
   "execution_count": 26,
   "id": "based-defensive",
   "metadata": {},
   "outputs": [
    {
     "data": {
      "text/plain": [
       "[10, 20, 30, 40, 50]"
      ]
     },
     "execution_count": 26,
     "metadata": {},
     "output_type": "execute_result"
    }
   ],
   "source": [
    "mylist"
   ]
  },
  {
   "cell_type": "code",
   "execution_count": 27,
   "id": "coral-campbell",
   "metadata": {},
   "outputs": [
    {
     "data": {
      "text/plain": [
       "[10, 20]"
      ]
     },
     "execution_count": 27,
     "metadata": {},
     "output_type": "execute_result"
    }
   ],
   "source": [
    "mylist = []\n",
    "mylist.append(10)\n",
    "mylist.append(20)\n",
    "\n",
    "mylist"
   ]
  },
  {
   "cell_type": "code",
   "execution_count": 29,
   "id": "occupied-breast",
   "metadata": {},
   "outputs": [
    {
     "name": "stdout",
     "output_type": "stream",
     "text": [
      "Enter a sentence: this is a test\n"
     ]
    },
    {
     "data": {
      "text/plain": [
       "['histay', 'isway', 'away', 'esttay']"
      ]
     },
     "execution_count": 29,
     "metadata": {},
     "output_type": "execute_result"
    }
   ],
   "source": [
    "output = []\n",
    "\n",
    "sentence = input('Enter a sentence: ')\n",
    "\n",
    "words = sentence.split()   # no argument means: any whitespace is a separator\n",
    "\n",
    "for word in words:\n",
    "    if word[0] in 'aeiou':\n",
    "        output.append(word + 'way') \n",
    "    else:\n",
    "        output.append(word[1:] + word[0] + 'ay')  \n",
    "        \n",
    "output"
   ]
  },
  {
   "cell_type": "markdown",
   "id": "western-travel",
   "metadata": {},
   "source": [
    "# Exercise: Pig Latin sentence, part 4\n",
    "\n",
    "Instead of just displaying/returning `output`, turn it into a string, and print that out.\n",
    "\n",
    "Remember: The `str.join` method:\n",
    "- Runs on a string, the \"glue\"\n",
    "- The argument (in parentheses) is a list of strings/words to join together\n",
    "- The method returns a string"
   ]
  },
  {
   "cell_type": "code",
   "execution_count": 31,
   "id": "mathematical-charger",
   "metadata": {},
   "outputs": [
    {
     "name": "stdout",
     "output_type": "stream",
     "text": [
      "abcd*efgh*ijklm\n"
     ]
    }
   ],
   "source": [
    "mylist = ['abcd', 'efgh', 'ijklm']\n",
    "\n",
    "s = '*'.join(mylist)  # '*' is what we're running the method on, the \"glue\"\n",
    "                  # mylist is the variable containing a list of strings\n",
    "    \n",
    "# Notice: When we do this, mylist DOES NOT CHANGE!\n",
    "# str.join returns a new string, which we can use in assignment or printing\n",
    "\n",
    "print(s)"
   ]
  },
  {
   "cell_type": "code",
   "execution_count": 33,
   "id": "controlled-mailman",
   "metadata": {},
   "outputs": [
    {
     "name": "stdout",
     "output_type": "stream",
     "text": [
      "Enter a sentence: this is a test\n",
      "histay isway away esttay\n"
     ]
    }
   ],
   "source": [
    "output = []\n",
    "\n",
    "sentence = input('Enter a sentence: ')\n",
    "\n",
    "words = sentence.split()   # no argument means: any whitespace is a separator\n",
    "\n",
    "for word in words:\n",
    "    if word[0] in 'aeiou':\n",
    "        output.append(word + 'way') \n",
    "    else:\n",
    "        output.append(word[1:] + word[0] + 'ay')  \n",
    "        \n",
    "s = ' '.join(output)\n",
    "print(s)"
   ]
  },
  {
   "cell_type": "code",
   "execution_count": 34,
   "id": "expanded-pharmacy",
   "metadata": {},
   "outputs": [
    {
     "data": {
      "text/plain": [
       "'histay isway away esttay'"
      ]
     },
     "execution_count": 34,
     "metadata": {},
     "output_type": "execute_result"
    }
   ],
   "source": [
    "s"
   ]
  },
  {
   "cell_type": "code",
   "execution_count": 35,
   "id": "smooth-windows",
   "metadata": {},
   "outputs": [],
   "source": [
    "# numbers, separated by | characters\n",
    "s = '10|20|30|40|50|60'\n",
    "\n",
    "# I want this string as it is, *BUT* each number should\n",
    "# be translated into binary (just 1s and 0s)"
   ]
  },
  {
   "cell_type": "code",
   "execution_count": 36,
   "id": "opened-screening",
   "metadata": {},
   "outputs": [
    {
     "data": {
      "text/plain": [
       "'0b11001'"
      ]
     },
     "execution_count": 36,
     "metadata": {},
     "output_type": "execute_result"
    }
   ],
   "source": [
    "bin(25)"
   ]
  },
  {
   "cell_type": "code",
   "execution_count": 39,
   "id": "surprising-effects",
   "metadata": {},
   "outputs": [
    {
     "name": "stdout",
     "output_type": "stream",
     "text": [
      "0b1010|0b10100|0b11110|0b101000|0b110010|0b111100\n"
     ]
    }
   ],
   "source": [
    "# If I want to translate this string:\n",
    "# (1) Create an output list\n",
    "# (2) Break up s into individual fields\n",
    "# (3) Turn each element into an integer\n",
    "# (4) Run \"bin\" on each element\n",
    "# (5) Add each translated element to our output list\n",
    "# (6) Join that together with | characters\n",
    "\n",
    "s = '10|20|30|40|50|60'\n",
    "output = []\n",
    "\n",
    "fields = s.split('|')  # get a list of strings back\n",
    "\n",
    "for one_field in fields:\n",
    "    binary_field = bin(int(one_field))\n",
    "    output.append(binary_field)\n",
    "    \n",
    "output_string = '|'.join(output)\n",
    "print(output_string)"
   ]
  },
  {
   "cell_type": "code",
   "execution_count": null,
   "id": "russian-apollo",
   "metadata": {},
   "outputs": [],
   "source": []
  }
 ],
 "metadata": {
  "kernelspec": {
   "display_name": "Python 3",
   "language": "python",
   "name": "python3"
  },
  "language_info": {
   "codemirror_mode": {
    "name": "ipython",
    "version": 3
   },
   "file_extension": ".py",
   "mimetype": "text/x-python",
   "name": "python",
   "nbconvert_exporter": "python",
   "pygments_lexer": "ipython3",
   "version": "3.8.6"
  }
 },
 "nbformat": 4,
 "nbformat_minor": 5
}
