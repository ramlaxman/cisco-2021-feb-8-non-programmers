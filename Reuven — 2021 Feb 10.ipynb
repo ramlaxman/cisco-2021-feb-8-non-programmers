{
 "cells": [
  {
   "cell_type": "code",
   "execution_count": 1,
   "id": "imperial-static",
   "metadata": {},
   "outputs": [
    {
     "name": "stdout",
     "output_type": "stream",
     "text": [
      "Friendly-traceback installed.\n"
     ]
    }
   ],
   "source": [
    "from friendly_traceback.ipython import *"
   ]
  },
  {
   "cell_type": "markdown",
   "id": "polar-sixth",
   "metadata": {},
   "source": [
    "# Agenda\n",
    "\n",
    "1. Talk about `str.split` and `str.join`\n",
    "2. Dictionaries\n",
    "3. Files\n",
    "4. PyCharm"
   ]
  },
  {
   "cell_type": "markdown",
   "id": "collective-threshold",
   "metadata": {},
   "source": [
    "If I have data d of type X and I want data of type Y, I can just say\n",
    "\n",
    "`Y(d)`   # give me a new piece of Y data, based on d"
   ]
  },
  {
   "cell_type": "code",
   "execution_count": 2,
   "id": "relevant-latex",
   "metadata": {},
   "outputs": [
    {
     "data": {
      "text/plain": [
       "12345"
      ]
     },
     "execution_count": 2,
     "metadata": {},
     "output_type": "execute_result"
    }
   ],
   "source": [
    "int('12345')  # we're getting an int based on a string"
   ]
  },
  {
   "cell_type": "code",
   "execution_count": 3,
   "id": "fatty-ancient",
   "metadata": {},
   "outputs": [
    {
     "data": {
      "text/plain": [
       "'2468'"
      ]
     },
     "execution_count": 3,
     "metadata": {},
     "output_type": "execute_result"
    }
   ],
   "source": [
    "str(2468) # getting a string based on an int"
   ]
  },
  {
   "cell_type": "code",
   "execution_count": 4,
   "id": "systematic-director",
   "metadata": {},
   "outputs": [
    {
     "data": {
      "text/plain": [
       "['a', 'b', 'c', 'd', 'e']"
      ]
     },
     "execution_count": 4,
     "metadata": {},
     "output_type": "execute_result"
    }
   ],
   "source": [
    "# to move from string to list, we can use \"list\"\n",
    "list('abcde')"
   ]
  },
  {
   "cell_type": "code",
   "execution_count": 5,
   "id": "outdoor-hungarian",
   "metadata": {},
   "outputs": [
    {
     "data": {
      "text/plain": [
       "'[10, 20, 30]'"
      ]
     },
     "execution_count": 5,
     "metadata": {},
     "output_type": "execute_result"
    }
   ],
   "source": [
    "# to move from list to string, we can use \"str\"\n",
    "mylist = [10, 20, 30]\n",
    "str(mylist)"
   ]
  },
  {
   "cell_type": "code",
   "execution_count": 7,
   "id": "included-netherlands",
   "metadata": {},
   "outputs": [
    {
     "data": {
      "text/plain": [
       "['firstname', 'lastname', 'age']"
      ]
     },
     "execution_count": 7,
     "metadata": {},
     "output_type": "execute_result"
    }
   ],
   "source": [
    "# but sometimes, we want to move from list->string and string->list differently\n",
    "\n",
    "record = 'firstname|lastname|age'\n",
    "\n",
    "# how can I turn this into a list, with each element being a different field of the record?\n",
    "\n",
    "# I can use the \"str.split\" method (the split method for strings)\n",
    "\n",
    "record.split('|')  # return a list of strings, whose elements are from record, separated by |"
   ]
  },
  {
   "cell_type": "code",
   "execution_count": 8,
   "id": "satisfactory-upset",
   "metadata": {},
   "outputs": [
    {
     "data": {
      "text/plain": [
       "['This', 'is', 'a', 'bunch', 'of', 'words']"
      ]
     },
     "execution_count": 8,
     "metadata": {},
     "output_type": "execute_result"
    }
   ],
   "source": [
    "words = 'This is a bunch of words'\n",
    "words.split(' ')"
   ]
  },
  {
   "cell_type": "code",
   "execution_count": 9,
   "id": "adaptive-singing",
   "metadata": {},
   "outputs": [
    {
     "data": {
      "text/plain": [
       "['This', '', '', 'is', 'a', 'bunch', '', 'of', '', '', '', 'words']"
      ]
     },
     "execution_count": 9,
     "metadata": {},
     "output_type": "execute_result"
    }
   ],
   "source": [
    "words = 'This   is a bunch  of    words'\n",
    "words.split(' ')"
   ]
  },
  {
   "cell_type": "code",
   "execution_count": 10,
   "id": "fatal-paint",
   "metadata": {},
   "outputs": [
    {
     "data": {
      "text/plain": [
       "['This', 'is', 'a', 'bunch', 'of', 'words']"
      ]
     },
     "execution_count": 10,
     "metadata": {},
     "output_type": "execute_result"
    }
   ],
   "source": [
    "words = 'This   is a bunch  of    words'\n",
    "words.split()  # no argument at all -- meaning, all whitespace, any length"
   ]
  },
  {
   "cell_type": "code",
   "execution_count": 11,
   "id": "extended-battlefield",
   "metadata": {},
   "outputs": [
    {
     "data": {
      "text/plain": [
       "'This   is a bunch  of    words'"
      ]
     },
     "execution_count": 11,
     "metadata": {},
     "output_type": "execute_result"
    }
   ],
   "source": [
    "words"
   ]
  },
  {
   "cell_type": "code",
   "execution_count": 12,
   "id": "flush-particular",
   "metadata": {},
   "outputs": [
    {
     "data": {
      "text/plain": [
       "['This', 'is', 'a', 'bunch', 'of', 'words']"
      ]
     },
     "execution_count": 12,
     "metadata": {},
     "output_type": "execute_result"
    }
   ],
   "source": [
    "# str.split takes a string, and returns a list of strings\n",
    "# str.join takes a list of strings, and returns one string\n",
    "\n",
    "words = words.split()  # now, \"words\" is a list of strings\n",
    "words"
   ]
  },
  {
   "cell_type": "code",
   "execution_count": 13,
   "id": "imperial-messaging",
   "metadata": {},
   "outputs": [
    {
     "data": {
      "text/plain": [
       "'This*is*a*bunch*of*words'"
      ]
     },
     "execution_count": 13,
     "metadata": {},
     "output_type": "execute_result"
    }
   ],
   "source": [
    "# I can use str.join to get a new string back!\n",
    "# the string used in str.join is the \"glue\" put between elements of the list\n",
    "\n",
    "# glue.join(list_of_strings)\n",
    "'*'.join(words)"
   ]
  },
  {
   "cell_type": "code",
   "execution_count": 14,
   "id": "expected-petite",
   "metadata": {},
   "outputs": [
    {
     "data": {
      "text/plain": [
       "['This', 'is', 'a', 'bunch', 'of', 'words']"
      ]
     },
     "execution_count": 14,
     "metadata": {},
     "output_type": "execute_result"
    }
   ],
   "source": [
    "words"
   ]
  },
  {
   "cell_type": "code",
   "execution_count": 15,
   "id": "multiple-motivation",
   "metadata": {},
   "outputs": [
    {
     "data": {
      "text/plain": [
       "'This is a bunch of words'"
      ]
     },
     "execution_count": 15,
     "metadata": {},
     "output_type": "execute_result"
    }
   ],
   "source": [
    "' '.join(words)"
   ]
  },
  {
   "cell_type": "code",
   "execution_count": 18,
   "id": "acquired-advancement",
   "metadata": {},
   "outputs": [
    {
     "data": {
      "text/plain": [
       "' *T*h*i*s* * * * *i*s* *t*h*e* *b*u*n*c*h* *o*f* *w*w*o*r*d*s*s*s*s*s*s'"
      ]
     },
     "execution_count": 18,
     "metadata": {},
     "output_type": "execute_result"
    }
   ],
   "source": [
    "words = ' This    is the bunch of wwordssssss'\n",
    "'*'.join(words)  # argument is an iterable of strings -- a string!"
   ]
  },
  {
   "cell_type": "code",
   "execution_count": 19,
   "id": "indian-draft",
   "metadata": {},
   "outputs": [
    {
     "data": {
      "text/plain": [
       "'This*is*the*bunch*of*wwordssssss'"
      ]
     },
     "execution_count": 19,
     "metadata": {},
     "output_type": "execute_result"
    }
   ],
   "source": [
    "'*'.join(words.split())  # argument is a list of strings"
   ]
  },
  {
   "cell_type": "code",
   "execution_count": null,
   "id": "choice-grain",
   "metadata": {},
   "outputs": [],
   "source": []
  },
  {
   "cell_type": "markdown",
   "id": "increased-myrtle",
   "metadata": {},
   "source": [
    "# Exercise: Pig Latin a sentence\n",
    "\n",
    "1. Ask the user to enter a sentence in English (no capitals, no punctuation)\n",
    "2. Translate the sentence into Pig Latin, printing the translation on a single line\n",
    "\n",
    "For now: \n",
    "1. Ask the user to enter a sentence\n",
    "2. Turn the sentence into a list of strings, using `str.split`\n",
    "3. Go through the words in the sentence, one at a time, and print them *translated into Pig Latin*"
   ]
  },
  {
   "cell_type": "code",
   "execution_count": 22,
   "id": "annual-chapel",
   "metadata": {},
   "outputs": [
    {
     "name": "stdout",
     "output_type": "stream",
     "text": [
      "Enter a sentence: this is a test\n",
      "this\n",
      "is\n",
      "a\n",
      "test\n"
     ]
    }
   ],
   "source": [
    "sentence = input('Enter a sentence: ')\n",
    "\n",
    "words = sentence.split()   # no argument means: any whitespace is a separator\n",
    "\n",
    "for word in words:\n",
    "    print(word)"
   ]
  },
  {
   "cell_type": "code",
   "execution_count": 23,
   "id": "clean-difference",
   "metadata": {},
   "outputs": [
    {
     "name": "stdout",
     "output_type": "stream",
     "text": [
      "Enter a word: adsfa\n",
      "adsfaway\n"
     ]
    }
   ],
   "source": [
    "word = input('Enter a word: ')\n",
    "\n",
    "if word[0] in 'aeiou':\n",
    "    print(word + 'way')\n",
    "else:\n",
    "    print(word[1:] + word[0] + 'ay')"
   ]
  },
  {
   "cell_type": "code",
   "execution_count": 24,
   "id": "soviet-switch",
   "metadata": {},
   "outputs": [
    {
     "name": "stdout",
     "output_type": "stream",
     "text": [
      "Enter a sentence: this is a test\n",
      "histay\n",
      "isway\n",
      "away\n",
      "esttay\n"
     ]
    }
   ],
   "source": [
    "sentence = input('Enter a sentence: ')\n",
    "\n",
    "words = sentence.split()   # no argument means: any whitespace is a separator\n",
    "\n",
    "for word in words:\n",
    "    if word[0] in 'aeiou':\n",
    "        print(word + 'way')\n",
    "    else:\n",
    "        print(word[1:] + word[0] + 'ay')"
   ]
  },
  {
   "cell_type": "code",
   "execution_count": null,
   "id": "complimentary-output",
   "metadata": {},
   "outputs": [],
   "source": []
  }
 ],
 "metadata": {
  "kernelspec": {
   "display_name": "Python 3",
   "language": "python",
   "name": "python3"
  },
  "language_info": {
   "codemirror_mode": {
    "name": "ipython",
    "version": 3
   },
   "file_extension": ".py",
   "mimetype": "text/x-python",
   "name": "python",
   "nbconvert_exporter": "python",
   "pygments_lexer": "ipython3",
   "version": "3.8.6"
  }
 },
 "nbformat": 4,
 "nbformat_minor": 5
}
