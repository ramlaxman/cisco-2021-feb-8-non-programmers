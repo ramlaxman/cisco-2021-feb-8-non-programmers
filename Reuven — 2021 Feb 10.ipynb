{
 "cells": [
  {
   "cell_type": "code",
   "execution_count": 1,
   "id": "acquired-biotechnology",
   "metadata": {},
   "outputs": [
    {
     "name": "stdout",
     "output_type": "stream",
     "text": [
      "Friendly-traceback installed.\n"
     ]
    }
   ],
   "source": [
    "from friendly_traceback.ipython import *"
   ]
  },
  {
   "cell_type": "markdown",
   "id": "powered-deadline",
   "metadata": {},
   "source": [
    "# Agenda\n",
    "\n",
    "1. Talk about `str.split` and `str.join`\n",
    "2. Dictionaries\n",
    "3. Files\n",
    "4. PyCharm"
   ]
  },
  {
   "cell_type": "markdown",
   "id": "introductory-mixer",
   "metadata": {},
   "source": [
    "If I have data d of type X and I want data of type Y, I can just say\n",
    "\n",
    "`Y(d)`   # give me a new piece of Y data, based on d"
   ]
  },
  {
   "cell_type": "code",
   "execution_count": 2,
   "id": "controversial-nirvana",
   "metadata": {},
   "outputs": [
    {
     "data": {
      "text/plain": [
       "12345"
      ]
     },
     "execution_count": 2,
     "metadata": {},
     "output_type": "execute_result"
    }
   ],
   "source": [
    "int('12345')  # we're getting an int based on a string"
   ]
  },
  {
   "cell_type": "code",
   "execution_count": 3,
   "id": "allied-composition",
   "metadata": {},
   "outputs": [
    {
     "data": {
      "text/plain": [
       "'2468'"
      ]
     },
     "execution_count": 3,
     "metadata": {},
     "output_type": "execute_result"
    }
   ],
   "source": [
    "str(2468) # getting a string based on an int"
   ]
  },
  {
   "cell_type": "code",
   "execution_count": 4,
   "id": "several-ghost",
   "metadata": {},
   "outputs": [
    {
     "data": {
      "text/plain": [
       "['a', 'b', 'c', 'd', 'e']"
      ]
     },
     "execution_count": 4,
     "metadata": {},
     "output_type": "execute_result"
    }
   ],
   "source": [
    "# to move from string to list, we can use \"list\"\n",
    "list('abcde')"
   ]
  },
  {
   "cell_type": "code",
   "execution_count": 5,
   "id": "black-saturday",
   "metadata": {},
   "outputs": [
    {
     "data": {
      "text/plain": [
       "'[10, 20, 30]'"
      ]
     },
     "execution_count": 5,
     "metadata": {},
     "output_type": "execute_result"
    }
   ],
   "source": [
    "# to move from list to string, we can use \"str\"\n",
    "mylist = [10, 20, 30]\n",
    "str(mylist)"
   ]
  },
  {
   "cell_type": "code",
   "execution_count": 6,
   "id": "suspected-snowboard",
   "metadata": {},
   "outputs": [
    {
     "data": {
      "text/plain": [
       "['f',\n",
       " 'i',\n",
       " 'r',\n",
       " 's',\n",
       " 't',\n",
       " 'n',\n",
       " 'a',\n",
       " 'm',\n",
       " 'e',\n",
       " '|',\n",
       " 'l',\n",
       " 'a',\n",
       " 's',\n",
       " 't',\n",
       " 'n',\n",
       " 'a',\n",
       " 'm',\n",
       " 'e',\n",
       " '|',\n",
       " 'a',\n",
       " 'g',\n",
       " 'e']"
      ]
     },
     "execution_count": 6,
     "metadata": {},
     "output_type": "execute_result"
    }
   ],
   "source": [
    "# but sometimes, we want to move from list->string and string->list differently\n",
    "\n",
    "record = 'firstname|lastname|age'\n",
    "\n",
    "# how can I turn this into a list, with each element being a different field of the record?\n",
    "\n",
    "list(record)"
   ]
  },
  {
   "cell_type": "code",
   "execution_count": null,
   "id": "wrapped-output",
   "metadata": {},
   "outputs": [],
   "source": []
  }
 ],
 "metadata": {
  "kernelspec": {
   "display_name": "Python 3",
   "language": "python",
   "name": "python3"
  },
  "language_info": {
   "codemirror_mode": {
    "name": "ipython",
    "version": 3
   },
   "file_extension": ".py",
   "mimetype": "text/x-python",
   "name": "python",
   "nbconvert_exporter": "python",
   "pygments_lexer": "ipython3",
   "version": "3.8.6"
  }
 },
 "nbformat": 4,
 "nbformat_minor": 5
}
