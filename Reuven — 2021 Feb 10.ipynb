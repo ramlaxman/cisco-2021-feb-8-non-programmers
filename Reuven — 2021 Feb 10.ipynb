{
 "cells": [
  {
   "cell_type": "code",
   "execution_count": 1,
   "id": "judicial-writer",
   "metadata": {},
   "outputs": [
    {
     "name": "stdout",
     "output_type": "stream",
     "text": [
      "Friendly-traceback installed.\n"
     ]
    }
   ],
   "source": [
    "from friendly_traceback.ipython import *"
   ]
  },
  {
   "cell_type": "markdown",
   "id": "returning-thomson",
   "metadata": {},
   "source": [
    "# Agenda\n",
    "\n",
    "1. Talk about `str.split` and `str.join`\n",
    "2. Dictionaries\n",
    "3. Files\n",
    "4. PyCharm"
   ]
  },
  {
   "cell_type": "markdown",
   "id": "sized-civilian",
   "metadata": {},
   "source": [
    "If I have data d of type X and I want data of type Y, I can just say\n",
    "\n",
    "`Y(d)`   # give me a new piece of Y data, based on d"
   ]
  },
  {
   "cell_type": "code",
   "execution_count": 2,
   "id": "sharp-reservoir",
   "metadata": {},
   "outputs": [
    {
     "data": {
      "text/plain": [
       "12345"
      ]
     },
     "execution_count": 2,
     "metadata": {},
     "output_type": "execute_result"
    }
   ],
   "source": [
    "int('12345')  # we're getting an int based on a string"
   ]
  },
  {
   "cell_type": "code",
   "execution_count": 3,
   "id": "above-resident",
   "metadata": {},
   "outputs": [
    {
     "data": {
      "text/plain": [
       "'2468'"
      ]
     },
     "execution_count": 3,
     "metadata": {},
     "output_type": "execute_result"
    }
   ],
   "source": [
    "str(2468) # getting a string based on an int"
   ]
  },
  {
   "cell_type": "code",
   "execution_count": 4,
   "id": "atomic-shelter",
   "metadata": {},
   "outputs": [
    {
     "data": {
      "text/plain": [
       "['a', 'b', 'c', 'd', 'e']"
      ]
     },
     "execution_count": 4,
     "metadata": {},
     "output_type": "execute_result"
    }
   ],
   "source": [
    "# to move from string to list, we can use \"list\"\n",
    "list('abcde')"
   ]
  },
  {
   "cell_type": "code",
   "execution_count": 5,
   "id": "stopped-comment",
   "metadata": {},
   "outputs": [
    {
     "data": {
      "text/plain": [
       "'[10, 20, 30]'"
      ]
     },
     "execution_count": 5,
     "metadata": {},
     "output_type": "execute_result"
    }
   ],
   "source": [
    "# to move from list to string, we can use \"str\"\n",
    "mylist = [10, 20, 30]\n",
    "str(mylist)"
   ]
  },
  {
   "cell_type": "code",
   "execution_count": 7,
   "id": "innocent-wheel",
   "metadata": {},
   "outputs": [
    {
     "data": {
      "text/plain": [
       "['firstname', 'lastname', 'age']"
      ]
     },
     "execution_count": 7,
     "metadata": {},
     "output_type": "execute_result"
    }
   ],
   "source": [
    "# but sometimes, we want to move from list->string and string->list differently\n",
    "\n",
    "record = 'firstname|lastname|age'\n",
    "\n",
    "# how can I turn this into a list, with each element being a different field of the record?\n",
    "\n",
    "# I can use the \"str.split\" method (the split method for strings)\n",
    "\n",
    "record.split('|')  # return a list of strings, whose elements are from record, separated by |"
   ]
  },
  {
   "cell_type": "code",
   "execution_count": 8,
   "id": "internal-consciousness",
   "metadata": {},
   "outputs": [
    {
     "data": {
      "text/plain": [
       "['This', 'is', 'a', 'bunch', 'of', 'words']"
      ]
     },
     "execution_count": 8,
     "metadata": {},
     "output_type": "execute_result"
    }
   ],
   "source": [
    "words = 'This is a bunch of words'\n",
    "words.split(' ')"
   ]
  },
  {
   "cell_type": "code",
   "execution_count": 9,
   "id": "opposite-feelings",
   "metadata": {},
   "outputs": [
    {
     "data": {
      "text/plain": [
       "['This', '', '', 'is', 'a', 'bunch', '', 'of', '', '', '', 'words']"
      ]
     },
     "execution_count": 9,
     "metadata": {},
     "output_type": "execute_result"
    }
   ],
   "source": [
    "words = 'This   is a bunch  of    words'\n",
    "words.split(' ')"
   ]
  },
  {
   "cell_type": "code",
   "execution_count": 10,
   "id": "improving-colon",
   "metadata": {},
   "outputs": [
    {
     "data": {
      "text/plain": [
       "['This', 'is', 'a', 'bunch', 'of', 'words']"
      ]
     },
     "execution_count": 10,
     "metadata": {},
     "output_type": "execute_result"
    }
   ],
   "source": [
    "words = 'This   is a bunch  of    words'\n",
    "words.split()  # no argument at all -- meaning, all whitespace, any length"
   ]
  },
  {
   "cell_type": "code",
   "execution_count": 11,
   "id": "statewide-state",
   "metadata": {},
   "outputs": [
    {
     "data": {
      "text/plain": [
       "'This   is a bunch  of    words'"
      ]
     },
     "execution_count": 11,
     "metadata": {},
     "output_type": "execute_result"
    }
   ],
   "source": [
    "words"
   ]
  },
  {
   "cell_type": "code",
   "execution_count": 12,
   "id": "accurate-mercy",
   "metadata": {},
   "outputs": [
    {
     "data": {
      "text/plain": [
       "['This', 'is', 'a', 'bunch', 'of', 'words']"
      ]
     },
     "execution_count": 12,
     "metadata": {},
     "output_type": "execute_result"
    }
   ],
   "source": [
    "# str.split takes a string, and returns a list of strings\n",
    "# str.join takes a list of strings, and returns one string\n",
    "\n",
    "words = words.split()  # now, \"words\" is a list of strings\n",
    "words"
   ]
  },
  {
   "cell_type": "code",
   "execution_count": 13,
   "id": "explicit-constitutional",
   "metadata": {},
   "outputs": [
    {
     "data": {
      "text/plain": [
       "'This*is*a*bunch*of*words'"
      ]
     },
     "execution_count": 13,
     "metadata": {},
     "output_type": "execute_result"
    }
   ],
   "source": [
    "# I can use str.join to get a new string back!\n",
    "# the string used in str.join is the \"glue\" put between elements of the list\n",
    "\n",
    "# glue.join(list_of_strings)\n",
    "'*'.join(words)"
   ]
  },
  {
   "cell_type": "code",
   "execution_count": 14,
   "id": "removed-flooring",
   "metadata": {},
   "outputs": [
    {
     "data": {
      "text/plain": [
       "['This', 'is', 'a', 'bunch', 'of', 'words']"
      ]
     },
     "execution_count": 14,
     "metadata": {},
     "output_type": "execute_result"
    }
   ],
   "source": [
    "words"
   ]
  },
  {
   "cell_type": "code",
   "execution_count": 15,
   "id": "worth-shock",
   "metadata": {},
   "outputs": [
    {
     "data": {
      "text/plain": [
       "'This is a bunch of words'"
      ]
     },
     "execution_count": 15,
     "metadata": {},
     "output_type": "execute_result"
    }
   ],
   "source": [
    "' '.join(words)"
   ]
  },
  {
   "cell_type": "code",
   "execution_count": 18,
   "id": "assisted-royal",
   "metadata": {},
   "outputs": [
    {
     "data": {
      "text/plain": [
       "' *T*h*i*s* * * * *i*s* *t*h*e* *b*u*n*c*h* *o*f* *w*w*o*r*d*s*s*s*s*s*s'"
      ]
     },
     "execution_count": 18,
     "metadata": {},
     "output_type": "execute_result"
    }
   ],
   "source": [
    "words = ' This    is the bunch of wwordssssss'\n",
    "'*'.join(words)  # argument is an iterable of strings -- a string!"
   ]
  },
  {
   "cell_type": "code",
   "execution_count": 19,
   "id": "recreational-separate",
   "metadata": {},
   "outputs": [
    {
     "data": {
      "text/plain": [
       "'This*is*the*bunch*of*wwordssssss'"
      ]
     },
     "execution_count": 19,
     "metadata": {},
     "output_type": "execute_result"
    }
   ],
   "source": [
    "'*'.join(words.split())  # argument is a list of strings"
   ]
  },
  {
   "cell_type": "code",
   "execution_count": null,
   "id": "civil-grammar",
   "metadata": {},
   "outputs": [],
   "source": []
  },
  {
   "cell_type": "markdown",
   "id": "large-scholarship",
   "metadata": {},
   "source": [
    "# Exercise: Pig Latin a sentence\n",
    "\n",
    "1. Ask the user to enter a sentence in English (no capitals, no punctuation)\n",
    "2. Translate the sentence into Pig Latin, printing the translation on a single line\n",
    "\n",
    "For now: \n",
    "1. Ask the user to enter a sentence\n",
    "2. Turn the sentence into a list of strings, using `str.split`\n",
    "3. Go through the words in the sentence, one at a time, and print them *translated into Pig Latin*"
   ]
  },
  {
   "cell_type": "code",
   "execution_count": 22,
   "id": "trying-mechanism",
   "metadata": {},
   "outputs": [
    {
     "name": "stdout",
     "output_type": "stream",
     "text": [
      "Enter a sentence: this is a test\n",
      "this\n",
      "is\n",
      "a\n",
      "test\n"
     ]
    }
   ],
   "source": [
    "sentence = input('Enter a sentence: ')\n",
    "\n",
    "words = sentence.split()   # no argument means: any whitespace is a separator\n",
    "\n",
    "for word in words:\n",
    "    print(word)"
   ]
  },
  {
   "cell_type": "code",
   "execution_count": 23,
   "id": "desirable-stretch",
   "metadata": {},
   "outputs": [
    {
     "name": "stdout",
     "output_type": "stream",
     "text": [
      "Enter a word: adsfa\n",
      "adsfaway\n"
     ]
    }
   ],
   "source": [
    "word = input('Enter a word: ')\n",
    "\n",
    "if word[0] in 'aeiou':\n",
    "    print(word + 'way')\n",
    "else:\n",
    "    print(word[1:] + word[0] + 'ay')"
   ]
  },
  {
   "cell_type": "code",
   "execution_count": 24,
   "id": "german-tyler",
   "metadata": {},
   "outputs": [
    {
     "name": "stdout",
     "output_type": "stream",
     "text": [
      "Enter a sentence: this is a test\n",
      "histay\n",
      "isway\n",
      "away\n",
      "esttay\n"
     ]
    }
   ],
   "source": [
    "sentence = input('Enter a sentence: ')\n",
    "\n",
    "words = sentence.split()   # no argument means: any whitespace is a separator\n",
    "\n",
    "for word in words:\n",
    "    if word[0] in 'aeiou':\n",
    "        print(word + 'way')\n",
    "    else:\n",
    "        print(word[1:] + word[0] + 'ay')"
   ]
  },
  {
   "cell_type": "markdown",
   "id": "alone-brake",
   "metadata": {},
   "source": [
    "# Exercise: Pig Latin sentence, part 3\n",
    "\n",
    "1. Create an empty list, and assign it to `output`.\n",
    "2. In our `for` loop, when we're translating words into Pig Latin, we're *not* going to print them on the screen.  Rather, we'll use `list.append` to add the translation to the end of the `output` list.\n"
   ]
  },
  {
   "cell_type": "code",
   "execution_count": 25,
   "id": "graphic-cosmetic",
   "metadata": {},
   "outputs": [],
   "source": [
    "mylist = [10, 20, 30]\n",
    "mylist.append(40)   # append adds the item to the end of the list\n",
    "mylist.append(50)  "
   ]
  },
  {
   "cell_type": "code",
   "execution_count": 26,
   "id": "sized-negative",
   "metadata": {},
   "outputs": [
    {
     "data": {
      "text/plain": [
       "[10, 20, 30, 40, 50]"
      ]
     },
     "execution_count": 26,
     "metadata": {},
     "output_type": "execute_result"
    }
   ],
   "source": [
    "mylist"
   ]
  },
  {
   "cell_type": "code",
   "execution_count": 27,
   "id": "greatest-mitchell",
   "metadata": {},
   "outputs": [
    {
     "data": {
      "text/plain": [
       "[10, 20]"
      ]
     },
     "execution_count": 27,
     "metadata": {},
     "output_type": "execute_result"
    }
   ],
   "source": [
    "mylist = []\n",
    "mylist.append(10)\n",
    "mylist.append(20)\n",
    "\n",
    "mylist"
   ]
  },
  {
   "cell_type": "code",
   "execution_count": 29,
   "id": "involved-allah",
   "metadata": {},
   "outputs": [
    {
     "name": "stdout",
     "output_type": "stream",
     "text": [
      "Enter a sentence: this is a test\n"
     ]
    },
    {
     "data": {
      "text/plain": [
       "['histay', 'isway', 'away', 'esttay']"
      ]
     },
     "execution_count": 29,
     "metadata": {},
     "output_type": "execute_result"
    }
   ],
   "source": [
    "output = []\n",
    "\n",
    "sentence = input('Enter a sentence: ')\n",
    "\n",
    "words = sentence.split()   # no argument means: any whitespace is a separator\n",
    "\n",
    "for word in words:\n",
    "    if word[0] in 'aeiou':\n",
    "        output.append(word + 'way') \n",
    "    else:\n",
    "        output.append(word[1:] + word[0] + 'ay')  \n",
    "        \n",
    "output"
   ]
  },
  {
   "cell_type": "markdown",
   "id": "actual-harvey",
   "metadata": {},
   "source": [
    "# Exercise: Pig Latin sentence, part 4\n",
    "\n",
    "Instead of just displaying/returning `output`, turn it into a string, and print that out.\n",
    "\n",
    "Remember: The `str.join` method:\n",
    "- Runs on a string, the \"glue\"\n",
    "- The argument (in parentheses) is a list of strings/words to join together\n",
    "- The method returns a string"
   ]
  },
  {
   "cell_type": "code",
   "execution_count": 31,
   "id": "unusual-thermal",
   "metadata": {},
   "outputs": [
    {
     "name": "stdout",
     "output_type": "stream",
     "text": [
      "abcd*efgh*ijklm\n"
     ]
    }
   ],
   "source": [
    "mylist = ['abcd', 'efgh', 'ijklm']\n",
    "\n",
    "s = '*'.join(mylist)  # '*' is what we're running the method on, the \"glue\"\n",
    "                  # mylist is the variable containing a list of strings\n",
    "    \n",
    "# Notice: When we do this, mylist DOES NOT CHANGE!\n",
    "# str.join returns a new string, which we can use in assignment or printing\n",
    "\n",
    "print(s)"
   ]
  },
  {
   "cell_type": "code",
   "execution_count": 33,
   "id": "uniform-insertion",
   "metadata": {},
   "outputs": [
    {
     "name": "stdout",
     "output_type": "stream",
     "text": [
      "Enter a sentence: this is a test\n",
      "histay isway away esttay\n"
     ]
    }
   ],
   "source": [
    "output = []\n",
    "\n",
    "sentence = input('Enter a sentence: ')\n",
    "\n",
    "words = sentence.split()   # no argument means: any whitespace is a separator\n",
    "\n",
    "for word in words:\n",
    "    if word[0] in 'aeiou':\n",
    "        output.append(word + 'way') \n",
    "    else:\n",
    "        output.append(word[1:] + word[0] + 'ay')  \n",
    "        \n",
    "s = ' '.join(output)\n",
    "print(s)"
   ]
  },
  {
   "cell_type": "code",
   "execution_count": 34,
   "id": "prostate-ghana",
   "metadata": {},
   "outputs": [
    {
     "data": {
      "text/plain": [
       "'histay isway away esttay'"
      ]
     },
     "execution_count": 34,
     "metadata": {},
     "output_type": "execute_result"
    }
   ],
   "source": [
    "s"
   ]
  },
  {
   "cell_type": "code",
   "execution_count": 35,
   "id": "otherwise-tractor",
   "metadata": {},
   "outputs": [],
   "source": [
    "# numbers, separated by | characters\n",
    "s = '10|20|30|40|50|60'\n",
    "\n",
    "# I want this string as it is, *BUT* each number should\n",
    "# be translated into binary (just 1s and 0s)"
   ]
  },
  {
   "cell_type": "code",
   "execution_count": 36,
   "id": "strange-council",
   "metadata": {},
   "outputs": [
    {
     "data": {
      "text/plain": [
       "'0b11001'"
      ]
     },
     "execution_count": 36,
     "metadata": {},
     "output_type": "execute_result"
    }
   ],
   "source": [
    "bin(25)"
   ]
  },
  {
   "cell_type": "code",
   "execution_count": 39,
   "id": "supposed-closing",
   "metadata": {},
   "outputs": [
    {
     "name": "stdout",
     "output_type": "stream",
     "text": [
      "0b1010|0b10100|0b11110|0b101000|0b110010|0b111100\n"
     ]
    }
   ],
   "source": [
    "# If I want to translate this string:\n",
    "# (1) Create an output list\n",
    "# (2) Break up s into individual fields\n",
    "# (3) Turn each element into an integer\n",
    "# (4) Run \"bin\" on each element\n",
    "# (5) Add each translated element to our output list\n",
    "# (6) Join that together with | characters\n",
    "\n",
    "s = '10|20|30|40|50|60'\n",
    "output = []\n",
    "\n",
    "fields = s.split('|')  # get a list of strings back\n",
    "\n",
    "for one_field in fields:\n",
    "    binary_field = bin(int(one_field))\n",
    "    output.append(binary_field)\n",
    "    \n",
    "output_string = '|'.join(output)\n",
    "print(output_string)"
   ]
  },
  {
   "cell_type": "code",
   "execution_count": 42,
   "id": "center-hampton",
   "metadata": {},
   "outputs": [
    {
     "name": "stdout",
     "output_type": "stream",
     "text": [
      "ab,cd,ef\n",
      "gh,ij,kl\n",
      "mno,pqrst,uvw\n"
     ]
    }
   ],
   "source": [
    "mylist = [['ab', 'cd', 'ef'],\n",
    "          ['gh', 'ij', 'kl'],\n",
    "          ['mno', 'pqrst', 'uvw']]\n",
    "\n",
    "output = []\n",
    "for one_record in mylist:\n",
    "    one_string_record = ','.join(one_record)\n",
    "    output.append(one_string_record)\n",
    "\n",
    "output_text = '\\n'.join(output)    \n",
    "print(output_text)"
   ]
  },
  {
   "cell_type": "markdown",
   "id": "copyrighted-reach",
   "metadata": {},
   "source": [
    "# Data structure: Dictionaries\n",
    "\n",
    "Dictionaries have many different names:\n",
    "- Hash tables\n",
    "- Hashes\n",
    "- Hash maps\n",
    "- Maps\n",
    "- Associative arrays\n",
    "- Key-value stores\n",
    "- Name-value stores"
   ]
  },
  {
   "cell_type": "code",
   "execution_count": 43,
   "id": "nuclear-music",
   "metadata": {},
   "outputs": [],
   "source": [
    "# To create a new dictionary, we use {} \n",
    "# inside, we have key-value pairs\n",
    "# each key-value pair is separated by a colon\n",
    "# the pairs are separated from one another with commas\n",
    "\n",
    "d = {'a':1, 'b':2, 'c':3}     # key:value, key:value, key:value\n",
    "\n",
    "# here, my pairs are:\n",
    "# 'a' - 1\n",
    "# 'b' - 2\n",
    "# 'c' - 3\n",
    "\n",
    "# Unlke a list or string, the keys/indexes are strings!\n",
    "# in a dict, the keys can be anything immutable (basically, numbers and strings)\n",
    "# the values can be anything at all"
   ]
  },
  {
   "cell_type": "code",
   "execution_count": 44,
   "id": "pregnant-maintenance",
   "metadata": {},
   "outputs": [
    {
     "data": {
      "text/plain": [
       "1"
      ]
     },
     "execution_count": 44,
     "metadata": {},
     "output_type": "execute_result"
    }
   ],
   "source": [
    "d['a']   # meaning: give me the value in dict d for key 'a'"
   ]
  },
  {
   "cell_type": "code",
   "execution_count": 45,
   "id": "freelance-miller",
   "metadata": {},
   "outputs": [
    {
     "data": {
      "text/plain": [
       "2"
      ]
     },
     "execution_count": 45,
     "metadata": {},
     "output_type": "execute_result"
    }
   ],
   "source": [
    "d['b']  # give me the value in dict d for key 'b'"
   ]
  },
  {
   "cell_type": "code",
   "execution_count": 46,
   "id": "alleged-helmet",
   "metadata": {},
   "outputs": [
    {
     "data": {
      "text/plain": [
       "'Reuven'"
      ]
     },
     "execution_count": 46,
     "metadata": {},
     "output_type": "execute_result"
    }
   ],
   "source": [
    "person = ['Reuven', 'Lerner', 46]\n",
    "person[0]  # first name"
   ]
  },
  {
   "cell_type": "code",
   "execution_count": 47,
   "id": "descending-landscape",
   "metadata": {},
   "outputs": [
    {
     "data": {
      "text/plain": [
       "'Lerner'"
      ]
     },
     "execution_count": 47,
     "metadata": {},
     "output_type": "execute_result"
    }
   ],
   "source": [
    "person[1] # last name"
   ]
  },
  {
   "cell_type": "code",
   "execution_count": 48,
   "id": "great-earth",
   "metadata": {},
   "outputs": [
    {
     "data": {
      "text/plain": [
       "46"
      ]
     },
     "execution_count": 48,
     "metadata": {},
     "output_type": "execute_result"
    }
   ],
   "source": [
    "person[2]  # shoe size"
   ]
  },
  {
   "cell_type": "code",
   "execution_count": 49,
   "id": "funky-estate",
   "metadata": {},
   "outputs": [],
   "source": [
    "person = {'first':'Reuven', 'last':'Lerner', 'shoesize':46}"
   ]
  },
  {
   "cell_type": "code",
   "execution_count": 50,
   "id": "superb-section",
   "metadata": {},
   "outputs": [
    {
     "data": {
      "text/plain": [
       "'Reuven'"
      ]
     },
     "execution_count": 50,
     "metadata": {},
     "output_type": "execute_result"
    }
   ],
   "source": [
    "person['first']"
   ]
  },
  {
   "cell_type": "code",
   "execution_count": 51,
   "id": "indoor-guide",
   "metadata": {},
   "outputs": [
    {
     "data": {
      "text/plain": [
       "'Lerner'"
      ]
     },
     "execution_count": 51,
     "metadata": {},
     "output_type": "execute_result"
    }
   ],
   "source": [
    "person['last']"
   ]
  },
  {
   "cell_type": "code",
   "execution_count": 52,
   "id": "departmental-virginia",
   "metadata": {},
   "outputs": [
    {
     "data": {
      "text/plain": [
       "46"
      ]
     },
     "execution_count": 52,
     "metadata": {},
     "output_type": "execute_result"
    }
   ],
   "source": [
    "person['shoesize']"
   ]
  },
  {
   "cell_type": "code",
   "execution_count": 53,
   "id": "missing-vertex",
   "metadata": {},
   "outputs": [
    {
     "name": "stderr",
     "output_type": "stream",
     "text": [
      "\n",
      "Traceback (most recent call last):\n",
      "  File \"<ipython-input-53>\", line 1, in <module>\n",
      "    person['height']\n",
      "KeyError: 'height'\n"
     ]
    }
   ],
   "source": [
    "person['height']"
   ]
  },
  {
   "cell_type": "code",
   "execution_count": 54,
   "id": "living-colon",
   "metadata": {
    "collapsed": true
   },
   "outputs": [
    {
     "name": "stderr",
     "output_type": "stream",
     "text": [
      "\n",
      "Traceback (most recent call last):\n",
      "  File \"<ipython-input-53>\", line 1, in <module>\n",
      "    person['height']\n",
      "KeyError: 'height'\n",
      "\n",
      "    A `KeyError` is raised when a value is not found as a\n",
      "    key in a Python dict.\n",
      "    \n",
      "        In your program, the key that cannot be found is `'height'`.\n",
      "        \n",
      "    Exception raised on line 1 of file <ipython-input-53>.\n",
      "    \n",
      "    -->1: person['height']\n",
      "\n",
      "            person: {'first': 'Reuven', 'last': 'Lerner', 'shoesize': 46}\n",
      "        \n"
     ]
    }
   ],
   "source": [
    "explain()"
   ]
  },
  {
   "cell_type": "code",
   "execution_count": 55,
   "id": "progressive-breast",
   "metadata": {},
   "outputs": [
    {
     "data": {
      "text/plain": [
       "True"
      ]
     },
     "execution_count": 55,
     "metadata": {},
     "output_type": "execute_result"
    }
   ],
   "source": [
    "# The \"in\" operator works on dictionaries, too!\n",
    "# it checks if something is a *key*  (never a value)\n",
    "\n",
    "'shoesize' in person   # meaning: is 'shoesize' a key in the \"person\" dict?"
   ]
  },
  {
   "cell_type": "code",
   "execution_count": 56,
   "id": "conservative-clause",
   "metadata": {},
   "outputs": [
    {
     "data": {
      "text/plain": [
       "False"
      ]
     },
     "execution_count": 56,
     "metadata": {},
     "output_type": "execute_result"
    }
   ],
   "source": [
    "'height' in person   # meaning: is 'height' a key in the \"person\" dict?"
   ]
  },
  {
   "cell_type": "markdown",
   "id": "filled-sally",
   "metadata": {},
   "source": [
    "# Dictionary basics\n",
    "\n",
    "1. Dicts contain key-value pairs\n",
    "    - Keys can be numbers or strings\n",
    "    - Values can be *anything* at all\n",
    "2. We define dicts with `{}`\n",
    "    - `d = {'a':1, 'b':2, 'c':3}`\n",
    "3. We use `[]` to retrieve a value based on a key\n",
    "    - `d['a']`  # returns 1\n",
    "    - `d['b']`  # returns 2\n",
    "4. If you request a key that doesn't exist, you get a `KeyError`\n",
    "5. You can use `in` to check if a key is in a dict\n",
    "    - `'a' in d`  # returns True\n",
    "    - `'x' in d`  # returns False\n",
    "    - `1 in d` # returns False -- we only check the keys!"
   ]
  },
  {
   "cell_type": "markdown",
   "id": "filled-chuck",
   "metadata": {},
   "source": [
    "# Exercise: Restaurant menu\n",
    "\n",
    "1. Define a dictionary, called `menu`, in which the keys are the items on a restaurant menu and the values are the prices.\n",
    "\n",
    "2. Ask the user to order one item from the menu.\n",
    "3. If the item is on the menu, print the price.\n",
    "4. If the item is *not* on the menu, then scold the user.\n",
    "\n",
    "Example:\n",
    "\n",
    "    Order: sandwich\n",
    "    sandwich costs 10\n",
    "    \n",
    "    Order: elephant\n",
    "    We are fresh out of elephant today"
   ]
  },
  {
   "cell_type": "code",
   "execution_count": 57,
   "id": "limited-diabetes",
   "metadata": {},
   "outputs": [
    {
     "data": {
      "text/plain": [
       "{'a': 1, 'b': 2, 'c': 3}"
      ]
     },
     "execution_count": 57,
     "metadata": {},
     "output_type": "execute_result"
    }
   ],
   "source": [
    "d"
   ]
  },
  {
   "cell_type": "code",
   "execution_count": 58,
   "id": "emotional-novelty",
   "metadata": {},
   "outputs": [
    {
     "name": "stdout",
     "output_type": "stream",
     "text": [
      "Enter a key: a\n"
     ]
    },
    {
     "data": {
      "text/plain": [
       "1"
      ]
     },
     "execution_count": 58,
     "metadata": {},
     "output_type": "execute_result"
    }
   ],
   "source": [
    "s = input('Enter a key: ')\n",
    "\n",
    "d[s]  # since s is 'a', d[s] is the same as d['a']"
   ]
  },
  {
   "cell_type": "code",
   "execution_count": 59,
   "id": "optional-amount",
   "metadata": {},
   "outputs": [
    {
     "data": {
      "text/plain": [
       "dict"
      ]
     },
     "execution_count": 59,
     "metadata": {},
     "output_type": "execute_result"
    }
   ],
   "source": [
    "# create the dict with {}\n",
    "menu = {'sandwich':10, 'tea':5, 'cake':7, 'apple':2}\n",
    "\n",
    "type(menu)"
   ]
  },
  {
   "cell_type": "code",
   "execution_count": 60,
   "id": "settled-junction",
   "metadata": {},
   "outputs": [
    {
     "data": {
      "text/plain": [
       "10"
      ]
     },
     "execution_count": 60,
     "metadata": {},
     "output_type": "execute_result"
    }
   ],
   "source": [
    "# retrieve from the dict with []\n",
    "menu['sandwich']"
   ]
  },
  {
   "cell_type": "code",
   "execution_count": 61,
   "id": "fiscal-incident",
   "metadata": {},
   "outputs": [
    {
     "data": {
      "text/plain": [
       "10"
      ]
     },
     "execution_count": 61,
     "metadata": {},
     "output_type": "execute_result"
    }
   ],
   "source": [
    "order = 'sandwich'\n",
    "menu[order]"
   ]
  },
  {
   "cell_type": "code",
   "execution_count": 67,
   "id": "based-radius",
   "metadata": {},
   "outputs": [
    {
     "name": "stdout",
     "output_type": "stream",
     "text": [
      "Order: sandwich\n",
      "The price of sandwich is 10.\n"
     ]
    }
   ],
   "source": [
    "menu = {'sandwich':10, 'tea':5, 'cake':7, 'apple':2}\n",
    "\n",
    "order = input('Order: ')\n",
    "\n",
    "if order in menu:  # is the user's input *really* a key in our dict?\n",
    "    price = menu[order]\n",
    "    print(f'The price of {order} is {price}.')\n",
    "else:\n",
    "    print(f'We are out of {order} today.')"
   ]
  },
  {
   "cell_type": "markdown",
   "id": "independent-nomination",
   "metadata": {},
   "source": [
    "# Exercise: Restaurant menu, part 2\n",
    "\n",
    "1. Define a variable, `total`, to be 0.\n",
    "2. Modify the existing code, so that we ask the user repeatedly what they want ot order.\n",
    "    - This means: Use a `while` loop!\n",
    "3. If the user enters an empty string, then `break` from the loop.\n",
    "4. If the user enters something on the menu, then assign `price` the price of the item (from the dict), update `total`, and print the price and new total.\n",
    "5. If the user enters something not on the menu, then say we're out of it today.\n",
    "6. At the end, print the total.\n",
    "\n",
    "Remember:\n",
    "- We can ask repeatedly with `while True`, so long as we also have a way to `break` from the loop\n",
    "\n",
    "Example:\n",
    "\n",
    "    Order: sandwich\n",
    "    sandwich is 10, total is 10\n",
    "    Order: tea\n",
    "    tea is 5, total is 15\n",
    "    Order: elephant\n",
    "    We're out of elephant today\n",
    "    Order: [ENTER]\n",
    "    Your total is 15"
   ]
  },
  {
   "cell_type": "code",
   "execution_count": 2,
   "id": "gross-potato",
   "metadata": {},
   "outputs": [
    {
     "name": "stdout",
     "output_type": "stream",
     "text": [
      "Order: cake\n",
      "The price of cake is 7, total is 7.\n",
      "Order: apple\n",
      "The price of apple is 2, total is 9.\n",
      "Order: tea\n",
      "The price of tea is 5, total is 14.\n",
      "Order: sandwich\n",
      "The price of sandwich is 10, total is 24.\n",
      "Order: sandwich\n",
      "The price of sandwich is 10, total is 34.\n",
      "Order: asdfafafafa\n",
      "We are out of asdfafafafa today.\n",
      "Order: \n",
      "total = 34\n"
     ]
    }
   ],
   "source": [
    "# (1) create the total variable, set to 0\n",
    "total = 0\n",
    "\n",
    "menu = {'sandwich':10, 'tea':5, 'cake':7, 'apple':2}\n",
    "\n",
    "while True:  # (2) infinite loop asking for an order\n",
    "\n",
    "    order = input('Order: ')\n",
    "\n",
    "    # (3) is the order an empty string? If so, then exit the loop\n",
    "    if order == '':\n",
    "        break\n",
    "\n",
    "    if order in menu: \n",
    "        price = menu[order]\n",
    "        # (4) add the price to the total\n",
    "        total += price\n",
    "        print(f'The price of {order} is {price}, total is {total}.')\n",
    "    else:\n",
    "        print(f'We are out of {order} today.')\n",
    "        \n",
    "# (5) print the total        \n",
    "print(f'total = {total}')"
   ]
  },
  {
   "cell_type": "code",
   "execution_count": 3,
   "id": "prepared-gauge",
   "metadata": {},
   "outputs": [
    {
     "data": {
      "text/plain": [
       "{'a': 1, 'b': 2, 'c': 3, 'x': 100}"
      ]
     },
     "execution_count": 3,
     "metadata": {},
     "output_type": "execute_result"
    }
   ],
   "source": [
    "d = {'a':1, 'b':2, 'c':3}\n",
    "\n",
    "# to add a new key-value pair to my dict, just assign\n",
    "d['x'] = 100\n",
    "\n",
    "d"
   ]
  },
  {
   "cell_type": "code",
   "execution_count": 4,
   "id": "portable-skiing",
   "metadata": {},
   "outputs": [
    {
     "data": {
      "text/plain": [
       "{'a': 1, 'b': 2, 'c': 3, 'x': 2345}"
      ]
     },
     "execution_count": 4,
     "metadata": {},
     "output_type": "execute_result"
    }
   ],
   "source": [
    "# to update an existing value, just assign\n",
    "d['x'] = 2345\n",
    "\n",
    "d"
   ]
  },
  {
   "cell_type": "code",
   "execution_count": 5,
   "id": "changing-singapore",
   "metadata": {},
   "outputs": [
    {
     "name": "stdout",
     "output_type": "stream",
     "text": [
      "Order: sandwich\n",
      "The price of sandwich is 10, total is 10.\n",
      "Order: tea\n",
      "The price of tea is 5, total is 15.\n",
      "Order: cake\n",
      "The price of cake is 7, total is 22.\n",
      "Order: \n",
      "all_prices = [10, 5, 7]\n",
      "total = 22\n"
     ]
    }
   ],
   "source": [
    "all_prices = []\n",
    "\n",
    "menu = {'sandwich':10, 'tea':5, 'cake':7, 'apple':2}\n",
    "\n",
    "while True: \n",
    "\n",
    "    order = input('Order: ')\n",
    "\n",
    "    if order == '':\n",
    "        break\n",
    "\n",
    "    if order in menu: \n",
    "        price = menu[order]\n",
    "        all_prices.append(price)\n",
    "        print(f'The price of {order} is {price}, total is {sum(all_prices)}.')\n",
    "    else:\n",
    "        print(f'We are out of {order} today.')\n",
    "\n",
    "print(f'all_prices = {all_prices}')\n",
    "print(f'total = {sum(all_prices)}')"
   ]
  },
  {
   "cell_type": "code",
   "execution_count": null,
   "id": "devoted-swift",
   "metadata": {},
   "outputs": [],
   "source": []
  },
  {
   "cell_type": "code",
   "execution_count": 6,
   "id": "upper-freedom",
   "metadata": {},
   "outputs": [
    {
     "name": "stdout",
     "output_type": "stream",
     "text": [
      "Enter a string: this is a test\n",
      "{'a': 1, 'e': 1, 'i': 2, 'o': 0, 'u': 0}\n"
     ]
    }
   ],
   "source": [
    "# count how many times each vowel is in a sentence \n",
    "\n",
    "counts = {'a':0, 'e':0, 'i':0, 'o':0, 'u':0}\n",
    "\n",
    "s = input('Enter a string: ')\n",
    "\n",
    "for one_character in s:\n",
    "    if one_character in 'aeiou':\n",
    "        counts[one_character] += 1\n",
    "\n",
    "print(counts)"
   ]
  },
  {
   "cell_type": "markdown",
   "id": "referenced-buying",
   "metadata": {},
   "source": [
    "# Exercise: vowels, digits, and others (dict edition)\n",
    "\n",
    "1. Create a dict with keys `vowels`, `digits`, and `others`, and all values will be 0.\n",
    "2. Ask the user to enter *ONE* string.\n",
    "3. Use a `for` loop to iterate over every character in the string.\n",
    "    - If the character is a vowel, update the count of vowels\n",
    "    - If the character is a digit, update the count of digits\n",
    "    - Otherwise, update the count of \"others\"\n",
    "4. Print the dict\n",
    "\n",
    "Hints:\n",
    "- We can iterate over a string, one character at a time, with a `for` loop\n",
    "- We can check if something is a vowel with `in`: `if x in 'aeiou'`\n",
    "- We can check if a string contains only digits with `str.isdigit`\n",
    "- We can add to the count of something with `+=`\n",
    " "
   ]
  },
  {
   "cell_type": "code",
   "execution_count": 10,
   "id": "inappropriate-symphony",
   "metadata": {},
   "outputs": [
    {
     "name": "stdout",
     "output_type": "stream",
     "text": [
      "Enter a string: hello 123\n",
      "{'vowels': 2, 'digits': 3, 'others': 4}\n"
     ]
    }
   ],
   "source": [
    "d = {'vowels':0, 'digits':0, 'others':0}\n",
    "\n",
    "s = input('Enter a string: ')\n",
    "\n",
    "for one_character in s:\n",
    "    if one_character in 'aeiou':\n",
    "        d['vowels'] += 1\n",
    "    elif one_character.isdigit():\n",
    "        d['digits'] += 1\n",
    "    else:\n",
    "        d['others'] += 1\n",
    "    \n",
    "print(d)"
   ]
  },
  {
   "cell_type": "code",
   "execution_count": 11,
   "id": "blank-conjunction",
   "metadata": {},
   "outputs": [],
   "source": [
    "x = 100"
   ]
  },
  {
   "cell_type": "code",
   "execution_count": 12,
   "id": "minimal-bobby",
   "metadata": {},
   "outputs": [
    {
     "name": "stdout",
     "output_type": "stream",
     "text": [
      "{'vowels': 2, 'digits': 3, 'others': 4}\n"
     ]
    }
   ],
   "source": [
    "print(d)"
   ]
  },
  {
   "cell_type": "code",
   "execution_count": 13,
   "id": "painted-sector",
   "metadata": {},
   "outputs": [
    {
     "name": "stdout",
     "output_type": "stream",
     "text": [
      "vowels\n",
      "digits\n",
      "others\n"
     ]
    }
   ],
   "source": [
    "# we can iterate over a dictionary!\n",
    "\n",
    "for one_item in d:\n",
    "    print(one_item)"
   ]
  },
  {
   "cell_type": "code",
   "execution_count": 14,
   "id": "threaded-terminology",
   "metadata": {},
   "outputs": [
    {
     "name": "stdout",
     "output_type": "stream",
     "text": [
      "vowels: 2\n",
      "digits: 3\n",
      "others: 4\n"
     ]
    }
   ],
   "source": [
    "for one_key in d:\n",
    "    print(f'{one_key}: {d[one_key]}')"
   ]
  },
  {
   "cell_type": "code",
   "execution_count": 15,
   "id": "another-terminology",
   "metadata": {},
   "outputs": [
    {
     "data": {
      "text/plain": [
       "True"
      ]
     },
     "execution_count": 15,
     "metadata": {},
     "output_type": "execute_result"
    }
   ],
   "source": [
    "'vowels' in d"
   ]
  },
  {
   "cell_type": "code",
   "execution_count": 16,
   "id": "local-perfume",
   "metadata": {},
   "outputs": [
    {
     "data": {
      "text/plain": [
       "True"
      ]
     },
     "execution_count": 16,
     "metadata": {},
     "output_type": "execute_result"
    }
   ],
   "source": [
    "'digits' in d"
   ]
  },
  {
   "cell_type": "code",
   "execution_count": 17,
   "id": "detailed-pharmacy",
   "metadata": {},
   "outputs": [
    {
     "data": {
      "text/plain": [
       "True"
      ]
     },
     "execution_count": 17,
     "metadata": {},
     "output_type": "execute_result"
    }
   ],
   "source": [
    "mylist = [10, 20, 30, 40, 50]\n",
    "\n",
    "30 in mylist"
   ]
  },
  {
   "cell_type": "code",
   "execution_count": 18,
   "id": "charged-guess",
   "metadata": {},
   "outputs": [
    {
     "data": {
      "text/plain": [
       "True"
      ]
     },
     "execution_count": 18,
     "metadata": {},
     "output_type": "execute_result"
    }
   ],
   "source": [
    "d = {'a':1, 'b':2, 'c':3}\n",
    "\n",
    "'a' in d"
   ]
  },
  {
   "cell_type": "code",
   "execution_count": 19,
   "id": "reasonable-rolling",
   "metadata": {},
   "outputs": [],
   "source": [
    "d = {'a':1, 'b':2, 'c':3, 'a':10, 'b':20, 'c':30}"
   ]
  },
  {
   "cell_type": "code",
   "execution_count": 20,
   "id": "artificial-norman",
   "metadata": {},
   "outputs": [
    {
     "data": {
      "text/plain": [
       "{'a': 10, 'b': 20, 'c': 30}"
      ]
     },
     "execution_count": 20,
     "metadata": {},
     "output_type": "execute_result"
    }
   ],
   "source": [
    "d"
   ]
  },
  {
   "cell_type": "code",
   "execution_count": 21,
   "id": "educated-wonder",
   "metadata": {},
   "outputs": [
    {
     "name": "stdout",
     "output_type": "stream",
     "text": [
      "Enter a string: this is a test\n",
      "{'t': 3, 'h': 1, 'i': 2, 's': 3, ' ': 3, 'a': 1, 'e': 1}\n"
     ]
    }
   ],
   "source": [
    "counts = {}  # empty dict!\n",
    "\n",
    "s = input('Enter a string: ')\n",
    "\n",
    "for one_character in s:\n",
    "\n",
    "    # first time seeing this character? Give it a count of 0\n",
    "    if one_character not in counts:\n",
    "        counts[one_character] = 0\n",
    "        \n",
    "    counts[one_character] += 1\n",
    "    \n",
    "print(counts)"
   ]
  },
  {
   "cell_type": "markdown",
   "id": "banner-sitting",
   "metadata": {},
   "source": [
    "# Files\n",
    "\n",
    "To work with files, we'll need a helper -- known in many languages as a \"file handle,\" but in Python it's known as a \"file object\" or even a \"file-like object.\"\n",
    "\n",
    "We'll get a file object when we \"open\" a file.  Then we can either read from our file (via the file object) or write to the file (via the file object).\n",
    "\n",
    "When we're done working with the file, we \"close\" it.\n",
    "\n",
    "Typically, we only read from or write to a file -- not both."
   ]
  },
  {
   "cell_type": "code",
   "execution_count": 23,
   "id": "noted-silicon",
   "metadata": {},
   "outputs": [
    {
     "name": "stdout",
     "output_type": "stream",
     "text": [
      "root:x:0:0:root:/root:/bin/bash\n",
      "daemon:x:1:1:daemon:/usr/sbin:/usr/sbin/nologin\n",
      "bin:x:2:2:bin:/bin:/usr/sbin/nologin\n",
      "sys:x:3:3:sys:/dev:/usr/sbin/nologin\n",
      "sync:x:4:65534:sync:/bin:/bin/sync\n",
      "games:x:5:60:games:/usr/games:/usr/sbin/nologin\n",
      "man:x:6:12:man:/var/cache/man:/usr/sbin/nologin\n",
      "lp:x:7:7:lp:/var/spool/lpd:/usr/sbin/nologin\n",
      "mail:x:8:8:mail:/var/mail:/usr/sbin/nologin\n",
      "news:x:9:9:news:/var/spool/news:/usr/sbin/nologin\n",
      "uucp:x:10:10:uucp:/var/spool/uucp:/usr/sbin/nologin\n",
      "proxy:x:13:13:proxy:/bin:/usr/sbin/nologin\n",
      "www-data:x:33:33:www-data:/var/www:/usr/sbin/nologin\n",
      "backup:x:34:34:backup:/var/backups:/usr/sbin/nologin\n",
      "list:x:38:38:Mailing List Manager:/var/list:/usr/sbin/nologin\n",
      "irc:x:39:39:ircd:/var/run/ircd:/usr/sbin/nologin\n",
      "gnats:x:41:41:Gnats Bug-Reporting System (admin):/var/lib/gnats:/usr/sbin/nologin\n",
      "nobody:x:65534:65534:nobody:/nonexistent:/usr/sbin/nologin\n",
      "systemd-timesync:x:100:101:systemd Time Synchronization,,,:/run/systemd:/usr/sbin/nologin\n",
      "systemd-network:x:101:103:systemd Network Management,,,:/run/systemd:/usr/sbin/nologin\n",
      "systemd-resolve:x:102:104:systemd Resolver,,,:/run/systemd:/usr/sbin/nologin\n",
      "messagebus:x:103:106::/nonexistent:/usr/sbin/nologin\n",
      "syslog:x:104:110::/home/syslog:/usr/sbin/nologin\n",
      "_apt:x:105:65534::/nonexistent:/usr/sbin/nologin\n",
      "tss:x:106:111:TPM software stack,,,:/var/lib/tpm:/bin/false\n",
      "uuidd:x:107:112::/run/uuidd:/usr/sbin/nologin\n",
      "tcpdump:x:108:113::/nonexistent:/usr/sbin/nologin\n",
      "sshd:x:109:65534::/run/sshd:/usr/sbin/nologin\n",
      "landscape:x:110:115::/var/lib/landscape:/usr/sbin/nologin\n",
      "pollinate:x:111:1::/var/cache/pollinate:/bin/false\n",
      "systemd-coredump:x:999:999:systemd Core Dumper:/:/usr/sbin/nologin\n",
      "lxd:x:998:100::/var/snap/lxd/common/lxd:/bin/false\n",
      "student:x:1000:1000:,,,:/home/student:/bin/bash\n",
      "\n"
     ]
    }
   ],
   "source": [
    "# If I want to read from a file:\n",
    "\n",
    "# (1) open it\n",
    "# (2) run the \"read\" method on it, returning a string\n",
    "# (3) close it\n",
    "\n",
    "f = open('/etc/passwd')   # this opens the file, and puts a file object in f\n",
    "print(f.read())           # the \"read\" method returns a string -- the contents of the file\n",
    "f.close()                 # I don't want to work with the file any more"
   ]
  },
  {
   "cell_type": "code",
   "execution_count": 25,
   "id": "unexpected-disclosure",
   "metadata": {},
   "outputs": [
    {
     "name": "stdout",
     "output_type": "stream",
     "text": [
      "root:x:0:0:root:/root:/bin/bash\n",
      "daemon:x:1:1:daemon:/usr/sbin:/usr/sbin/nologin\n",
      "bin:x:2:2:bin:/bin:/usr/sbin/nologin\n",
      "sys:x:3:3:sys:/dev:/usr/sbin/nologin\n",
      "sync:x:4:65534:sync:/bin:/bin/sync\n",
      "games:x:5:60:games:/usr/games:/usr/sbin/nologin\n",
      "man:x:6:12:man:/var/cache/man:/usr/sbin/nologin\n",
      "lp:x:7:7:lp:/var/spool/lpd:/usr/sbin/nologin\n",
      "mail:x:8:8:mail:/var/mail:/usr/sbin/nologin\n",
      "news:x:9:9:news:/var/spool/news:/usr/sbin/nologin\n",
      "uucp:x:10:10:uucp:/var/spool/uucp:/usr/sbin/nologin\n",
      "proxy:x:13:13:proxy:/bin:/usr/sbin/nologin\n",
      "www-data:x:33:33:www-data:/var/www:/usr/sbin/nologin\n",
      "backup:x:34:34:backup:/var/backups:/usr/sbin/nologin\n",
      "list:x:38:38:Mailing List Manager:/var/list:/usr/sbin/nologin\n",
      "irc:x:39:39:ircd:/var/run/ircd:/usr/sbin/nologin\n",
      "gnats:x:41:41:Gnats Bug-Reporting System (admin):/var/lib/gnats:/usr/sbin/nologin\n",
      "nobody:x:65534:65534:nobody:/nonexistent:/usr/sbin/nologin\n",
      "systemd-timesync:x:100:101:systemd Time Synchronization,,,:/run/systemd:/usr/sbin/nologin\n",
      "systemd-network:x:101:103:systemd Network Management,,,:/run/systemd:/usr/sbin/nologin\n",
      "systemd-resolve:x:102:104:systemd Resolver,,,:/run/systemd:/usr/sbin/nologin\n",
      "messagebus:x:103:106::/nonexistent:/usr/sbin/nologin\n",
      "syslog:x:104:110::/home/syslog:/usr/sbin/nologin\n",
      "_apt:x:105:65534::/nonexistent:/usr/sbin/nologin\n",
      "tss:x:106:111:TPM software stack,,,:/var/lib/tpm:/bin/false\n",
      "uuidd:x:107:112::/run/uuidd:/usr/sbin/nologin\n",
      "tcpdump:x:108:113::/nonexistent:/usr/sbin/nologin\n",
      "sshd:x:109:65534::/run/sshd:/usr/sbin/nologin\n",
      "landscape:x:110:115::/var/lib/landscape:/usr/sbin/nologin\n",
      "pollinate:x:111:1::/var/cache/pollinate:/bin/false\n",
      "systemd-coredump:x:999:999:systemd Core Dumper:/:/usr/sbin/nologin\n",
      "lxd:x:998:100::/var/snap/lxd/common/lxd:/bin/false\n",
      "student:x:1000:1000:,,,:/home/student:/bin/bash\n"
     ]
    }
   ],
   "source": [
    "# (1) open the file for reading (the default), get f, the file object\n",
    "# (2) Iterate over the file object in a \"for\" loop\n",
    "# (3) get each line of the file, one at a time\n",
    "\n",
    "f = open('/etc/passwd')   # this opens the file, and puts a file object in f\n",
    "for one_line in f:\n",
    "    print(one_line.strip())  # strip removes whitespace on the edges, not inside\n",
    "f.close()                 # I don't want to work with the file any more"
   ]
  },
  {
   "cell_type": "markdown",
   "id": "close-school",
   "metadata": {},
   "source": [
    "# Exercise: Print a file\n",
    "\n",
    "1. Open the file `/etc/passwd`, and assign to `f`\n",
    "2. Iterate (in a `for` loop) over `f`, one line at a time\n",
    "3. Print each line.  If you care about the whitespace, use `strip` on the string variable to remove whitespace."
   ]
  },
  {
   "cell_type": "code",
   "execution_count": 26,
   "id": "effective-baseline",
   "metadata": {},
   "outputs": [
    {
     "data": {
      "text/plain": [
       "<_io.TextIOWrapper name='/etc/passwd' mode='r' encoding='UTF-8'>"
      ]
     },
     "execution_count": 26,
     "metadata": {},
     "output_type": "execute_result"
    }
   ],
   "source": [
    "open('/etc/passwd')"
   ]
  },
  {
   "cell_type": "code",
   "execution_count": 27,
   "id": "funny-celebrity",
   "metadata": {},
   "outputs": [
    {
     "name": "stdout",
     "output_type": "stream",
     "text": [
      "root:x:0:0:root:/root:/bin/bash\n",
      "\n",
      "daemon:x:1:1:daemon:/usr/sbin:/usr/sbin/nologin\n",
      "\n",
      "bin:x:2:2:bin:/bin:/usr/sbin/nologin\n",
      "\n",
      "sys:x:3:3:sys:/dev:/usr/sbin/nologin\n",
      "\n",
      "sync:x:4:65534:sync:/bin:/bin/sync\n",
      "\n",
      "games:x:5:60:games:/usr/games:/usr/sbin/nologin\n",
      "\n",
      "man:x:6:12:man:/var/cache/man:/usr/sbin/nologin\n",
      "\n",
      "lp:x:7:7:lp:/var/spool/lpd:/usr/sbin/nologin\n",
      "\n",
      "mail:x:8:8:mail:/var/mail:/usr/sbin/nologin\n",
      "\n",
      "news:x:9:9:news:/var/spool/news:/usr/sbin/nologin\n",
      "\n",
      "uucp:x:10:10:uucp:/var/spool/uucp:/usr/sbin/nologin\n",
      "\n",
      "proxy:x:13:13:proxy:/bin:/usr/sbin/nologin\n",
      "\n",
      "www-data:x:33:33:www-data:/var/www:/usr/sbin/nologin\n",
      "\n",
      "backup:x:34:34:backup:/var/backups:/usr/sbin/nologin\n",
      "\n",
      "list:x:38:38:Mailing List Manager:/var/list:/usr/sbin/nologin\n",
      "\n",
      "irc:x:39:39:ircd:/var/run/ircd:/usr/sbin/nologin\n",
      "\n",
      "gnats:x:41:41:Gnats Bug-Reporting System (admin):/var/lib/gnats:/usr/sbin/nologin\n",
      "\n",
      "nobody:x:65534:65534:nobody:/nonexistent:/usr/sbin/nologin\n",
      "\n",
      "systemd-timesync:x:100:101:systemd Time Synchronization,,,:/run/systemd:/usr/sbin/nologin\n",
      "\n",
      "systemd-network:x:101:103:systemd Network Management,,,:/run/systemd:/usr/sbin/nologin\n",
      "\n",
      "systemd-resolve:x:102:104:systemd Resolver,,,:/run/systemd:/usr/sbin/nologin\n",
      "\n",
      "messagebus:x:103:106::/nonexistent:/usr/sbin/nologin\n",
      "\n",
      "syslog:x:104:110::/home/syslog:/usr/sbin/nologin\n",
      "\n",
      "_apt:x:105:65534::/nonexistent:/usr/sbin/nologin\n",
      "\n",
      "tss:x:106:111:TPM software stack,,,:/var/lib/tpm:/bin/false\n",
      "\n",
      "uuidd:x:107:112::/run/uuidd:/usr/sbin/nologin\n",
      "\n",
      "tcpdump:x:108:113::/nonexistent:/usr/sbin/nologin\n",
      "\n",
      "sshd:x:109:65534::/run/sshd:/usr/sbin/nologin\n",
      "\n",
      "landscape:x:110:115::/var/lib/landscape:/usr/sbin/nologin\n",
      "\n",
      "pollinate:x:111:1::/var/cache/pollinate:/bin/false\n",
      "\n",
      "systemd-coredump:x:999:999:systemd Core Dumper:/:/usr/sbin/nologin\n",
      "\n",
      "lxd:x:998:100::/var/snap/lxd/common/lxd:/bin/false\n",
      "\n",
      "student:x:1000:1000:,,,:/home/student:/bin/bash\n",
      "\n"
     ]
    }
   ],
   "source": [
    "f = open('/etc/passwd')\n",
    "\n",
    "for one_line in f:\n",
    "    print(one_line)"
   ]
  },
  {
   "cell_type": "code",
   "execution_count": 28,
   "id": "regional-assembly",
   "metadata": {},
   "outputs": [
    {
     "name": "stdout",
     "output_type": "stream",
     "text": [
      "root:x:0:0:root:/root:/bin/bash\n",
      "daemon:x:1:1:daemon:/usr/sbin:/usr/sbin/nologin\n",
      "bin:x:2:2:bin:/bin:/usr/sbin/nologin\n",
      "sys:x:3:3:sys:/dev:/usr/sbin/nologin\n",
      "sync:x:4:65534:sync:/bin:/bin/sync\n",
      "games:x:5:60:games:/usr/games:/usr/sbin/nologin\n",
      "man:x:6:12:man:/var/cache/man:/usr/sbin/nologin\n",
      "lp:x:7:7:lp:/var/spool/lpd:/usr/sbin/nologin\n",
      "mail:x:8:8:mail:/var/mail:/usr/sbin/nologin\n",
      "news:x:9:9:news:/var/spool/news:/usr/sbin/nologin\n",
      "uucp:x:10:10:uucp:/var/spool/uucp:/usr/sbin/nologin\n",
      "proxy:x:13:13:proxy:/bin:/usr/sbin/nologin\n",
      "www-data:x:33:33:www-data:/var/www:/usr/sbin/nologin\n",
      "backup:x:34:34:backup:/var/backups:/usr/sbin/nologin\n",
      "list:x:38:38:Mailing List Manager:/var/list:/usr/sbin/nologin\n",
      "irc:x:39:39:ircd:/var/run/ircd:/usr/sbin/nologin\n",
      "gnats:x:41:41:Gnats Bug-Reporting System (admin):/var/lib/gnats:/usr/sbin/nologin\n",
      "nobody:x:65534:65534:nobody:/nonexistent:/usr/sbin/nologin\n",
      "systemd-timesync:x:100:101:systemd Time Synchronization,,,:/run/systemd:/usr/sbin/nologin\n",
      "systemd-network:x:101:103:systemd Network Management,,,:/run/systemd:/usr/sbin/nologin\n",
      "systemd-resolve:x:102:104:systemd Resolver,,,:/run/systemd:/usr/sbin/nologin\n",
      "messagebus:x:103:106::/nonexistent:/usr/sbin/nologin\n",
      "syslog:x:104:110::/home/syslog:/usr/sbin/nologin\n",
      "_apt:x:105:65534::/nonexistent:/usr/sbin/nologin\n",
      "tss:x:106:111:TPM software stack,,,:/var/lib/tpm:/bin/false\n",
      "uuidd:x:107:112::/run/uuidd:/usr/sbin/nologin\n",
      "tcpdump:x:108:113::/nonexistent:/usr/sbin/nologin\n",
      "sshd:x:109:65534::/run/sshd:/usr/sbin/nologin\n",
      "landscape:x:110:115::/var/lib/landscape:/usr/sbin/nologin\n",
      "pollinate:x:111:1::/var/cache/pollinate:/bin/false\n",
      "systemd-coredump:x:999:999:systemd Core Dumper:/:/usr/sbin/nologin\n",
      "lxd:x:998:100::/var/snap/lxd/common/lxd:/bin/false\n",
      "student:x:1000:1000:,,,:/home/student:/bin/bash\n",
      "\n"
     ]
    }
   ],
   "source": [
    "print(open('/etc/passwd').read())"
   ]
  },
  {
   "cell_type": "markdown",
   "id": "surprised-gasoline",
   "metadata": {},
   "source": [
    "# Exercise: Searching in the file\n",
    "\n",
    "1. Ask the user to enter a string, call it `look_for`.\n",
    "2. Iterate over `/etc/passwd`, one line at a time.\n",
    "3. If a line contains `look_for`, then print that line.\n"
   ]
  },
  {
   "cell_type": "code",
   "execution_count": 32,
   "id": "clinical-timeline",
   "metadata": {},
   "outputs": [
    {
     "name": "stdout",
     "output_type": "stream",
     "text": [
      "systemd-timesync:x:100:101:systemd Time Synchronization,,,:/run/systemd:/usr/sbin/nologin\n",
      "\n"
     ]
    }
   ],
   "source": [
    "# only print lines containing 'a'\n",
    "\n",
    "# (1) ask the user to enter a search string\n",
    "\n",
    "for one_line in open('/etc/passwd'):\n",
    "    if 'z' in one_line:   # (2) modify this line to look for the search string, not 'z'\n",
    "        print(one_line)"
   ]
  },
  {
   "cell_type": "code",
   "execution_count": 36,
   "id": "applied-suggestion",
   "metadata": {},
   "outputs": [
    {
     "name": "stdout",
     "output_type": "stream",
     "text": [
      "Enter search string: /bin/\n",
      "root:x:0:0:root:/root:/bin/bash\n",
      "sync:x:4:65534:sync:/bin:/bin/sync\n",
      "tss:x:106:111:TPM software stack,,,:/var/lib/tpm:/bin/false\n",
      "pollinate:x:111:1::/var/cache/pollinate:/bin/false\n",
      "lxd:x:998:100::/var/snap/lxd/common/lxd:/bin/false\n",
      "student:x:1000:1000:,,,:/home/student:/bin/bash\n"
     ]
    }
   ],
   "source": [
    "look_for = input('Enter search string: ')\n",
    "\n",
    "for one_line in open('/etc/passwd'):\n",
    "    if look_for in one_line:\n",
    "        print(one_line.strip())"
   ]
  },
  {
   "cell_type": "code",
   "execution_count": null,
   "id": "confirmed-italy",
   "metadata": {},
   "outputs": [],
   "source": [
    "# Print all of the usernames from the file\n",
    "# Hint: the usernames are the first field (index 0) in each line\n",
    "\n"
   ]
  }
 ],
 "metadata": {
  "kernelspec": {
   "display_name": "Python 3",
   "language": "python",
   "name": "python3"
  },
  "language_info": {
   "codemirror_mode": {
    "name": "ipython",
    "version": 3
   },
   "file_extension": ".py",
   "mimetype": "text/x-python",
   "name": "python",
   "nbconvert_exporter": "python",
   "pygments_lexer": "ipython3",
   "version": "3.8.6"
  }
 },
 "nbformat": 4,
 "nbformat_minor": 5
}
