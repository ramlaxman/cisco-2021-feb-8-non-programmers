{
 "cells": [
  {
   "cell_type": "code",
   "execution_count": 1,
   "id": "royal-alabama",
   "metadata": {},
   "outputs": [
    {
     "ename": "SyntaxError",
     "evalue": "invalid syntax (<ipython-input-1-d72d8b19bb78>, line 1)",
     "output_type": "error",
     "traceback": [
      "\u001b[0;36m  File \u001b[0;32m\"<ipython-input-1-d72d8b19bb78>\"\u001b[0;36m, line \u001b[0;32m1\u001b[0m\n\u001b[0;31m    Print \"Fernando\"\u001b[0m\n\u001b[0m          ^\u001b[0m\n\u001b[0;31mSyntaxError\u001b[0m\u001b[0;31m:\u001b[0m invalid syntax\n"
     ]
    }
   ],
   "source": [
    "Print \"Fernando\""
   ]
  },
  {
   "cell_type": "code",
   "execution_count": 2,
   "id": "daily-monroe",
   "metadata": {},
   "outputs": [
    {
     "ename": "NameError",
     "evalue": "name 'Print' is not defined",
     "output_type": "error",
     "traceback": [
      "\u001b[0;31m---------------------------------------------------------------------------\u001b[0m",
      "\u001b[0;31mNameError\u001b[0m                                 Traceback (most recent call last)",
      "\u001b[0;32m<ipython-input-2-bd2dc02bd95c>\u001b[0m in \u001b[0;36m<module>\u001b[0;34m\u001b[0m\n\u001b[0;32m----> 1\u001b[0;31m \u001b[0mPrint\u001b[0m \u001b[0;34m(\u001b[0m\u001b[0;34m\"Fernando\"\u001b[0m\u001b[0;34m)\u001b[0m\u001b[0;34m\u001b[0m\u001b[0;34m\u001b[0m\u001b[0m\n\u001b[0m",
      "\u001b[0;31mNameError\u001b[0m: name 'Print' is not defined"
     ]
    }
   ],
   "source": [
    "Print (\"Fernando\")"
   ]
  },
  {
   "cell_type": "code",
   "execution_count": 3,
   "id": "empty-sudan",
   "metadata": {},
   "outputs": [
    {
     "name": "stdout",
     "output_type": "stream",
     "text": [
      "Fernando\n"
     ]
    }
   ],
   "source": [
    "print (\"Fernando\")"
   ]
  },
  {
   "cell_type": "markdown",
   "id": "treated-chart",
   "metadata": {},
   "source": []
  },
  {
   "cell_type": "code",
   "execution_count": 4,
   "id": "extra-population",
   "metadata": {},
   "outputs": [
    {
     "name": "stdout",
     "output_type": "stream",
     "text": [
      "Fernando.\n"
     ]
    }
   ],
   "source": [
    "name = \"Fernando.\"\n",
    "print (name)"
   ]
  },
  {
   "cell_type": "code",
   "execution_count": 5,
   "id": "substantial-democrat",
   "metadata": {},
   "outputs": [
    {
     "name": "stdout",
     "output_type": "stream",
     "text": [
      "Greetings Fernando.\n"
     ]
    }
   ],
   "source": [
    "name = \"Fernando.\"\n",
    "print (\"Greetings\", name)"
   ]
  },
  {
   "cell_type": "code",
   "execution_count": 6,
   "id": "positive-transparency",
   "metadata": {},
   "outputs": [
    {
     "name": "stdout",
     "output_type": "stream",
     "text": [
      "HelloFernando.\n"
     ]
    }
   ],
   "source": [
    "print (\"Hello\" + name)"
   ]
  },
  {
   "cell_type": "code",
   "execution_count": 7,
   "id": "violent-limitation",
   "metadata": {},
   "outputs": [
    {
     "name": "stdout",
     "output_type": "stream",
     "text": [
      "This year I will be 34 years old\n"
     ]
    }
   ],
   "source": [
    "name = \"Fernando\"\n",
    "birthyear = 1987\n",
    "age_this_year = 2021 - birthyear\n",
    "print (f\"This year I will be {age_this_year} years old\")"
   ]
  },
  {
   "cell_type": "code",
   "execution_count": 8,
   "id": "pressing-treat",
   "metadata": {},
   "outputs": [
    {
     "name": "stdout",
     "output_type": "stream",
     "text": [
      "Enter your name: Fernando\n",
      "Enter your current empotional feeling: Happy\n",
      "Greetings Fernando are you feeling today Happy.\n"
     ]
    }
   ],
   "source": [
    "name = input (\"Enter your name: \")\n",
    "feeling = input (\"Enter your current empotional feeling: \")\n",
    "print (f\"Greetings {name} are you feeling today {feeling}.\")"
   ]
  },
  {
   "cell_type": "code",
   "execution_count": 9,
   "id": "requested-primary",
   "metadata": {},
   "outputs": [
    {
     "name": "stdout",
     "output_type": "stream",
     "text": [
      "Where do you work: Cisco\n",
      "Greeting, you work in Cisco its a nice company \n"
     ]
    }
   ],
   "source": [
    "company = input (\"Where do you work: \")\n",
    "\n",
    "if company == \"Cisco\":\n",
    "    print (f\"Greeting, you work in {company} its a nice company \")\n",
    "else:\n",
    "    print (f\"You should work in great company like Cisco\")\n",
    "    "
   ]
  },
  {
   "cell_type": "code",
   "execution_count": 10,
   "id": "innocent-grace",
   "metadata": {},
   "outputs": [
    {
     "name": "stdout",
     "output_type": "stream",
     "text": [
      "Where do you work: HP\n",
      "You should work in great company like Cisco\n"
     ]
    }
   ],
   "source": [
    "company = input (\"Where do you work: \")\n",
    "\n",
    "if company == \"Cisco\":\n",
    "    print (f\"Greeting, you work in {company} its a nice company \")\n",
    "else:\n",
    "    print (f\"You should work in great company like Cisco\")"
   ]
  },
  {
   "cell_type": "code",
   "execution_count": null,
   "id": "elegant-member",
   "metadata": {},
   "outputs": [],
   "source": []
  },
  {
   "cell_type": "code",
   "execution_count": 12,
   "id": "burning-doctrine",
   "metadata": {},
   "outputs": [
    {
     "name": "stdout",
     "output_type": "stream",
     "text": [
      "Where did you use to work: Google\n",
      "You used to be my colleague\n"
     ]
    }
   ],
   "source": [
    "company = input (\"Where did you use to work: \")\n",
    "\n",
    "if company == \"Cisco\":\n",
    "    print (f\"Congratulations, you work in {company} its a nice company \")\n",
    "elif company == \"Google\":\n",
    "    print (f\"You used to be my colleague\")\n",
    "else:\n",
    "    print (f\"You work at good companys\")"
   ]
  },
  {
   "cell_type": "code",
   "execution_count": 13,
   "id": "transparent-mercury",
   "metadata": {},
   "outputs": [
    {
     "name": "stdout",
     "output_type": "stream",
     "text": [
      "I'm Fernando\n"
     ]
    }
   ],
   "source": [
    "print ('I\\'m Fernando')"
   ]
  },
  {
   "cell_type": "code",
   "execution_count": 26,
   "id": "moving-republic",
   "metadata": {},
   "outputs": [
    {
     "name": "stdout",
     "output_type": "stream",
     "text": [
      "What is your name: Diego\n",
      "what is your company: Cisco\n",
      "I hope you Diego can work with me.\n"
     ]
    }
   ],
   "source": [
    "name = input (\"What is your name: \")\n",
    "company = input (\"what is your company: \")\n",
    "\n",
    "if name == \"Fernando\" and company == \"Cisco\":\n",
    "    print (\"It must be you!\")\n",
    "\n",
    "elif name == \"Fernando\" and not company == \"Cisco\":\n",
    "    print (\"they have your name at a rival\")\n",
    "\n",
    "elif not name == \"Fernando\" and company == \"Cisco\":\n",
    "    print ('You\\'re colleagues')\n",
    "\n",
    "else:\n",
    "    print (f'I hope you {name} can work with me.')"
   ]
  },
  {
   "cell_type": "code",
   "execution_count": 32,
   "id": "stuck-characterization",
   "metadata": {},
   "outputs": [
    {
     "name": "stdout",
     "output_type": "stream",
     "text": [
      "Enter first word: ab\n",
      "Enter second word: abc\n",
      "ab is lower than abc\n"
     ]
    }
   ],
   "source": [
    "first = input (\"Enter first word: \")\n",
    "second = input (\"Enter second word: \")\n",
    "\n",
    "\n",
    "if first > second:\n",
    "    print (f\"{first} is greather than {second}\")\n",
    "    \n",
    "elif first < second:\n",
    "     print (f\"{first} is lower than {second}\")\n",
    "\n",
    "else:\n",
    "    print (\"Are the same\")"
   ]
  },
  {
   "cell_type": "code",
   "execution_count": 42,
   "id": "outdoor-individual",
   "metadata": {},
   "outputs": [
    {
     "name": "stdout",
     "output_type": "stream",
     "text": [
      "Enter a number: 54\n",
      "86\n",
      "Too low!\n"
     ]
    }
   ],
   "source": [
    "import random\n",
    "number = random.randint(0, 100)\n",
    "\n",
    "guess_number = input (\"Enter a number: \")\n",
    "\n",
    "guess_number = int(guess_number)\n",
    "\n",
    "print (number)\n",
    "\n",
    "if guess_number > number:\n",
    "    print (\"Too high!\")\n",
    "\n",
    "elif guess_number < number:\n",
    "    print (\"Too low!\")\n",
    "    \n",
    "else:\n",
    "    print (\"You got it\")\n",
    "\n"
   ]
  },
  {
   "cell_type": "code",
   "execution_count": null,
   "id": "upset-easter",
   "metadata": {},
   "outputs": [],
   "source": [
    "first = input (\"Enter fist number: \")\n",
    "\n",
    "\n",
    "second = input (\"Enter second number: \")\n",
    "\n",
    "\n",
    "operator = input (\"Enter an operator: \")\n",
    "first = int(first)\n",
    "second = input(second)\n",
    "\n",
    "if operator == \"+\":\n",
    "    sum = first + second\n",
    "    print (f\"{first} + {second} = \", sum)\n",
    "\n",
    "elif operator == \"-\":\n",
    "    rest = first - second\n",
    "    print (f\"{first} - {second} = \", rest)\n",
    "\n",
    "else:\n",
    "    print (\"Operator is not ok\")\n",
    "    \n",
    "    \n",
    "\n"
   ]
  },
  {
   "cell_type": "code",
   "execution_count": 57,
   "id": "greek-representative",
   "metadata": {},
   "outputs": [
    {
     "name": "stdout",
     "output_type": "stream",
     "text": [
      "Enter fist number: 40\n",
      "Enter second number: 10\n",
      "Enter an operator: +\n",
      "40 + 10 = 50\n"
     ]
    }
   ],
   "source": [
    "first = input (\"Enter fist number: \")\n",
    "\n",
    "\n",
    "second = input (\"Enter second number: \")\n",
    "\n",
    "\n",
    "operator = input (\"Enter an operator: \")\n",
    "\n",
    "first = int(first)\n",
    "second = int(second)\n",
    "\n",
    "if operator == \"+\":\n",
    "    suma = first+second\n",
    "    print (f\"{first} + {second} = {suma}\")\n",
    "\n",
    "elif operator == \"-\":\n",
    "    rest = first - second\n",
    "    print (f\"{first} - {second} = {rest}\")\n",
    "\n",
    "else:\n",
    "    print (\"Operator is not ok\")"
   ]
  },
  {
   "cell_type": "code",
   "execution_count": null,
   "id": "colonial-vermont",
   "metadata": {},
   "outputs": [],
   "source": []
  },
  {
   "cell_type": "code",
   "execution_count": null,
   "id": "forced-reunion",
   "metadata": {},
   "outputs": [],
   "source": []
  },
  {
   "cell_type": "code",
   "execution_count": null,
   "id": "lined-dictionary",
   "metadata": {},
   "outputs": [],
   "source": []
  },
  {
   "cell_type": "code",
   "execution_count": null,
   "id": "supposed-serve",
   "metadata": {},
   "outputs": [],
   "source": []
  }
 ],
 "metadata": {
  "kernelspec": {
   "display_name": "Python 3",
   "language": "python",
   "name": "python3"
  },
  "language_info": {
   "codemirror_mode": {
    "name": "ipython",
    "version": 3
   },
   "file_extension": ".py",
   "mimetype": "text/x-python",
   "name": "python",
   "nbconvert_exporter": "python",
   "pygments_lexer": "ipython3",
   "version": "3.8.6"
  }
 },
 "nbformat": 4,
 "nbformat_minor": 5
}
