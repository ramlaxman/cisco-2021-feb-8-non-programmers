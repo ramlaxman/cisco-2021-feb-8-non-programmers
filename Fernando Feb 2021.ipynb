{
 "cells": [
  {
   "cell_type": "code",
   "execution_count": 1,
   "id": "effective-somerset",
   "metadata": {},
   "outputs": [
    {
     "ename": "SyntaxError",
     "evalue": "invalid syntax (<ipython-input-1-d72d8b19bb78>, line 1)",
     "output_type": "error",
     "traceback": [
      "\u001b[0;36m  File \u001b[0;32m\"<ipython-input-1-d72d8b19bb78>\"\u001b[0;36m, line \u001b[0;32m1\u001b[0m\n\u001b[0;31m    Print \"Fernando\"\u001b[0m\n\u001b[0m          ^\u001b[0m\n\u001b[0;31mSyntaxError\u001b[0m\u001b[0;31m:\u001b[0m invalid syntax\n"
     ]
    }
   ],
   "source": [
    "Print \"Fernando\""
   ]
  },
  {
   "cell_type": "code",
   "execution_count": 2,
   "id": "medieval-estonia",
   "metadata": {},
   "outputs": [
    {
     "ename": "NameError",
     "evalue": "name 'Print' is not defined",
     "output_type": "error",
     "traceback": [
      "\u001b[0;31m---------------------------------------------------------------------------\u001b[0m",
      "\u001b[0;31mNameError\u001b[0m                                 Traceback (most recent call last)",
      "\u001b[0;32m<ipython-input-2-bd2dc02bd95c>\u001b[0m in \u001b[0;36m<module>\u001b[0;34m\u001b[0m\n\u001b[0;32m----> 1\u001b[0;31m \u001b[0mPrint\u001b[0m \u001b[0;34m(\u001b[0m\u001b[0;34m\"Fernando\"\u001b[0m\u001b[0;34m)\u001b[0m\u001b[0;34m\u001b[0m\u001b[0;34m\u001b[0m\u001b[0m\n\u001b[0m",
      "\u001b[0;31mNameError\u001b[0m: name 'Print' is not defined"
     ]
    }
   ],
   "source": [
    "Print (\"Fernando\")"
   ]
  },
  {
   "cell_type": "code",
   "execution_count": 3,
   "id": "awful-porcelain",
   "metadata": {},
   "outputs": [
    {
     "name": "stdout",
     "output_type": "stream",
     "text": [
      "Fernando\n"
     ]
    }
   ],
   "source": [
    "print (\"Fernando\")"
   ]
  },
  {
   "cell_type": "markdown",
   "id": "asian-tomato",
   "metadata": {},
   "source": []
  },
  {
   "cell_type": "code",
   "execution_count": 4,
   "id": "expanded-release",
   "metadata": {},
   "outputs": [
    {
     "name": "stdout",
     "output_type": "stream",
     "text": [
      "Fernando.\n"
     ]
    }
   ],
   "source": [
    "name = \"Fernando.\"\n",
    "print (name)"
   ]
  },
  {
   "cell_type": "code",
   "execution_count": 5,
   "id": "thirty-necessity",
   "metadata": {},
   "outputs": [
    {
     "name": "stdout",
     "output_type": "stream",
     "text": [
      "Greetings Fernando.\n"
     ]
    }
   ],
   "source": [
    "name = \"Fernando.\"\n",
    "print (\"Greetings\", name)"
   ]
  },
  {
   "cell_type": "code",
   "execution_count": 6,
   "id": "subjective-light",
   "metadata": {},
   "outputs": [
    {
     "name": "stdout",
     "output_type": "stream",
     "text": [
      "HelloFernando.\n"
     ]
    }
   ],
   "source": [
    "print (\"Hello\" + name)"
   ]
  },
  {
   "cell_type": "code",
   "execution_count": 7,
   "id": "secure-parliament",
   "metadata": {},
   "outputs": [
    {
     "name": "stdout",
     "output_type": "stream",
     "text": [
      "This year I will be 34 years old\n"
     ]
    }
   ],
   "source": [
    "name = \"Fernando\"\n",
    "birthyear = 1987\n",
    "age_this_year = 2021 - birthyear\n",
    "print (f\"This year I will be {age_this_year} years old\")"
   ]
  },
  {
   "cell_type": "code",
   "execution_count": 8,
   "id": "small-breakfast",
   "metadata": {},
   "outputs": [
    {
     "name": "stdout",
     "output_type": "stream",
     "text": [
      "Enter your name: Fernando\n",
      "Enter your current empotional feeling: Happy\n",
      "Greetings Fernando are you feeling today Happy.\n"
     ]
    }
   ],
   "source": [
    "name = input (\"Enter your name: \")\n",
    "feeling = input (\"Enter your current empotional feeling: \")\n",
    "print (f\"Greetings {name} are you feeling today {feeling}.\")"
   ]
  },
  {
   "cell_type": "code",
   "execution_count": null,
   "id": "fourth-treasury",
   "metadata": {},
   "outputs": [],
   "source": []
  }
 ],
 "metadata": {
  "kernelspec": {
   "display_name": "Python 3",
   "language": "python",
   "name": "python3"
  },
  "language_info": {
   "codemirror_mode": {
    "name": "ipython",
    "version": 3
   },
   "file_extension": ".py",
   "mimetype": "text/x-python",
   "name": "python",
   "nbconvert_exporter": "python",
   "pygments_lexer": "ipython3",
   "version": "3.8.6"
  }
 },
 "nbformat": 4,
 "nbformat_minor": 5
}
