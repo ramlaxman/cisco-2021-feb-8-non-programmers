{
 "cells": [
  {
   "cell_type": "code",
   "execution_count": 1,
   "id": "funny-coalition",
   "metadata": {},
   "outputs": [
    {
     "ename": "SyntaxError",
     "evalue": "invalid syntax (<ipython-input-1-d72d8b19bb78>, line 1)",
     "output_type": "error",
     "traceback": [
      "\u001b[0;36m  File \u001b[0;32m\"<ipython-input-1-d72d8b19bb78>\"\u001b[0;36m, line \u001b[0;32m1\u001b[0m\n\u001b[0;31m    Print \"Fernando\"\u001b[0m\n\u001b[0m          ^\u001b[0m\n\u001b[0;31mSyntaxError\u001b[0m\u001b[0;31m:\u001b[0m invalid syntax\n"
     ]
    }
   ],
   "source": [
    "Print \"Fernando\""
   ]
  },
  {
   "cell_type": "code",
   "execution_count": 2,
   "id": "special-difficulty",
   "metadata": {},
   "outputs": [
    {
     "ename": "NameError",
     "evalue": "name 'Print' is not defined",
     "output_type": "error",
     "traceback": [
      "\u001b[0;31m---------------------------------------------------------------------------\u001b[0m",
      "\u001b[0;31mNameError\u001b[0m                                 Traceback (most recent call last)",
      "\u001b[0;32m<ipython-input-2-bd2dc02bd95c>\u001b[0m in \u001b[0;36m<module>\u001b[0;34m\u001b[0m\n\u001b[0;32m----> 1\u001b[0;31m \u001b[0mPrint\u001b[0m \u001b[0;34m(\u001b[0m\u001b[0;34m\"Fernando\"\u001b[0m\u001b[0;34m)\u001b[0m\u001b[0;34m\u001b[0m\u001b[0;34m\u001b[0m\u001b[0m\n\u001b[0m",
      "\u001b[0;31mNameError\u001b[0m: name 'Print' is not defined"
     ]
    }
   ],
   "source": [
    "Print (\"Fernando\")"
   ]
  },
  {
   "cell_type": "code",
   "execution_count": 3,
   "id": "suspended-bangladesh",
   "metadata": {},
   "outputs": [
    {
     "name": "stdout",
     "output_type": "stream",
     "text": [
      "Fernando\n"
     ]
    }
   ],
   "source": [
    "print (\"Fernando\")"
   ]
  },
  {
   "cell_type": "markdown",
   "id": "fourth-undergraduate",
   "metadata": {},
   "source": []
  },
  {
   "cell_type": "code",
   "execution_count": 4,
   "id": "refined-story",
   "metadata": {},
   "outputs": [
    {
     "name": "stdout",
     "output_type": "stream",
     "text": [
      "Fernando.\n"
     ]
    }
   ],
   "source": [
    "name = \"Fernando.\"\n",
    "print (name)"
   ]
  },
  {
   "cell_type": "code",
   "execution_count": 5,
   "id": "eligible-anthropology",
   "metadata": {},
   "outputs": [
    {
     "name": "stdout",
     "output_type": "stream",
     "text": [
      "Greetings Fernando.\n"
     ]
    }
   ],
   "source": [
    "name = \"Fernando.\"\n",
    "print (\"Greetings\", name)"
   ]
  },
  {
   "cell_type": "code",
   "execution_count": 6,
   "id": "visible-novelty",
   "metadata": {},
   "outputs": [
    {
     "name": "stdout",
     "output_type": "stream",
     "text": [
      "HelloFernando.\n"
     ]
    }
   ],
   "source": [
    "print (\"Hello\" + name)"
   ]
  },
  {
   "cell_type": "code",
   "execution_count": 7,
   "id": "alert-wagon",
   "metadata": {},
   "outputs": [
    {
     "name": "stdout",
     "output_type": "stream",
     "text": [
      "This year I will be 34 years old\n"
     ]
    }
   ],
   "source": [
    "name = \"Fernando\"\n",
    "birthyear = 1987\n",
    "age_this_year = 2021 - birthyear\n",
    "print (f\"This year I will be {age_this_year} years old\")"
   ]
  },
  {
   "cell_type": "code",
   "execution_count": 8,
   "id": "hazardous-packaging",
   "metadata": {},
   "outputs": [
    {
     "name": "stdout",
     "output_type": "stream",
     "text": [
      "Enter your name: Fernando\n",
      "Enter your current empotional feeling: Happy\n",
      "Greetings Fernando are you feeling today Happy.\n"
     ]
    }
   ],
   "source": [
    "name = input (\"Enter your name: \")\n",
    "feeling = input (\"Enter your current empotional feeling: \")\n",
    "print (f\"Greetings {name} are you feeling today {feeling}.\")"
   ]
  },
  {
   "cell_type": "code",
   "execution_count": 9,
   "id": "continued-madness",
   "metadata": {},
   "outputs": [
    {
     "name": "stdout",
     "output_type": "stream",
     "text": [
      "Where do you work: Cisco\n",
      "Greeting, you work in Cisco its a nice company \n"
     ]
    }
   ],
   "source": [
    "company = input (\"Where do you work: \")\n",
    "\n",
    "if company == \"Cisco\":\n",
    "    print (f\"Greeting, you work in {company} its a nice company \")\n",
    "else:\n",
    "    print (f\"You should work in great company like Cisco\")\n",
    "    "
   ]
  },
  {
   "cell_type": "code",
   "execution_count": 10,
   "id": "differential-building",
   "metadata": {},
   "outputs": [
    {
     "name": "stdout",
     "output_type": "stream",
     "text": [
      "Where do you work: HP\n",
      "You should work in great company like Cisco\n"
     ]
    }
   ],
   "source": [
    "company = input (\"Where do you work: \")\n",
    "\n",
    "if company == \"Cisco\":\n",
    "    print (f\"Greeting, you work in {company} its a nice company \")\n",
    "else:\n",
    "    print (f\"You should work in great company like Cisco\")"
   ]
  },
  {
   "cell_type": "code",
   "execution_count": null,
   "id": "greenhouse-southwest",
   "metadata": {},
   "outputs": [],
   "source": []
  },
  {
   "cell_type": "code",
   "execution_count": 12,
   "id": "improved-titanium",
   "metadata": {},
   "outputs": [
    {
     "name": "stdout",
     "output_type": "stream",
     "text": [
      "Where did you use to work: Google\n",
      "You used to be my colleague\n"
     ]
    }
   ],
   "source": [
    "company = input (\"Where did you use to work: \")\n",
    "\n",
    "if company == \"Cisco\":\n",
    "    print (f\"Congratulations, you work in {company} its a nice company \")\n",
    "elif company == \"Google\":\n",
    "    print (f\"You used to be my colleague\")\n",
    "else:\n",
    "    print (f\"You work at good companys\")"
   ]
  },
  {
   "cell_type": "code",
   "execution_count": 13,
   "id": "female-composer",
   "metadata": {},
   "outputs": [
    {
     "name": "stdout",
     "output_type": "stream",
     "text": [
      "I'm Fernando\n"
     ]
    }
   ],
   "source": [
    "print ('I\\'m Fernando')"
   ]
  },
  {
   "cell_type": "code",
   "execution_count": null,
   "id": "waiting-event",
   "metadata": {},
   "outputs": [],
   "source": [
    "name = input (\"What is your name: \")\n",
    "compay = input (\"what is your company: \")\n",
    "\n",
    "if name == \"Fernando\" and company == \"Fernando\":\n",
    "    print (\"It must be you!\")\n",
    "\n",
    "elif name == \"Fernando\" not company == \"Fernando\""
   ]
  }
 ],
 "metadata": {
  "kernelspec": {
   "display_name": "Python 3",
   "language": "python",
   "name": "python3"
  },
  "language_info": {
   "codemirror_mode": {
    "name": "ipython",
    "version": 3
   },
   "file_extension": ".py",
   "mimetype": "text/x-python",
   "name": "python",
   "nbconvert_exporter": "python",
   "pygments_lexer": "ipython3",
   "version": "3.8.6"
  }
 },
 "nbformat": 4,
 "nbformat_minor": 5
}
