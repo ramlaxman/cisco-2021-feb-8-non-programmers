{
 "cells": [
  {
   "cell_type": "code",
   "execution_count": 16,
   "id": "million-anniversary",
   "metadata": {},
   "outputs": [
    {
     "name": "stdout",
     "output_type": "stream",
     "text": [
      "Enter your birth year: 1980\n",
      "Enter birthday: 45\n",
      "Congrats on reaching 45!\n"
     ]
    }
   ],
   "source": [
    "byear = input ('Enter your birth year: ')\n",
    "byear = int(byear)\n",
    "\n",
    "cyear = input ('Enter birthday: ')\n",
    "cyear = int(cyear)\n",
    "\n",
    "if byear - cyear >= 100:\n",
    "    print (f'Congrats on reaching {cyear}!')\n",
    "    \n",
    "elif bye"
   ]
  },
  {
   "cell_type": "code",
   "execution_count": 18,
   "id": "dried-damage",
   "metadata": {},
   "outputs": [
    {
     "name": "stdout",
     "output_type": "stream",
     "text": [
      "Enter a word in English: ball\n"
     ]
    }
   ],
   "source": [
    "w = input ('Enter a word in English: ')\n",
    "s = {w}\n",
    "\n",
    "s:[1]"
   ]
  },
  {
   "cell_type": "code",
   "execution_count": null,
   "id": "southern-velvet",
   "metadata": {},
   "outputs": [],
   "source": []
  }
 ],
 "metadata": {
  "kernelspec": {
   "display_name": "Python 3",
   "language": "python",
   "name": "python3"
  },
  "language_info": {
   "codemirror_mode": {
    "name": "ipython",
    "version": 3
   },
   "file_extension": ".py",
   "mimetype": "text/x-python",
   "name": "python",
   "nbconvert_exporter": "python",
   "pygments_lexer": "ipython3",
   "version": "3.8.6"
  }
 },
 "nbformat": 4,
 "nbformat_minor": 5
}
