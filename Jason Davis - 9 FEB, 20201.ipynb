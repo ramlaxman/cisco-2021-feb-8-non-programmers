{
 "cells": [
  {
   "cell_type": "code",
   "execution_count": 4,
   "id": "useful-spain",
   "metadata": {},
   "outputs": [
    {
     "ename": "SyntaxError",
     "evalue": "invalid syntax (<ipython-input-4-1d542a285c11>, line 7)",
     "output_type": "error",
     "traceback": [
      "\u001b[0;36m  File \u001b[0;32m\"<ipython-input-4-1d542a285c11>\"\u001b[0;36m, line \u001b[0;32m7\u001b[0m\n\u001b[0;31m    if (int)byear - (cyear) >= 100:\u001b[0m\n\u001b[0m            ^\u001b[0m\n\u001b[0;31mSyntaxError\u001b[0m\u001b[0;31m:\u001b[0m invalid syntax\n"
     ]
    }
   ],
   "source": [
    "byear = input ('Enter your birth year: ')\n",
    "cyear = input ('Enter birthday: ')\n",
    "\n",
    "int = ('byear')\n",
    "int = ('cyear')\n",
    "\n",
    "if byear - cyear >= 100:\n",
    "    print (f'Congrats on reaching {cyear}!')"
   ]
  },
  {
   "cell_type": "code",
   "execution_count": null,
   "id": "successful-collective",
   "metadata": {},
   "outputs": [],
   "source": []
  }
 ],
 "metadata": {
  "kernelspec": {
   "display_name": "Python 3",
   "language": "python",
   "name": "python3"
  },
  "language_info": {
   "codemirror_mode": {
    "name": "ipython",
    "version": 3
   },
   "file_extension": ".py",
   "mimetype": "text/x-python",
   "name": "python",
   "nbconvert_exporter": "python",
   "pygments_lexer": "ipython3",
   "version": "3.8.6"
  }
 },
 "nbformat": 4,
 "nbformat_minor": 5
}
