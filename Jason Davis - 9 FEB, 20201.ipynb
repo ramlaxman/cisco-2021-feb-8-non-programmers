{
 "cells": [
  {
   "cell_type": "code",
   "execution_count": 16,
   "id": "continued-cathedral",
   "metadata": {},
   "outputs": [
    {
     "name": "stdout",
     "output_type": "stream",
     "text": [
      "Enter your birth year: 1980\n",
      "Enter birthday: 45\n",
      "Congrats on reaching 45!\n"
     ]
    }
   ],
   "source": [
    "byear = input ('Enter your birth year: ')\n",
    "byear = int(byear)\n",
    "\n",
    "cyear = input ('Enter birthday: ')\n",
    "cyear = int(cyear)\n",
    "\n",
    "if byear - cyear >= 100:\n",
    "    print (f'Congrats on reaching {cyear}!')\n",
    "    \n",
    "elif bye"
   ]
  },
  {
   "cell_type": "code",
   "execution_count": 50,
   "id": "ranging-brain",
   "metadata": {},
   "outputs": [
    {
     "ename": "SyntaxError",
     "evalue": "invalid syntax (<ipython-input-50-5d5bbf8c4da8>, line 8)",
     "output_type": "error",
     "traceback": [
      "\u001b[0;36m  File \u001b[0;32m\"<ipython-input-50-5d5bbf8c4da8>\"\u001b[0;36m, line \u001b[0;32m8\u001b[0m\n\u001b[0;31m    print (s[1:]) , print (s[0] way)\u001b[0m\n\u001b[0m                                ^\u001b[0m\n\u001b[0;31mSyntaxError\u001b[0m\u001b[0;31m:\u001b[0m invalid syntax\n"
     ]
    }
   ],
   "source": [
    "w = input ('Enter a word in English: ')\n",
    "s = w\n",
    "\n",
    "if s[0] in 'aeiou':\n",
    "    print (f'{w}way')\n",
    "    \n",
    "else: \n",
    "    print (s[1:]) + print (s[0] ay)"
   ]
  },
  {
   "cell_type": "code",
   "execution_count": null,
   "id": "frank-interview",
   "metadata": {},
   "outputs": [],
   "source": []
  }
 ],
 "metadata": {
  "kernelspec": {
   "display_name": "Python 3",
   "language": "python",
   "name": "python3"
  },
  "language_info": {
   "codemirror_mode": {
    "name": "ipython",
    "version": 3
   },
   "file_extension": ".py",
   "mimetype": "text/x-python",
   "name": "python",
   "nbconvert_exporter": "python",
   "pygments_lexer": "ipython3",
   "version": "3.8.6"
  }
 },
 "nbformat": 4,
 "nbformat_minor": 5
}
