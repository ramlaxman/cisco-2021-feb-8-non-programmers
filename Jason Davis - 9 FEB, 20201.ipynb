{
 "cells": [
  {
   "cell_type": "code",
   "execution_count": 8,
   "id": "framed-samba",
   "metadata": {},
   "outputs": [
    {
     "ename": "SyntaxError",
     "evalue": "invalid syntax (<ipython-input-8-607388874023>, line 4)",
     "output_type": "error",
     "traceback": [
      "\u001b[0;36m  File \u001b[0;32m\"<ipython-input-8-607388874023>\"\u001b[0;36m, line \u001b[0;32m4\u001b[0m\n\u001b[0;31m    int = (int)byear\u001b[0m\n\u001b[0m               ^\u001b[0m\n\u001b[0;31mSyntaxError\u001b[0m\u001b[0;31m:\u001b[0m invalid syntax\n"
     ]
    }
   ],
   "source": [
    "byear = input ('Enter your birth year: ')\n",
    "cyear = input ('Enter birthday: ')\n",
    "\n",
    "int = (int)byear\n",
    "int = (int)cyear\n",
    "\n",
    "if byear - cyear >= 100:\n",
    "    print (f'Congrats on reaching {cyear}!')"
   ]
  },
  {
   "cell_type": "code",
   "execution_count": 6,
   "id": "starting-helen",
   "metadata": {},
   "outputs": [
    {
     "data": {
      "text/plain": [
       "str"
      ]
     },
     "execution_count": 6,
     "metadata": {},
     "output_type": "execute_result"
    }
   ],
   "source": [
    "type (byear)"
   ]
  },
  {
   "cell_type": "code",
   "execution_count": null,
   "id": "confused-bridges",
   "metadata": {},
   "outputs": [],
   "source": []
  }
 ],
 "metadata": {
  "kernelspec": {
   "display_name": "Python 3",
   "language": "python",
   "name": "python3"
  },
  "language_info": {
   "codemirror_mode": {
    "name": "ipython",
    "version": 3
   },
   "file_extension": ".py",
   "mimetype": "text/x-python",
   "name": "python",
   "nbconvert_exporter": "python",
   "pygments_lexer": "ipython3",
   "version": "3.8.6"
  }
 },
 "nbformat": 4,
 "nbformat_minor": 5
}
