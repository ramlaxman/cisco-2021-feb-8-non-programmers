{
 "cells": [
  {
   "cell_type": "code",
   "execution_count": 16,
   "id": "induced-praise",
   "metadata": {},
   "outputs": [
    {
     "name": "stdout",
     "output_type": "stream",
     "text": [
      "Enter your birth year: 1980\n",
      "Enter birthday: 45\n",
      "Congrats on reaching 45!\n"
     ]
    }
   ],
   "source": [
    "byear = input ('Enter your birth year: ')\n",
    "byear = int(byear)\n",
    "\n",
    "cyear = input ('Enter birthday: ')\n",
    "cyear = int(cyear)\n",
    "\n",
    "if byear - cyear >= 100:\n",
    "    print (f'Congrats on reaching {cyear}!')\n",
    "    \n",
    "elif bye"
   ]
  },
  {
   "cell_type": "code",
   "execution_count": 52,
   "id": "guided-hawaii",
   "metadata": {},
   "outputs": [
    {
     "ename": "SyntaxError",
     "evalue": "EOL while scanning string literal (<ipython-input-52-5ba2bfc9349b>, line 8)",
     "output_type": "error",
     "traceback": [
      "\u001b[0;36m  File \u001b[0;32m\"<ipython-input-52-5ba2bfc9349b>\"\u001b[0;36m, line \u001b[0;32m8\u001b[0m\n\u001b[0;31m    print (f's[1:]) + (s[0]ay)\u001b[0m\n\u001b[0m                              ^\u001b[0m\n\u001b[0;31mSyntaxError\u001b[0m\u001b[0;31m:\u001b[0m EOL while scanning string literal\n"
     ]
    }
   ],
   "source": [
    "w = input ('Enter a word in English: ')\n",
    "s = w\n",
    "\n",
    "if s[0] in 'aeiou':\n",
    "    print (f'{w}way')\n",
    "    \n",
    "else: \n",
    "    print (f's[1:])+(s[0]ay)"
   ]
  },
  {
   "cell_type": "code",
   "execution_count": 90,
   "id": "consolidated-wayne",
   "metadata": {},
   "outputs": [
    {
     "name": "stdout",
     "output_type": "stream",
     "text": [
      "Enter your 1st number: 1\n",
      "Enter your 2nd number: c\n",
      "BAD USER! 1 and c are not numbers!\n"
     ]
    }
   ],
   "source": [
    "n1 = input ('Enter your 1st number: ')\n",
    "n2 = input ('Enter your 2nd number: ')\n",
    "\n",
    "\n",
    "if n1.isdigit() and n2.isdigit():\n",
    "    n1 = int(n1)\n",
    "    n2  = int(n2)\n",
    "    print (f'{n1} + {n2} = {n1+n2}')\n",
    "    \n",
    "elif not n2.isdigit() or not n2.isdigit():\n",
    "    print (f'BAD USER! {n1} and {n2} are not numbers!')\n",
    "    \n",
    "elif not n1.isdigit():\n",
    "    print (f'BAD USER! {n1} is not a number!')\n",
    "    \n",
    "elif not n2.isdigit():\n",
    "    print (f'BAD USER! {n2} is not a number!')   "
   ]
  },
  {
   "cell_type": "code",
   "execution_count": 91,
   "id": "returning-spider",
   "metadata": {},
   "outputs": [
    {
     "data": {
      "text/plain": [
       "'1'"
      ]
     },
     "execution_count": 91,
     "metadata": {},
     "output_type": "execute_result"
    }
   ],
   "source": [
    "n1"
   ]
  },
  {
   "cell_type": "code",
   "execution_count": 92,
   "id": "alleged-nigeria",
   "metadata": {},
   "outputs": [
    {
     "data": {
      "text/plain": [
       "'c'"
      ]
     },
     "execution_count": 92,
     "metadata": {},
     "output_type": "execute_result"
    }
   ],
   "source": [
    "n2"
   ]
  },
  {
   "cell_type": "code",
   "execution_count": 93,
   "id": "convertible-fleece",
   "metadata": {},
   "outputs": [],
   "source": [
    "v = 'aeiou'\n",
    "d = '0-9'\n",
    "o = not {v} and not {d}"
   ]
  },
  {
   "cell_type": "code",
   "execution_count": null,
   "id": "prerequisite-night",
   "metadata": {},
   "outputs": [],
   "source": []
  }
 ],
 "metadata": {
  "kernelspec": {
   "display_name": "Python 3",
   "language": "python",
   "name": "python3"
  },
  "language_info": {
   "codemirror_mode": {
    "name": "ipython",
    "version": 3
   },
   "file_extension": ".py",
   "mimetype": "text/x-python",
   "name": "python",
   "nbconvert_exporter": "python",
   "pygments_lexer": "ipython3",
   "version": "3.8.6"
  }
 },
 "nbformat": 4,
 "nbformat_minor": 5
}
