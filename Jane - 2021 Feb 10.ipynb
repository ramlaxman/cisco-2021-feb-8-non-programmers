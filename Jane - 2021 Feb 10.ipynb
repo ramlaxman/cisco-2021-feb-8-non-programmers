{
 "cells": [
  {
   "cell_type": "code",
   "execution_count": 6,
   "id": "framed-perfume",
   "metadata": {},
   "outputs": [
    {
     "name": "stdout",
     "output_type": "stream",
     "text": [
      "Enter a sentence: this is a test\n",
      "this\n",
      "is\n",
      "a\n",
      "test\n"
     ]
    },
    {
     "ename": "NameError",
     "evalue": "name 'word' is not defined",
     "output_type": "error",
     "traceback": [
      "\u001b[0;31m---------------------------------------------------------------------------\u001b[0m",
      "\u001b[0;31mNameError\u001b[0m                                 Traceback (most recent call last)",
      "\u001b[0;32m<ipython-input-6-bdaf32c7dbab>\u001b[0m in \u001b[0;36m<module>\u001b[0;34m\u001b[0m\n\u001b[1;32m      4\u001b[0m \u001b[0;32mfor\u001b[0m \u001b[0mone_word\u001b[0m \u001b[0;32min\u001b[0m \u001b[0mwords\u001b[0m\u001b[0;34m:\u001b[0m\u001b[0;34m\u001b[0m\u001b[0;34m\u001b[0m\u001b[0m\n\u001b[1;32m      5\u001b[0m     \u001b[0mprint\u001b[0m\u001b[0;34m(\u001b[0m\u001b[0mone_word\u001b[0m\u001b[0;34m)\u001b[0m\u001b[0;34m\u001b[0m\u001b[0;34m\u001b[0m\u001b[0m\n\u001b[0;32m----> 6\u001b[0;31m \u001b[0;32mif\u001b[0m \u001b[0mword\u001b[0m\u001b[0;34m[\u001b[0m\u001b[0;36m0\u001b[0m\u001b[0;34m]\u001b[0m \u001b[0;32min\u001b[0m \u001b[0maeiou\u001b[0m\u001b[0;34m:\u001b[0m\u001b[0;34m\u001b[0m\u001b[0;34m\u001b[0m\u001b[0m\n\u001b[0m\u001b[1;32m      7\u001b[0m     \u001b[0mprint\u001b[0m\u001b[0;34m(\u001b[0m\u001b[0mwords\u001b[0m \u001b[0;34m+\u001b[0m \u001b[0mway\u001b[0m\u001b[0;34m)\u001b[0m\u001b[0;34m\u001b[0m\u001b[0;34m\u001b[0m\u001b[0m\n\u001b[1;32m      8\u001b[0m \u001b[0;32melse\u001b[0m\u001b[0;34m:\u001b[0m\u001b[0;34m\u001b[0m\u001b[0;34m\u001b[0m\u001b[0m\n",
      "\u001b[0;31mNameError\u001b[0m: name 'word' is not defined"
     ]
    }
   ],
   "source": [
    "sentence=input('Enter a sentence: ')\n",
    "words = sentence.split()\n",
    "\n",
    "for one_word in words:\n",
    "    print(one_word)\n",
    "if word[0] in aeiou:\n",
    "    print(words + way)\n",
    "else:\n",
    "    print(word[1:] + word[0] + 'ay')"
   ]
  },
  {
   "cell_type": "code",
   "execution_count": 7,
   "id": "departmental-anger",
   "metadata": {},
   "outputs": [
    {
     "name": "stdout",
     "output_type": "stream",
     "text": [
      "Friendly-traceback installed.\n"
     ]
    }
   ],
   "source": [
    "from friendly_traceback.ipython import *"
   ]
  },
  {
   "cell_type": "code",
   "execution_count": 22,
   "id": "minus-scheduling",
   "metadata": {},
   "outputs": [
    {
     "name": "stdout",
     "output_type": "stream",
     "text": [
      "Enter a sentence: this is a test\n",
      "histay\n",
      "isway\n",
      "away\n",
      "esttay\n"
     ]
    }
   ],
   "source": [
    "sentence=input('Enter a sentence: ')\n",
    "words = sentence.split()\n",
    "\n",
    "for word in words:\n",
    "    if word[0] in 'aeiou':\n",
    "        print(word + 'way')\n",
    "    else:\n",
    "        print(word[1:] + word[0] + 'ay')\n",
    "    \n",
    "  "
   ]
  },
  {
   "cell_type": "code",
   "execution_count": 23,
   "id": "exterior-latin",
   "metadata": {},
   "outputs": [
    {
     "name": "stdout",
     "output_type": "stream",
     "text": [
      "Enter a sentence: this is a test\n"
     ]
    }
   ],
   "source": [
    "mylist = []\n",
    "sentence=input('Enter a sentence: ')\n",
    "words = sentence.split()\n",
    "\n",
    "for word in words:\n",
    "    if word[0] in 'aeiou':\n",
    "        mylist.append(word + 'way')\n",
    "    else:\n",
    "        mylist.append(word[1:] + word[0] + 'ay')"
   ]
  },
  {
   "cell_type": "code",
   "execution_count": 24,
   "id": "minimal-stack",
   "metadata": {},
   "outputs": [
    {
     "data": {
      "text/plain": [
       "['histay', 'isway', 'away', 'esttay']"
      ]
     },
     "execution_count": 24,
     "metadata": {},
     "output_type": "execute_result"
    }
   ],
   "source": [
    "mylist"
   ]
  },
  {
   "cell_type": "code",
   "execution_count": 26,
   "id": "flush-tomorrow",
   "metadata": {},
   "outputs": [
    {
     "name": "stdout",
     "output_type": "stream",
     "text": [
      "Enter a sentence: this is a test\n"
     ]
    },
    {
     "data": {
      "text/plain": [
       "['histay', 'isway', 'away', 'esttay']"
      ]
     },
     "execution_count": 26,
     "metadata": {},
     "output_type": "execute_result"
    }
   ],
   "source": [
    "output = []\n",
    "sentence=input('Enter a sentence: ')\n",
    "words = sentence.split()\n",
    "\n",
    "for word in words:\n",
    "    if word[0] in 'aeiou':\n",
    "        output.append(word + 'way')\n",
    "    else:\n",
    "        output.append(word[1:] + word[0] + 'ay')\n",
    "output"
   ]
  },
  {
   "cell_type": "code",
   "execution_count": 32,
   "id": "prescribed-study",
   "metadata": {},
   "outputs": [
    {
     "name": "stdout",
     "output_type": "stream",
     "text": [
      "Enter a sentence: this is a test\n"
     ]
    },
    {
     "data": {
      "text/plain": [
       "'histay isway away esttay'"
      ]
     },
     "execution_count": 32,
     "metadata": {},
     "output_type": "execute_result"
    }
   ],
   "source": [
    "output = []\n",
    "sentence=input('Enter a sentence: ')\n",
    "words = sentence.split()\n",
    "\n",
    "for word in words:\n",
    "    if word[0] in 'aeiou':\n",
    "        output.append(word + 'way')\n",
    "    else:\n",
    "        output.append(word[1:] + word[0] + 'ay')\n",
    "\n",
    "' '.join(output)\n"
   ]
  },
  {
   "cell_type": "code",
   "execution_count": 34,
   "id": "lyric-hygiene",
   "metadata": {},
   "outputs": [
    {
     "name": "stdout",
     "output_type": "stream",
     "text": [
      "Enter a sentence: this is a test\n",
      "histay isway away esttay\n"
     ]
    }
   ],
   "source": [
    "output = []\n",
    "sentence=input('Enter a sentence: ')\n",
    "words = sentence.split()\n",
    "\n",
    "for word in words:\n",
    "    if word[0] in 'aeiou':\n",
    "        output.append(word + 'way')\n",
    "    else:\n",
    "        output.append(word[1:] + word[0] + 'ay')\n",
    "\n",
    "s = ' '.join(output)\n",
    "print(s)"
   ]
  },
  {
   "cell_type": "code",
   "execution_count": 46,
   "id": "defensive-davis",
   "metadata": {},
   "outputs": [
    {
     "name": "stdout",
     "output_type": "stream",
     "text": [
      "Enter an order: cake\n",
      "20\n",
      "We are out of cake today!\n"
     ]
    }
   ],
   "source": [
    "menu = {'sandwich':10, 'cake':20, 'soup':30}\n",
    "menu['sandwich']\n",
    "\n",
    "order = input('Enter an order: ')\n",
    "\n",
    "if order in 'sandwich':\n",
    "    print(menu['sandwich'])\n",
    "if order in 'cake':\n",
    "    print(menu['cake'])\n",
    "if order in 'soup':\n",
    "    print(menu['soup'])\n",
    "\n",
    "print(f'We are out of {order} today!')\n",
    "\n"
   ]
  },
  {
   "cell_type": "code",
   "execution_count": 51,
   "id": "interpreted-firmware",
   "metadata": {},
   "outputs": [
    {
     "name": "stdout",
     "output_type": "stream",
     "text": [
      "Order: tea\n",
      "We are out of tea today.\n"
     ]
    }
   ],
   "source": [
    "menu = {'sandwich':10, 'cake':20, 'soup':30, 'tea':5}\n",
    "\n",
    "type(menu)\n",
    "\n",
    "order = input('Order: ')\n",
    "if order in menu:\n",
    "    price = menu[order]\n",
    "    # print(f'The price of {order} is {price}.')\n",
    "    print(f'The price of {order} is {menu[order]}.')\n",
    "else:\n",
    "    print(f'We are out of {order} today.')"
   ]
  },
  {
   "cell_type": "code",
   "execution_count": 14,
   "id": "trained-ambassador",
   "metadata": {},
   "outputs": [
    {
     "name": "stdout",
     "output_type": "stream",
     "text": [
      "Order: tea\n",
      "The price of tea is 5.\n",
      "Order: cake\n",
      "The price of cake is 20.\n",
      "Order: \n",
      "total = 25\n"
     ]
    }
   ],
   "source": [
    "total = 0\n",
    "\n",
    "menu = {'sandwich':10, 'cake':20, 'soup':30, 'tea':5}\n",
    "\n",
    "while True:\n",
    "    order = input('Order: ')\n",
    "    if order == '':\n",
    "        break\n",
    "        \n",
    "    if order in menu:\n",
    "        price = menu[order]\n",
    "        print(f'The price of {order} is {price}.')\n",
    "        total += price\n",
    "    \n",
    "    else:\n",
    "        print(f'We are out of {order} today.')\n",
    "        \n",
    "print(f'total = {total}')"
   ]
  },
  {
   "cell_type": "code",
   "execution_count": 16,
   "id": "stone-croatia",
   "metadata": {},
   "outputs": [
    {
     "name": "stdout",
     "output_type": "stream",
     "text": [
      "Enter a string: work\n",
      "{'vowels': 1, 'digits': 0, 'others': 3}\n"
     ]
    }
   ],
   "source": [
    "d = {'vowels':0, 'digits':0, 'others':0}\n",
    "s = input('Enter a string: ')\n",
    "for one_character in s:\n",
    "    if one_character in 'aeiou':\n",
    "        d['vowels'] += 1\n",
    "    elif one_character.isdigit():\n",
    "        d['digits'] += 1\n",
    "    else:\n",
    "        d['others'] += 1\n",
    "print(d)\n"
   ]
  },
  {
   "cell_type": "code",
   "execution_count": 17,
   "id": "identical-coupon",
   "metadata": {},
   "outputs": [
    {
     "name": "stdout",
     "output_type": "stream",
     "text": [
      "Enter a string: this is a test\n",
      "{'t': 3, 'h': 1, 'i': 2, 's': 3, ' ': 3, 'a': 1, 'e': 1}\n"
     ]
    }
   ],
   "source": [
    "counts = {} # empty dict!\n",
    "s = input('Enter a string: ')\n",
    "\n",
    "for one_character in s:\n",
    "    # first time setting this character? Give it a count of 0\n",
    "    if one_character not in counts:\n",
    "        counts[one_character] = 0\n",
    "    counts[one_character] += 1\n",
    "print(counts)\n"
   ]
  },
  {
   "cell_type": "code",
   "execution_count": 21,
   "id": "funded-revelation",
   "metadata": {},
   "outputs": [
    {
     "name": "stdout",
     "output_type": "stream",
     "text": [
      "root:x:0:0:root:/root:/bin/bash\n",
      "daemon:x:1:1:daemon:/usr/sbin:/usr/sbin/nologin\n",
      "bin:x:2:2:bin:/bin:/usr/sbin/nologin\n",
      "sys:x:3:3:sys:/dev:/usr/sbin/nologin\n",
      "sync:x:4:65534:sync:/bin:/bin/sync\n",
      "games:x:5:60:games:/usr/games:/usr/sbin/nologin\n",
      "man:x:6:12:man:/var/cache/man:/usr/sbin/nologin\n",
      "lp:x:7:7:lp:/var/spool/lpd:/usr/sbin/nologin\n",
      "mail:x:8:8:mail:/var/mail:/usr/sbin/nologin\n",
      "news:x:9:9:news:/var/spool/news:/usr/sbin/nologin\n",
      "uucp:x:10:10:uucp:/var/spool/uucp:/usr/sbin/nologin\n",
      "proxy:x:13:13:proxy:/bin:/usr/sbin/nologin\n",
      "www-data:x:33:33:www-data:/var/www:/usr/sbin/nologin\n",
      "backup:x:34:34:backup:/var/backups:/usr/sbin/nologin\n",
      "list:x:38:38:Mailing List Manager:/var/list:/usr/sbin/nologin\n",
      "irc:x:39:39:ircd:/var/run/ircd:/usr/sbin/nologin\n",
      "gnats:x:41:41:Gnats Bug-Reporting System (admin):/var/lib/gnats:/usr/sbin/nologin\n",
      "nobody:x:65534:65534:nobody:/nonexistent:/usr/sbin/nologin\n",
      "systemd-timesync:x:100:101:systemd Time Synchronization,,,:/run/systemd:/usr/sbin/nologin\n",
      "systemd-network:x:101:103:systemd Network Management,,,:/run/systemd:/usr/sbin/nologin\n",
      "systemd-resolve:x:102:104:systemd Resolver,,,:/run/systemd:/usr/sbin/nologin\n",
      "messagebus:x:103:106::/nonexistent:/usr/sbin/nologin\n",
      "syslog:x:104:110::/home/syslog:/usr/sbin/nologin\n",
      "_apt:x:105:65534::/nonexistent:/usr/sbin/nologin\n",
      "tss:x:106:111:TPM software stack,,,:/var/lib/tpm:/bin/false\n",
      "uuidd:x:107:112::/run/uuidd:/usr/sbin/nologin\n",
      "tcpdump:x:108:113::/nonexistent:/usr/sbin/nologin\n",
      "sshd:x:109:65534::/run/sshd:/usr/sbin/nologin\n",
      "landscape:x:110:115::/var/lib/landscape:/usr/sbin/nologin\n",
      "pollinate:x:111:1::/var/cache/pollinate:/bin/false\n",
      "systemd-coredump:x:999:999:systemd Core Dumper:/:/usr/sbin/nologin\n",
      "lxd:x:998:100::/var/snap/lxd/common/lxd:/bin/false\n",
      "student:x:1000:1000:,,,:/home/student:/bin/bash\n"
     ]
    }
   ],
   "source": [
    "f = open('/etc/passwd')\n",
    "for one_line in f:\n",
    "    print(one_line.strip())\n",
    "f.close()"
   ]
  },
  {
   "cell_type": "code",
   "execution_count": 30,
   "id": "outside-details",
   "metadata": {},
   "outputs": [
    {
     "name": "stdout",
     "output_type": "stream",
     "text": [
      "Enter a string: false\n",
      "tss:x:106:111:TPM software stack,,,:/var/lib/tpm:/bin/false\n",
      "pollinate:x:111:1::/var/cache/pollinate:/bin/false\n",
      "lxd:x:998:100::/var/snap/lxd/common/lxd:/bin/false\n"
     ]
    }
   ],
   "source": [
    "f = open('/etc/passwd')\n",
    "look_for=input('Enter a string: ')\n",
    "for one_line in f:\n",
    "    if look_for in one_line:\n",
    "        print(one_line.strip())\n",
    "f.close()"
   ]
  },
  {
   "cell_type": "code",
   "execution_count": null,
   "id": "continued-alberta",
   "metadata": {},
   "outputs": [],
   "source": []
  }
 ],
 "metadata": {
  "kernelspec": {
   "display_name": "Python 3",
   "language": "python",
   "name": "python3"
  },
  "language_info": {
   "codemirror_mode": {
    "name": "ipython",
    "version": 3
   },
   "file_extension": ".py",
   "mimetype": "text/x-python",
   "name": "python",
   "nbconvert_exporter": "python",
   "pygments_lexer": "ipython3",
   "version": "3.8.6"
  }
 },
 "nbformat": 4,
 "nbformat_minor": 5
}
