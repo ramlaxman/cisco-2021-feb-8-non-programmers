{
 "cells": [
  {
   "cell_type": "code",
   "execution_count": 6,
   "id": "breeding-direction",
   "metadata": {},
   "outputs": [
    {
     "name": "stdout",
     "output_type": "stream",
     "text": [
      "Enter a sentence: this is a test\n",
      "this\n",
      "is\n",
      "a\n",
      "test\n"
     ]
    },
    {
     "ename": "NameError",
     "evalue": "name 'word' is not defined",
     "output_type": "error",
     "traceback": [
      "\u001b[0;31m---------------------------------------------------------------------------\u001b[0m",
      "\u001b[0;31mNameError\u001b[0m                                 Traceback (most recent call last)",
      "\u001b[0;32m<ipython-input-6-bdaf32c7dbab>\u001b[0m in \u001b[0;36m<module>\u001b[0;34m\u001b[0m\n\u001b[1;32m      4\u001b[0m \u001b[0;32mfor\u001b[0m \u001b[0mone_word\u001b[0m \u001b[0;32min\u001b[0m \u001b[0mwords\u001b[0m\u001b[0;34m:\u001b[0m\u001b[0;34m\u001b[0m\u001b[0;34m\u001b[0m\u001b[0m\n\u001b[1;32m      5\u001b[0m     \u001b[0mprint\u001b[0m\u001b[0;34m(\u001b[0m\u001b[0mone_word\u001b[0m\u001b[0;34m)\u001b[0m\u001b[0;34m\u001b[0m\u001b[0;34m\u001b[0m\u001b[0m\n\u001b[0;32m----> 6\u001b[0;31m \u001b[0;32mif\u001b[0m \u001b[0mword\u001b[0m\u001b[0;34m[\u001b[0m\u001b[0;36m0\u001b[0m\u001b[0;34m]\u001b[0m \u001b[0;32min\u001b[0m \u001b[0maeiou\u001b[0m\u001b[0;34m:\u001b[0m\u001b[0;34m\u001b[0m\u001b[0;34m\u001b[0m\u001b[0m\n\u001b[0m\u001b[1;32m      7\u001b[0m     \u001b[0mprint\u001b[0m\u001b[0;34m(\u001b[0m\u001b[0mwords\u001b[0m \u001b[0;34m+\u001b[0m \u001b[0mway\u001b[0m\u001b[0;34m)\u001b[0m\u001b[0;34m\u001b[0m\u001b[0;34m\u001b[0m\u001b[0m\n\u001b[1;32m      8\u001b[0m \u001b[0;32melse\u001b[0m\u001b[0;34m:\u001b[0m\u001b[0;34m\u001b[0m\u001b[0;34m\u001b[0m\u001b[0m\n",
      "\u001b[0;31mNameError\u001b[0m: name 'word' is not defined"
     ]
    }
   ],
   "source": [
    "sentence=input('Enter a sentence: ')\n",
    "words = sentence.split()\n",
    "\n",
    "for one_word in words:\n",
    "    print(one_word)\n",
    "if word[0] in aeiou:\n",
    "    print(words + way)\n",
    "else:\n",
    "    print(word[1:] + word[0] + 'ay')"
   ]
  },
  {
   "cell_type": "code",
   "execution_count": 7,
   "id": "alive-andrews",
   "metadata": {},
   "outputs": [
    {
     "name": "stdout",
     "output_type": "stream",
     "text": [
      "Friendly-traceback installed.\n"
     ]
    }
   ],
   "source": [
    "from friendly_traceback.ipython import *"
   ]
  },
  {
   "cell_type": "code",
   "execution_count": 22,
   "id": "popular-petersburg",
   "metadata": {},
   "outputs": [
    {
     "name": "stdout",
     "output_type": "stream",
     "text": [
      "Enter a sentence: this is a test\n",
      "histay\n",
      "isway\n",
      "away\n",
      "esttay\n"
     ]
    }
   ],
   "source": [
    "sentence=input('Enter a sentence: ')\n",
    "words = sentence.split()\n",
    "\n",
    "for word in words:\n",
    "    if word[0] in 'aeiou':\n",
    "        print(word + 'way')\n",
    "    else:\n",
    "        print(word[1:] + word[0] + 'ay')\n",
    "    \n",
    "  "
   ]
  },
  {
   "cell_type": "code",
   "execution_count": 23,
   "id": "appointed-studio",
   "metadata": {},
   "outputs": [
    {
     "name": "stdout",
     "output_type": "stream",
     "text": [
      "Enter a sentence: this is a test\n"
     ]
    }
   ],
   "source": [
    "mylist = []\n",
    "sentence=input('Enter a sentence: ')\n",
    "words = sentence.split()\n",
    "\n",
    "for word in words:\n",
    "    if word[0] in 'aeiou':\n",
    "        mylist.append(word + 'way')\n",
    "    else:\n",
    "        mylist.append(word[1:] + word[0] + 'ay')"
   ]
  },
  {
   "cell_type": "code",
   "execution_count": 24,
   "id": "attractive-contents",
   "metadata": {},
   "outputs": [
    {
     "data": {
      "text/plain": [
       "['histay', 'isway', 'away', 'esttay']"
      ]
     },
     "execution_count": 24,
     "metadata": {},
     "output_type": "execute_result"
    }
   ],
   "source": [
    "mylist"
   ]
  },
  {
   "cell_type": "code",
   "execution_count": 26,
   "id": "annoying-fossil",
   "metadata": {},
   "outputs": [
    {
     "name": "stdout",
     "output_type": "stream",
     "text": [
      "Enter a sentence: this is a test\n"
     ]
    },
    {
     "data": {
      "text/plain": [
       "['histay', 'isway', 'away', 'esttay']"
      ]
     },
     "execution_count": 26,
     "metadata": {},
     "output_type": "execute_result"
    }
   ],
   "source": [
    "output = []\n",
    "sentence=input('Enter a sentence: ')\n",
    "words = sentence.split()\n",
    "\n",
    "for word in words:\n",
    "    if word[0] in 'aeiou':\n",
    "        output.append(word + 'way')\n",
    "    else:\n",
    "        output.append(word[1:] + word[0] + 'ay')\n",
    "output"
   ]
  },
  {
   "cell_type": "code",
   "execution_count": 32,
   "id": "athletic-display",
   "metadata": {},
   "outputs": [
    {
     "name": "stdout",
     "output_type": "stream",
     "text": [
      "Enter a sentence: this is a test\n"
     ]
    },
    {
     "data": {
      "text/plain": [
       "'histay isway away esttay'"
      ]
     },
     "execution_count": 32,
     "metadata": {},
     "output_type": "execute_result"
    }
   ],
   "source": [
    "output = []\n",
    "sentence=input('Enter a sentence: ')\n",
    "words = sentence.split()\n",
    "\n",
    "for word in words:\n",
    "    if word[0] in 'aeiou':\n",
    "        output.append(word + 'way')\n",
    "    else:\n",
    "        output.append(word[1:] + word[0] + 'ay')\n",
    "\n",
    "' '.join(output)\n"
   ]
  },
  {
   "cell_type": "code",
   "execution_count": 34,
   "id": "stable-beast",
   "metadata": {},
   "outputs": [
    {
     "name": "stdout",
     "output_type": "stream",
     "text": [
      "Enter a sentence: this is a test\n",
      "histay isway away esttay\n"
     ]
    }
   ],
   "source": [
    "output = []\n",
    "sentence=input('Enter a sentence: ')\n",
    "words = sentence.split()\n",
    "\n",
    "for word in words:\n",
    "    if word[0] in 'aeiou':\n",
    "        output.append(word + 'way')\n",
    "    else:\n",
    "        output.append(word[1:] + word[0] + 'ay')\n",
    "\n",
    "s = ' '.join(output)\n",
    "print(s)"
   ]
  },
  {
   "cell_type": "code",
   "execution_count": 46,
   "id": "novel-potential",
   "metadata": {},
   "outputs": [
    {
     "name": "stdout",
     "output_type": "stream",
     "text": [
      "Enter an order: cake\n",
      "20\n",
      "We are out of cake today!\n"
     ]
    }
   ],
   "source": [
    "menu = {'sandwich':10, 'cake':20, 'soup':30}\n",
    "menu['sandwich']\n",
    "\n",
    "order = input('Enter an order: ')\n",
    "\n",
    "if order in 'sandwich':\n",
    "    print(menu['sandwich'])\n",
    "if order in 'cake':\n",
    "    print(menu['cake'])\n",
    "if order in 'soup':\n",
    "    print(menu['soup'])\n",
    "\n",
    "print(f'We are out of {order} today!')\n",
    "\n"
   ]
  },
  {
   "cell_type": "code",
   "execution_count": 51,
   "id": "compliant-forge",
   "metadata": {},
   "outputs": [
    {
     "name": "stdout",
     "output_type": "stream",
     "text": [
      "Order: tea\n",
      "We are out of tea today.\n"
     ]
    }
   ],
   "source": [
    "menu = {'sandwich':10, 'cake':20, 'soup':30, 'tea':5}\n",
    "\n",
    "type(menu)\n",
    "\n",
    "order = input('Order: ')\n",
    "if order in menu:\n",
    "    price = menu[order]\n",
    "    # print(f'The price of {order} is {price}.')\n",
    "    print(f'The price of {order} is {menu[order]}.')\n",
    "else:\n",
    "    print(f'We are out of {order} today.')"
   ]
  },
  {
   "cell_type": "code",
   "execution_count": 12,
   "id": "preliminary-field",
   "metadata": {},
   "outputs": [
    {
     "name": "stdout",
     "output_type": "stream",
     "text": [
      "Order: tea\n",
      "The price of tea is 5.\n"
     ]
    },
    {
     "ename": "TypeError",
     "evalue": "unsupported operand type(s) for +: 'set' and 'set'",
     "output_type": "error",
     "traceback": [
      "\u001b[0;31m---------------------------------------------------------------------------\u001b[0m",
      "\u001b[0;31mTypeError\u001b[0m                                 Traceback (most recent call last)",
      "\u001b[0;32m<ipython-input-12-0fb9c2402c5e>\u001b[0m in \u001b[0;36m<module>\u001b[0;34m\u001b[0m\n\u001b[1;32m     11\u001b[0m         \u001b[0mprice\u001b[0m \u001b[0;34m=\u001b[0m \u001b[0mmenu\u001b[0m\u001b[0;34m[\u001b[0m\u001b[0morder\u001b[0m\u001b[0;34m]\u001b[0m\u001b[0;34m\u001b[0m\u001b[0;34m\u001b[0m\u001b[0m\n\u001b[1;32m     12\u001b[0m         \u001b[0mprint\u001b[0m\u001b[0;34m(\u001b[0m\u001b[0;34mf'The price of {order} is {price}.'\u001b[0m\u001b[0;34m)\u001b[0m\u001b[0;34m\u001b[0m\u001b[0;34m\u001b[0m\u001b[0m\n\u001b[0;32m---> 13\u001b[0;31m         \u001b[0mtotal\u001b[0m \u001b[0;34m=\u001b[0m \u001b[0;34m{\u001b[0m\u001b[0mtotal\u001b[0m\u001b[0;34m}\u001b[0m \u001b[0;34m+\u001b[0m \u001b[0;34m{\u001b[0m\u001b[0mprice\u001b[0m\u001b[0;34m}\u001b[0m\u001b[0;34m\u001b[0m\u001b[0;34m\u001b[0m\u001b[0m\n\u001b[0m\u001b[1;32m     14\u001b[0m \u001b[0;34m\u001b[0m\u001b[0m\n\u001b[1;32m     15\u001b[0m     \u001b[0;32melse\u001b[0m\u001b[0;34m:\u001b[0m\u001b[0;34m\u001b[0m\u001b[0;34m\u001b[0m\u001b[0m\n",
      "\u001b[0;31mTypeError\u001b[0m: unsupported operand type(s) for +: 'set' and 'set'"
     ]
    }
   ],
   "source": [
    "total = 0\n",
    "\n",
    "menu = {'sandwich':10, 'cake':20, 'soup':30, 'tea':5}\n",
    "\n",
    "while True:\n",
    "    order = input('Order: ')\n",
    "    if order == '':\n",
    "        break\n",
    "        \n",
    "    if order in menu:\n",
    "        price = menu[order]\n",
    "        print(f'The price of {order} is {price}.')\n",
    "        total = {price}\n",
    "    \n",
    "    else:\n",
    "        print(f'We are out of {order} today.')\n",
    "        \n",
    "print(total)"
   ]
  },
  {
   "cell_type": "code",
   "execution_count": null,
   "id": "advisory-toddler",
   "metadata": {},
   "outputs": [],
   "source": []
  },
  {
   "cell_type": "code",
   "execution_count": null,
   "id": "innovative-hypothetical",
   "metadata": {},
   "outputs": [],
   "source": []
  }
 ],
 "metadata": {
  "kernelspec": {
   "display_name": "Python 3",
   "language": "python",
   "name": "python3"
  },
  "language_info": {
   "codemirror_mode": {
    "name": "ipython",
    "version": 3
   },
   "file_extension": ".py",
   "mimetype": "text/x-python",
   "name": "python",
   "nbconvert_exporter": "python",
   "pygments_lexer": "ipython3",
   "version": "3.8.6"
  }
 },
 "nbformat": 4,
 "nbformat_minor": 5
}
